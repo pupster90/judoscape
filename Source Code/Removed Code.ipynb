{
 "cells": [
  {
   "cell_type": "markdown",
   "metadata": {},
   "source": [
    "# Scratch Paper\n",
    "\n",
    "This is where I hold the test code that I run inside the Visualize notebook"
   ]
  },
  {
   "cell_type": "code",
   "execution_count": 6,
   "metadata": {},
   "outputs": [
    {
     "name": "stdout",
     "output_type": "stream",
     "text": [
      "/root/Documents\n"
     ]
    },
    {
     "data": {
      "text/html": [
       "<script>var py = Jupyter.notebook.kernel</script>"
      ],
      "text/plain": [
       "<IPython.core.display.HTML object>"
      ]
     },
     "metadata": {},
     "output_type": "display_data"
    },
    {
     "data": {
      "text/html": [
       "<style>\n",
       "*{margin:0; padding:0;} html, body,              .container{margin:0;!important padding:0;!important}              .container { width:100% !important;}\n",
       "</style>"
      ],
      "text/plain": [
       "<IPython.core.display.HTML object>"
      ]
     },
     "metadata": {},
     "output_type": "display_data"
    },
    {
     "data": {
      "text/html": [
       "<style>\n",
       "div.text_cell.rendered { /* Customize text cells */\n",
       "    font-size:1.1em;\n",
       "    line-height:1.4em;\n",
       "}\n",
       "</style>"
      ],
      "text/plain": [
       "<IPython.core.display.HTML object>"
      ]
     },
     "metadata": {},
     "output_type": "display_data"
    },
    {
     "data": {
      "text/html": [
       "<style>\n",
       "#notebook-container {\n",
       "    box-shadow: 0px 0px 0px 0px rgba(87, 87, 87, 0.2);\n",
       "}\n",
       "div#notebook {\n",
       "    background-color: White;\n",
       "}\n",
       ".end_space {\n",
       "    background-color: White;\n",
       "}\n",
       "</style>"
      ],
      "text/plain": [
       "<IPython.core.display.HTML object>"
      ]
     },
     "metadata": {},
     "output_type": "display_data"
    },
    {
     "data": {
      "text/html": [
       "<style>\n",
       ".input_prompt {\n",
       "    margin:0;\n",
       "    padding:0;\n",
       "    min-width: 0ex;\n",
       "    font-size:.7em;\n",
       "}\n",
       "div.input_prompt bdi {\n",
       "    display: none;\n",
       "}\n",
       "div.input_prompt i {\n",
       "    font-size: 2em;\n",
       "    opacity: 0.7;\n",
       "}\n",
       "</style>"
      ],
      "text/plain": [
       "<IPython.core.display.HTML object>"
      ]
     },
     "metadata": {},
     "output_type": "display_data"
    },
    {
     "data": {
      "application/javascript": [
       "\n",
       "// Movement between Cells\n",
       "Jupyter.keyboard_manager.command_shortcuts.add_shortcut('-', 'jupyter-notebook:select-previous-cell');\n",
       "Jupyter.keyboard_manager.command_shortcuts.add_shortcut('=', 'jupyter-notebook:select-next-cell');\n",
       "Jupyter.keyboard_manager.command_shortcuts.add_shortcut('shift--', 'jupyter-notebook:extend-selection-above');\n",
       "Jupyter.keyboard_manager.command_shortcuts.add_shortcut('shift-=', 'jupyter-notebook:extend-selection-below');\n",
       "Jupyter.keyboard_manager.command_shortcuts.add_shortcut('alt--', 'jupyter-notebook:move-selection-up');\n",
       "Jupyter.keyboard_manager.command_shortcuts.add_shortcut('alt-=', 'jupyter-notebook:move-selection-down');\n",
       "\n",
       "// Controls Collapssing\n",
       "Jupyter.keyboard_manager.command_shortcuts.add_shortcut(']', 'collapsible_headings:uncollapse_heading');\n",
       "Jupyter.keyboard_manager.command_shortcuts.add_shortcut('[', 'collapsible_headings:collapse_heading');\n",
       "Jupyter.keyboard_manager.command_shortcuts.add_shortcut('shift-]', 'collapsible_headings:uncollapse_all_headings');\n",
       "Jupyter.keyboard_manager.command_shortcuts.add_shortcut('shift-[', 'collapsible_headings:collapse_all_headings');\n",
       "\n",
       " // SKETCHY ONE // Entre command mode\n",
       "Jupyter.keyboard_manager.edit_shortcuts.add_shortcut('shift-6', 'jupyter-notebook:enter-command-mode');\n"
      ],
      "text/plain": [
       "<IPython.core.display.Javascript object>"
      ]
     },
     "metadata": {},
     "output_type": "display_data"
    },
    {
     "data": {
      "text/html": [
       "<style>\n",
       "body {\n",
       "    -webkit-overflow-scrolling: touch;\n",
       "}\n",
       "</style>"
      ],
      "text/plain": [
       "<IPython.core.display.HTML object>"
      ]
     },
     "metadata": {},
     "output_type": "display_data"
    }
   ],
   "source": [
    "%cd /root/Documents    \n",
    "%run \"Source Code/Setup Notebook.ipynb\" #<-- Debug"
   ]
  },
  {
   "cell_type": "markdown",
   "metadata": {},
   "source": [
    "## Most Useful"
   ]
  },
  {
   "cell_type": "code",
   "execution_count": null,
   "metadata": {},
   "outputs": [],
   "source": [
    "import inspect\n",
    "lines = inspect.getsource(checkit.add_class)\n",
    "print(lines)"
   ]
  },
  {
   "cell_type": "code",
   "execution_count": null,
   "metadata": {},
   "outputs": [],
   "source": [
    "JS(\"\"\"\n",
    "//cy.removeListener('tap', handler);\n",
    "//cy.removeListener( \"click\" ) \n",
    "//cy.removeListener( \"tap\" )\n",
    "//cy.removeListener( \"select\" )\n",
    "//cy.removeListener( \"unselect\" )\n",
    "\"\"\")"
   ]
  },
  {
   "cell_type": "code",
   "execution_count": null,
   "metadata": {},
   "outputs": [],
   "source": []
  },
  {
   "cell_type": "markdown",
   "metadata": {},
   "source": [
    "## Other"
   ]
  },
  {
   "cell_type": "markdown",
   "metadata": {},
   "source": [
    "checking observe"
   ]
  },
  {
   "cell_type": "code",
   "execution_count": null,
   "metadata": {},
   "outputs": [],
   "source": [
    "x = []\n",
    "checkit = ipw.FloatText(description=\"label\", continuous_update=True)\n",
    "checkit.myVar=\"howdy\"\n",
    "def checkitFunc(change):\n",
    "        global x\n",
    "        x = change\n",
    "        print(change['new'], type(change['new']))\n",
    "checkit.observe(checkitFunc, names='value')\n",
    "\n",
    "checkit\n",
    "x['new']\n",
    "checkit.get_state"
   ]
  },
  {
   "cell_type": "code",
   "execution_count": null,
   "metadata": {},
   "outputs": [],
   "source": [
    "\n",
    "JS(\n",
    "cyto.layout({ name: 'circle'}).run();\n",
    ")\n"
   ]
  },
  {
   "cell_type": "code",
   "execution_count": null,
   "metadata": {},
   "outputs": [],
   "source": []
  },
  {
   "cell_type": "code",
   "execution_count": null,
   "metadata": {},
   "outputs": [],
   "source": []
  },
  {
   "cell_type": "code",
   "execution_count": null,
   "metadata": {},
   "outputs": [],
   "source": []
  },
  {
   "cell_type": "code",
   "execution_count": null,
   "metadata": {},
   "outputs": [],
   "source": []
  },
  {
   "cell_type": "code",
   "execution_count": null,
   "metadata": {},
   "outputs": [],
   "source": []
  },
  {
   "cell_type": "markdown",
   "metadata": {},
   "source": [
    "# Load Stuff"
   ]
  },
  {
   "cell_type": "code",
   "execution_count": 83,
   "metadata": {},
   "outputs": [
    {
     "name": "stdout",
     "output_type": "stream",
     "text": [
      "/root/Documents\n"
     ]
    },
    {
     "data": {
      "text/html": [
       "<script>var py = Jupyter.notebook.kernel</script>"
      ],
      "text/plain": [
       "<IPython.core.display.HTML object>"
      ]
     },
     "metadata": {},
     "output_type": "display_data"
    },
    {
     "data": {
      "text/html": [
       "\n",
       "<style>\n",
       "*{margin:0; padding:0;} html, body,              .container{margin:0;!important padding:0;!important}              .container { width:100% !important;}\n",
       "\n",
       "div.text_cell_render { /* Customize text cells */\n",
       "    font-size:1.1em;\n",
       "    line-height:1.1em;\n",
       "}\n",
       "\n",
       "</style>\n"
      ],
      "text/plain": [
       "<IPython.core.display.HTML object>"
      ]
     },
     "metadata": {},
     "output_type": "display_data"
    },
    {
     "data": {
      "text/html": [
       "\n",
       "<b style=\"color:red\">Note:</b> Somce cells are <font color=\"gray\">\"grayed out\"</font> with <i style=\"color:blue\">\"Debug\"</i> written next to them.\n",
       "<p>This was done to improve efficiency and to control what is shown in the final notebook. \n",
       "<b>Uncomment these cells</b> when working on hte notebook.</p>\n"
      ],
      "text/plain": [
       "<IPython.core.display.HTML object>"
      ]
     },
     "metadata": {},
     "output_type": "display_data"
    },
    {
     "data": {
      "text/html": [
       "\n",
       "<style>\n",
       "\n",
       "div.text_cell_render h1 { /* Main titles bigger, centered */\n",
       "text-align:center;\n",
       "}\n",
       "\n",
       "\n",
       "\n",
       "div.text_cell_render { /* Customize text cells */\n",
       "padding-left:3em;\n",
       "padding-right:3em;\n",
       "color: rgb(127, 127, 127);\n",
       "}\n",
       "</style>\n"
      ],
      "text/plain": [
       "<IPython.core.display.HTML object>"
      ]
     },
     "metadata": {},
     "output_type": "display_data"
    }
   ],
   "source": [
    "\"\"\" DEBUG \"\"\"\n",
    "%cd /root/Documents    \n",
    "%run \"Source Code/Setup Notebook.ipynb\" #<-- Debug\n",
    "%run \"Source Code/Setup Source.ipynb\"   #<-- Debug"
   ]
  },
  {
   "cell_type": "markdown",
   "metadata": {},
   "source": [
    "# Helper:  <font color=\"blue\">asyncSleep</font> \n",
    "The helper function <font color=\"blue\">asyncSleep</font> allows for a cell to wait while style allowing other python and javascripts to run in the background. The primary use of this is to give enought time for <font color=\"orange\">javascript code</font> to run in the background, before preceding to the next cell."
   ]
  },
  {
   "cell_type": "code",
   "execution_count": null,
   "metadata": {},
   "outputs": [],
   "source": [
    "import asyncio\n",
    "from concurrent.futures import ThreadPoolExecutor\n",
    "\n",
    "aio_pool = ThreadPoolExecutor(1)\n",
    "aio_loop = asyncio.new_event_loop()\n",
    "aio_pool.submit(asyncio.set_event_loop, aio_loop).result()\n",
    "\n",
    "async def mycoro():\n",
    "    await asyncio.sleep(.1)\n",
    "    return \n",
    "\n",
    "def asyncSleep():\n",
    "    aio_pool.submit(aio_loop.run_until_complete, mycoro()).result()"
   ]
  },
  {
   "cell_type": "markdown",
   "metadata": {},
   "source": [
    "# <font color=\"hotpink\">Variables</font>  <font color=\"green\">Widgets</font>  (fancy)\n",
    "\n",
    "These are the variables widgets that I used before I added the *\"Retreive Variables\"* section. While this setup look fancier, it requires the user to do more steps to use. It also requires a lot more code. This si why I removed it."
   ]
  },
  {
   "cell_type": "markdown",
   "metadata": {},
   "source": [
    "### <font color=\"hotpink\">Show Variables</font> "
   ]
  },
  {
   "cell_type": "code",
   "execution_count": null,
   "metadata": {},
   "outputs": [],
   "source": [
    "Graph.w.varBox = ipw.VBox([])\n",
    "Graph.w.varBox"
   ]
  },
  {
   "cell_type": "code",
   "execution_count": null,
   "metadata": {},
   "outputs": [],
   "source": [
    "#print(Graph.w.vars)\n",
    "Graph.w.varBox.vars = [] #<-- where we store list of varBox's labels"
   ]
  },
  {
   "cell_type": "markdown",
   "metadata": {},
   "source": [
    "We Create a way to add variables to the HBox"
   ]
  },
  {
   "cell_type": "code",
   "execution_count": null,
   "metadata": {},
   "outputs": [],
   "source": [
    "def add(label, value):\n",
    "    Graph.w.varBox.vars.append( label ) #<-- labels follow same order as children of varBox\n",
    "    \n",
    "    # We create the row (HBox) that is added to the box of variables\n",
    "    var_label = ipw.HTML(\"<font size=3 style='justify-content: center;'>\"+label+\" : </font>\") \n",
    "    var_value = ipw.Text(value,continuous_update=True) if type(value)== type('') else ipw.FloatText(value,continuous_update=True)\n",
    "    var_btn   = ipw.Button( button_style='danger', description=\"Remove\", layout= ipw.Layout(width='auto') )\n",
    "    var = ipw.HBox([ var_label, var_value, var_btn ])\n",
    "    \n",
    "    # now we setup remove button\n",
    "    var_btn.label = label\n",
    "    def remove(b):\n",
    "        # Remove variable object from  varBox\n",
    "        child_idx = Graph.w.varBox.vars.index(b.label)  #<- index of child\n",
    "        Graph.w.varBox.vars.pop( child_idx )    #<-- remove label from varBox.vars\n",
    "        childs = list(Graph.w.varBox.children)\n",
    "        childs.pop( child_idx )\n",
    "        Graph.w.varBox.children = tuple(childs)\n",
    "        # remove data object from selected elments\n",
    "        display(Javascript(\"\"\"\n",
    "        for( var i=0; i < cy.io.selection.length; i++ ){\n",
    "            var ele = cy.io.selection[i]\n",
    "            ele.removeData('\"\"\"+b.label+\"\"\"')\n",
    "        }\n",
    "        \"\"\"))  \n",
    "    var_btn.on_click( remove )\n",
    "    \n",
    "    # add a Variable Updating Function\n",
    "    var_value.label = label\n",
    "    def update(change):\n",
    "        val =  \"'\"+change['new']+\"'\" if type(change['new'])== type('') else str(change['new'])\n",
    "        display(Javascript(\"\"\"\n",
    "        for( var i=0; i < cy.io.selection.length; i++ ){\n",
    "            var ele = cy.io.selection[i]\n",
    "            ele.data('\"\"\"+change['owner'].label+\"\"\"', \"\"\"+val+\"\"\" )\n",
    "        }\n",
    "        \"\"\"))\n",
    "    var_value.observe( update, names='value')        \n",
    "        \n",
    "    # Add the row to the varBox\n",
    "    Graph.w.varBox.children = Graph.w.varBox.children + (var,)\n",
    "    \n",
    "Graph.w.varBox.add = add  "
   ]
  },
  {
   "cell_type": "markdown",
   "metadata": {},
   "source": [
    "### <font color=\"hotpink\">Add Variable</font> <font color=\"red\">Add Show</font>"
   ]
  },
  {
   "cell_type": "code",
   "execution_count": null,
   "metadata": {},
   "outputs": [],
   "source": [
    "Graph.w.var_add_start = ipw.ToggleButton( button_style='success', icon=\"plus\", layout= ipw.Layout(width='auto') )\n",
    "Graph.w.var_add_name = ipw.Dropdown( options=Graph.w.vars, layout= ipw.Layout(width='10%') )\n",
    "Graph.w.var_add_text = ipw.Text()\n",
    "Graph.w.var_add_num  = ipw.FloatText()\n",
    "Graph.w.var_add_btn = ipw.Button( button_style='primary', description=\"Add\", layout= ipw.Layout(width='auto') )\n",
    "Graph.w.var_add_error = ipw.HTML(\"<h4 class='text-danger'>Empty Text</h4>\", layout= ipw.Layout(visibility='hidden') )\n",
    "\n",
    "Graph.w.var_add = ipw.HBox([ Graph.w.var_add_start, Graph.w.var_add_name, Graph.w.var_add_text, Graph.w.var_add_num,\n",
    "                             Graph.w.var_add_btn, Graph.w.var_add_error  ])\n",
    "Graph.w.var_add.layout.align_items = 'center'\n",
    "\n",
    "for w in Graph.w.var_add.children[1:-1] :  #<-- hides all boxes except \"start button\" and \"error box\" (error box already hidden)\n",
    "    w.layout.display = \"none\" # <--  Other choice is: None\n",
    "Graph.w.var_add"
   ]
  },
  {
   "cell_type": "code",
   "execution_count": null,
   "metadata": {},
   "outputs": [],
   "source": [
    "def setVarName(b):\n",
    "    # TO DO: var_add_name should only display variables that are not already set\n",
    "    \n",
    "    val = Graph.w.var_add_name.value \n",
    "    if Graph.w.var_add_name.value  == 'Number':\n",
    "        Graph.w.var_add_text.layout.display = \"none\"\n",
    "        Graph.w.var_add_num.layout.display = None\n",
    "    else:\n",
    "        Graph.w.var_add_text.layout.display = None\n",
    "        Graph.w.var_add_num.layout.display = \"none\"\n",
    "        \n",
    "    Graph.w.var_add_btn.layout.display = None\n",
    "    \n",
    "Graph.w.var_add_name.observe( setVarName )"
   ]
  },
  {
   "cell_type": "code",
   "execution_count": null,
   "metadata": {},
   "outputs": [],
   "source": [
    "def addVarStart(b):\n",
    "    if Graph.w.var_add_start.value :  #<-- when activated\n",
    "        Graph.w.var_add_start.icon = \"minus\"\n",
    "        Graph.w.var_add_start.button_style = \"danger\"\n",
    "        Graph.w.var_add_name.layout.display = None\n",
    "        Graph.wf.setVarName(\"dummy\")\n",
    "    else:                             #<-- when deactivated\n",
    "        Graph.w.var_add_start.icon = \"plus\"\n",
    "        Graph.w.var_add_start.button_style = \"success\"\n",
    "        for w in reversed(Graph.w.var_add.children[1:-1]) :  #<-- hides elements, used \"reversed\" because it looks better when hiding\n",
    "            w.layout.display = \"none\"\n",
    "        # Reset Boxes\n",
    "        Graph.w.var_add_text.value=''; Graph.w.var_add_num.value=0; Graph.w.var_add_error.layout.visibility='hidden'\n",
    "        \n",
    "Graph.w.var_add_start.observe( addVarStart )"
   ]
  },
  {
   "cell_type": "code",
   "execution_count": null,
   "metadata": {},
   "outputs": [],
   "source": [
    "def addVar(b):\n",
    "    \n",
    "    if Graph.w.var_add_text.value=='' and Graph.w.var_add_name.value=='Text' : #<-- if user didn't write anything, stop function\n",
    "        Graph.w.var_add_error.layout.visibility = 'visible'\n",
    "        return  \n",
    "    val = Graph.w.var_add_text.value if Graph.w.var_add_name.value=='Text' else Graph.w.var_add_num.value\n",
    "    val_js = \"'\"+val+\"'\" if Graph.w.var_add_name.value=='Text' else str(val)\n",
    "\n",
    "    display(Javascript(\"\"\"\n",
    "    for(var i=0; i < cy.io.selection.length; i++ ){\n",
    "        var ele = cy.io.selection[i]\n",
    "        ele.data( '\"\"\"+Graph.w.var_add_name.label+\"\"\"', \"\"\"+val_js+\"\"\" )\n",
    "    }\n",
    "    \"\"\"))\n",
    "    \n",
    "    Graph.w.varBox.add( Graph.w.var_add_name.label, val )\n",
    "\n",
    "Graph.w.var_add_btn.on_click( addVar )"
   ]
  },
  {
   "cell_type": "code",
   "execution_count": null,
   "metadata": {},
   "outputs": [],
   "source": []
  },
  {
   "cell_type": "code",
   "execution_count": null,
   "metadata": {},
   "outputs": [],
   "source": []
  },
  {
   "cell_type": "code",
   "execution_count": null,
   "metadata": {},
   "outputs": [],
   "source": []
  },
  {
   "cell_type": "markdown",
   "metadata": {
    "heading_collapsed": true
   },
   "source": [
    "# Limiting \"Observe\" calls \n",
    "\n",
    "we limit the number of time that \"observe\" is called per second for jupyter functions"
   ]
  },
  {
   "cell_type": "code",
   "execution_count": null,
   "metadata": {
    "hidden": true
   },
   "outputs": [],
   "source": [
    "def size(b):\n",
    "    if time.time() - Graph.w.time > .01:  #<-- make function run only ever 1/10 a second\n",
    "        Graph.w.time = time.time()\n",
    "        values = \"['\"+str(Graph.w.size.value)+\"','\"+str(Graph.w.size.value)+\"']\" #<-- values for changing node's style\n",
    "        display(Javascript(\"\"\"\n",
    "        for( var i=0; i < cy.io.selection.length; i++ ){\n",
    "            var ele = cy.io.selection[i]\n",
    "            if( ele.isNode() ){\n",
    "                cy.io.style.change( ele, [\"width\",\"height\"], \"\"\"+values+\"\"\"   )   \n",
    "            }else{\n",
    "                cy.io.style.change( ele, \"width\", '\"\"\"+str(Graph.w.size.value/6)+\"\"\"'   )   \n",
    "            }\n",
    "        }\n",
    "        \"\"\"))           \n",
    "Graph.wf.size = size\n",
    "Graph.w.size.observe( Graph.wf.size )"
   ]
  },
  {
   "cell_type": "code",
   "execution_count": null,
   "metadata": {
    "hidden": true
   },
   "outputs": [],
   "source": []
  },
  {
   "cell_type": "markdown",
   "metadata": {
    "heading_collapsed": true
   },
   "source": [
    "#  <font color=\"teal\">Style</font> <font color=\"orange\">Functions</font> \n",
    "The following code sets up the <font color=\"orange\">javascript</font> functions/variables that handle the style nodes and edges\n",
    "Create object that holds style stuff. Add to it the default style of nodes and edges"
   ]
  },
  {
   "cell_type": "markdown",
   "metadata": {
    "heading_collapsed": true,
    "hidden": true
   },
   "source": [
    "## <font color=\"orange\">Old Set Style</font>"
   ]
  },
  {
   "cell_type": "code",
   "execution_count": null,
   "metadata": {
    "hidden": true
   },
   "outputs": [],
   "source": [
    "JS(\"\"\"\n",
    "cy.io.style.set = function(ele, self=false){\n",
    "    var style = (ele.isNode() ) ? cy.io.style.node : cy.io.style.edge ;\n",
    "    \n",
    "    if( self == false ){ //<-- set properties of element\n",
    "        for (var property in style ) {\n",
    "            if( style[property] != \"NaNpx\" && !property.includes(\"pie\") ){   // removes error messages from weird stuff in cytoscape.js\n",
    "                ele.style( property, style[property] )\n",
    "           }\n",
    "        }    \n",
    "    }\n",
    "\n",
    "};\n",
    "\"\"\")"
   ]
  },
  {
   "cell_type": "markdown",
   "metadata": {},
   "source": [
    "# Helper: <font color=\"magenta\">JS Box</font>\n",
    "\n",
    "This box was created to solve the a bunch of the glitches with the \"running javascript commands\" **<font color=\"red\">Explain More</font>**"
   ]
  },
  {
   "cell_type": "code",
   "execution_count": null,
   "metadata": {},
   "outputs": [],
   "source": [
    "jsBox = JupyterCell( \"Javascript Box\", \"js_num\" )\n",
    "def run(text):\n",
    "    jsBox.text = text\n",
    "    jsBox.execute()\n",
    "jsBox.run = run"
   ]
  },
  {
   "cell_type": "code",
   "execution_count": null,
   "metadata": {},
   "outputs": [],
   "source": [
    "Javascript(\"alert('howdy ho')\")"
   ]
  },
  {
   "cell_type": "markdown",
   "metadata": {},
   "source": [
    "<font color=\"red\">For debugging</font>"
   ]
  },
  {
   "cell_type": "code",
   "execution_count": null,
   "metadata": {},
   "outputs": [],
   "source": [
    "# Javascript Box\n",
    "JS(jsBox.text) \n",
    "clear_output()"
   ]
  },
  {
   "cell_type": "markdown",
   "metadata": {},
   "source": [
    "# Helper: <font color=\"magenta\">Output</font><font color=\"orange\">.JS</font> <font color=\"red\">unfinished</font>"
   ]
  },
  {
   "cell_type": "markdown",
   "metadata": {},
   "source": [
    "**<font color=\"magenta\">OutputJS</font>** is a very useful <font color=\"magenta\">python class</font>/<font color=\"orange\">javascript function</font> that allows variable to go from: <font color=\"orange\">javascript</font> $\\rightarrow$ <font color=\"blue\">python</font>."
   ]
  },
  {
   "cell_type": "markdown",
   "metadata": {},
   "source": [
    "**Python Code**\n",
    "```python\n",
    "JS(\"OutputJS( 'howdy ho!' )\")\n",
    "OutputJS.var\n",
    "```\n",
    "** Output**\n",
    "```\n",
    "'howdy ho!'\n",
    "```"
   ]
  },
  {
   "cell_type": "code",
   "execution_count": null,
   "metadata": {},
   "outputs": [],
   "source": [
    "class Output():\n",
    "    var = \"\"\n",
    "    JS(\"\"\"\n",
    "    function sleep(ms){ \n",
    "        return new Promise( resolve => setTimeout(resolve, ms)); \n",
    "    }; \n",
    "    \"\"\")\n",
    "    JS(\"\"\"\n",
    "    async function OutputJS(text){ \n",
    "        Jupyter.notebook.kernel.execute( 'Output.var = \"'+String(text)+'\"' );  //<-- write text to python variable: Output.var \n",
    "        count = 1\n",
    "        while( Jupyter.notebook.kernel_busy && count < 25  ){                  //<-- wait for variable to be written, then continue\n",
    "            console.log( Jupyter.notebook.kernel_busy  )\n",
    "            console.log( count )\n",
    "            count += 1\n",
    "            await sleep(100);\n",
    "        }\n",
    "        console.log(\"one more sleep\")\n",
    "        console.log( Jupyter.notebook.kernel_busy )\n",
    "        await sleep(1000);\n",
    "    };  \n",
    "    \"\"\")\n",
    "    \n",
    "    def JS(text):\n",
    "        JS(\"\"\"OutputJS(\"\"\"+text+\"\"\")\"\"\")\n",
    "        time.sleep(.1)\n",
    "        return Output.var\n",
    "        "
   ]
  },
  {
   "cell_type": "code",
   "execution_count": null,
   "metadata": {},
   "outputs": [],
   "source": [
    "Output.var"
   ]
  },
  {
   "cell_type": "code",
   "execution_count": null,
   "metadata": {},
   "outputs": [],
   "source": [
    "JS(\"OutputJS(x)\")\n",
    "time.sleep(10)\n",
    "print(var)"
   ]
  },
  {
   "cell_type": "code",
   "execution_count": null,
   "metadata": {},
   "outputs": [],
   "source": [
    "Output.var"
   ]
  },
  {
   "cell_type": "markdown",
   "metadata": {},
   "source": [
    "## TRY 2"
   ]
  },
  {
   "cell_type": "code",
   "execution_count": null,
   "metadata": {},
   "outputs": [],
   "source": [
    "js_sent = False\n",
    "js_object = {}\n",
    "count = 0"
   ]
  },
  {
   "cell_type": "code",
   "execution_count": null,
   "metadata": {},
   "outputs": [],
   "source": [
    "def commFunc(comm, msg):\n",
    "    @comm.on_msg\n",
    "    def _recv(msg):\n",
    "        global js_sent; global js_object\n",
    "        js_object = msg[\"content\"][\"data\"]\n",
    "        js_sent = True\n",
    "        # Use msg['content']['data'] for the data in the message\n",
    "\n",
    "get_ipython().kernel.comm_manager.register_target('js_comm', commFunc)\n",
    "\n",
    "JS(\"comm = Jupyter.notebook.kernel.comm_manager.new_comm('js_comm',{'foo': 6})\")"
   ]
  },
  {
   "cell_type": "code",
   "execution_count": null,
   "metadata": {},
   "outputs": [],
   "source": [
    "aio_pool = ThreadPoolExecutor(1)\n",
    "aio_loop = asyncio.new_event_loop()\n",
    "aio_pool.submit(asyncio.set_event_loop, aio_loop).result()\n",
    "\n",
    "async def myFunc():\n",
    "    global js_sent; global count\n",
    "    count = 0\n",
    "    while( (not js_sent)  and count<20 ):\n",
    "        time.sleep(.1)\n",
    "        count += 1\n",
    "\n",
    "async def waiter( js_object ):\n",
    "    global js_sent\n",
    "    js_sent = False\n",
    "    JS(\"comm.send(\"+js_object+\")\")    \n",
    "    await commFunc\n",
    "    return\n",
    "     \n",
    "\n",
    "def getJS( text ):\n",
    "    global js_object\n",
    "    aio_pool.submit( aio_loop.run_until_complete, waiter(text)  ).result()\n",
    "    return js_object"
   ]
  },
  {
   "cell_type": "markdown",
   "metadata": {},
   "source": [
    "## Try 3"
   ]
  },
  {
   "cell_type": "code",
   "execution_count": null,
   "metadata": {},
   "outputs": [],
   "source": [
    "def commFunc(comm, msg):\n",
    "    @comm.on_msg\n",
    "    def _recv(msg):\n",
    "        global js_sent; global js_object\n",
    "        js_object = msg[\"content\"][\"data\"]\n",
    "        js_sent = True\n",
    "        # Use msg['content']['data'] for the data in the message\n",
    "\n",
    "get_ipython().kernel.comm_manager.register_target('js_comm', commFunc)\n",
    "JS(\"comm = Jupyter.notebook.kernel.comm_manager.new_comm('js_comm',{'foo': 6})\")"
   ]
  },
  {
   "cell_type": "code",
   "execution_count": null,
   "metadata": {},
   "outputs": [],
   "source": []
  },
  {
   "cell_type": "code",
   "execution_count": null,
   "metadata": {},
   "outputs": [],
   "source": [
    "import asyncio\n",
    "from concurrent.futures import ThreadPoolExecutor\n",
    "import IPython"
   ]
  },
  {
   "cell_type": "code",
   "execution_count": null,
   "metadata": {},
   "outputs": [],
   "source": [
    "aio_pool = ThreadPoolExecutor(1)\n",
    "aio_loop = asyncio.new_event_loop()\n",
    "aio_pool.submit(asyncio.set_event_loop, aio_loop).result()\n",
    "\n",
    "async def myFunc():\n",
    "    global js_sent; global count\n",
    "    count = 0\n",
    "    while( (not js_sent)  and count<20 ):\n",
    "        time.sleep(.1)\n",
    "        count += 1\n",
    "\n",
    "async def waiter( js_object ):\n",
    "    global js_sent\n",
    "    js_sent = False\n",
    "    JS(\"comm.send(\"+js_object+\")\")    \n",
    "    await commFunc\n",
    "    return\n",
    "     \n",
    "\n",
    "def getJS( text ):\n",
    "    global js_object\n",
    "    aio_pool.submit( aio_loop.run_until_complete, waiter(text)  ).result()\n",
    "    return js_object"
   ]
  },
  {
   "cell_type": "code",
   "execution_count": null,
   "metadata": {},
   "outputs": [],
   "source": [
    "JS(\"comm.send({'foo':1})\") "
   ]
  },
  {
   "cell_type": "code",
   "execution_count": null,
   "metadata": {},
   "outputs": [],
   "source": [
    "x = getJS(\"{'foo':6}\")\n",
    "x"
   ]
  },
  {
   "cell_type": "code",
   "execution_count": null,
   "metadata": {},
   "outputs": [],
   "source": [
    "count"
   ]
  },
  {
   "cell_type": "code",
   "execution_count": null,
   "metadata": {},
   "outputs": [],
   "source": [
    "js_sent"
   ]
  },
  {
   "cell_type": "code",
   "execution_count": null,
   "metadata": {},
   "outputs": [],
   "source": [
    "comm."
   ]
  },
  {
   "cell_type": "code",
   "execution_count": null,
   "metadata": {},
   "outputs": [],
   "source": [
    "x= 0\n",
    "print(x)\n",
    "JS(\"Jupyter.notebook.kernel.execute('x=20 ')\")\n",
    "x=1\n",
    "print(x)\n",
    "time.sleep(2)\n",
    "print(x)"
   ]
  },
  {
   "cell_type": "markdown",
   "metadata": {},
   "source": [
    "## ASYNCIO\n",
    "\n",
    "[example](https://github.com/ipython/ipython/issues/11030) and a [tutorial](https://stackabuse.com/python-async-await-tutorial/)\n"
   ]
  },
  {
   "cell_type": "code",
   "execution_count": null,
   "metadata": {},
   "outputs": [],
   "source": []
  },
  {
   "cell_type": "code",
   "execution_count": null,
   "metadata": {},
   "outputs": [],
   "source": [
    "import asyncio\n",
    "from concurrent.futures import ThreadPoolExecutor\n",
    "\n",
    "aio_pool = ThreadPoolExecutor(1)\n",
    "aio_loop = asyncio.new_event_loop()\n",
    "aio_pool.submit(asyncio.set_event_loop, aio_loop).result()\n",
    "\n",
    "async def mycoro():\n",
    "    await asyncio.sleep(1)\n",
    "    return 5\n",
    "\n",
    "result = aio_pool.submit(aio_loop.run_until_complete, mycoro()).result()"
   ]
  },
  {
   "cell_type": "markdown",
   "metadata": {},
   "source": [
    "## COMMS\n",
    "\n",
    "[tutorial](http://jupyter-notebook.readthedocs.io/en/latest/comms.html)"
   ]
  },
  {
   "cell_type": "markdown",
   "metadata": {},
   "source": [
    "## Part 1"
   ]
  },
  {
   "cell_type": "code",
   "execution_count": 20,
   "metadata": {},
   "outputs": [
    {
     "data": {
      "text/html": [
       "<script>Jupyter.notebook.kernel.comm_manager.register_target('my_comm_target', function(comm, msg) {});</script>"
      ],
      "text/plain": [
       "<IPython.core.display.HTML object>"
      ]
     },
     "metadata": {},
     "output_type": "display_data"
    }
   ],
   "source": [
    "JS(\"Jupyter.notebook.kernel.comm_manager.register_target('my_comm_target', function(comm, msg) {});\")"
   ]
  },
  {
   "cell_type": "code",
   "execution_count": 21,
   "metadata": {},
   "outputs": [],
   "source": [
    "from ipykernel.comm import Comm\n",
    "global x\n",
    "\n",
    "# Use comm to send a message from the kernel\n",
    "my_comm = Comm(target_name='my_comm_target')\n",
    "my_comm.send({'foo': 2})\n",
    "\n",
    "# Add a callback for received messages.\n",
    "@my_comm.on_msg\n",
    "def _recv(msg):\n",
    "    x = \"ja\"\n",
    "    # Use msg['content']['data'] for the data in the message"
   ]
  },
  {
   "cell_type": "code",
   "execution_count": 22,
   "metadata": {},
   "outputs": [],
   "source": [
    "my_comm.send({'foo': 2})"
   ]
  },
  {
   "cell_type": "code",
   "execution_count": 15,
   "metadata": {},
   "outputs": [
    {
     "name": "stdout",
     "output_type": "stream",
     "text": [
      "    def open(self, data=None, metadata=None, buffers=None):\n",
      "        \"\"\"Open the frontend-side version of this comm\"\"\"\n",
      "        if data is None:\n",
      "            data = self._open_data\n",
      "        comm_manager = getattr(self.kernel, 'comm_manager', None)\n",
      "        if comm_manager is None:\n",
      "            raise RuntimeError(\"Comms cannot be opened without a kernel \"\n",
      "                        \"and a comm_manager attached to that kernel.\")\n",
      "\n",
      "        comm_manager.register_comm(self)\n",
      "        try:\n",
      "            self._publish_msg('comm_open',\n",
      "                              data=data, metadata=metadata, buffers=buffers,\n",
      "                              target_name=self.target_name,\n",
      "                              target_module=self.target_module,\n",
      "                              )\n",
      "            self._closed = False\n",
      "        except:\n",
      "            comm_manager.unregister_comm(self)\n",
      "            raise\n",
      "\n"
     ]
    }
   ],
   "source": [
    "\n",
    "lines = inspect.getsource(my_comm.open)\n",
    "print(lines)"
   ]
  },
  {
   "cell_type": "code",
   "execution_count": 13,
   "metadata": {},
   "outputs": [
    {
     "data": {
      "text/plain": [
       "<bound method Comm.open of <ipykernel.comm.comm.Comm object at 0x7f5ac4633be0>>"
      ]
     },
     "execution_count": 13,
     "metadata": {},
     "output_type": "execute_result"
    }
   ],
   "source": []
  },
  {
   "cell_type": "code",
   "execution_count": 75,
   "metadata": {},
   "outputs": [],
   "source": [
    "checkit = ipw.FloatText()"
   ]
  },
  {
   "cell_type": "code",
   "execution_count": 76,
   "metadata": {},
   "outputs": [
    {
     "data": {
      "text/plain": [
       "False"
      ]
     },
     "execution_count": 76,
     "metadata": {},
     "output_type": "execute_result"
    }
   ],
   "source": [
    "checkit.continuous_update"
   ]
  },
  {
   "cell_type": "code",
   "execution_count": null,
   "metadata": {},
   "outputs": [],
   "source": []
  },
  {
   "cell_type": "markdown",
   "metadata": {},
   "source": [
    "## Part 2"
   ]
  },
  {
   "cell_type": "code",
   "execution_count": 2,
   "metadata": {},
   "outputs": [],
   "source": []
  },
  {
   "cell_type": "code",
   "execution_count": null,
   "metadata": {},
   "outputs": [],
   "source": [
    "my_comm.comm_id"
   ]
  },
  {
   "cell_type": "code",
   "execution_count": null,
   "metadata": {},
   "outputs": [],
   "source": [
    "my_comm.send({'foo': 2})"
   ]
  },
  {
   "cell_type": "code",
   "execution_count": null,
   "metadata": {},
   "outputs": [],
   "source": [
    "x[\"content\"][\"data\"]"
   ]
  },
  {
   "cell_type": "code",
   "execution_count": null,
   "metadata": {},
   "outputs": [],
   "source": [
    "comm.send({'foo': 5})"
   ]
  },
  {
   "cell_type": "code",
   "execution_count": null,
   "metadata": {},
   "outputs": [],
   "source": [
    "display(\"hello\")"
   ]
  },
  {
   "cell_type": "code",
   "execution_count": null,
   "metadata": {},
   "outputs": [],
   "source": [
    "get_ipython().asdf"
   ]
  },
  {
   "cell_type": "markdown",
   "metadata": {},
   "source": [
    "## Try: 8/13"
   ]
  },
  {
   "cell_type": "markdown",
   "metadata": {},
   "source": [
    "Chekcing if I can get async io to work with a jupyter widget\n",
    "\n",
    "**Idea:** then use \"commm send\" on the JS side to change widget value, and an \"on change\" widget func."
   ]
  },
  {
   "cell_type": "markdown",
   "metadata": {},
   "source": [
    "Tried to do widget inside of async didn't wokr"
   ]
  },
  {
   "cell_type": "code",
   "execution_count": 14,
   "metadata": {},
   "outputs": [
    {
     "data": {
      "application/vnd.jupyter.widget-view+json": {
       "model_id": "21f590c20c2543408362419c589dcd68",
       "version_major": 2,
       "version_minor": 0
      },
      "text/plain": [
       "IntSlider(value=0)"
      ]
     },
     "metadata": {},
     "output_type": "display_data"
    }
   ],
   "source": [
    "global w\n",
    "w = ipw.IntSlider( continuous_update=True)\n",
    "def changeX(b):\n",
    "    x = \n",
    "w.observe( changeX, names=\"value\" )\n",
    "def()           \n",
    "Graph.w.size.observe( size )"
   ]
  },
  {
   "cell_type": "code",
   "execution_count": 26,
   "metadata": {
    "scrolled": true
   },
   "outputs": [
    {
     "data": {
      "application/vnd.jupyter.widget-view+json": {
       "model_id": "8dd0f7f0cf184a6d8f73637868d05cab",
       "version_major": 2,
       "version_minor": 0
      },
      "text/plain": [
       "IntSlider(value=0)"
      ]
     },
     "metadata": {},
     "output_type": "display_data"
    },
    {
     "name": "stdout",
     "output_type": "stream",
     "text": [
      "2\n",
      "32\n",
      "41\n",
      "40\n",
      "43\n",
      "48\n",
      "52\n",
      "58\n",
      "59\n"
     ]
    }
   ],
   "source": [
    "g= 0\n",
    "w = ipw.IntSlider( continuous_update=True )\n",
    "def update(change):\n",
    "    global g\n",
    "    #val =  \"'\"+change['new']+\"'\" if type(change['new'])== type('') else str(change['new'])\n",
    "    g = change['new']\n",
    "    \n",
    "    print(g)\n",
    "w.observe( update, names='value')   \n",
    "display(w)"
   ]
  },
  {
   "cell_type": "markdown",
   "metadata": {},
   "source": [
    "Global Variable with asyncio"
   ]
  },
  {
   "cell_type": "code",
   "execution_count": null,
   "metadata": {},
   "outputs": [],
   "source": [
    "import asyncio\n",
    "import multiprocessing\n",
    "from concurrent.futures import ProcessPoolExecutor\n",
    "from apscheduler.schedulers.asyncio import AsyncIOScheduler\n",
    "from datetime import datetime\n",
    "import time\n",
    "\n",
    "\n",
    "def day_limits():\n",
    "        variable.value = 90\n",
    "        print ('Day Variable: ',variable.value)\n",
    "\n",
    "def night_limits():\n",
    "        variable.value = 65\n",
    "        print ('Night Variable: ',variable.value)\n",
    "\n",
    "\n",
    "def thread_2():\n",
    "    while True:\n",
    "        c_hour = int(datetime.now().strftime(\"%H\"))\n",
    "        c_min = int(datetime.now().strftime(\"%M\"))\n",
    "        c_sec = int(datetime.now().strftime(\"%S\"))\n",
    "\n",
    "        print ('%02d:%02d:%02d - Variable: %d ' % (c_hour,c_min,c_sec,variable.value))\n",
    "\n",
    "        time.sleep(2)\n",
    "\n",
    "\n",
    "if __name__ == \"__main__\":\n",
    "    variable = multiprocessing.Value('i', 60)\n",
    "\n",
    "    scheduler = AsyncIOScheduler()\n",
    "    scheduler.add_job(day_limits, 'cron', hour=7,misfire_grace_time=3600,timezone='GB')\n",
    "    scheduler.add_job(night_limits, 'cron', hour=19, minute=32,misfire_grace_time=3600,timezone='GB')\n",
    "    scheduler.start()\n",
    "\n",
    "    scheduler.print_jobs()"
   ]
  },
  {
   "cell_type": "code",
   "execution_count": 54,
   "metadata": {},
   "outputs": [
    {
     "data": {
      "application/vnd.jupyter.widget-view+json": {
       "model_id": "51663acdbe814a8699c9e958c0b37648",
       "version_major": 2,
       "version_minor": 0
      },
      "text/plain": [
       "IntSlider(value=0)"
      ]
     },
     "metadata": {},
     "output_type": "display_data"
    },
    {
     "name": "stdout",
     "output_type": "stream",
     "text": [
      "60\n",
      "60\n",
      "60\n",
      "60\n",
      "60\n"
     ]
    }
   ],
   "source": [
    "import asyncio\n",
    "from concurrent.futures import ThreadPoolExecutor\n",
    "\n",
    "aio_pool = ThreadPoolExecutor(1)\n",
    "aio_loop = asyncio.new_event_loop()\n",
    "aio_pool.submit(asyncio.set_event_loop, aio_loop).result()\n",
    "\n",
    "async def mycoro():\n",
    "\n",
    "    import multiprocessing\n",
    "    variable = multiprocessing.Value('i', 60)\n",
    "    \n",
    "    # Setup widget\n",
    "    w = ipw.IntSlider( continuous_update=True )\n",
    "    display(w)\n",
    "    def update(change):\n",
    "        variable.value = change['new']\n",
    "    w.observe( update, names='value')  \n",
    "    \n",
    "    # setup async wait\n",
    "    count=0\n",
    "    for i in range(5) :\n",
    "        await asyncio.sleep(.5)\n",
    "        count+= 1\n",
    "        print( variable.value )\n",
    "    return\n",
    "\n",
    "result = aio_pool.submit(aio_loop.run_until_complete, mycoro()).result()"
   ]
  },
  {
   "cell_type": "code",
   "execution_count": null,
   "metadata": {},
   "outputs": [],
   "source": []
  },
  {
   "cell_type": "code",
   "execution_count": null,
   "metadata": {},
   "outputs": [],
   "source": []
  },
  {
   "cell_type": "markdown",
   "metadata": {},
   "source": [
    "Now trying comm inside of widget"
   ]
  },
  {
   "cell_type": "code",
   "execution_count": 101,
   "metadata": {},
   "outputs": [],
   "source": [
    "%gui asyncio"
   ]
  },
  {
   "cell_type": "code",
   "execution_count": 102,
   "metadata": {},
   "outputs": [],
   "source": [
    "%gui asyncio\n",
    "import asyncio\n",
    "def wait_for_change(widget, value):\n",
    "    future = asyncio.Future()\n",
    "    def getvalue(change):\n",
    "        # make the new value available\n",
    "        future.set_result(change.new)\n",
    "        widget.unobserve(getvalue, value)\n",
    "    widget.observe(getvalue, value)\n",
    "    return future"
   ]
  },
  {
   "cell_type": "code",
   "execution_count": 127,
   "metadata": {},
   "outputs": [
    {
     "data": {
      "application/vnd.jupyter.widget-view+json": {
       "model_id": "61b1a5d9741844058efd931c70c84c6e",
       "version_major": 2,
       "version_minor": 0
      },
      "text/plain": [
       "IntSlider(value=0)"
      ]
     },
     "metadata": {},
     "output_type": "display_data"
    },
    {
     "name": "stdout",
     "output_type": "stream",
     "text": [
      "hello\n",
      "DONE\n"
     ]
    }
   ],
   "source": [
    "%gui asyncio\n",
    "def wait_for_change(widget, value):\n",
    "    future = asyncio.Future()\n",
    "    def getvalue(change):\n",
    "        # make the new value available\n",
    "        future.set_result(change.new)\n",
    "        widget.unobserve(getvalue, value)\n",
    "    widget.observe(getvalue, value)\n",
    "    return future\n",
    "\n",
    "from ipywidgets import IntSlider\n",
    "slider = IntSlider()\n",
    "\n",
    "display( slider )\n",
    "async def f():\n",
    "    x = await wait_for_change(slider, 'value')\n",
    "    print(\"DONE\")\n",
    "\n",
    "#result = aio_pool.submit(aio_loop.run_until_complete, asyncio.ensure_future(f()) ).result()\n",
    "#asyncio.run_until_complete, f() ).result()\n",
    "asyncio.ensure_future(f())\n",
    "\n",
    "print(\"hello\")"
   ]
  },
  {
   "cell_type": "code",
   "execution_count": null,
   "metadata": {},
   "outputs": [],
   "source": [
    "print(\"hello a\")"
   ]
  },
  {
   "cell_type": "code",
   "execution_count": null,
   "metadata": {},
   "outputs": [],
   "source": []
  },
  {
   "cell_type": "code",
   "execution_count": 128,
   "metadata": {},
   "outputs": [],
   "source": [
    "from functools import wraps\n",
    "def yield_for_change(widget, attribute):\n",
    "    \"\"\"Pause a generator to wait for a widget change event.\n",
    "\n",
    "    This is a decorator for a generator function which pauses the generator on yield\n",
    "    until the given widget attribute changes. The new value of the attribute is\n",
    "    sent to the generator and is the value of the yield.\n",
    "    \"\"\"\n",
    "    def f(iterator):\n",
    "        @wraps(iterator)\n",
    "        def inner():\n",
    "            i = iterator()\n",
    "            def next_i(change):\n",
    "                try:\n",
    "                    i.send(change.new)\n",
    "                except StopIteration as e:\n",
    "                    widget.unobserve(next_i, attribute)\n",
    "            widget.observe(next_i, attribute)\n",
    "            # start the generator\n",
    "            next(i)\n",
    "        return inner\n",
    "    return f"
   ]
  },
  {
   "cell_type": "code",
   "execution_count": 132,
   "metadata": {},
   "outputs": [
    {
     "data": {
      "application/vnd.jupyter.widget-view+json": {
       "model_id": "843064e9d4914396992f71b1d9b0ade8",
       "version_major": 2,
       "version_minor": 0
      },
      "text/plain": [
       "IntSlider(value=0)"
      ]
     },
     "metadata": {},
     "output_type": "display_data"
    },
    {
     "name": "stdout",
     "output_type": "stream",
     "text": [
      "did work 0\n",
      "generator function continued with value 1\n",
      "did work 1\n",
      "generator function continued with value 100\n",
      "did work 2\n",
      "generator function continued with value 94\n",
      "did work 3\n",
      "generator function continued with value 93\n",
      "did work 4\n",
      "generator function continued with value 40\n",
      "did work 5\n",
      "generator function continued with value 41\n",
      "did work 6\n",
      "generator function continued with value 49\n",
      "did work 7\n",
      "generator function continued with value 61\n",
      "did work 8\n",
      "generator function continued with value 85\n",
      "did work 9\n",
      "generator function continued with value 95\n"
     ]
    }
   ],
   "source": [
    "from ipywidgets import IntSlider, VBox, HTML\n",
    "slider2=IntSlider()\n",
    "\n",
    "@yield_for_change(slider2, 'value')\n",
    "def f():\n",
    "    for i in range(10):\n",
    "        print('did work %s'%i)\n",
    "        x = yield\n",
    "        print('generator function continued with value %s'%x)\n",
    "display(slider2)\n",
    "f()\n",
    "\n"
   ]
  },
  {
   "cell_type": "code",
   "execution_count": null,
   "metadata": {},
   "outputs": [],
   "source": []
  },
  {
   "cell_type": "code",
   "execution_count": null,
   "metadata": {},
   "outputs": [],
   "source": []
  },
  {
   "cell_type": "code",
   "execution_count": null,
   "metadata": {},
   "outputs": [],
   "source": []
  },
  {
   "cell_type": "code",
   "execution_count": 69,
   "metadata": {},
   "outputs": [],
   "source": [
    "def getJS(comm, msg):\n",
    "    @comm.on_msg\n",
    "    def _recv(msg):\n",
    "        #msg['content']['data']\n",
    "        w.value = False\n",
    "        # Use msg['content']['data'] for the data in the message\n",
    "get_ipython().kernel.comm_manager.register_target('getJS', getJS)"
   ]
  },
  {
   "cell_type": "code",
   "execution_count": 70,
   "metadata": {},
   "outputs": [
    {
     "data": {
      "text/html": [
       "<script>\n",
       "comm = Jupyter.notebook.kernel.comm_manager.new_comm('getJS')\n",
       "</script>"
      ],
      "text/plain": [
       "<IPython.core.display.HTML object>"
      ]
     },
     "metadata": {},
     "output_type": "display_data"
    }
   ],
   "source": [
    "JS(\"\"\"\n",
    "comm = Jupyter.notebook.kernel.comm_manager.new_comm('getJS')\n",
    "\"\"\")\n"
   ]
  },
  {
   "cell_type": "code",
   "execution_count": 97,
   "metadata": {},
   "outputs": [
    {
     "data": {
      "application/vnd.jupyter.widget-view+json": {
       "model_id": "adf9a48d2b424c27a4dbb19431333351",
       "version_major": 2,
       "version_minor": 0
      },
      "text/plain": [
       "ToggleButton(value=False)"
      ]
     },
     "metadata": {},
     "output_type": "display_data"
    },
    {
     "name": "stdout",
     "output_type": "stream",
     "text": [
      "howdy\n"
     ]
    },
    {
     "data": {
      "application/javascript": [
       "comm.send( {asdf:2} )"
      ],
      "text/plain": [
       "<IPython.core.display.Javascript object>"
      ]
     },
     "metadata": {},
     "output_type": "display_data"
    },
    {
     "name": "stdout",
     "output_type": "stream",
     "text": [
      "True\n",
      "True\n",
      "True\n",
      "True\n",
      "True\n"
     ]
    }
   ],
   "source": [
    "w = ipw.ToggleButton( )\n",
    "display(w)\n",
    "def update(change):\n",
    "    if w.value :   #<-- first thing to do\n",
    "        print(\"howdy\")\n",
    "        display(Javascript(\"comm.send( {asdf:2} )\"))\n",
    "        \n",
    "        for i in range(5) :\n",
    "            time.sleep(.5)\n",
    "            print( w.value )\n",
    "        \n",
    "    else :\n",
    "        print(\"BACK\")\n",
    "w.observe( update, names='value')\n",
    "w.value = True\n",
    "\n"
   ]
  },
  {
   "cell_type": "code",
   "execution_count": 85,
   "metadata": {},
   "outputs": [
    {
     "data": {
      "text/plain": [
       "False"
      ]
     },
     "execution_count": 85,
     "metadata": {},
     "output_type": "execute_result"
    }
   ],
   "source": [
    "w.value"
   ]
  },
  {
   "cell_type": "code",
   "execution_count": null,
   "metadata": {},
   "outputs": [],
   "source": []
  },
  {
   "cell_type": "code",
   "execution_count": null,
   "metadata": {},
   "outputs": [],
   "source": []
  },
  {
   "cell_type": "code",
   "execution_count": 95,
   "metadata": {},
   "outputs": [
    {
     "data": {
      "text/plain": [
       "<Logger IPKernelApp (WARNING)>"
      ]
     },
     "execution_count": 95,
     "metadata": {},
     "output_type": "execute_result"
    }
   ],
   "source": [
    "w.comm.handle_msg\n",
    "w.comm.class_get_help"
   ]
  },
  {
   "cell_type": "code",
   "execution_count": 100,
   "metadata": {},
   "outputs": [
    {
     "name": "stdout",
     "output_type": "stream",
     "text": [
      "    @contextmanager\n",
      "    def hold_sync(self):\n",
      "        \"\"\"Hold syncing any state until the outermost context manager exits\"\"\"\n",
      "        if self._holding_sync is True:\n",
      "            yield\n",
      "        else:\n",
      "            try:\n",
      "                self._holding_sync = True\n",
      "                yield\n",
      "            finally:\n",
      "                self._holding_sync = False\n",
      "                self.send_state(self._states_to_send)\n",
      "                self._states_to_send.clear()\n",
      "\n"
     ]
    }
   ],
   "source": [
    "lines = inspect.getsource(w.comm.)\n",
    "print(lines)"
   ]
  },
  {
   "cell_type": "code",
   "execution_count": null,
   "metadata": {},
   "outputs": [],
   "source": []
  },
  {
   "cell_type": "code",
   "execution_count": 78,
   "metadata": {},
   "outputs": [
    {
     "ename": "SyntaxError",
     "evalue": "invalid syntax (<ipython-input-78-d30ca64e9fa3>, line 1)",
     "output_type": "error",
     "traceback": [
      "\u001b[0;36m  File \u001b[0;32m\"<ipython-input-78-d30ca64e9fa3>\"\u001b[0;36m, line \u001b[0;32m1\u001b[0m\n\u001b[0;31m    wait asyncio.sleep(1)\u001b[0m\n\u001b[0m               ^\u001b[0m\n\u001b[0;31mSyntaxError\u001b[0m\u001b[0;31m:\u001b[0m invalid syntax\n"
     ]
    }
   ],
   "source": [
    "wait asyncio.sleep(1)"
   ]
  },
  {
   "cell_type": "code",
   "execution_count": 82,
   "metadata": {},
   "outputs": [
    {
     "ename": "SyntaxError",
     "evalue": "invalid syntax (<ipython-input-82-237f3e07c8b5>, line 2)",
     "output_type": "error",
     "traceback": [
      "\u001b[0;36m  File \u001b[0;32m\"<ipython-input-82-237f3e07c8b5>\"\u001b[0;36m, line \u001b[0;32m2\u001b[0m\n\u001b[0;31m    await asyncio.sleep(.5)\u001b[0m\n\u001b[0m                ^\u001b[0m\n\u001b[0;31mSyntaxError\u001b[0m\u001b[0;31m:\u001b[0m invalid syntax\n"
     ]
    }
   ],
   "source": [
    "import asyncio\n",
    "await asyncio.sleep(.5)"
   ]
  },
  {
   "cell_type": "code",
   "execution_count": null,
   "metadata": {},
   "outputs": [],
   "source": []
  },
  {
   "cell_type": "code",
   "execution_count": 16,
   "metadata": {},
   "outputs": [
    {
     "data": {
      "text/plain": [
       "89"
      ]
     },
     "execution_count": 16,
     "metadata": {},
     "output_type": "execute_result"
    }
   ],
   "source": [
    "w.value"
   ]
  },
  {
   "cell_type": "code",
   "execution_count": 34,
   "metadata": {},
   "outputs": [],
   "source": [
    "x = 0\n",
    "def changeX():\n",
    "    global x\n",
    "    x = 1"
   ]
  },
  {
   "cell_type": "code",
   "execution_count": 35,
   "metadata": {},
   "outputs": [
    {
     "data": {
      "text/plain": [
       "1"
      ]
     },
     "execution_count": 35,
     "metadata": {},
     "output_type": "execute_result"
    }
   ],
   "source": [
    "changeX()\n",
    "x"
   ]
  },
  {
   "cell_type": "code",
   "execution_count": null,
   "metadata": {},
   "outputs": [],
   "source": []
  },
  {
   "cell_type": "markdown",
   "metadata": {},
   "source": [
    "## Scratch Paper"
   ]
  },
  {
   "cell_type": "code",
   "execution_count": 72,
   "metadata": {},
   "outputs": [],
   "source": [
    "x\n",
    "def target_func(comm, msg):\n",
    "    # comm is the kernel Comm instance\n",
    "    # msg is the comm_open message\n",
    "\n",
    "    # Register handler for later messages\n",
    "    @comm.on_msg\n",
    "    def _recv(msg):\n",
    "        global x\n",
    "        x = ['content']['data']\n",
    "        # Use msg['content']['data'] for the data in the message\n",
    "\n",
    "    # Send data to the frontend\n",
    "    w = interactive(f, a=10, b=20)\n",
    "    comm.send({'foo': 5})\n",
    "\n",
    "get_ipython().kernel.comm_manager.register_target('my_comm_target', target_func)"
   ]
  },
  {
   "cell_type": "code",
   "execution_count": 33,
   "metadata": {},
   "outputs": [],
   "source": [
    "\n",
    "checkit = get_ipython().get_ipython().kernel.comm_manager\n"
   ]
  },
  {
   "cell_type": "code",
   "execution_count": 37,
   "metadata": {},
   "outputs": [
    {
     "data": {
      "text/plain": [
       "<bound method HasTraits.notify_change of <ipykernel.comm.manager.CommManager object at 0x7f5ac46e59b0>>"
      ]
     },
     "execution_count": 37,
     "metadata": {},
     "output_type": "execute_result"
    }
   ],
   "source": [
    "checkit.notify_change"
   ]
  },
  {
   "cell_type": "code",
   "execution_count": 43,
   "metadata": {},
   "outputs": [],
   "source": [
    "checkit2 = checkit.comms['1fdfd3ee6877412e8c61df98e467c0aa']"
   ]
  },
  {
   "cell_type": "code",
   "execution_count": 71,
   "metadata": {},
   "outputs": [
    {
     "ename": "TypeError",
     "evalue": "trait_metadata() missing 2 required positional arguments: 'traitname' and 'key'",
     "output_type": "error",
     "traceback": [
      "\u001b[0;31m---------------------------------------------------------------------------\u001b[0m",
      "\u001b[0;31mTypeError\u001b[0m                                 Traceback (most recent call last)",
      "\u001b[0;32m<ipython-input-71-5da3fb194b81>\u001b[0m in \u001b[0;36m<module>\u001b[0;34m()\u001b[0m\n\u001b[0;32m----> 1\u001b[0;31m \u001b[0mcheckit2\u001b[0m\u001b[0;34m.\u001b[0m\u001b[0mtrait_metadata\u001b[0m\u001b[0;34m(\u001b[0m\u001b[0;34m)\u001b[0m\u001b[0;34m\u001b[0m\u001b[0m\n\u001b[0m",
      "\u001b[0;31mTypeError\u001b[0m: trait_metadata() missing 2 required positional arguments: 'traitname' and 'key'"
     ]
    }
   ],
   "source": [
    "checkit2.trait_metadata()"
   ]
  },
  {
   "cell_type": "code",
   "execution_count": null,
   "metadata": {},
   "outputs": [],
   "source": []
  },
  {
   "cell_type": "code",
   "execution_count": null,
   "metadata": {},
   "outputs": [],
   "source": []
  },
  {
   "cell_type": "code",
   "execution_count": null,
   "metadata": {},
   "outputs": [],
   "source": [
    "comm = Jupyter.notebook.kernel.comm_manager.new_comm('my_comm_target', {'foo': 6})\n",
    "// Send data\n",
    "comm.send({'foo': 7})\n",
    "\n",
    "// Register a handler\n",
    "comm.on_msg(function(msg) {\n",
    "    console.log(msg.content.data.foo);\n",
    "});"
   ]
  },
  {
   "cell_type": "code",
   "execution_count": 48,
   "metadata": {},
   "outputs": [
    {
     "name": "stdout",
     "output_type": "stream",
     "text": [
      "    @classmethod\n",
      "    def instance(cls, *args, **kwargs):\n",
      "        \"\"\"Returns a global instance of this class.\n",
      "\n",
      "        This method create a new instance if none have previously been created\n",
      "        and returns a previously created instance is one already exists.\n",
      "\n",
      "        The arguments and keyword arguments passed to this method are passed\n",
      "        on to the :meth:`__init__` method of the class upon instantiation.\n",
      "\n",
      "        Examples\n",
      "        --------\n",
      "\n",
      "        Create a singleton class using instance, and retrieve it::\n",
      "\n",
      "            >>> from traitlets.config.configurable import SingletonConfigurable\n",
      "            >>> class Foo(SingletonConfigurable): pass\n",
      "            >>> foo = Foo.instance()\n",
      "            >>> foo == Foo.instance()\n",
      "            True\n",
      "\n",
      "        Create a subclass that is retrived using the base class instance::\n",
      "\n",
      "            >>> class Bar(SingletonConfigurable): pass\n",
      "            >>> class Bam(Bar): pass\n",
      "            >>> bam = Bam.instance()\n",
      "            >>> bam == Bar.instance()\n",
      "            True\n",
      "        \"\"\"\n",
      "        # Create and save the instance\n",
      "        if cls._instance is None:\n",
      "            inst = cls(*args, **kwargs)\n",
      "            # Now make sure that the instance will also be returned by\n",
      "            # parent classes' _instance attribute.\n",
      "            for subclass in cls._walk_mro():\n",
      "                subclass._instance = inst\n",
      "\n",
      "        if isinstance(cls._instance, cls):\n",
      "            return cls._instance\n",
      "        else:\n",
      "            raise MultipleInstanceError(\n",
      "                'Multiple incompatible subclass instances of '\n",
      "                '%s are being created.' % cls.__name__\n",
      "            )\n",
      "\n"
     ]
    }
   ],
   "source": [
    "lines = inspect.getsource(checkit2.kernel.instance)\n",
    "print(lines)"
   ]
  },
  {
   "cell_type": "code",
   "execution_count": null,
   "metadata": {},
   "outputs": [],
   "source": []
  },
  {
   "cell_type": "code",
   "execution_count": 26,
   "metadata": {},
   "outputs": [
    {
     "ename": "IndentationError",
     "evalue": "expected an indented block (<ipython-input-26-2552cd3c2387>, line 11)",
     "output_type": "error",
     "traceback": [
      "\u001b[0;36m  File \u001b[0;32m\"<ipython-input-26-2552cd3c2387>\"\u001b[0;36m, line \u001b[0;32m11\u001b[0m\n\u001b[0;31m    comm.send({'foo': 5})\u001b[0m\n\u001b[0m       ^\u001b[0m\n\u001b[0;31mIndentationError\u001b[0m\u001b[0;31m:\u001b[0m expected an indented block\n"
     ]
    }
   ],
   "source": [
    "def target_func(comm, msg):\n",
    "    # comm is the kernel Comm instance\n",
    "    # msg is the comm_open message\n",
    "\n",
    "    # Register handler for later messages\n",
    "    @comm.on_msg\n",
    "    def _recv(msg):\n",
    "        # Use msg['content']['data'] for the data in the message\n",
    "\n",
    "    # Send data to the frontend\n",
    "    comm.send({'foo': 5})\n",
    "\n",
    "get_ipython().kernel.comm_manager.register_target('my_comm_target', target_func)"
   ]
  },
  {
   "cell_type": "markdown",
   "metadata": {},
   "source": [
    "# IPAD Keyboard"
   ]
  },
  {
   "cell_type": "markdown",
   "metadata": {},
   "source": [
    "Using Juptyer"
   ]
  },
  {
   "cell_type": "code",
   "execution_count": null,
   "metadata": {},
   "outputs": [],
   "source": [
    "JS(\"\"\"\n",
    "Jupyter.keyboard_manager.command_shortcuts.add_shortcut('r', 'jupyter-notebook:change-cell-to-raw');\n",
    "\"\"\")\n"
   ]
  },
  {
   "cell_type": "code",
   "execution_count": null,
   "metadata": {},
   "outputs": [],
   "source": [
    "JS(\"\"\"\n",
    "Jupyter.keyboard_manager.command_shortcuts.remove_shortcut('r');\n",
    "\"\"\")"
   ]
  },
  {
   "cell_type": "code",
   "execution_count": null,
   "metadata": {},
   "outputs": [],
   "source": [
    "\"ctrl-H\""
   ]
  },
  {
   "cell_type": "markdown",
   "metadata": {},
   "source": [
    "Using Raw Javascrip"
   ]
  },
  {
   "cell_type": "code",
   "execution_count": 1,
   "metadata": {},
   "outputs": [
    {
     "data": {
      "application/javascript": [
       "var checkit = function(event) {\n",
       "    console.log( event.which )\n",
       "}\n",
       "$(document).on(\"keydown\", );"
      ],
      "text/plain": [
       "<IPython.core.display.Javascript object>"
      ]
     },
     "metadata": {},
     "output_type": "display_data"
    }
   ],
   "source": [
    "JS(\"\"\"\n",
    "var checkit = function(event) {\n",
    "    console.log( event.which )\n",
    "}\n",
    "$(document).on(\"keydown\", );\n",
    "\"\"\")"
   ]
  },
  {
   "cell_type": "code",
   "execution_count": null,
   "metadata": {},
   "outputs": [],
   "source": [
    "JS(\"\"\"\n",
    "$(document).off(\"keydown\", checkit );\n",
    "\"\"\")"
   ]
  },
  {
   "cell_type": "code",
   "execution_count": null,
   "metadata": {},
   "outputs": [],
   "source": [
    "$(document).on(\"keydown\", function(event) {\n",
    "  if (event.which == 37) {  // Left Arrow Has Been Pressed\n",
    "\n",
    "  } else if (event.which == 38) {               // Up Arrow Has Been Pressed\n",
    "     if( Jupyter.notebook.mode == \"command\"){\n",
    "         Jupyter.notebook.select_prev()\n",
    "     }\n",
    "\n",
    "  } else if (event.which == 39) {  // Right Arrow Has Been Pressed\n",
    "\n",
    "\n",
    "  } else if (event.which == 40) {             // Down Arrow Has Been Pressed\n",
    "     if( Jupyter.notebook.mode == \"command\"){\n",
    "         Jupyter.notebook.select_next()\n",
    "     }\n",
    "  }\n",
    "  // prevent the default action\n",
    "  //event.preventDefault();\n",
    "});"
   ]
  },
  {
   "cell_type": "code",
   "execution_count": null,
   "metadata": {},
   "outputs": [],
   "source": []
  },
  {
   "cell_type": "code",
   "execution_count": null,
   "metadata": {},
   "outputs": [],
   "source": [
    "    $(document).on(\"keydown\", function(event) {\n",
    "      if (event.which == 37) {  // Left Arrow Has Been Pressed\n",
    "        \n",
    "      } else if (event.which == 38) {               // Up Arrow Has Been Pressed\n",
    "         if( Jupyter.notebook.mode == \"command\"){\n",
    "             Jupyter.notebook.select_prev()\n",
    "         }\n",
    "        \n",
    "      } else if (event.which == 39) {  // Right Arrow Has Been Pressed\n",
    "                                     \n",
    "                                     \n",
    "      } else if (event.which == 40) {             // Down Arrow Has Been Pressed\n",
    "         if( Jupyter.notebook.mode == \"command\"){\n",
    "             Jupyter.notebook.select_next()\n",
    "         }\n",
    "      }\n",
    "      // prevent the default action\n",
    "      //event.preventDefault();\n",
    "    });"
   ]
  },
  {
   "cell_type": "code",
   "execution_count": null,
   "metadata": {},
   "outputs": [],
   "source": [
    "%%js\n",
    "if( /Android|webOS|iPhone|iPad|iPod|BlackBerry|IEMobile|Opera Mini/i.test(navigator.userAgent) ) {\n",
    "    $(document).on(\"keydown\", function(event) {\n",
    "      if (event.which == 37) {  // Left Arrow Has Been Pressed\n",
    "        \n",
    "      } else if (event.which == 38) {               // Up Arrow Has Been Pressed\n",
    "         if( Jupyter.notebook.mode == \"command\"){\n",
    "             Jupyter.notebook.select_prev()\n",
    "         }\n",
    "        \n",
    "      } else if (event.which == 39) {  // Right Arrow Has Been Pressed\n",
    "                                     \n",
    "                                     \n",
    "      } else if (event.which == 40) {             // Down Arrow Has Been Pressed\n",
    "         if( Jupyter.notebook.mode == \"command\"){\n",
    "             Jupyter.notebook.select_next()\n",
    "         }\n",
    "      }\n",
    "      // prevent the default action\n",
    "      //event.preventDefault();\n",
    "    });\n",
    "}"
   ]
  },
  {
   "cell_type": "markdown",
   "metadata": {},
   "source": [
    "\n",
    "I wanted to use this to launch key commands from ipad\n",
    "\n",
    "Simple mapping of single key presses"
   ]
  },
  {
   "cell_type": "code",
   "execution_count": null,
   "metadata": {},
   "outputs": [],
   "source": [
    "$(document).on(\"keydown\", function(event) {\n",
    "  if (event.which == 37) {\n",
    "    // Left Arrow Has Been Pressed\n",
    "  } else if (event.which == 38) {\n",
    "    // Up Arrow Has Been Pressed\n",
    "  } else if (event.which == 39) {\n",
    "    // Right Arrow Has Been Pressed\n",
    "  } else if (event.which == 40) {\n",
    "    // Down Arrow Has Been Pressed\n",
    "  }\n",
    "  // prevent the default action\n",
    "  event.preventDefault();\n",
    "});"
   ]
  },
  {
   "cell_type": "markdown",
   "metadata": {},
   "source": [
    "Launching commands from pressing 2 keys, (like Control-E for escaple)"
   ]
  },
  {
   "cell_type": "code",
   "execution_count": null,
   "metadata": {},
   "outputs": [],
   "source": [
    "var map = {68: false, 69: false, 86: false};\n",
    "$(document).keydown(function(e) {\n",
    "    if (e.keyCode in map) {\n",
    "        map[e.keyCode] = true;\n",
    "        if (map[68] && map[69] && map[86]) {\n",
    "            // FIRE EVENT\n",
    "        }\n",
    "    }\n",
    "}).keyup(function(e) {\n",
    "    if (e.keyCode in map) {\n",
    "        map[e.keyCode] = false;\n",
    "    }\n",
    "});"
   ]
  },
  {
   "cell_type": "code",
   "execution_count": null,
   "metadata": {},
   "outputs": [],
   "source": []
  },
  {
   "cell_type": "code",
   "execution_count": null,
   "metadata": {},
   "outputs": [],
   "source": []
  },
  {
   "cell_type": "code",
   "execution_count": null,
   "metadata": {},
   "outputs": [],
   "source": []
  },
  {
   "cell_type": "markdown",
   "metadata": {
    "heading_collapsed": true
   },
   "source": [
    "# Old Widgets"
   ]
  },
  {
   "cell_type": "markdown",
   "metadata": {
    "heading_collapsed": true,
    "hidden": true
   },
   "source": [
    "## <font color=\"green\">Control Panel</font> "
   ]
  },
  {
   "cell_type": "markdown",
   "metadata": {
    "hidden": true
   },
   "source": [
    "**<font color=\"green\">widget : </font>**"
   ]
  },
  {
   "cell_type": "code",
   "execution_count": null,
   "metadata": {
    "hidden": true
   },
   "outputs": [],
   "source": [
    "Graph.w.ControlPanel= widgets.ToggleButtons(\n",
    "    options=[ 'Edit','Search','Graph Style'])\n",
    "#Graph.w.ControlPanel"
   ]
  },
  {
   "cell_type": "markdown",
   "metadata": {
    "hidden": true
   },
   "source": [
    "**<font color=\"blue\">Function : </font>**  <font color=\"blue\">ControlChanged</font> changes the editorBox display when the Control Panel changes."
   ]
  },
  {
   "cell_type": "code",
   "execution_count": null,
   "metadata": {
    "hidden": true
   },
   "outputs": [],
   "source": [
    "def ControlChanged(b):\n",
    "    #widg = Graph.w.ControlPanel.value.replace(\" \", \"\")\n",
    "    #Graph.editor_box.widg = getattr(Graph.w, widg).show\n",
    "    #Graph.editor_box.execute()\n",
    "    #clear_output()\n",
    "    #display(Graph.w.ControlPanel)\n",
    "    pass\n",
    "\n",
    "    \n",
    "Graph.w.ControlPanel.observe( ControlChanged )"
   ]
  },
  {
   "cell_type": "markdown",
   "metadata": {
    "hidden": true
   },
   "source": [
    "How to change button style\n",
    "\n",
    "```python\n",
    "Graph.w.ControlPanel.value = \"Search\"\n",
    "```"
   ]
  },
  {
   "cell_type": "markdown",
   "metadata": {
    "heading_collapsed": true,
    "hidden": true
   },
   "source": [
    "## <font color=\"green\">All nodes</font>"
   ]
  },
  {
   "cell_type": "code",
   "execution_count": null,
   "metadata": {
    "hidden": true
   },
   "outputs": [],
   "source": [
    "Graph.w.Edit.allNodes = ipw.Button(description='All Nodes')"
   ]
  },
  {
   "cell_type": "code",
   "execution_count": null,
   "metadata": {
    "hidden": true
   },
   "outputs": [],
   "source": [
    "def allNodes(b):\n",
    "    JS(\"cy.nodes().select()\")   #<-- delete elements\n",
    "Graph.wf.allNodes = allNodes\n",
    "Graph.w.Edit.allNodes.on_click( Graph.wf.allNodes )"
   ]
  },
  {
   "cell_type": "markdown",
   "metadata": {
    "heading_collapsed": true,
    "hidden": true
   },
   "source": [
    "## <font color=\"green\">All edges</font>"
   ]
  },
  {
   "cell_type": "code",
   "execution_count": null,
   "metadata": {
    "hidden": true
   },
   "outputs": [],
   "source": [
    "Graph.w.Edit.allEdges = ipw.Button(description='All Edges')"
   ]
  },
  {
   "cell_type": "code",
   "execution_count": null,
   "metadata": {
    "hidden": true
   },
   "outputs": [],
   "source": [
    "def allEdges(b):\n",
    "    JS(\"cy.edges().select()\")   #<-- delete elements\n",
    "Graph.wf.allEdges = allEdges\n",
    "Graph.w.Edit.allEdges.on_click( Graph.wf.allEdges )"
   ]
  },
  {
   "cell_type": "code",
   "execution_count": null,
   "metadata": {
    "hidden": true
   },
   "outputs": [],
   "source": []
  },
  {
   "cell_type": "markdown",
   "metadata": {
    "heading_collapsed": true,
    "hidden": true
   },
   "source": [
    "## <font color=\"green\">Add Node</font>"
   ]
  },
  {
   "cell_type": "code",
   "execution_count": null,
   "metadata": {
    "hidden": true
   },
   "outputs": [],
   "source": [
    "Graph.w.AddNode = type(\"widget\",(),{})()"
   ]
  },
  {
   "cell_type": "code",
   "execution_count": null,
   "metadata": {
    "hidden": true
   },
   "outputs": [],
   "source": [
    "Graph.w.AddNode.head = ipw.HTML(\"\"\"<h4>Describe the New Node, then Click <font color=\"blue\">Add</font></h4>\"\"\")\n",
    "Graph.w.AddNode.id = ipw.Text(description='ID :')\n",
    "Graph.w.AddNode.button = ipw.Button(description='Add', button_style='info')\n",
    "Graph.w.AddNode.show = ipw.VBox( [Graph.w.AddNode.head, Graph.w.AddNode.id, Graph.w.AddNode.button ] )\n",
    "Graph.w.AddNode.show"
   ]
  },
  {
   "cell_type": "markdown",
   "metadata": {
    "heading_collapsed": true,
    "hidden": true
   },
   "source": [
    "### <font color=\"blue\">addNode</font>\n",
    "\n",
    "<font color=\"blue\">addNode</font> adds a nodes to the network"
   ]
  },
  {
   "cell_type": "markdown",
   "metadata": {
    "hidden": true
   },
   "source": [
    "**<font color=\"red\">Function NOT Implemented</font>**"
   ]
  },
  {
   "cell_type": "code",
   "execution_count": null,
   "metadata": {
    "hidden": true
   },
   "outputs": [],
   "source": [
    "def AddNode(b):\n",
    "    w_id= Graph.w.AddNode.id.value\n",
    "    JS(\"\"\"\n",
    "    cy.add([\n",
    "      { group: \"nodes\", data: { id: '{w_id}' } , position: { x: 100, y: 200 } },\n",
    "    ]);\n",
    "    \"\"\")\n",
    "Graph.wf.AddNode = AddNode\n",
    "Graph.w.AddNode.button.on_click( Graph.wf.AddNode )  #<-- function when widget is clicked"
   ]
  },
  {
   "cell_type": "code",
   "execution_count": null,
   "metadata": {
    "hidden": true
   },
   "outputs": [],
   "source": []
  },
  {
   "cell_type": "markdown",
   "metadata": {
    "heading_collapsed": true,
    "hidden": true
   },
   "source": [
    "## <font color=\"green\">Add Edge</font>"
   ]
  },
  {
   "cell_type": "code",
   "execution_count": null,
   "metadata": {
    "hidden": true
   },
   "outputs": [],
   "source": [
    "Graph.w.AddEdge = type(\"widget\",(),{})()\n",
    "Graph.w.AddEdge.show = ipw.HTML(\"\"\"<h4 class=\"text-danger\">Widget NOT Implemented</h4>\"\"\")"
   ]
  },
  {
   "cell_type": "markdown",
   "metadata": {
    "hidden": true
   },
   "source": [
    "### <font color=\"blue\">addEdge</font>\n",
    "\n",
    "<font color=\"blue\">addEdge</font> adds an edge to the network"
   ]
  },
  {
   "cell_type": "markdown",
   "metadata": {
    "hidden": true
   },
   "source": [
    "**<font color=\"red\">Function NOT Implemented</font>**"
   ]
  },
  {
   "cell_type": "code",
   "execution_count": null,
   "metadata": {
    "hidden": true
   },
   "outputs": [],
   "source": [
    "def AddEdge(b):#self, source, target, id):\n",
    "    \"\"\"JS(\n",
    "    cy.add([\n",
    "      { group: \"edges\", data: { id: \"e0\", source: \"n0\", target: \"n1\" } }\n",
    "    ]);\n",
    "    )\"\"\"\n",
    "Graph.wf.AddEdge = AddEdge"
   ]
  },
  {
   "cell_type": "code",
   "execution_count": null,
   "metadata": {
    "hidden": true
   },
   "outputs": [],
   "source": []
  },
  {
   "cell_type": "code",
   "execution_count": null,
   "metadata": {
    "hidden": true
   },
   "outputs": [],
   "source": []
  },
  {
   "cell_type": "code",
   "execution_count": null,
   "metadata": {
    "hidden": true
   },
   "outputs": [],
   "source": []
  },
  {
   "cell_type": "code",
   "execution_count": null,
   "metadata": {
    "hidden": true
   },
   "outputs": [],
   "source": []
  },
  {
   "cell_type": "markdown",
   "metadata": {
    "heading_collapsed": true
   },
   "source": [
    "# Previous Default Style\n",
    "\n",
    "This style was what was previously called inside of the **Graph.start** command"
   ]
  },
  {
   "cell_type": "code",
   "execution_count": null,
   "metadata": {
    "hidden": true
   },
   "outputs": [],
   "source": [
    "    style: [ { selector: 'node', style: { 'height': 20, 'width': 20, 'background-color': 'gray' } },\n",
    "     { selector: 'edge', style: { 'width': 5, 'opacity': 0.5, 'line-color': 'gray'} } ]"
   ]
  },
  {
   "cell_type": "code",
   "execution_count": null,
   "metadata": {
    "hidden": true
   },
   "outputs": [],
   "source": []
  },
  {
   "cell_type": "markdown",
   "metadata": {
    "heading_collapsed": true
   },
   "source": [
    "#  JS commands"
   ]
  },
  {
   "cell_type": "markdown",
   "metadata": {
    "hidden": true
   },
   "source": [
    "## <font color=\"orange\">selection Highligh</font>\n",
    "\n",
    "\n",
    "This functions makes the nodes change color when they are selected"
   ]
  },
  {
   "cell_type": "code",
   "execution_count": null,
   "metadata": {
    "hidden": true
   },
   "outputs": [],
   "source": [
    "def selectColor(self):\n",
    "    JS(\"\"\"\n",
    "    cy.on(\"select\", 'node' , function(){\n",
    "        this.style({'background-blacken': .4 });\n",
    "    });\n",
    "    cy.on(\"unselect\", 'node' , function(){\n",
    "        this.style({'background-blacken': 0 });\n",
    "    });\n",
    "    \"\"\")\n",
    "JS_Helper.selectColor = selectColor"
   ]
  },
  {
   "cell_type": "markdown",
   "metadata": {
    "hidden": true
   },
   "source": [
    "## Editor_Box changer (tried to stop flashes)"
   ]
  },
  {
   "cell_type": "code",
   "execution_count": null,
   "metadata": {
    "hidden": true
   },
   "outputs": [],
   "source": [
    "JS(\"\"\"\n",
    "    var check = 0;\n",
    "    var check_var;\n",
    "    cy.io.last_type = \"Nothing\";\n",
    "\n",
    "    cy.io.test = function(event){\n",
    "        cy.io.selection = cy.$(':selected')                 //<-- Get selected elements\n",
    "        cy.io.last_type = cy.io.select_type \n",
    "         \n",
    "        if( cy.io.selection.length == 0  ){                 //<-- Do nothing if nothing's selected\n",
    "            return\n",
    "        } else if( cy.io.selection.length == 1 ){           //<-- If selection lenght is 1\n",
    "        \n",
    "            if( cy.io.selection.isNode() && cy.io.last_type != \"1 node\" ){                      //<-- If it's a node\n",
    "                console.log(\"selection changed\")\n",
    "                cy.io.select_type = \"1 node\"\n",
    "                Jupyter.notebook.kernel.execute(\"Graph.editor_box.widg = Graph.w.Edit.boxAll\")\n",
    "                IPython.notebook.execute_cells([cy.io.edit_num])  //<-- cy.io.edit_num was setup by the Graph.editor_box\n",
    "                \n",
    "            } else if(  cy.io.last_type != \"1 edge\" ){                                              //<-- If it's an edge\n",
    "                cy.io.select_type = \"1 edge\"\n",
    "                Jupyter.notebook.kernel.execute(\"Graph.editor_box.widg = Graph.w.Edit.boxAll\")\n",
    "                IPython.notebook.execute_cells([cy.io.edit_num])  //<-- cy.io.edit_num was setup by the Graph.editor_box\n",
    "            }\n",
    "            \n",
    "        } else {                                           //<-- If Many elements\n",
    "            console.log(\"many items\")\n",
    "        }\n",
    "        \n",
    "    };\n",
    "\n",
    "    cy.on('select unselect', 'node, edge', cy.io.test );\n",
    "\"\"\")"
   ]
  },
  {
   "cell_type": "markdown",
   "metadata": {
    "hidden": true
   },
   "source": [
    "## When Testing Stuff:"
   ]
  },
  {
   "cell_type": "markdown",
   "metadata": {
    "hidden": true
   },
   "source": [
    "TEST: Add nodes"
   ]
  },
  {
   "cell_type": "code",
   "execution_count": null,
   "metadata": {
    "cell_style": "center",
    "hidden": true
   },
   "outputs": [],
   "source": [
    "JS(\"\"\"\n",
    "    cy.add([\n",
    "      { group: \"nodes\" },\n",
    "    ]);\n",
    "    \n",
    "    cy.layout({ name: 'circle'}).run();\n",
    "\"\"\")"
   ]
  },
  {
   "cell_type": "markdown",
   "metadata": {
    "hidden": true
   },
   "source": [
    "TEST: Get clicked node info to console"
   ]
  },
  {
   "cell_type": "code",
   "execution_count": null,
   "metadata": {
    "hidden": true
   },
   "outputs": [],
   "source": [
    "JS(\"\"\"\n",
    "\n",
    "cy.nodes().on(\"click\", function(){\n",
    "  console.log( this )\n",
    "});\n",
    "\"\"\")"
   ]
  },
  {
   "cell_type": "markdown",
   "metadata": {
    "hidden": true
   },
   "source": [
    "TEST: get more specific node info:"
   ]
  },
  {
   "cell_type": "code",
   "execution_count": null,
   "metadata": {
    "hidden": true
   },
   "outputs": [],
   "source": [
    "JS(\"\"\"\n",
    "\n",
    "cy.nodes().on(\"click\", function(){\n",
    "  console.log( this.data() );\n",
    "  console.log( \" \" );console.log( \" \" );\n",
    "  console.log( this.style );\n",
    "});\n",
    "\"\"\")"
   ]
  },
  {
   "cell_type": "markdown",
   "metadata": {
    "hidden": true
   },
   "source": [
    "TEST: Change color on click"
   ]
  },
  {
   "cell_type": "code",
   "execution_count": null,
   "metadata": {
    "hidden": true
   },
   "outputs": [],
   "source": [
    "JS(\"\"\"\n",
    "\n",
    "cy.nodes().on(\"click\", function(){\n",
    "    this.style('background-color', 'magenta');\n",
    "});\n",
    "\"\"\")"
   ]
  },
  {
   "cell_type": "markdown",
   "metadata": {
    "hidden": true
   },
   "source": [
    "TEST: Another color change"
   ]
  },
  {
   "cell_type": "code",
   "execution_count": null,
   "metadata": {
    "hidden": true
   },
   "outputs": [],
   "source": [
    "JS(\"\"\"\n",
    "\n",
    "cy.nodes().on(\"click\", function(){\n",
    "    this.style({'background-color': 'blue'});\n",
    "});\n",
    "\"\"\")"
   ]
  },
  {
   "cell_type": "markdown",
   "metadata": {
    "hidden": true
   },
   "source": [
    "TEST: Get node position"
   ]
  },
  {
   "cell_type": "code",
   "execution_count": null,
   "metadata": {
    "hidden": true
   },
   "outputs": [],
   "source": [
    "JS(\"\"\"\n",
    "\n",
    "cy.nodes().on(\"click\", function(){\n",
    "    console.log( this.position() )\n",
    "});\n",
    "\"\"\")"
   ]
  },
  {
   "cell_type": "code",
   "execution_count": null,
   "metadata": {
    "hidden": true
   },
   "outputs": [],
   "source": [
    "JS(\"\"\"\n",
    "\n",
    "cy.nodes().on(\"click\", function(){\n",
    "    console.log( this.style() )\n",
    "});\n",
    "\"\"\")\n",
    "\n"
   ]
  },
  {
   "cell_type": "markdown",
   "metadata": {
    "hidden": true
   },
   "source": [
    "TEST: Remove Listeners"
   ]
  },
  {
   "cell_type": "code",
   "execution_count": null,
   "metadata": {
    "hidden": true
   },
   "outputs": [],
   "source": [
    "JS(\"\"\"\n",
    "cy.nodes().removeListener( \"click\" )\n",
    "cy.nodes().removeListener( \"select\" )\n",
    "cy.removeListener( \"tap\" )\n",
    "\"\"\")"
   ]
  },
  {
   "cell_type": "markdown",
   "metadata": {
    "hidden": true
   },
   "source": [
    "TEST: Selected Element"
   ]
  },
  {
   "cell_type": "code",
   "execution_count": null,
   "metadata": {
    "hidden": true
   },
   "outputs": [],
   "source": [
    "JS(\"\"\"\n",
    "console.log( cy.$(':selected') )\n",
    "\"\"\")"
   ]
  },
  {
   "cell_type": "markdown",
   "metadata": {
    "hidden": true
   },
   "source": [
    "TEST: Jquery commands [Things you can search for](http://js.cytoscape.org/#notation/elements-json) ... [Mayber things u search for?](http://js.cytoscape.org/#selectors/state)"
   ]
  },
  {
   "cell_type": "code",
   "execution_count": null,
   "metadata": {
    "hidden": true
   },
   "outputs": [],
   "source": [
    "JS(\"\"\"\n",
    "console.log( cy.$(':selectable') )\n",
    "\"\"\")"
   ]
  },
  {
   "cell_type": "markdown",
   "metadata": {
    "hidden": true
   },
   "source": [
    "**TEST: Change Something on select [Things you can select](http://js.cytoscape.org/#events/user-input-device-events)**"
   ]
  },
  {
   "cell_type": "code",
   "execution_count": null,
   "metadata": {
    "hidden": true
   },
   "outputs": [],
   "source": [
    "JS(\"\"\"\n",
    "\n",
    "cy.nodes().removeListener( \"select\" )\n",
    "\n",
    "cy.nodes().on(\"select\", function(){\n",
    "    this.style({'background-blacken': .3 });\n",
    "});\n",
    "\n",
    "cy.nodes().on(\"unselect\", function(){\n",
    "    this.style({'background-blacken': 0 });\n",
    "});\n",
    "\"\"\")"
   ]
  },
  {
   "cell_type": "markdown",
   "metadata": {
    "hidden": true
   },
   "source": [
    "** TEST: Add nodes when clicking **"
   ]
  },
  {
   "cell_type": "code",
   "execution_count": null,
   "metadata": {
    "hidden": true
   },
   "outputs": [],
   "source": [
    "JS(\"\"\"\n",
    "    var checkit;\n",
    "    \n",
    "    \n",
    "    cy.removeListener( \"tap\" )            // <-- Clears all previous cy \"tap\" evens\n",
    "    cy.on('tap', function(event){        // <-- on \"tapping\" canvas\n",
    "      if( event.target === cy ){         // <-- If we tapped on the background\n",
    "\n",
    "          checkit = cy.add([ {  group: \"nodes\", position: event.position  } ]);            \n",
    "\n",
    "      } \n",
    "    });\n",
    "\"\"\")"
   ]
  },
  {
   "cell_type": "markdown",
   "metadata": {
    "hidden": true
   },
   "source": [
    "**TEST: Add Edge on double click**"
   ]
  },
  {
   "cell_type": "code",
   "execution_count": null,
   "metadata": {
    "hidden": true
   },
   "outputs": [],
   "source": [
    "JS(\"\"\"\n",
    "cy.removeListener( \"tap\" )  \n",
    "\"\"\")"
   ]
  },
  {
   "cell_type": "code",
   "execution_count": null,
   "metadata": {
    "hidden": true
   },
   "outputs": [],
   "source": [
    "JS(\"\"\"\n",
    "    cy.io.click_hist = [\"1\", \"2\", \"3\", \"4\"];\n",
    "    \n",
    "    cy.removeListener( \"click\" )                               // <-- Clears all previous cy \"tap\" evens\n",
    "    cy.on(\"click\" , function(event){                              // <-- on \"tapping\" canvas\n",
    "    \n",
    "      cy.io.click_hist.shift();                                         //<-- Remove oldest click\n",
    "      \n",
    "      if( event.target !== cy && event.target.isNode() ){         // <-- If we tapped a Node\n",
    "          cy.io.click_hist.push( event.target.id() );                  // <-- Add node id to click history\n",
    "          \n",
    "          if( cy.io.click_hist[0]==cy.io.click_hist[1] && cy.io.click_hist[2]==cy.io.click_hist[3] ){      //<-- If 2 double clicks\n",
    "              \n",
    "              cy.add([ {  data: { source: cy.io.click_hist[0], target: cy.io.click_hist[2] }  } ]); //<-- add edge\n",
    "          }\n",
    "          \n",
    "          \n",
    "      }else{                                           //<-- if we didn't click a node\n",
    "          cy.io.click_hist.push( String(Math.random()) );   //<-- Add random string to click history (repeats unlikely)\n",
    "      \n",
    "      } \n",
    "      \n",
    "    });\n",
    "\"\"\")"
   ]
  }
 ],
 "metadata": {
  "hide_input": false,
  "kernelspec": {
   "display_name": "Python 3",
   "language": "python",
   "name": "python3"
  },
  "language_info": {
   "codemirror_mode": {
    "name": "ipython",
    "version": 3
   },
   "file_extension": ".py",
   "mimetype": "text/x-python",
   "name": "python",
   "nbconvert_exporter": "python",
   "pygments_lexer": "ipython3",
   "version": "3.6.5"
  },
  "toc": {
   "base_numbering": 1,
   "nav_menu": {},
   "number_sections": true,
   "sideBar": true,
   "skip_h1_title": false,
   "title_cell": "Table of Contents",
   "title_sidebar": "Contents",
   "toc_cell": false,
   "toc_position": {},
   "toc_section_display": true,
   "toc_window_display": false
  },
  "varInspector": {
   "cols": {
    "lenName": 16,
    "lenType": 16,
    "lenVar": 40
   },
   "kernels_config": {
    "python": {
     "delete_cmd_postfix": "",
     "delete_cmd_prefix": "del ",
     "library": "var_list.py",
     "varRefreshCmd": "print(var_dic_list())"
    },
    "r": {
     "delete_cmd_postfix": ") ",
     "delete_cmd_prefix": "rm(",
     "library": "var_list.r",
     "varRefreshCmd": "cat(var_dic_list()) "
    }
   },
   "types_to_exclude": [
    "module",
    "function",
    "builtin_function_or_method",
    "instance",
    "_Feature"
   ],
   "window_display": false
  }
 },
 "nbformat": 4,
 "nbformat_minor": 2
}
