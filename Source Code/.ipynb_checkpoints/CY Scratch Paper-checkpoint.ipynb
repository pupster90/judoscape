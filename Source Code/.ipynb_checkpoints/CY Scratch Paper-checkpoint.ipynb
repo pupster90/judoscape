{
 "cells": [
  {
   "cell_type": "code",
   "execution_count": null,
   "metadata": {},
   "outputs": [],
   "source": []
  },
  {
   "cell_type": "markdown",
   "metadata": {},
   "source": [
    "## Testing Cytoscape.js"
   ]
  },
  {
   "cell_type": "markdown",
   "metadata": {},
   "source": [
    "TEST: Add nodes"
   ]
  },
  {
   "cell_type": "code",
   "execution_count": 22,
   "metadata": {
    "cell_style": "center"
   },
   "outputs": [
    {
     "data": {
      "text/html": [
       "<script>\n",
       "    cy.add([\n",
       "      { group: \"nodes\" },\n",
       "    ]);\n",
       "    \n",
       "    cy.layout({ name: 'circle'}).run();\n",
       "</script>"
      ],
      "text/plain": [
       "<IPython.core.display.HTML object>"
      ]
     },
     "metadata": {},
     "output_type": "display_data"
    }
   ],
   "source": [
    "JS(\"\"\"\n",
    "    cy.add([\n",
    "      { group: \"nodes\" },\n",
    "    ]);\n",
    "    \n",
    "    cy.layout({ name: 'circle'}).run();\n",
    "\"\"\")"
   ]
  },
  {
   "cell_type": "markdown",
   "metadata": {},
   "source": [
    "TEST: Get clicked node info to console"
   ]
  },
  {
   "cell_type": "code",
   "execution_count": 951,
   "metadata": {},
   "outputs": [
    {
     "data": {
      "text/html": [
       "<script>\n",
       "\n",
       "cyto.nodes().on(\"click\", function(){\n",
       "  console.log( this )\n",
       "});\n",
       "</script>"
      ],
      "text/plain": [
       "<IPython.core.display.HTML object>"
      ]
     },
     "metadata": {},
     "output_type": "display_data"
    }
   ],
   "source": [
    "JS(\"\"\"\n",
    "\n",
    "cy.nodes().on(\"click\", function(){\n",
    "  console.log( this )\n",
    "});\n",
    "\"\"\")"
   ]
  },
  {
   "cell_type": "markdown",
   "metadata": {},
   "source": [
    "TEST: get more specific node info:"
   ]
  },
  {
   "cell_type": "code",
   "execution_count": 955,
   "metadata": {},
   "outputs": [
    {
     "data": {
      "text/html": [
       "<script>\n",
       "\n",
       "cyto.nodes().on(\"click\", function(){\n",
       "\n",
       "});\n",
       "</script>"
      ],
      "text/plain": [
       "<IPython.core.display.HTML object>"
      ]
     },
     "metadata": {},
     "output_type": "display_data"
    }
   ],
   "source": [
    "JS(\"\"\"\n",
    "\n",
    "cy.nodes().on(\"click\", function(){\n",
    "  console.log( this.data() );\n",
    "  console.log( \" \" );console.log( \" \" );\n",
    "  console.log( this.style );\n",
    "});\n",
    "\"\"\")"
   ]
  },
  {
   "cell_type": "markdown",
   "metadata": {},
   "source": [
    "TEST: Change color on click"
   ]
  },
  {
   "cell_type": "code",
   "execution_count": 953,
   "metadata": {},
   "outputs": [
    {
     "data": {
      "text/html": [
       "<script>\n",
       "\n",
       "cyto.nodes().on(\"click\", function(){\n",
       "\n",
       "});\n",
       "</script>"
      ],
      "text/plain": [
       "<IPython.core.display.HTML object>"
      ]
     },
     "metadata": {},
     "output_type": "display_data"
    }
   ],
   "source": [
    "JS(\"\"\"\n",
    "\n",
    "cy.nodes().on(\"click\", function(){\n",
    "    this.style('background-color', 'magenta');\n",
    "});\n",
    "\"\"\")"
   ]
  },
  {
   "cell_type": "markdown",
   "metadata": {},
   "source": [
    "TEST: Another color change"
   ]
  },
  {
   "cell_type": "code",
   "execution_count": 961,
   "metadata": {},
   "outputs": [
    {
     "data": {
      "text/html": [
       "<script>\n",
       "\n",
       "cyto.nodes().on(\"click\", function(){\n",
       "    this.style({'background-color': 'blue'});\n",
       "});\n",
       "</script>"
      ],
      "text/plain": [
       "<IPython.core.display.HTML object>"
      ]
     },
     "metadata": {},
     "output_type": "display_data"
    }
   ],
   "source": [
    "JS(\"\"\"\n",
    "\n",
    "cy.nodes().on(\"click\", function(){\n",
    "    this.style({'background-color': 'blue'});\n",
    "});\n",
    "\"\"\")"
   ]
  },
  {
   "cell_type": "markdown",
   "metadata": {},
   "source": [
    "TEST: Get node position"
   ]
  },
  {
   "cell_type": "code",
   "execution_count": 957,
   "metadata": {},
   "outputs": [
    {
     "data": {
      "text/html": [
       "<script>\n",
       "\n",
       "cyto.nodes().on(\"click\", function(){\n",
       "    console.log( this.position() )\n",
       "});\n",
       "</script>"
      ],
      "text/plain": [
       "<IPython.core.display.HTML object>"
      ]
     },
     "metadata": {},
     "output_type": "display_data"
    }
   ],
   "source": [
    "JS(\"\"\"\n",
    "\n",
    "cy.nodes().on(\"click\", function(){\n",
    "    console.log( this.position() )\n",
    "});\n",
    "\"\"\")"
   ]
  },
  {
   "cell_type": "code",
   "execution_count": 960,
   "metadata": {},
   "outputs": [
    {
     "data": {
      "text/html": [
       "<script>\n",
       "\n",
       "cyto.nodes().on(\"click\", function(){\n",
       "    console.log( this.style() )\n",
       "});\n",
       "</script>"
      ],
      "text/plain": [
       "<IPython.core.display.HTML object>"
      ]
     },
     "metadata": {},
     "output_type": "display_data"
    }
   ],
   "source": [
    "JS(\"\"\"\n",
    "\n",
    "cy.nodes().on(\"click\", function(){\n",
    "    console.log( this.style() )\n",
    "});\n",
    "\"\"\")\n",
    "\n"
   ]
  },
  {
   "cell_type": "markdown",
   "metadata": {},
   "source": [
    "TEST: Remove Listeners"
   ]
  },
  {
   "cell_type": "code",
   "execution_count": 990,
   "metadata": {},
   "outputs": [
    {
     "data": {
      "text/html": [
       "<script>\n",
       "cy.nodes().removeListener( \"click\" )\n",
       "cy.nodes().removeListener( \"select\" )\n",
       "cy.removeListener( \"tap\" )\n",
       "</script>"
      ],
      "text/plain": [
       "<IPython.core.display.HTML object>"
      ]
     },
     "metadata": {},
     "output_type": "display_data"
    }
   ],
   "source": [
    "JS(\"\"\"\n",
    "cy.nodes().removeListener( \"click\" )\n",
    "cy.nodes().removeListener( \"select\" )\n",
    "cy.removeListener( \"tap\" )\n",
    "\"\"\")"
   ]
  },
  {
   "cell_type": "markdown",
   "metadata": {},
   "source": [
    "TEST: Selected Element"
   ]
  },
  {
   "cell_type": "code",
   "execution_count": 969,
   "metadata": {},
   "outputs": [
    {
     "data": {
      "text/html": [
       "<script>\n",
       "console.log( cyto.$(':selected') )\n",
       "</script>"
      ],
      "text/plain": [
       "<IPython.core.display.HTML object>"
      ]
     },
     "metadata": {},
     "output_type": "display_data"
    }
   ],
   "source": [
    "JS(\"\"\"\n",
    "console.log( cy.$(':selected') )\n",
    "\"\"\")"
   ]
  },
  {
   "cell_type": "markdown",
   "metadata": {},
   "source": [
    "TEST: Jquery commands [Things you can search for](http://js.cytoscape.org/#notation/elements-json) ... [Mayber things u search for?](http://js.cytoscape.org/#selectors/state)"
   ]
  },
  {
   "cell_type": "code",
   "execution_count": 970,
   "metadata": {},
   "outputs": [
    {
     "data": {
      "text/html": [
       "<script>\n",
       "console.log( cyto.$(':selectable') )\n",
       "</script>"
      ],
      "text/plain": [
       "<IPython.core.display.HTML object>"
      ]
     },
     "metadata": {},
     "output_type": "display_data"
    }
   ],
   "source": [
    "JS(\"\"\"\n",
    "console.log( cy.$(':selectable') )\n",
    "\"\"\")"
   ]
  },
  {
   "cell_type": "markdown",
   "metadata": {},
   "source": [
    "**TEST: Change Something on select [Things you can select](http://js.cytoscape.org/#events/user-input-device-events)**"
   ]
  },
  {
   "cell_type": "code",
   "execution_count": 1015,
   "metadata": {},
   "outputs": [
    {
     "data": {
      "text/html": [
       "<script>\n",
       "\n",
       "cy.nodes().removeListener( \"select\" )\n",
       "\n",
       "cy.nodes().on(\"select\", function(){\n",
       "    this.style({'background-blacken': .3 });\n",
       "});\n",
       "\n",
       "cy.nodes().on(\"unselect\", function(){\n",
       "    this.style({'background-blacken': 0 });\n",
       "});\n",
       "</script>"
      ],
      "text/plain": [
       "<IPython.core.display.HTML object>"
      ]
     },
     "metadata": {},
     "output_type": "display_data"
    }
   ],
   "source": [
    "JS(\"\"\"\n",
    "\n",
    "cy.nodes().removeListener( \"select\" )\n",
    "\n",
    "cy.nodes().on(\"select\", function(){\n",
    "    this.style({'background-blacken': .3 });\n",
    "});\n",
    "\n",
    "cy.nodes().on(\"unselect\", function(){\n",
    "    this.style({'background-blacken': 0 });\n",
    "});\n",
    "\"\"\")"
   ]
  },
  {
   "cell_type": "markdown",
   "metadata": {},
   "source": [
    "** TEST: Add nodes when clicking **"
   ]
  },
  {
   "cell_type": "code",
   "execution_count": 1011,
   "metadata": {},
   "outputs": [
    {
     "data": {
      "text/html": [
       "<script>\n",
       "    var checkit;\n",
       "    \n",
       "    \n",
       "    cy.removeListener( \"tap\" )            // <-- Clears all previous cy \"tap\" evens\n",
       "    cy.on('tap', function(event){        // <-- on \"tapping\" canvas\n",
       "      if( event.target === cy ){         // <-- If we tapped on the background\n",
       "\n",
       "          checkit = cy.add([ {  group: \"nodes\", position: event.position  } ]);            \n",
       "\n",
       "      } \n",
       "    });\n",
       "</script>"
      ],
      "text/plain": [
       "<IPython.core.display.HTML object>"
      ]
     },
     "metadata": {},
     "output_type": "display_data"
    }
   ],
   "source": [
    "JS(\"\"\"\n",
    "    var checkit;\n",
    "    \n",
    "    \n",
    "    cy.removeListener( \"tap\" )            // <-- Clears all previous cy \"tap\" evens\n",
    "    cy.on('tap', function(event){        // <-- on \"tapping\" canvas\n",
    "      if( event.target === cy ){         // <-- If we tapped on the background\n",
    "\n",
    "          checkit = cy.add([ {  group: \"nodes\", position: event.position  } ]);            \n",
    "\n",
    "      } \n",
    "    });\n",
    "\"\"\")"
   ]
  },
  {
   "cell_type": "markdown",
   "metadata": {},
   "source": [
    "**TEST: Add Edge on double click**"
   ]
  },
  {
   "cell_type": "code",
   "execution_count": 1027,
   "metadata": {},
   "outputs": [
    {
     "data": {
      "text/html": [
       "<script>\n",
       "cy.removeListener( \"tap\" )  \n",
       "</script>"
      ],
      "text/plain": [
       "<IPython.core.display.HTML object>"
      ]
     },
     "metadata": {},
     "output_type": "display_data"
    }
   ],
   "source": [
    "JS(\"\"\"\n",
    "cy.removeListener( \"tap\" )  \n",
    "\"\"\")"
   ]
  },
  {
   "cell_type": "code",
   "execution_count": 1029,
   "metadata": {},
   "outputs": [
    {
     "data": {
      "text/html": [
       "<script>\n",
       "    var click_hist = [\"1\", \"2\", \"3\", \"4\"];\n",
       "    var checkit;\n",
       "    \n",
       "\n",
       "    cy.removeListener( \"click\" )                               // <-- Clears all previous cy \"tap\" evens\n",
       "    cy.on(\"click\" , function(event){                              // <-- on \"tapping\" canvas\n",
       "    \n",
       "      click_hist.shift();                                         //<-- Remove oldest click\n",
       "      \n",
       "      if( event.target !== cy && event.target.isNode() ){         // <-- If we tapped a Node\n",
       "          click_hist.push( event.target.id() );                  // <-- Add node id to click history\n",
       "          \n",
       "          if( click_hist[0]==click_hist[1] && click_hist[2]==click_hist[3] ){      //<-- If 2 double clicks\n",
       "              \n",
       "              cy.add([ {  data: { source: click_hist[0], target: click_hist[2] }  } ]); //<-- add edge\n",
       "          }\n",
       "          \n",
       "          \n",
       "      }else{                                           //<-- if we didn't click a node\n",
       "          click_hist.push( String(Math.random()) );   //<-- Add random string to click history (repeats unlikely)\n",
       "      \n",
       "      } \n",
       "      \n",
       "    });\n",
       "</script>"
      ],
      "text/plain": [
       "<IPython.core.display.HTML object>"
      ]
     },
     "metadata": {},
     "output_type": "display_data"
    }
   ],
   "source": [
    "JS(\"\"\"\n",
    "    cy.click_hist = [\"1\", \"2\", \"3\", \"4\"];\n",
    "    \n",
    "    cy.removeListener( \"click\" )                               // <-- Clears all previous cy \"tap\" evens\n",
    "    cy.on(\"click\" , function(event){                              // <-- on \"tapping\" canvas\n",
    "    \n",
    "      cy.click_hist.shift();                                         //<-- Remove oldest click\n",
    "      \n",
    "      if( event.target !== cy && event.target.isNode() ){         // <-- If we tapped a Node\n",
    "          cy.click_hist.push( event.target.id() );                  // <-- Add node id to click history\n",
    "          \n",
    "          if( cy.click_hist[0]==cy.click_hist[1] && cy.click_hist[2]==cy.click_hist[3] ){      //<-- If 2 double clicks\n",
    "              \n",
    "              cy.add([ {  data: { source: cy.click_hist[0], target: cy.click_hist[2] }  } ]); //<-- add edge\n",
    "          }\n",
    "          \n",
    "          \n",
    "      }else{                                           //<-- if we didn't click a node\n",
    "          cy.click_hist.push( String(Math.random()) );   //<-- Add random string to click history (repeats unlikely)\n",
    "      \n",
    "      } \n",
    "      \n",
    "    });\n",
    "\"\"\")"
   ]
  }
 ],
 "metadata": {
  "kernelspec": {
   "display_name": "Python 3",
   "language": "python",
   "name": "python3"
  },
  "language_info": {
   "codemirror_mode": {
    "name": "ipython",
    "version": 3
   },
   "file_extension": ".py",
   "mimetype": "text/x-python",
   "name": "python",
   "nbconvert_exporter": "python",
   "pygments_lexer": "ipython3",
   "version": "3.6.5"
  }
 },
 "nbformat": 4,
 "nbformat_minor": 2
}
