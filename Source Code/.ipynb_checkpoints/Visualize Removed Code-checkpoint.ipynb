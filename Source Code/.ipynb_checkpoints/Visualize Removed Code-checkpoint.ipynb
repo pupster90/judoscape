{
 "cells": [
  {
   "cell_type": "markdown",
   "metadata": {},
   "source": [
    "# Load Stuff"
   ]
  },
  {
   "cell_type": "code",
   "execution_count": 1,
   "metadata": {},
   "outputs": [
    {
     "name": "stdout",
     "output_type": "stream",
     "text": [
      "/root/Documents\n"
     ]
    },
    {
     "data": {
      "text/html": [
       "<script>var py = Jupyter.notebook.kernel</script>"
      ],
      "text/plain": [
       "<IPython.core.display.HTML object>"
      ]
     },
     "metadata": {},
     "output_type": "display_data"
    },
    {
     "data": {
      "text/html": [
       "\n",
       "<style>\n",
       "*{margin:0; padding:0;} html, body,              .container{margin:0;!important padding:0;!important}              .container { width:100% !important;}\n",
       "\n",
       "div.text_cell_render { /* Customize text cells */\n",
       "    font-size:1.1em;\n",
       "    line-height:1.1em;\n",
       "}\n",
       "\n",
       "</style>\n"
      ],
      "text/plain": [
       "<IPython.core.display.HTML object>"
      ]
     },
     "metadata": {},
     "output_type": "display_data"
    },
    {
     "data": {
      "text/html": [
       "\n",
       "<b style=\"color:red\">Note:</b> Somce cells are <font color=\"gray\">\"grayed out\"</font> with <i style=\"color:blue\">\"Debug\"</i> written next to them.\n",
       "<p>This was done to improve efficiency and to control what is shown in the final notebook. \n",
       "<b>Uncomment these cells</b> when working on hte notebook.</p>\n"
      ],
      "text/plain": [
       "<IPython.core.display.HTML object>"
      ]
     },
     "metadata": {},
     "output_type": "display_data"
    },
    {
     "data": {
      "text/html": [
       "\n",
       "<style>\n",
       "\n",
       "div.text_cell_render h1 { /* Main titles bigger, centered */\n",
       "text-align:center;\n",
       "}\n",
       "\n",
       "\n",
       "\n",
       "div.text_cell_render { /* Customize text cells */\n",
       "padding-left:3em;\n",
       "padding-right:3em;\n",
       "color: rgb(127, 127, 127);\n",
       "}\n",
       "</style>\n"
      ],
      "text/plain": [
       "<IPython.core.display.HTML object>"
      ]
     },
     "metadata": {},
     "output_type": "display_data"
    }
   ],
   "source": [
    "\"\"\" DEBUG \"\"\"\n",
    "%cd /root/Documents    \n",
    "%run \"Source Code/Setup Notebook.ipynb\" #<-- Debug\n",
    "%run \"Source Code/Setup Source.ipynb\"   #<-- Debug"
   ]
  },
  {
   "cell_type": "markdown",
   "metadata": {
    "heading_collapsed": true
   },
   "source": [
    "# Limiting \"Observe\" calls \n",
    "\n",
    "we limit the number of time that \"observe\" is called per second for jupyter functions"
   ]
  },
  {
   "cell_type": "code",
   "execution_count": null,
   "metadata": {
    "hidden": true
   },
   "outputs": [],
   "source": [
    "def size(b):\n",
    "    if time.time() - Graph.w.time > .01:  #<-- make function run only ever 1/10 a second\n",
    "        Graph.w.time = time.time()\n",
    "        values = \"['\"+str(Graph.w.size.value)+\"','\"+str(Graph.w.size.value)+\"']\" #<-- values for changing node's style\n",
    "        display(Javascript(\"\"\"\n",
    "        for( var i=0; i < cy.io.selection.length; i++ ){\n",
    "            var ele = cy.io.selection[i]\n",
    "            if( ele.isNode() ){\n",
    "                cy.io.style.change( ele, [\"width\",\"height\"], \"\"\"+values+\"\"\"   )   \n",
    "            }else{\n",
    "                cy.io.style.change( ele, \"width\", '\"\"\"+str(Graph.w.size.value/6)+\"\"\"'   )   \n",
    "            }\n",
    "        }\n",
    "        \"\"\"))           \n",
    "Graph.wf.size = size\n",
    "Graph.w.size.observe( Graph.wf.size )"
   ]
  },
  {
   "cell_type": "code",
   "execution_count": null,
   "metadata": {
    "hidden": true
   },
   "outputs": [],
   "source": []
  },
  {
   "cell_type": "markdown",
   "metadata": {
    "heading_collapsed": true
   },
   "source": [
    "#  <font color=\"teal\">Style</font> <font color=\"orange\">Functions</font> \n",
    "The following code sets up the <font color=\"orange\">javascript</font> functions/variables that handle the style nodes and edges\n",
    "Create object that holds style stuff. Add to it the default style of nodes and edges"
   ]
  },
  {
   "cell_type": "markdown",
   "metadata": {
    "heading_collapsed": true,
    "hidden": true
   },
   "source": [
    "## <font color=\"orange\">Old Set Style</font>"
   ]
  },
  {
   "cell_type": "code",
   "execution_count": null,
   "metadata": {
    "hidden": true
   },
   "outputs": [],
   "source": [
    "JS(\"\"\"\n",
    "cy.io.style.set = function(ele, self=false){\n",
    "    var style = (ele.isNode() ) ? cy.io.style.node : cy.io.style.edge ;\n",
    "    \n",
    "    if( self == false ){ //<-- set properties of element\n",
    "        for (var property in style ) {\n",
    "            if( style[property] != \"NaNpx\" && !property.includes(\"pie\") ){   // removes error messages from weird stuff in cytoscape.js\n",
    "                ele.style( property, style[property] )\n",
    "           }\n",
    "        }    \n",
    "    }\n",
    "\n",
    "};\n",
    "\"\"\")"
   ]
  },
  {
   "cell_type": "markdown",
   "metadata": {
    "heading_collapsed": true
   },
   "source": [
    "# Helper: <font color=\"magenta\">JS Box</font>\n",
    "\n",
    "This box was created to solve the a bunch of the glitches with the \"running javascript commands\" **<font color=\"red\">Explain More</font>**"
   ]
  },
  {
   "cell_type": "code",
   "execution_count": null,
   "metadata": {
    "hidden": true
   },
   "outputs": [],
   "source": [
    "jsBox = JupyterCell( \"Javascript Box\", \"js_num\" )\n",
    "def run(text):\n",
    "    jsBox.text = text\n",
    "    jsBox.execute()\n",
    "jsBox.run = run"
   ]
  },
  {
   "cell_type": "code",
   "execution_count": null,
   "metadata": {
    "hidden": true
   },
   "outputs": [],
   "source": [
    "Javascript(\"alert('howdy ho')\")"
   ]
  },
  {
   "cell_type": "markdown",
   "metadata": {
    "hidden": true
   },
   "source": [
    "<font color=\"red\">For debugging</font>"
   ]
  },
  {
   "cell_type": "code",
   "execution_count": null,
   "metadata": {
    "hidden": true
   },
   "outputs": [],
   "source": [
    "# Javascript Box\n",
    "JS(jsBox.text) \n",
    "clear_output()"
   ]
  },
  {
   "cell_type": "markdown",
   "metadata": {},
   "source": [
    "# Helper: <font color=\"magenta\">Output</font><font color=\"orange\">.JS</font> <font color=\"red\">unfinished</font>"
   ]
  },
  {
   "cell_type": "markdown",
   "metadata": {},
   "source": [
    "**<font color=\"magenta\">OutputJS</font>** is a very useful <font color=\"magenta\">python class</font>/<font color=\"orange\">javascript function</font> that allows variable to go from: <font color=\"orange\">javascript</font> $\\rightarrow$ <font color=\"blue\">python</font>."
   ]
  },
  {
   "cell_type": "markdown",
   "metadata": {},
   "source": [
    "**Python Code**\n",
    "```python\n",
    "JS(\"OutputJS( 'howdy ho!' )\")\n",
    "OutputJS.var\n",
    "```\n",
    "** Output**\n",
    "```\n",
    "'howdy ho!'\n",
    "```"
   ]
  },
  {
   "cell_type": "code",
   "execution_count": null,
   "metadata": {},
   "outputs": [],
   "source": [
    "class Output():\n",
    "    var = \"\"\n",
    "    JS(\"\"\"\n",
    "    function sleep(ms){ \n",
    "        return new Promise( resolve => setTimeout(resolve, ms)); \n",
    "    }; \n",
    "    \"\"\")\n",
    "    JS(\"\"\"\n",
    "    async function OutputJS(text){ \n",
    "        Jupyter.notebook.kernel.execute( 'Output.var = \"'+String(text)+'\"' );  //<-- write text to python variable: Output.var \n",
    "        count = 1\n",
    "        while( Jupyter.notebook.kernel_busy && count < 25  ){                  //<-- wait for variable to be written, then continue\n",
    "            console.log( Jupyter.notebook.kernel_busy  )\n",
    "            console.log( count )\n",
    "            count += 1\n",
    "            await sleep(100);\n",
    "        }\n",
    "        console.log(\"one more sleep\")\n",
    "        console.log( Jupyter.notebook.kernel_busy )\n",
    "        await sleep(1000);\n",
    "    };  \n",
    "    \"\"\")\n",
    "    \n",
    "    def JS(text):\n",
    "        JS(\"\"\"OutputJS(\"\"\"+text+\"\"\")\"\"\")\n",
    "        time.sleep(.1)\n",
    "        return Output.var\n",
    "        "
   ]
  },
  {
   "cell_type": "code",
   "execution_count": null,
   "metadata": {},
   "outputs": [],
   "source": [
    "Output.var"
   ]
  },
  {
   "cell_type": "code",
   "execution_count": null,
   "metadata": {},
   "outputs": [],
   "source": [
    "JS(\"OutputJS(x)\")\n",
    "time.sleep(10)\n",
    "print(var)"
   ]
  },
  {
   "cell_type": "code",
   "execution_count": null,
   "metadata": {},
   "outputs": [],
   "source": [
    "Output.var"
   ]
  },
  {
   "cell_type": "markdown",
   "metadata": {},
   "source": [
    "## TRY 2"
   ]
  },
  {
   "cell_type": "code",
   "execution_count": null,
   "metadata": {},
   "outputs": [],
   "source": [
    "js_sent = False\n",
    "js_object = {}\n",
    "count = 0"
   ]
  },
  {
   "cell_type": "code",
   "execution_count": null,
   "metadata": {},
   "outputs": [],
   "source": [
    "def commFunc(comm, msg):\n",
    "    @comm.on_msg\n",
    "    def _recv(msg):\n",
    "        global js_sent; global js_object\n",
    "        js_object = msg[\"content\"][\"data\"]\n",
    "        js_sent = True\n",
    "        # Use msg['content']['data'] for the data in the message\n",
    "\n",
    "get_ipython().kernel.comm_manager.register_target('js_comm', commFunc)\n",
    "\n",
    "JS(\"comm = Jupyter.notebook.kernel.comm_manager.new_comm('js_comm',{'foo': 6})\")"
   ]
  },
  {
   "cell_type": "code",
   "execution_count": null,
   "metadata": {},
   "outputs": [],
   "source": [
    "aio_pool = ThreadPoolExecutor(1)\n",
    "aio_loop = asyncio.new_event_loop()\n",
    "aio_pool.submit(asyncio.set_event_loop, aio_loop).result()\n",
    "\n",
    "async def myFunc():\n",
    "    global js_sent; global count\n",
    "    count = 0\n",
    "    while( (not js_sent)  and count<20 ):\n",
    "        time.sleep(.1)\n",
    "        count += 1\n",
    "\n",
    "async def waiter( js_object ):\n",
    "    global js_sent\n",
    "    js_sent = False\n",
    "    JS(\"comm.send(\"+js_object+\")\")    \n",
    "    await commFunc\n",
    "    return\n",
    "     \n",
    "\n",
    "def getJS( text ):\n",
    "    global js_object\n",
    "    aio_pool.submit( aio_loop.run_until_complete, waiter(text)  ).result()\n",
    "    return js_object"
   ]
  },
  {
   "cell_type": "markdown",
   "metadata": {},
   "source": [
    "## Try 3"
   ]
  },
  {
   "cell_type": "code",
   "execution_count": null,
   "metadata": {},
   "outputs": [],
   "source": [
    "def commFunc(comm, msg):\n",
    "    @comm.on_msg\n",
    "    def _recv(msg):\n",
    "        global js_sent; global js_object\n",
    "        js_object = msg[\"content\"][\"data\"]\n",
    "        js_sent = True\n",
    "        # Use msg['content']['data'] for the data in the message\n",
    "\n",
    "get_ipython().kernel.comm_manager.register_target('js_comm', commFunc)\n",
    "JS(\"comm = Jupyter.notebook.kernel.comm_manager.new_comm('js_comm',{'foo': 6})\")"
   ]
  },
  {
   "cell_type": "code",
   "execution_count": null,
   "metadata": {},
   "outputs": [],
   "source": []
  },
  {
   "cell_type": "code",
   "execution_count": null,
   "metadata": {},
   "outputs": [],
   "source": [
    "import asyncio\n",
    "from concurrent.futures import ThreadPoolExecutor\n",
    "import IPython"
   ]
  },
  {
   "cell_type": "code",
   "execution_count": null,
   "metadata": {},
   "outputs": [],
   "source": [
    "aio_pool = ThreadPoolExecutor(1)\n",
    "aio_loop = asyncio.new_event_loop()\n",
    "aio_pool.submit(asyncio.set_event_loop, aio_loop).result()\n",
    "\n",
    "async def myFunc():\n",
    "    global js_sent; global count\n",
    "    count = 0\n",
    "    while( (not js_sent)  and count<20 ):\n",
    "        time.sleep(.1)\n",
    "        count += 1\n",
    "\n",
    "async def waiter( js_object ):\n",
    "    global js_sent\n",
    "    js_sent = False\n",
    "    JS(\"comm.send(\"+js_object+\")\")    \n",
    "    await commFunc\n",
    "    return\n",
    "     \n",
    "\n",
    "def getJS( text ):\n",
    "    global js_object\n",
    "    aio_pool.submit( aio_loop.run_until_complete, waiter(text)  ).result()\n",
    "    return js_object"
   ]
  },
  {
   "cell_type": "code",
   "execution_count": null,
   "metadata": {},
   "outputs": [],
   "source": [
    "JS(\"comm.send({'foo':1})\") "
   ]
  },
  {
   "cell_type": "code",
   "execution_count": null,
   "metadata": {},
   "outputs": [],
   "source": [
    "x = getJS(\"{'foo':6}\")\n",
    "x"
   ]
  },
  {
   "cell_type": "code",
   "execution_count": null,
   "metadata": {},
   "outputs": [],
   "source": [
    "count"
   ]
  },
  {
   "cell_type": "code",
   "execution_count": null,
   "metadata": {},
   "outputs": [],
   "source": [
    "js_sent"
   ]
  },
  {
   "cell_type": "code",
   "execution_count": null,
   "metadata": {},
   "outputs": [],
   "source": [
    "comm."
   ]
  },
  {
   "cell_type": "code",
   "execution_count": null,
   "metadata": {},
   "outputs": [],
   "source": [
    "x= 0\n",
    "print(x)\n",
    "JS(\"Jupyter.notebook.kernel.execute('x=20 ')\")\n",
    "x=1\n",
    "print(x)\n",
    "time.sleep(2)\n",
    "print(x)"
   ]
  },
  {
   "cell_type": "markdown",
   "metadata": {},
   "source": [
    "## ASYNCIO\n",
    "\n",
    "[example](https://github.com/ipython/ipython/issues/11030) and a [tutorial](https://stackabuse.com/python-async-await-tutorial/)\n"
   ]
  },
  {
   "cell_type": "code",
   "execution_count": null,
   "metadata": {},
   "outputs": [],
   "source": []
  },
  {
   "cell_type": "code",
   "execution_count": null,
   "metadata": {},
   "outputs": [],
   "source": [
    "import asyncio\n",
    "from concurrent.futures import ThreadPoolExecutor\n",
    "\n",
    "aio_pool = ThreadPoolExecutor(1)\n",
    "aio_loop = asyncio.new_event_loop()\n",
    "aio_pool.submit(asyncio.set_event_loop, aio_loop).result()\n",
    "\n",
    "async def mycoro():\n",
    "    await asyncio.sleep(1)\n",
    "    return 5\n",
    "\n",
    "result = aio_pool.submit(aio_loop.run_until_complete, mycoro()).result()"
   ]
  },
  {
   "cell_type": "markdown",
   "metadata": {},
   "source": [
    "## COMMS\n",
    "\n",
    "[tutorial](http://jupyter-notebook.readthedocs.io/en/latest/comms.html)"
   ]
  },
  {
   "cell_type": "markdown",
   "metadata": {},
   "source": [
    "## Part 1"
   ]
  },
  {
   "cell_type": "code",
   "execution_count": 20,
   "metadata": {},
   "outputs": [
    {
     "data": {
      "text/html": [
       "<script>Jupyter.notebook.kernel.comm_manager.register_target('my_comm_target', function(comm, msg) {});</script>"
      ],
      "text/plain": [
       "<IPython.core.display.HTML object>"
      ]
     },
     "metadata": {},
     "output_type": "display_data"
    }
   ],
   "source": [
    "JS(\"Jupyter.notebook.kernel.comm_manager.register_target('my_comm_target', function(comm, msg) {});\")"
   ]
  },
  {
   "cell_type": "code",
   "execution_count": 21,
   "metadata": {},
   "outputs": [],
   "source": [
    "from ipykernel.comm import Comm\n",
    "global x\n",
    "\n",
    "# Use comm to send a message from the kernel\n",
    "my_comm = Comm(target_name='my_comm_target')\n",
    "my_comm.send({'foo': 2})\n",
    "\n",
    "# Add a callback for received messages.\n",
    "@my_comm.on_msg\n",
    "def _recv(msg):\n",
    "    x = \"ja\"\n",
    "    # Use msg['content']['data'] for the data in the message"
   ]
  },
  {
   "cell_type": "code",
   "execution_count": 22,
   "metadata": {},
   "outputs": [],
   "source": [
    "my_comm.send({'foo': 2})"
   ]
  },
  {
   "cell_type": "code",
   "execution_count": 15,
   "metadata": {},
   "outputs": [
    {
     "name": "stdout",
     "output_type": "stream",
     "text": [
      "    def open(self, data=None, metadata=None, buffers=None):\n",
      "        \"\"\"Open the frontend-side version of this comm\"\"\"\n",
      "        if data is None:\n",
      "            data = self._open_data\n",
      "        comm_manager = getattr(self.kernel, 'comm_manager', None)\n",
      "        if comm_manager is None:\n",
      "            raise RuntimeError(\"Comms cannot be opened without a kernel \"\n",
      "                        \"and a comm_manager attached to that kernel.\")\n",
      "\n",
      "        comm_manager.register_comm(self)\n",
      "        try:\n",
      "            self._publish_msg('comm_open',\n",
      "                              data=data, metadata=metadata, buffers=buffers,\n",
      "                              target_name=self.target_name,\n",
      "                              target_module=self.target_module,\n",
      "                              )\n",
      "            self._closed = False\n",
      "        except:\n",
      "            comm_manager.unregister_comm(self)\n",
      "            raise\n",
      "\n"
     ]
    }
   ],
   "source": [
    "\n",
    "lines = inspect.getsource(my_comm.open)\n",
    "print(lines)"
   ]
  },
  {
   "cell_type": "code",
   "execution_count": 13,
   "metadata": {},
   "outputs": [
    {
     "data": {
      "text/plain": [
       "<bound method Comm.open of <ipykernel.comm.comm.Comm object at 0x7f5ac4633be0>>"
      ]
     },
     "execution_count": 13,
     "metadata": {},
     "output_type": "execute_result"
    }
   ],
   "source": []
  },
  {
   "cell_type": "code",
   "execution_count": null,
   "metadata": {},
   "outputs": [],
   "source": []
  },
  {
   "cell_type": "markdown",
   "metadata": {},
   "source": [
    "## Part 2"
   ]
  },
  {
   "cell_type": "code",
   "execution_count": 2,
   "metadata": {},
   "outputs": [],
   "source": []
  },
  {
   "cell_type": "code",
   "execution_count": null,
   "metadata": {},
   "outputs": [],
   "source": [
    "my_comm.comm_id"
   ]
  },
  {
   "cell_type": "code",
   "execution_count": null,
   "metadata": {},
   "outputs": [],
   "source": [
    "my_comm.send({'foo': 2})"
   ]
  },
  {
   "cell_type": "code",
   "execution_count": null,
   "metadata": {},
   "outputs": [],
   "source": [
    "x[\"content\"][\"data\"]"
   ]
  },
  {
   "cell_type": "code",
   "execution_count": null,
   "metadata": {},
   "outputs": [],
   "source": [
    "comm.send({'foo': 5})"
   ]
  },
  {
   "cell_type": "code",
   "execution_count": null,
   "metadata": {},
   "outputs": [],
   "source": [
    "display(\"hello\")"
   ]
  },
  {
   "cell_type": "code",
   "execution_count": null,
   "metadata": {},
   "outputs": [],
   "source": [
    "get_ipython().asdf"
   ]
  },
  {
   "cell_type": "markdown",
   "metadata": {},
   "source": [
    "## Scratch Paper"
   ]
  },
  {
   "cell_type": "code",
   "execution_count": 72,
   "metadata": {},
   "outputs": [],
   "source": [
    "x\n",
    "def target_func(comm, msg):\n",
    "    # comm is the kernel Comm instance\n",
    "    # msg is the comm_open message\n",
    "\n",
    "    # Register handler for later messages\n",
    "    @comm.on_msg\n",
    "    def _recv(msg):\n",
    "        global x\n",
    "        x = ['content']['data']\n",
    "        # Use msg['content']['data'] for the data in the message\n",
    "\n",
    "    # Send data to the frontend\n",
    "    comm.send({'foo': 5})\n",
    "\n",
    "get_ipython().kernel.comm_manager.register_target('my_comm_target', target_func)"
   ]
  },
  {
   "cell_type": "code",
   "execution_count": 33,
   "metadata": {},
   "outputs": [],
   "source": [
    "\n",
    "checkit = get_ipython().get_ipython().kernel.comm_manager\n"
   ]
  },
  {
   "cell_type": "code",
   "execution_count": 37,
   "metadata": {},
   "outputs": [
    {
     "data": {
      "text/plain": [
       "<bound method HasTraits.notify_change of <ipykernel.comm.manager.CommManager object at 0x7f5ac46e59b0>>"
      ]
     },
     "execution_count": 37,
     "metadata": {},
     "output_type": "execute_result"
    }
   ],
   "source": [
    "checkit.notify_change"
   ]
  },
  {
   "cell_type": "code",
   "execution_count": 43,
   "metadata": {},
   "outputs": [],
   "source": [
    "checkit2 = checkit.comms['1fdfd3ee6877412e8c61df98e467c0aa']"
   ]
  },
  {
   "cell_type": "code",
   "execution_count": 71,
   "metadata": {},
   "outputs": [
    {
     "ename": "TypeError",
     "evalue": "trait_metadata() missing 2 required positional arguments: 'traitname' and 'key'",
     "output_type": "error",
     "traceback": [
      "\u001b[0;31m---------------------------------------------------------------------------\u001b[0m",
      "\u001b[0;31mTypeError\u001b[0m                                 Traceback (most recent call last)",
      "\u001b[0;32m<ipython-input-71-5da3fb194b81>\u001b[0m in \u001b[0;36m<module>\u001b[0;34m()\u001b[0m\n\u001b[0;32m----> 1\u001b[0;31m \u001b[0mcheckit2\u001b[0m\u001b[0;34m.\u001b[0m\u001b[0mtrait_metadata\u001b[0m\u001b[0;34m(\u001b[0m\u001b[0;34m)\u001b[0m\u001b[0;34m\u001b[0m\u001b[0m\n\u001b[0m",
      "\u001b[0;31mTypeError\u001b[0m: trait_metadata() missing 2 required positional arguments: 'traitname' and 'key'"
     ]
    }
   ],
   "source": [
    "checkit2.trait_metadata()"
   ]
  },
  {
   "cell_type": "code",
   "execution_count": null,
   "metadata": {},
   "outputs": [],
   "source": []
  },
  {
   "cell_type": "code",
   "execution_count": null,
   "metadata": {},
   "outputs": [],
   "source": []
  },
  {
   "cell_type": "code",
   "execution_count": null,
   "metadata": {},
   "outputs": [],
   "source": [
    "comm = Jupyter.notebook.kernel.comm_manager.new_comm('my_comm_target', {'foo': 6})\n",
    "// Send data\n",
    "comm.send({'foo': 7})\n",
    "\n",
    "// Register a handler\n",
    "comm.on_msg(function(msg) {\n",
    "    console.log(msg.content.data.foo);\n",
    "});"
   ]
  },
  {
   "cell_type": "code",
   "execution_count": 48,
   "metadata": {},
   "outputs": [
    {
     "name": "stdout",
     "output_type": "stream",
     "text": [
      "    @classmethod\n",
      "    def instance(cls, *args, **kwargs):\n",
      "        \"\"\"Returns a global instance of this class.\n",
      "\n",
      "        This method create a new instance if none have previously been created\n",
      "        and returns a previously created instance is one already exists.\n",
      "\n",
      "        The arguments and keyword arguments passed to this method are passed\n",
      "        on to the :meth:`__init__` method of the class upon instantiation.\n",
      "\n",
      "        Examples\n",
      "        --------\n",
      "\n",
      "        Create a singleton class using instance, and retrieve it::\n",
      "\n",
      "            >>> from traitlets.config.configurable import SingletonConfigurable\n",
      "            >>> class Foo(SingletonConfigurable): pass\n",
      "            >>> foo = Foo.instance()\n",
      "            >>> foo == Foo.instance()\n",
      "            True\n",
      "\n",
      "        Create a subclass that is retrived using the base class instance::\n",
      "\n",
      "            >>> class Bar(SingletonConfigurable): pass\n",
      "            >>> class Bam(Bar): pass\n",
      "            >>> bam = Bam.instance()\n",
      "            >>> bam == Bar.instance()\n",
      "            True\n",
      "        \"\"\"\n",
      "        # Create and save the instance\n",
      "        if cls._instance is None:\n",
      "            inst = cls(*args, **kwargs)\n",
      "            # Now make sure that the instance will also be returned by\n",
      "            # parent classes' _instance attribute.\n",
      "            for subclass in cls._walk_mro():\n",
      "                subclass._instance = inst\n",
      "\n",
      "        if isinstance(cls._instance, cls):\n",
      "            return cls._instance\n",
      "        else:\n",
      "            raise MultipleInstanceError(\n",
      "                'Multiple incompatible subclass instances of '\n",
      "                '%s are being created.' % cls.__name__\n",
      "            )\n",
      "\n"
     ]
    }
   ],
   "source": [
    "lines = inspect.getsource(checkit2.kernel.instance)\n",
    "print(lines)"
   ]
  },
  {
   "cell_type": "code",
   "execution_count": null,
   "metadata": {},
   "outputs": [],
   "source": []
  },
  {
   "cell_type": "code",
   "execution_count": 26,
   "metadata": {},
   "outputs": [
    {
     "ename": "IndentationError",
     "evalue": "expected an indented block (<ipython-input-26-2552cd3c2387>, line 11)",
     "output_type": "error",
     "traceback": [
      "\u001b[0;36m  File \u001b[0;32m\"<ipython-input-26-2552cd3c2387>\"\u001b[0;36m, line \u001b[0;32m11\u001b[0m\n\u001b[0;31m    comm.send({'foo': 5})\u001b[0m\n\u001b[0m       ^\u001b[0m\n\u001b[0;31mIndentationError\u001b[0m\u001b[0;31m:\u001b[0m expected an indented block\n"
     ]
    }
   ],
   "source": [
    "def target_func(comm, msg):\n",
    "    # comm is the kernel Comm instance\n",
    "    # msg is the comm_open message\n",
    "\n",
    "    # Register handler for later messages\n",
    "    @comm.on_msg\n",
    "    def _recv(msg):\n",
    "        # Use msg['content']['data'] for the data in the message\n",
    "\n",
    "    # Send data to the frontend\n",
    "    comm.send({'foo': 5})\n",
    "\n",
    "get_ipython().kernel.comm_manager.register_target('my_comm_target', target_func)"
   ]
  },
  {
   "cell_type": "code",
   "execution_count": null,
   "metadata": {},
   "outputs": [],
   "source": []
  },
  {
   "cell_type": "markdown",
   "metadata": {
    "heading_collapsed": true
   },
   "source": [
    "# Old Widgets"
   ]
  },
  {
   "cell_type": "markdown",
   "metadata": {
    "heading_collapsed": true,
    "hidden": true
   },
   "source": [
    "## <font color=\"green\">Control Panel</font> "
   ]
  },
  {
   "cell_type": "markdown",
   "metadata": {
    "hidden": true
   },
   "source": [
    "**<font color=\"green\">widget : </font>**"
   ]
  },
  {
   "cell_type": "code",
   "execution_count": null,
   "metadata": {
    "hidden": true
   },
   "outputs": [],
   "source": [
    "Graph.w.ControlPanel= widgets.ToggleButtons(\n",
    "    options=[ 'Edit','Search','Graph Style'])\n",
    "#Graph.w.ControlPanel"
   ]
  },
  {
   "cell_type": "markdown",
   "metadata": {
    "hidden": true
   },
   "source": [
    "**<font color=\"blue\">Function : </font>**  <font color=\"blue\">ControlChanged</font> changes the editorBox display when the Control Panel changes."
   ]
  },
  {
   "cell_type": "code",
   "execution_count": null,
   "metadata": {
    "hidden": true
   },
   "outputs": [],
   "source": [
    "def ControlChanged(b):\n",
    "    #widg = Graph.w.ControlPanel.value.replace(\" \", \"\")\n",
    "    #Graph.editor_box.widg = getattr(Graph.w, widg).show\n",
    "    #Graph.editor_box.execute()\n",
    "    #clear_output()\n",
    "    #display(Graph.w.ControlPanel)\n",
    "    pass\n",
    "\n",
    "    \n",
    "Graph.w.ControlPanel.observe( ControlChanged )"
   ]
  },
  {
   "cell_type": "markdown",
   "metadata": {
    "hidden": true
   },
   "source": [
    "How to change button style\n",
    "\n",
    "```python\n",
    "Graph.w.ControlPanel.value = \"Search\"\n",
    "```"
   ]
  },
  {
   "cell_type": "markdown",
   "metadata": {
    "heading_collapsed": true,
    "hidden": true
   },
   "source": [
    "## <font color=\"green\">All nodes</font>"
   ]
  },
  {
   "cell_type": "code",
   "execution_count": null,
   "metadata": {
    "hidden": true
   },
   "outputs": [],
   "source": [
    "Graph.w.Edit.allNodes = ipw.Button(description='All Nodes')"
   ]
  },
  {
   "cell_type": "code",
   "execution_count": null,
   "metadata": {
    "hidden": true
   },
   "outputs": [],
   "source": [
    "def allNodes(b):\n",
    "    JS(\"cy.nodes().select()\")   #<-- delete elements\n",
    "Graph.wf.allNodes = allNodes\n",
    "Graph.w.Edit.allNodes.on_click( Graph.wf.allNodes )"
   ]
  },
  {
   "cell_type": "markdown",
   "metadata": {
    "heading_collapsed": true,
    "hidden": true
   },
   "source": [
    "## <font color=\"green\">All edges</font>"
   ]
  },
  {
   "cell_type": "code",
   "execution_count": null,
   "metadata": {
    "hidden": true
   },
   "outputs": [],
   "source": [
    "Graph.w.Edit.allEdges = ipw.Button(description='All Edges')"
   ]
  },
  {
   "cell_type": "code",
   "execution_count": null,
   "metadata": {
    "hidden": true
   },
   "outputs": [],
   "source": [
    "def allEdges(b):\n",
    "    JS(\"cy.edges().select()\")   #<-- delete elements\n",
    "Graph.wf.allEdges = allEdges\n",
    "Graph.w.Edit.allEdges.on_click( Graph.wf.allEdges )"
   ]
  },
  {
   "cell_type": "code",
   "execution_count": null,
   "metadata": {
    "hidden": true
   },
   "outputs": [],
   "source": []
  },
  {
   "cell_type": "markdown",
   "metadata": {
    "heading_collapsed": true,
    "hidden": true
   },
   "source": [
    "## <font color=\"green\">Add Node</font>"
   ]
  },
  {
   "cell_type": "code",
   "execution_count": null,
   "metadata": {
    "hidden": true
   },
   "outputs": [],
   "source": [
    "Graph.w.AddNode = type(\"widget\",(),{})()"
   ]
  },
  {
   "cell_type": "code",
   "execution_count": null,
   "metadata": {
    "hidden": true
   },
   "outputs": [],
   "source": [
    "Graph.w.AddNode.head = ipw.HTML(\"\"\"<h4>Describe the New Node, then Click <font color=\"blue\">Add</font></h4>\"\"\")\n",
    "Graph.w.AddNode.id = ipw.Text(description='ID :')\n",
    "Graph.w.AddNode.button = ipw.Button(description='Add', button_style='info')\n",
    "Graph.w.AddNode.show = ipw.VBox( [Graph.w.AddNode.head, Graph.w.AddNode.id, Graph.w.AddNode.button ] )\n",
    "Graph.w.AddNode.show"
   ]
  },
  {
   "cell_type": "markdown",
   "metadata": {
    "heading_collapsed": true,
    "hidden": true
   },
   "source": [
    "### <font color=\"blue\">addNode</font>\n",
    "\n",
    "<font color=\"blue\">addNode</font> adds a nodes to the network"
   ]
  },
  {
   "cell_type": "markdown",
   "metadata": {
    "hidden": true
   },
   "source": [
    "**<font color=\"red\">Function NOT Implemented</font>**"
   ]
  },
  {
   "cell_type": "code",
   "execution_count": null,
   "metadata": {
    "hidden": true
   },
   "outputs": [],
   "source": [
    "def AddNode(b):\n",
    "    w_id= Graph.w.AddNode.id.value\n",
    "    JS(\"\"\"\n",
    "    cy.add([\n",
    "      { group: \"nodes\", data: { id: '{w_id}' } , position: { x: 100, y: 200 } },\n",
    "    ]);\n",
    "    \"\"\")\n",
    "Graph.wf.AddNode = AddNode\n",
    "Graph.w.AddNode.button.on_click( Graph.wf.AddNode )  #<-- function when widget is clicked"
   ]
  },
  {
   "cell_type": "code",
   "execution_count": null,
   "metadata": {
    "hidden": true
   },
   "outputs": [],
   "source": []
  },
  {
   "cell_type": "markdown",
   "metadata": {
    "heading_collapsed": true,
    "hidden": true
   },
   "source": [
    "## <font color=\"green\">Add Edge</font>"
   ]
  },
  {
   "cell_type": "code",
   "execution_count": null,
   "metadata": {
    "hidden": true
   },
   "outputs": [],
   "source": [
    "Graph.w.AddEdge = type(\"widget\",(),{})()\n",
    "Graph.w.AddEdge.show = ipw.HTML(\"\"\"<h4 class=\"text-danger\">Widget NOT Implemented</h4>\"\"\")"
   ]
  },
  {
   "cell_type": "markdown",
   "metadata": {
    "hidden": true
   },
   "source": [
    "### <font color=\"blue\">addEdge</font>\n",
    "\n",
    "<font color=\"blue\">addEdge</font> adds an edge to the network"
   ]
  },
  {
   "cell_type": "markdown",
   "metadata": {
    "hidden": true
   },
   "source": [
    "**<font color=\"red\">Function NOT Implemented</font>**"
   ]
  },
  {
   "cell_type": "code",
   "execution_count": null,
   "metadata": {
    "hidden": true
   },
   "outputs": [],
   "source": [
    "def AddEdge(b):#self, source, target, id):\n",
    "    \"\"\"JS(\n",
    "    cy.add([\n",
    "      { group: \"edges\", data: { id: \"e0\", source: \"n0\", target: \"n1\" } }\n",
    "    ]);\n",
    "    )\"\"\"\n",
    "Graph.wf.AddEdge = AddEdge"
   ]
  },
  {
   "cell_type": "code",
   "execution_count": null,
   "metadata": {
    "hidden": true
   },
   "outputs": [],
   "source": []
  },
  {
   "cell_type": "code",
   "execution_count": null,
   "metadata": {
    "hidden": true
   },
   "outputs": [],
   "source": []
  },
  {
   "cell_type": "code",
   "execution_count": null,
   "metadata": {
    "hidden": true
   },
   "outputs": [],
   "source": []
  },
  {
   "cell_type": "code",
   "execution_count": null,
   "metadata": {
    "hidden": true
   },
   "outputs": [],
   "source": []
  },
  {
   "cell_type": "markdown",
   "metadata": {
    "heading_collapsed": true
   },
   "source": [
    "# Previous Default Style\n",
    "\n",
    "This style was what was previously called inside of the **Graph.start** command"
   ]
  },
  {
   "cell_type": "code",
   "execution_count": null,
   "metadata": {
    "hidden": true
   },
   "outputs": [],
   "source": [
    "    style: [ { selector: 'node', style: { 'height': 20, 'width': 20, 'background-color': 'gray' } },\n",
    "     { selector: 'edge', style: { 'width': 5, 'opacity': 0.5, 'line-color': 'gray'} } ]"
   ]
  },
  {
   "cell_type": "code",
   "execution_count": null,
   "metadata": {
    "hidden": true
   },
   "outputs": [],
   "source": []
  },
  {
   "cell_type": "markdown",
   "metadata": {
    "heading_collapsed": true
   },
   "source": [
    "#  JS commands"
   ]
  },
  {
   "cell_type": "markdown",
   "metadata": {
    "hidden": true
   },
   "source": [
    "## <font color=\"orange\">selection Highligh</font>\n",
    "\n",
    "\n",
    "This functions makes the nodes change color when they are selected"
   ]
  },
  {
   "cell_type": "code",
   "execution_count": null,
   "metadata": {
    "hidden": true
   },
   "outputs": [],
   "source": [
    "def selectColor(self):\n",
    "    JS(\"\"\"\n",
    "    cy.on(\"select\", 'node' , function(){\n",
    "        this.style({'background-blacken': .4 });\n",
    "    });\n",
    "    cy.on(\"unselect\", 'node' , function(){\n",
    "        this.style({'background-blacken': 0 });\n",
    "    });\n",
    "    \"\"\")\n",
    "JS_Helper.selectColor = selectColor"
   ]
  },
  {
   "cell_type": "markdown",
   "metadata": {
    "hidden": true
   },
   "source": [
    "## Editor_Box changer (tried to stop flashes)"
   ]
  },
  {
   "cell_type": "code",
   "execution_count": null,
   "metadata": {
    "hidden": true
   },
   "outputs": [],
   "source": [
    "JS(\"\"\"\n",
    "    var check = 0;\n",
    "    var check_var;\n",
    "    cy.io.last_type = \"Nothing\";\n",
    "\n",
    "    cy.io.test = function(event){\n",
    "        cy.io.selection = cy.$(':selected')                 //<-- Get selected elements\n",
    "        cy.io.last_type = cy.io.select_type \n",
    "         \n",
    "        if( cy.io.selection.length == 0  ){                 //<-- Do nothing if nothing's selected\n",
    "            return\n",
    "        } else if( cy.io.selection.length == 1 ){           //<-- If selection lenght is 1\n",
    "        \n",
    "            if( cy.io.selection.isNode() && cy.io.last_type != \"1 node\" ){                      //<-- If it's a node\n",
    "                console.log(\"selection changed\")\n",
    "                cy.io.select_type = \"1 node\"\n",
    "                Jupyter.notebook.kernel.execute(\"Graph.editor_box.widg = Graph.w.Edit.boxAll\")\n",
    "                IPython.notebook.execute_cells([cy.io.edit_num])  //<-- cy.io.edit_num was setup by the Graph.editor_box\n",
    "                \n",
    "            } else if(  cy.io.last_type != \"1 edge\" ){                                              //<-- If it's an edge\n",
    "                cy.io.select_type = \"1 edge\"\n",
    "                Jupyter.notebook.kernel.execute(\"Graph.editor_box.widg = Graph.w.Edit.boxAll\")\n",
    "                IPython.notebook.execute_cells([cy.io.edit_num])  //<-- cy.io.edit_num was setup by the Graph.editor_box\n",
    "            }\n",
    "            \n",
    "        } else {                                           //<-- If Many elements\n",
    "            console.log(\"many items\")\n",
    "        }\n",
    "        \n",
    "    };\n",
    "\n",
    "    cy.on('select unselect', 'node, edge', cy.io.test );\n",
    "\"\"\")"
   ]
  },
  {
   "cell_type": "markdown",
   "metadata": {
    "hidden": true
   },
   "source": [
    "## When Testing Stuff:"
   ]
  },
  {
   "cell_type": "markdown",
   "metadata": {
    "hidden": true
   },
   "source": [
    "TEST: Add nodes"
   ]
  },
  {
   "cell_type": "code",
   "execution_count": null,
   "metadata": {
    "cell_style": "center",
    "hidden": true
   },
   "outputs": [],
   "source": [
    "JS(\"\"\"\n",
    "    cy.add([\n",
    "      { group: \"nodes\" },\n",
    "    ]);\n",
    "    \n",
    "    cy.layout({ name: 'circle'}).run();\n",
    "\"\"\")"
   ]
  },
  {
   "cell_type": "markdown",
   "metadata": {
    "hidden": true
   },
   "source": [
    "TEST: Get clicked node info to console"
   ]
  },
  {
   "cell_type": "code",
   "execution_count": null,
   "metadata": {
    "hidden": true
   },
   "outputs": [],
   "source": [
    "JS(\"\"\"\n",
    "\n",
    "cy.nodes().on(\"click\", function(){\n",
    "  console.log( this )\n",
    "});\n",
    "\"\"\")"
   ]
  },
  {
   "cell_type": "markdown",
   "metadata": {
    "hidden": true
   },
   "source": [
    "TEST: get more specific node info:"
   ]
  },
  {
   "cell_type": "code",
   "execution_count": null,
   "metadata": {
    "hidden": true
   },
   "outputs": [],
   "source": [
    "JS(\"\"\"\n",
    "\n",
    "cy.nodes().on(\"click\", function(){\n",
    "  console.log( this.data() );\n",
    "  console.log( \" \" );console.log( \" \" );\n",
    "  console.log( this.style );\n",
    "});\n",
    "\"\"\")"
   ]
  },
  {
   "cell_type": "markdown",
   "metadata": {
    "hidden": true
   },
   "source": [
    "TEST: Change color on click"
   ]
  },
  {
   "cell_type": "code",
   "execution_count": null,
   "metadata": {
    "hidden": true
   },
   "outputs": [],
   "source": [
    "JS(\"\"\"\n",
    "\n",
    "cy.nodes().on(\"click\", function(){\n",
    "    this.style('background-color', 'magenta');\n",
    "});\n",
    "\"\"\")"
   ]
  },
  {
   "cell_type": "markdown",
   "metadata": {
    "hidden": true
   },
   "source": [
    "TEST: Another color change"
   ]
  },
  {
   "cell_type": "code",
   "execution_count": null,
   "metadata": {
    "hidden": true
   },
   "outputs": [],
   "source": [
    "JS(\"\"\"\n",
    "\n",
    "cy.nodes().on(\"click\", function(){\n",
    "    this.style({'background-color': 'blue'});\n",
    "});\n",
    "\"\"\")"
   ]
  },
  {
   "cell_type": "markdown",
   "metadata": {
    "hidden": true
   },
   "source": [
    "TEST: Get node position"
   ]
  },
  {
   "cell_type": "code",
   "execution_count": null,
   "metadata": {
    "hidden": true
   },
   "outputs": [],
   "source": [
    "JS(\"\"\"\n",
    "\n",
    "cy.nodes().on(\"click\", function(){\n",
    "    console.log( this.position() )\n",
    "});\n",
    "\"\"\")"
   ]
  },
  {
   "cell_type": "code",
   "execution_count": null,
   "metadata": {
    "hidden": true
   },
   "outputs": [],
   "source": [
    "JS(\"\"\"\n",
    "\n",
    "cy.nodes().on(\"click\", function(){\n",
    "    console.log( this.style() )\n",
    "});\n",
    "\"\"\")\n",
    "\n"
   ]
  },
  {
   "cell_type": "markdown",
   "metadata": {
    "hidden": true
   },
   "source": [
    "TEST: Remove Listeners"
   ]
  },
  {
   "cell_type": "code",
   "execution_count": null,
   "metadata": {
    "hidden": true
   },
   "outputs": [],
   "source": [
    "JS(\"\"\"\n",
    "cy.nodes().removeListener( \"click\" )\n",
    "cy.nodes().removeListener( \"select\" )\n",
    "cy.removeListener( \"tap\" )\n",
    "\"\"\")"
   ]
  },
  {
   "cell_type": "markdown",
   "metadata": {
    "hidden": true
   },
   "source": [
    "TEST: Selected Element"
   ]
  },
  {
   "cell_type": "code",
   "execution_count": null,
   "metadata": {
    "hidden": true
   },
   "outputs": [],
   "source": [
    "JS(\"\"\"\n",
    "console.log( cy.$(':selected') )\n",
    "\"\"\")"
   ]
  },
  {
   "cell_type": "markdown",
   "metadata": {
    "hidden": true
   },
   "source": [
    "TEST: Jquery commands [Things you can search for](http://js.cytoscape.org/#notation/elements-json) ... [Mayber things u search for?](http://js.cytoscape.org/#selectors/state)"
   ]
  },
  {
   "cell_type": "code",
   "execution_count": null,
   "metadata": {
    "hidden": true
   },
   "outputs": [],
   "source": [
    "JS(\"\"\"\n",
    "console.log( cy.$(':selectable') )\n",
    "\"\"\")"
   ]
  },
  {
   "cell_type": "markdown",
   "metadata": {
    "hidden": true
   },
   "source": [
    "**TEST: Change Something on select [Things you can select](http://js.cytoscape.org/#events/user-input-device-events)**"
   ]
  },
  {
   "cell_type": "code",
   "execution_count": null,
   "metadata": {
    "hidden": true
   },
   "outputs": [],
   "source": [
    "JS(\"\"\"\n",
    "\n",
    "cy.nodes().removeListener( \"select\" )\n",
    "\n",
    "cy.nodes().on(\"select\", function(){\n",
    "    this.style({'background-blacken': .3 });\n",
    "});\n",
    "\n",
    "cy.nodes().on(\"unselect\", function(){\n",
    "    this.style({'background-blacken': 0 });\n",
    "});\n",
    "\"\"\")"
   ]
  },
  {
   "cell_type": "markdown",
   "metadata": {
    "hidden": true
   },
   "source": [
    "** TEST: Add nodes when clicking **"
   ]
  },
  {
   "cell_type": "code",
   "execution_count": null,
   "metadata": {
    "hidden": true
   },
   "outputs": [],
   "source": [
    "JS(\"\"\"\n",
    "    var checkit;\n",
    "    \n",
    "    \n",
    "    cy.removeListener( \"tap\" )            // <-- Clears all previous cy \"tap\" evens\n",
    "    cy.on('tap', function(event){        // <-- on \"tapping\" canvas\n",
    "      if( event.target === cy ){         // <-- If we tapped on the background\n",
    "\n",
    "          checkit = cy.add([ {  group: \"nodes\", position: event.position  } ]);            \n",
    "\n",
    "      } \n",
    "    });\n",
    "\"\"\")"
   ]
  },
  {
   "cell_type": "markdown",
   "metadata": {
    "hidden": true
   },
   "source": [
    "**TEST: Add Edge on double click**"
   ]
  },
  {
   "cell_type": "code",
   "execution_count": null,
   "metadata": {
    "hidden": true
   },
   "outputs": [],
   "source": [
    "JS(\"\"\"\n",
    "cy.removeListener( \"tap\" )  \n",
    "\"\"\")"
   ]
  },
  {
   "cell_type": "code",
   "execution_count": null,
   "metadata": {
    "hidden": true
   },
   "outputs": [],
   "source": [
    "JS(\"\"\"\n",
    "    cy.io.click_hist = [\"1\", \"2\", \"3\", \"4\"];\n",
    "    \n",
    "    cy.removeListener( \"click\" )                               // <-- Clears all previous cy \"tap\" evens\n",
    "    cy.on(\"click\" , function(event){                              // <-- on \"tapping\" canvas\n",
    "    \n",
    "      cy.io.click_hist.shift();                                         //<-- Remove oldest click\n",
    "      \n",
    "      if( event.target !== cy && event.target.isNode() ){         // <-- If we tapped a Node\n",
    "          cy.io.click_hist.push( event.target.id() );                  // <-- Add node id to click history\n",
    "          \n",
    "          if( cy.io.click_hist[0]==cy.io.click_hist[1] && cy.io.click_hist[2]==cy.io.click_hist[3] ){      //<-- If 2 double clicks\n",
    "              \n",
    "              cy.add([ {  data: { source: cy.io.click_hist[0], target: cy.io.click_hist[2] }  } ]); //<-- add edge\n",
    "          }\n",
    "          \n",
    "          \n",
    "      }else{                                           //<-- if we didn't click a node\n",
    "          cy.io.click_hist.push( String(Math.random()) );   //<-- Add random string to click history (repeats unlikely)\n",
    "      \n",
    "      } \n",
    "      \n",
    "    });\n",
    "\"\"\")"
   ]
  }
 ],
 "metadata": {
  "hide_input": false,
  "kernelspec": {
   "display_name": "Python 3",
   "language": "python",
   "name": "python3"
  },
  "language_info": {
   "codemirror_mode": {
    "name": "ipython",
    "version": 3
   },
   "file_extension": ".py",
   "mimetype": "text/x-python",
   "name": "python",
   "nbconvert_exporter": "python",
   "pygments_lexer": "ipython3",
   "version": "3.6.5"
  },
  "toc": {
   "base_numbering": 1,
   "nav_menu": {},
   "number_sections": true,
   "sideBar": true,
   "skip_h1_title": false,
   "title_cell": "Table of Contents",
   "title_sidebar": "Contents",
   "toc_cell": false,
   "toc_position": {},
   "toc_section_display": true,
   "toc_window_display": false
  },
  "varInspector": {
   "cols": {
    "lenName": 16,
    "lenType": 16,
    "lenVar": 40
   },
   "kernels_config": {
    "python": {
     "delete_cmd_postfix": "",
     "delete_cmd_prefix": "del ",
     "library": "var_list.py",
     "varRefreshCmd": "print(var_dic_list())"
    },
    "r": {
     "delete_cmd_postfix": ") ",
     "delete_cmd_prefix": "rm(",
     "library": "var_list.r",
     "varRefreshCmd": "cat(var_dic_list()) "
    }
   },
   "types_to_exclude": [
    "module",
    "function",
    "builtin_function_or_method",
    "instance",
    "_Feature"
   ],
   "window_display": false
  }
 },
 "nbformat": 4,
 "nbformat_minor": 2
}
