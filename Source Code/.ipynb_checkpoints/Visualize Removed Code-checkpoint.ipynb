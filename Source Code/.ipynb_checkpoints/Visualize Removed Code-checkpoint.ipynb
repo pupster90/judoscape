{
 "cells": [
  {
   "cell_type": "code",
   "execution_count": null,
   "metadata": {},
   "outputs": [],
   "source": []
  },
  {
   "cell_type": "markdown",
   "metadata": {
    "heading_collapsed": true
   },
   "source": [
    "# Helper: <font color=\"magenta\">Output</font><font color=\"orange\">.JS</font> <font color=\"red\">unfinished</font>"
   ]
  },
  {
   "cell_type": "markdown",
   "metadata": {
    "hidden": true
   },
   "source": [
    "**<font color=\"magenta\">OutputJS</font>** is a very useful <font color=\"magenta\">python class</font>/<font color=\"orange\">javascript function</font> that allows variable to go from: <font color=\"orange\">javascript</font> $\\rightarrow$ <font color=\"blue\">python</font>."
   ]
  },
  {
   "cell_type": "markdown",
   "metadata": {
    "hidden": true
   },
   "source": [
    "**Python Code**\n",
    "```python\n",
    "JS(\"OutputJS( 'howdy ho!' )\")\n",
    "OutputJS.var\n",
    "```\n",
    "** Output**\n",
    "```\n",
    "'howdy ho!'\n",
    "```"
   ]
  },
  {
   "cell_type": "code",
   "execution_count": null,
   "metadata": {
    "hidden": true
   },
   "outputs": [],
   "source": [
    "class Output():\n",
    "    var = \"\"\n",
    "    JS(\"\"\"function sleep(ms){ return new Promise( resolve => setTimeout(resolve, ms)); };  \"\"\")\n",
    "    JS(\"\"\"\n",
    "    async function OutputJS(text){ \n",
    "        Jupyter.notebook.kernel.execute( 'Output.var = \"'+String(text)+'\"' );  //<-- write text to python variable: Output.var \n",
    "        count = 1\n",
    "        while( Jupyter.notebook.kernel_busy && count < 25  ){                  //<-- wait for variable to be written, then continue\n",
    "            console.log( Jupyter.notebook.kernel_busy  )\n",
    "            count += 1\n",
    "            await sleep(100);\n",
    "        }\n",
    "        console.log(\"one more sleep\")\n",
    "        console.log( Jupyter.notebook.kernel_busy )\n",
    "        await sleep(1000);\n",
    "    };  \n",
    "    \"\"\")\n",
    "    \n",
    "    def JS(text):\n",
    "        JS(\"\"\"OutputJS(\"\"\"+text+\"\"\")\"\"\")\n",
    "        time.sleep(.1)\n",
    "        return Output.var\n",
    "        "
   ]
  },
  {
   "cell_type": "code",
   "execution_count": null,
   "metadata": {
    "hidden": true
   },
   "outputs": [],
   "source": [
    "#JS(\"\"\"OutputJS(x)\"\"\")\n",
    "#time.sleep(1)\n",
    "#Output.var"
   ]
  },
  {
   "cell_type": "markdown",
   "metadata": {
    "heading_collapsed": true
   },
   "source": [
    "# Old Widgets"
   ]
  },
  {
   "cell_type": "markdown",
   "metadata": {
    "heading_collapsed": true,
    "hidden": true
   },
   "source": [
    "## <font color=\"green\">Control Panel</font> "
   ]
  },
  {
   "cell_type": "markdown",
   "metadata": {
    "hidden": true
   },
   "source": [
    "**<font color=\"green\">widget : </font>**"
   ]
  },
  {
   "cell_type": "code",
   "execution_count": null,
   "metadata": {
    "hidden": true
   },
   "outputs": [],
   "source": [
    "Graph.w.ControlPanel= widgets.ToggleButtons(\n",
    "    options=[ 'Edit','Search','Graph Style'])\n",
    "#Graph.w.ControlPanel"
   ]
  },
  {
   "cell_type": "markdown",
   "metadata": {
    "hidden": true
   },
   "source": [
    "**<font color=\"blue\">Function : </font>**  <font color=\"blue\">ControlChanged</font> changes the editorBox display when the Control Panel changes."
   ]
  },
  {
   "cell_type": "code",
   "execution_count": null,
   "metadata": {
    "hidden": true
   },
   "outputs": [],
   "source": [
    "def ControlChanged(b):\n",
    "    #widg = Graph.w.ControlPanel.value.replace(\" \", \"\")\n",
    "    #Graph.editor_box.widg = getattr(Graph.w, widg).show\n",
    "    #Graph.editor_box.execute()\n",
    "    #clear_output()\n",
    "    #display(Graph.w.ControlPanel)\n",
    "    pass\n",
    "\n",
    "    \n",
    "Graph.w.ControlPanel.observe( ControlChanged )"
   ]
  },
  {
   "cell_type": "markdown",
   "metadata": {
    "hidden": true
   },
   "source": [
    "How to change button style\n",
    "\n",
    "```python\n",
    "Graph.w.ControlPanel.value = \"Search\"\n",
    "```"
   ]
  },
  {
   "cell_type": "markdown",
   "metadata": {
    "heading_collapsed": true,
    "hidden": true
   },
   "source": [
    "## <font color=\"green\">All nodes</font>"
   ]
  },
  {
   "cell_type": "code",
   "execution_count": null,
   "metadata": {
    "hidden": true
   },
   "outputs": [],
   "source": [
    "Graph.w.Edit.allNodes = ipw.Button(description='All Nodes')"
   ]
  },
  {
   "cell_type": "code",
   "execution_count": null,
   "metadata": {
    "hidden": true
   },
   "outputs": [],
   "source": [
    "def allNodes(b):\n",
    "    JS(\"cy.nodes().select()\")   #<-- delete elements\n",
    "Graph.wf.allNodes = allNodes\n",
    "Graph.w.Edit.allNodes.on_click( Graph.wf.allNodes )"
   ]
  },
  {
   "cell_type": "markdown",
   "metadata": {
    "heading_collapsed": true,
    "hidden": true
   },
   "source": [
    "## <font color=\"green\">All edges</font>"
   ]
  },
  {
   "cell_type": "code",
   "execution_count": null,
   "metadata": {
    "hidden": true
   },
   "outputs": [],
   "source": [
    "Graph.w.Edit.allEdges = ipw.Button(description='All Edges')"
   ]
  },
  {
   "cell_type": "code",
   "execution_count": null,
   "metadata": {
    "hidden": true
   },
   "outputs": [],
   "source": [
    "def allEdges(b):\n",
    "    JS(\"cy.edges().select()\")   #<-- delete elements\n",
    "Graph.wf.allEdges = allEdges\n",
    "Graph.w.Edit.allEdges.on_click( Graph.wf.allEdges )"
   ]
  },
  {
   "cell_type": "code",
   "execution_count": null,
   "metadata": {
    "hidden": true
   },
   "outputs": [],
   "source": []
  },
  {
   "cell_type": "markdown",
   "metadata": {
    "heading_collapsed": true,
    "hidden": true
   },
   "source": [
    "## <font color=\"green\">Add Node</font>"
   ]
  },
  {
   "cell_type": "code",
   "execution_count": 48,
   "metadata": {
    "hidden": true
   },
   "outputs": [],
   "source": [
    "Graph.w.AddNode = type(\"widget\",(),{})()"
   ]
  },
  {
   "cell_type": "code",
   "execution_count": 49,
   "metadata": {
    "hidden": true
   },
   "outputs": [
    {
     "data": {
      "application/vnd.jupyter.widget-view+json": {
       "model_id": "0b965cd59bb54e4caf8911a50e781215",
       "version_major": 2,
       "version_minor": 0
      },
      "text/plain": [
       "VBox(children=(HTML(value='<h4>Describe the New Node, then Click <font color=\"blue\">Add</font></h4>'), Text(va…"
      ]
     },
     "metadata": {},
     "output_type": "display_data"
    }
   ],
   "source": [
    "Graph.w.AddNode.head = ipw.HTML(\"\"\"<h4>Describe the New Node, then Click <font color=\"blue\">Add</font></h4>\"\"\")\n",
    "Graph.w.AddNode.id = ipw.Text(description='ID :')\n",
    "Graph.w.AddNode.button = ipw.Button(description='Add', button_style='info')\n",
    "Graph.w.AddNode.show = ipw.VBox( [Graph.w.AddNode.head, Graph.w.AddNode.id, Graph.w.AddNode.button ] )\n",
    "Graph.w.AddNode.show"
   ]
  },
  {
   "cell_type": "markdown",
   "metadata": {
    "heading_collapsed": true,
    "hidden": true
   },
   "source": [
    "### <font color=\"blue\">addNode</font>\n",
    "\n",
    "<font color=\"blue\">addNode</font> adds a nodes to the network"
   ]
  },
  {
   "cell_type": "markdown",
   "metadata": {
    "hidden": true
   },
   "source": [
    "**<font color=\"red\">Function NOT Implemented</font>**"
   ]
  },
  {
   "cell_type": "code",
   "execution_count": 50,
   "metadata": {
    "hidden": true
   },
   "outputs": [],
   "source": [
    "def AddNode(b):\n",
    "    w_id= Graph.w.AddNode.id.value\n",
    "    JS(\"\"\"\n",
    "    cy.add([\n",
    "      { group: \"nodes\", data: { id: '{w_id}' } , position: { x: 100, y: 200 } },\n",
    "    ]);\n",
    "    \"\"\")\n",
    "Graph.wf.AddNode = AddNode\n",
    "Graph.w.AddNode.button.on_click( Graph.wf.AddNode )  #<-- function when widget is clicked"
   ]
  },
  {
   "cell_type": "code",
   "execution_count": null,
   "metadata": {
    "hidden": true
   },
   "outputs": [],
   "source": []
  },
  {
   "cell_type": "markdown",
   "metadata": {
    "heading_collapsed": true,
    "hidden": true
   },
   "source": [
    "## <font color=\"green\">Add Edge</font>"
   ]
  },
  {
   "cell_type": "code",
   "execution_count": 51,
   "metadata": {
    "hidden": true
   },
   "outputs": [],
   "source": [
    "Graph.w.AddEdge = type(\"widget\",(),{})()\n",
    "Graph.w.AddEdge.show = ipw.HTML(\"\"\"<h4 class=\"text-danger\">Widget NOT Implemented</h4>\"\"\")"
   ]
  },
  {
   "cell_type": "markdown",
   "metadata": {
    "hidden": true
   },
   "source": [
    "### <font color=\"blue\">addEdge</font>\n",
    "\n",
    "<font color=\"blue\">addEdge</font> adds an edge to the network"
   ]
  },
  {
   "cell_type": "markdown",
   "metadata": {
    "hidden": true
   },
   "source": [
    "**<font color=\"red\">Function NOT Implemented</font>**"
   ]
  },
  {
   "cell_type": "code",
   "execution_count": 52,
   "metadata": {
    "hidden": true
   },
   "outputs": [],
   "source": [
    "def AddEdge(b):#self, source, target, id):\n",
    "    \"\"\"JS(\n",
    "    cy.add([\n",
    "      { group: \"edges\", data: { id: \"e0\", source: \"n0\", target: \"n1\" } }\n",
    "    ]);\n",
    "    )\"\"\"\n",
    "Graph.wf.AddEdge = AddEdge"
   ]
  },
  {
   "cell_type": "code",
   "execution_count": null,
   "metadata": {
    "hidden": true
   },
   "outputs": [],
   "source": []
  },
  {
   "cell_type": "code",
   "execution_count": null,
   "metadata": {
    "hidden": true
   },
   "outputs": [],
   "source": []
  },
  {
   "cell_type": "code",
   "execution_count": null,
   "metadata": {
    "hidden": true
   },
   "outputs": [],
   "source": []
  },
  {
   "cell_type": "code",
   "execution_count": null,
   "metadata": {
    "hidden": true
   },
   "outputs": [],
   "source": []
  },
  {
   "cell_type": "markdown",
   "metadata": {
    "heading_collapsed": true
   },
   "source": [
    "# Previous Default Style\n",
    "\n",
    "This style was what was previously called inside of the **Graph.start** command"
   ]
  },
  {
   "cell_type": "code",
   "execution_count": null,
   "metadata": {
    "hidden": true
   },
   "outputs": [],
   "source": [
    "    style: [ { selector: 'node', style: { 'height': 20, 'width': 20, 'background-color': 'gray' } },\n",
    "     { selector: 'edge', style: { 'width': 5, 'opacity': 0.5, 'line-color': 'gray'} } ]"
   ]
  },
  {
   "cell_type": "code",
   "execution_count": null,
   "metadata": {
    "hidden": true
   },
   "outputs": [],
   "source": []
  },
  {
   "cell_type": "markdown",
   "metadata": {},
   "source": [
    "#  JS commands"
   ]
  },
  {
   "cell_type": "markdown",
   "metadata": {},
   "source": [
    "## <font color=\"orange\">selection Highligh</font>\n",
    "\n",
    "\n",
    "This functions makes the nodes change color when they are selected"
   ]
  },
  {
   "cell_type": "code",
   "execution_count": null,
   "metadata": {},
   "outputs": [],
   "source": [
    "def selectColor(self):\n",
    "    JS(\"\"\"\n",
    "    cy.on(\"select\", 'node' , function(){\n",
    "        this.style({'background-blacken': .4 });\n",
    "    });\n",
    "    cy.on(\"unselect\", 'node' , function(){\n",
    "        this.style({'background-blacken': 0 });\n",
    "    });\n",
    "    \"\"\")\n",
    "JS_Helper.selectColor = selectColor"
   ]
  },
  {
   "cell_type": "markdown",
   "metadata": {},
   "source": [
    "## Editor_Box changer (tried to stop flashes)"
   ]
  },
  {
   "cell_type": "code",
   "execution_count": null,
   "metadata": {},
   "outputs": [],
   "source": [
    "JS(\"\"\"\n",
    "    var check = 0;\n",
    "    var check_var;\n",
    "    cy.io.last_type = \"Nothing\";\n",
    "\n",
    "    cy.io.test = function(event){\n",
    "        cy.io.selection = cy.$(':selected')                 //<-- Get selected elements\n",
    "        cy.io.last_type = cy.io.select_type \n",
    "         \n",
    "        if( cy.io.selection.length == 0  ){                 //<-- Do nothing if nothing's selected\n",
    "            return\n",
    "        } else if( cy.io.selection.length == 1 ){           //<-- If selection lenght is 1\n",
    "        \n",
    "            if( cy.io.selection.isNode() && cy.io.last_type != \"1 node\" ){                      //<-- If it's a node\n",
    "                console.log(\"selection changed\")\n",
    "                cy.io.select_type = \"1 node\"\n",
    "                Jupyter.notebook.kernel.execute(\"Graph.editor_box.widg = Graph.w.Edit.boxAll\")\n",
    "                IPython.notebook.execute_cells([cy.io.edit_num])  //<-- cy.io.edit_num was setup by the Graph.editor_box\n",
    "                \n",
    "            } else if(  cy.io.last_type != \"1 edge\" ){                                              //<-- If it's an edge\n",
    "                cy.io.select_type = \"1 edge\"\n",
    "                Jupyter.notebook.kernel.execute(\"Graph.editor_box.widg = Graph.w.Edit.boxAll\")\n",
    "                IPython.notebook.execute_cells([cy.io.edit_num])  //<-- cy.io.edit_num was setup by the Graph.editor_box\n",
    "            }\n",
    "            \n",
    "        } else {                                           //<-- If Many elements\n",
    "            console.log(\"many items\")\n",
    "        }\n",
    "        \n",
    "    };\n",
    "\n",
    "    cy.on('select unselect', 'node, edge', cy.io.test );\n",
    "\"\"\")"
   ]
  },
  {
   "cell_type": "markdown",
   "metadata": {},
   "source": [
    "## When Testing Stuff:"
   ]
  },
  {
   "cell_type": "markdown",
   "metadata": {},
   "source": [
    "TEST: Add nodes"
   ]
  },
  {
   "cell_type": "code",
   "execution_count": 22,
   "metadata": {
    "cell_style": "center"
   },
   "outputs": [
    {
     "data": {
      "text/html": [
       "<script>\n",
       "    cy.add([\n",
       "      { group: \"nodes\" },\n",
       "    ]);\n",
       "    \n",
       "    cy.layout({ name: 'circle'}).run();\n",
       "</script>"
      ],
      "text/plain": [
       "<IPython.core.display.HTML object>"
      ]
     },
     "metadata": {},
     "output_type": "display_data"
    }
   ],
   "source": [
    "JS(\"\"\"\n",
    "    cy.add([\n",
    "      { group: \"nodes\" },\n",
    "    ]);\n",
    "    \n",
    "    cy.layout({ name: 'circle'}).run();\n",
    "\"\"\")"
   ]
  },
  {
   "cell_type": "markdown",
   "metadata": {},
   "source": [
    "TEST: Get clicked node info to console"
   ]
  },
  {
   "cell_type": "code",
   "execution_count": 951,
   "metadata": {},
   "outputs": [
    {
     "data": {
      "text/html": [
       "<script>\n",
       "\n",
       "cyto.nodes().on(\"click\", function(){\n",
       "  console.log( this )\n",
       "});\n",
       "</script>"
      ],
      "text/plain": [
       "<IPython.core.display.HTML object>"
      ]
     },
     "metadata": {},
     "output_type": "display_data"
    }
   ],
   "source": [
    "JS(\"\"\"\n",
    "\n",
    "cy.nodes().on(\"click\", function(){\n",
    "  console.log( this )\n",
    "});\n",
    "\"\"\")"
   ]
  },
  {
   "cell_type": "markdown",
   "metadata": {},
   "source": [
    "TEST: get more specific node info:"
   ]
  },
  {
   "cell_type": "code",
   "execution_count": 955,
   "metadata": {},
   "outputs": [
    {
     "data": {
      "text/html": [
       "<script>\n",
       "\n",
       "cyto.nodes().on(\"click\", function(){\n",
       "\n",
       "});\n",
       "</script>"
      ],
      "text/plain": [
       "<IPython.core.display.HTML object>"
      ]
     },
     "metadata": {},
     "output_type": "display_data"
    }
   ],
   "source": [
    "JS(\"\"\"\n",
    "\n",
    "cy.nodes().on(\"click\", function(){\n",
    "  console.log( this.data() );\n",
    "  console.log( \" \" );console.log( \" \" );\n",
    "  console.log( this.style );\n",
    "});\n",
    "\"\"\")"
   ]
  },
  {
   "cell_type": "markdown",
   "metadata": {},
   "source": [
    "TEST: Change color on click"
   ]
  },
  {
   "cell_type": "code",
   "execution_count": 953,
   "metadata": {},
   "outputs": [
    {
     "data": {
      "text/html": [
       "<script>\n",
       "\n",
       "cyto.nodes().on(\"click\", function(){\n",
       "\n",
       "});\n",
       "</script>"
      ],
      "text/plain": [
       "<IPython.core.display.HTML object>"
      ]
     },
     "metadata": {},
     "output_type": "display_data"
    }
   ],
   "source": [
    "JS(\"\"\"\n",
    "\n",
    "cy.nodes().on(\"click\", function(){\n",
    "    this.style('background-color', 'magenta');\n",
    "});\n",
    "\"\"\")"
   ]
  },
  {
   "cell_type": "markdown",
   "metadata": {},
   "source": [
    "TEST: Another color change"
   ]
  },
  {
   "cell_type": "code",
   "execution_count": 961,
   "metadata": {},
   "outputs": [
    {
     "data": {
      "text/html": [
       "<script>\n",
       "\n",
       "cyto.nodes().on(\"click\", function(){\n",
       "    this.style({'background-color': 'blue'});\n",
       "});\n",
       "</script>"
      ],
      "text/plain": [
       "<IPython.core.display.HTML object>"
      ]
     },
     "metadata": {},
     "output_type": "display_data"
    }
   ],
   "source": [
    "JS(\"\"\"\n",
    "\n",
    "cy.nodes().on(\"click\", function(){\n",
    "    this.style({'background-color': 'blue'});\n",
    "});\n",
    "\"\"\")"
   ]
  },
  {
   "cell_type": "markdown",
   "metadata": {},
   "source": [
    "TEST: Get node position"
   ]
  },
  {
   "cell_type": "code",
   "execution_count": 957,
   "metadata": {},
   "outputs": [
    {
     "data": {
      "text/html": [
       "<script>\n",
       "\n",
       "cyto.nodes().on(\"click\", function(){\n",
       "    console.log( this.position() )\n",
       "});\n",
       "</script>"
      ],
      "text/plain": [
       "<IPython.core.display.HTML object>"
      ]
     },
     "metadata": {},
     "output_type": "display_data"
    }
   ],
   "source": [
    "JS(\"\"\"\n",
    "\n",
    "cy.nodes().on(\"click\", function(){\n",
    "    console.log( this.position() )\n",
    "});\n",
    "\"\"\")"
   ]
  },
  {
   "cell_type": "code",
   "execution_count": 960,
   "metadata": {},
   "outputs": [
    {
     "data": {
      "text/html": [
       "<script>\n",
       "\n",
       "cyto.nodes().on(\"click\", function(){\n",
       "    console.log( this.style() )\n",
       "});\n",
       "</script>"
      ],
      "text/plain": [
       "<IPython.core.display.HTML object>"
      ]
     },
     "metadata": {},
     "output_type": "display_data"
    }
   ],
   "source": [
    "JS(\"\"\"\n",
    "\n",
    "cy.nodes().on(\"click\", function(){\n",
    "    console.log( this.style() )\n",
    "});\n",
    "\"\"\")\n",
    "\n"
   ]
  },
  {
   "cell_type": "markdown",
   "metadata": {},
   "source": [
    "TEST: Remove Listeners"
   ]
  },
  {
   "cell_type": "code",
   "execution_count": 990,
   "metadata": {},
   "outputs": [
    {
     "data": {
      "text/html": [
       "<script>\n",
       "cy.nodes().removeListener( \"click\" )\n",
       "cy.nodes().removeListener( \"select\" )\n",
       "cy.removeListener( \"tap\" )\n",
       "</script>"
      ],
      "text/plain": [
       "<IPython.core.display.HTML object>"
      ]
     },
     "metadata": {},
     "output_type": "display_data"
    }
   ],
   "source": [
    "JS(\"\"\"\n",
    "cy.nodes().removeListener( \"click\" )\n",
    "cy.nodes().removeListener( \"select\" )\n",
    "cy.removeListener( \"tap\" )\n",
    "\"\"\")"
   ]
  },
  {
   "cell_type": "markdown",
   "metadata": {},
   "source": [
    "TEST: Selected Element"
   ]
  },
  {
   "cell_type": "code",
   "execution_count": 969,
   "metadata": {},
   "outputs": [
    {
     "data": {
      "text/html": [
       "<script>\n",
       "console.log( cyto.$(':selected') )\n",
       "</script>"
      ],
      "text/plain": [
       "<IPython.core.display.HTML object>"
      ]
     },
     "metadata": {},
     "output_type": "display_data"
    }
   ],
   "source": [
    "JS(\"\"\"\n",
    "console.log( cy.$(':selected') )\n",
    "\"\"\")"
   ]
  },
  {
   "cell_type": "markdown",
   "metadata": {},
   "source": [
    "TEST: Jquery commands [Things you can search for](http://js.cytoscape.org/#notation/elements-json) ... [Mayber things u search for?](http://js.cytoscape.org/#selectors/state)"
   ]
  },
  {
   "cell_type": "code",
   "execution_count": 970,
   "metadata": {},
   "outputs": [
    {
     "data": {
      "text/html": [
       "<script>\n",
       "console.log( cyto.$(':selectable') )\n",
       "</script>"
      ],
      "text/plain": [
       "<IPython.core.display.HTML object>"
      ]
     },
     "metadata": {},
     "output_type": "display_data"
    }
   ],
   "source": [
    "JS(\"\"\"\n",
    "console.log( cy.$(':selectable') )\n",
    "\"\"\")"
   ]
  },
  {
   "cell_type": "markdown",
   "metadata": {},
   "source": [
    "**TEST: Change Something on select [Things you can select](http://js.cytoscape.org/#events/user-input-device-events)**"
   ]
  },
  {
   "cell_type": "code",
   "execution_count": 1015,
   "metadata": {},
   "outputs": [
    {
     "data": {
      "text/html": [
       "<script>\n",
       "\n",
       "cy.nodes().removeListener( \"select\" )\n",
       "\n",
       "cy.nodes().on(\"select\", function(){\n",
       "    this.style({'background-blacken': .3 });\n",
       "});\n",
       "\n",
       "cy.nodes().on(\"unselect\", function(){\n",
       "    this.style({'background-blacken': 0 });\n",
       "});\n",
       "</script>"
      ],
      "text/plain": [
       "<IPython.core.display.HTML object>"
      ]
     },
     "metadata": {},
     "output_type": "display_data"
    }
   ],
   "source": [
    "JS(\"\"\"\n",
    "\n",
    "cy.nodes().removeListener( \"select\" )\n",
    "\n",
    "cy.nodes().on(\"select\", function(){\n",
    "    this.style({'background-blacken': .3 });\n",
    "});\n",
    "\n",
    "cy.nodes().on(\"unselect\", function(){\n",
    "    this.style({'background-blacken': 0 });\n",
    "});\n",
    "\"\"\")"
   ]
  },
  {
   "cell_type": "markdown",
   "metadata": {},
   "source": [
    "** TEST: Add nodes when clicking **"
   ]
  },
  {
   "cell_type": "code",
   "execution_count": 1011,
   "metadata": {},
   "outputs": [
    {
     "data": {
      "text/html": [
       "<script>\n",
       "    var checkit;\n",
       "    \n",
       "    \n",
       "    cy.removeListener( \"tap\" )            // <-- Clears all previous cy \"tap\" evens\n",
       "    cy.on('tap', function(event){        // <-- on \"tapping\" canvas\n",
       "      if( event.target === cy ){         // <-- If we tapped on the background\n",
       "\n",
       "          checkit = cy.add([ {  group: \"nodes\", position: event.position  } ]);            \n",
       "\n",
       "      } \n",
       "    });\n",
       "</script>"
      ],
      "text/plain": [
       "<IPython.core.display.HTML object>"
      ]
     },
     "metadata": {},
     "output_type": "display_data"
    }
   ],
   "source": [
    "JS(\"\"\"\n",
    "    var checkit;\n",
    "    \n",
    "    \n",
    "    cy.removeListener( \"tap\" )            // <-- Clears all previous cy \"tap\" evens\n",
    "    cy.on('tap', function(event){        // <-- on \"tapping\" canvas\n",
    "      if( event.target === cy ){         // <-- If we tapped on the background\n",
    "\n",
    "          checkit = cy.add([ {  group: \"nodes\", position: event.position  } ]);            \n",
    "\n",
    "      } \n",
    "    });\n",
    "\"\"\")"
   ]
  },
  {
   "cell_type": "markdown",
   "metadata": {},
   "source": [
    "**TEST: Add Edge on double click**"
   ]
  },
  {
   "cell_type": "code",
   "execution_count": 1027,
   "metadata": {},
   "outputs": [
    {
     "data": {
      "text/html": [
       "<script>\n",
       "cy.removeListener( \"tap\" )  \n",
       "</script>"
      ],
      "text/plain": [
       "<IPython.core.display.HTML object>"
      ]
     },
     "metadata": {},
     "output_type": "display_data"
    }
   ],
   "source": [
    "JS(\"\"\"\n",
    "cy.removeListener( \"tap\" )  \n",
    "\"\"\")"
   ]
  },
  {
   "cell_type": "code",
   "execution_count": 1029,
   "metadata": {},
   "outputs": [
    {
     "data": {
      "text/html": [
       "<script>\n",
       "    var click_hist = [\"1\", \"2\", \"3\", \"4\"];\n",
       "    var checkit;\n",
       "    \n",
       "\n",
       "    cy.removeListener( \"click\" )                               // <-- Clears all previous cy \"tap\" evens\n",
       "    cy.on(\"click\" , function(event){                              // <-- on \"tapping\" canvas\n",
       "    \n",
       "      click_hist.shift();                                         //<-- Remove oldest click\n",
       "      \n",
       "      if( event.target !== cy && event.target.isNode() ){         // <-- If we tapped a Node\n",
       "          click_hist.push( event.target.id() );                  // <-- Add node id to click history\n",
       "          \n",
       "          if( click_hist[0]==click_hist[1] && click_hist[2]==click_hist[3] ){      //<-- If 2 double clicks\n",
       "              \n",
       "              cy.add([ {  data: { source: click_hist[0], target: click_hist[2] }  } ]); //<-- add edge\n",
       "          }\n",
       "          \n",
       "          \n",
       "      }else{                                           //<-- if we didn't click a node\n",
       "          click_hist.push( String(Math.random()) );   //<-- Add random string to click history (repeats unlikely)\n",
       "      \n",
       "      } \n",
       "      \n",
       "    });\n",
       "</script>"
      ],
      "text/plain": [
       "<IPython.core.display.HTML object>"
      ]
     },
     "metadata": {},
     "output_type": "display_data"
    }
   ],
   "source": [
    "JS(\"\"\"\n",
    "    cy.io.click_hist = [\"1\", \"2\", \"3\", \"4\"];\n",
    "    \n",
    "    cy.removeListener( \"click\" )                               // <-- Clears all previous cy \"tap\" evens\n",
    "    cy.on(\"click\" , function(event){                              // <-- on \"tapping\" canvas\n",
    "    \n",
    "      cy.io.click_hist.shift();                                         //<-- Remove oldest click\n",
    "      \n",
    "      if( event.target !== cy && event.target.isNode() ){         // <-- If we tapped a Node\n",
    "          cy.io.click_hist.push( event.target.id() );                  // <-- Add node id to click history\n",
    "          \n",
    "          if( cy.io.click_hist[0]==cy.io.click_hist[1] && cy.io.click_hist[2]==cy.io.click_hist[3] ){      //<-- If 2 double clicks\n",
    "              \n",
    "              cy.add([ {  data: { source: cy.io.click_hist[0], target: cy.io.click_hist[2] }  } ]); //<-- add edge\n",
    "          }\n",
    "          \n",
    "          \n",
    "      }else{                                           //<-- if we didn't click a node\n",
    "          cy.io.click_hist.push( String(Math.random()) );   //<-- Add random string to click history (repeats unlikely)\n",
    "      \n",
    "      } \n",
    "      \n",
    "    });\n",
    "\"\"\")"
   ]
  }
 ],
 "metadata": {
  "hide_input": false,
  "kernelspec": {
   "display_name": "Python 3",
   "language": "python",
   "name": "python3"
  },
  "language_info": {
   "codemirror_mode": {
    "name": "ipython",
    "version": 3
   },
   "file_extension": ".py",
   "mimetype": "text/x-python",
   "name": "python",
   "nbconvert_exporter": "python",
   "pygments_lexer": "ipython3",
   "version": "3.6.5"
  },
  "toc": {
   "base_numbering": 1,
   "nav_menu": {},
   "number_sections": true,
   "sideBar": true,
   "skip_h1_title": false,
   "title_cell": "Table of Contents",
   "title_sidebar": "Contents",
   "toc_cell": false,
   "toc_position": {},
   "toc_section_display": true,
   "toc_window_display": false
  },
  "varInspector": {
   "cols": {
    "lenName": 16,
    "lenType": 16,
    "lenVar": 40
   },
   "kernels_config": {
    "python": {
     "delete_cmd_postfix": "",
     "delete_cmd_prefix": "del ",
     "library": "var_list.py",
     "varRefreshCmd": "print(var_dic_list())"
    },
    "r": {
     "delete_cmd_postfix": ") ",
     "delete_cmd_prefix": "rm(",
     "library": "var_list.r",
     "varRefreshCmd": "cat(var_dic_list()) "
    }
   },
   "types_to_exclude": [
    "module",
    "function",
    "builtin_function_or_method",
    "instance",
    "_Feature"
   ],
   "window_display": false
  }
 },
 "nbformat": 4,
 "nbformat_minor": 2
}
