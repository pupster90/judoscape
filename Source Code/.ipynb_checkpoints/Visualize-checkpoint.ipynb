{
 "cells": [
  {
   "cell_type": "markdown",
   "metadata": {},
   "source": [
    "<p></p><font size=8 face=\"courier\" color=\"magenta\">Visualize</font>"
   ]
  },
  {
   "cell_type": "markdown",
   "metadata": {},
   "source": [
    "This notebook creates the widget inside of the \"Visualize\" section of the [Cytoscape app](../Cytoscape.ipynb)."
   ]
  },
  {
   "cell_type": "markdown",
   "metadata": {},
   "source": [
    "# Setup Notebook"
   ]
  },
  {
   "cell_type": "markdown",
   "metadata": {
    "heading_collapsed": true
   },
   "source": [
    "## Load Stuff"
   ]
  },
  {
   "cell_type": "markdown",
   "metadata": {
    "hidden": true
   },
   "source": [
    "`%cd` sets the path to that of Cytoscape.ipynb"
   ]
  },
  {
   "cell_type": "code",
   "execution_count": 757,
   "metadata": {
    "hidden": true,
    "scrolled": true
   },
   "outputs": [
    {
     "name": "stdout",
     "output_type": "stream",
     "text": [
      "/root/Documents\n"
     ]
    },
    {
     "data": {
      "text/html": [
       "<script>var py = Jupyter.notebook.kernel</script>"
      ],
      "text/plain": [
       "<IPython.core.display.HTML object>"
      ]
     },
     "metadata": {},
     "output_type": "display_data"
    },
    {
     "data": {
      "text/html": [
       "\n",
       "<style>\n",
       "*{margin:0; padding:0;} html, body,              .container{margin:0;!important padding:0;!important}              .container { width:100% !important;}\n",
       "\n",
       "div.text_cell_render { /* Customize text cells */\n",
       "    font-size:1.1em;\n",
       "    line-height:1.1em;\n",
       "}\n",
       "\n",
       "</style>\n"
      ],
      "text/plain": [
       "<IPython.core.display.HTML object>"
      ]
     },
     "metadata": {},
     "output_type": "display_data"
    },
    {
     "data": {
      "text/html": [
       "\n",
       "<b style=\"color:red\">Note:</b> Somce cells are <font color=\"gray\">\"grayed out\"</font> with <i style=\"color:blue\">\"Debug\"</i> written next to them.\n",
       "<p>This was done to improve efficiency and to control what is shown in the final notebook. \n",
       "<b>Uncomment these cells</b> when working on hte notebook.</p>\n"
      ],
      "text/plain": [
       "<IPython.core.display.HTML object>"
      ]
     },
     "metadata": {},
     "output_type": "display_data"
    },
    {
     "data": {
      "text/html": [
       "\n",
       "<style>\n",
       "\n",
       "div.text_cell_render h1 { /* Main titles bigger, centered */\n",
       "text-align:center;\n",
       "}\n",
       "\n",
       "\n",
       "\n",
       "div.text_cell_render { /* Customize text cells */\n",
       "padding-left:3em;\n",
       "padding-right:3em;\n",
       "color: rgb(127, 127, 127);\n",
       "}\n",
       "</style>\n"
      ],
      "text/plain": [
       "<IPython.core.display.HTML object>"
      ]
     },
     "metadata": {},
     "output_type": "display_data"
    }
   ],
   "source": [
    "\"\"\" DEBUG \"\"\"\n",
    "%cd /root/Documents    \n",
    "%run \"Source Code/Setup Notebook.ipynb\" #<-- Debug\n",
    "%run \"Source Code/Setup Source.ipynb\"   #<-- Debug"
   ]
  },
  {
   "cell_type": "markdown",
   "metadata": {
    "heading_collapsed": true
   },
   "source": [
    "## Helper: <font color=\"magenta\">JupyterCell</font>\n",
    "\n",
    "<p></p>\n",
    " <font color=\"magenta\">JupyterCell</font> is a useful class that allows you to execute a specified *jupyter cell* from the command <font color=\"magenta\">JupyterCell</font><font color=\"blue\">.execute()</font>. This is used to change which <font color=\"green\">widget</font> is displayed inside of the visualizer's **editor cell**."
   ]
  },
  {
   "cell_type": "markdown",
   "metadata": {
    "hidden": true
   },
   "source": [
    "The editor box is the thing next to the visualizer where a user can change the graph. Notice that the contents of this box changes depending on what the user clicks on the control panel. The Control Panel/ Editor Box functionality is actually a little tricky to create in jupyter and require some special things to be built.\n"
   ]
  },
  {
   "cell_type": "code",
   "execution_count": 15,
   "metadata": {
    "hidden": true
   },
   "outputs": [],
   "source": [
    "class JupyterCell():\n",
    " \n",
    "    def __init__(self, cell_text, js_var, text_before=\"# \", ):\n",
    "        self.cell_text= cell_text\n",
    "        self.text_before= text_before\n",
    "        self.js_var = js_var\n",
    "        self.search()\n",
    "    \n",
    "    def search(self):\n",
    "        JS(\"\"\"\n",
    "        var cell_text= \"\";\n",
    "        \"\"\"+self.js_var+\"\"\"= 0;  \n",
    "        while( ! cell_text.includes('\"\"\"+self.text_before+self.cell_text+\"\"\"')  ){\n",
    "            cell_text = Jupyter.notebook.get_cell(\"\"\"+self.js_var+\"\"\").get_text();  //.element[\"0\"].innerText #<-- Old Way\n",
    "            \"\"\"+self.js_var+\"\"\"++\n",
    "        }\n",
    "        \"\"\"+self.js_var+\"\"\"--\n",
    "        \"\"\")\n",
    "    \n",
    "    def execute(self):  #<-- This gets the Cell by using the cell text. The cell text must be unique to that cell\n",
    "        self.search()\n",
    "        JS(\"\"\"IPython.notebook.execute_cells([\"\"\"+self.js_var+\"\"\"])\"\"\")"
   ]
  },
  {
   "cell_type": "markdown",
   "metadata": {
    "heading_collapsed": true
   },
   "source": [
    "## Create <font color=\"blue\">Python</font> <font color=\"magenta\">Graph</font> object\n",
    "\n",
    "Here we create the initial <font color=\"magenta\">Graph</font> class. This class is used to creat and manage the networks visualization. This section only consists of the initialization <font color=\"magenta\">Graph</font> and some of it's basic functions. Most of <font color=\"magenta\">Graph</font> functionality is actually implemented inside of the **Add Widgets** section"
   ]
  },
  {
   "cell_type": "markdown",
   "metadata": {
    "hidden": true
   },
   "source": [
    "The <font color=\"magenta\">Graph</font> Class is what is used to create and manage the networks visualization"
   ]
  },
  {
   "cell_type": "code",
   "execution_count": 16,
   "metadata": {
    "hidden": true
   },
   "outputs": [],
   "source": [
    "class Graph():\n",
    "        pass"
   ]
  },
  {
   "cell_type": "markdown",
   "metadata": {
    "heading_collapsed": true
   },
   "source": [
    "## Create <font color=\"olive\">HTML</font> Object *\"CY\"*\n",
    "\n",
    "This function uses the <font color=\"magenta\">JupyterCell</font> class to find *\"My Canvas Box\"* and then creates the **cy** html object"
   ]
  },
  {
   "cell_type": "code",
   "execution_count": 760,
   "metadata": {
    "hidden": true
   },
   "outputs": [
    {
     "data": {
      "text/html": [
       "<script>\n",
       "        var cell_text= \"\";\n",
       "        canvas_num= 0;  \n",
       "        while( ! cell_text.includes('# My Canvas Box')  ){\n",
       "            cell_text = Jupyter.notebook.get_cell(canvas_num).get_text();  //.element[\"0\"].innerText #<-- Old Way\n",
       "            canvas_num++\n",
       "        }\n",
       "        canvas_num--\n",
       "        </script>"
      ],
      "text/plain": [
       "<IPython.core.display.HTML object>"
      ]
     },
     "metadata": {},
     "output_type": "display_data"
    },
    {
     "data": {
      "text/html": [
       "<script>\n",
       "        var cell_text= \"\";\n",
       "        canvas_num= 0;  \n",
       "        while( ! cell_text.includes('# My Canvas Box')  ){\n",
       "            cell_text = Jupyter.notebook.get_cell(canvas_num).get_text();  //.element[\"0\"].innerText #<-- Old Way\n",
       "            canvas_num++\n",
       "        }\n",
       "        canvas_num--\n",
       "        </script>"
      ],
      "text/plain": [
       "<IPython.core.display.HTML object>"
      ]
     },
     "metadata": {},
     "output_type": "display_data"
    },
    {
     "data": {
      "text/html": [
       "<script>IPython.notebook.execute_cells([canvas_num])</script>"
      ],
      "text/plain": [
       "<IPython.core.display.HTML object>"
      ]
     },
     "metadata": {},
     "output_type": "display_data"
    }
   ],
   "source": [
    "Graph.canvas_box = JupyterCell(\"My Canvas Box\", \"canvas_num\")\n",
    "Graph.canvas_box.execute()"
   ]
  },
  {
   "cell_type": "markdown",
   "metadata": {
    "heading_collapsed": true
   },
   "source": [
    "## <font color=\"orange\">Start Javascript</font>"
   ]
  },
  {
   "cell_type": "markdown",
   "metadata": {
    "hidden": true
   },
   "source": [
    "create the editable the canvas that displays the network"
   ]
  },
  {
   "cell_type": "code",
   "execution_count": 762,
   "metadata": {
    "hidden": true
   },
   "outputs": [
    {
     "data": {
      "text/html": [
       "<script>\n",
       "var cy;\n",
       "require(['cytoscape'], function(cytoscape){ \n",
       "    cy = cytoscape({ container: document.getElementById('cy') });\n",
       "});\n",
       "</script>"
      ],
      "text/plain": [
       "<IPython.core.display.HTML object>"
      ]
     },
     "metadata": {},
     "output_type": "display_data"
    }
   ],
   "source": [
    "JS(\"\"\"\n",
    "var cy;\n",
    "require(['cytoscape'], function(cytoscape){ \n",
    "    cy = cytoscape({ container: document.getElementById('cy') });\n",
    "});\n",
    "\"\"\")"
   ]
  },
  {
   "cell_type": "markdown",
   "metadata": {
    "hidden": true
   },
   "source": [
    "initialize some settings for 'cy' "
   ]
  },
  {
   "cell_type": "code",
   "execution_count": 763,
   "metadata": {
    "hidden": true
   },
   "outputs": [],
   "source": [
    "### For Changing highlight features:\n",
    "#def selectColor(self):\n",
    "\n",
    "#checkit = cy.$(':selected')\n",
    "#checkit.style(\"overlay-color\",\"gray\")\n",
    "#checkit.style(\"overlay-opacity\",\".3\")\n",
    "#checkit.style(\"overlay-padding\",\"8px\")"
   ]
  },
  {
   "cell_type": "code",
   "execution_count": 764,
   "metadata": {
    "hidden": true
   },
   "outputs": [
    {
     "data": {
      "text/html": [
       "<script>\n",
       "    cy.io = {}       // <-- where we store all the parameters/variables we create        \n",
       "    cy.maxZoom(14)   // <-- Determine how much window zooms in and out\n",
       "    cy.minZoom(.4)\n",
       "\n",
       "    cy.on(\"select\", 'node, edge' , function(){     //<-- highlight node when selected\n",
       "        this.style( 'overlay-opacity', .4 );\n",
       "    });\n",
       "    cy.on(\"unselect\", 'node, edge' , function(){   //<-- unhighlight when not selected\n",
       "        this.style( 'overlay-opacity', 0 );\n",
       "    });\n",
       "</script>"
      ],
      "text/plain": [
       "<IPython.core.display.HTML object>"
      ]
     },
     "metadata": {},
     "output_type": "display_data"
    }
   ],
   "source": [
    "JS(\"\"\"\n",
    "    cy.io = {}       // <-- where we store all the parameters/variables we create        \n",
    "    cy.maxZoom(14)   // <-- Determine how much window zooms in and out\n",
    "    cy.minZoom(.4)\n",
    "\n",
    "    cy.on(\"select\", 'node, edge' , function(){     //<-- highlight node when selected\n",
    "        this.style( 'overlay-opacity', .4 );\n",
    "    });\n",
    "    cy.on(\"unselect\", 'node, edge' , function(){   //<-- unhighlight when not selected\n",
    "        this.style( 'overlay-opacity', 0 );\n",
    "    });\n",
    "\"\"\")"
   ]
  },
  {
   "cell_type": "markdown",
   "metadata": {
    "hidden": true
   },
   "source": [
    "Create default style for nodes and edges"
   ]
  },
  {
   "cell_type": "code",
   "execution_count": 765,
   "metadata": {
    "hidden": true
   },
   "outputs": [
    {
     "data": {
      "text/html": [
       "<script>\n",
       "cy.io.style = {}\n",
       "cy.io.style.node = { 'overlay-color': 'gray', 'overlay-padding': '2px', 'background-color': 'gray', 'text-background-color':'white',\n",
       "                        'text-border-width':'2px', 'text-background-padding':'4px' }\n",
       "cy.io.style.edge = { 'overlay-color': 'gray', 'overlay-padding': '8px', 'line-color': 'gray', 'curve-style': 'bezier', \n",
       "                        'text-background-color':'white', 'text-border-width':'2px', 'text-background-padding':'4px' }\n",
       "</script>"
      ],
      "text/plain": [
       "<IPython.core.display.HTML object>"
      ]
     },
     "metadata": {},
     "output_type": "display_data"
    }
   ],
   "source": [
    "JS(\"\"\"\n",
    "cy.io.style = {}\n",
    "cy.io.style.node = { 'overlay-color': 'gray', 'overlay-padding': '2px', 'background-color': 'gray', 'text-background-color':'white',\n",
    "                        'text-border-width':'2px', 'text-background-padding':'4px' }\n",
    "cy.io.style.edge = { 'overlay-color': 'gray', 'overlay-padding': '8px', 'line-color': 'gray', 'curve-style': 'bezier', \n",
    "                        'text-background-color':'white', 'text-border-width':'2px', 'text-background-padding':'4px' }\n",
    "\"\"\")"
   ]
  },
  {
   "cell_type": "markdown",
   "metadata": {
    "hidden": true
   },
   "source": [
    "When selecting/unselecting elements. Save selection search (for computational efficiency)"
   ]
  },
  {
   "cell_type": "code",
   "execution_count": 766,
   "metadata": {
    "hidden": true
   },
   "outputs": [
    {
     "data": {
      "text/html": [
       "<script> cy.on('select unselect', 'node, edge', function(event){ cy.io.selection= cy.$(':selected')  }); </script>"
      ],
      "text/plain": [
       "<IPython.core.display.HTML object>"
      ]
     },
     "metadata": {},
     "output_type": "display_data"
    }
   ],
   "source": [
    "JS(\" cy.on('select unselect', 'node, edge', function(event){ cy.io.selection= cy.$(':selected')  }); \")"
   ]
  },
  {
   "cell_type": "markdown",
   "metadata": {},
   "source": [
    "# <font color=\"orange\">Javascript Functions</font>"
   ]
  },
  {
   "cell_type": "markdown",
   "metadata": {
    "heading_collapsed": true
   },
   "source": [
    "## <font color=\"orange\">Set Styles</font>\n",
    "\n",
    "<font color=\"orange\">cy.io.style.set</font> sets the style of the node/edge when it's added to the graph. If the parameter, <font color=\"blue\">self</font> is true (default false) then function works the other way: \n",
    ">  <font color=\"orange\">cy.io.style</font> $\\leftarrow$ element.style() "
   ]
  },
  {
   "cell_type": "code",
   "execution_count": 767,
   "metadata": {
    "hidden": true
   },
   "outputs": [
    {
     "data": {
      "text/html": [
       "<script>\n",
       "cy.io.style.set = function(ele, self=false){\n",
       "    var style = (ele.isNode() ) ? cy.io.style.node : cy.io.style.edge ;\n",
       "    \n",
       "    if( self == false ){ //<-- set properties of element\n",
       "        for (var property in style ) {\n",
       "            if(  !/[A-Z]/.test(property) && !property.includes(\"pie\") && ele.style(property) != \"NaNpx\"  ){   //  remove cytoscape.js errors\n",
       "                ele.style( property, style[property] )\n",
       "           }\n",
       "        }    \n",
       "    }else{    \n",
       "        for( var property in ele.style() ){ \n",
       "            if(  !/[A-Z]/.test(property) && !property.includes(\"pie\") && ele.style(property) != \"NaNpx\"  ){   //  remove cytoscape.js errors\n",
       "                style[ property ] = ele.style( property ) \n",
       "           }\n",
       "        }\n",
       "    }\n",
       "\n",
       "};\n",
       "</script>"
      ],
      "text/plain": [
       "<IPython.core.display.HTML object>"
      ]
     },
     "metadata": {},
     "output_type": "display_data"
    }
   ],
   "source": [
    "JS(\"\"\"\n",
    "cy.io.style.set = function(ele, self=false){\n",
    "    var style = (ele.isNode() ) ? cy.io.style.node : cy.io.style.edge ;\n",
    "    \n",
    "    if( self == false ){ //<-- set properties of element\n",
    "        for (var property in style ) {\n",
    "            if(  !/[A-Z]/.test(property) && !property.includes(\"pie\") && ele.style(property) != \"NaNpx\"  ){   //  remove cytoscape.js errors\n",
    "                ele.style( property, style[property] )\n",
    "           }\n",
    "        }    \n",
    "    }else{    \n",
    "        for( var property in ele.style() ){ \n",
    "            if(  !/[A-Z]/.test(property) && !property.includes(\"pie\") && ele.style(property) != \"NaNpx\"  ){   //  remove cytoscape.js errors\n",
    "                style[ property ] = ele.style( property ) \n",
    "           }\n",
    "        }\n",
    "    }\n",
    "\n",
    "};\n",
    "\"\"\")"
   ]
  },
  {
   "cell_type": "markdown",
   "metadata": {
    "heading_collapsed": true
   },
   "source": [
    "## <font color=\"orange\">addNode</font>\n",
    "\n",
    "<font color=\"orange\">cy.io.addNode</font>  adds new nodes to the network when the clicks and empty part of the graph."
   ]
  },
  {
   "cell_type": "code",
   "execution_count": 768,
   "metadata": {
    "hidden": true
   },
   "outputs": [
    {
     "data": {
      "text/html": [
       "<script>\n",
       "cy.io.addNode = function(event){\n",
       "  if( event.target === cy ){                                                          // <-- If we tapped on the background\n",
       "      var ele = cy.add([ {  group: \"nodes\", position: event.position  } ]);          //<-- add node    \n",
       "      cy.io.style.set( ele )\n",
       "  }; \n",
       "};\n",
       "cy.on('tap', cy.io.addNode );\n",
       "</script>"
      ],
      "text/plain": [
       "<IPython.core.display.HTML object>"
      ]
     },
     "metadata": {},
     "output_type": "display_data"
    }
   ],
   "source": [
    "JS(\"\"\"\n",
    "cy.io.addNode = function(event){\n",
    "  if( event.target === cy ){                                                          // <-- If we tapped on the background\n",
    "      var ele = cy.add([ {  group: \"nodes\", position: event.position  } ]);          //<-- add node    \n",
    "      cy.io.style.set( ele )\n",
    "  }; \n",
    "};\n",
    "cy.on('tap', cy.io.addNode );\n",
    "\"\"\")"
   ]
  },
  {
   "cell_type": "markdown",
   "metadata": {
    "heading_collapsed": true
   },
   "source": [
    "## <font color=\"orange\">addEdge</font>\n",
    "\n",
    "<font color=\"orange\">cy.io.addEdge</font> adds a new edge when the use double clicks one nodes and then double clicks another node. <font color=\"orange\">addEdge</font> check for the double clicking and adds a new edge if necessary."
   ]
  },
  {
   "cell_type": "code",
   "execution_count": 769,
   "metadata": {
    "hidden": true
   },
   "outputs": [
    {
     "data": {
      "text/html": [
       "<script>\n",
       "cy.io.click_hist = [\"1\", \"2\", \"3\", \"4\"];\n",
       "\n",
       "cy.io.addEdge = function(event){                                    // <-- on \"tapping\" canvas\n",
       "    cy.io.click_hist.shift();                                         //<-- Remove oldest click\n",
       "\n",
       "    if( event.target !== cy && event.target.isNode() ){               // <-- If we tapped a Node\n",
       "      cy.io.click_hist.push( event.target.id() );                   // <-- Add node id to click history\n",
       "\n",
       "      if( cy.io.click_hist[0]==cy.io.click_hist[1] && cy.io.click_hist[2]==cy.io.click_hist[3] ){           //<-- If 2 double clicks\n",
       "          var ele= cy.add([ {  data: { source: cy.io.click_hist[0], target: cy.io.click_hist[2] }  } ]);    //<-- add edge\n",
       "          cy.io.style.set( ele )                                                                            //<-- add style of new edge\n",
       "      };\n",
       "\n",
       "    }else{                                                 //<-- if we didn't click a node\n",
       "      cy.io.click_hist.push( String(Math.random()) );   //<-- Add random string to click history (repeats unlikely)\n",
       "    }; \n",
       "};\n",
       "cy.on(\"click\" , cy.io.addEdge );\n",
       "</script>"
      ],
      "text/plain": [
       "<IPython.core.display.HTML object>"
      ]
     },
     "metadata": {},
     "output_type": "display_data"
    }
   ],
   "source": [
    "JS(\"\"\"\n",
    "cy.io.click_hist = [\"1\", \"2\", \"3\", \"4\"];\n",
    "\n",
    "cy.io.addEdge = function(event){                                    // <-- on \"tapping\" canvas\n",
    "    cy.io.click_hist.shift();                                         //<-- Remove oldest click\n",
    "\n",
    "    if( event.target !== cy && event.target.isNode() ){               // <-- If we tapped a Node\n",
    "      cy.io.click_hist.push( event.target.id() );                   // <-- Add node id to click history\n",
    "\n",
    "      if( cy.io.click_hist[0]==cy.io.click_hist[1] && cy.io.click_hist[2]==cy.io.click_hist[3] ){           //<-- If 2 double clicks\n",
    "          var ele= cy.add([ {  data: { source: cy.io.click_hist[0], target: cy.io.click_hist[2] }  } ]);    //<-- add edge\n",
    "          cy.io.style.set( ele )                                                                            //<-- add style of new edge\n",
    "      };\n",
    "\n",
    "    }else{                                                 //<-- if we didn't click a node\n",
    "      cy.io.click_hist.push( String(Math.random()) );   //<-- Add random string to click history (repeats unlikely)\n",
    "    }; \n",
    "};\n",
    "cy.on(\"click\" , cy.io.addEdge );\n",
    "\"\"\")"
   ]
  },
  {
   "cell_type": "markdown",
   "metadata": {
    "heading_collapsed": true
   },
   "source": [
    "## <font color=\"orange\">Change Style for Element</font>\n",
    "\n",
    "<font color=\"orange\">cy.io.style.change</font> is used to edit the style elements."
   ]
  },
  {
   "cell_type": "markdown",
   "metadata": {
    "hidden": true
   },
   "source": [
    "This process is a little involved because the style variables <font color=\"orange\">cy.io.style.node</font> and <font color=\"orange\">cy.io.style.edge</font> must also be set to the style of the current element, and then changed."
   ]
  },
  {
   "cell_type": "code",
   "execution_count": 770,
   "metadata": {
    "hidden": true
   },
   "outputs": [
    {
     "data": {
      "text/html": [
       "<script>\n",
       "cy.io.style.change = function(ele, property, value ){\n",
       "    cy.io.style.set( ele, self=true )                                     // Make style same as node type\n",
       "    var style = (ele.isNode() ) ? cy.io.style.node : cy.io.style.edge ;   // get style type\n",
       "    \n",
       "    typeof(property)\n",
       "    if( typeof(property)==\"string\" ){                                     // handle changing a single style property\n",
       "        style[ property ] = value                                             // change style value\n",
       "        ele.style( property, value )                                          // change element's value\n",
       "    }else{                                                                // Multiple properties\n",
       "        for(var i=0; i<property.length; i++){\n",
       "            style[ property[i] ] = value[i]\n",
       "            ele.style( property[i], value[i] )  \n",
       "        }\n",
       "    }\n",
       "\n",
       "};\n",
       "</script>"
      ],
      "text/plain": [
       "<IPython.core.display.HTML object>"
      ]
     },
     "metadata": {},
     "output_type": "display_data"
    }
   ],
   "source": [
    "JS(\"\"\"\n",
    "cy.io.style.change = function(ele, property, value ){\n",
    "    cy.io.style.set( ele, self=true )                                     // Make style same as node type\n",
    "    var style = (ele.isNode() ) ? cy.io.style.node : cy.io.style.edge ;   // get style type\n",
    "    \n",
    "    typeof(property)\n",
    "    if( typeof(property)==\"string\" ){                                     // handle changing a single style property\n",
    "        style[ property ] = value                                             // change style value\n",
    "        ele.style( property, value )                                          // change element's value\n",
    "    }else{                                                                // Multiple properties\n",
    "        for(var i=0; i<property.length; i++){\n",
    "            style[ property[i] ] = value[i]\n",
    "            ele.style( property[i], value[i] )  \n",
    "        }\n",
    "    }\n",
    "};\n",
    "\"\"\")"
   ]
  },
  {
   "cell_type": "markdown",
   "metadata": {},
   "source": [
    "# <font color=\"green\">Widgets</font> \n",
    "\n",
    "The purpose of the <font color=\"green\">widgets</font>  section is to create all the basic \"tools\" that are used to manipulate the cytoscape canvas. We create the tools and the functions that allow them to do their job. Later, in the **\"Display Boxes\"** section, we combine to the tools together to build a pretty layout"
   ]
  },
  {
   "cell_type": "code",
   "execution_count": 235,
   "metadata": {},
   "outputs": [],
   "source": [
    "Graph.w = type(\"widget_list\",(),{})()\n",
    "Graph.w.time = 0 #<-- used to measure time between update events (see size for example)\n",
    "Graph.w.vars = {}#<-- used to hold variable classes that a user creates"
   ]
  },
  {
   "cell_type": "markdown",
   "metadata": {},
   "source": [
    "## <font color=\"DarkKhaki\">Node</font> and <font color=\"purple\">Edge</font> <font color=\"green\">Widgets</font> "
   ]
  },
  {
   "cell_type": "markdown",
   "metadata": {
    "heading_collapsed": true
   },
   "source": [
    "### <font color=\"green\">Color </font> "
   ]
  },
  {
   "cell_type": "code",
   "execution_count": 184,
   "metadata": {
    "hidden": true
   },
   "outputs": [
    {
     "data": {
      "application/vnd.jupyter.widget-view+json": {
       "model_id": "adb727b83c8749f09a8a2601c59c5720",
       "version_major": 2,
       "version_minor": 0
      },
      "text/plain": [
       "ColorPicker(value='black')"
      ]
     },
     "metadata": {},
     "output_type": "display_data"
    }
   ],
   "source": [
    "Graph.w.color = ipw.ColorPicker(  )\n",
    "Graph.w.color"
   ]
  },
  {
   "cell_type": "code",
   "execution_count": 185,
   "metadata": {
    "code_folding": [],
    "hidden": true
   },
   "outputs": [],
   "source": [
    "def color(b):\n",
    "    values = \"['\"+Graph.w.color.value+\"','\"+Graph.w.color.value+\"']\"\n",
    "    display(Javascript(\"\"\"\n",
    "    for(var i=0; i < cy.io.selection.length; i++ ){\n",
    "        var ele = cy.io.selection[i]\n",
    "        cy.io.style.change( ele, [\"background-color\",\"line-color\"], \"\"\"+values+\"\"\"  )\n",
    "    }\n",
    "    \"\"\"))          \n",
    "Graph.w.color.observe( color )"
   ]
  },
  {
   "cell_type": "markdown",
   "metadata": {
    "heading_collapsed": true
   },
   "source": [
    "### <font color=\"green\">Size</font> "
   ]
  },
  {
   "cell_type": "code",
   "execution_count": 186,
   "metadata": {
    "hidden": true
   },
   "outputs": [
    {
     "data": {
      "application/vnd.jupyter.widget-view+json": {
       "model_id": "b395d026b8c040a79f63c697deeace89",
       "version_major": 2,
       "version_minor": 0
      },
      "text/plain": [
       "IntSlider(value=30, max=200, min=1)"
      ]
     },
     "metadata": {},
     "output_type": "display_data"
    }
   ],
   "source": [
    "Graph.w.size = ipw.IntSlider(value=30, min=1, max=200, continuous_update=True )\n",
    "Graph.w.size "
   ]
  },
  {
   "cell_type": "code",
   "execution_count": 187,
   "metadata": {
    "code_folding": [],
    "hidden": true
   },
   "outputs": [],
   "source": [
    "def size(b):\n",
    "    values = \"['\"+str(Graph.w.size.value)+\"','\"+str(Graph.w.size.value)+\"']\" #<-- values for changing node's style\n",
    "    display(Javascript(\"\"\"\n",
    "    for( var i=0; i < cy.io.selection.length; i++ ){\n",
    "        var ele = cy.io.selection[i]\n",
    "        if( ele.isNode() ){\n",
    "            cy.io.style.change( ele, [\"width\",\"height\"], \"\"\"+values+\"\"\"   )   \n",
    "        }else{\n",
    "            cy.io.style.change( ele, \"width\", '\"\"\"+str(Graph.w.size.value/6)+\"\"\"'   )   \n",
    "        }\n",
    "    }\n",
    "    \"\"\"))           \n",
    "Graph.w.size.observe( size )"
   ]
  },
  {
   "cell_type": "markdown",
   "metadata": {
    "heading_collapsed": true
   },
   "source": [
    "### <font color=\"green\">Opacity</font>  "
   ]
  },
  {
   "cell_type": "code",
   "execution_count": 188,
   "metadata": {
    "hidden": true
   },
   "outputs": [
    {
     "data": {
      "application/vnd.jupyter.widget-view+json": {
       "model_id": "8d4f9a71d63146a6a569dc7ad8e798c9",
       "version_major": 2,
       "version_minor": 0
      },
      "text/plain": [
       "FloatSlider(value=0.5, max=1.0, step=0.05)"
      ]
     },
     "metadata": {},
     "output_type": "display_data"
    }
   ],
   "source": [
    "Graph.w.opacity = ipw.FloatSlider(value=.5, min=0, max=1, step=.05, continuous_update=True )\n",
    "Graph.w.opacity "
   ]
  },
  {
   "cell_type": "code",
   "execution_count": 189,
   "metadata": {
    "code_folding": [],
    "hidden": true
   },
   "outputs": [],
   "source": [
    "def opacity(b):\n",
    "    display(Javascript(\"\"\"\n",
    "    for(var i=0; i < cy.io.selection.length; i++ ){\n",
    "        var ele = cy.io.selection[ i ]\n",
    "        cy.io.style.change( ele, \"opacity\", '\"\"\"+str(Graph.w.opacity.value)+\"\"\"'  )\n",
    "    }\n",
    "    \"\"\"))           \n",
    "Graph.w.opacity.observe( opacity )"
   ]
  },
  {
   "cell_type": "markdown",
   "metadata": {
    "heading_collapsed": true
   },
   "source": [
    "### <font color=\"green\">Z-Index Labels Behind/In-Front</font> <font color=\"red\">Glitchy</font>"
   ]
  },
  {
   "cell_type": "code",
   "execution_count": null,
   "metadata": {
    "hidden": true
   },
   "outputs": [],
   "source": [
    "from IPython.core.display import Javascript"
   ]
  },
  {
   "cell_type": "code",
   "execution_count": null,
   "metadata": {
    "hidden": true
   },
   "outputs": [],
   "source": [
    "Graph.w.z_index = ipw.IntSlider(value=0, min=0, max=5, continuous_update=True )\n",
    "Graph.w.z_index"
   ]
  },
  {
   "cell_type": "code",
   "execution_count": null,
   "metadata": {
    "hidden": true
   },
   "outputs": [],
   "source": [
    "def z_index(b):\n",
    "    display(Javascript(\"\"\"\n",
    "    for(var i=0; i < cy.io.selection.length; i++ ){\n",
    "        var ele = cy.io.selection[ i ]\n",
    "        cy.io.style.change( ele, \"z-index\", '\"\"\"+str(Graph.w.z_index.value)+\"\"\"'  )\n",
    "    }\n",
    "    \"\"\"))               \n",
    "Graph.w.z_index.observe( z_index )"
   ]
  },
  {
   "cell_type": "markdown",
   "metadata": {
    "heading_collapsed": true
   },
   "source": [
    "## <font color=\"green\">General Widgets</font> "
   ]
  },
  {
   "cell_type": "markdown",
   "metadata": {
    "heading_collapsed": true,
    "hidden": true
   },
   "source": [
    "### <font color=\"green\">Undo Delete </font> "
   ]
  },
  {
   "cell_type": "code",
   "execution_count": 150,
   "metadata": {
    "hidden": true
   },
   "outputs": [
    {
     "data": {
      "application/vnd.jupyter.widget-view+json": {
       "model_id": "945ba185b28b4a0db1c11216dab9837d",
       "version_major": 2,
       "version_minor": 0
      },
      "text/plain": [
       "Button(button_style='primary', description='Undo', disabled=True, style=ButtonStyle())"
      ]
     },
     "metadata": {},
     "output_type": "display_data"
    }
   ],
   "source": [
    "Graph.w.undo = ipw.Button(description='Undo',button_style='primary', disabled= True )\n",
    "Graph.w.undo"
   ]
  },
  {
   "cell_type": "code",
   "execution_count": 151,
   "metadata": {
    "hidden": true
   },
   "outputs": [],
   "source": [
    "def undo(b):\n",
    "    display(Javascript(\"cy.add( cy.io.last_deleted );\"))   #<-- Add last deleted element\n",
    "    b.disabled = True\n",
    "Graph.w.undo.on_click( undo )"
   ]
  },
  {
   "cell_type": "markdown",
   "metadata": {
    "heading_collapsed": true,
    "hidden": true
   },
   "source": [
    "### <font color=\"green\">Delete</font> "
   ]
  },
  {
   "cell_type": "code",
   "execution_count": 152,
   "metadata": {
    "hidden": true
   },
   "outputs": [
    {
     "data": {
      "application/vnd.jupyter.widget-view+json": {
       "model_id": "d400e0159c394ee0a4b2926477c71c95",
       "version_major": 2,
       "version_minor": 0
      },
      "text/plain": [
       "Button(button_style='danger', description='Delete', style=ButtonStyle())"
      ]
     },
     "metadata": {},
     "output_type": "display_data"
    }
   ],
   "source": [
    "Graph.w.delete = ipw.Button(description='Delete',button_style='danger')\n",
    "Graph.w.delete"
   ]
  },
  {
   "cell_type": "code",
   "execution_count": 153,
   "metadata": {
    "hidden": true
   },
   "outputs": [],
   "source": [
    "def delete(b):\n",
    "    display(Javascript(\"cy.io.last_deleted = cy.io.selection.remove();\"))   #<-- delete elements\n",
    "    Graph.w.undo.disabled = False\n",
    "Graph.w.delete.on_click( delete )"
   ]
  },
  {
   "cell_type": "markdown",
   "metadata": {
    "heading_collapsed": true,
    "hidden": true
   },
   "source": [
    "### <font color=\"green\">Background Color </font> "
   ]
  },
  {
   "cell_type": "code",
   "execution_count": 156,
   "metadata": {
    "hidden": true
   },
   "outputs": [
    {
     "data": {
      "application/vnd.jupyter.widget-view+json": {
       "model_id": "f2785539351c4c72b28cba65566e0325",
       "version_major": 2,
       "version_minor": 0
      },
      "text/plain": [
       "Button(button_style='danger', icon='image', layout=Layout(width='auto'), style=ButtonStyle())"
      ]
     },
     "metadata": {},
     "output_type": "display_data"
    }
   ],
   "source": [
    "Graph.w.background = ipw.Button( button_style='danger', icon='image', layout= ipw.Layout(width='auto') )\n",
    "Graph.w.background"
   ]
  },
  {
   "cell_type": "code",
   "execution_count": 157,
   "metadata": {
    "hidden": true
   },
   "outputs": [],
   "source": [
    "def background(b):\n",
    "    display(Javascript(f\"document.getElementById('cy').style.backgroundColor = '{Graph.w.color.value}'\"))  \n",
    "Graph.w.background.on_click( background )"
   ]
  },
  {
   "cell_type": "markdown",
   "metadata": {
    "heading_collapsed": true,
    "hidden": true
   },
   "source": [
    "### <font color=\"green\">Search</font> "
   ]
  },
  {
   "cell_type": "code",
   "execution_count": null,
   "metadata": {
    "hidden": true
   },
   "outputs": [],
   "source": [
    "Graph.w.search = widgets.Text( description='Search :', continuous_update=False )\n",
    "Graph.w.search"
   ]
  },
  {
   "cell_type": "code",
   "execution_count": null,
   "metadata": {
    "hidden": true
   },
   "outputs": [],
   "source": [
    "def search(b):\n",
    "    display(Javascript(f\"\"\"\n",
    "    cy.io.selection.unselect()\n",
    "    cy.$('{Graph.w.search.value}').select()\n",
    "    \"\"\"))   \n",
    "Graph.w.search.observe( search )"
   ]
  },
  {
   "cell_type": "markdown",
   "metadata": {
    "heading_collapsed": true,
    "hidden": true
   },
   "source": [
    "### <font color=\"green\">Search Select</font>"
   ]
  },
  {
   "cell_type": "code",
   "execution_count": 131,
   "metadata": {
    "hidden": true,
    "scrolled": true
   },
   "outputs": [
    {
     "data": {
      "application/vnd.jupyter.widget-view+json": {
       "model_id": "0d9f6774454640a8aa0a8177d4049fef",
       "version_major": 2,
       "version_minor": 0
      },
      "text/plain": [
       "ToggleButton(value=False, icon='eye', layout=Layout(width='auto'))"
      ]
     },
     "metadata": {},
     "output_type": "display_data"
    }
   ],
   "source": [
    "Graph.w.searchSelect = ipw.ToggleButton( icon='eye', layout= ipw.Layout(width='auto')  )\n",
    "Graph.w.searchSelect"
   ]
  },
  {
   "cell_type": "code",
   "execution_count": null,
   "metadata": {
    "hidden": true
   },
   "outputs": [],
   "source": [
    "def searchSelect(b):\n",
    "    if Graph.w.searchSelect.value:   #<-- when activated\n",
    "        Graph.w.searchSelect.icon = 'eye-slash'\n",
    "        display(Javascript(\"\"\"\n",
    "        cy.io.to_hide = cy.elements().difference( cy.io.selection )\n",
    "        cy.io.to_hide.style(\"visibility\", \"hidden\")\n",
    "        \"\"\"))\n",
    "    else: #<-- when not clicked\n",
    "        Graph.w.searchSelect.icon = 'eye'\n",
    "        display(Javascript(\"\"\"cy.io.to_hide.style(\"visibility\", \"visible\")\"\"\"))\n",
    "Graph.w.searchSelect.observe( searchSelect )"
   ]
  },
  {
   "cell_type": "markdown",
   "metadata": {
    "heading_collapsed": true
   },
   "source": [
    "##  <font color=\"salmon\">Label</font> <font color=\"green\">Widgets</font> "
   ]
  },
  {
   "cell_type": "markdown",
   "metadata": {
    "heading_collapsed": true,
    "hidden": true
   },
   "source": [
    "### <font color=\"salmon\">Label Text</font>"
   ]
  },
  {
   "cell_type": "code",
   "execution_count": 170,
   "metadata": {
    "hidden": true
   },
   "outputs": [
    {
     "data": {
      "application/vnd.jupyter.widget-view+json": {
       "model_id": "4e2bdfe3f5654c3a95a84ce0a8551372",
       "version_major": 2,
       "version_minor": 0
      },
      "text/plain": [
       "Text(value='')"
      ]
     },
     "metadata": {},
     "output_type": "display_data"
    },
    {
     "data": {
      "application/javascript": [
       "\n",
       "    for(var i=0; i < cy.io.selection.length; i++ ){\n",
       "        var ele = cy.io.selection[i]\n",
       "        cy.io.style.change( ele, \"label\", ''  )\n",
       "    }\n",
       "    "
      ],
      "text/plain": [
       "<IPython.core.display.Javascript object>"
      ]
     },
     "metadata": {},
     "output_type": "display_data"
    },
    {
     "data": {
      "application/javascript": [
       "\n",
       "    for(var i=0; i < cy.io.selection.length; i++ ){\n",
       "        var ele = cy.io.selection[i]\n",
       "        cy.io.style.change( ele, \"label\", 'a'  )\n",
       "    }\n",
       "    "
      ],
      "text/plain": [
       "<IPython.core.display.Javascript object>"
      ]
     },
     "metadata": {},
     "output_type": "display_data"
    },
    {
     "data": {
      "application/javascript": [
       "\n",
       "    for(var i=0; i < cy.io.selection.length; i++ ){\n",
       "        var ele = cy.io.selection[i]\n",
       "        cy.io.style.change( ele, \"label\", 'a'  )\n",
       "    }\n",
       "    "
      ],
      "text/plain": [
       "<IPython.core.display.Javascript object>"
      ]
     },
     "metadata": {},
     "output_type": "display_data"
    },
    {
     "data": {
      "application/javascript": [
       "\n",
       "    for(var i=0; i < cy.io.selection.length; i++ ){\n",
       "        var ele = cy.io.selection[i]\n",
       "        cy.io.style.change( ele, \"label\", 'a'  )\n",
       "    }\n",
       "    "
      ],
      "text/plain": [
       "<IPython.core.display.Javascript object>"
      ]
     },
     "metadata": {},
     "output_type": "display_data"
    },
    {
     "data": {
      "application/javascript": [
       "\n",
       "    for(var i=0; i < cy.io.selection.length; i++ ){\n",
       "        var ele = cy.io.selection[i]\n",
       "        cy.io.style.change( ele, \"label\", 'asd'  )\n",
       "    }\n",
       "    "
      ],
      "text/plain": [
       "<IPython.core.display.Javascript object>"
      ]
     },
     "metadata": {},
     "output_type": "display_data"
    },
    {
     "data": {
      "application/javascript": [
       "\n",
       "    for(var i=0; i < cy.io.selection.length; i++ ){\n",
       "        var ele = cy.io.selection[i]\n",
       "        cy.io.style.change( ele, \"label\", 'asd'  )\n",
       "    }\n",
       "    "
      ],
      "text/plain": [
       "<IPython.core.display.Javascript object>"
      ]
     },
     "metadata": {},
     "output_type": "display_data"
    },
    {
     "data": {
      "application/javascript": [
       "\n",
       "    for(var i=0; i < cy.io.selection.length; i++ ){\n",
       "        var ele = cy.io.selection[i]\n",
       "        cy.io.style.change( ele, \"label\", 'asd'  )\n",
       "    }\n",
       "    "
      ],
      "text/plain": [
       "<IPython.core.display.Javascript object>"
      ]
     },
     "metadata": {},
     "output_type": "display_data"
    },
    {
     "data": {
      "application/javascript": [
       "\n",
       "    for(var i=0; i < cy.io.selection.length; i++ ){\n",
       "        var ele = cy.io.selection[i]\n",
       "        cy.io.style.change( ele, \"label\", 'asdf'  )\n",
       "    }\n",
       "    "
      ],
      "text/plain": [
       "<IPython.core.display.Javascript object>"
      ]
     },
     "metadata": {},
     "output_type": "display_data"
    },
    {
     "data": {
      "application/javascript": [
       "\n",
       "    for(var i=0; i < cy.io.selection.length; i++ ){\n",
       "        var ele = cy.io.selection[i]\n",
       "        cy.io.style.change( ele, \"label\", 'asdf'  )\n",
       "    }\n",
       "    "
      ],
      "text/plain": [
       "<IPython.core.display.Javascript object>"
      ]
     },
     "metadata": {},
     "output_type": "display_data"
    }
   ],
   "source": [
    "Graph.w.label = widgets.Text( continuous_update=True )\n",
    "Graph.w.label"
   ]
  },
  {
   "cell_type": "code",
   "execution_count": 171,
   "metadata": {
    "hidden": true
   },
   "outputs": [],
   "source": [
    "def label(b):\n",
    "    display(Javascript(\"\"\"\n",
    "    for(var i=0; i < cy.io.selection.length; i++ ){\n",
    "        var ele = cy.io.selection[i]\n",
    "        cy.io.style.change( ele, \"label\", '\"\"\"+Graph.w.label.value+\"\"\"'  )\n",
    "    }\n",
    "    \"\"\"))           \n",
    "Graph.w.label.observe( label )"
   ]
  },
  {
   "cell_type": "markdown",
   "metadata": {
    "heading_collapsed": true,
    "hidden": true
   },
   "source": [
    "### <font color=\"salmon\">Label Color</font>"
   ]
  },
  {
   "cell_type": "code",
   "execution_count": 180,
   "metadata": {
    "hidden": true
   },
   "outputs": [
    {
     "data": {
      "application/vnd.jupyter.widget-view+json": {
       "model_id": "829ad9d2a8da4207a9dacbe2521da65e",
       "version_major": 2,
       "version_minor": 0
      },
      "text/plain": [
       "ColorPicker(value='black')"
      ]
     },
     "metadata": {},
     "output_type": "display_data"
    },
    {
     "data": {
      "application/javascript": [
       "\n",
       "    for(var i=0; i < cy.io.selection.length; i++ ){\n",
       "        var ele = cy.io.selection[i]\n",
       "        cy.io.style.change( ele, ['color','text-border-color'], ['black','black'] )\n",
       "    }\n",
       "    "
      ],
      "text/plain": [
       "<IPython.core.display.Javascript object>"
      ]
     },
     "metadata": {},
     "output_type": "display_data"
    },
    {
     "data": {
      "application/javascript": [
       "\n",
       "    for(var i=0; i < cy.io.selection.length; i++ ){\n",
       "        var ele = cy.io.selection[i]\n",
       "        cy.io.style.change( ele, ['color','text-border-color'], ['red','red'] )\n",
       "    }\n",
       "    "
      ],
      "text/plain": [
       "<IPython.core.display.Javascript object>"
      ]
     },
     "metadata": {},
     "output_type": "display_data"
    },
    {
     "data": {
      "application/javascript": [
       "\n",
       "    for(var i=0; i < cy.io.selection.length; i++ ){\n",
       "        var ele = cy.io.selection[i]\n",
       "        cy.io.style.change( ele, ['color','text-border-color'], ['red','red'] )\n",
       "    }\n",
       "    "
      ],
      "text/plain": [
       "<IPython.core.display.Javascript object>"
      ]
     },
     "metadata": {},
     "output_type": "display_data"
    },
    {
     "data": {
      "application/javascript": [
       "\n",
       "    for(var i=0; i < cy.io.selection.length; i++ ){\n",
       "        var ele = cy.io.selection[i]\n",
       "        cy.io.style.change( ele, ['color','text-border-color'], ['red','red'] )\n",
       "    }\n",
       "    "
      ],
      "text/plain": [
       "<IPython.core.display.Javascript object>"
      ]
     },
     "metadata": {},
     "output_type": "display_data"
    },
    {
     "data": {
      "application/javascript": [
       "\n",
       "    for(var i=0; i < cy.io.selection.length; i++ ){\n",
       "        var ele = cy.io.selection[i]\n",
       "        cy.io.style.change( ele, ['color','text-border-color'], ['blue','blue'] )\n",
       "    }\n",
       "    "
      ],
      "text/plain": [
       "<IPython.core.display.Javascript object>"
      ]
     },
     "metadata": {},
     "output_type": "display_data"
    },
    {
     "data": {
      "application/javascript": [
       "\n",
       "    for(var i=0; i < cy.io.selection.length; i++ ){\n",
       "        var ele = cy.io.selection[i]\n",
       "        cy.io.style.change( ele, ['color','text-border-color'], ['blue','blue'] )\n",
       "    }\n",
       "    "
      ],
      "text/plain": [
       "<IPython.core.display.Javascript object>"
      ]
     },
     "metadata": {},
     "output_type": "display_data"
    }
   ],
   "source": [
    "Graph.w.label_color = ipw.ColorPicker( )\n",
    "Graph.w.label_color"
   ]
  },
  {
   "cell_type": "code",
   "execution_count": 181,
   "metadata": {
    "hidden": true
   },
   "outputs": [],
   "source": [
    "def labelColor(b):\n",
    "    js_var = \"['\"+Graph.w.label_color.value+\"','\"+Graph.w.label_color.value+\"']\"\n",
    "    display(Javascript(\"\"\"\n",
    "    for(var i=0; i < cy.io.selection.length; i++ ){\n",
    "        var ele = cy.io.selection[i]\n",
    "        cy.io.style.change( ele, ['color','text-border-color'], \"\"\"+js_var+\"\"\" )\n",
    "    }\n",
    "    \"\"\"))          \n",
    "Graph.w.label_color.observe( labelColor )"
   ]
  },
  {
   "cell_type": "markdown",
   "metadata": {
    "heading_collapsed": true,
    "hidden": true
   },
   "source": [
    "### <font color=\"salmon\">Label Size</font>"
   ]
  },
  {
   "cell_type": "code",
   "execution_count": 112,
   "metadata": {
    "hidden": true,
    "scrolled": true
   },
   "outputs": [
    {
     "data": {
      "application/vnd.jupyter.widget-view+json": {
       "model_id": "f3942b13f7c94243a6a826e303b6699b",
       "version_major": 2,
       "version_minor": 0
      },
      "text/plain": [
       "IntSlider(value=16, max=60, min=6)"
      ]
     },
     "metadata": {},
     "output_type": "display_data"
    },
    {
     "data": {
      "application/javascript": [
       "\n",
       "    for( var i=0; i < cy.io.selection.length; i++ ){\n",
       "        var ele = cy.io.selection[i]\n",
       "        cy.io.style.change( ele, 'font-size', '16px' )\n",
       "    }\n",
       "    "
      ],
      "text/plain": [
       "<IPython.core.display.Javascript object>"
      ]
     },
     "metadata": {},
     "output_type": "display_data"
    },
    {
     "data": {
      "application/javascript": [
       "\n",
       "    for( var i=0; i < cy.io.selection.length; i++ ){\n",
       "        var ele = cy.io.selection[i]\n",
       "        cy.io.style.change( ele, 'font-size', '17px' )\n",
       "    }\n",
       "    "
      ],
      "text/plain": [
       "<IPython.core.display.Javascript object>"
      ]
     },
     "metadata": {},
     "output_type": "display_data"
    },
    {
     "data": {
      "application/javascript": [
       "\n",
       "    for( var i=0; i < cy.io.selection.length; i++ ){\n",
       "        var ele = cy.io.selection[i]\n",
       "        cy.io.style.change( ele, 'font-size', '17px' )\n",
       "    }\n",
       "    "
      ],
      "text/plain": [
       "<IPython.core.display.Javascript object>"
      ]
     },
     "metadata": {},
     "output_type": "display_data"
    },
    {
     "data": {
      "application/javascript": [
       "\n",
       "    for( var i=0; i < cy.io.selection.length; i++ ){\n",
       "        var ele = cy.io.selection[i]\n",
       "        cy.io.style.change( ele, 'font-size', '17px' )\n",
       "    }\n",
       "    "
      ],
      "text/plain": [
       "<IPython.core.display.Javascript object>"
      ]
     },
     "metadata": {},
     "output_type": "display_data"
    },
    {
     "data": {
      "application/javascript": [
       "\n",
       "    for( var i=0; i < cy.io.selection.length; i++ ){\n",
       "        var ele = cy.io.selection[i]\n",
       "        cy.io.style.change( ele, 'font-size', '34px' )\n",
       "    }\n",
       "    "
      ],
      "text/plain": [
       "<IPython.core.display.Javascript object>"
      ]
     },
     "metadata": {},
     "output_type": "display_data"
    },
    {
     "data": {
      "application/javascript": [
       "\n",
       "    for( var i=0; i < cy.io.selection.length; i++ ){\n",
       "        var ele = cy.io.selection[i]\n",
       "        cy.io.style.change( ele, 'font-size', '34px' )\n",
       "    }\n",
       "    "
      ],
      "text/plain": [
       "<IPython.core.display.Javascript object>"
      ]
     },
     "metadata": {},
     "output_type": "display_data"
    },
    {
     "data": {
      "application/javascript": [
       "\n",
       "    for( var i=0; i < cy.io.selection.length; i++ ){\n",
       "        var ele = cy.io.selection[i]\n",
       "        cy.io.style.change( ele, 'font-size', '34px' )\n",
       "    }\n",
       "    "
      ],
      "text/plain": [
       "<IPython.core.display.Javascript object>"
      ]
     },
     "metadata": {},
     "output_type": "display_data"
    },
    {
     "data": {
      "application/javascript": [
       "\n",
       "    for( var i=0; i < cy.io.selection.length; i++ ){\n",
       "        var ele = cy.io.selection[i]\n",
       "        cy.io.style.change( ele, 'font-size', '44px' )\n",
       "    }\n",
       "    "
      ],
      "text/plain": [
       "<IPython.core.display.Javascript object>"
      ]
     },
     "metadata": {},
     "output_type": "display_data"
    },
    {
     "data": {
      "application/javascript": [
       "\n",
       "    for( var i=0; i < cy.io.selection.length; i++ ){\n",
       "        var ele = cy.io.selection[i]\n",
       "        cy.io.style.change( ele, 'font-size', '44px' )\n",
       "    }\n",
       "    "
      ],
      "text/plain": [
       "<IPython.core.display.Javascript object>"
      ]
     },
     "metadata": {},
     "output_type": "display_data"
    },
    {
     "data": {
      "application/javascript": [
       "\n",
       "    for( var i=0; i < cy.io.selection.length; i++ ){\n",
       "        var ele = cy.io.selection[i]\n",
       "        cy.io.style.change( ele, 'font-size', '44px' )\n",
       "    }\n",
       "    "
      ],
      "text/plain": [
       "<IPython.core.display.Javascript object>"
      ]
     },
     "metadata": {},
     "output_type": "display_data"
    },
    {
     "data": {
      "application/javascript": [
       "\n",
       "    for( var i=0; i < cy.io.selection.length; i++ ){\n",
       "        var ele = cy.io.selection[i]\n",
       "        cy.io.style.change( ele, 'font-size', '45px' )\n",
       "    }\n",
       "    "
      ],
      "text/plain": [
       "<IPython.core.display.Javascript object>"
      ]
     },
     "metadata": {},
     "output_type": "display_data"
    },
    {
     "data": {
      "application/javascript": [
       "\n",
       "    for( var i=0; i < cy.io.selection.length; i++ ){\n",
       "        var ele = cy.io.selection[i]\n",
       "        cy.io.style.change( ele, 'font-size', '45px' )\n",
       "    }\n",
       "    "
      ],
      "text/plain": [
       "<IPython.core.display.Javascript object>"
      ]
     },
     "metadata": {},
     "output_type": "display_data"
    },
    {
     "data": {
      "application/javascript": [
       "\n",
       "    for( var i=0; i < cy.io.selection.length; i++ ){\n",
       "        var ele = cy.io.selection[i]\n",
       "        cy.io.style.change( ele, 'font-size', '45px' )\n",
       "    }\n",
       "    "
      ],
      "text/plain": [
       "<IPython.core.display.Javascript object>"
      ]
     },
     "metadata": {},
     "output_type": "display_data"
    },
    {
     "data": {
      "application/javascript": [
       "\n",
       "    for( var i=0; i < cy.io.selection.length; i++ ){\n",
       "        var ele = cy.io.selection[i]\n",
       "        cy.io.style.change( ele, 'font-size', '49px' )\n",
       "    }\n",
       "    "
      ],
      "text/plain": [
       "<IPython.core.display.Javascript object>"
      ]
     },
     "metadata": {},
     "output_type": "display_data"
    },
    {
     "data": {
      "application/javascript": [
       "\n",
       "    for( var i=0; i < cy.io.selection.length; i++ ){\n",
       "        var ele = cy.io.selection[i]\n",
       "        cy.io.style.change( ele, 'font-size', '49px' )\n",
       "    }\n",
       "    "
      ],
      "text/plain": [
       "<IPython.core.display.Javascript object>"
      ]
     },
     "metadata": {},
     "output_type": "display_data"
    },
    {
     "data": {
      "application/javascript": [
       "\n",
       "    for( var i=0; i < cy.io.selection.length; i++ ){\n",
       "        var ele = cy.io.selection[i]\n",
       "        cy.io.style.change( ele, 'font-size', '49px' )\n",
       "    }\n",
       "    "
      ],
      "text/plain": [
       "<IPython.core.display.Javascript object>"
      ]
     },
     "metadata": {},
     "output_type": "display_data"
    },
    {
     "data": {
      "application/javascript": [
       "\n",
       "    for( var i=0; i < cy.io.selection.length; i++ ){\n",
       "        var ele = cy.io.selection[i]\n",
       "        cy.io.style.change( ele, 'font-size', '50px' )\n",
       "    }\n",
       "    "
      ],
      "text/plain": [
       "<IPython.core.display.Javascript object>"
      ]
     },
     "metadata": {},
     "output_type": "display_data"
    },
    {
     "data": {
      "application/javascript": [
       "\n",
       "    for( var i=0; i < cy.io.selection.length; i++ ){\n",
       "        var ele = cy.io.selection[i]\n",
       "        cy.io.style.change( ele, 'font-size', '50px' )\n",
       "    }\n",
       "    "
      ],
      "text/plain": [
       "<IPython.core.display.Javascript object>"
      ]
     },
     "metadata": {},
     "output_type": "display_data"
    },
    {
     "data": {
      "application/javascript": [
       "\n",
       "    for( var i=0; i < cy.io.selection.length; i++ ){\n",
       "        var ele = cy.io.selection[i]\n",
       "        cy.io.style.change( ele, 'font-size', '50px' )\n",
       "    }\n",
       "    "
      ],
      "text/plain": [
       "<IPython.core.display.Javascript object>"
      ]
     },
     "metadata": {},
     "output_type": "display_data"
    },
    {
     "data": {
      "application/javascript": [
       "\n",
       "    for( var i=0; i < cy.io.selection.length; i++ ){\n",
       "        var ele = cy.io.selection[i]\n",
       "        cy.io.style.change( ele, 'font-size', '51px' )\n",
       "    }\n",
       "    "
      ],
      "text/plain": [
       "<IPython.core.display.Javascript object>"
      ]
     },
     "metadata": {},
     "output_type": "display_data"
    },
    {
     "data": {
      "application/javascript": [
       "\n",
       "    for( var i=0; i < cy.io.selection.length; i++ ){\n",
       "        var ele = cy.io.selection[i]\n",
       "        cy.io.style.change( ele, 'font-size', '51px' )\n",
       "    }\n",
       "    "
      ],
      "text/plain": [
       "<IPython.core.display.Javascript object>"
      ]
     },
     "metadata": {},
     "output_type": "display_data"
    },
    {
     "data": {
      "application/javascript": [
       "\n",
       "    for( var i=0; i < cy.io.selection.length; i++ ){\n",
       "        var ele = cy.io.selection[i]\n",
       "        cy.io.style.change( ele, 'font-size', '51px' )\n",
       "    }\n",
       "    "
      ],
      "text/plain": [
       "<IPython.core.display.Javascript object>"
      ]
     },
     "metadata": {},
     "output_type": "display_data"
    },
    {
     "data": {
      "application/javascript": [
       "\n",
       "    for( var i=0; i < cy.io.selection.length; i++ ){\n",
       "        var ele = cy.io.selection[i]\n",
       "        cy.io.style.change( ele, 'font-size', '52px' )\n",
       "    }\n",
       "    "
      ],
      "text/plain": [
       "<IPython.core.display.Javascript object>"
      ]
     },
     "metadata": {},
     "output_type": "display_data"
    },
    {
     "data": {
      "application/javascript": [
       "\n",
       "    for( var i=0; i < cy.io.selection.length; i++ ){\n",
       "        var ele = cy.io.selection[i]\n",
       "        cy.io.style.change( ele, 'font-size', '52px' )\n",
       "    }\n",
       "    "
      ],
      "text/plain": [
       "<IPython.core.display.Javascript object>"
      ]
     },
     "metadata": {},
     "output_type": "display_data"
    },
    {
     "data": {
      "application/javascript": [
       "\n",
       "    for( var i=0; i < cy.io.selection.length; i++ ){\n",
       "        var ele = cy.io.selection[i]\n",
       "        cy.io.style.change( ele, 'font-size', '52px' )\n",
       "    }\n",
       "    "
      ],
      "text/plain": [
       "<IPython.core.display.Javascript object>"
      ]
     },
     "metadata": {},
     "output_type": "display_data"
    },
    {
     "data": {
      "application/javascript": [
       "\n",
       "    for( var i=0; i < cy.io.selection.length; i++ ){\n",
       "        var ele = cy.io.selection[i]\n",
       "        cy.io.style.change( ele, 'font-size', '53px' )\n",
       "    }\n",
       "    "
      ],
      "text/plain": [
       "<IPython.core.display.Javascript object>"
      ]
     },
     "metadata": {},
     "output_type": "display_data"
    },
    {
     "data": {
      "application/javascript": [
       "\n",
       "    for( var i=0; i < cy.io.selection.length; i++ ){\n",
       "        var ele = cy.io.selection[i]\n",
       "        cy.io.style.change( ele, 'font-size', '53px' )\n",
       "    }\n",
       "    "
      ],
      "text/plain": [
       "<IPython.core.display.Javascript object>"
      ]
     },
     "metadata": {},
     "output_type": "display_data"
    },
    {
     "data": {
      "application/javascript": [
       "\n",
       "    for( var i=0; i < cy.io.selection.length; i++ ){\n",
       "        var ele = cy.io.selection[i]\n",
       "        cy.io.style.change( ele, 'font-size', '53px' )\n",
       "    }\n",
       "    "
      ],
      "text/plain": [
       "<IPython.core.display.Javascript object>"
      ]
     },
     "metadata": {},
     "output_type": "display_data"
    },
    {
     "data": {
      "application/javascript": [
       "\n",
       "    for( var i=0; i < cy.io.selection.length; i++ ){\n",
       "        var ele = cy.io.selection[i]\n",
       "        cy.io.style.change( ele, 'font-size', '54px' )\n",
       "    }\n",
       "    "
      ],
      "text/plain": [
       "<IPython.core.display.Javascript object>"
      ]
     },
     "metadata": {},
     "output_type": "display_data"
    },
    {
     "data": {
      "application/javascript": [
       "\n",
       "    for( var i=0; i < cy.io.selection.length; i++ ){\n",
       "        var ele = cy.io.selection[i]\n",
       "        cy.io.style.change( ele, 'font-size', '54px' )\n",
       "    }\n",
       "    "
      ],
      "text/plain": [
       "<IPython.core.display.Javascript object>"
      ]
     },
     "metadata": {},
     "output_type": "display_data"
    },
    {
     "data": {
      "application/javascript": [
       "\n",
       "    for( var i=0; i < cy.io.selection.length; i++ ){\n",
       "        var ele = cy.io.selection[i]\n",
       "        cy.io.style.change( ele, 'font-size', '54px' )\n",
       "    }\n",
       "    "
      ],
      "text/plain": [
       "<IPython.core.display.Javascript object>"
      ]
     },
     "metadata": {},
     "output_type": "display_data"
    },
    {
     "data": {
      "application/javascript": [
       "\n",
       "    for( var i=0; i < cy.io.selection.length; i++ ){\n",
       "        var ele = cy.io.selection[i]\n",
       "        cy.io.style.change( ele, 'font-size', '55px' )\n",
       "    }\n",
       "    "
      ],
      "text/plain": [
       "<IPython.core.display.Javascript object>"
      ]
     },
     "metadata": {},
     "output_type": "display_data"
    },
    {
     "data": {
      "application/javascript": [
       "\n",
       "    for( var i=0; i < cy.io.selection.length; i++ ){\n",
       "        var ele = cy.io.selection[i]\n",
       "        cy.io.style.change( ele, 'font-size', '55px' )\n",
       "    }\n",
       "    "
      ],
      "text/plain": [
       "<IPython.core.display.Javascript object>"
      ]
     },
     "metadata": {},
     "output_type": "display_data"
    },
    {
     "data": {
      "application/javascript": [
       "\n",
       "    for( var i=0; i < cy.io.selection.length; i++ ){\n",
       "        var ele = cy.io.selection[i]\n",
       "        cy.io.style.change( ele, 'font-size', '55px' )\n",
       "    }\n",
       "    "
      ],
      "text/plain": [
       "<IPython.core.display.Javascript object>"
      ]
     },
     "metadata": {},
     "output_type": "display_data"
    },
    {
     "data": {
      "application/javascript": [
       "\n",
       "    for( var i=0; i < cy.io.selection.length; i++ ){\n",
       "        var ele = cy.io.selection[i]\n",
       "        cy.io.style.change( ele, 'font-size', '56px' )\n",
       "    }\n",
       "    "
      ],
      "text/plain": [
       "<IPython.core.display.Javascript object>"
      ]
     },
     "metadata": {},
     "output_type": "display_data"
    },
    {
     "data": {
      "application/javascript": [
       "\n",
       "    for( var i=0; i < cy.io.selection.length; i++ ){\n",
       "        var ele = cy.io.selection[i]\n",
       "        cy.io.style.change( ele, 'font-size', '56px' )\n",
       "    }\n",
       "    "
      ],
      "text/plain": [
       "<IPython.core.display.Javascript object>"
      ]
     },
     "metadata": {},
     "output_type": "display_data"
    },
    {
     "data": {
      "application/javascript": [
       "\n",
       "    for( var i=0; i < cy.io.selection.length; i++ ){\n",
       "        var ele = cy.io.selection[i]\n",
       "        cy.io.style.change( ele, 'font-size', '56px' )\n",
       "    }\n",
       "    "
      ],
      "text/plain": [
       "<IPython.core.display.Javascript object>"
      ]
     },
     "metadata": {},
     "output_type": "display_data"
    },
    {
     "data": {
      "application/javascript": [
       "\n",
       "    for( var i=0; i < cy.io.selection.length; i++ ){\n",
       "        var ele = cy.io.selection[i]\n",
       "        cy.io.style.change( ele, 'font-size', '57px' )\n",
       "    }\n",
       "    "
      ],
      "text/plain": [
       "<IPython.core.display.Javascript object>"
      ]
     },
     "metadata": {},
     "output_type": "display_data"
    },
    {
     "data": {
      "application/javascript": [
       "\n",
       "    for( var i=0; i < cy.io.selection.length; i++ ){\n",
       "        var ele = cy.io.selection[i]\n",
       "        cy.io.style.change( ele, 'font-size', '57px' )\n",
       "    }\n",
       "    "
      ],
      "text/plain": [
       "<IPython.core.display.Javascript object>"
      ]
     },
     "metadata": {},
     "output_type": "display_data"
    },
    {
     "data": {
      "application/javascript": [
       "\n",
       "    for( var i=0; i < cy.io.selection.length; i++ ){\n",
       "        var ele = cy.io.selection[i]\n",
       "        cy.io.style.change( ele, 'font-size', '57px' )\n",
       "    }\n",
       "    "
      ],
      "text/plain": [
       "<IPython.core.display.Javascript object>"
      ]
     },
     "metadata": {},
     "output_type": "display_data"
    },
    {
     "data": {
      "application/javascript": [
       "\n",
       "    for( var i=0; i < cy.io.selection.length; i++ ){\n",
       "        var ele = cy.io.selection[i]\n",
       "        cy.io.style.change( ele, 'font-size', '58px' )\n",
       "    }\n",
       "    "
      ],
      "text/plain": [
       "<IPython.core.display.Javascript object>"
      ]
     },
     "metadata": {},
     "output_type": "display_data"
    },
    {
     "data": {
      "application/javascript": [
       "\n",
       "    for( var i=0; i < cy.io.selection.length; i++ ){\n",
       "        var ele = cy.io.selection[i]\n",
       "        cy.io.style.change( ele, 'font-size', '58px' )\n",
       "    }\n",
       "    "
      ],
      "text/plain": [
       "<IPython.core.display.Javascript object>"
      ]
     },
     "metadata": {},
     "output_type": "display_data"
    },
    {
     "data": {
      "application/javascript": [
       "\n",
       "    for( var i=0; i < cy.io.selection.length; i++ ){\n",
       "        var ele = cy.io.selection[i]\n",
       "        cy.io.style.change( ele, 'font-size', '58px' )\n",
       "    }\n",
       "    "
      ],
      "text/plain": [
       "<IPython.core.display.Javascript object>"
      ]
     },
     "metadata": {},
     "output_type": "display_data"
    },
    {
     "data": {
      "application/javascript": [
       "\n",
       "    for( var i=0; i < cy.io.selection.length; i++ ){\n",
       "        var ele = cy.io.selection[i]\n",
       "        cy.io.style.change( ele, 'font-size', '59px' )\n",
       "    }\n",
       "    "
      ],
      "text/plain": [
       "<IPython.core.display.Javascript object>"
      ]
     },
     "metadata": {},
     "output_type": "display_data"
    },
    {
     "data": {
      "application/javascript": [
       "\n",
       "    for( var i=0; i < cy.io.selection.length; i++ ){\n",
       "        var ele = cy.io.selection[i]\n",
       "        cy.io.style.change( ele, 'font-size', '59px' )\n",
       "    }\n",
       "    "
      ],
      "text/plain": [
       "<IPython.core.display.Javascript object>"
      ]
     },
     "metadata": {},
     "output_type": "display_data"
    },
    {
     "data": {
      "application/javascript": [
       "\n",
       "    for( var i=0; i < cy.io.selection.length; i++ ){\n",
       "        var ele = cy.io.selection[i]\n",
       "        cy.io.style.change( ele, 'font-size', '59px' )\n",
       "    }\n",
       "    "
      ],
      "text/plain": [
       "<IPython.core.display.Javascript object>"
      ]
     },
     "metadata": {},
     "output_type": "display_data"
    },
    {
     "data": {
      "application/javascript": [
       "\n",
       "    for( var i=0; i < cy.io.selection.length; i++ ){\n",
       "        var ele = cy.io.selection[i]\n",
       "        cy.io.style.change( ele, 'font-size', '60px' )\n",
       "    }\n",
       "    "
      ],
      "text/plain": [
       "<IPython.core.display.Javascript object>"
      ]
     },
     "metadata": {},
     "output_type": "display_data"
    },
    {
     "data": {
      "application/javascript": [
       "\n",
       "    for( var i=0; i < cy.io.selection.length; i++ ){\n",
       "        var ele = cy.io.selection[i]\n",
       "        cy.io.style.change( ele, 'font-size', '60px' )\n",
       "    }\n",
       "    "
      ],
      "text/plain": [
       "<IPython.core.display.Javascript object>"
      ]
     },
     "metadata": {},
     "output_type": "display_data"
    },
    {
     "data": {
      "application/javascript": [
       "\n",
       "    for( var i=0; i < cy.io.selection.length; i++ ){\n",
       "        var ele = cy.io.selection[i]\n",
       "        cy.io.style.change( ele, 'font-size', '60px' )\n",
       "    }\n",
       "    "
      ],
      "text/plain": [
       "<IPython.core.display.Javascript object>"
      ]
     },
     "metadata": {},
     "output_type": "display_data"
    },
    {
     "data": {
      "application/javascript": [
       "\n",
       "    for( var i=0; i < cy.io.selection.length; i++ ){\n",
       "        var ele = cy.io.selection[i]\n",
       "        cy.io.style.change( ele, 'font-size', '58px' )\n",
       "    }\n",
       "    "
      ],
      "text/plain": [
       "<IPython.core.display.Javascript object>"
      ]
     },
     "metadata": {},
     "output_type": "display_data"
    },
    {
     "data": {
      "application/javascript": [
       "\n",
       "    for( var i=0; i < cy.io.selection.length; i++ ){\n",
       "        var ele = cy.io.selection[i]\n",
       "        cy.io.style.change( ele, 'font-size', '58px' )\n",
       "    }\n",
       "    "
      ],
      "text/plain": [
       "<IPython.core.display.Javascript object>"
      ]
     },
     "metadata": {},
     "output_type": "display_data"
    },
    {
     "data": {
      "application/javascript": [
       "\n",
       "    for( var i=0; i < cy.io.selection.length; i++ ){\n",
       "        var ele = cy.io.selection[i]\n",
       "        cy.io.style.change( ele, 'font-size', '58px' )\n",
       "    }\n",
       "    "
      ],
      "text/plain": [
       "<IPython.core.display.Javascript object>"
      ]
     },
     "metadata": {},
     "output_type": "display_data"
    },
    {
     "data": {
      "application/javascript": [
       "\n",
       "    for( var i=0; i < cy.io.selection.length; i++ ){\n",
       "        var ele = cy.io.selection[i]\n",
       "        cy.io.style.change( ele, 'font-size', '57px' )\n",
       "    }\n",
       "    "
      ],
      "text/plain": [
       "<IPython.core.display.Javascript object>"
      ]
     },
     "metadata": {},
     "output_type": "display_data"
    },
    {
     "data": {
      "application/javascript": [
       "\n",
       "    for( var i=0; i < cy.io.selection.length; i++ ){\n",
       "        var ele = cy.io.selection[i]\n",
       "        cy.io.style.change( ele, 'font-size', '57px' )\n",
       "    }\n",
       "    "
      ],
      "text/plain": [
       "<IPython.core.display.Javascript object>"
      ]
     },
     "metadata": {},
     "output_type": "display_data"
    },
    {
     "data": {
      "application/javascript": [
       "\n",
       "    for( var i=0; i < cy.io.selection.length; i++ ){\n",
       "        var ele = cy.io.selection[i]\n",
       "        cy.io.style.change( ele, 'font-size', '57px' )\n",
       "    }\n",
       "    "
      ],
      "text/plain": [
       "<IPython.core.display.Javascript object>"
      ]
     },
     "metadata": {},
     "output_type": "display_data"
    },
    {
     "data": {
      "application/javascript": [
       "\n",
       "    for( var i=0; i < cy.io.selection.length; i++ ){\n",
       "        var ele = cy.io.selection[i]\n",
       "        cy.io.style.change( ele, 'font-size', '53px' )\n",
       "    }\n",
       "    "
      ],
      "text/plain": [
       "<IPython.core.display.Javascript object>"
      ]
     },
     "metadata": {},
     "output_type": "display_data"
    },
    {
     "data": {
      "application/javascript": [
       "\n",
       "    for( var i=0; i < cy.io.selection.length; i++ ){\n",
       "        var ele = cy.io.selection[i]\n",
       "        cy.io.style.change( ele, 'font-size', '53px' )\n",
       "    }\n",
       "    "
      ],
      "text/plain": [
       "<IPython.core.display.Javascript object>"
      ]
     },
     "metadata": {},
     "output_type": "display_data"
    },
    {
     "data": {
      "application/javascript": [
       "\n",
       "    for( var i=0; i < cy.io.selection.length; i++ ){\n",
       "        var ele = cy.io.selection[i]\n",
       "        cy.io.style.change( ele, 'font-size', '53px' )\n",
       "    }\n",
       "    "
      ],
      "text/plain": [
       "<IPython.core.display.Javascript object>"
      ]
     },
     "metadata": {},
     "output_type": "display_data"
    },
    {
     "data": {
      "application/javascript": [
       "\n",
       "    for( var i=0; i < cy.io.selection.length; i++ ){\n",
       "        var ele = cy.io.selection[i]\n",
       "        cy.io.style.change( ele, 'font-size', '50px' )\n",
       "    }\n",
       "    "
      ],
      "text/plain": [
       "<IPython.core.display.Javascript object>"
      ]
     },
     "metadata": {},
     "output_type": "display_data"
    },
    {
     "data": {
      "application/javascript": [
       "\n",
       "    for( var i=0; i < cy.io.selection.length; i++ ){\n",
       "        var ele = cy.io.selection[i]\n",
       "        cy.io.style.change( ele, 'font-size', '50px' )\n",
       "    }\n",
       "    "
      ],
      "text/plain": [
       "<IPython.core.display.Javascript object>"
      ]
     },
     "metadata": {},
     "output_type": "display_data"
    },
    {
     "data": {
      "application/javascript": [
       "\n",
       "    for( var i=0; i < cy.io.selection.length; i++ ){\n",
       "        var ele = cy.io.selection[i]\n",
       "        cy.io.style.change( ele, 'font-size', '50px' )\n",
       "    }\n",
       "    "
      ],
      "text/plain": [
       "<IPython.core.display.Javascript object>"
      ]
     },
     "metadata": {},
     "output_type": "display_data"
    },
    {
     "data": {
      "application/javascript": [
       "\n",
       "    for( var i=0; i < cy.io.selection.length; i++ ){\n",
       "        var ele = cy.io.selection[i]\n",
       "        cy.io.style.change( ele, 'font-size', '46px' )\n",
       "    }\n",
       "    "
      ],
      "text/plain": [
       "<IPython.core.display.Javascript object>"
      ]
     },
     "metadata": {},
     "output_type": "display_data"
    },
    {
     "data": {
      "application/javascript": [
       "\n",
       "    for( var i=0; i < cy.io.selection.length; i++ ){\n",
       "        var ele = cy.io.selection[i]\n",
       "        cy.io.style.change( ele, 'font-size', '46px' )\n",
       "    }\n",
       "    "
      ],
      "text/plain": [
       "<IPython.core.display.Javascript object>"
      ]
     },
     "metadata": {},
     "output_type": "display_data"
    },
    {
     "data": {
      "application/javascript": [
       "\n",
       "    for( var i=0; i < cy.io.selection.length; i++ ){\n",
       "        var ele = cy.io.selection[i]\n",
       "        cy.io.style.change( ele, 'font-size', '46px' )\n",
       "    }\n",
       "    "
      ],
      "text/plain": [
       "<IPython.core.display.Javascript object>"
      ]
     },
     "metadata": {},
     "output_type": "display_data"
    },
    {
     "data": {
      "application/javascript": [
       "\n",
       "    for( var i=0; i < cy.io.selection.length; i++ ){\n",
       "        var ele = cy.io.selection[i]\n",
       "        cy.io.style.change( ele, 'font-size', '42px' )\n",
       "    }\n",
       "    "
      ],
      "text/plain": [
       "<IPython.core.display.Javascript object>"
      ]
     },
     "metadata": {},
     "output_type": "display_data"
    },
    {
     "data": {
      "application/javascript": [
       "\n",
       "    for( var i=0; i < cy.io.selection.length; i++ ){\n",
       "        var ele = cy.io.selection[i]\n",
       "        cy.io.style.change( ele, 'font-size', '42px' )\n",
       "    }\n",
       "    "
      ],
      "text/plain": [
       "<IPython.core.display.Javascript object>"
      ]
     },
     "metadata": {},
     "output_type": "display_data"
    },
    {
     "data": {
      "application/javascript": [
       "\n",
       "    for( var i=0; i < cy.io.selection.length; i++ ){\n",
       "        var ele = cy.io.selection[i]\n",
       "        cy.io.style.change( ele, 'font-size', '42px' )\n",
       "    }\n",
       "    "
      ],
      "text/plain": [
       "<IPython.core.display.Javascript object>"
      ]
     },
     "metadata": {},
     "output_type": "display_data"
    },
    {
     "data": {
      "application/javascript": [
       "\n",
       "    for( var i=0; i < cy.io.selection.length; i++ ){\n",
       "        var ele = cy.io.selection[i]\n",
       "        cy.io.style.change( ele, 'font-size', '37px' )\n",
       "    }\n",
       "    "
      ],
      "text/plain": [
       "<IPython.core.display.Javascript object>"
      ]
     },
     "metadata": {},
     "output_type": "display_data"
    },
    {
     "data": {
      "application/javascript": [
       "\n",
       "    for( var i=0; i < cy.io.selection.length; i++ ){\n",
       "        var ele = cy.io.selection[i]\n",
       "        cy.io.style.change( ele, 'font-size', '37px' )\n",
       "    }\n",
       "    "
      ],
      "text/plain": [
       "<IPython.core.display.Javascript object>"
      ]
     },
     "metadata": {},
     "output_type": "display_data"
    },
    {
     "data": {
      "application/javascript": [
       "\n",
       "    for( var i=0; i < cy.io.selection.length; i++ ){\n",
       "        var ele = cy.io.selection[i]\n",
       "        cy.io.style.change( ele, 'font-size', '37px' )\n",
       "    }\n",
       "    "
      ],
      "text/plain": [
       "<IPython.core.display.Javascript object>"
      ]
     },
     "metadata": {},
     "output_type": "display_data"
    },
    {
     "data": {
      "application/javascript": [
       "\n",
       "    for( var i=0; i < cy.io.selection.length; i++ ){\n",
       "        var ele = cy.io.selection[i]\n",
       "        cy.io.style.change( ele, 'font-size', '33px' )\n",
       "    }\n",
       "    "
      ],
      "text/plain": [
       "<IPython.core.display.Javascript object>"
      ]
     },
     "metadata": {},
     "output_type": "display_data"
    },
    {
     "data": {
      "application/javascript": [
       "\n",
       "    for( var i=0; i < cy.io.selection.length; i++ ){\n",
       "        var ele = cy.io.selection[i]\n",
       "        cy.io.style.change( ele, 'font-size', '33px' )\n",
       "    }\n",
       "    "
      ],
      "text/plain": [
       "<IPython.core.display.Javascript object>"
      ]
     },
     "metadata": {},
     "output_type": "display_data"
    },
    {
     "data": {
      "application/javascript": [
       "\n",
       "    for( var i=0; i < cy.io.selection.length; i++ ){\n",
       "        var ele = cy.io.selection[i]\n",
       "        cy.io.style.change( ele, 'font-size', '33px' )\n",
       "    }\n",
       "    "
      ],
      "text/plain": [
       "<IPython.core.display.Javascript object>"
      ]
     },
     "metadata": {},
     "output_type": "display_data"
    },
    {
     "data": {
      "application/javascript": [
       "\n",
       "    for( var i=0; i < cy.io.selection.length; i++ ){\n",
       "        var ele = cy.io.selection[i]\n",
       "        cy.io.style.change( ele, 'font-size', '31px' )\n",
       "    }\n",
       "    "
      ],
      "text/plain": [
       "<IPython.core.display.Javascript object>"
      ]
     },
     "metadata": {},
     "output_type": "display_data"
    },
    {
     "data": {
      "application/javascript": [
       "\n",
       "    for( var i=0; i < cy.io.selection.length; i++ ){\n",
       "        var ele = cy.io.selection[i]\n",
       "        cy.io.style.change( ele, 'font-size', '31px' )\n",
       "    }\n",
       "    "
      ],
      "text/plain": [
       "<IPython.core.display.Javascript object>"
      ]
     },
     "metadata": {},
     "output_type": "display_data"
    },
    {
     "data": {
      "application/javascript": [
       "\n",
       "    for( var i=0; i < cy.io.selection.length; i++ ){\n",
       "        var ele = cy.io.selection[i]\n",
       "        cy.io.style.change( ele, 'font-size', '31px' )\n",
       "    }\n",
       "    "
      ],
      "text/plain": [
       "<IPython.core.display.Javascript object>"
      ]
     },
     "metadata": {},
     "output_type": "display_data"
    },
    {
     "data": {
      "application/javascript": [
       "\n",
       "    for( var i=0; i < cy.io.selection.length; i++ ){\n",
       "        var ele = cy.io.selection[i]\n",
       "        cy.io.style.change( ele, 'font-size', '30px' )\n",
       "    }\n",
       "    "
      ],
      "text/plain": [
       "<IPython.core.display.Javascript object>"
      ]
     },
     "metadata": {},
     "output_type": "display_data"
    },
    {
     "data": {
      "application/javascript": [
       "\n",
       "    for( var i=0; i < cy.io.selection.length; i++ ){\n",
       "        var ele = cy.io.selection[i]\n",
       "        cy.io.style.change( ele, 'font-size', '30px' )\n",
       "    }\n",
       "    "
      ],
      "text/plain": [
       "<IPython.core.display.Javascript object>"
      ]
     },
     "metadata": {},
     "output_type": "display_data"
    },
    {
     "data": {
      "application/javascript": [
       "\n",
       "    for( var i=0; i < cy.io.selection.length; i++ ){\n",
       "        var ele = cy.io.selection[i]\n",
       "        cy.io.style.change( ele, 'font-size', '30px' )\n",
       "    }\n",
       "    "
      ],
      "text/plain": [
       "<IPython.core.display.Javascript object>"
      ]
     },
     "metadata": {},
     "output_type": "display_data"
    },
    {
     "data": {
      "application/javascript": [
       "\n",
       "    for( var i=0; i < cy.io.selection.length; i++ ){\n",
       "        var ele = cy.io.selection[i]\n",
       "        cy.io.style.change( ele, 'font-size', '27px' )\n",
       "    }\n",
       "    "
      ],
      "text/plain": [
       "<IPython.core.display.Javascript object>"
      ]
     },
     "metadata": {},
     "output_type": "display_data"
    },
    {
     "data": {
      "application/javascript": [
       "\n",
       "    for( var i=0; i < cy.io.selection.length; i++ ){\n",
       "        var ele = cy.io.selection[i]\n",
       "        cy.io.style.change( ele, 'font-size', '27px' )\n",
       "    }\n",
       "    "
      ],
      "text/plain": [
       "<IPython.core.display.Javascript object>"
      ]
     },
     "metadata": {},
     "output_type": "display_data"
    },
    {
     "data": {
      "application/javascript": [
       "\n",
       "    for( var i=0; i < cy.io.selection.length; i++ ){\n",
       "        var ele = cy.io.selection[i]\n",
       "        cy.io.style.change( ele, 'font-size', '27px' )\n",
       "    }\n",
       "    "
      ],
      "text/plain": [
       "<IPython.core.display.Javascript object>"
      ]
     },
     "metadata": {},
     "output_type": "display_data"
    },
    {
     "data": {
      "application/javascript": [
       "\n",
       "    for( var i=0; i < cy.io.selection.length; i++ ){\n",
       "        var ele = cy.io.selection[i]\n",
       "        cy.io.style.change( ele, 'font-size', '25px' )\n",
       "    }\n",
       "    "
      ],
      "text/plain": [
       "<IPython.core.display.Javascript object>"
      ]
     },
     "metadata": {},
     "output_type": "display_data"
    },
    {
     "data": {
      "application/javascript": [
       "\n",
       "    for( var i=0; i < cy.io.selection.length; i++ ){\n",
       "        var ele = cy.io.selection[i]\n",
       "        cy.io.style.change( ele, 'font-size', '25px' )\n",
       "    }\n",
       "    "
      ],
      "text/plain": [
       "<IPython.core.display.Javascript object>"
      ]
     },
     "metadata": {},
     "output_type": "display_data"
    },
    {
     "data": {
      "application/javascript": [
       "\n",
       "    for( var i=0; i < cy.io.selection.length; i++ ){\n",
       "        var ele = cy.io.selection[i]\n",
       "        cy.io.style.change( ele, 'font-size', '25px' )\n",
       "    }\n",
       "    "
      ],
      "text/plain": [
       "<IPython.core.display.Javascript object>"
      ]
     },
     "metadata": {},
     "output_type": "display_data"
    },
    {
     "data": {
      "application/javascript": [
       "\n",
       "    for( var i=0; i < cy.io.selection.length; i++ ){\n",
       "        var ele = cy.io.selection[i]\n",
       "        cy.io.style.change( ele, 'font-size', '23px' )\n",
       "    }\n",
       "    "
      ],
      "text/plain": [
       "<IPython.core.display.Javascript object>"
      ]
     },
     "metadata": {},
     "output_type": "display_data"
    },
    {
     "data": {
      "application/javascript": [
       "\n",
       "    for( var i=0; i < cy.io.selection.length; i++ ){\n",
       "        var ele = cy.io.selection[i]\n",
       "        cy.io.style.change( ele, 'font-size', '23px' )\n",
       "    }\n",
       "    "
      ],
      "text/plain": [
       "<IPython.core.display.Javascript object>"
      ]
     },
     "metadata": {},
     "output_type": "display_data"
    },
    {
     "data": {
      "application/javascript": [
       "\n",
       "    for( var i=0; i < cy.io.selection.length; i++ ){\n",
       "        var ele = cy.io.selection[i]\n",
       "        cy.io.style.change( ele, 'font-size', '23px' )\n",
       "    }\n",
       "    "
      ],
      "text/plain": [
       "<IPython.core.display.Javascript object>"
      ]
     },
     "metadata": {},
     "output_type": "display_data"
    },
    {
     "data": {
      "application/javascript": [
       "\n",
       "    for( var i=0; i < cy.io.selection.length; i++ ){\n",
       "        var ele = cy.io.selection[i]\n",
       "        cy.io.style.change( ele, 'font-size', '21px' )\n",
       "    }\n",
       "    "
      ],
      "text/plain": [
       "<IPython.core.display.Javascript object>"
      ]
     },
     "metadata": {},
     "output_type": "display_data"
    },
    {
     "data": {
      "application/javascript": [
       "\n",
       "    for( var i=0; i < cy.io.selection.length; i++ ){\n",
       "        var ele = cy.io.selection[i]\n",
       "        cy.io.style.change( ele, 'font-size', '21px' )\n",
       "    }\n",
       "    "
      ],
      "text/plain": [
       "<IPython.core.display.Javascript object>"
      ]
     },
     "metadata": {},
     "output_type": "display_data"
    },
    {
     "data": {
      "application/javascript": [
       "\n",
       "    for( var i=0; i < cy.io.selection.length; i++ ){\n",
       "        var ele = cy.io.selection[i]\n",
       "        cy.io.style.change( ele, 'font-size', '21px' )\n",
       "    }\n",
       "    "
      ],
      "text/plain": [
       "<IPython.core.display.Javascript object>"
      ]
     },
     "metadata": {},
     "output_type": "display_data"
    },
    {
     "data": {
      "application/javascript": [
       "\n",
       "    for( var i=0; i < cy.io.selection.length; i++ ){\n",
       "        var ele = cy.io.selection[i]\n",
       "        cy.io.style.change( ele, 'font-size', '20px' )\n",
       "    }\n",
       "    "
      ],
      "text/plain": [
       "<IPython.core.display.Javascript object>"
      ]
     },
     "metadata": {},
     "output_type": "display_data"
    },
    {
     "data": {
      "application/javascript": [
       "\n",
       "    for( var i=0; i < cy.io.selection.length; i++ ){\n",
       "        var ele = cy.io.selection[i]\n",
       "        cy.io.style.change( ele, 'font-size', '20px' )\n",
       "    }\n",
       "    "
      ],
      "text/plain": [
       "<IPython.core.display.Javascript object>"
      ]
     },
     "metadata": {},
     "output_type": "display_data"
    },
    {
     "data": {
      "application/javascript": [
       "\n",
       "    for( var i=0; i < cy.io.selection.length; i++ ){\n",
       "        var ele = cy.io.selection[i]\n",
       "        cy.io.style.change( ele, 'font-size', '20px' )\n",
       "    }\n",
       "    "
      ],
      "text/plain": [
       "<IPython.core.display.Javascript object>"
      ]
     },
     "metadata": {},
     "output_type": "display_data"
    },
    {
     "data": {
      "application/javascript": [
       "\n",
       "    for( var i=0; i < cy.io.selection.length; i++ ){\n",
       "        var ele = cy.io.selection[i]\n",
       "        cy.io.style.change( ele, 'font-size', '18px' )\n",
       "    }\n",
       "    "
      ],
      "text/plain": [
       "<IPython.core.display.Javascript object>"
      ]
     },
     "metadata": {},
     "output_type": "display_data"
    },
    {
     "data": {
      "application/javascript": [
       "\n",
       "    for( var i=0; i < cy.io.selection.length; i++ ){\n",
       "        var ele = cy.io.selection[i]\n",
       "        cy.io.style.change( ele, 'font-size', '18px' )\n",
       "    }\n",
       "    "
      ],
      "text/plain": [
       "<IPython.core.display.Javascript object>"
      ]
     },
     "metadata": {},
     "output_type": "display_data"
    },
    {
     "data": {
      "application/javascript": [
       "\n",
       "    for( var i=0; i < cy.io.selection.length; i++ ){\n",
       "        var ele = cy.io.selection[i]\n",
       "        cy.io.style.change( ele, 'font-size', '18px' )\n",
       "    }\n",
       "    "
      ],
      "text/plain": [
       "<IPython.core.display.Javascript object>"
      ]
     },
     "metadata": {},
     "output_type": "display_data"
    },
    {
     "data": {
      "application/javascript": [
       "\n",
       "    for( var i=0; i < cy.io.selection.length; i++ ){\n",
       "        var ele = cy.io.selection[i]\n",
       "        cy.io.style.change( ele, 'font-size', '16px' )\n",
       "    }\n",
       "    "
      ],
      "text/plain": [
       "<IPython.core.display.Javascript object>"
      ]
     },
     "metadata": {},
     "output_type": "display_data"
    },
    {
     "data": {
      "application/javascript": [
       "\n",
       "    for( var i=0; i < cy.io.selection.length; i++ ){\n",
       "        var ele = cy.io.selection[i]\n",
       "        cy.io.style.change( ele, 'font-size', '16px' )\n",
       "    }\n",
       "    "
      ],
      "text/plain": [
       "<IPython.core.display.Javascript object>"
      ]
     },
     "metadata": {},
     "output_type": "display_data"
    },
    {
     "data": {
      "application/javascript": [
       "\n",
       "    for( var i=0; i < cy.io.selection.length; i++ ){\n",
       "        var ele = cy.io.selection[i]\n",
       "        cy.io.style.change( ele, 'font-size', '16px' )\n",
       "    }\n",
       "    "
      ],
      "text/plain": [
       "<IPython.core.display.Javascript object>"
      ]
     },
     "metadata": {},
     "output_type": "display_data"
    },
    {
     "data": {
      "application/javascript": [
       "\n",
       "    for( var i=0; i < cy.io.selection.length; i++ ){\n",
       "        var ele = cy.io.selection[i]\n",
       "        cy.io.style.change( ele, 'font-size', '15px' )\n",
       "    }\n",
       "    "
      ],
      "text/plain": [
       "<IPython.core.display.Javascript object>"
      ]
     },
     "metadata": {},
     "output_type": "display_data"
    },
    {
     "data": {
      "application/javascript": [
       "\n",
       "    for( var i=0; i < cy.io.selection.length; i++ ){\n",
       "        var ele = cy.io.selection[i]\n",
       "        cy.io.style.change( ele, 'font-size', '15px' )\n",
       "    }\n",
       "    "
      ],
      "text/plain": [
       "<IPython.core.display.Javascript object>"
      ]
     },
     "metadata": {},
     "output_type": "display_data"
    },
    {
     "data": {
      "application/javascript": [
       "\n",
       "    for( var i=0; i < cy.io.selection.length; i++ ){\n",
       "        var ele = cy.io.selection[i]\n",
       "        cy.io.style.change( ele, 'font-size', '15px' )\n",
       "    }\n",
       "    "
      ],
      "text/plain": [
       "<IPython.core.display.Javascript object>"
      ]
     },
     "metadata": {},
     "output_type": "display_data"
    },
    {
     "data": {
      "application/javascript": [
       "\n",
       "    for( var i=0; i < cy.io.selection.length; i++ ){\n",
       "        var ele = cy.io.selection[i]\n",
       "        cy.io.style.change( ele, 'font-size', '14px' )\n",
       "    }\n",
       "    "
      ],
      "text/plain": [
       "<IPython.core.display.Javascript object>"
      ]
     },
     "metadata": {},
     "output_type": "display_data"
    },
    {
     "data": {
      "application/javascript": [
       "\n",
       "    for( var i=0; i < cy.io.selection.length; i++ ){\n",
       "        var ele = cy.io.selection[i]\n",
       "        cy.io.style.change( ele, 'font-size', '14px' )\n",
       "    }\n",
       "    "
      ],
      "text/plain": [
       "<IPython.core.display.Javascript object>"
      ]
     },
     "metadata": {},
     "output_type": "display_data"
    },
    {
     "data": {
      "application/javascript": [
       "\n",
       "    for( var i=0; i < cy.io.selection.length; i++ ){\n",
       "        var ele = cy.io.selection[i]\n",
       "        cy.io.style.change( ele, 'font-size', '14px' )\n",
       "    }\n",
       "    "
      ],
      "text/plain": [
       "<IPython.core.display.Javascript object>"
      ]
     },
     "metadata": {},
     "output_type": "display_data"
    },
    {
     "data": {
      "application/javascript": [
       "\n",
       "    for( var i=0; i < cy.io.selection.length; i++ ){\n",
       "        var ele = cy.io.selection[i]\n",
       "        cy.io.style.change( ele, 'font-size', '13px' )\n",
       "    }\n",
       "    "
      ],
      "text/plain": [
       "<IPython.core.display.Javascript object>"
      ]
     },
     "metadata": {},
     "output_type": "display_data"
    },
    {
     "data": {
      "application/javascript": [
       "\n",
       "    for( var i=0; i < cy.io.selection.length; i++ ){\n",
       "        var ele = cy.io.selection[i]\n",
       "        cy.io.style.change( ele, 'font-size', '13px' )\n",
       "    }\n",
       "    "
      ],
      "text/plain": [
       "<IPython.core.display.Javascript object>"
      ]
     },
     "metadata": {},
     "output_type": "display_data"
    },
    {
     "data": {
      "application/javascript": [
       "\n",
       "    for( var i=0; i < cy.io.selection.length; i++ ){\n",
       "        var ele = cy.io.selection[i]\n",
       "        cy.io.style.change( ele, 'font-size', '13px' )\n",
       "    }\n",
       "    "
      ],
      "text/plain": [
       "<IPython.core.display.Javascript object>"
      ]
     },
     "metadata": {},
     "output_type": "display_data"
    },
    {
     "data": {
      "application/javascript": [
       "\n",
       "    for( var i=0; i < cy.io.selection.length; i++ ){\n",
       "        var ele = cy.io.selection[i]\n",
       "        cy.io.style.change( ele, 'font-size', '12px' )\n",
       "    }\n",
       "    "
      ],
      "text/plain": [
       "<IPython.core.display.Javascript object>"
      ]
     },
     "metadata": {},
     "output_type": "display_data"
    },
    {
     "data": {
      "application/javascript": [
       "\n",
       "    for( var i=0; i < cy.io.selection.length; i++ ){\n",
       "        var ele = cy.io.selection[i]\n",
       "        cy.io.style.change( ele, 'font-size', '12px' )\n",
       "    }\n",
       "    "
      ],
      "text/plain": [
       "<IPython.core.display.Javascript object>"
      ]
     },
     "metadata": {},
     "output_type": "display_data"
    },
    {
     "data": {
      "application/javascript": [
       "\n",
       "    for( var i=0; i < cy.io.selection.length; i++ ){\n",
       "        var ele = cy.io.selection[i]\n",
       "        cy.io.style.change( ele, 'font-size', '12px' )\n",
       "    }\n",
       "    "
      ],
      "text/plain": [
       "<IPython.core.display.Javascript object>"
      ]
     },
     "metadata": {},
     "output_type": "display_data"
    },
    {
     "data": {
      "application/javascript": [
       "\n",
       "    for( var i=0; i < cy.io.selection.length; i++ ){\n",
       "        var ele = cy.io.selection[i]\n",
       "        cy.io.style.change( ele, 'font-size', '13px' )\n",
       "    }\n",
       "    "
      ],
      "text/plain": [
       "<IPython.core.display.Javascript object>"
      ]
     },
     "metadata": {},
     "output_type": "display_data"
    },
    {
     "data": {
      "application/javascript": [
       "\n",
       "    for( var i=0; i < cy.io.selection.length; i++ ){\n",
       "        var ele = cy.io.selection[i]\n",
       "        cy.io.style.change( ele, 'font-size', '13px' )\n",
       "    }\n",
       "    "
      ],
      "text/plain": [
       "<IPython.core.display.Javascript object>"
      ]
     },
     "metadata": {},
     "output_type": "display_data"
    },
    {
     "data": {
      "application/javascript": [
       "\n",
       "    for( var i=0; i < cy.io.selection.length; i++ ){\n",
       "        var ele = cy.io.selection[i]\n",
       "        cy.io.style.change( ele, 'font-size', '13px' )\n",
       "    }\n",
       "    "
      ],
      "text/plain": [
       "<IPython.core.display.Javascript object>"
      ]
     },
     "metadata": {},
     "output_type": "display_data"
    },
    {
     "data": {
      "application/javascript": [
       "\n",
       "    for( var i=0; i < cy.io.selection.length; i++ ){\n",
       "        var ele = cy.io.selection[i]\n",
       "        cy.io.style.change( ele, 'font-size', '14px' )\n",
       "    }\n",
       "    "
      ],
      "text/plain": [
       "<IPython.core.display.Javascript object>"
      ]
     },
     "metadata": {},
     "output_type": "display_data"
    },
    {
     "data": {
      "application/javascript": [
       "\n",
       "    for( var i=0; i < cy.io.selection.length; i++ ){\n",
       "        var ele = cy.io.selection[i]\n",
       "        cy.io.style.change( ele, 'font-size', '14px' )\n",
       "    }\n",
       "    "
      ],
      "text/plain": [
       "<IPython.core.display.Javascript object>"
      ]
     },
     "metadata": {},
     "output_type": "display_data"
    },
    {
     "data": {
      "application/javascript": [
       "\n",
       "    for( var i=0; i < cy.io.selection.length; i++ ){\n",
       "        var ele = cy.io.selection[i]\n",
       "        cy.io.style.change( ele, 'font-size', '14px' )\n",
       "    }\n",
       "    "
      ],
      "text/plain": [
       "<IPython.core.display.Javascript object>"
      ]
     },
     "metadata": {},
     "output_type": "display_data"
    },
    {
     "data": {
      "application/javascript": [
       "\n",
       "    for( var i=0; i < cy.io.selection.length; i++ ){\n",
       "        var ele = cy.io.selection[i]\n",
       "        cy.io.style.change( ele, 'font-size', '15px' )\n",
       "    }\n",
       "    "
      ],
      "text/plain": [
       "<IPython.core.display.Javascript object>"
      ]
     },
     "metadata": {},
     "output_type": "display_data"
    },
    {
     "data": {
      "application/javascript": [
       "\n",
       "    for( var i=0; i < cy.io.selection.length; i++ ){\n",
       "        var ele = cy.io.selection[i]\n",
       "        cy.io.style.change( ele, 'font-size', '15px' )\n",
       "    }\n",
       "    "
      ],
      "text/plain": [
       "<IPython.core.display.Javascript object>"
      ]
     },
     "metadata": {},
     "output_type": "display_data"
    },
    {
     "data": {
      "application/javascript": [
       "\n",
       "    for( var i=0; i < cy.io.selection.length; i++ ){\n",
       "        var ele = cy.io.selection[i]\n",
       "        cy.io.style.change( ele, 'font-size', '15px' )\n",
       "    }\n",
       "    "
      ],
      "text/plain": [
       "<IPython.core.display.Javascript object>"
      ]
     },
     "metadata": {},
     "output_type": "display_data"
    },
    {
     "data": {
      "application/javascript": [
       "\n",
       "    for( var i=0; i < cy.io.selection.length; i++ ){\n",
       "        var ele = cy.io.selection[i]\n",
       "        cy.io.style.change( ele, 'font-size', '16px' )\n",
       "    }\n",
       "    "
      ],
      "text/plain": [
       "<IPython.core.display.Javascript object>"
      ]
     },
     "metadata": {},
     "output_type": "display_data"
    },
    {
     "data": {
      "application/javascript": [
       "\n",
       "    for( var i=0; i < cy.io.selection.length; i++ ){\n",
       "        var ele = cy.io.selection[i]\n",
       "        cy.io.style.change( ele, 'font-size', '16px' )\n",
       "    }\n",
       "    "
      ],
      "text/plain": [
       "<IPython.core.display.Javascript object>"
      ]
     },
     "metadata": {},
     "output_type": "display_data"
    },
    {
     "data": {
      "application/javascript": [
       "\n",
       "    for( var i=0; i < cy.io.selection.length; i++ ){\n",
       "        var ele = cy.io.selection[i]\n",
       "        cy.io.style.change( ele, 'font-size', '16px' )\n",
       "    }\n",
       "    "
      ],
      "text/plain": [
       "<IPython.core.display.Javascript object>"
      ]
     },
     "metadata": {},
     "output_type": "display_data"
    },
    {
     "data": {
      "application/javascript": [
       "\n",
       "    for( var i=0; i < cy.io.selection.length; i++ ){\n",
       "        var ele = cy.io.selection[i]\n",
       "        cy.io.style.change( ele, 'font-size', '17px' )\n",
       "    }\n",
       "    "
      ],
      "text/plain": [
       "<IPython.core.display.Javascript object>"
      ]
     },
     "metadata": {},
     "output_type": "display_data"
    },
    {
     "data": {
      "application/javascript": [
       "\n",
       "    for( var i=0; i < cy.io.selection.length; i++ ){\n",
       "        var ele = cy.io.selection[i]\n",
       "        cy.io.style.change( ele, 'font-size', '17px' )\n",
       "    }\n",
       "    "
      ],
      "text/plain": [
       "<IPython.core.display.Javascript object>"
      ]
     },
     "metadata": {},
     "output_type": "display_data"
    },
    {
     "data": {
      "application/javascript": [
       "\n",
       "    for( var i=0; i < cy.io.selection.length; i++ ){\n",
       "        var ele = cy.io.selection[i]\n",
       "        cy.io.style.change( ele, 'font-size', '17px' )\n",
       "    }\n",
       "    "
      ],
      "text/plain": [
       "<IPython.core.display.Javascript object>"
      ]
     },
     "metadata": {},
     "output_type": "display_data"
    },
    {
     "data": {
      "application/javascript": [
       "\n",
       "    for( var i=0; i < cy.io.selection.length; i++ ){\n",
       "        var ele = cy.io.selection[i]\n",
       "        cy.io.style.change( ele, 'font-size', '18px' )\n",
       "    }\n",
       "    "
      ],
      "text/plain": [
       "<IPython.core.display.Javascript object>"
      ]
     },
     "metadata": {},
     "output_type": "display_data"
    },
    {
     "data": {
      "application/javascript": [
       "\n",
       "    for( var i=0; i < cy.io.selection.length; i++ ){\n",
       "        var ele = cy.io.selection[i]\n",
       "        cy.io.style.change( ele, 'font-size', '18px' )\n",
       "    }\n",
       "    "
      ],
      "text/plain": [
       "<IPython.core.display.Javascript object>"
      ]
     },
     "metadata": {},
     "output_type": "display_data"
    },
    {
     "data": {
      "application/javascript": [
       "\n",
       "    for( var i=0; i < cy.io.selection.length; i++ ){\n",
       "        var ele = cy.io.selection[i]\n",
       "        cy.io.style.change( ele, 'font-size', '18px' )\n",
       "    }\n",
       "    "
      ],
      "text/plain": [
       "<IPython.core.display.Javascript object>"
      ]
     },
     "metadata": {},
     "output_type": "display_data"
    },
    {
     "data": {
      "application/javascript": [
       "\n",
       "    for( var i=0; i < cy.io.selection.length; i++ ){\n",
       "        var ele = cy.io.selection[i]\n",
       "        cy.io.style.change( ele, 'font-size', '19px' )\n",
       "    }\n",
       "    "
      ],
      "text/plain": [
       "<IPython.core.display.Javascript object>"
      ]
     },
     "metadata": {},
     "output_type": "display_data"
    },
    {
     "data": {
      "application/javascript": [
       "\n",
       "    for( var i=0; i < cy.io.selection.length; i++ ){\n",
       "        var ele = cy.io.selection[i]\n",
       "        cy.io.style.change( ele, 'font-size', '19px' )\n",
       "    }\n",
       "    "
      ],
      "text/plain": [
       "<IPython.core.display.Javascript object>"
      ]
     },
     "metadata": {},
     "output_type": "display_data"
    },
    {
     "data": {
      "application/javascript": [
       "\n",
       "    for( var i=0; i < cy.io.selection.length; i++ ){\n",
       "        var ele = cy.io.selection[i]\n",
       "        cy.io.style.change( ele, 'font-size', '19px' )\n",
       "    }\n",
       "    "
      ],
      "text/plain": [
       "<IPython.core.display.Javascript object>"
      ]
     },
     "metadata": {},
     "output_type": "display_data"
    },
    {
     "data": {
      "application/javascript": [
       "\n",
       "    for( var i=0; i < cy.io.selection.length; i++ ){\n",
       "        var ele = cy.io.selection[i]\n",
       "        cy.io.style.change( ele, 'font-size', '20px' )\n",
       "    }\n",
       "    "
      ],
      "text/plain": [
       "<IPython.core.display.Javascript object>"
      ]
     },
     "metadata": {},
     "output_type": "display_data"
    },
    {
     "data": {
      "application/javascript": [
       "\n",
       "    for( var i=0; i < cy.io.selection.length; i++ ){\n",
       "        var ele = cy.io.selection[i]\n",
       "        cy.io.style.change( ele, 'font-size', '20px' )\n",
       "    }\n",
       "    "
      ],
      "text/plain": [
       "<IPython.core.display.Javascript object>"
      ]
     },
     "metadata": {},
     "output_type": "display_data"
    },
    {
     "data": {
      "application/javascript": [
       "\n",
       "    for( var i=0; i < cy.io.selection.length; i++ ){\n",
       "        var ele = cy.io.selection[i]\n",
       "        cy.io.style.change( ele, 'font-size', '20px' )\n",
       "    }\n",
       "    "
      ],
      "text/plain": [
       "<IPython.core.display.Javascript object>"
      ]
     },
     "metadata": {},
     "output_type": "display_data"
    },
    {
     "data": {
      "application/javascript": [
       "\n",
       "    for( var i=0; i < cy.io.selection.length; i++ ){\n",
       "        var ele = cy.io.selection[i]\n",
       "        cy.io.style.change( ele, 'font-size', '21px' )\n",
       "    }\n",
       "    "
      ],
      "text/plain": [
       "<IPython.core.display.Javascript object>"
      ]
     },
     "metadata": {},
     "output_type": "display_data"
    },
    {
     "data": {
      "application/javascript": [
       "\n",
       "    for( var i=0; i < cy.io.selection.length; i++ ){\n",
       "        var ele = cy.io.selection[i]\n",
       "        cy.io.style.change( ele, 'font-size', '21px' )\n",
       "    }\n",
       "    "
      ],
      "text/plain": [
       "<IPython.core.display.Javascript object>"
      ]
     },
     "metadata": {},
     "output_type": "display_data"
    },
    {
     "data": {
      "application/javascript": [
       "\n",
       "    for( var i=0; i < cy.io.selection.length; i++ ){\n",
       "        var ele = cy.io.selection[i]\n",
       "        cy.io.style.change( ele, 'font-size', '21px' )\n",
       "    }\n",
       "    "
      ],
      "text/plain": [
       "<IPython.core.display.Javascript object>"
      ]
     },
     "metadata": {},
     "output_type": "display_data"
    },
    {
     "data": {
      "application/javascript": [
       "\n",
       "    for( var i=0; i < cy.io.selection.length; i++ ){\n",
       "        var ele = cy.io.selection[i]\n",
       "        cy.io.style.change( ele, 'font-size', '22px' )\n",
       "    }\n",
       "    "
      ],
      "text/plain": [
       "<IPython.core.display.Javascript object>"
      ]
     },
     "metadata": {},
     "output_type": "display_data"
    },
    {
     "data": {
      "application/javascript": [
       "\n",
       "    for( var i=0; i < cy.io.selection.length; i++ ){\n",
       "        var ele = cy.io.selection[i]\n",
       "        cy.io.style.change( ele, 'font-size', '22px' )\n",
       "    }\n",
       "    "
      ],
      "text/plain": [
       "<IPython.core.display.Javascript object>"
      ]
     },
     "metadata": {},
     "output_type": "display_data"
    },
    {
     "data": {
      "application/javascript": [
       "\n",
       "    for( var i=0; i < cy.io.selection.length; i++ ){\n",
       "        var ele = cy.io.selection[i]\n",
       "        cy.io.style.change( ele, 'font-size', '22px' )\n",
       "    }\n",
       "    "
      ],
      "text/plain": [
       "<IPython.core.display.Javascript object>"
      ]
     },
     "metadata": {},
     "output_type": "display_data"
    },
    {
     "data": {
      "application/javascript": [
       "\n",
       "    for( var i=0; i < cy.io.selection.length; i++ ){\n",
       "        var ele = cy.io.selection[i]\n",
       "        cy.io.style.change( ele, 'font-size', '21px' )\n",
       "    }\n",
       "    "
      ],
      "text/plain": [
       "<IPython.core.display.Javascript object>"
      ]
     },
     "metadata": {},
     "output_type": "display_data"
    },
    {
     "data": {
      "application/javascript": [
       "\n",
       "    for( var i=0; i < cy.io.selection.length; i++ ){\n",
       "        var ele = cy.io.selection[i]\n",
       "        cy.io.style.change( ele, 'font-size', '21px' )\n",
       "    }\n",
       "    "
      ],
      "text/plain": [
       "<IPython.core.display.Javascript object>"
      ]
     },
     "metadata": {},
     "output_type": "display_data"
    },
    {
     "data": {
      "application/javascript": [
       "\n",
       "    for( var i=0; i < cy.io.selection.length; i++ ){\n",
       "        var ele = cy.io.selection[i]\n",
       "        cy.io.style.change( ele, 'font-size', '21px' )\n",
       "    }\n",
       "    "
      ],
      "text/plain": [
       "<IPython.core.display.Javascript object>"
      ]
     },
     "metadata": {},
     "output_type": "display_data"
    },
    {
     "data": {
      "application/javascript": [
       "\n",
       "    for( var i=0; i < cy.io.selection.length; i++ ){\n",
       "        var ele = cy.io.selection[i]\n",
       "        cy.io.style.change( ele, 'font-size', '20px' )\n",
       "    }\n",
       "    "
      ],
      "text/plain": [
       "<IPython.core.display.Javascript object>"
      ]
     },
     "metadata": {},
     "output_type": "display_data"
    },
    {
     "data": {
      "application/javascript": [
       "\n",
       "    for( var i=0; i < cy.io.selection.length; i++ ){\n",
       "        var ele = cy.io.selection[i]\n",
       "        cy.io.style.change( ele, 'font-size', '20px' )\n",
       "    }\n",
       "    "
      ],
      "text/plain": [
       "<IPython.core.display.Javascript object>"
      ]
     },
     "metadata": {},
     "output_type": "display_data"
    },
    {
     "data": {
      "application/javascript": [
       "\n",
       "    for( var i=0; i < cy.io.selection.length; i++ ){\n",
       "        var ele = cy.io.selection[i]\n",
       "        cy.io.style.change( ele, 'font-size', '20px' )\n",
       "    }\n",
       "    "
      ],
      "text/plain": [
       "<IPython.core.display.Javascript object>"
      ]
     },
     "metadata": {},
     "output_type": "display_data"
    },
    {
     "data": {
      "application/javascript": [
       "\n",
       "    for( var i=0; i < cy.io.selection.length; i++ ){\n",
       "        var ele = cy.io.selection[i]\n",
       "        cy.io.style.change( ele, 'font-size', '19px' )\n",
       "    }\n",
       "    "
      ],
      "text/plain": [
       "<IPython.core.display.Javascript object>"
      ]
     },
     "metadata": {},
     "output_type": "display_data"
    },
    {
     "data": {
      "application/javascript": [
       "\n",
       "    for( var i=0; i < cy.io.selection.length; i++ ){\n",
       "        var ele = cy.io.selection[i]\n",
       "        cy.io.style.change( ele, 'font-size', '19px' )\n",
       "    }\n",
       "    "
      ],
      "text/plain": [
       "<IPython.core.display.Javascript object>"
      ]
     },
     "metadata": {},
     "output_type": "display_data"
    },
    {
     "data": {
      "application/javascript": [
       "\n",
       "    for( var i=0; i < cy.io.selection.length; i++ ){\n",
       "        var ele = cy.io.selection[i]\n",
       "        cy.io.style.change( ele, 'font-size', '19px' )\n",
       "    }\n",
       "    "
      ],
      "text/plain": [
       "<IPython.core.display.Javascript object>"
      ]
     },
     "metadata": {},
     "output_type": "display_data"
    },
    {
     "data": {
      "application/javascript": [
       "\n",
       "    for( var i=0; i < cy.io.selection.length; i++ ){\n",
       "        var ele = cy.io.selection[i]\n",
       "        cy.io.style.change( ele, 'font-size', '17px' )\n",
       "    }\n",
       "    "
      ],
      "text/plain": [
       "<IPython.core.display.Javascript object>"
      ]
     },
     "metadata": {},
     "output_type": "display_data"
    },
    {
     "data": {
      "application/javascript": [
       "\n",
       "    for( var i=0; i < cy.io.selection.length; i++ ){\n",
       "        var ele = cy.io.selection[i]\n",
       "        cy.io.style.change( ele, 'font-size', '17px' )\n",
       "    }\n",
       "    "
      ],
      "text/plain": [
       "<IPython.core.display.Javascript object>"
      ]
     },
     "metadata": {},
     "output_type": "display_data"
    },
    {
     "data": {
      "application/javascript": [
       "\n",
       "    for( var i=0; i < cy.io.selection.length; i++ ){\n",
       "        var ele = cy.io.selection[i]\n",
       "        cy.io.style.change( ele, 'font-size', '17px' )\n",
       "    }\n",
       "    "
      ],
      "text/plain": [
       "<IPython.core.display.Javascript object>"
      ]
     },
     "metadata": {},
     "output_type": "display_data"
    },
    {
     "data": {
      "application/javascript": [
       "\n",
       "    for( var i=0; i < cy.io.selection.length; i++ ){\n",
       "        var ele = cy.io.selection[i]\n",
       "        cy.io.style.change( ele, 'font-size', '16px' )\n",
       "    }\n",
       "    "
      ],
      "text/plain": [
       "<IPython.core.display.Javascript object>"
      ]
     },
     "metadata": {},
     "output_type": "display_data"
    },
    {
     "data": {
      "application/javascript": [
       "\n",
       "    for( var i=0; i < cy.io.selection.length; i++ ){\n",
       "        var ele = cy.io.selection[i]\n",
       "        cy.io.style.change( ele, 'font-size', '16px' )\n",
       "    }\n",
       "    "
      ],
      "text/plain": [
       "<IPython.core.display.Javascript object>"
      ]
     },
     "metadata": {},
     "output_type": "display_data"
    },
    {
     "data": {
      "application/javascript": [
       "\n",
       "    for( var i=0; i < cy.io.selection.length; i++ ){\n",
       "        var ele = cy.io.selection[i]\n",
       "        cy.io.style.change( ele, 'font-size', '16px' )\n",
       "    }\n",
       "    "
      ],
      "text/plain": [
       "<IPython.core.display.Javascript object>"
      ]
     },
     "metadata": {},
     "output_type": "display_data"
    },
    {
     "data": {
      "application/javascript": [
       "\n",
       "    for( var i=0; i < cy.io.selection.length; i++ ){\n",
       "        var ele = cy.io.selection[i]\n",
       "        cy.io.style.change( ele, 'font-size', '14px' )\n",
       "    }\n",
       "    "
      ],
      "text/plain": [
       "<IPython.core.display.Javascript object>"
      ]
     },
     "metadata": {},
     "output_type": "display_data"
    },
    {
     "data": {
      "application/javascript": [
       "\n",
       "    for( var i=0; i < cy.io.selection.length; i++ ){\n",
       "        var ele = cy.io.selection[i]\n",
       "        cy.io.style.change( ele, 'font-size', '14px' )\n",
       "    }\n",
       "    "
      ],
      "text/plain": [
       "<IPython.core.display.Javascript object>"
      ]
     },
     "metadata": {},
     "output_type": "display_data"
    },
    {
     "data": {
      "application/javascript": [
       "\n",
       "    for( var i=0; i < cy.io.selection.length; i++ ){\n",
       "        var ele = cy.io.selection[i]\n",
       "        cy.io.style.change( ele, 'font-size', '14px' )\n",
       "    }\n",
       "    "
      ],
      "text/plain": [
       "<IPython.core.display.Javascript object>"
      ]
     },
     "metadata": {},
     "output_type": "display_data"
    },
    {
     "data": {
      "application/javascript": [
       "\n",
       "    for( var i=0; i < cy.io.selection.length; i++ ){\n",
       "        var ele = cy.io.selection[i]\n",
       "        cy.io.style.change( ele, 'font-size', '13px' )\n",
       "    }\n",
       "    "
      ],
      "text/plain": [
       "<IPython.core.display.Javascript object>"
      ]
     },
     "metadata": {},
     "output_type": "display_data"
    },
    {
     "data": {
      "application/javascript": [
       "\n",
       "    for( var i=0; i < cy.io.selection.length; i++ ){\n",
       "        var ele = cy.io.selection[i]\n",
       "        cy.io.style.change( ele, 'font-size', '13px' )\n",
       "    }\n",
       "    "
      ],
      "text/plain": [
       "<IPython.core.display.Javascript object>"
      ]
     },
     "metadata": {},
     "output_type": "display_data"
    },
    {
     "data": {
      "application/javascript": [
       "\n",
       "    for( var i=0; i < cy.io.selection.length; i++ ){\n",
       "        var ele = cy.io.selection[i]\n",
       "        cy.io.style.change( ele, 'font-size', '13px' )\n",
       "    }\n",
       "    "
      ],
      "text/plain": [
       "<IPython.core.display.Javascript object>"
      ]
     },
     "metadata": {},
     "output_type": "display_data"
    },
    {
     "data": {
      "application/javascript": [
       "\n",
       "    for( var i=0; i < cy.io.selection.length; i++ ){\n",
       "        var ele = cy.io.selection[i]\n",
       "        cy.io.style.change( ele, 'font-size', '12px' )\n",
       "    }\n",
       "    "
      ],
      "text/plain": [
       "<IPython.core.display.Javascript object>"
      ]
     },
     "metadata": {},
     "output_type": "display_data"
    },
    {
     "data": {
      "application/javascript": [
       "\n",
       "    for( var i=0; i < cy.io.selection.length; i++ ){\n",
       "        var ele = cy.io.selection[i]\n",
       "        cy.io.style.change( ele, 'font-size', '12px' )\n",
       "    }\n",
       "    "
      ],
      "text/plain": [
       "<IPython.core.display.Javascript object>"
      ]
     },
     "metadata": {},
     "output_type": "display_data"
    },
    {
     "data": {
      "application/javascript": [
       "\n",
       "    for( var i=0; i < cy.io.selection.length; i++ ){\n",
       "        var ele = cy.io.selection[i]\n",
       "        cy.io.style.change( ele, 'font-size', '12px' )\n",
       "    }\n",
       "    "
      ],
      "text/plain": [
       "<IPython.core.display.Javascript object>"
      ]
     },
     "metadata": {},
     "output_type": "display_data"
    },
    {
     "data": {
      "application/javascript": [
       "\n",
       "    for( var i=0; i < cy.io.selection.length; i++ ){\n",
       "        var ele = cy.io.selection[i]\n",
       "        cy.io.style.change( ele, 'font-size', '11px' )\n",
       "    }\n",
       "    "
      ],
      "text/plain": [
       "<IPython.core.display.Javascript object>"
      ]
     },
     "metadata": {},
     "output_type": "display_data"
    },
    {
     "data": {
      "application/javascript": [
       "\n",
       "    for( var i=0; i < cy.io.selection.length; i++ ){\n",
       "        var ele = cy.io.selection[i]\n",
       "        cy.io.style.change( ele, 'font-size', '11px' )\n",
       "    }\n",
       "    "
      ],
      "text/plain": [
       "<IPython.core.display.Javascript object>"
      ]
     },
     "metadata": {},
     "output_type": "display_data"
    },
    {
     "data": {
      "application/javascript": [
       "\n",
       "    for( var i=0; i < cy.io.selection.length; i++ ){\n",
       "        var ele = cy.io.selection[i]\n",
       "        cy.io.style.change( ele, 'font-size', '11px' )\n",
       "    }\n",
       "    "
      ],
      "text/plain": [
       "<IPython.core.display.Javascript object>"
      ]
     },
     "metadata": {},
     "output_type": "display_data"
    },
    {
     "data": {
      "application/javascript": [
       "\n",
       "    for( var i=0; i < cy.io.selection.length; i++ ){\n",
       "        var ele = cy.io.selection[i]\n",
       "        cy.io.style.change( ele, 'font-size', '10px' )\n",
       "    }\n",
       "    "
      ],
      "text/plain": [
       "<IPython.core.display.Javascript object>"
      ]
     },
     "metadata": {},
     "output_type": "display_data"
    },
    {
     "data": {
      "application/javascript": [
       "\n",
       "    for( var i=0; i < cy.io.selection.length; i++ ){\n",
       "        var ele = cy.io.selection[i]\n",
       "        cy.io.style.change( ele, 'font-size', '10px' )\n",
       "    }\n",
       "    "
      ],
      "text/plain": [
       "<IPython.core.display.Javascript object>"
      ]
     },
     "metadata": {},
     "output_type": "display_data"
    },
    {
     "data": {
      "application/javascript": [
       "\n",
       "    for( var i=0; i < cy.io.selection.length; i++ ){\n",
       "        var ele = cy.io.selection[i]\n",
       "        cy.io.style.change( ele, 'font-size', '10px' )\n",
       "    }\n",
       "    "
      ],
      "text/plain": [
       "<IPython.core.display.Javascript object>"
      ]
     },
     "metadata": {},
     "output_type": "display_data"
    },
    {
     "data": {
      "application/javascript": [
       "\n",
       "    for( var i=0; i < cy.io.selection.length; i++ ){\n",
       "        var ele = cy.io.selection[i]\n",
       "        cy.io.style.change( ele, 'font-size', '9px' )\n",
       "    }\n",
       "    "
      ],
      "text/plain": [
       "<IPython.core.display.Javascript object>"
      ]
     },
     "metadata": {},
     "output_type": "display_data"
    },
    {
     "data": {
      "application/javascript": [
       "\n",
       "    for( var i=0; i < cy.io.selection.length; i++ ){\n",
       "        var ele = cy.io.selection[i]\n",
       "        cy.io.style.change( ele, 'font-size', '9px' )\n",
       "    }\n",
       "    "
      ],
      "text/plain": [
       "<IPython.core.display.Javascript object>"
      ]
     },
     "metadata": {},
     "output_type": "display_data"
    },
    {
     "data": {
      "application/javascript": [
       "\n",
       "    for( var i=0; i < cy.io.selection.length; i++ ){\n",
       "        var ele = cy.io.selection[i]\n",
       "        cy.io.style.change( ele, 'font-size', '9px' )\n",
       "    }\n",
       "    "
      ],
      "text/plain": [
       "<IPython.core.display.Javascript object>"
      ]
     },
     "metadata": {},
     "output_type": "display_data"
    },
    {
     "data": {
      "application/javascript": [
       "\n",
       "    for( var i=0; i < cy.io.selection.length; i++ ){\n",
       "        var ele = cy.io.selection[i]\n",
       "        cy.io.style.change( ele, 'font-size', '8px' )\n",
       "    }\n",
       "    "
      ],
      "text/plain": [
       "<IPython.core.display.Javascript object>"
      ]
     },
     "metadata": {},
     "output_type": "display_data"
    },
    {
     "data": {
      "application/javascript": [
       "\n",
       "    for( var i=0; i < cy.io.selection.length; i++ ){\n",
       "        var ele = cy.io.selection[i]\n",
       "        cy.io.style.change( ele, 'font-size', '8px' )\n",
       "    }\n",
       "    "
      ],
      "text/plain": [
       "<IPython.core.display.Javascript object>"
      ]
     },
     "metadata": {},
     "output_type": "display_data"
    },
    {
     "data": {
      "application/javascript": [
       "\n",
       "    for( var i=0; i < cy.io.selection.length; i++ ){\n",
       "        var ele = cy.io.selection[i]\n",
       "        cy.io.style.change( ele, 'font-size', '8px' )\n",
       "    }\n",
       "    "
      ],
      "text/plain": [
       "<IPython.core.display.Javascript object>"
      ]
     },
     "metadata": {},
     "output_type": "display_data"
    },
    {
     "data": {
      "application/javascript": [
       "\n",
       "    for( var i=0; i < cy.io.selection.length; i++ ){\n",
       "        var ele = cy.io.selection[i]\n",
       "        cy.io.style.change( ele, 'font-size', '7px' )\n",
       "    }\n",
       "    "
      ],
      "text/plain": [
       "<IPython.core.display.Javascript object>"
      ]
     },
     "metadata": {},
     "output_type": "display_data"
    },
    {
     "data": {
      "application/javascript": [
       "\n",
       "    for( var i=0; i < cy.io.selection.length; i++ ){\n",
       "        var ele = cy.io.selection[i]\n",
       "        cy.io.style.change( ele, 'font-size', '7px' )\n",
       "    }\n",
       "    "
      ],
      "text/plain": [
       "<IPython.core.display.Javascript object>"
      ]
     },
     "metadata": {},
     "output_type": "display_data"
    },
    {
     "data": {
      "application/javascript": [
       "\n",
       "    for( var i=0; i < cy.io.selection.length; i++ ){\n",
       "        var ele = cy.io.selection[i]\n",
       "        cy.io.style.change( ele, 'font-size', '7px' )\n",
       "    }\n",
       "    "
      ],
      "text/plain": [
       "<IPython.core.display.Javascript object>"
      ]
     },
     "metadata": {},
     "output_type": "display_data"
    },
    {
     "data": {
      "application/javascript": [
       "\n",
       "    for( var i=0; i < cy.io.selection.length; i++ ){\n",
       "        var ele = cy.io.selection[i]\n",
       "        cy.io.style.change( ele, 'font-size', '6px' )\n",
       "    }\n",
       "    "
      ],
      "text/plain": [
       "<IPython.core.display.Javascript object>"
      ]
     },
     "metadata": {},
     "output_type": "display_data"
    },
    {
     "data": {
      "application/javascript": [
       "\n",
       "    for( var i=0; i < cy.io.selection.length; i++ ){\n",
       "        var ele = cy.io.selection[i]\n",
       "        cy.io.style.change( ele, 'font-size', '6px' )\n",
       "    }\n",
       "    "
      ],
      "text/plain": [
       "<IPython.core.display.Javascript object>"
      ]
     },
     "metadata": {},
     "output_type": "display_data"
    },
    {
     "data": {
      "application/javascript": [
       "\n",
       "    for( var i=0; i < cy.io.selection.length; i++ ){\n",
       "        var ele = cy.io.selection[i]\n",
       "        cy.io.style.change( ele, 'font-size', '6px' )\n",
       "    }\n",
       "    "
      ],
      "text/plain": [
       "<IPython.core.display.Javascript object>"
      ]
     },
     "metadata": {},
     "output_type": "display_data"
    },
    {
     "data": {
      "application/javascript": [
       "\n",
       "    for( var i=0; i < cy.io.selection.length; i++ ){\n",
       "        var ele = cy.io.selection[i]\n",
       "        cy.io.style.change( ele, 'font-size', '7px' )\n",
       "    }\n",
       "    "
      ],
      "text/plain": [
       "<IPython.core.display.Javascript object>"
      ]
     },
     "metadata": {},
     "output_type": "display_data"
    },
    {
     "data": {
      "application/javascript": [
       "\n",
       "    for( var i=0; i < cy.io.selection.length; i++ ){\n",
       "        var ele = cy.io.selection[i]\n",
       "        cy.io.style.change( ele, 'font-size', '7px' )\n",
       "    }\n",
       "    "
      ],
      "text/plain": [
       "<IPython.core.display.Javascript object>"
      ]
     },
     "metadata": {},
     "output_type": "display_data"
    },
    {
     "data": {
      "application/javascript": [
       "\n",
       "    for( var i=0; i < cy.io.selection.length; i++ ){\n",
       "        var ele = cy.io.selection[i]\n",
       "        cy.io.style.change( ele, 'font-size', '7px' )\n",
       "    }\n",
       "    "
      ],
      "text/plain": [
       "<IPython.core.display.Javascript object>"
      ]
     },
     "metadata": {},
     "output_type": "display_data"
    },
    {
     "data": {
      "application/javascript": [
       "\n",
       "    for( var i=0; i < cy.io.selection.length; i++ ){\n",
       "        var ele = cy.io.selection[i]\n",
       "        cy.io.style.change( ele, 'font-size', '10px' )\n",
       "    }\n",
       "    "
      ],
      "text/plain": [
       "<IPython.core.display.Javascript object>"
      ]
     },
     "metadata": {},
     "output_type": "display_data"
    },
    {
     "data": {
      "application/javascript": [
       "\n",
       "    for( var i=0; i < cy.io.selection.length; i++ ){\n",
       "        var ele = cy.io.selection[i]\n",
       "        cy.io.style.change( ele, 'font-size', '10px' )\n",
       "    }\n",
       "    "
      ],
      "text/plain": [
       "<IPython.core.display.Javascript object>"
      ]
     },
     "metadata": {},
     "output_type": "display_data"
    },
    {
     "data": {
      "application/javascript": [
       "\n",
       "    for( var i=0; i < cy.io.selection.length; i++ ){\n",
       "        var ele = cy.io.selection[i]\n",
       "        cy.io.style.change( ele, 'font-size', '10px' )\n",
       "    }\n",
       "    "
      ],
      "text/plain": [
       "<IPython.core.display.Javascript object>"
      ]
     },
     "metadata": {},
     "output_type": "display_data"
    },
    {
     "data": {
      "application/javascript": [
       "\n",
       "    for( var i=0; i < cy.io.selection.length; i++ ){\n",
       "        var ele = cy.io.selection[i]\n",
       "        cy.io.style.change( ele, 'font-size', '13px' )\n",
       "    }\n",
       "    "
      ],
      "text/plain": [
       "<IPython.core.display.Javascript object>"
      ]
     },
     "metadata": {},
     "output_type": "display_data"
    },
    {
     "data": {
      "application/javascript": [
       "\n",
       "    for( var i=0; i < cy.io.selection.length; i++ ){\n",
       "        var ele = cy.io.selection[i]\n",
       "        cy.io.style.change( ele, 'font-size', '13px' )\n",
       "    }\n",
       "    "
      ],
      "text/plain": [
       "<IPython.core.display.Javascript object>"
      ]
     },
     "metadata": {},
     "output_type": "display_data"
    },
    {
     "data": {
      "application/javascript": [
       "\n",
       "    for( var i=0; i < cy.io.selection.length; i++ ){\n",
       "        var ele = cy.io.selection[i]\n",
       "        cy.io.style.change( ele, 'font-size', '13px' )\n",
       "    }\n",
       "    "
      ],
      "text/plain": [
       "<IPython.core.display.Javascript object>"
      ]
     },
     "metadata": {},
     "output_type": "display_data"
    },
    {
     "data": {
      "application/javascript": [
       "\n",
       "    for( var i=0; i < cy.io.selection.length; i++ ){\n",
       "        var ele = cy.io.selection[i]\n",
       "        cy.io.style.change( ele, 'font-size', '18px' )\n",
       "    }\n",
       "    "
      ],
      "text/plain": [
       "<IPython.core.display.Javascript object>"
      ]
     },
     "metadata": {},
     "output_type": "display_data"
    },
    {
     "data": {
      "application/javascript": [
       "\n",
       "    for( var i=0; i < cy.io.selection.length; i++ ){\n",
       "        var ele = cy.io.selection[i]\n",
       "        cy.io.style.change( ele, 'font-size', '18px' )\n",
       "    }\n",
       "    "
      ],
      "text/plain": [
       "<IPython.core.display.Javascript object>"
      ]
     },
     "metadata": {},
     "output_type": "display_data"
    },
    {
     "data": {
      "application/javascript": [
       "\n",
       "    for( var i=0; i < cy.io.selection.length; i++ ){\n",
       "        var ele = cy.io.selection[i]\n",
       "        cy.io.style.change( ele, 'font-size', '18px' )\n",
       "    }\n",
       "    "
      ],
      "text/plain": [
       "<IPython.core.display.Javascript object>"
      ]
     },
     "metadata": {},
     "output_type": "display_data"
    },
    {
     "data": {
      "application/javascript": [
       "\n",
       "    for( var i=0; i < cy.io.selection.length; i++ ){\n",
       "        var ele = cy.io.selection[i]\n",
       "        cy.io.style.change( ele, 'font-size', '25px' )\n",
       "    }\n",
       "    "
      ],
      "text/plain": [
       "<IPython.core.display.Javascript object>"
      ]
     },
     "metadata": {},
     "output_type": "display_data"
    },
    {
     "data": {
      "application/javascript": [
       "\n",
       "    for( var i=0; i < cy.io.selection.length; i++ ){\n",
       "        var ele = cy.io.selection[i]\n",
       "        cy.io.style.change( ele, 'font-size', '25px' )\n",
       "    }\n",
       "    "
      ],
      "text/plain": [
       "<IPython.core.display.Javascript object>"
      ]
     },
     "metadata": {},
     "output_type": "display_data"
    },
    {
     "data": {
      "application/javascript": [
       "\n",
       "    for( var i=0; i < cy.io.selection.length; i++ ){\n",
       "        var ele = cy.io.selection[i]\n",
       "        cy.io.style.change( ele, 'font-size', '25px' )\n",
       "    }\n",
       "    "
      ],
      "text/plain": [
       "<IPython.core.display.Javascript object>"
      ]
     },
     "metadata": {},
     "output_type": "display_data"
    },
    {
     "data": {
      "application/javascript": [
       "\n",
       "    for( var i=0; i < cy.io.selection.length; i++ ){\n",
       "        var ele = cy.io.selection[i]\n",
       "        cy.io.style.change( ele, 'font-size', '30px' )\n",
       "    }\n",
       "    "
      ],
      "text/plain": [
       "<IPython.core.display.Javascript object>"
      ]
     },
     "metadata": {},
     "output_type": "display_data"
    },
    {
     "data": {
      "application/javascript": [
       "\n",
       "    for( var i=0; i < cy.io.selection.length; i++ ){\n",
       "        var ele = cy.io.selection[i]\n",
       "        cy.io.style.change( ele, 'font-size', '30px' )\n",
       "    }\n",
       "    "
      ],
      "text/plain": [
       "<IPython.core.display.Javascript object>"
      ]
     },
     "metadata": {},
     "output_type": "display_data"
    },
    {
     "data": {
      "application/javascript": [
       "\n",
       "    for( var i=0; i < cy.io.selection.length; i++ ){\n",
       "        var ele = cy.io.selection[i]\n",
       "        cy.io.style.change( ele, 'font-size', '30px' )\n",
       "    }\n",
       "    "
      ],
      "text/plain": [
       "<IPython.core.display.Javascript object>"
      ]
     },
     "metadata": {},
     "output_type": "display_data"
    },
    {
     "data": {
      "application/javascript": [
       "\n",
       "    for( var i=0; i < cy.io.selection.length; i++ ){\n",
       "        var ele = cy.io.selection[i]\n",
       "        cy.io.style.change( ele, 'font-size', '45px' )\n",
       "    }\n",
       "    "
      ],
      "text/plain": [
       "<IPython.core.display.Javascript object>"
      ]
     },
     "metadata": {},
     "output_type": "display_data"
    },
    {
     "data": {
      "application/javascript": [
       "\n",
       "    for( var i=0; i < cy.io.selection.length; i++ ){\n",
       "        var ele = cy.io.selection[i]\n",
       "        cy.io.style.change( ele, 'font-size', '45px' )\n",
       "    }\n",
       "    "
      ],
      "text/plain": [
       "<IPython.core.display.Javascript object>"
      ]
     },
     "metadata": {},
     "output_type": "display_data"
    },
    {
     "data": {
      "application/javascript": [
       "\n",
       "    for( var i=0; i < cy.io.selection.length; i++ ){\n",
       "        var ele = cy.io.selection[i]\n",
       "        cy.io.style.change( ele, 'font-size', '45px' )\n",
       "    }\n",
       "    "
      ],
      "text/plain": [
       "<IPython.core.display.Javascript object>"
      ]
     },
     "metadata": {},
     "output_type": "display_data"
    },
    {
     "data": {
      "application/javascript": [
       "\n",
       "    for( var i=0; i < cy.io.selection.length; i++ ){\n",
       "        var ele = cy.io.selection[i]\n",
       "        cy.io.style.change( ele, 'font-size', '50px' )\n",
       "    }\n",
       "    "
      ],
      "text/plain": [
       "<IPython.core.display.Javascript object>"
      ]
     },
     "metadata": {},
     "output_type": "display_data"
    },
    {
     "data": {
      "application/javascript": [
       "\n",
       "    for( var i=0; i < cy.io.selection.length; i++ ){\n",
       "        var ele = cy.io.selection[i]\n",
       "        cy.io.style.change( ele, 'font-size', '50px' )\n",
       "    }\n",
       "    "
      ],
      "text/plain": [
       "<IPython.core.display.Javascript object>"
      ]
     },
     "metadata": {},
     "output_type": "display_data"
    },
    {
     "data": {
      "application/javascript": [
       "\n",
       "    for( var i=0; i < cy.io.selection.length; i++ ){\n",
       "        var ele = cy.io.selection[i]\n",
       "        cy.io.style.change( ele, 'font-size', '50px' )\n",
       "    }\n",
       "    "
      ],
      "text/plain": [
       "<IPython.core.display.Javascript object>"
      ]
     },
     "metadata": {},
     "output_type": "display_data"
    },
    {
     "data": {
      "application/javascript": [
       "\n",
       "    for( var i=0; i < cy.io.selection.length; i++ ){\n",
       "        var ele = cy.io.selection[i]\n",
       "        cy.io.style.change( ele, 'font-size', '56px' )\n",
       "    }\n",
       "    "
      ],
      "text/plain": [
       "<IPython.core.display.Javascript object>"
      ]
     },
     "metadata": {},
     "output_type": "display_data"
    },
    {
     "data": {
      "application/javascript": [
       "\n",
       "    for( var i=0; i < cy.io.selection.length; i++ ){\n",
       "        var ele = cy.io.selection[i]\n",
       "        cy.io.style.change( ele, 'font-size', '56px' )\n",
       "    }\n",
       "    "
      ],
      "text/plain": [
       "<IPython.core.display.Javascript object>"
      ]
     },
     "metadata": {},
     "output_type": "display_data"
    },
    {
     "data": {
      "application/javascript": [
       "\n",
       "    for( var i=0; i < cy.io.selection.length; i++ ){\n",
       "        var ele = cy.io.selection[i]\n",
       "        cy.io.style.change( ele, 'font-size', '56px' )\n",
       "    }\n",
       "    "
      ],
      "text/plain": [
       "<IPython.core.display.Javascript object>"
      ]
     },
     "metadata": {},
     "output_type": "display_data"
    },
    {
     "data": {
      "application/javascript": [
       "\n",
       "    for( var i=0; i < cy.io.selection.length; i++ ){\n",
       "        var ele = cy.io.selection[i]\n",
       "        cy.io.style.change( ele, 'font-size', '58px' )\n",
       "    }\n",
       "    "
      ],
      "text/plain": [
       "<IPython.core.display.Javascript object>"
      ]
     },
     "metadata": {},
     "output_type": "display_data"
    },
    {
     "data": {
      "application/javascript": [
       "\n",
       "    for( var i=0; i < cy.io.selection.length; i++ ){\n",
       "        var ele = cy.io.selection[i]\n",
       "        cy.io.style.change( ele, 'font-size', '58px' )\n",
       "    }\n",
       "    "
      ],
      "text/plain": [
       "<IPython.core.display.Javascript object>"
      ]
     },
     "metadata": {},
     "output_type": "display_data"
    },
    {
     "data": {
      "application/javascript": [
       "\n",
       "    for( var i=0; i < cy.io.selection.length; i++ ){\n",
       "        var ele = cy.io.selection[i]\n",
       "        cy.io.style.change( ele, 'font-size', '58px' )\n",
       "    }\n",
       "    "
      ],
      "text/plain": [
       "<IPython.core.display.Javascript object>"
      ]
     },
     "metadata": {},
     "output_type": "display_data"
    },
    {
     "data": {
      "application/javascript": [
       "\n",
       "    for( var i=0; i < cy.io.selection.length; i++ ){\n",
       "        var ele = cy.io.selection[i]\n",
       "        cy.io.style.change( ele, 'font-size', '60px' )\n",
       "    }\n",
       "    "
      ],
      "text/plain": [
       "<IPython.core.display.Javascript object>"
      ]
     },
     "metadata": {},
     "output_type": "display_data"
    },
    {
     "data": {
      "application/javascript": [
       "\n",
       "    for( var i=0; i < cy.io.selection.length; i++ ){\n",
       "        var ele = cy.io.selection[i]\n",
       "        cy.io.style.change( ele, 'font-size', '60px' )\n",
       "    }\n",
       "    "
      ],
      "text/plain": [
       "<IPython.core.display.Javascript object>"
      ]
     },
     "metadata": {},
     "output_type": "display_data"
    }
   ],
   "source": [
    "Graph.w.label_size = ipw.IntSlider(value=16, min=6, max=60)\n",
    "Graph.w.label_size"
   ]
  },
  {
   "cell_type": "code",
   "execution_count": 113,
   "metadata": {
    "hidden": true
   },
   "outputs": [],
   "source": [
    "def labelSize(b):\n",
    "    display(Javascript(\"\"\"\n",
    "    for( var i=0; i < cy.io.selection.length; i++ ){\n",
    "        var ele = cy.io.selection[i]\n",
    "        cy.io.style.change( ele, 'font-size', '\"\"\"+str(Graph.w.label_size.value)+\"\"\"px' )\n",
    "    }\n",
    "    \"\"\"))          \n",
    "Graph.w.label_size.observe( labelSize )"
   ]
  },
  {
   "cell_type": "markdown",
   "metadata": {
    "heading_collapsed": true,
    "hidden": true
   },
   "source": [
    "### <font color=\"salmon\">Box</font>  "
   ]
  },
  {
   "cell_type": "code",
   "execution_count": 182,
   "metadata": {
    "hidden": true,
    "scrolled": false
   },
   "outputs": [
    {
     "data": {
      "application/vnd.jupyter.widget-view+json": {
       "model_id": "4177b9015d5344d8a51ef7c2ca30b267",
       "version_major": 2,
       "version_minor": 0
      },
      "text/plain": [
       "ToggleButton(value=False, button_style='primary', description='Box', layout=Layout(width='auto'))"
      ]
     },
     "metadata": {},
     "output_type": "display_data"
    },
    {
     "data": {
      "application/javascript": [
       "\n",
       "    for( var i=0; i < cy.io.selection.length; i++ ){\n",
       "        var ele = cy.io.selection[i]\n",
       "        cy.io.style.change( ele, ['text-background-opacity','text-border-opacity'], ['0','0'] )\n",
       "    }\n",
       "    "
      ],
      "text/plain": [
       "<IPython.core.display.Javascript object>"
      ]
     },
     "metadata": {},
     "output_type": "display_data"
    },
    {
     "data": {
      "application/javascript": [
       "\n",
       "    for( var i=0; i < cy.io.selection.length; i++ ){\n",
       "        var ele = cy.io.selection[i]\n",
       "        cy.io.style.change( ele, ['text-background-opacity','text-border-opacity'], ['1','1'] )\n",
       "    }\n",
       "    "
      ],
      "text/plain": [
       "<IPython.core.display.Javascript object>"
      ]
     },
     "metadata": {},
     "output_type": "display_data"
    },
    {
     "data": {
      "application/javascript": [
       "\n",
       "    for( var i=0; i < cy.io.selection.length; i++ ){\n",
       "        var ele = cy.io.selection[i]\n",
       "        cy.io.style.change( ele, ['text-background-opacity','text-border-opacity'], ['1','1'] )\n",
       "    }\n",
       "    "
      ],
      "text/plain": [
       "<IPython.core.display.Javascript object>"
      ]
     },
     "metadata": {},
     "output_type": "display_data"
    },
    {
     "data": {
      "application/javascript": [
       "\n",
       "    for( var i=0; i < cy.io.selection.length; i++ ){\n",
       "        var ele = cy.io.selection[i]\n",
       "        cy.io.style.change( ele, ['text-background-opacity','text-border-opacity'], ['1','1'] )\n",
       "    }\n",
       "    "
      ],
      "text/plain": [
       "<IPython.core.display.Javascript object>"
      ]
     },
     "metadata": {},
     "output_type": "display_data"
    },
    {
     "data": {
      "application/javascript": [
       "\n",
       "    for( var i=0; i < cy.io.selection.length; i++ ){\n",
       "        var ele = cy.io.selection[i]\n",
       "        cy.io.style.change( ele, ['text-background-opacity','text-border-opacity'], ['0','0'] )\n",
       "    }\n",
       "    "
      ],
      "text/plain": [
       "<IPython.core.display.Javascript object>"
      ]
     },
     "metadata": {},
     "output_type": "display_data"
    },
    {
     "data": {
      "application/javascript": [
       "\n",
       "    for( var i=0; i < cy.io.selection.length; i++ ){\n",
       "        var ele = cy.io.selection[i]\n",
       "        cy.io.style.change( ele, ['text-background-opacity','text-border-opacity'], ['0','0'] )\n",
       "    }\n",
       "    "
      ],
      "text/plain": [
       "<IPython.core.display.Javascript object>"
      ]
     },
     "metadata": {},
     "output_type": "display_data"
    },
    {
     "data": {
      "application/javascript": [
       "\n",
       "    for( var i=0; i < cy.io.selection.length; i++ ){\n",
       "        var ele = cy.io.selection[i]\n",
       "        cy.io.style.change( ele, ['text-background-opacity','text-border-opacity'], ['0','0'] )\n",
       "    }\n",
       "    "
      ],
      "text/plain": [
       "<IPython.core.display.Javascript object>"
      ]
     },
     "metadata": {},
     "output_type": "display_data"
    },
    {
     "data": {
      "application/javascript": [
       "\n",
       "    for( var i=0; i < cy.io.selection.length; i++ ){\n",
       "        var ele = cy.io.selection[i]\n",
       "        cy.io.style.change( ele, ['text-background-opacity','text-border-opacity'], ['1','1'] )\n",
       "    }\n",
       "    "
      ],
      "text/plain": [
       "<IPython.core.display.Javascript object>"
      ]
     },
     "metadata": {},
     "output_type": "display_data"
    },
    {
     "data": {
      "application/javascript": [
       "\n",
       "    for( var i=0; i < cy.io.selection.length; i++ ){\n",
       "        var ele = cy.io.selection[i]\n",
       "        cy.io.style.change( ele, ['text-background-opacity','text-border-opacity'], ['1','1'] )\n",
       "    }\n",
       "    "
      ],
      "text/plain": [
       "<IPython.core.display.Javascript object>"
      ]
     },
     "metadata": {},
     "output_type": "display_data"
    }
   ],
   "source": [
    "Graph.w.label_box = ipw.ToggleButton( button_style='primary', description=\"Box\", layout= ipw.Layout(width='auto') )\n",
    "Graph.w.label_box"
   ]
  },
  {
   "cell_type": "code",
   "execution_count": 183,
   "metadata": {
    "hidden": true
   },
   "outputs": [],
   "source": [
    "def labelBox(b):\n",
    "    js_var = \"['1','1']\" if Graph.w.label_box.value else \"['0','0']\"\n",
    "    display(Javascript(\"\"\"\n",
    "    for( var i=0; i < cy.io.selection.length; i++ ){\n",
    "        var ele = cy.io.selection[i]\n",
    "        cy.io.style.change( ele, ['text-background-opacity','text-border-opacity'], \"\"\"+js_var+\"\"\" )\n",
    "    }\n",
    "    \"\"\"))\n",
    "Graph.w.label_box.observe( labelBox )"
   ]
  },
  {
   "cell_type": "markdown",
   "metadata": {
    "heading_collapsed": true
   },
   "source": [
    "## <font color=\"DarkKhaki\">Node</font> <font color=\"green\">Widgets</font> "
   ]
  },
  {
   "cell_type": "markdown",
   "metadata": {
    "heading_collapsed": true,
    "hidden": true
   },
   "source": [
    "### <font color=\"DarkKhaki\">Node Shape</font> "
   ]
  },
  {
   "cell_type": "code",
   "execution_count": 355,
   "metadata": {
    "hidden": true
   },
   "outputs": [],
   "source": [
    "Graph.w.shape = ipw.Dropdown( options=['ellipse','triangle','rectangle','rhomboid','diamond','pentagon','hexagon',\n",
    "                                       'concavehexagon','heptagon','octagon','star','tag','vee'], continuous_update=True )\n",
    "#Graph.w.shape"
   ]
  },
  {
   "cell_type": "code",
   "execution_count": null,
   "metadata": {
    "hidden": true
   },
   "outputs": [],
   "source": [
    "def shape(b):\n",
    "        JS(\"\"\"\n",
    "        for( i=0; i < cy.io.selection.length; i++ ){\n",
    "            var ele = cy.io.selection[i]\n",
    "            if( ele.isNode() ){\n",
    "                ele.style( \"shape\", '\"\"\"+Graph.w.shape.value+\"\"\"' )\n",
    "            } \n",
    "        }\n",
    "        \"\"\")           \n",
    "Graph.w.shape.observe( shape )"
   ]
  },
  {
   "cell_type": "markdown",
   "metadata": {
    "heading_collapsed": true,
    "hidden": true
   },
   "source": [
    "### <font color=\"DarkKhaki\">Node</font> <font color=\"salmon\">Label Position</font>  "
   ]
  },
  {
   "cell_type": "code",
   "execution_count": 96,
   "metadata": {
    "hidden": true,
    "scrolled": true
   },
   "outputs": [
    {
     "data": {
      "application/vnd.jupyter.widget-view+json": {
       "model_id": "585dbac0e4314cef9ee630986184a642",
       "version_major": 2,
       "version_minor": 0
      },
      "text/plain": [
       "Dropdown(options=('center', 'top', 'bottom', 'left', 'right'), value='center')"
      ]
     },
     "metadata": {},
     "output_type": "display_data"
    },
    {
     "data": {
      "application/javascript": [
       "\n",
       "    for( i=0; i < cy.io.selection.length; i++ ){\n",
       "        var ele = cy.io.selection[i]\n",
       "        var label_pos = 'center'\n",
       "        if( ele.isNode() ){\n",
       "            if( label_pos == 'center'  ){\n",
       "                cy.io.style.change( ele, ['text-halign','text-valign'], ['center','center'] )\n",
       "            }else if( label_pos=='top' || label_pos=='bottom'){\n",
       "                cy.io.style.change( ele, ['text-halign','text-valign'], ['center', label_pos] )                    \n",
       "            }else{\n",
       "                cy.io.style.change( ele, ['text-halign','text-valign'], [ label_pos, 'center'] )                \n",
       "            }\n",
       "        } \n",
       "    }\n",
       "    "
      ],
      "text/plain": [
       "<IPython.core.display.Javascript object>"
      ]
     },
     "metadata": {},
     "output_type": "display_data"
    },
    {
     "data": {
      "application/javascript": [
       "\n",
       "    for( i=0; i < cy.io.selection.length; i++ ){\n",
       "        var ele = cy.io.selection[i]\n",
       "        var label_pos = 'center'\n",
       "        if( ele.isNode() ){\n",
       "            if( label_pos == 'center'  ){\n",
       "                cy.io.style.change( ele, ['text-halign','text-valign'], ['center','center'] )\n",
       "            }else if( label_pos=='top' || label_pos=='bottom'){\n",
       "                cy.io.style.change( ele, ['text-halign','text-valign'], ['center', label_pos] )                    \n",
       "            }else{\n",
       "                cy.io.style.change( ele, ['text-halign','text-valign'], [ label_pos, 'center'] )                \n",
       "            }\n",
       "        } \n",
       "    }\n",
       "    "
      ],
      "text/plain": [
       "<IPython.core.display.Javascript object>"
      ]
     },
     "metadata": {},
     "output_type": "display_data"
    },
    {
     "data": {
      "application/javascript": [
       "\n",
       "    for( i=0; i < cy.io.selection.length; i++ ){\n",
       "        var ele = cy.io.selection[i]\n",
       "        var label_pos = 'left'\n",
       "        if( ele.isNode() ){\n",
       "            if( label_pos == 'center'  ){\n",
       "                cy.io.style.change( ele, ['text-halign','text-valign'], ['center','center'] )\n",
       "            }else if( label_pos=='top' || label_pos=='bottom'){\n",
       "                cy.io.style.change( ele, ['text-halign','text-valign'], ['center', label_pos] )                    \n",
       "            }else{\n",
       "                cy.io.style.change( ele, ['text-halign','text-valign'], [ label_pos, 'center'] )                \n",
       "            }\n",
       "        } \n",
       "    }\n",
       "    "
      ],
      "text/plain": [
       "<IPython.core.display.Javascript object>"
      ]
     },
     "metadata": {},
     "output_type": "display_data"
    },
    {
     "data": {
      "application/javascript": [
       "\n",
       "    for( i=0; i < cy.io.selection.length; i++ ){\n",
       "        var ele = cy.io.selection[i]\n",
       "        var label_pos = 'left'\n",
       "        if( ele.isNode() ){\n",
       "            if( label_pos == 'center'  ){\n",
       "                cy.io.style.change( ele, ['text-halign','text-valign'], ['center','center'] )\n",
       "            }else if( label_pos=='top' || label_pos=='bottom'){\n",
       "                cy.io.style.change( ele, ['text-halign','text-valign'], ['center', label_pos] )                    \n",
       "            }else{\n",
       "                cy.io.style.change( ele, ['text-halign','text-valign'], [ label_pos, 'center'] )                \n",
       "            }\n",
       "        } \n",
       "    }\n",
       "    "
      ],
      "text/plain": [
       "<IPython.core.display.Javascript object>"
      ]
     },
     "metadata": {},
     "output_type": "display_data"
    },
    {
     "data": {
      "application/javascript": [
       "\n",
       "    for( i=0; i < cy.io.selection.length; i++ ){\n",
       "        var ele = cy.io.selection[i]\n",
       "        var label_pos = 'left'\n",
       "        if( ele.isNode() ){\n",
       "            if( label_pos == 'center'  ){\n",
       "                cy.io.style.change( ele, ['text-halign','text-valign'], ['center','center'] )\n",
       "            }else if( label_pos=='top' || label_pos=='bottom'){\n",
       "                cy.io.style.change( ele, ['text-halign','text-valign'], ['center', label_pos] )                    \n",
       "            }else{\n",
       "                cy.io.style.change( ele, ['text-halign','text-valign'], [ label_pos, 'center'] )                \n",
       "            }\n",
       "        } \n",
       "    }\n",
       "    "
      ],
      "text/plain": [
       "<IPython.core.display.Javascript object>"
      ]
     },
     "metadata": {},
     "output_type": "display_data"
    },
    {
     "data": {
      "application/javascript": [
       "\n",
       "    for( i=0; i < cy.io.selection.length; i++ ){\n",
       "        var ele = cy.io.selection[i]\n",
       "        var label_pos = 'left'\n",
       "        if( ele.isNode() ){\n",
       "            if( label_pos == 'center'  ){\n",
       "                cy.io.style.change( ele, ['text-halign','text-valign'], ['center','center'] )\n",
       "            }else if( label_pos=='top' || label_pos=='bottom'){\n",
       "                cy.io.style.change( ele, ['text-halign','text-valign'], ['center', label_pos] )                    \n",
       "            }else{\n",
       "                cy.io.style.change( ele, ['text-halign','text-valign'], [ label_pos, 'center'] )                \n",
       "            }\n",
       "        } \n",
       "    }\n",
       "    "
      ],
      "text/plain": [
       "<IPython.core.display.Javascript object>"
      ]
     },
     "metadata": {},
     "output_type": "display_data"
    },
    {
     "data": {
      "application/javascript": [
       "\n",
       "    for( i=0; i < cy.io.selection.length; i++ ){\n",
       "        var ele = cy.io.selection[i]\n",
       "        var label_pos = 'left'\n",
       "        if( ele.isNode() ){\n",
       "            if( label_pos == 'center'  ){\n",
       "                cy.io.style.change( ele, ['text-halign','text-valign'], ['center','center'] )\n",
       "            }else if( label_pos=='top' || label_pos=='bottom'){\n",
       "                cy.io.style.change( ele, ['text-halign','text-valign'], ['center', label_pos] )                    \n",
       "            }else{\n",
       "                cy.io.style.change( ele, ['text-halign','text-valign'], [ label_pos, 'center'] )                \n",
       "            }\n",
       "        } \n",
       "    }\n",
       "    "
      ],
      "text/plain": [
       "<IPython.core.display.Javascript object>"
      ]
     },
     "metadata": {},
     "output_type": "display_data"
    },
    {
     "data": {
      "application/javascript": [
       "\n",
       "    for( i=0; i < cy.io.selection.length; i++ ){\n",
       "        var ele = cy.io.selection[i]\n",
       "        var label_pos = 'right'\n",
       "        if( ele.isNode() ){\n",
       "            if( label_pos == 'center'  ){\n",
       "                cy.io.style.change( ele, ['text-halign','text-valign'], ['center','center'] )\n",
       "            }else if( label_pos=='top' || label_pos=='bottom'){\n",
       "                cy.io.style.change( ele, ['text-halign','text-valign'], ['center', label_pos] )                    \n",
       "            }else{\n",
       "                cy.io.style.change( ele, ['text-halign','text-valign'], [ label_pos, 'center'] )                \n",
       "            }\n",
       "        } \n",
       "    }\n",
       "    "
      ],
      "text/plain": [
       "<IPython.core.display.Javascript object>"
      ]
     },
     "metadata": {},
     "output_type": "display_data"
    },
    {
     "data": {
      "application/javascript": [
       "\n",
       "    for( i=0; i < cy.io.selection.length; i++ ){\n",
       "        var ele = cy.io.selection[i]\n",
       "        var label_pos = 'right'\n",
       "        if( ele.isNode() ){\n",
       "            if( label_pos == 'center'  ){\n",
       "                cy.io.style.change( ele, ['text-halign','text-valign'], ['center','center'] )\n",
       "            }else if( label_pos=='top' || label_pos=='bottom'){\n",
       "                cy.io.style.change( ele, ['text-halign','text-valign'], ['center', label_pos] )                    \n",
       "            }else{\n",
       "                cy.io.style.change( ele, ['text-halign','text-valign'], [ label_pos, 'center'] )                \n",
       "            }\n",
       "        } \n",
       "    }\n",
       "    "
      ],
      "text/plain": [
       "<IPython.core.display.Javascript object>"
      ]
     },
     "metadata": {},
     "output_type": "display_data"
    },
    {
     "data": {
      "application/javascript": [
       "\n",
       "    for( i=0; i < cy.io.selection.length; i++ ){\n",
       "        var ele = cy.io.selection[i]\n",
       "        var label_pos = 'right'\n",
       "        if( ele.isNode() ){\n",
       "            if( label_pos == 'center'  ){\n",
       "                cy.io.style.change( ele, ['text-halign','text-valign'], ['center','center'] )\n",
       "            }else if( label_pos=='top' || label_pos=='bottom'){\n",
       "                cy.io.style.change( ele, ['text-halign','text-valign'], ['center', label_pos] )                    \n",
       "            }else{\n",
       "                cy.io.style.change( ele, ['text-halign','text-valign'], [ label_pos, 'center'] )                \n",
       "            }\n",
       "        } \n",
       "    }\n",
       "    "
      ],
      "text/plain": [
       "<IPython.core.display.Javascript object>"
      ]
     },
     "metadata": {},
     "output_type": "display_data"
    },
    {
     "data": {
      "application/javascript": [
       "\n",
       "    for( i=0; i < cy.io.selection.length; i++ ){\n",
       "        var ele = cy.io.selection[i]\n",
       "        var label_pos = 'right'\n",
       "        if( ele.isNode() ){\n",
       "            if( label_pos == 'center'  ){\n",
       "                cy.io.style.change( ele, ['text-halign','text-valign'], ['center','center'] )\n",
       "            }else if( label_pos=='top' || label_pos=='bottom'){\n",
       "                cy.io.style.change( ele, ['text-halign','text-valign'], ['center', label_pos] )                    \n",
       "            }else{\n",
       "                cy.io.style.change( ele, ['text-halign','text-valign'], [ label_pos, 'center'] )                \n",
       "            }\n",
       "        } \n",
       "    }\n",
       "    "
      ],
      "text/plain": [
       "<IPython.core.display.Javascript object>"
      ]
     },
     "metadata": {},
     "output_type": "display_data"
    },
    {
     "data": {
      "application/javascript": [
       "\n",
       "    for( i=0; i < cy.io.selection.length; i++ ){\n",
       "        var ele = cy.io.selection[i]\n",
       "        var label_pos = 'right'\n",
       "        if( ele.isNode() ){\n",
       "            if( label_pos == 'center'  ){\n",
       "                cy.io.style.change( ele, ['text-halign','text-valign'], ['center','center'] )\n",
       "            }else if( label_pos=='top' || label_pos=='bottom'){\n",
       "                cy.io.style.change( ele, ['text-halign','text-valign'], ['center', label_pos] )                    \n",
       "            }else{\n",
       "                cy.io.style.change( ele, ['text-halign','text-valign'], [ label_pos, 'center'] )                \n",
       "            }\n",
       "        } \n",
       "    }\n",
       "    "
      ],
      "text/plain": [
       "<IPython.core.display.Javascript object>"
      ]
     },
     "metadata": {},
     "output_type": "display_data"
    },
    {
     "data": {
      "application/javascript": [
       "\n",
       "    for( i=0; i < cy.io.selection.length; i++ ){\n",
       "        var ele = cy.io.selection[i]\n",
       "        var label_pos = 'top'\n",
       "        if( ele.isNode() ){\n",
       "            if( label_pos == 'center'  ){\n",
       "                cy.io.style.change( ele, ['text-halign','text-valign'], ['center','center'] )\n",
       "            }else if( label_pos=='top' || label_pos=='bottom'){\n",
       "                cy.io.style.change( ele, ['text-halign','text-valign'], ['center', label_pos] )                    \n",
       "            }else{\n",
       "                cy.io.style.change( ele, ['text-halign','text-valign'], [ label_pos, 'center'] )                \n",
       "            }\n",
       "        } \n",
       "    }\n",
       "    "
      ],
      "text/plain": [
       "<IPython.core.display.Javascript object>"
      ]
     },
     "metadata": {},
     "output_type": "display_data"
    },
    {
     "data": {
      "application/javascript": [
       "\n",
       "    for( i=0; i < cy.io.selection.length; i++ ){\n",
       "        var ele = cy.io.selection[i]\n",
       "        var label_pos = 'top'\n",
       "        if( ele.isNode() ){\n",
       "            if( label_pos == 'center'  ){\n",
       "                cy.io.style.change( ele, ['text-halign','text-valign'], ['center','center'] )\n",
       "            }else if( label_pos=='top' || label_pos=='bottom'){\n",
       "                cy.io.style.change( ele, ['text-halign','text-valign'], ['center', label_pos] )                    \n",
       "            }else{\n",
       "                cy.io.style.change( ele, ['text-halign','text-valign'], [ label_pos, 'center'] )                \n",
       "            }\n",
       "        } \n",
       "    }\n",
       "    "
      ],
      "text/plain": [
       "<IPython.core.display.Javascript object>"
      ]
     },
     "metadata": {},
     "output_type": "display_data"
    },
    {
     "data": {
      "application/javascript": [
       "\n",
       "    for( i=0; i < cy.io.selection.length; i++ ){\n",
       "        var ele = cy.io.selection[i]\n",
       "        var label_pos = 'top'\n",
       "        if( ele.isNode() ){\n",
       "            if( label_pos == 'center'  ){\n",
       "                cy.io.style.change( ele, ['text-halign','text-valign'], ['center','center'] )\n",
       "            }else if( label_pos=='top' || label_pos=='bottom'){\n",
       "                cy.io.style.change( ele, ['text-halign','text-valign'], ['center', label_pos] )                    \n",
       "            }else{\n",
       "                cy.io.style.change( ele, ['text-halign','text-valign'], [ label_pos, 'center'] )                \n",
       "            }\n",
       "        } \n",
       "    }\n",
       "    "
      ],
      "text/plain": [
       "<IPython.core.display.Javascript object>"
      ]
     },
     "metadata": {},
     "output_type": "display_data"
    },
    {
     "data": {
      "application/javascript": [
       "\n",
       "    for( i=0; i < cy.io.selection.length; i++ ){\n",
       "        var ele = cy.io.selection[i]\n",
       "        var label_pos = 'top'\n",
       "        if( ele.isNode() ){\n",
       "            if( label_pos == 'center'  ){\n",
       "                cy.io.style.change( ele, ['text-halign','text-valign'], ['center','center'] )\n",
       "            }else if( label_pos=='top' || label_pos=='bottom'){\n",
       "                cy.io.style.change( ele, ['text-halign','text-valign'], ['center', label_pos] )                    \n",
       "            }else{\n",
       "                cy.io.style.change( ele, ['text-halign','text-valign'], [ label_pos, 'center'] )                \n",
       "            }\n",
       "        } \n",
       "    }\n",
       "    "
      ],
      "text/plain": [
       "<IPython.core.display.Javascript object>"
      ]
     },
     "metadata": {},
     "output_type": "display_data"
    },
    {
     "data": {
      "application/javascript": [
       "\n",
       "    for( i=0; i < cy.io.selection.length; i++ ){\n",
       "        var ele = cy.io.selection[i]\n",
       "        var label_pos = 'top'\n",
       "        if( ele.isNode() ){\n",
       "            if( label_pos == 'center'  ){\n",
       "                cy.io.style.change( ele, ['text-halign','text-valign'], ['center','center'] )\n",
       "            }else if( label_pos=='top' || label_pos=='bottom'){\n",
       "                cy.io.style.change( ele, ['text-halign','text-valign'], ['center', label_pos] )                    \n",
       "            }else{\n",
       "                cy.io.style.change( ele, ['text-halign','text-valign'], [ label_pos, 'center'] )                \n",
       "            }\n",
       "        } \n",
       "    }\n",
       "    "
      ],
      "text/plain": [
       "<IPython.core.display.Javascript object>"
      ]
     },
     "metadata": {},
     "output_type": "display_data"
    },
    {
     "data": {
      "application/javascript": [
       "\n",
       "    for( i=0; i < cy.io.selection.length; i++ ){\n",
       "        var ele = cy.io.selection[i]\n",
       "        var label_pos = 'bottom'\n",
       "        if( ele.isNode() ){\n",
       "            if( label_pos == 'center'  ){\n",
       "                cy.io.style.change( ele, ['text-halign','text-valign'], ['center','center'] )\n",
       "            }else if( label_pos=='top' || label_pos=='bottom'){\n",
       "                cy.io.style.change( ele, ['text-halign','text-valign'], ['center', label_pos] )                    \n",
       "            }else{\n",
       "                cy.io.style.change( ele, ['text-halign','text-valign'], [ label_pos, 'center'] )                \n",
       "            }\n",
       "        } \n",
       "    }\n",
       "    "
      ],
      "text/plain": [
       "<IPython.core.display.Javascript object>"
      ]
     },
     "metadata": {},
     "output_type": "display_data"
    },
    {
     "data": {
      "application/javascript": [
       "\n",
       "    for( i=0; i < cy.io.selection.length; i++ ){\n",
       "        var ele = cy.io.selection[i]\n",
       "        var label_pos = 'bottom'\n",
       "        if( ele.isNode() ){\n",
       "            if( label_pos == 'center'  ){\n",
       "                cy.io.style.change( ele, ['text-halign','text-valign'], ['center','center'] )\n",
       "            }else if( label_pos=='top' || label_pos=='bottom'){\n",
       "                cy.io.style.change( ele, ['text-halign','text-valign'], ['center', label_pos] )                    \n",
       "            }else{\n",
       "                cy.io.style.change( ele, ['text-halign','text-valign'], [ label_pos, 'center'] )                \n",
       "            }\n",
       "        } \n",
       "    }\n",
       "    "
      ],
      "text/plain": [
       "<IPython.core.display.Javascript object>"
      ]
     },
     "metadata": {},
     "output_type": "display_data"
    },
    {
     "data": {
      "application/javascript": [
       "\n",
       "    for( i=0; i < cy.io.selection.length; i++ ){\n",
       "        var ele = cy.io.selection[i]\n",
       "        var label_pos = 'bottom'\n",
       "        if( ele.isNode() ){\n",
       "            if( label_pos == 'center'  ){\n",
       "                cy.io.style.change( ele, ['text-halign','text-valign'], ['center','center'] )\n",
       "            }else if( label_pos=='top' || label_pos=='bottom'){\n",
       "                cy.io.style.change( ele, ['text-halign','text-valign'], ['center', label_pos] )                    \n",
       "            }else{\n",
       "                cy.io.style.change( ele, ['text-halign','text-valign'], [ label_pos, 'center'] )                \n",
       "            }\n",
       "        } \n",
       "    }\n",
       "    "
      ],
      "text/plain": [
       "<IPython.core.display.Javascript object>"
      ]
     },
     "metadata": {},
     "output_type": "display_data"
    },
    {
     "data": {
      "application/javascript": [
       "\n",
       "    for( i=0; i < cy.io.selection.length; i++ ){\n",
       "        var ele = cy.io.selection[i]\n",
       "        var label_pos = 'bottom'\n",
       "        if( ele.isNode() ){\n",
       "            if( label_pos == 'center'  ){\n",
       "                cy.io.style.change( ele, ['text-halign','text-valign'], ['center','center'] )\n",
       "            }else if( label_pos=='top' || label_pos=='bottom'){\n",
       "                cy.io.style.change( ele, ['text-halign','text-valign'], ['center', label_pos] )                    \n",
       "            }else{\n",
       "                cy.io.style.change( ele, ['text-halign','text-valign'], [ label_pos, 'center'] )                \n",
       "            }\n",
       "        } \n",
       "    }\n",
       "    "
      ],
      "text/plain": [
       "<IPython.core.display.Javascript object>"
      ]
     },
     "metadata": {},
     "output_type": "display_data"
    },
    {
     "data": {
      "application/javascript": [
       "\n",
       "    for( i=0; i < cy.io.selection.length; i++ ){\n",
       "        var ele = cy.io.selection[i]\n",
       "        var label_pos = 'bottom'\n",
       "        if( ele.isNode() ){\n",
       "            if( label_pos == 'center'  ){\n",
       "                cy.io.style.change( ele, ['text-halign','text-valign'], ['center','center'] )\n",
       "            }else if( label_pos=='top' || label_pos=='bottom'){\n",
       "                cy.io.style.change( ele, ['text-halign','text-valign'], ['center', label_pos] )                    \n",
       "            }else{\n",
       "                cy.io.style.change( ele, ['text-halign','text-valign'], [ label_pos, 'center'] )                \n",
       "            }\n",
       "        } \n",
       "    }\n",
       "    "
      ],
      "text/plain": [
       "<IPython.core.display.Javascript object>"
      ]
     },
     "metadata": {},
     "output_type": "display_data"
    },
    {
     "data": {
      "application/javascript": [
       "\n",
       "    for( i=0; i < cy.io.selection.length; i++ ){\n",
       "        var ele = cy.io.selection[i]\n",
       "        var label_pos = 'center'\n",
       "        if( ele.isNode() ){\n",
       "            if( label_pos == 'center'  ){\n",
       "                cy.io.style.change( ele, ['text-halign','text-valign'], ['center','center'] )\n",
       "            }else if( label_pos=='top' || label_pos=='bottom'){\n",
       "                cy.io.style.change( ele, ['text-halign','text-valign'], ['center', label_pos] )                    \n",
       "            }else{\n",
       "                cy.io.style.change( ele, ['text-halign','text-valign'], [ label_pos, 'center'] )                \n",
       "            }\n",
       "        } \n",
       "    }\n",
       "    "
      ],
      "text/plain": [
       "<IPython.core.display.Javascript object>"
      ]
     },
     "metadata": {},
     "output_type": "display_data"
    },
    {
     "data": {
      "application/javascript": [
       "\n",
       "    for( i=0; i < cy.io.selection.length; i++ ){\n",
       "        var ele = cy.io.selection[i]\n",
       "        var label_pos = 'center'\n",
       "        if( ele.isNode() ){\n",
       "            if( label_pos == 'center'  ){\n",
       "                cy.io.style.change( ele, ['text-halign','text-valign'], ['center','center'] )\n",
       "            }else if( label_pos=='top' || label_pos=='bottom'){\n",
       "                cy.io.style.change( ele, ['text-halign','text-valign'], ['center', label_pos] )                    \n",
       "            }else{\n",
       "                cy.io.style.change( ele, ['text-halign','text-valign'], [ label_pos, 'center'] )                \n",
       "            }\n",
       "        } \n",
       "    }\n",
       "    "
      ],
      "text/plain": [
       "<IPython.core.display.Javascript object>"
      ]
     },
     "metadata": {},
     "output_type": "display_data"
    },
    {
     "data": {
      "application/javascript": [
       "\n",
       "    for( i=0; i < cy.io.selection.length; i++ ){\n",
       "        var ele = cy.io.selection[i]\n",
       "        var label_pos = 'center'\n",
       "        if( ele.isNode() ){\n",
       "            if( label_pos == 'center'  ){\n",
       "                cy.io.style.change( ele, ['text-halign','text-valign'], ['center','center'] )\n",
       "            }else if( label_pos=='top' || label_pos=='bottom'){\n",
       "                cy.io.style.change( ele, ['text-halign','text-valign'], ['center', label_pos] )                    \n",
       "            }else{\n",
       "                cy.io.style.change( ele, ['text-halign','text-valign'], [ label_pos, 'center'] )                \n",
       "            }\n",
       "        } \n",
       "    }\n",
       "    "
      ],
      "text/plain": [
       "<IPython.core.display.Javascript object>"
      ]
     },
     "metadata": {},
     "output_type": "display_data"
    },
    {
     "data": {
      "application/javascript": [
       "\n",
       "    for( i=0; i < cy.io.selection.length; i++ ){\n",
       "        var ele = cy.io.selection[i]\n",
       "        var label_pos = 'center'\n",
       "        if( ele.isNode() ){\n",
       "            if( label_pos == 'center'  ){\n",
       "                cy.io.style.change( ele, ['text-halign','text-valign'], ['center','center'] )\n",
       "            }else if( label_pos=='top' || label_pos=='bottom'){\n",
       "                cy.io.style.change( ele, ['text-halign','text-valign'], ['center', label_pos] )                    \n",
       "            }else{\n",
       "                cy.io.style.change( ele, ['text-halign','text-valign'], [ label_pos, 'center'] )                \n",
       "            }\n",
       "        } \n",
       "    }\n",
       "    "
      ],
      "text/plain": [
       "<IPython.core.display.Javascript object>"
      ]
     },
     "metadata": {},
     "output_type": "display_data"
    },
    {
     "data": {
      "application/javascript": [
       "\n",
       "    for( i=0; i < cy.io.selection.length; i++ ){\n",
       "        var ele = cy.io.selection[i]\n",
       "        var label_pos = 'center'\n",
       "        if( ele.isNode() ){\n",
       "            if( label_pos == 'center'  ){\n",
       "                cy.io.style.change( ele, ['text-halign','text-valign'], ['center','center'] )\n",
       "            }else if( label_pos=='top' || label_pos=='bottom'){\n",
       "                cy.io.style.change( ele, ['text-halign','text-valign'], ['center', label_pos] )                    \n",
       "            }else{\n",
       "                cy.io.style.change( ele, ['text-halign','text-valign'], [ label_pos, 'center'] )                \n",
       "            }\n",
       "        } \n",
       "    }\n",
       "    "
      ],
      "text/plain": [
       "<IPython.core.display.Javascript object>"
      ]
     },
     "metadata": {},
     "output_type": "display_data"
    },
    {
     "data": {
      "application/javascript": [
       "\n",
       "    for( i=0; i < cy.io.selection.length; i++ ){\n",
       "        var ele = cy.io.selection[i]\n",
       "        var label_pos = 'top'\n",
       "        if( ele.isNode() ){\n",
       "            if( label_pos == 'center'  ){\n",
       "                cy.io.style.change( ele, ['text-halign','text-valign'], ['center','center'] )\n",
       "            }else if( label_pos=='top' || label_pos=='bottom'){\n",
       "                cy.io.style.change( ele, ['text-halign','text-valign'], ['center', label_pos] )                    \n",
       "            }else{\n",
       "                cy.io.style.change( ele, ['text-halign','text-valign'], [ label_pos, 'center'] )                \n",
       "            }\n",
       "        } \n",
       "    }\n",
       "    "
      ],
      "text/plain": [
       "<IPython.core.display.Javascript object>"
      ]
     },
     "metadata": {},
     "output_type": "display_data"
    },
    {
     "data": {
      "application/javascript": [
       "\n",
       "    for( i=0; i < cy.io.selection.length; i++ ){\n",
       "        var ele = cy.io.selection[i]\n",
       "        var label_pos = 'top'\n",
       "        if( ele.isNode() ){\n",
       "            if( label_pos == 'center'  ){\n",
       "                cy.io.style.change( ele, ['text-halign','text-valign'], ['center','center'] )\n",
       "            }else if( label_pos=='top' || label_pos=='bottom'){\n",
       "                cy.io.style.change( ele, ['text-halign','text-valign'], ['center', label_pos] )                    \n",
       "            }else{\n",
       "                cy.io.style.change( ele, ['text-halign','text-valign'], [ label_pos, 'center'] )                \n",
       "            }\n",
       "        } \n",
       "    }\n",
       "    "
      ],
      "text/plain": [
       "<IPython.core.display.Javascript object>"
      ]
     },
     "metadata": {},
     "output_type": "display_data"
    },
    {
     "data": {
      "application/javascript": [
       "\n",
       "    for( i=0; i < cy.io.selection.length; i++ ){\n",
       "        var ele = cy.io.selection[i]\n",
       "        var label_pos = 'top'\n",
       "        if( ele.isNode() ){\n",
       "            if( label_pos == 'center'  ){\n",
       "                cy.io.style.change( ele, ['text-halign','text-valign'], ['center','center'] )\n",
       "            }else if( label_pos=='top' || label_pos=='bottom'){\n",
       "                cy.io.style.change( ele, ['text-halign','text-valign'], ['center', label_pos] )                    \n",
       "            }else{\n",
       "                cy.io.style.change( ele, ['text-halign','text-valign'], [ label_pos, 'center'] )                \n",
       "            }\n",
       "        } \n",
       "    }\n",
       "    "
      ],
      "text/plain": [
       "<IPython.core.display.Javascript object>"
      ]
     },
     "metadata": {},
     "output_type": "display_data"
    },
    {
     "data": {
      "application/javascript": [
       "\n",
       "    for( i=0; i < cy.io.selection.length; i++ ){\n",
       "        var ele = cy.io.selection[i]\n",
       "        var label_pos = 'top'\n",
       "        if( ele.isNode() ){\n",
       "            if( label_pos == 'center'  ){\n",
       "                cy.io.style.change( ele, ['text-halign','text-valign'], ['center','center'] )\n",
       "            }else if( label_pos=='top' || label_pos=='bottom'){\n",
       "                cy.io.style.change( ele, ['text-halign','text-valign'], ['center', label_pos] )                    \n",
       "            }else{\n",
       "                cy.io.style.change( ele, ['text-halign','text-valign'], [ label_pos, 'center'] )                \n",
       "            }\n",
       "        } \n",
       "    }\n",
       "    "
      ],
      "text/plain": [
       "<IPython.core.display.Javascript object>"
      ]
     },
     "metadata": {},
     "output_type": "display_data"
    },
    {
     "data": {
      "application/javascript": [
       "\n",
       "    for( i=0; i < cy.io.selection.length; i++ ){\n",
       "        var ele = cy.io.selection[i]\n",
       "        var label_pos = 'top'\n",
       "        if( ele.isNode() ){\n",
       "            if( label_pos == 'center'  ){\n",
       "                cy.io.style.change( ele, ['text-halign','text-valign'], ['center','center'] )\n",
       "            }else if( label_pos=='top' || label_pos=='bottom'){\n",
       "                cy.io.style.change( ele, ['text-halign','text-valign'], ['center', label_pos] )                    \n",
       "            }else{\n",
       "                cy.io.style.change( ele, ['text-halign','text-valign'], [ label_pos, 'center'] )                \n",
       "            }\n",
       "        } \n",
       "    }\n",
       "    "
      ],
      "text/plain": [
       "<IPython.core.display.Javascript object>"
      ]
     },
     "metadata": {},
     "output_type": "display_data"
    },
    {
     "data": {
      "application/javascript": [
       "\n",
       "    for( i=0; i < cy.io.selection.length; i++ ){\n",
       "        var ele = cy.io.selection[i]\n",
       "        var label_pos = 'center'\n",
       "        if( ele.isNode() ){\n",
       "            if( label_pos == 'center'  ){\n",
       "                cy.io.style.change( ele, ['text-halign','text-valign'], ['center','center'] )\n",
       "            }else if( label_pos=='top' || label_pos=='bottom'){\n",
       "                cy.io.style.change( ele, ['text-halign','text-valign'], ['center', label_pos] )                    \n",
       "            }else{\n",
       "                cy.io.style.change( ele, ['text-halign','text-valign'], [ label_pos, 'center'] )                \n",
       "            }\n",
       "        } \n",
       "    }\n",
       "    "
      ],
      "text/plain": [
       "<IPython.core.display.Javascript object>"
      ]
     },
     "metadata": {},
     "output_type": "display_data"
    },
    {
     "data": {
      "application/javascript": [
       "\n",
       "    for( i=0; i < cy.io.selection.length; i++ ){\n",
       "        var ele = cy.io.selection[i]\n",
       "        var label_pos = 'center'\n",
       "        if( ele.isNode() ){\n",
       "            if( label_pos == 'center'  ){\n",
       "                cy.io.style.change( ele, ['text-halign','text-valign'], ['center','center'] )\n",
       "            }else if( label_pos=='top' || label_pos=='bottom'){\n",
       "                cy.io.style.change( ele, ['text-halign','text-valign'], ['center', label_pos] )                    \n",
       "            }else{\n",
       "                cy.io.style.change( ele, ['text-halign','text-valign'], [ label_pos, 'center'] )                \n",
       "            }\n",
       "        } \n",
       "    }\n",
       "    "
      ],
      "text/plain": [
       "<IPython.core.display.Javascript object>"
      ]
     },
     "metadata": {},
     "output_type": "display_data"
    },
    {
     "data": {
      "application/javascript": [
       "\n",
       "    for( i=0; i < cy.io.selection.length; i++ ){\n",
       "        var ele = cy.io.selection[i]\n",
       "        var label_pos = 'center'\n",
       "        if( ele.isNode() ){\n",
       "            if( label_pos == 'center'  ){\n",
       "                cy.io.style.change( ele, ['text-halign','text-valign'], ['center','center'] )\n",
       "            }else if( label_pos=='top' || label_pos=='bottom'){\n",
       "                cy.io.style.change( ele, ['text-halign','text-valign'], ['center', label_pos] )                    \n",
       "            }else{\n",
       "                cy.io.style.change( ele, ['text-halign','text-valign'], [ label_pos, 'center'] )                \n",
       "            }\n",
       "        } \n",
       "    }\n",
       "    "
      ],
      "text/plain": [
       "<IPython.core.display.Javascript object>"
      ]
     },
     "metadata": {},
     "output_type": "display_data"
    },
    {
     "data": {
      "application/javascript": [
       "\n",
       "    for( i=0; i < cy.io.selection.length; i++ ){\n",
       "        var ele = cy.io.selection[i]\n",
       "        var label_pos = 'center'\n",
       "        if( ele.isNode() ){\n",
       "            if( label_pos == 'center'  ){\n",
       "                cy.io.style.change( ele, ['text-halign','text-valign'], ['center','center'] )\n",
       "            }else if( label_pos=='top' || label_pos=='bottom'){\n",
       "                cy.io.style.change( ele, ['text-halign','text-valign'], ['center', label_pos] )                    \n",
       "            }else{\n",
       "                cy.io.style.change( ele, ['text-halign','text-valign'], [ label_pos, 'center'] )                \n",
       "            }\n",
       "        } \n",
       "    }\n",
       "    "
      ],
      "text/plain": [
       "<IPython.core.display.Javascript object>"
      ]
     },
     "metadata": {},
     "output_type": "display_data"
    },
    {
     "data": {
      "application/javascript": [
       "\n",
       "    for( i=0; i < cy.io.selection.length; i++ ){\n",
       "        var ele = cy.io.selection[i]\n",
       "        var label_pos = 'center'\n",
       "        if( ele.isNode() ){\n",
       "            if( label_pos == 'center'  ){\n",
       "                cy.io.style.change( ele, ['text-halign','text-valign'], ['center','center'] )\n",
       "            }else if( label_pos=='top' || label_pos=='bottom'){\n",
       "                cy.io.style.change( ele, ['text-halign','text-valign'], ['center', label_pos] )                    \n",
       "            }else{\n",
       "                cy.io.style.change( ele, ['text-halign','text-valign'], [ label_pos, 'center'] )                \n",
       "            }\n",
       "        } \n",
       "    }\n",
       "    "
      ],
      "text/plain": [
       "<IPython.core.display.Javascript object>"
      ]
     },
     "metadata": {},
     "output_type": "display_data"
    },
    {
     "data": {
      "application/javascript": [
       "\n",
       "    for( i=0; i < cy.io.selection.length; i++ ){\n",
       "        var ele = cy.io.selection[i]\n",
       "        var label_pos = 'top'\n",
       "        if( ele.isNode() ){\n",
       "            if( label_pos == 'center'  ){\n",
       "                cy.io.style.change( ele, ['text-halign','text-valign'], ['center','center'] )\n",
       "            }else if( label_pos=='top' || label_pos=='bottom'){\n",
       "                cy.io.style.change( ele, ['text-halign','text-valign'], ['center', label_pos] )                    \n",
       "            }else{\n",
       "                cy.io.style.change( ele, ['text-halign','text-valign'], [ label_pos, 'center'] )                \n",
       "            }\n",
       "        } \n",
       "    }\n",
       "    "
      ],
      "text/plain": [
       "<IPython.core.display.Javascript object>"
      ]
     },
     "metadata": {},
     "output_type": "display_data"
    },
    {
     "data": {
      "application/javascript": [
       "\n",
       "    for( i=0; i < cy.io.selection.length; i++ ){\n",
       "        var ele = cy.io.selection[i]\n",
       "        var label_pos = 'top'\n",
       "        if( ele.isNode() ){\n",
       "            if( label_pos == 'center'  ){\n",
       "                cy.io.style.change( ele, ['text-halign','text-valign'], ['center','center'] )\n",
       "            }else if( label_pos=='top' || label_pos=='bottom'){\n",
       "                cy.io.style.change( ele, ['text-halign','text-valign'], ['center', label_pos] )                    \n",
       "            }else{\n",
       "                cy.io.style.change( ele, ['text-halign','text-valign'], [ label_pos, 'center'] )                \n",
       "            }\n",
       "        } \n",
       "    }\n",
       "    "
      ],
      "text/plain": [
       "<IPython.core.display.Javascript object>"
      ]
     },
     "metadata": {},
     "output_type": "display_data"
    },
    {
     "data": {
      "application/javascript": [
       "\n",
       "    for( i=0; i < cy.io.selection.length; i++ ){\n",
       "        var ele = cy.io.selection[i]\n",
       "        var label_pos = 'top'\n",
       "        if( ele.isNode() ){\n",
       "            if( label_pos == 'center'  ){\n",
       "                cy.io.style.change( ele, ['text-halign','text-valign'], ['center','center'] )\n",
       "            }else if( label_pos=='top' || label_pos=='bottom'){\n",
       "                cy.io.style.change( ele, ['text-halign','text-valign'], ['center', label_pos] )                    \n",
       "            }else{\n",
       "                cy.io.style.change( ele, ['text-halign','text-valign'], [ label_pos, 'center'] )                \n",
       "            }\n",
       "        } \n",
       "    }\n",
       "    "
      ],
      "text/plain": [
       "<IPython.core.display.Javascript object>"
      ]
     },
     "metadata": {},
     "output_type": "display_data"
    },
    {
     "data": {
      "application/javascript": [
       "\n",
       "    for( i=0; i < cy.io.selection.length; i++ ){\n",
       "        var ele = cy.io.selection[i]\n",
       "        var label_pos = 'top'\n",
       "        if( ele.isNode() ){\n",
       "            if( label_pos == 'center'  ){\n",
       "                cy.io.style.change( ele, ['text-halign','text-valign'], ['center','center'] )\n",
       "            }else if( label_pos=='top' || label_pos=='bottom'){\n",
       "                cy.io.style.change( ele, ['text-halign','text-valign'], ['center', label_pos] )                    \n",
       "            }else{\n",
       "                cy.io.style.change( ele, ['text-halign','text-valign'], [ label_pos, 'center'] )                \n",
       "            }\n",
       "        } \n",
       "    }\n",
       "    "
      ],
      "text/plain": [
       "<IPython.core.display.Javascript object>"
      ]
     },
     "metadata": {},
     "output_type": "display_data"
    },
    {
     "data": {
      "application/javascript": [
       "\n",
       "    for( i=0; i < cy.io.selection.length; i++ ){\n",
       "        var ele = cy.io.selection[i]\n",
       "        var label_pos = 'top'\n",
       "        if( ele.isNode() ){\n",
       "            if( label_pos == 'center'  ){\n",
       "                cy.io.style.change( ele, ['text-halign','text-valign'], ['center','center'] )\n",
       "            }else if( label_pos=='top' || label_pos=='bottom'){\n",
       "                cy.io.style.change( ele, ['text-halign','text-valign'], ['center', label_pos] )                    \n",
       "            }else{\n",
       "                cy.io.style.change( ele, ['text-halign','text-valign'], [ label_pos, 'center'] )                \n",
       "            }\n",
       "        } \n",
       "    }\n",
       "    "
      ],
      "text/plain": [
       "<IPython.core.display.Javascript object>"
      ]
     },
     "metadata": {},
     "output_type": "display_data"
    },
    {
     "data": {
      "application/javascript": [
       "\n",
       "    for( i=0; i < cy.io.selection.length; i++ ){\n",
       "        var ele = cy.io.selection[i]\n",
       "        var label_pos = 'center'\n",
       "        if( ele.isNode() ){\n",
       "            if( label_pos == 'center'  ){\n",
       "                cy.io.style.change( ele, ['text-halign','text-valign'], ['center','center'] )\n",
       "            }else if( label_pos=='top' || label_pos=='bottom'){\n",
       "                cy.io.style.change( ele, ['text-halign','text-valign'], ['center', label_pos] )                    \n",
       "            }else{\n",
       "                cy.io.style.change( ele, ['text-halign','text-valign'], [ label_pos, 'center'] )                \n",
       "            }\n",
       "        } \n",
       "    }\n",
       "    "
      ],
      "text/plain": [
       "<IPython.core.display.Javascript object>"
      ]
     },
     "metadata": {},
     "output_type": "display_data"
    },
    {
     "data": {
      "application/javascript": [
       "\n",
       "    for( i=0; i < cy.io.selection.length; i++ ){\n",
       "        var ele = cy.io.selection[i]\n",
       "        var label_pos = 'center'\n",
       "        if( ele.isNode() ){\n",
       "            if( label_pos == 'center'  ){\n",
       "                cy.io.style.change( ele, ['text-halign','text-valign'], ['center','center'] )\n",
       "            }else if( label_pos=='top' || label_pos=='bottom'){\n",
       "                cy.io.style.change( ele, ['text-halign','text-valign'], ['center', label_pos] )                    \n",
       "            }else{\n",
       "                cy.io.style.change( ele, ['text-halign','text-valign'], [ label_pos, 'center'] )                \n",
       "            }\n",
       "        } \n",
       "    }\n",
       "    "
      ],
      "text/plain": [
       "<IPython.core.display.Javascript object>"
      ]
     },
     "metadata": {},
     "output_type": "display_data"
    },
    {
     "data": {
      "application/javascript": [
       "\n",
       "    for( i=0; i < cy.io.selection.length; i++ ){\n",
       "        var ele = cy.io.selection[i]\n",
       "        var label_pos = 'center'\n",
       "        if( ele.isNode() ){\n",
       "            if( label_pos == 'center'  ){\n",
       "                cy.io.style.change( ele, ['text-halign','text-valign'], ['center','center'] )\n",
       "            }else if( label_pos=='top' || label_pos=='bottom'){\n",
       "                cy.io.style.change( ele, ['text-halign','text-valign'], ['center', label_pos] )                    \n",
       "            }else{\n",
       "                cy.io.style.change( ele, ['text-halign','text-valign'], [ label_pos, 'center'] )                \n",
       "            }\n",
       "        } \n",
       "    }\n",
       "    "
      ],
      "text/plain": [
       "<IPython.core.display.Javascript object>"
      ]
     },
     "metadata": {},
     "output_type": "display_data"
    },
    {
     "data": {
      "application/javascript": [
       "\n",
       "    for( i=0; i < cy.io.selection.length; i++ ){\n",
       "        var ele = cy.io.selection[i]\n",
       "        var label_pos = 'center'\n",
       "        if( ele.isNode() ){\n",
       "            if( label_pos == 'center'  ){\n",
       "                cy.io.style.change( ele, ['text-halign','text-valign'], ['center','center'] )\n",
       "            }else if( label_pos=='top' || label_pos=='bottom'){\n",
       "                cy.io.style.change( ele, ['text-halign','text-valign'], ['center', label_pos] )                    \n",
       "            }else{\n",
       "                cy.io.style.change( ele, ['text-halign','text-valign'], [ label_pos, 'center'] )                \n",
       "            }\n",
       "        } \n",
       "    }\n",
       "    "
      ],
      "text/plain": [
       "<IPython.core.display.Javascript object>"
      ]
     },
     "metadata": {},
     "output_type": "display_data"
    },
    {
     "data": {
      "application/javascript": [
       "\n",
       "    for( i=0; i < cy.io.selection.length; i++ ){\n",
       "        var ele = cy.io.selection[i]\n",
       "        var label_pos = 'center'\n",
       "        if( ele.isNode() ){\n",
       "            if( label_pos == 'center'  ){\n",
       "                cy.io.style.change( ele, ['text-halign','text-valign'], ['center','center'] )\n",
       "            }else if( label_pos=='top' || label_pos=='bottom'){\n",
       "                cy.io.style.change( ele, ['text-halign','text-valign'], ['center', label_pos] )                    \n",
       "            }else{\n",
       "                cy.io.style.change( ele, ['text-halign','text-valign'], [ label_pos, 'center'] )                \n",
       "            }\n",
       "        } \n",
       "    }\n",
       "    "
      ],
      "text/plain": [
       "<IPython.core.display.Javascript object>"
      ]
     },
     "metadata": {},
     "output_type": "display_data"
    },
    {
     "data": {
      "application/javascript": [
       "\n",
       "    for( i=0; i < cy.io.selection.length; i++ ){\n",
       "        var ele = cy.io.selection[i]\n",
       "        var label_pos = 'top'\n",
       "        if( ele.isNode() ){\n",
       "            if( label_pos == 'center'  ){\n",
       "                cy.io.style.change( ele, ['text-halign','text-valign'], ['center','center'] )\n",
       "            }else if( label_pos=='top' || label_pos=='bottom'){\n",
       "                cy.io.style.change( ele, ['text-halign','text-valign'], ['center', label_pos] )                    \n",
       "            }else{\n",
       "                cy.io.style.change( ele, ['text-halign','text-valign'], [ label_pos, 'center'] )                \n",
       "            }\n",
       "        } \n",
       "    }\n",
       "    "
      ],
      "text/plain": [
       "<IPython.core.display.Javascript object>"
      ]
     },
     "metadata": {},
     "output_type": "display_data"
    },
    {
     "data": {
      "application/javascript": [
       "\n",
       "    for( i=0; i < cy.io.selection.length; i++ ){\n",
       "        var ele = cy.io.selection[i]\n",
       "        var label_pos = 'top'\n",
       "        if( ele.isNode() ){\n",
       "            if( label_pos == 'center'  ){\n",
       "                cy.io.style.change( ele, ['text-halign','text-valign'], ['center','center'] )\n",
       "            }else if( label_pos=='top' || label_pos=='bottom'){\n",
       "                cy.io.style.change( ele, ['text-halign','text-valign'], ['center', label_pos] )                    \n",
       "            }else{\n",
       "                cy.io.style.change( ele, ['text-halign','text-valign'], [ label_pos, 'center'] )                \n",
       "            }\n",
       "        } \n",
       "    }\n",
       "    "
      ],
      "text/plain": [
       "<IPython.core.display.Javascript object>"
      ]
     },
     "metadata": {},
     "output_type": "display_data"
    },
    {
     "data": {
      "application/javascript": [
       "\n",
       "    for( i=0; i < cy.io.selection.length; i++ ){\n",
       "        var ele = cy.io.selection[i]\n",
       "        var label_pos = 'top'\n",
       "        if( ele.isNode() ){\n",
       "            if( label_pos == 'center'  ){\n",
       "                cy.io.style.change( ele, ['text-halign','text-valign'], ['center','center'] )\n",
       "            }else if( label_pos=='top' || label_pos=='bottom'){\n",
       "                cy.io.style.change( ele, ['text-halign','text-valign'], ['center', label_pos] )                    \n",
       "            }else{\n",
       "                cy.io.style.change( ele, ['text-halign','text-valign'], [ label_pos, 'center'] )                \n",
       "            }\n",
       "        } \n",
       "    }\n",
       "    "
      ],
      "text/plain": [
       "<IPython.core.display.Javascript object>"
      ]
     },
     "metadata": {},
     "output_type": "display_data"
    },
    {
     "data": {
      "application/javascript": [
       "\n",
       "    for( i=0; i < cy.io.selection.length; i++ ){\n",
       "        var ele = cy.io.selection[i]\n",
       "        var label_pos = 'top'\n",
       "        if( ele.isNode() ){\n",
       "            if( label_pos == 'center'  ){\n",
       "                cy.io.style.change( ele, ['text-halign','text-valign'], ['center','center'] )\n",
       "            }else if( label_pos=='top' || label_pos=='bottom'){\n",
       "                cy.io.style.change( ele, ['text-halign','text-valign'], ['center', label_pos] )                    \n",
       "            }else{\n",
       "                cy.io.style.change( ele, ['text-halign','text-valign'], [ label_pos, 'center'] )                \n",
       "            }\n",
       "        } \n",
       "    }\n",
       "    "
      ],
      "text/plain": [
       "<IPython.core.display.Javascript object>"
      ]
     },
     "metadata": {},
     "output_type": "display_data"
    },
    {
     "data": {
      "application/javascript": [
       "\n",
       "    for( i=0; i < cy.io.selection.length; i++ ){\n",
       "        var ele = cy.io.selection[i]\n",
       "        var label_pos = 'top'\n",
       "        if( ele.isNode() ){\n",
       "            if( label_pos == 'center'  ){\n",
       "                cy.io.style.change( ele, ['text-halign','text-valign'], ['center','center'] )\n",
       "            }else if( label_pos=='top' || label_pos=='bottom'){\n",
       "                cy.io.style.change( ele, ['text-halign','text-valign'], ['center', label_pos] )                    \n",
       "            }else{\n",
       "                cy.io.style.change( ele, ['text-halign','text-valign'], [ label_pos, 'center'] )                \n",
       "            }\n",
       "        } \n",
       "    }\n",
       "    "
      ],
      "text/plain": [
       "<IPython.core.display.Javascript object>"
      ]
     },
     "metadata": {},
     "output_type": "display_data"
    },
    {
     "data": {
      "application/javascript": [
       "\n",
       "    for( i=0; i < cy.io.selection.length; i++ ){\n",
       "        var ele = cy.io.selection[i]\n",
       "        var label_pos = 'bottom'\n",
       "        if( ele.isNode() ){\n",
       "            if( label_pos == 'center'  ){\n",
       "                cy.io.style.change( ele, ['text-halign','text-valign'], ['center','center'] )\n",
       "            }else if( label_pos=='top' || label_pos=='bottom'){\n",
       "                cy.io.style.change( ele, ['text-halign','text-valign'], ['center', label_pos] )                    \n",
       "            }else{\n",
       "                cy.io.style.change( ele, ['text-halign','text-valign'], [ label_pos, 'center'] )                \n",
       "            }\n",
       "        } \n",
       "    }\n",
       "    "
      ],
      "text/plain": [
       "<IPython.core.display.Javascript object>"
      ]
     },
     "metadata": {},
     "output_type": "display_data"
    },
    {
     "data": {
      "application/javascript": [
       "\n",
       "    for( i=0; i < cy.io.selection.length; i++ ){\n",
       "        var ele = cy.io.selection[i]\n",
       "        var label_pos = 'bottom'\n",
       "        if( ele.isNode() ){\n",
       "            if( label_pos == 'center'  ){\n",
       "                cy.io.style.change( ele, ['text-halign','text-valign'], ['center','center'] )\n",
       "            }else if( label_pos=='top' || label_pos=='bottom'){\n",
       "                cy.io.style.change( ele, ['text-halign','text-valign'], ['center', label_pos] )                    \n",
       "            }else{\n",
       "                cy.io.style.change( ele, ['text-halign','text-valign'], [ label_pos, 'center'] )                \n",
       "            }\n",
       "        } \n",
       "    }\n",
       "    "
      ],
      "text/plain": [
       "<IPython.core.display.Javascript object>"
      ]
     },
     "metadata": {},
     "output_type": "display_data"
    },
    {
     "data": {
      "application/javascript": [
       "\n",
       "    for( i=0; i < cy.io.selection.length; i++ ){\n",
       "        var ele = cy.io.selection[i]\n",
       "        var label_pos = 'bottom'\n",
       "        if( ele.isNode() ){\n",
       "            if( label_pos == 'center'  ){\n",
       "                cy.io.style.change( ele, ['text-halign','text-valign'], ['center','center'] )\n",
       "            }else if( label_pos=='top' || label_pos=='bottom'){\n",
       "                cy.io.style.change( ele, ['text-halign','text-valign'], ['center', label_pos] )                    \n",
       "            }else{\n",
       "                cy.io.style.change( ele, ['text-halign','text-valign'], [ label_pos, 'center'] )                \n",
       "            }\n",
       "        } \n",
       "    }\n",
       "    "
      ],
      "text/plain": [
       "<IPython.core.display.Javascript object>"
      ]
     },
     "metadata": {},
     "output_type": "display_data"
    },
    {
     "data": {
      "application/javascript": [
       "\n",
       "    for( i=0; i < cy.io.selection.length; i++ ){\n",
       "        var ele = cy.io.selection[i]\n",
       "        var label_pos = 'bottom'\n",
       "        if( ele.isNode() ){\n",
       "            if( label_pos == 'center'  ){\n",
       "                cy.io.style.change( ele, ['text-halign','text-valign'], ['center','center'] )\n",
       "            }else if( label_pos=='top' || label_pos=='bottom'){\n",
       "                cy.io.style.change( ele, ['text-halign','text-valign'], ['center', label_pos] )                    \n",
       "            }else{\n",
       "                cy.io.style.change( ele, ['text-halign','text-valign'], [ label_pos, 'center'] )                \n",
       "            }\n",
       "        } \n",
       "    }\n",
       "    "
      ],
      "text/plain": [
       "<IPython.core.display.Javascript object>"
      ]
     },
     "metadata": {},
     "output_type": "display_data"
    },
    {
     "data": {
      "application/javascript": [
       "\n",
       "    for( i=0; i < cy.io.selection.length; i++ ){\n",
       "        var ele = cy.io.selection[i]\n",
       "        var label_pos = 'bottom'\n",
       "        if( ele.isNode() ){\n",
       "            if( label_pos == 'center'  ){\n",
       "                cy.io.style.change( ele, ['text-halign','text-valign'], ['center','center'] )\n",
       "            }else if( label_pos=='top' || label_pos=='bottom'){\n",
       "                cy.io.style.change( ele, ['text-halign','text-valign'], ['center', label_pos] )                    \n",
       "            }else{\n",
       "                cy.io.style.change( ele, ['text-halign','text-valign'], [ label_pos, 'center'] )                \n",
       "            }\n",
       "        } \n",
       "    }\n",
       "    "
      ],
      "text/plain": [
       "<IPython.core.display.Javascript object>"
      ]
     },
     "metadata": {},
     "output_type": "display_data"
    },
    {
     "data": {
      "application/javascript": [
       "\n",
       "    for( i=0; i < cy.io.selection.length; i++ ){\n",
       "        var ele = cy.io.selection[i]\n",
       "        var label_pos = 'top'\n",
       "        if( ele.isNode() ){\n",
       "            if( label_pos == 'center'  ){\n",
       "                cy.io.style.change( ele, ['text-halign','text-valign'], ['center','center'] )\n",
       "            }else if( label_pos=='top' || label_pos=='bottom'){\n",
       "                cy.io.style.change( ele, ['text-halign','text-valign'], ['center', label_pos] )                    \n",
       "            }else{\n",
       "                cy.io.style.change( ele, ['text-halign','text-valign'], [ label_pos, 'center'] )                \n",
       "            }\n",
       "        } \n",
       "    }\n",
       "    "
      ],
      "text/plain": [
       "<IPython.core.display.Javascript object>"
      ]
     },
     "metadata": {},
     "output_type": "display_data"
    },
    {
     "data": {
      "application/javascript": [
       "\n",
       "    for( i=0; i < cy.io.selection.length; i++ ){\n",
       "        var ele = cy.io.selection[i]\n",
       "        var label_pos = 'top'\n",
       "        if( ele.isNode() ){\n",
       "            if( label_pos == 'center'  ){\n",
       "                cy.io.style.change( ele, ['text-halign','text-valign'], ['center','center'] )\n",
       "            }else if( label_pos=='top' || label_pos=='bottom'){\n",
       "                cy.io.style.change( ele, ['text-halign','text-valign'], ['center', label_pos] )                    \n",
       "            }else{\n",
       "                cy.io.style.change( ele, ['text-halign','text-valign'], [ label_pos, 'center'] )                \n",
       "            }\n",
       "        } \n",
       "    }\n",
       "    "
      ],
      "text/plain": [
       "<IPython.core.display.Javascript object>"
      ]
     },
     "metadata": {},
     "output_type": "display_data"
    },
    {
     "data": {
      "application/javascript": [
       "\n",
       "    for( i=0; i < cy.io.selection.length; i++ ){\n",
       "        var ele = cy.io.selection[i]\n",
       "        var label_pos = 'top'\n",
       "        if( ele.isNode() ){\n",
       "            if( label_pos == 'center'  ){\n",
       "                cy.io.style.change( ele, ['text-halign','text-valign'], ['center','center'] )\n",
       "            }else if( label_pos=='top' || label_pos=='bottom'){\n",
       "                cy.io.style.change( ele, ['text-halign','text-valign'], ['center', label_pos] )                    \n",
       "            }else{\n",
       "                cy.io.style.change( ele, ['text-halign','text-valign'], [ label_pos, 'center'] )                \n",
       "            }\n",
       "        } \n",
       "    }\n",
       "    "
      ],
      "text/plain": [
       "<IPython.core.display.Javascript object>"
      ]
     },
     "metadata": {},
     "output_type": "display_data"
    },
    {
     "data": {
      "application/javascript": [
       "\n",
       "    for( i=0; i < cy.io.selection.length; i++ ){\n",
       "        var ele = cy.io.selection[i]\n",
       "        var label_pos = 'top'\n",
       "        if( ele.isNode() ){\n",
       "            if( label_pos == 'center'  ){\n",
       "                cy.io.style.change( ele, ['text-halign','text-valign'], ['center','center'] )\n",
       "            }else if( label_pos=='top' || label_pos=='bottom'){\n",
       "                cy.io.style.change( ele, ['text-halign','text-valign'], ['center', label_pos] )                    \n",
       "            }else{\n",
       "                cy.io.style.change( ele, ['text-halign','text-valign'], [ label_pos, 'center'] )                \n",
       "            }\n",
       "        } \n",
       "    }\n",
       "    "
      ],
      "text/plain": [
       "<IPython.core.display.Javascript object>"
      ]
     },
     "metadata": {},
     "output_type": "display_data"
    },
    {
     "data": {
      "application/javascript": [
       "\n",
       "    for( i=0; i < cy.io.selection.length; i++ ){\n",
       "        var ele = cy.io.selection[i]\n",
       "        var label_pos = 'top'\n",
       "        if( ele.isNode() ){\n",
       "            if( label_pos == 'center'  ){\n",
       "                cy.io.style.change( ele, ['text-halign','text-valign'], ['center','center'] )\n",
       "            }else if( label_pos=='top' || label_pos=='bottom'){\n",
       "                cy.io.style.change( ele, ['text-halign','text-valign'], ['center', label_pos] )                    \n",
       "            }else{\n",
       "                cy.io.style.change( ele, ['text-halign','text-valign'], [ label_pos, 'center'] )                \n",
       "            }\n",
       "        } \n",
       "    }\n",
       "    "
      ],
      "text/plain": [
       "<IPython.core.display.Javascript object>"
      ]
     },
     "metadata": {},
     "output_type": "display_data"
    },
    {
     "data": {
      "application/javascript": [
       "\n",
       "    for( i=0; i < cy.io.selection.length; i++ ){\n",
       "        var ele = cy.io.selection[i]\n",
       "        var label_pos = 'center'\n",
       "        if( ele.isNode() ){\n",
       "            if( label_pos == 'center'  ){\n",
       "                cy.io.style.change( ele, ['text-halign','text-valign'], ['center','center'] )\n",
       "            }else if( label_pos=='top' || label_pos=='bottom'){\n",
       "                cy.io.style.change( ele, ['text-halign','text-valign'], ['center', label_pos] )                    \n",
       "            }else{\n",
       "                cy.io.style.change( ele, ['text-halign','text-valign'], [ label_pos, 'center'] )                \n",
       "            }\n",
       "        } \n",
       "    }\n",
       "    "
      ],
      "text/plain": [
       "<IPython.core.display.Javascript object>"
      ]
     },
     "metadata": {},
     "output_type": "display_data"
    },
    {
     "data": {
      "application/javascript": [
       "\n",
       "    for( i=0; i < cy.io.selection.length; i++ ){\n",
       "        var ele = cy.io.selection[i]\n",
       "        var label_pos = 'center'\n",
       "        if( ele.isNode() ){\n",
       "            if( label_pos == 'center'  ){\n",
       "                cy.io.style.change( ele, ['text-halign','text-valign'], ['center','center'] )\n",
       "            }else if( label_pos=='top' || label_pos=='bottom'){\n",
       "                cy.io.style.change( ele, ['text-halign','text-valign'], ['center', label_pos] )                    \n",
       "            }else{\n",
       "                cy.io.style.change( ele, ['text-halign','text-valign'], [ label_pos, 'center'] )                \n",
       "            }\n",
       "        } \n",
       "    }\n",
       "    "
      ],
      "text/plain": [
       "<IPython.core.display.Javascript object>"
      ]
     },
     "metadata": {},
     "output_type": "display_data"
    },
    {
     "data": {
      "application/javascript": [
       "\n",
       "    for( i=0; i < cy.io.selection.length; i++ ){\n",
       "        var ele = cy.io.selection[i]\n",
       "        var label_pos = 'center'\n",
       "        if( ele.isNode() ){\n",
       "            if( label_pos == 'center'  ){\n",
       "                cy.io.style.change( ele, ['text-halign','text-valign'], ['center','center'] )\n",
       "            }else if( label_pos=='top' || label_pos=='bottom'){\n",
       "                cy.io.style.change( ele, ['text-halign','text-valign'], ['center', label_pos] )                    \n",
       "            }else{\n",
       "                cy.io.style.change( ele, ['text-halign','text-valign'], [ label_pos, 'center'] )                \n",
       "            }\n",
       "        } \n",
       "    }\n",
       "    "
      ],
      "text/plain": [
       "<IPython.core.display.Javascript object>"
      ]
     },
     "metadata": {},
     "output_type": "display_data"
    },
    {
     "data": {
      "application/javascript": [
       "\n",
       "    for( i=0; i < cy.io.selection.length; i++ ){\n",
       "        var ele = cy.io.selection[i]\n",
       "        var label_pos = 'center'\n",
       "        if( ele.isNode() ){\n",
       "            if( label_pos == 'center'  ){\n",
       "                cy.io.style.change( ele, ['text-halign','text-valign'], ['center','center'] )\n",
       "            }else if( label_pos=='top' || label_pos=='bottom'){\n",
       "                cy.io.style.change( ele, ['text-halign','text-valign'], ['center', label_pos] )                    \n",
       "            }else{\n",
       "                cy.io.style.change( ele, ['text-halign','text-valign'], [ label_pos, 'center'] )                \n",
       "            }\n",
       "        } \n",
       "    }\n",
       "    "
      ],
      "text/plain": [
       "<IPython.core.display.Javascript object>"
      ]
     },
     "metadata": {},
     "output_type": "display_data"
    },
    {
     "data": {
      "application/javascript": [
       "\n",
       "    for( i=0; i < cy.io.selection.length; i++ ){\n",
       "        var ele = cy.io.selection[i]\n",
       "        var label_pos = 'center'\n",
       "        if( ele.isNode() ){\n",
       "            if( label_pos == 'center'  ){\n",
       "                cy.io.style.change( ele, ['text-halign','text-valign'], ['center','center'] )\n",
       "            }else if( label_pos=='top' || label_pos=='bottom'){\n",
       "                cy.io.style.change( ele, ['text-halign','text-valign'], ['center', label_pos] )                    \n",
       "            }else{\n",
       "                cy.io.style.change( ele, ['text-halign','text-valign'], [ label_pos, 'center'] )                \n",
       "            }\n",
       "        } \n",
       "    }\n",
       "    "
      ],
      "text/plain": [
       "<IPython.core.display.Javascript object>"
      ]
     },
     "metadata": {},
     "output_type": "display_data"
    },
    {
     "data": {
      "application/javascript": [
       "\n",
       "    for( i=0; i < cy.io.selection.length; i++ ){\n",
       "        var ele = cy.io.selection[i]\n",
       "        var label_pos = 'top'\n",
       "        if( ele.isNode() ){\n",
       "            if( label_pos == 'center'  ){\n",
       "                cy.io.style.change( ele, ['text-halign','text-valign'], ['center','center'] )\n",
       "            }else if( label_pos=='top' || label_pos=='bottom'){\n",
       "                cy.io.style.change( ele, ['text-halign','text-valign'], ['center', label_pos] )                    \n",
       "            }else{\n",
       "                cy.io.style.change( ele, ['text-halign','text-valign'], [ label_pos, 'center'] )                \n",
       "            }\n",
       "        } \n",
       "    }\n",
       "    "
      ],
      "text/plain": [
       "<IPython.core.display.Javascript object>"
      ]
     },
     "metadata": {},
     "output_type": "display_data"
    },
    {
     "data": {
      "application/javascript": [
       "\n",
       "    for( i=0; i < cy.io.selection.length; i++ ){\n",
       "        var ele = cy.io.selection[i]\n",
       "        var label_pos = 'top'\n",
       "        if( ele.isNode() ){\n",
       "            if( label_pos == 'center'  ){\n",
       "                cy.io.style.change( ele, ['text-halign','text-valign'], ['center','center'] )\n",
       "            }else if( label_pos=='top' || label_pos=='bottom'){\n",
       "                cy.io.style.change( ele, ['text-halign','text-valign'], ['center', label_pos] )                    \n",
       "            }else{\n",
       "                cy.io.style.change( ele, ['text-halign','text-valign'], [ label_pos, 'center'] )                \n",
       "            }\n",
       "        } \n",
       "    }\n",
       "    "
      ],
      "text/plain": [
       "<IPython.core.display.Javascript object>"
      ]
     },
     "metadata": {},
     "output_type": "display_data"
    },
    {
     "data": {
      "application/javascript": [
       "\n",
       "    for( i=0; i < cy.io.selection.length; i++ ){\n",
       "        var ele = cy.io.selection[i]\n",
       "        var label_pos = 'top'\n",
       "        if( ele.isNode() ){\n",
       "            if( label_pos == 'center'  ){\n",
       "                cy.io.style.change( ele, ['text-halign','text-valign'], ['center','center'] )\n",
       "            }else if( label_pos=='top' || label_pos=='bottom'){\n",
       "                cy.io.style.change( ele, ['text-halign','text-valign'], ['center', label_pos] )                    \n",
       "            }else{\n",
       "                cy.io.style.change( ele, ['text-halign','text-valign'], [ label_pos, 'center'] )                \n",
       "            }\n",
       "        } \n",
       "    }\n",
       "    "
      ],
      "text/plain": [
       "<IPython.core.display.Javascript object>"
      ]
     },
     "metadata": {},
     "output_type": "display_data"
    },
    {
     "data": {
      "application/javascript": [
       "\n",
       "    for( i=0; i < cy.io.selection.length; i++ ){\n",
       "        var ele = cy.io.selection[i]\n",
       "        var label_pos = 'top'\n",
       "        if( ele.isNode() ){\n",
       "            if( label_pos == 'center'  ){\n",
       "                cy.io.style.change( ele, ['text-halign','text-valign'], ['center','center'] )\n",
       "            }else if( label_pos=='top' || label_pos=='bottom'){\n",
       "                cy.io.style.change( ele, ['text-halign','text-valign'], ['center', label_pos] )                    \n",
       "            }else{\n",
       "                cy.io.style.change( ele, ['text-halign','text-valign'], [ label_pos, 'center'] )                \n",
       "            }\n",
       "        } \n",
       "    }\n",
       "    "
      ],
      "text/plain": [
       "<IPython.core.display.Javascript object>"
      ]
     },
     "metadata": {},
     "output_type": "display_data"
    },
    {
     "data": {
      "application/javascript": [
       "\n",
       "    for( i=0; i < cy.io.selection.length; i++ ){\n",
       "        var ele = cy.io.selection[i]\n",
       "        var label_pos = 'top'\n",
       "        if( ele.isNode() ){\n",
       "            if( label_pos == 'center'  ){\n",
       "                cy.io.style.change( ele, ['text-halign','text-valign'], ['center','center'] )\n",
       "            }else if( label_pos=='top' || label_pos=='bottom'){\n",
       "                cy.io.style.change( ele, ['text-halign','text-valign'], ['center', label_pos] )                    \n",
       "            }else{\n",
       "                cy.io.style.change( ele, ['text-halign','text-valign'], [ label_pos, 'center'] )                \n",
       "            }\n",
       "        } \n",
       "    }\n",
       "    "
      ],
      "text/plain": [
       "<IPython.core.display.Javascript object>"
      ]
     },
     "metadata": {},
     "output_type": "display_data"
    },
    {
     "data": {
      "application/javascript": [
       "\n",
       "    for( i=0; i < cy.io.selection.length; i++ ){\n",
       "        var ele = cy.io.selection[i]\n",
       "        var label_pos = 'center'\n",
       "        if( ele.isNode() ){\n",
       "            if( label_pos == 'center'  ){\n",
       "                cy.io.style.change( ele, ['text-halign','text-valign'], ['center','center'] )\n",
       "            }else if( label_pos=='top' || label_pos=='bottom'){\n",
       "                cy.io.style.change( ele, ['text-halign','text-valign'], ['center', label_pos] )                    \n",
       "            }else{\n",
       "                cy.io.style.change( ele, ['text-halign','text-valign'], [ label_pos, 'center'] )                \n",
       "            }\n",
       "        } \n",
       "    }\n",
       "    "
      ],
      "text/plain": [
       "<IPython.core.display.Javascript object>"
      ]
     },
     "metadata": {},
     "output_type": "display_data"
    },
    {
     "data": {
      "application/javascript": [
       "\n",
       "    for( i=0; i < cy.io.selection.length; i++ ){\n",
       "        var ele = cy.io.selection[i]\n",
       "        var label_pos = 'center'\n",
       "        if( ele.isNode() ){\n",
       "            if( label_pos == 'center'  ){\n",
       "                cy.io.style.change( ele, ['text-halign','text-valign'], ['center','center'] )\n",
       "            }else if( label_pos=='top' || label_pos=='bottom'){\n",
       "                cy.io.style.change( ele, ['text-halign','text-valign'], ['center', label_pos] )                    \n",
       "            }else{\n",
       "                cy.io.style.change( ele, ['text-halign','text-valign'], [ label_pos, 'center'] )                \n",
       "            }\n",
       "        } \n",
       "    }\n",
       "    "
      ],
      "text/plain": [
       "<IPython.core.display.Javascript object>"
      ]
     },
     "metadata": {},
     "output_type": "display_data"
    },
    {
     "data": {
      "application/javascript": [
       "\n",
       "    for( i=0; i < cy.io.selection.length; i++ ){\n",
       "        var ele = cy.io.selection[i]\n",
       "        var label_pos = 'center'\n",
       "        if( ele.isNode() ){\n",
       "            if( label_pos == 'center'  ){\n",
       "                cy.io.style.change( ele, ['text-halign','text-valign'], ['center','center'] )\n",
       "            }else if( label_pos=='top' || label_pos=='bottom'){\n",
       "                cy.io.style.change( ele, ['text-halign','text-valign'], ['center', label_pos] )                    \n",
       "            }else{\n",
       "                cy.io.style.change( ele, ['text-halign','text-valign'], [ label_pos, 'center'] )                \n",
       "            }\n",
       "        } \n",
       "    }\n",
       "    "
      ],
      "text/plain": [
       "<IPython.core.display.Javascript object>"
      ]
     },
     "metadata": {},
     "output_type": "display_data"
    },
    {
     "data": {
      "application/javascript": [
       "\n",
       "    for( i=0; i < cy.io.selection.length; i++ ){\n",
       "        var ele = cy.io.selection[i]\n",
       "        var label_pos = 'center'\n",
       "        if( ele.isNode() ){\n",
       "            if( label_pos == 'center'  ){\n",
       "                cy.io.style.change( ele, ['text-halign','text-valign'], ['center','center'] )\n",
       "            }else if( label_pos=='top' || label_pos=='bottom'){\n",
       "                cy.io.style.change( ele, ['text-halign','text-valign'], ['center', label_pos] )                    \n",
       "            }else{\n",
       "                cy.io.style.change( ele, ['text-halign','text-valign'], [ label_pos, 'center'] )                \n",
       "            }\n",
       "        } \n",
       "    }\n",
       "    "
      ],
      "text/plain": [
       "<IPython.core.display.Javascript object>"
      ]
     },
     "metadata": {},
     "output_type": "display_data"
    },
    {
     "data": {
      "application/javascript": [
       "\n",
       "    for( i=0; i < cy.io.selection.length; i++ ){\n",
       "        var ele = cy.io.selection[i]\n",
       "        var label_pos = 'center'\n",
       "        if( ele.isNode() ){\n",
       "            if( label_pos == 'center'  ){\n",
       "                cy.io.style.change( ele, ['text-halign','text-valign'], ['center','center'] )\n",
       "            }else if( label_pos=='top' || label_pos=='bottom'){\n",
       "                cy.io.style.change( ele, ['text-halign','text-valign'], ['center', label_pos] )                    \n",
       "            }else{\n",
       "                cy.io.style.change( ele, ['text-halign','text-valign'], [ label_pos, 'center'] )                \n",
       "            }\n",
       "        } \n",
       "    }\n",
       "    "
      ],
      "text/plain": [
       "<IPython.core.display.Javascript object>"
      ]
     },
     "metadata": {},
     "output_type": "display_data"
    },
    {
     "data": {
      "application/javascript": [
       "\n",
       "    for( i=0; i < cy.io.selection.length; i++ ){\n",
       "        var ele = cy.io.selection[i]\n",
       "        var label_pos = 'top'\n",
       "        if( ele.isNode() ){\n",
       "            if( label_pos == 'center'  ){\n",
       "                cy.io.style.change( ele, ['text-halign','text-valign'], ['center','center'] )\n",
       "            }else if( label_pos=='top' || label_pos=='bottom'){\n",
       "                cy.io.style.change( ele, ['text-halign','text-valign'], ['center', label_pos] )                    \n",
       "            }else{\n",
       "                cy.io.style.change( ele, ['text-halign','text-valign'], [ label_pos, 'center'] )                \n",
       "            }\n",
       "        } \n",
       "    }\n",
       "    "
      ],
      "text/plain": [
       "<IPython.core.display.Javascript object>"
      ]
     },
     "metadata": {},
     "output_type": "display_data"
    },
    {
     "data": {
      "application/javascript": [
       "\n",
       "    for( i=0; i < cy.io.selection.length; i++ ){\n",
       "        var ele = cy.io.selection[i]\n",
       "        var label_pos = 'top'\n",
       "        if( ele.isNode() ){\n",
       "            if( label_pos == 'center'  ){\n",
       "                cy.io.style.change( ele, ['text-halign','text-valign'], ['center','center'] )\n",
       "            }else if( label_pos=='top' || label_pos=='bottom'){\n",
       "                cy.io.style.change( ele, ['text-halign','text-valign'], ['center', label_pos] )                    \n",
       "            }else{\n",
       "                cy.io.style.change( ele, ['text-halign','text-valign'], [ label_pos, 'center'] )                \n",
       "            }\n",
       "        } \n",
       "    }\n",
       "    "
      ],
      "text/plain": [
       "<IPython.core.display.Javascript object>"
      ]
     },
     "metadata": {},
     "output_type": "display_data"
    },
    {
     "data": {
      "application/javascript": [
       "\n",
       "    for( i=0; i < cy.io.selection.length; i++ ){\n",
       "        var ele = cy.io.selection[i]\n",
       "        var label_pos = 'top'\n",
       "        if( ele.isNode() ){\n",
       "            if( label_pos == 'center'  ){\n",
       "                cy.io.style.change( ele, ['text-halign','text-valign'], ['center','center'] )\n",
       "            }else if( label_pos=='top' || label_pos=='bottom'){\n",
       "                cy.io.style.change( ele, ['text-halign','text-valign'], ['center', label_pos] )                    \n",
       "            }else{\n",
       "                cy.io.style.change( ele, ['text-halign','text-valign'], [ label_pos, 'center'] )                \n",
       "            }\n",
       "        } \n",
       "    }\n",
       "    "
      ],
      "text/plain": [
       "<IPython.core.display.Javascript object>"
      ]
     },
     "metadata": {},
     "output_type": "display_data"
    }
   ],
   "source": [
    "Graph.w.label_pos = ipw.Dropdown( options=['center','top','bottom','left','right'] )\n",
    "Graph.w.label_pos"
   ]
  },
  {
   "cell_type": "code",
   "execution_count": 97,
   "metadata": {
    "hidden": true
   },
   "outputs": [],
   "source": [
    "def labelPos(b):\n",
    "    display(Javascript(\"\"\"\n",
    "    for( i=0; i < cy.io.selection.length; i++ ){\n",
    "        var ele = cy.io.selection[i]\n",
    "        var label_pos = '\"\"\"+Graph.w.label_pos.value+\"\"\"'\n",
    "        if( ele.isNode() ){\n",
    "            if( label_pos == 'center'  ){\n",
    "                cy.io.style.change( ele, ['text-halign','text-valign'], ['center','center'] )\n",
    "            }else if( label_pos=='top' || label_pos=='bottom'){\n",
    "                cy.io.style.change( ele, ['text-halign','text-valign'], ['center', label_pos] )                    \n",
    "            }else{\n",
    "                cy.io.style.change( ele, ['text-halign','text-valign'], [ label_pos, 'center'] )                \n",
    "            }\n",
    "        } \n",
    "    }\n",
    "    \"\"\"))           \n",
    "Graph.w.label_pos.observe( labelPos )"
   ]
  },
  {
   "cell_type": "markdown",
   "metadata": {
    "heading_collapsed": true
   },
   "source": [
    "## <font color=\"purple\">Edge</font> <font color=\"green\">Widgets</font> "
   ]
  },
  {
   "cell_type": "markdown",
   "metadata": {
    "heading_collapsed": true,
    "hidden": true
   },
   "source": [
    "### <font color=\"purple\">Edge Arrow Start</font> "
   ]
  },
  {
   "cell_type": "code",
   "execution_count": null,
   "metadata": {
    "hidden": true
   },
   "outputs": [],
   "source": [
    "Graph.w.start = ipw.Dropdown( options=['none','triangle','tee','diamond','square','circle','vee','triangle-tee'] )\n",
    "#Graph.w.start"
   ]
  },
  {
   "cell_type": "code",
   "execution_count": null,
   "metadata": {
    "hidden": true
   },
   "outputs": [],
   "source": [
    "def edgeStart(b):\n",
    "        JS(\"\"\"\n",
    "        for( i=0; i < cy.io.selection.length; i++ ){\n",
    "            var ele = cy.io.selection[i]\n",
    "            if( ele.isEdge() ){\n",
    "                ele.style( \"source-arrow-color\", ele.style(\"line-color\")  )\n",
    "                ele.style( \"source-arrow-shape\", '\"\"\"+Graph.w.start.value+\"\"\"' )\n",
    "            } \n",
    "        }\n",
    "        \"\"\")           \n",
    "Graph.w.start.observe( edgeStart )"
   ]
  },
  {
   "cell_type": "markdown",
   "metadata": {
    "heading_collapsed": true,
    "hidden": true
   },
   "source": [
    "### <font color=\"purple\">Edge Arrow End</font> "
   ]
  },
  {
   "cell_type": "code",
   "execution_count": null,
   "metadata": {
    "hidden": true
   },
   "outputs": [],
   "source": [
    "Graph.w.end = ipw.Dropdown( options=['none','triangle','tee','diamond','square','circle','vee','triangle-tee'] )\n",
    "#Graph.w.end"
   ]
  },
  {
   "cell_type": "code",
   "execution_count": null,
   "metadata": {
    "hidden": true
   },
   "outputs": [],
   "source": [
    "def edgeEnd(b):\n",
    "        JS(\"\"\"\n",
    "        for( i=0; i < cy.io.selection.length; i++ ){\n",
    "            var ele = cy.io.selection[i]\n",
    "            if( ele.isEdge() ){\n",
    "                ele.style( \"target-arrow-color\", ele.style(\"line-color\")  )\n",
    "                ele.style( \"target-arrow-shape\", '\"\"\"+Graph.w.end.value+\"\"\"' )\n",
    "            } \n",
    "        }\n",
    "        \"\"\")           \n",
    "Graph.w.end.observe( edgeEnd )"
   ]
  },
  {
   "cell_type": "markdown",
   "metadata": {
    "heading_collapsed": true,
    "hidden": true
   },
   "source": [
    "### <font color=\"purple\">Edge Line Style</font> "
   ]
  },
  {
   "cell_type": "code",
   "execution_count": null,
   "metadata": {
    "hidden": true
   },
   "outputs": [],
   "source": [
    "Graph.w.lineStyle = ipw.Dropdown( options=['solid','dotted','dashed'] )\n",
    "#Graph.w.lineStyle"
   ]
  },
  {
   "cell_type": "code",
   "execution_count": null,
   "metadata": {
    "hidden": true
   },
   "outputs": [],
   "source": [
    "def lineStyle(b):\n",
    "        JS(\"\"\"\n",
    "        for( i=0; i < cy.io.selection.length; i++ ){\n",
    "            var ele = cy.io.selection[i]\n",
    "            if( ele.isEdge() ){\n",
    "                ele.style( \"lineStyle\", '\"\"\"+Graph.w.lineStyle.value+\"\"\"' )\n",
    "            } \n",
    "        }\n",
    "        \"\"\")           \n",
    "Graph.w.lineStyle.observe( lineStyle )"
   ]
  },
  {
   "cell_type": "code",
   "execution_count": null,
   "metadata": {
    "hidden": true
   },
   "outputs": [],
   "source": []
  },
  {
   "cell_type": "markdown",
   "metadata": {},
   "source": [
    "## <font color=\"hotpink\">Variables</font>  <font color=\"green\">Widgets</font> "
   ]
  },
  {
   "cell_type": "markdown",
   "metadata": {},
   "source": [
    "**<font color=\"red\">IDEA :</font>** To \"hide\" widgets just change width's and heights, after changing visibility"
   ]
  },
  {
   "cell_type": "markdown",
   "metadata": {
    "heading_collapsed": true
   },
   "source": [
    "### <font color=\"hotpink\">Change ID</font>  <font color=\"red\">Not Implemented</font>"
   ]
  },
  {
   "cell_type": "code",
   "execution_count": null,
   "metadata": {
    "hidden": true
   },
   "outputs": [],
   "source": [
    "Graph.w.id = widgets.Text( description='ID :', continous_update = False  )#, continous_update = False )\n",
    "#Graph.w.id"
   ]
  },
  {
   "cell_type": "code",
   "execution_count": null,
   "metadata": {
    "hidden": true
   },
   "outputs": [],
   "source": [
    "def setId(b):\n",
    "    JS(\"\"\"\n",
    "    for( i=0; i < cy.io.selection.length; i++ ){\n",
    "        var ele = cy.io.selection[i]\n",
    "    }\n",
    "    \"\"\")           \n",
    "Graph.wf.setId = setId\n",
    "Graph.w.id.observe( Graph.wf.setId )"
   ]
  },
  {
   "cell_type": "markdown",
   "metadata": {},
   "source": [
    "### <font color=\"hotpink\">Create New  Variable</font> "
   ]
  },
  {
   "cell_type": "code",
   "execution_count": 873,
   "metadata": {
    "cell_style": "center"
   },
   "outputs": [
    {
     "data": {
      "application/vnd.jupyter.widget-view+json": {
       "model_id": "ffdeaa5ad3564a39b1fbb043d8e507b3",
       "version_major": 2,
       "version_minor": 0
      },
      "text/plain": [
       "HBox(children=(Select(layout=Layout(height='40px', min_width='50px', width='10%'), options=('Number', 'Text'),…"
      ]
     },
     "metadata": {},
     "output_type": "display_data"
    }
   ],
   "source": [
    "Graph.w.var_create_type= ipw.Select( options=['Number', 'Text'], value='Number', layout=ipw.Layout(width='10%',height='40px',min_width='50px') )\n",
    "Graph.w.var_create_text= ipw.Text(placeholder='Variable Name:')\n",
    "Graph.w.var_create_btn = ipw.Button( button_style='primary', description=\"Create\", layout= ipw.Layout(width='auto') )\n",
    "\n",
    "Graph.w.var_create = ipw.HBox([ Graph.w.var_create_type, Graph.w.var_create_text, Graph.w.var_create_btn ])\n",
    "Graph.w.var_create.layout.align_items = 'center'\n",
    "Graph.w.var_create"
   ]
  },
  {
   "cell_type": "code",
   "execution_count": 874,
   "metadata": {},
   "outputs": [],
   "source": [
    "def createVar(b):\n",
    "    if Graph.w.var_create_text.value not in Graph.w.vars.keys() and  Graph.w.var_create_text.value!='' :\n",
    "        Graph.w.vars[ Graph.w.var_create_text.value ] = Graph.w.var_create_type.value\n",
    "Graph.w.var_create_btn.on_click( createVar )"
   ]
  },
  {
   "cell_type": "markdown",
   "metadata": {},
   "source": [
    "### <font color=\"hotpink\">Show Variables</font> "
   ]
  },
  {
   "cell_type": "code",
   "execution_count": 861,
   "metadata": {},
   "outputs": [
    {
     "data": {
      "application/vnd.jupyter.widget-view+json": {
       "model_id": "4429aa2ec9ba4910b4df00a54703e867",
       "version_major": 2,
       "version_minor": 0
      },
      "text/plain": [
       "VBox()"
      ]
     },
     "metadata": {},
     "output_type": "display_data"
    }
   ],
   "source": [
    "Graph.w.varBox = ipw.VBox([])\n",
    "Graph.w.varBox"
   ]
  },
  {
   "cell_type": "code",
   "execution_count": 875,
   "metadata": {},
   "outputs": [],
   "source": [
    "#print(Graph.w.vars)\n",
    "Graph.w.varBox.vars = [] #<-- where we store list of varBox's labels"
   ]
  },
  {
   "cell_type": "markdown",
   "metadata": {},
   "source": [
    "We Create a way to add variables to the HBox"
   ]
  },
  {
   "cell_type": "code",
   "execution_count": 863,
   "metadata": {
    "code_folding": [
     0
    ]
   },
   "outputs": [],
   "source": [
    "def add(label, value):\n",
    "    Graph.w.varBox.vars.append( label ) #<-- labels follow same order as children of varBox\n",
    "    \n",
    "    # We create the row (HBox) that is added to the box of variables\n",
    "    var_label = ipw.HTML(\"<font size=3 style='justify-content: center;'>\"+label+\" : </font>\") \n",
    "    var_value = ipw.Text(value,continuous_update=True) if type(value)== type('') else ipw.FloatText(value,continuous_update=True)\n",
    "    var_btn   = ipw.Button( button_style='danger', description=\"Remove\", layout= ipw.Layout(width='auto') )\n",
    "    var = ipw.HBox([ var_label, var_value, var_btn ])\n",
    "    \n",
    "    # now we setup remove button\n",
    "    var_btn.label = label\n",
    "    def remove(b):\n",
    "        # Remove variable object from  varBox\n",
    "        child_idx = Graph.w.varBox.vars.index(b.label)  #<- index of child\n",
    "        Graph.w.varBox.vars.pop( child_idx )    #<-- remove label from varBox.vars\n",
    "        childs = list(Graph.w.varBox.children)\n",
    "        childs.pop( child_idx )\n",
    "        Graph.w.varBox.children = tuple(childs)\n",
    "        # remove data object from selected elments\n",
    "        display(Javascript(\"\"\"\n",
    "        for( var i=0; i < cy.io.selection.length; i++ ){\n",
    "            var ele = cy.io.selection[i]\n",
    "            ele.removeData('\"\"\"+b.label+\"\"\"')\n",
    "        }\n",
    "        \"\"\"))  \n",
    "    var_btn.on_click( remove )\n",
    "    \n",
    "    # add a Variable Updating Function\n",
    "    var_value.label = label\n",
    "    def update(change):\n",
    "        val =  \"'\"+change['new']+\"'\" if type(change['new'])== type('') else str(change['new'])\n",
    "        display(Javascript(\"\"\"\n",
    "        for( var i=0; i < cy.io.selection.length; i++ ){\n",
    "            var ele = cy.io.selection[i]\n",
    "            ele.data('\"\"\"+change['owner'].label+\"\"\"', \"\"\"+val+\"\"\" )\n",
    "        }\n",
    "        \"\"\"))\n",
    "    var_value.observe( update, names='value')        \n",
    "        \n",
    "    # Add the row to the varBox\n",
    "    Graph.w.varBox.children = Graph.w.varBox.children + (var,)\n",
    "    \n",
    "Graph.w.varBox.add = add  "
   ]
  },
  {
   "cell_type": "markdown",
   "metadata": {},
   "source": [
    "### <font color=\"hotpink\">Retreive Variables (from JS)</font> <font color=\"red\">Not Implemented</font>"
   ]
  },
  {
   "cell_type": "code",
   "execution_count": null,
   "metadata": {},
   "outputs": [],
   "source": [
    "JS(\"\"\"\n",
    "cy.io.getVars = function(event){\n",
    "    var selection = cy.$(':selected')\n",
    "    varsShow = []\n",
    "    for( var i=0; i < selection.length; i++ ){\n",
    "        var ele = selection[i]\n",
    "        var data = ele.data()\n",
    "        for( key in Object.keys(data) ){\n",
    "            if( !varsShow.includes(key) && !data[key]==undefined ){\n",
    "                varsShow.push( key )\n",
    "            }\n",
    "        }\n",
    "    }\n",
    "    \n",
    "\n",
    "\n",
    "};\n",
    "cy.on('select unselect', 'node, edge', cy.io.getVars )\n",
    "\"\"\")"
   ]
  },
  {
   "cell_type": "code",
   "execution_count": null,
   "metadata": {},
   "outputs": [],
   "source": []
  },
  {
   "cell_type": "code",
   "execution_count": null,
   "metadata": {},
   "outputs": [],
   "source": []
  },
  {
   "cell_type": "code",
   "execution_count": null,
   "metadata": {},
   "outputs": [],
   "source": [
    "\"\"\"\n",
    "cy.io.addNode = function(event){\n",
    "  if( event.target === cy ){                                                          // <-- If we tapped on the background\n",
    "      var ele = cy.add([ {  group: \"nodes\", position: event.position  } ]);          //<-- add node    \n",
    "      cy.io.style.set( ele )\n",
    "  }; \n",
    "};\n",
    "cy.on('tap', cy.io.addNode );\n",
    "\"\"\""
   ]
  },
  {
   "cell_type": "code",
   "execution_count": null,
   "metadata": {},
   "outputs": [],
   "source": [
    "JS(\" cy.on('select unselect', 'node, edge', function(event){ cy.io.selection= cy.$(':selected')  }); \")"
   ]
  },
  {
   "cell_type": "markdown",
   "metadata": {},
   "source": [
    "### <font color=\"hotpink\">Add Variable</font> <font color=\"red\">Add Show</font>"
   ]
  },
  {
   "cell_type": "code",
   "execution_count": 869,
   "metadata": {},
   "outputs": [
    {
     "data": {
      "application/vnd.jupyter.widget-view+json": {
       "model_id": "9f7f2bbe98514f1c98d0ae4de56eb42a",
       "version_major": 2,
       "version_minor": 0
      },
      "text/plain": [
       "HBox(children=(ToggleButton(value=False, button_style='success', icon='plus', layout=Layout(width='auto')), Dr…"
      ]
     },
     "metadata": {},
     "output_type": "display_data"
    }
   ],
   "source": [
    "Graph.w.var_add_start = ipw.ToggleButton( button_style='success', icon=\"plus\", layout= ipw.Layout(width='auto') )\n",
    "Graph.w.var_add_name = ipw.Dropdown( options=Graph.w.vars, layout= ipw.Layout(width='10%') )\n",
    "Graph.w.var_add_text = ipw.Text()\n",
    "Graph.w.var_add_num  = ipw.FloatText()\n",
    "Graph.w.var_add_btn = ipw.Button( button_style='primary', description=\"Add\", layout= ipw.Layout(width='auto') )\n",
    "Graph.w.var_add_error = ipw.HTML(\"<h4 class='text-danger'>Empty Text</h4>\", layout= ipw.Layout(visibility='hidden') )\n",
    "\n",
    "Graph.w.var_add = ipw.HBox([ Graph.w.var_add_start, Graph.w.var_add_name, Graph.w.var_add_text, Graph.w.var_add_num,\n",
    "                             Graph.w.var_add_btn, Graph.w.var_add_error  ])\n",
    "Graph.w.var_add.layout.align_items = 'center'\n",
    "\n",
    "for w in Graph.w.var_add.children[1:-1] :  #<-- hides all boxes except \"start button\" and \"error box\" (error box already hidden)\n",
    "    w.layout.display = \"none\" # <--  Other choice is: None\n",
    "Graph.w.var_add"
   ]
  },
  {
   "cell_type": "code",
   "execution_count": 870,
   "metadata": {},
   "outputs": [],
   "source": [
    "def setVarName(b):\n",
    "    # TO DO: var_add_name should only display variables that are not already set\n",
    "    \n",
    "    val = Graph.w.var_add_name.value \n",
    "    if Graph.w.var_add_name.value  == 'Number':\n",
    "        Graph.w.var_add_text.layout.display = \"none\"\n",
    "        Graph.w.var_add_num.layout.display = None\n",
    "    else:\n",
    "        Graph.w.var_add_text.layout.display = None\n",
    "        Graph.w.var_add_num.layout.display = \"none\"\n",
    "        \n",
    "    Graph.w.var_add_btn.layout.display = None\n",
    "    \n",
    "Graph.w.var_add_name.observe( setVarName )"
   ]
  },
  {
   "cell_type": "code",
   "execution_count": 871,
   "metadata": {},
   "outputs": [],
   "source": [
    "def addVarStart(b):\n",
    "    if Graph.w.var_add_start.value :  #<-- when activated\n",
    "        Graph.w.var_add_start.icon = \"minus\"\n",
    "        Graph.w.var_add_start.button_style = \"danger\"\n",
    "        Graph.w.var_add_name.layout.display = None\n",
    "        Graph.wf.setVarName(\"dummy\")\n",
    "    else:                             #<-- when deactivated\n",
    "        Graph.w.var_add_start.icon = \"plus\"\n",
    "        Graph.w.var_add_start.button_style = \"success\"\n",
    "        for w in reversed(Graph.w.var_add.children[1:-1]) :  #<-- hides elements, used \"reversed\" because it looks better when hiding\n",
    "            w.layout.display = \"none\"\n",
    "        # Reset Boxes\n",
    "        Graph.w.var_add_text.value=''; Graph.w.var_add_num.value=0; Graph.w.var_add_error.layout.visibility='hidden'\n",
    "        \n",
    "Graph.w.var_add_start.observe( addVarStart )"
   ]
  },
  {
   "cell_type": "code",
   "execution_count": 872,
   "metadata": {},
   "outputs": [],
   "source": [
    "def addVar(b):\n",
    "    \n",
    "    if Graph.w.var_add_text.value=='' and Graph.w.var_add_name.value=='Text' : #<-- if user didn't write anything, stop function\n",
    "        Graph.w.var_add_error.layout.visibility = 'visible'\n",
    "        return  \n",
    "    val = Graph.w.var_add_text.value if Graph.w.var_add_name.value=='Text' else Graph.w.var_add_num.value\n",
    "    val_js = \"'\"+val+\"'\" if Graph.w.var_add_name.value=='Text' else str(val)\n",
    "\n",
    "    display(Javascript(\"\"\"\n",
    "    for(var i=0; i < cy.io.selection.length; i++ ){\n",
    "        var ele = cy.io.selection[i]\n",
    "        ele.data( '\"\"\"+Graph.w.var_add_name.label+\"\"\"', \"\"\"+val_js+\"\"\" )\n",
    "    }\n",
    "    \"\"\"))\n",
    "    \n",
    "    Graph.w.varBox.add( Graph.w.var_add_name.label, val )\n",
    "\n",
    "Graph.w.var_add_btn.on_click( addVar )"
   ]
  },
  {
   "cell_type": "markdown",
   "metadata": {
    "heading_collapsed": true
   },
   "source": [
    "# <font color=\"orchid\">Display Box</font>\n",
    "\n",
    "Here we take the prviously created <font color=\"green\">widgets</font> and we group them rogether into a pretty box."
   ]
  },
  {
   "cell_type": "code",
   "execution_count": null,
   "metadata": {
    "hidden": true
   },
   "outputs": [],
   "source": [
    "Graph.box = type(\"box\",(),{})()"
   ]
  },
  {
   "cell_type": "markdown",
   "metadata": {
    "hidden": true
   },
   "source": [
    "**Padding : ** \\[ top/ right/ bottom/ left \\]"
   ]
  },
  {
   "cell_type": "code",
   "execution_count": null,
   "metadata": {
    "hidden": true
   },
   "outputs": [],
   "source": []
  },
  {
   "cell_type": "markdown",
   "metadata": {
    "heading_collapsed": true,
    "hidden": true
   },
   "source": [
    "## Style Box"
   ]
  },
  {
   "cell_type": "markdown",
   "metadata": {
    "hidden": true
   },
   "source": [
    "We add some style/layout properties to the widgets we will use in the style box"
   ]
  },
  {
   "cell_type": "code",
   "execution_count": null,
   "metadata": {
    "hidden": true
   },
   "outputs": [],
   "source": [
    "Graph.box.color = ipw.HBox([ ipw.Label('Color :'), Graph.w.color, \n",
    "                            ipw.Label('    '), Graph.w.background ])"
   ]
  },
  {
   "cell_type": "code",
   "execution_count": null,
   "metadata": {
    "hidden": true
   },
   "outputs": [],
   "source": [
    "Graph.box.size = ipw.HBox([ipw.Label('Size :'), Graph.w.size ])"
   ]
  },
  {
   "cell_type": "code",
   "execution_count": 119,
   "metadata": {
    "hidden": true
   },
   "outputs": [
    {
     "ename": "AttributeError",
     "evalue": "'widget_list' object has no attribute 'shape'",
     "output_type": "error",
     "traceback": [
      "\u001b[0;31m---------------------------------------------------------------------------\u001b[0m",
      "\u001b[0;31mAttributeError\u001b[0m                            Traceback (most recent call last)",
      "\u001b[0;32m<ipython-input-119-387d4354517d>\u001b[0m in \u001b[0;36m<module>\u001b[0;34m()\u001b[0m\n\u001b[0;32m----> 1\u001b[0;31m \u001b[0mGraph\u001b[0m\u001b[0;34m.\u001b[0m\u001b[0mbox\u001b[0m\u001b[0;34m.\u001b[0m\u001b[0mshape\u001b[0m \u001b[0;34m=\u001b[0m \u001b[0mipw\u001b[0m\u001b[0;34m.\u001b[0m\u001b[0mHBox\u001b[0m\u001b[0;34m(\u001b[0m\u001b[0;34m[\u001b[0m\u001b[0mipw\u001b[0m\u001b[0;34m.\u001b[0m\u001b[0mLabel\u001b[0m\u001b[0;34m(\u001b[0m\u001b[0;34m'Shape :'\u001b[0m\u001b[0;34m)\u001b[0m\u001b[0;34m,\u001b[0m \u001b[0mGraph\u001b[0m\u001b[0;34m.\u001b[0m\u001b[0mw\u001b[0m\u001b[0;34m.\u001b[0m\u001b[0mshape\u001b[0m \u001b[0;34m]\u001b[0m\u001b[0;34m)\u001b[0m\u001b[0;34m\u001b[0m\u001b[0m\n\u001b[0m\u001b[1;32m      2\u001b[0m \u001b[0mGraph\u001b[0m\u001b[0;34m.\u001b[0m\u001b[0mbox\u001b[0m\u001b[0;34m.\u001b[0m\u001b[0mshape\u001b[0m\u001b[0;34m.\u001b[0m\u001b[0mlayout\u001b[0m\u001b[0;34m.\u001b[0m\u001b[0mpadding\u001b[0m \u001b[0;34m=\u001b[0m \u001b[0;34m'10px 0px 0px 0px'\u001b[0m\u001b[0;34m\u001b[0m\u001b[0m\n",
      "\u001b[0;31mAttributeError\u001b[0m: 'widget_list' object has no attribute 'shape'"
     ]
    }
   ],
   "source": [
    "Graph.box.shape = ipw.HBox([ipw.Label('Shape :'), Graph.w.shape ])\n",
    "Graph.box.shape.layout.padding = '10px 0px 0px 0px'"
   ]
  },
  {
   "cell_type": "code",
   "execution_count": null,
   "metadata": {
    "hidden": true
   },
   "outputs": [],
   "source": [
    "Graph.box.lineStyle = ipw.HBox([ipw.Label('Line Style :'), Graph.w.lineStyle ])\n",
    "Graph.box.lineStyle.layout.padding = '10px 0px 0px 0px'"
   ]
  },
  {
   "cell_type": "code",
   "execution_count": null,
   "metadata": {
    "hidden": true
   },
   "outputs": [],
   "source": [
    "Graph.box.opacity = ipw.HBox([ipw.Label('See-Through :'), Graph.w.opacity ])\n",
    "Graph.box.opacity.layout.padding = '10px 0px 0px 0px'"
   ]
  },
  {
   "cell_type": "code",
   "execution_count": null,
   "metadata": {
    "hidden": true
   },
   "outputs": [],
   "source": [
    "Graph.box.edge_start = ipw.HBox([ipw.Label('Edge Start :'), Graph.w.start ])\n",
    "Graph.box.edge_start.layout.padding = '10px 0px 0px 0px'"
   ]
  },
  {
   "cell_type": "code",
   "execution_count": null,
   "metadata": {
    "hidden": true
   },
   "outputs": [],
   "source": [
    "Graph.box.edge_end = ipw.HBox([ipw.Label('Edge End :'), Graph.w.end ])\n",
    "Graph.box.edge_end.layout.padding = '10px 0px 0px 0px'"
   ]
  },
  {
   "cell_type": "code",
   "execution_count": null,
   "metadata": {
    "hidden": true
   },
   "outputs": [],
   "source": [
    "Graph.box.z_index = ipw.HBox([ipw.Label('Behind/In-Front :'), Graph.w.z_index ])\n",
    "Graph.box.z_index.layout.padding = '10px 0px 0px 0px'"
   ]
  },
  {
   "cell_type": "markdown",
   "metadata": {
    "hidden": true
   },
   "source": [
    "Now we create the style box"
   ]
  },
  {
   "cell_type": "code",
   "execution_count": null,
   "metadata": {
    "hidden": true
   },
   "outputs": [],
   "source": [
    "Graph.box.style = ipw.VBox([Graph.box.size,\n",
    "                            Graph.box.color,\n",
    "                            Graph.box.opacity,\n",
    "                            Graph.box.shape,\n",
    "                            Graph.box.lineStyle,\n",
    "                            Graph.box.edge_start,\n",
    "                            Graph.box.edge_end,\n",
    "                            Graph.box.z_index,\n",
    "                           ])\n",
    "#Graph.box.style"
   ]
  },
  {
   "cell_type": "code",
   "execution_count": null,
   "metadata": {
    "cell_style": "split",
    "hidden": true,
    "scrolled": true
   },
   "outputs": [],
   "source": []
  },
  {
   "cell_type": "code",
   "execution_count": null,
   "metadata": {
    "hidden": true
   },
   "outputs": [],
   "source": []
  },
  {
   "cell_type": "code",
   "execution_count": null,
   "metadata": {
    "hidden": true
   },
   "outputs": [],
   "source": []
  },
  {
   "cell_type": "markdown",
   "metadata": {
    "heading_collapsed": true,
    "hidden": true
   },
   "source": [
    "## Label Box"
   ]
  },
  {
   "cell_type": "markdown",
   "metadata": {
    "hidden": true
   },
   "source": [
    "We add some style/layout properties to the widgets we will use in the label box"
   ]
  },
  {
   "cell_type": "code",
   "execution_count": null,
   "metadata": {
    "hidden": true
   },
   "outputs": [],
   "source": [
    "Graph.box.label_text = ipw.HBox([ipw.Label('Text :'), Graph.w.label ])"
   ]
  },
  {
   "cell_type": "code",
   "execution_count": null,
   "metadata": {
    "hidden": true
   },
   "outputs": [],
   "source": [
    "Graph.box.label_color = ipw.HBox([ipw.Label('Color :'), Graph.w.label_color ])"
   ]
  },
  {
   "cell_type": "code",
   "execution_count": null,
   "metadata": {
    "hidden": true
   },
   "outputs": [],
   "source": [
    "Graph.box.label_size = ipw.HBox([ipw.Label('Size :'), Graph.w.label_size ])\n",
    "Graph.box.shape.layout.padding = '10px 0px 0px 0px'"
   ]
  },
  {
   "cell_type": "code",
   "execution_count": null,
   "metadata": {
    "hidden": true
   },
   "outputs": [],
   "source": [
    "Graph.box.label_pos = ipw.HBox([ipw.Label('Position :'), Graph.w.label_pos ])\n",
    "Graph.box.label_pos.layout.padding = '10px 0px 0px 0px'"
   ]
  },
  {
   "cell_type": "markdown",
   "metadata": {
    "hidden": true
   },
   "source": [
    "Create the label box"
   ]
  },
  {
   "cell_type": "code",
   "execution_count": null,
   "metadata": {
    "cell_style": "split",
    "hidden": true
   },
   "outputs": [],
   "source": [
    "Graph.box.label = ipw.VBox([Graph.box.label_text,\n",
    "                            ipw.HTML(\"<hr style='padding: 2px; margin: 2px'>\"),\n",
    "                            Graph.box.label_color,\n",
    "                            Graph.box.label_size,\n",
    "                            Graph.box.label_pos,\n",
    "                           ])\n",
    "#Graph.box.label"
   ]
  },
  {
   "cell_type": "markdown",
   "metadata": {
    "heading_collapsed": true,
    "hidden": true
   },
   "source": [
    "## Variables Box"
   ]
  },
  {
   "cell_type": "code",
   "execution_count": null,
   "metadata": {
    "hidden": true
   },
   "outputs": [],
   "source": [
    "Graph.box.vars = ipw.HTML(\"<h4>Not implemented yet</h4>\")"
   ]
  },
  {
   "cell_type": "markdown",
   "metadata": {
    "heading_collapsed": true,
    "hidden": true
   },
   "source": [
    "## Combine Style, Label, Variables"
   ]
  },
  {
   "cell_type": "code",
   "execution_count": null,
   "metadata": {
    "cell_style": "center",
    "hidden": true,
    "scrolled": true
   },
   "outputs": [],
   "source": [
    "Graph.box.combo = widgets.Accordion(children=[ Graph.box.style ,Graph.box.label, Graph.box.vars])\n",
    "Graph.box.combo.set_title(0, 'Style')\n",
    "Graph.box.combo.set_title(1, 'Label')\n",
    "Graph.box.combo.set_title(2, 'Variables')\n",
    "#Graph.box.combo"
   ]
  },
  {
   "cell_type": "code",
   "execution_count": null,
   "metadata": {
    "hidden": true
   },
   "outputs": [],
   "source": []
  },
  {
   "cell_type": "code",
   "execution_count": null,
   "metadata": {
    "hidden": true
   },
   "outputs": [],
   "source": []
  },
  {
   "cell_type": "markdown",
   "metadata": {
    "heading_collapsed": true,
    "hidden": true
   },
   "source": [
    "## End Box"
   ]
  },
  {
   "cell_type": "code",
   "execution_count": null,
   "metadata": {
    "cell_style": "center",
    "hidden": true
   },
   "outputs": [],
   "source": [
    "Graph.box.search = ipw.HBox([ Graph.w.search, Graph.w.searchSelect, ipw.HTML(\"<p>&nbsp&nbsp&nbsp&nbsp&nbsp</p>\") ])\n",
    "Graph.box.search.layout.justify_content = \"center\"\n",
    "Graph.box.search.layout.padding = '10px 0px 0px 0px'\n",
    "#Graph.box.search"
   ]
  },
  {
   "cell_type": "code",
   "execution_count": null,
   "metadata": {
    "cell_style": "center",
    "hidden": true
   },
   "outputs": [],
   "source": [
    "Graph.box.delete = ipw.HBox([ Graph.w.delete, Graph.w.undo ] )\n",
    "Graph.box.delete.layout.justify_content = \"center\"\n",
    "Graph.box.delete.layout.padding = '10px 0px 0px 0px'\n",
    "#Graph.box.delete"
   ]
  },
  {
   "cell_type": "code",
   "execution_count": null,
   "metadata": {
    "cell_style": "split",
    "hidden": true
   },
   "outputs": [],
   "source": [
    "Graph.box.end = ipw.VBox([Graph.box.search, \n",
    "                          Graph.box.delete ])\n",
    "#Graph.box.end"
   ]
  },
  {
   "cell_type": "markdown",
   "metadata": {
    "heading_collapsed": true,
    "hidden": true
   },
   "source": [
    "## Box of Everything"
   ]
  },
  {
   "cell_type": "code",
   "execution_count": null,
   "metadata": {
    "cell_style": "split",
    "hidden": true,
    "scrolled": false
   },
   "outputs": [],
   "source": [
    "Graph.box.all = ipw.VBox([ Graph.box.combo,\n",
    "                           Graph.box.end])\n",
    "#Graph.box.all"
   ]
  },
  {
   "cell_type": "code",
   "execution_count": null,
   "metadata": {
    "hidden": true
   },
   "outputs": [],
   "source": []
  },
  {
   "cell_type": "code",
   "execution_count": null,
   "metadata": {
    "hidden": true
   },
   "outputs": [],
   "source": []
  },
  {
   "cell_type": "code",
   "execution_count": null,
   "metadata": {
    "hidden": true
   },
   "outputs": [],
   "source": []
  },
  {
   "cell_type": "markdown",
   "metadata": {
    "heading_collapsed": true,
    "hidden": true
   },
   "source": [
    "## <font color=\"orange\">editSelector</font>\n",
    "\n",
    "<font color=\"orange\">editSelector</font> decides what widgets are displayed inside of the editor box *(\"My Edit Box\")*. What's displayed depends on if there are 1/many of node/edges/both."
   ]
  },
  {
   "cell_type": "code",
   "execution_count": null,
   "metadata": {
    "hidden": true
   },
   "outputs": [],
   "source": [
    "JS(\"\"\"\n",
    "    var check = 0;\n",
    "    var check_var;\n",
    "    cy.io.select_type = \"nothing\"\n",
    "\n",
    "\n",
    "    cy.io.test = function(event){\n",
    "        cy.$(':selected') = cy.$(':selected')                 //<-- Get selected elements\n",
    "        cy.io.last_type = cy.io.select_type\n",
    "\n",
    "        if( cy.$(':selected').length == 0  ){                 //<-- Do nothing if nothing's selected\n",
    "            return\n",
    "        }\n",
    "        if( cy.$(':selected').length == 1 ){                  //<-- If selection lenght is 1\n",
    "            //DEBUG py.execute(\"Graph.w.id.value = '\"++\"'\")  //<- put selectors ID in box\n",
    "\n",
    "            if( cy.$(':selected').isNode() && cy.io.last_type != \"1 node\" ){                      //<-- If it's a node\n",
    "                cy.io.select_type = \"1 node\"\n",
    "                //DEBUG py.execute(\"Graph.editor_box.widg = Graph.box.show('1 node')\")\n",
    "                IPython.notebook.execute_cells([edit_num])  //<-- edit_num was setup by the Graph.editor_box \n",
    "            }\n",
    "            if( cy.$(':selected').isEdge() &&  cy.io.last_type != \"1 edge\" ){                     //<-- If it's an edge\n",
    "                cy.io.select_type = \"1 edge\"\n",
    "                //DEBUG py.execute(\"Graph.editor_box.widg = Graph.box.show('1 edge')\")\n",
    "                IPython.notebook.execute_cells([edit_num])  //<-- edit_num was setup by the Graph.editor_box\n",
    "            }\n",
    "\n",
    "        } else {                                           //<-- If Many elements\n",
    "            console.log(\"many items\")\n",
    "        }\n",
    "\n",
    "    };\n",
    "\n",
    "    cy.on('select unselect', 'node, edge', cy.io.test );\n",
    "\"\"\")"
   ]
  },
  {
   "cell_type": "markdown",
   "metadata": {
    "heading_collapsed": true,
    "hidden": true
   },
   "source": [
    "## Display Box"
   ]
  },
  {
   "cell_type": "code",
   "execution_count": null,
   "metadata": {
    "hidden": true
   },
   "outputs": [],
   "source": [
    "\n",
    "#Graph.editor_box = JupyterCell(\"My Edit Box\", \"edit_num\")\n",
    "#Graph.editor_box.widg = ipw.HTML(\"<h5> </h5>\") #<-- widget initially empty\n",
    "#Graph.editor_box.execute()\n"
   ]
  },
  {
   "cell_type": "code",
   "execution_count": null,
   "metadata": {
    "hidden": true
   },
   "outputs": [],
   "source": []
  },
  {
   "cell_type": "markdown",
   "metadata": {},
   "source": [
    "# Visualize (Mock Setup)"
   ]
  },
  {
   "cell_type": "code",
   "execution_count": null,
   "metadata": {
    "cell_style": "split",
    "scrolled": false
   },
   "outputs": [],
   "source": [
    "# My Edit Box\n",
    "display( Graph.box.all )\n",
    "\n"
   ]
  },
  {
   "cell_type": "code",
   "execution_count": 761,
   "metadata": {
    "cell_style": "split",
    "scrolled": false
   },
   "outputs": [
    {
     "data": {
      "text/html": [
       "<style> .cy { width: 50vw; height: 30vw}</style>   //DEBUG: made width 50vw\n",
       "                <div id=\"cy\" class=\"cy\"></div>"
      ],
      "text/plain": [
       "<IPython.core.display.HTML object>"
      ]
     },
     "metadata": {},
     "output_type": "display_data"
    }
   ],
   "source": [
    "# My Canvas Box\n",
    "display(HTML(\"\"\"<style> .cy { width: 50vw; height: 30vw}</style>   //DEBUG: made width 50vw\n",
    "                <div id=\"cy\" class=\"cy\"></div>\"\"\"))"
   ]
  },
  {
   "cell_type": "markdown",
   "metadata": {},
   "source": [
    "# Scratch Paper"
   ]
  },
  {
   "cell_type": "code",
   "execution_count": null,
   "metadata": {},
   "outputs": [],
   "source": [
    "# DEBUG: Remove Listeners\n",
    "JS(\"\"\"\n",
    "//cy.removeListener('tap', handler);\n",
    "//cy.removeListener( \"click\" ) \n",
    "//cy.removeListener( \"tap\" )\n",
    "//cy.removeListener( \"select\" )\n",
    "//cy.removeListener( \"unselect\" )\n",
    "\"\"\")"
   ]
  },
  {
   "cell_type": "code",
   "execution_count": null,
   "metadata": {},
   "outputs": [],
   "source": [
    "JS(\"\"\"\n",
    "    var check = 0;\n",
    "    var check_var;\n",
    "\n",
    "    cy.io.test = function(event){\n",
    "        cy.$(':selected') = cy.$(':selected')\n",
    "        \n",
    "        check += 1\n",
    "        console.log( String(check) +\": selection changed\")\n",
    "        check_var = \n",
    "        cehck_var2 = event\n",
    "    };\n",
    "\n",
    "    cy.on('select unselect', 'node, edge', cy.io.test );\n",
    "\"\"\")\n"
   ]
  },
  {
   "cell_type": "code",
   "execution_count": 688,
   "metadata": {},
   "outputs": [
    {
     "name": "stdout",
     "output_type": "stream",
     "text": [
      "class interactive(VBox):\n",
      "    \"\"\"\n",
      "    A VBox container containing a group of interactive widgets tied to a\n",
      "    function.\n",
      "\n",
      "    Parameters\n",
      "    ----------\n",
      "    __interact_f : function\n",
      "        The function to which the interactive widgets are tied. The `**kwargs`\n",
      "        should match the function signature.\n",
      "    __options : dict\n",
      "        A dict of options. Currently, the only supported keys are\n",
      "        ``\"manual\"`` and ``\"manual_name\"``.\n",
      "    **kwargs : various, optional\n",
      "        An interactive widget is created for each keyword argument that is a\n",
      "        valid widget abbreviation.\n",
      "\n",
      "    Note that the first two parameters intentionally start with a double\n",
      "    underscore to avoid being mixed up with keyword arguments passed by\n",
      "    ``**kwargs``.\n",
      "    \"\"\"\n",
      "    def __init__(self, __interact_f, __options={}, **kwargs):\n",
      "        VBox.__init__(self, _dom_classes=['widget-interact'])\n",
      "        self.result = None\n",
      "        self.args = []\n",
      "        self.kwargs = {}\n",
      "\n",
      "        self.f = f = __interact_f\n",
      "        self.clear_output = kwargs.pop('clear_output', True)\n",
      "        self.manual = __options.get(\"manual\", False)\n",
      "        self.manual_name = __options.get(\"manual_name\", \"Run Interact\")\n",
      "        self.auto_display = __options.get(\"auto_display\", False)\n",
      "\n",
      "        new_kwargs = self.find_abbreviations(kwargs)\n",
      "        # Before we proceed, let's make sure that the user has passed a set of args+kwargs\n",
      "        # that will lead to a valid call of the function. This protects against unspecified\n",
      "        # and doubly-specified arguments.\n",
      "        try:\n",
      "            check_argspec(f)\n",
      "        except TypeError:\n",
      "            # if we can't inspect, we can't validate\n",
      "            pass\n",
      "        else:\n",
      "            getcallargs(f, **{n:v for n,v,_ in new_kwargs})\n",
      "        # Now build the widgets from the abbreviations.\n",
      "        self.kwargs_widgets = self.widgets_from_abbreviations(new_kwargs)\n",
      "\n",
      "        # This has to be done as an assignment, not using self.children.append,\n",
      "        # so that traitlets notices the update. We skip any objects (such as fixed) that\n",
      "        # are not DOMWidgets.\n",
      "        c = [w for w in self.kwargs_widgets if isinstance(w, DOMWidget)]\n",
      "\n",
      "        # If we are only to run the function on demand, add a button to request this.\n",
      "        if self.manual:\n",
      "            self.manual_button = Button(description=self.manual_name)\n",
      "            c.append(self.manual_button)\n",
      "\n",
      "        self.out = Output()\n",
      "        c.append(self.out)\n",
      "        self.children = c\n",
      "\n",
      "        # Wire up the widgets\n",
      "        # If we are doing manual running, the callback is only triggered by the button\n",
      "        # Otherwise, it is triggered for every trait change received\n",
      "        # On-demand running also suppresses running the function with the initial parameters\n",
      "        if self.manual:\n",
      "            self.manual_button.on_click(self.update)\n",
      "\n",
      "            # Also register input handlers on text areas, so the user can hit return to\n",
      "            # invoke execution.\n",
      "            for w in self.kwargs_widgets:\n",
      "                if isinstance(w, Text):\n",
      "                    w.on_submit(self.update)\n",
      "        else:\n",
      "            for widget in self.kwargs_widgets:\n",
      "                widget.observe(self.update, names='value')\n",
      "\n",
      "            self.on_displayed(self.update)\n",
      "\n",
      "    # Callback function\n",
      "    def update(self, *args):\n",
      "        \"\"\"\n",
      "        Call the interact function and update the output widget with\n",
      "        the result of the function call.\n",
      "\n",
      "        Parameters\n",
      "        ----------\n",
      "        *args : ignored\n",
      "            Required for this method to be used as traitlets callback.\n",
      "        \"\"\"\n",
      "        self.kwargs = {}\n",
      "        if self.manual:\n",
      "            self.manual_button.disabled = True\n",
      "        try:\n",
      "            show_inline_matplotlib_plots()\n",
      "            with self.out:\n",
      "                if self.clear_output:\n",
      "                    clear_output(wait=True)\n",
      "                for widget in self.kwargs_widgets:\n",
      "                    value = widget.get_interact_value()\n",
      "                    self.kwargs[widget._kwarg] = value\n",
      "                self.result = self.f(**self.kwargs)\n",
      "                show_inline_matplotlib_plots()\n",
      "                if self.auto_display and self.result is not None:\n",
      "                    display(self.result)\n",
      "        except Exception as e:\n",
      "            ip = get_ipython()\n",
      "            if ip is None:\n",
      "                self.log.warn(\"Exception in interact callback: %s\", e, exc_info=True)\n",
      "            else:\n",
      "                ip.showtraceback()\n",
      "        finally:\n",
      "            if self.manual:\n",
      "                self.manual_button.disabled = False\n",
      "\n",
      "    # Find abbreviations\n",
      "    def signature(self):\n",
      "        return signature(self.f)\n",
      "\n",
      "    def find_abbreviations(self, kwargs):\n",
      "        \"\"\"Find the abbreviations for the given function and kwargs.\n",
      "        Return (name, abbrev, default) tuples.\n",
      "        \"\"\"\n",
      "        new_kwargs = []\n",
      "        try:\n",
      "            sig = self.signature()\n",
      "        except (ValueError, TypeError):\n",
      "            # can't inspect, no info from function; only use kwargs\n",
      "            return [ (key, value, value) for key, value in kwargs.items() ]\n",
      "\n",
      "        for param in sig.parameters.values():\n",
      "            for name, value, default in _yield_abbreviations_for_parameter(param, kwargs):\n",
      "                if value is empty:\n",
      "                    raise ValueError('cannot find widget or abbreviation for argument: {!r}'.format(name))\n",
      "                new_kwargs.append((name, value, default))\n",
      "        return new_kwargs\n",
      "\n",
      "    # Abbreviations to widgets\n",
      "    def widgets_from_abbreviations(self, seq):\n",
      "        \"\"\"Given a sequence of (name, abbrev, default) tuples, return a sequence of Widgets.\"\"\"\n",
      "        result = []\n",
      "        for name, abbrev, default in seq:\n",
      "            widget = self.widget_from_abbrev(abbrev, default)\n",
      "            if not (isinstance(widget, ValueWidget) or isinstance(widget, fixed)):\n",
      "                if widget is None:\n",
      "                    raise ValueError(\"{!r} cannot be transformed to a widget\".format(abbrev))\n",
      "                else:\n",
      "                    raise TypeError(\"{!r} is not a ValueWidget\".format(widget))\n",
      "            if not widget.description:\n",
      "                widget.description = name\n",
      "            widget._kwarg = name\n",
      "            result.append(widget)\n",
      "        return result\n",
      "\n",
      "    @classmethod\n",
      "    def widget_from_abbrev(cls, abbrev, default=empty):\n",
      "        \"\"\"Build a ValueWidget instance given an abbreviation or Widget.\"\"\"\n",
      "        if isinstance(abbrev, ValueWidget) or isinstance(abbrev, fixed):\n",
      "            return abbrev\n",
      "\n",
      "        if isinstance(abbrev, tuple):\n",
      "            widget = cls.widget_from_tuple(abbrev)\n",
      "            if default is not empty:\n",
      "                try:\n",
      "                    widget.value = default\n",
      "                except Exception:\n",
      "                    # ignore failure to set default\n",
      "                    pass\n",
      "            return widget\n",
      "\n",
      "        # Try single value\n",
      "        widget = cls.widget_from_single_value(abbrev)\n",
      "        if widget is not None:\n",
      "            return widget\n",
      "\n",
      "        # Something iterable (list, dict, generator, ...). Note that str and\n",
      "        # tuple should be handled before, that is why we check this case last.\n",
      "        if isinstance(abbrev, Iterable):\n",
      "            widget = cls.widget_from_iterable(abbrev)\n",
      "            if default is not empty:\n",
      "                try:\n",
      "                    widget.value = default\n",
      "                except Exception:\n",
      "                    # ignore failure to set default\n",
      "                    pass\n",
      "            return widget\n",
      "\n",
      "        # No idea...\n",
      "        return None\n",
      "\n",
      "    @staticmethod\n",
      "    def widget_from_single_value(o):\n",
      "        \"\"\"Make widgets from single values, which can be used as parameter defaults.\"\"\"\n",
      "        if isinstance(o, string_types):\n",
      "            return Text(value=unicode_type(o))\n",
      "        elif isinstance(o, bool):\n",
      "            return Checkbox(value=o)\n",
      "        elif isinstance(o, Integral):\n",
      "            min, max, value = _get_min_max_value(None, None, o)\n",
      "            return IntSlider(value=o, min=min, max=max)\n",
      "        elif isinstance(o, Real):\n",
      "            min, max, value = _get_min_max_value(None, None, o)\n",
      "            return FloatSlider(value=o, min=min, max=max)\n",
      "        else:\n",
      "            return None\n",
      "\n",
      "    @staticmethod\n",
      "    def widget_from_tuple(o):\n",
      "        \"\"\"Make widgets from a tuple abbreviation.\"\"\"\n",
      "        if _matches(o, (Real, Real)):\n",
      "            min, max, value = _get_min_max_value(o[0], o[1])\n",
      "            if all(isinstance(_, Integral) for _ in o):\n",
      "                cls = IntSlider\n",
      "            else:\n",
      "                cls = FloatSlider\n",
      "            return cls(value=value, min=min, max=max)\n",
      "        elif _matches(o, (Real, Real, Real)):\n",
      "            step = o[2]\n",
      "            if step <= 0:\n",
      "                raise ValueError(\"step must be >= 0, not %r\" % step)\n",
      "            min, max, value = _get_min_max_value(o[0], o[1], step=step)\n",
      "            if all(isinstance(_, Integral) for _ in o):\n",
      "                cls = IntSlider\n",
      "            else:\n",
      "                cls = FloatSlider\n",
      "            return cls(value=value, min=min, max=max, step=step)\n",
      "\n",
      "    @staticmethod\n",
      "    def widget_from_iterable(o):\n",
      "        \"\"\"Make widgets from an iterable. This should not be done for\n",
      "        a string or tuple.\"\"\"\n",
      "        # Dropdown expects a dict or list, so we convert an arbitrary\n",
      "        # iterable to either of those.\n",
      "        if isinstance(o, (list, dict)):\n",
      "            return Dropdown(options=o)\n",
      "        elif isinstance(o, Mapping):\n",
      "            return Dropdown(options=list(o.items()))\n",
      "        else:\n",
      "            return Dropdown(options=list(o))\n",
      "\n",
      "    # Return a factory for interactive functions\n",
      "    @classmethod\n",
      "    def factory(cls):\n",
      "        options = dict(manual=False, auto_display=True, manual_name=\"Run Interact\")\n",
      "        return _InteractFactory(cls, options)\n",
      "\n"
     ]
    }
   ],
   "source": [
    "import inspect\n",
    "lines = inspect.getsource(interactive )\n",
    "print(lines)"
   ]
  },
  {
   "cell_type": "code",
   "execution_count": null,
   "metadata": {},
   "outputs": [],
   "source": [
    "\"\"\"\n",
    "JS(\n",
    "\n",
    "cyto.layout({ name: 'circle'}).run();\n",
    "\n",
    ")\n",
    "\"\"\""
   ]
  },
  {
   "cell_type": "code",
   "execution_count": null,
   "metadata": {},
   "outputs": [],
   "source": []
  },
  {
   "cell_type": "code",
   "execution_count": null,
   "metadata": {},
   "outputs": [],
   "source": [
    "%%js\n",
    "Object.keys(saved_style3).forEach(function(key,index) {\n",
    "    console.log(key,index)\n",
    "    // key: the name of the object key\n",
    "    // index: the ordinal position of the key within the object \n",
    "});"
   ]
  },
  {
   "cell_type": "code",
   "execution_count": 677,
   "metadata": {},
   "outputs": [],
   "source": [
    "#checkit.on_trait_change()"
   ]
  },
  {
   "cell_type": "code",
   "execution_count": 686,
   "metadata": {},
   "outputs": [
    {
     "data": {
      "application/vnd.jupyter.widget-view+json": {
       "model_id": "5e5d6401c3d640249e11bb24e0341935",
       "version_major": 2,
       "version_minor": 0
      },
      "text/plain": [
       "Text(value='hello')"
      ]
     },
     "metadata": {},
     "output_type": "display_data"
    }
   ],
   "source": [
    "checkit = ipw.Text(\"hello\",continuous_update=True)\n",
    "def onChange(b):\n",
    "    print( change['new'], names='value' )\n",
    "\n",
    "checkit.observe( onChange )\n",
    "checkit"
   ]
  },
  {
   "cell_type": "code",
   "execution_count": 671,
   "metadata": {},
   "outputs": [
    {
     "data": {
      "text/plain": [
       "'hello'"
      ]
     },
     "execution_count": 671,
     "metadata": {},
     "output_type": "execute_result"
    }
   ],
   "source": [
    "checkit.continuous_update"
   ]
  },
  {
   "cell_type": "code",
   "execution_count": 685,
   "metadata": {},
   "outputs": [
    {
     "data": {
      "application/vnd.jupyter.widget-view+json": {
       "model_id": "40ea5b6cd8ab49f2976c70d543711e8e",
       "version_major": 2,
       "version_minor": 0
      },
      "text/plain": [
       "IntSlider(value=0)"
      ]
     },
     "metadata": {},
     "output_type": "display_data"
    },
    {
     "name": "stdout",
     "output_type": "stream",
     "text": [
      "{'name': 'value', 'old': 0, 'new': 1, 'owner': IntSlider(value=1), 'type': 'change'}\n",
      "{'name': 'value', 'old': 1, 'new': 19, 'owner': IntSlider(value=19), 'type': 'change'}\n",
      "{'name': 'value', 'old': 19, 'new': 31, 'owner': IntSlider(value=31), 'type': 'change'}\n"
     ]
    }
   ],
   "source": [
    "\n",
    "int_range = widgets.IntSlider()\n",
    "display(int_range)\n",
    "\n",
    "def on_value_change(change):\n",
    "    print(change )\n",
    "\n",
    "int_range.observe(on_value_change, names='value')"
   ]
  },
  {
   "cell_type": "code",
   "execution_count": null,
   "metadata": {},
   "outputs": [],
   "source": []
  },
  {
   "cell_type": "code",
   "execution_count": 687,
   "metadata": {},
   "outputs": [
    {
     "data": {
      "application/vnd.jupyter.widget-view+json": {
       "model_id": "bb8f255d15404cc2aebb929e84d7edb1",
       "version_major": 2,
       "version_minor": 0
      },
      "text/plain": [
       "interactive(children=(Checkbox(value=True, description='x'), FloatSlider(value=1.0, description='y', max=3.0, …"
      ]
     },
     "metadata": {},
     "output_type": "display_data"
    }
   ],
   "source": [
    "@interact(x=True, y=1.0)\n",
    "def g(x, y):\n",
    "    return (x, y)"
   ]
  },
  {
   "cell_type": "code",
   "execution_count": 734,
   "metadata": {},
   "outputs": [],
   "source": [
    "def f(x):\n",
    "    print(x)\n",
    "    pass\n",
    "interactive(f, x=(0.0,10.0));"
   ]
  },
  {
   "cell_type": "code",
   "execution_count": 733,
   "metadata": {},
   "outputs": [
    {
     "data": {
      "application/vnd.jupyter.widget-view+json": {
       "model_id": "2835c4df43664d7389b5b255ccb9804d",
       "version_major": 2,
       "version_minor": 0
      },
      "text/plain": [
       "interactive(children=(Text(value='asdf', description='x'), Label(value='asdf', description='y'), Output()), la…"
      ]
     },
     "metadata": {},
     "output_type": "display_data"
    }
   ],
   "source": [
    "w"
   ]
  },
  {
   "cell_type": "code",
   "execution_count": 732,
   "metadata": {},
   "outputs": [],
   "source": [
    "w.layout.width = \"100%\""
   ]
  },
  {
   "cell_type": "code",
   "execution_count": null,
   "metadata": {},
   "outputs": [],
   "source": []
  },
  {
   "cell_type": "code",
   "execution_count": null,
   "metadata": {},
   "outputs": [],
   "source": []
  },
  {
   "cell_type": "code",
   "execution_count": null,
   "metadata": {},
   "outputs": [],
   "source": []
  },
  {
   "cell_type": "code",
   "execution_count": 738,
   "metadata": {},
   "outputs": [
    {
     "ename": "TypeError",
     "evalue": "__init__() takes from 2 to 3 positional arguments but 4 were given",
     "output_type": "error",
     "traceback": [
      "\u001b[0;31m---------------------------------------------------------------------------\u001b[0m",
      "\u001b[0;31mTypeError\u001b[0m                                 Traceback (most recent call last)",
      "\u001b[0;32m<ipython-input-738-722c37596b4f>\u001b[0m in \u001b[0;36m<module>\u001b[0;34m()\u001b[0m\n\u001b[1;32m      5\u001b[0m \u001b[0;34m\u001b[0m\u001b[0m\n\u001b[1;32m      6\u001b[0m \u001b[0;34m\u001b[0m\u001b[0m\n\u001b[0;32m----> 7\u001b[0;31m \u001b[0mw\u001b[0m \u001b[0;34m=\u001b[0m \u001b[0minteractive\u001b[0m\u001b[0;34m(\u001b[0m\u001b[0mf\u001b[0m\u001b[0;34m,\u001b[0m \u001b[0ma\u001b[0m\u001b[0;34m,\u001b[0m \u001b[0mb\u001b[0m\u001b[0;34m)\u001b[0m\u001b[0;34m\u001b[0m\u001b[0m\n\u001b[0m",
      "\u001b[0;31mTypeError\u001b[0m: __init__() takes from 2 to 3 positional arguments but 4 were given"
     ]
    }
   ],
   "source": [
    "a = ipw.Text()\n",
    "b = ipw.Label()\n",
    "def f(x,y):\n",
    "    print(x.value, y.value)\n",
    "\n",
    "\n",
    "w = interactive(f, a, b)"
   ]
  },
  {
   "cell_type": "markdown",
   "metadata": {},
   "source": [
    "chekcing observe"
   ]
  },
  {
   "cell_type": "code",
   "execution_count": null,
   "metadata": {},
   "outputs": [],
   "source": []
  },
  {
   "cell_type": "code",
   "execution_count": 825,
   "metadata": {},
   "outputs": [],
   "source": [
    "x = []\n",
    "checkit = ipw.FloatText(description=\"label\", continuous_update=True)\n",
    "checkit.myVar=\"howdy\"\n",
    "def checkitFunc(change):\n",
    "        global x\n",
    "        x = change\n",
    "        print(change['new'], type(change['new']))\n",
    "checkit.observe(checkitFunc, names='value')\n"
   ]
  },
  {
   "cell_type": "code",
   "execution_count": 826,
   "metadata": {
    "cell_style": "split"
   },
   "outputs": [
    {
     "data": {
      "application/vnd.jupyter.widget-view+json": {
       "model_id": "2d4128766efa4f7ca603ffdff298a413",
       "version_major": 2,
       "version_minor": 0
      },
      "text/plain": [
       "FloatText(value=0.0, continuous_update=True, description='label')"
      ]
     },
     "metadata": {},
     "output_type": "display_data"
    },
    {
     "name": "stdout",
     "output_type": "stream",
     "text": [
      "1.0 <class 'float'>\n",
      "13.0 <class 'float'>\n"
     ]
    }
   ],
   "source": [
    "checkit"
   ]
  },
  {
   "cell_type": "code",
   "execution_count": 827,
   "metadata": {},
   "outputs": [
    {
     "data": {
      "text/plain": [
       "13.0"
      ]
     },
     "execution_count": 827,
     "metadata": {},
     "output_type": "execute_result"
    }
   ],
   "source": [
    "x['new']"
   ]
  },
  {
   "cell_type": "code",
   "execution_count": 808,
   "metadata": {},
   "outputs": [
    {
     "data": {
      "text/plain": [
       "<bound method Widget.get_state of Text(value='', description='label', _dom_classes=('myVar',))>"
      ]
     },
     "execution_count": 808,
     "metadata": {},
     "output_type": "execute_result"
    }
   ],
   "source": [
    "checkit.get_state"
   ]
  },
  {
   "cell_type": "code",
   "execution_count": 804,
   "metadata": {},
   "outputs": [],
   "source": []
  },
  {
   "cell_type": "code",
   "execution_count": 800,
   "metadata": {},
   "outputs": [
    {
     "name": "stdout",
     "output_type": "stream",
     "text": [
      "    def add_class(self, className):\n",
      "        \"\"\"\n",
      "        Adds a class to the top level element of the widget.\n",
      "\n",
      "        Doesn't add the class if it already exists.\n",
      "        \"\"\"\n",
      "        if className not in self._dom_classes:\n",
      "            self._dom_classes = list(self._dom_classes) + [className]\n",
      "        return self\n",
      "\n"
     ]
    }
   ],
   "source": [
    "import inspect\n",
    "lines = inspect.getsource(checkit.add_class)\n",
    "print(lines)"
   ]
  },
  {
   "cell_type": "code",
   "execution_count": null,
   "metadata": {},
   "outputs": [],
   "source": []
  }
 ],
 "metadata": {
  "hide_input": false,
  "kernelspec": {
   "display_name": "Python 3",
   "language": "python",
   "name": "python3"
  },
  "language_info": {
   "codemirror_mode": {
    "name": "ipython",
    "version": 3
   },
   "file_extension": ".py",
   "mimetype": "text/x-python",
   "name": "python",
   "nbconvert_exporter": "python",
   "pygments_lexer": "ipython3",
   "version": "3.6.5"
  },
  "toc": {
   "base_numbering": 1,
   "nav_menu": {},
   "number_sections": true,
   "sideBar": true,
   "skip_h1_title": false,
   "title_cell": "Table of Contents",
   "title_sidebar": "Contents",
   "toc_cell": false,
   "toc_position": {},
   "toc_section_display": true,
   "toc_window_display": false
  },
  "varInspector": {
   "cols": {
    "lenName": 16,
    "lenType": 16,
    "lenVar": 40
   },
   "kernels_config": {
    "python": {
     "delete_cmd_postfix": "",
     "delete_cmd_prefix": "del ",
     "library": "var_list.py",
     "varRefreshCmd": "print(var_dic_list())"
    },
    "r": {
     "delete_cmd_postfix": ") ",
     "delete_cmd_prefix": "rm(",
     "library": "var_list.r",
     "varRefreshCmd": "cat(var_dic_list()) "
    }
   },
   "types_to_exclude": [
    "module",
    "function",
    "builtin_function_or_method",
    "instance",
    "_Feature"
   ],
   "window_display": false
  }
 },
 "nbformat": 4,
 "nbformat_minor": 2
}
