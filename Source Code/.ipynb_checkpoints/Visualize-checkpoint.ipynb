{
 "cells": [
  {
   "cell_type": "code",
   "execution_count": null,
   "metadata": {},
   "outputs": [],
   "source": []
  },
  {
   "cell_type": "code",
   "execution_count": null,
   "metadata": {},
   "outputs": [],
   "source": []
  },
  {
   "cell_type": "markdown",
   "metadata": {},
   "source": [
    "<p></p><font size=8 face=\"courier\" color=\"magenta\">Visualize</font>"
   ]
  },
  {
   "cell_type": "markdown",
   "metadata": {},
   "source": [
    "This notebook creates the widget inside of the \"Visualize\" section of the [Cytoscape app](../Cytoscape.ipynb)."
   ]
  },
  {
   "cell_type": "markdown",
   "metadata": {},
   "source": [
    "# Setup Notebook"
   ]
  },
  {
   "cell_type": "code",
   "execution_count": 31,
   "metadata": {},
   "outputs": [
    {
     "name": "stdout",
     "output_type": "stream",
     "text": [
      "/root/Documents\n"
     ]
    },
    {
     "data": {
      "text/html": [
       "\n",
       "<style>\n",
       "*{margin:0; padding:0;} html, body,              .container{margin:0;!important padding:0;!important}              .container { width:100% !important;}\n",
       "\n",
       "div.text_cell_render { /* Customize text cells */\n",
       "    font-size:1.1em;\n",
       "    line-height:1.1em;\n",
       "}\n",
       "\n",
       "</style>\n"
      ],
      "text/plain": [
       "<IPython.core.display.HTML object>"
      ]
     },
     "metadata": {},
     "output_type": "display_data"
    },
    {
     "data": {
      "text/html": [
       "\n",
       "<b style=\"color:red\">Note:</b> Somce cells are <font color=\"gray\">\"grayed out\"</font> with <i style=\"color:blue\">\"Debug\"</i> written next to them.\n",
       "<p>This was done to improve efficiency and to control what is shown in the final notebook. \n",
       "<b>Uncomment these cells</b> when working on hte notebook.</p>\n"
      ],
      "text/plain": [
       "<IPython.core.display.HTML object>"
      ]
     },
     "metadata": {},
     "output_type": "display_data"
    },
    {
     "data": {
      "text/html": [
       "\n",
       "<style>\n",
       "\n",
       "div.text_cell_render h1 { /* Main titles bigger, centered */\n",
       "text-align:center;\n",
       "}\n",
       "\n",
       "\n",
       "\n",
       "div.text_cell_render { /* Customize text cells */\n",
       "padding-left:3em;\n",
       "padding-right:3em;\n",
       "color: rgb(127, 127, 127);\n",
       "}\n",
       "</style>\n"
      ],
      "text/plain": [
       "<IPython.core.display.HTML object>"
      ]
     },
     "metadata": {},
     "output_type": "display_data"
    }
   ],
   "source": [
    "\"\"\" DEBUG  \n",
    "%cd /root/Documents    \n",
    "%run \"Source Code/Setup Notebook.ipynb\" #<-- Debug\n",
    "%run \"Source Code/Setup Source.ipynb\"   #<-- Debug\n",
    "# %cd sets the path to that of Cytoscape.ipynb\n",
    "\"\"\""
   ]
  },
  {
   "cell_type": "markdown",
   "metadata": {},
   "source": [
    "The **<font color=\"magenta\">create</font>** object holds all the code for this notebook"
   ]
  },
  {
   "cell_type": "code",
   "execution_count": null,
   "metadata": {},
   "outputs": [],
   "source": []
  },
  {
   "cell_type": "markdown",
   "metadata": {},
   "source": [
    "## Helpers\n",
    "\n",
    "These are <font color=\"blue\">functions</font> and <font color=\"magenta\">classes</font> that help the visualizer do it's thing."
   ]
  },
  {
   "cell_type": "code",
   "execution_count": null,
   "metadata": {},
   "outputs": [],
   "source": []
  },
  {
   "cell_type": "code",
   "execution_count": null,
   "metadata": {},
   "outputs": [],
   "source": []
  },
  {
   "cell_type": "markdown",
   "metadata": {},
   "source": [
    "# Create <font color=\"magenta\">Visualizer</font>\n",
    "\n",
    "Here we create the initial <font color=\"magenta\">Visualizer</font> class. This class is used to creat and manage the networks visualization. This section only consists of the initialization <font color=\"magenta\">Visualizer</font> and some of it's basic functions. Most of <font color=\"magenta\">Visualizer's</font> functionality is actually implemented inside of the **Add Widgets** section"
   ]
  },
  {
   "cell_type": "markdown",
   "metadata": {},
   "source": [
    "## <font color=\"magenta\">Visualizer</font> Class\n",
    "\n",
    "The <font color=\"magenta\">Visualizer</font> Class is what is used to create and manage the networks visualization"
   ]
  },
  {
   "cell_type": "code",
   "execution_count": 2,
   "metadata": {},
   "outputs": [],
   "source": [
    "class Graph():\n",
    "    def __init__(self):\n",
    "        #self.w = type(\"widgets\",(),{})() #<-- this is where all the widgets go\n",
    "        pass"
   ]
  },
  {
   "cell_type": "markdown",
   "metadata": {},
   "source": [
    "##  <font color=\"blue\">Functions</font>"
   ]
  },
  {
   "cell_type": "markdown",
   "metadata": {},
   "source": [
    "###  <font color=\"blue\">canvasHtml</font>\n",
    "\n",
    "<font color=\"blue\">canvasHtml</font> creates the html that the network will be displayed in"
   ]
  },
  {
   "cell_type": "markdown",
   "metadata": {},
   "source": [
    " <font color=\"red\">made width it 50 just for debugging</font>"
   ]
  },
  {
   "cell_type": "code",
   "execution_count": 3,
   "metadata": {
    "cell_style": "center"
   },
   "outputs": [],
   "source": [
    "def canvasHtml(self): \n",
    "    display(HTML(\"\"\"\n",
    "    <style> .cy { width: 50vw; height: 30vw}</style> \n",
    "    <div id=\"cy\" class=\"cy\"></div>\n",
    "    \"\"\"))\n",
    "Graph.canvasHtml = canvasHtml"
   ]
  },
  {
   "cell_type": "markdown",
   "metadata": {},
   "source": [
    "### <font color=\"blue\">start</font>\n",
    "\n",
    "<font color=\"blue\">start</font> makes it possible to edit the canvas that displays the network"
   ]
  },
  {
   "cell_type": "code",
   "execution_count": 4,
   "metadata": {},
   "outputs": [],
   "source": [
    "def start(self):\n",
    "    JS(\"\"\"\n",
    "    var cy;\n",
    "\n",
    "    require(['cytoscape'], function(cytoscape){\n",
    "\n",
    "        cy = cytoscape({ container: document.getElementById('cy'), \n",
    "                layout: { name: 'cose' }, \n",
    "                style: [ { selector: 'node', style: { 'height': 20, 'width': 20, 'background-color': 'gray' } },\n",
    "                 { selector: 'edge', style: { 'width': 5, 'opacity': 0.5, 'line-color': 'gray'} } ]\n",
    "            });\n",
    "    });\n",
    "    \"\"\")\n",
    "Graph.start = start"
   ]
  },
  {
   "cell_type": "markdown",
   "metadata": {},
   "source": [
    "#  Add <font color=\"green\">Widgets</font>\n"
   ]
  },
  {
   "cell_type": "code",
   "execution_count": 5,
   "metadata": {},
   "outputs": [],
   "source": [
    "Graph.w = type(\"widget_list\",(),{})()\n",
    "Graph.wf = type(\"widget_functions\",(),{})()"
   ]
  },
  {
   "cell_type": "code",
   "execution_count": null,
   "metadata": {},
   "outputs": [],
   "source": []
  },
  {
   "cell_type": "markdown",
   "metadata": {},
   "source": [
    "## <font color=\"green\">Edit Node</font>"
   ]
  },
  {
   "cell_type": "code",
   "execution_count": 6,
   "metadata": {},
   "outputs": [],
   "source": [
    "Graph.w.EditNode = type(\"widget\",(),{})()\n",
    "Graph.w.EditNode.show = ipw.HTML(\"\"\"<h4 class=\"text-danger\">Widget NOT Implemented</h4>\"\"\")"
   ]
  },
  {
   "cell_type": "code",
   "execution_count": null,
   "metadata": {},
   "outputs": [],
   "source": []
  },
  {
   "cell_type": "markdown",
   "metadata": {},
   "source": [
    "## <font color=\"green\">Edit Edge</font>"
   ]
  },
  {
   "cell_type": "code",
   "execution_count": 7,
   "metadata": {},
   "outputs": [],
   "source": [
    "Graph.w.EditEdge = type(\"widget\",(),{})()\n",
    "Graph.w.EditEdge.show = ipw.HTML(\"\"\"<h4 class=\"text-danger\">Widget NOT Implemented</h4>\"\"\")"
   ]
  },
  {
   "cell_type": "code",
   "execution_count": null,
   "metadata": {},
   "outputs": [],
   "source": []
  },
  {
   "cell_type": "code",
   "execution_count": null,
   "metadata": {},
   "outputs": [],
   "source": []
  },
  {
   "cell_type": "markdown",
   "metadata": {},
   "source": [
    "## <font color=\"green\">Add Node</font>"
   ]
  },
  {
   "cell_type": "code",
   "execution_count": 8,
   "metadata": {},
   "outputs": [],
   "source": [
    "Graph.w.AddNode = type(\"widget\",(),{})()"
   ]
  },
  {
   "cell_type": "code",
   "execution_count": 9,
   "metadata": {},
   "outputs": [
    {
     "data": {
      "application/vnd.jupyter.widget-view+json": {
       "model_id": "fe384d325a934dda963d57d07b2a0dd9",
       "version_major": 2,
       "version_minor": 0
      },
      "text/plain": [
       "VBox(children=(HTML(value='<h4>Describe the New Node, then Click <font color=\"blue\">Add</font></h4>'), Text(va…"
      ]
     },
     "metadata": {},
     "output_type": "display_data"
    }
   ],
   "source": [
    "Graph.w.AddNode.head = ipw.HTML(\"\"\"<h4>Describe the New Node, then Click <font color=\"blue\">Add</font></h4>\"\"\")\n",
    "Graph.w.AddNode.id = ipw.Text(description='ID :')\n",
    "Graph.w.AddNode.button = ipw.Button(description='Add', button_style='info')\n",
    "Graph.w.AddNode.show = ipw.VBox( [Graph.w.AddNode.head, Graph.w.AddNode.id, Graph.w.AddNode.button ] )\n",
    "Graph.w.AddNode.show"
   ]
  },
  {
   "cell_type": "markdown",
   "metadata": {},
   "source": [
    "### <font color=\"blue\">addNode</font>\n",
    "\n",
    "<font color=\"blue\">addNode</font> adds a nodes to the network"
   ]
  },
  {
   "cell_type": "markdown",
   "metadata": {},
   "source": [
    "**<font color=\"red\">Function NOT Implemented</font>**"
   ]
  },
  {
   "cell_type": "code",
   "execution_count": 10,
   "metadata": {},
   "outputs": [],
   "source": [
    "def AddNode(b):\n",
    "    w_id= Graph.w.AddNode.id.value\n",
    "    JS(\"\"\"\n",
    "    cy.add([\n",
    "      { group: \"nodes\", data: { id: '{w_id}' } , position: { x: 100, y: 200 } },\n",
    "    ]);\n",
    "    \"\"\")\n",
    "Graph.wf.AddNode = AddNode\n",
    "Graph.w.AddNode.button.on_click( Graph.wf.AddNode )  #<-- function when widget is clicked"
   ]
  },
  {
   "cell_type": "code",
   "execution_count": null,
   "metadata": {},
   "outputs": [],
   "source": []
  },
  {
   "cell_type": "markdown",
   "metadata": {},
   "source": [
    "## <font color=\"green\">Add Edge</font>"
   ]
  },
  {
   "cell_type": "code",
   "execution_count": 11,
   "metadata": {},
   "outputs": [],
   "source": [
    "Graph.w.AddEdge = type(\"widget\",(),{})()\n",
    "Graph.w.AddEdge.show = ipw.HTML(\"\"\"<h4 class=\"text-danger\">Widget NOT Implemented</h4>\"\"\")"
   ]
  },
  {
   "cell_type": "markdown",
   "metadata": {},
   "source": [
    "### <font color=\"blue\">addEdge</font>\n",
    "\n",
    "<font color=\"blue\">addEdge</font> adds an edge to the network"
   ]
  },
  {
   "cell_type": "markdown",
   "metadata": {},
   "source": [
    "**<font color=\"red\">Function NOT Implemented</font>**"
   ]
  },
  {
   "cell_type": "code",
   "execution_count": 12,
   "metadata": {},
   "outputs": [],
   "source": [
    "def AddEdge(b):#self, source, target, id):\n",
    "    \"\"\"JS(\n",
    "    cy.add([\n",
    "      { group: \"edges\", data: { id: \"e0\", source: \"n0\", target: \"n1\" } }\n",
    "    ]);\n",
    "    )\"\"\"\n",
    "Graph.wf.AddEdge = AddEdge"
   ]
  },
  {
   "cell_type": "code",
   "execution_count": null,
   "metadata": {},
   "outputs": [],
   "source": []
  },
  {
   "cell_type": "markdown",
   "metadata": {},
   "source": [
    "## <font color=\"green\">Node Style</font>"
   ]
  },
  {
   "cell_type": "code",
   "execution_count": 13,
   "metadata": {},
   "outputs": [],
   "source": [
    "Graph.w.NodeStyle = type(\"widget\",(),{})()\n",
    "Graph.w.NodeStyle.show = ipw.HTML(\"\"\"<h4 class=\"text-danger\">Widget NOT Implemented</h4>\"\"\")"
   ]
  },
  {
   "cell_type": "code",
   "execution_count": null,
   "metadata": {},
   "outputs": [],
   "source": []
  },
  {
   "cell_type": "markdown",
   "metadata": {},
   "source": [
    "## <font color=\"green\">Edges Style</font>"
   ]
  },
  {
   "cell_type": "code",
   "execution_count": 14,
   "metadata": {},
   "outputs": [],
   "source": [
    "Graph.w.EdgeStyle = type(\"widget\",(),{})()\n",
    "Graph.w.EdgeStyle.show = ipw.HTML(\"\"\"<h4 class=\"text-danger\">Widget NOT Implemented</h4>\"\"\")"
   ]
  },
  {
   "cell_type": "code",
   "execution_count": null,
   "metadata": {},
   "outputs": [],
   "source": []
  },
  {
   "cell_type": "code",
   "execution_count": null,
   "metadata": {},
   "outputs": [],
   "source": []
  },
  {
   "cell_type": "markdown",
   "metadata": {},
   "source": [
    "## <font color=\"green\">Graph Style</font>"
   ]
  },
  {
   "cell_type": "code",
   "execution_count": 15,
   "metadata": {},
   "outputs": [],
   "source": [
    "Graph.w.GraphStyle = type(\"widget\",(),{})()\n",
    "Graph.w.GraphStyle.show = ipw.HTML(\"\"\"<h4 class=\"text-danger\">Widget NOT Implemented</h4>\"\"\")"
   ]
  },
  {
   "cell_type": "code",
   "execution_count": null,
   "metadata": {},
   "outputs": [],
   "source": []
  },
  {
   "cell_type": "code",
   "execution_count": null,
   "metadata": {},
   "outputs": [],
   "source": []
  },
  {
   "cell_type": "markdown",
   "metadata": {},
   "source": [
    "## <font color=\"green\">Control Panel</font> "
   ]
  },
  {
   "cell_type": "code",
   "execution_count": 16,
   "metadata": {
    "cell_style": "split"
   },
   "outputs": [],
   "source": [
    "Graph.w.ControlPanel= widgets.ToggleButtons(\n",
    "    options=['Edit Node','Add Node','Node Style',\n",
    "             'Edit Edge','Add Edge','Edge Style',\n",
    "                'Graph Style'])\n",
    "#Graph.w.ControlPanel"
   ]
  },
  {
   "cell_type": "markdown",
   "metadata": {},
   "source": [
    "### <font color=\"blue\">ControlChanged</font>\n",
    "\n",
    "<font color=\"blue\">ControlChanged</font> changes the editorBox display when the Control Panel changes."
   ]
  },
  {
   "cell_type": "code",
   "execution_count": 17,
   "metadata": {},
   "outputs": [],
   "source": [
    "def ControlChanged(b):\n",
    "    widg = Graph.w.ControlPanel.value.replace(\" \", \"\")\n",
    "    Graph.editor_box.widg = getattr(Graph.w, widg).show\n",
    "    Graph.editor_box.execute()\n",
    "    clear_output()\n",
    "    display(Graph.w.ControlPanel)\n",
    "    \n",
    "Graph.w.ControlPanel.observe( ControlChanged )"
   ]
  },
  {
   "cell_type": "code",
   "execution_count": null,
   "metadata": {},
   "outputs": [],
   "source": []
  },
  {
   "cell_type": "markdown",
   "metadata": {},
   "source": [
    "# Create Editor Box\n",
    "\n",
    "The editor box is the thing next to the visualizer where a user can change the graph. Notice that the contents of this box changes depending on what the user clicks on the control panel. The Control Panel/ Editor Box functionality is actually a little tricky to create in jupyter and require some special things to be built."
   ]
  },
  {
   "cell_type": "markdown",
   "metadata": {},
   "source": [
    "## Helper: <font color=\"magenta\">JupyterCell</font>\n",
    "\n",
    "<p></p>\n",
    " <font color=\"magenta\">JupyterCell</font> is a useful class that allows you to execute a specified *jupyter cell* from the command <font color=\"magenta\">JupyterCell</font><font color=\"blue\">.execute()</font>. This is used to change which <font color=\"green\">widget</font> is displayed inside of the visualizer's **editor cell**."
   ]
  },
  {
   "cell_type": "code",
   "execution_count": 18,
   "metadata": {},
   "outputs": [],
   "source": [
    "class JupyterCell():\n",
    " \n",
    "    def __init__(self, cell_text, text_before=\"# \"):\n",
    "        self.cell_text= cell_text\n",
    "        self.text_before= text_before\n",
    "    \n",
    "    def execute(self):  #<-- This gets the Cell by using the cell text. The cell text must be unique to that cell\n",
    "        JS(\"\"\"\n",
    "        var cell_text= \"\";  var i= 0;  \n",
    "        while( ! cell_text.includes('\"\"\"+self.text_before+self.cell_text+\"\"\"')  ){\n",
    "            cell_text = Jupyter.notebook.get_cell( i ).get_text()  //.element[\"0\"].innerText #<-- Old Way\n",
    "            i++\n",
    "        }\n",
    "        IPython.notebook.execute_cells([i-1])\n",
    "        \"\"\")\n"
   ]
  },
  {
   "cell_type": "markdown",
   "metadata": {},
   "source": [
    "## Create Editor  Box"
   ]
  },
  {
   "cell_type": "code",
   "execution_count": 19,
   "metadata": {},
   "outputs": [],
   "source": [
    "Graph.editor_box = JupyterCell(\"My Editor Cell\")\n",
    "Graph.editor_box.widg = Graph.w.EditNode.show"
   ]
  },
  {
   "cell_type": "code",
   "execution_count": null,
   "metadata": {},
   "outputs": [],
   "source": []
  },
  {
   "cell_type": "markdown",
   "metadata": {},
   "source": [
    "# Visualize (Mock Setup)"
   ]
  },
  {
   "cell_type": "code",
   "execution_count": 34,
   "metadata": {
    "cell_style": "split",
    "scrolled": true
   },
   "outputs": [
    {
     "data": {
      "text/html": [
       "<h1 class='text-center'>Control Panel</h1>"
      ],
      "text/plain": [
       "<IPython.core.display.HTML object>"
      ]
     },
     "metadata": {},
     "output_type": "display_data"
    },
    {
     "data": {
      "application/vnd.jupyter.widget-view+json": {
       "model_id": "3df7983e7bd84ddc82905ef431eeb009",
       "version_major": 2,
       "version_minor": 0
      },
      "text/plain": [
       "ToggleButtons(index=1, options=('Edit Node', 'Add Node', 'Node Style', 'Edit Edge', 'Add Edge', 'Edge Style', …"
      ]
     },
     "metadata": {},
     "output_type": "display_data"
    }
   ],
   "source": [
    "display(HTML(\"<h1 class='text-center'>Control Panel</h1>\"))\n",
    "display(Graph.w.ControlPanel)"
   ]
  },
  {
   "cell_type": "code",
   "execution_count": 23,
   "metadata": {},
   "outputs": [],
   "source": [
    "cy = Graph()"
   ]
  },
  {
   "cell_type": "code",
   "execution_count": null,
   "metadata": {},
   "outputs": [],
   "source": []
  },
  {
   "cell_type": "code",
   "execution_count": null,
   "metadata": {},
   "outputs": [],
   "source": []
  },
  {
   "cell_type": "code",
   "execution_count": null,
   "metadata": {},
   "outputs": [],
   "source": []
  },
  {
   "cell_type": "code",
   "execution_count": null,
   "metadata": {},
   "outputs": [],
   "source": []
  },
  {
   "cell_type": "code",
   "execution_count": null,
   "metadata": {},
   "outputs": [],
   "source": []
  },
  {
   "cell_type": "markdown",
   "metadata": {},
   "source": [
    "## Mock Interface"
   ]
  },
  {
   "cell_type": "code",
   "execution_count": 32,
   "metadata": {
    "cell_style": "split",
    "scrolled": true
   },
   "outputs": [
    {
     "data": {
      "application/vnd.jupyter.widget-view+json": {
       "model_id": "fe384d325a934dda963d57d07b2a0dd9",
       "version_major": 2,
       "version_minor": 0
      },
      "text/plain": [
       "VBox(children=(HTML(value='<h4>Describe the New Node, then Click <font color=\"blue\">Add</font></h4>'), Text(va…"
      ]
     },
     "metadata": {},
     "output_type": "display_data"
    }
   ],
   "source": [
    "# My Editor Cell\n",
    "display(Graph.editor_box.widg)"
   ]
  },
  {
   "cell_type": "code",
   "execution_count": 33,
   "metadata": {
    "cell_style": "split",
    "scrolled": false
   },
   "outputs": [
    {
     "data": {
      "text/html": [
       "\n",
       "    <style> .cy { width: 50vw; height: 30vw}</style> \n",
       "    <div id=\"cy\" class=\"cy\"></div>\n",
       "    "
      ],
      "text/plain": [
       "<IPython.core.display.HTML object>"
      ]
     },
     "metadata": {},
     "output_type": "display_data"
    },
    {
     "data": {
      "text/html": [
       "<script>\n",
       "    var cy;\n",
       "\n",
       "    require(['cytoscape'], function(cytoscape){\n",
       "\n",
       "        cy = cytoscape({ container: document.getElementById('cy'), \n",
       "                layout: { name: 'cose' }, \n",
       "                style: [ { selector: 'node', style: { 'height': 20, 'width': 20, 'background-color': 'gray' } },\n",
       "                 { selector: 'edge', style: { 'width': 5, 'opacity': 0.5, 'line-color': 'gray'} } ]\n",
       "            });\n",
       "    });\n",
       "    </script>"
      ],
      "text/plain": [
       "<IPython.core.display.HTML object>"
      ]
     },
     "metadata": {},
     "output_type": "display_data"
    }
   ],
   "source": [
    "cy.canvasHtml()\n",
    "cy.start()"
   ]
  },
  {
   "cell_type": "code",
   "execution_count": 865,
   "metadata": {
    "cell_style": "center",
    "scrolled": true
   },
   "outputs": [
    {
     "data": {
      "text/html": [
       "<script>\n",
       "\n",
       "cyto.layout({ name: 'circle'}).run();\n",
       "\n",
       "</script>"
      ],
      "text/plain": [
       "<IPython.core.display.HTML object>"
      ]
     },
     "metadata": {},
     "output_type": "display_data"
    }
   ],
   "source": [
    "JS(\"\"\"\n",
    "\n",
    "cyto.layout({ name: 'circle'}).run();\n",
    "\n",
    "\"\"\")"
   ]
  },
  {
   "cell_type": "code",
   "execution_count": null,
   "metadata": {},
   "outputs": [],
   "source": [
    "cy.layout({ name: 'circle'}).run();"
   ]
  },
  {
   "cell_type": "markdown",
   "metadata": {},
   "source": [
    "# Scratch Paper"
   ]
  },
  {
   "cell_type": "code",
   "execution_count": 18,
   "metadata": {},
   "outputs": [
    {
     "data": {
      "text/html": [
       "<script>\n",
       "cyto.add([\n",
       "  { group: \"nodes\", data: { id: \"n0\" } , position: { x: 100, y: 200 } },\n",
       "  { group: \"nodes\", data: { id: \"n1\" }, position: { x: 200, y: 100 } },\n",
       "  { group: \"edges\", data: { id: \"e0\", source: \"n0\", target: \"n1\" } }\n",
       "]);\n",
       "</script>"
      ],
      "text/plain": [
       "<IPython.core.display.HTML object>"
      ]
     },
     "metadata": {},
     "output_type": "display_data"
    }
   ],
   "source": [
    "\n",
    "JS(\"\"\"\n",
    "cyto.add([\n",
    "  { group: \"nodes\", data: { id: \"n0\" } , position: { x: 100, y: 200 } },\n",
    "  { group: \"nodes\", data: { id: \"n1\" }, position: { x: 200, y: 100 } },\n",
    "  { group: \"edges\", data: { id: \"e0\", source: \"n0\", target: \"n1\" } }\n",
    "]);\n",
    "\"\"\")\n"
   ]
  },
  {
   "cell_type": "code",
   "execution_count": null,
   "metadata": {},
   "outputs": [],
   "source": []
  }
 ],
 "metadata": {
  "hide_input": false,
  "kernelspec": {
   "display_name": "Python 3",
   "language": "python",
   "name": "python3"
  },
  "language_info": {
   "codemirror_mode": {
    "name": "ipython",
    "version": 3
   },
   "file_extension": ".py",
   "mimetype": "text/x-python",
   "name": "python",
   "nbconvert_exporter": "python",
   "pygments_lexer": "ipython3",
   "version": "3.6.5"
  },
  "toc": {
   "base_numbering": 1,
   "nav_menu": {},
   "number_sections": true,
   "sideBar": true,
   "skip_h1_title": false,
   "title_cell": "Table of Contents",
   "title_sidebar": "Contents",
   "toc_cell": false,
   "toc_position": {},
   "toc_section_display": true,
   "toc_window_display": false
  },
  "varInspector": {
   "cols": {
    "lenName": 16,
    "lenType": 16,
    "lenVar": 40
   },
   "kernels_config": {
    "python": {
     "delete_cmd_postfix": "",
     "delete_cmd_prefix": "del ",
     "library": "var_list.py",
     "varRefreshCmd": "print(var_dic_list())"
    },
    "r": {
     "delete_cmd_postfix": ") ",
     "delete_cmd_prefix": "rm(",
     "library": "var_list.r",
     "varRefreshCmd": "cat(var_dic_list()) "
    }
   },
   "types_to_exclude": [
    "module",
    "function",
    "builtin_function_or_method",
    "instance",
    "_Feature"
   ],
   "window_display": false
  }
 },
 "nbformat": 4,
 "nbformat_minor": 2
}
