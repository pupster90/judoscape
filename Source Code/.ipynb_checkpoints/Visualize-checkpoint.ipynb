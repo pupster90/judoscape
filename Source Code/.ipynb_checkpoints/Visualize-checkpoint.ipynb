{
 "cells": [
  {
   "cell_type": "markdown",
   "metadata": {},
   "source": [
    "<p></p><font size=8 face=\"courier\" color=\"magenta\">Visualize</font>"
   ]
  },
  {
   "cell_type": "markdown",
   "metadata": {},
   "source": [
    "This notebook creates the widget inside of the \"Visualize\" section of the [Cytoscape app](../Cytoscape.ipynb)."
   ]
  },
  {
   "cell_type": "markdown",
   "metadata": {},
   "source": [
    "# Setup Notebook"
   ]
  },
  {
   "cell_type": "code",
   "execution_count": 1,
   "metadata": {
    "scrolled": true
   },
   "outputs": [
    {
     "name": "stdout",
     "output_type": "stream",
     "text": [
      "/root/Documents\n"
     ]
    },
    {
     "data": {
      "text/html": [
       "\n",
       "<style>\n",
       "*{margin:0; padding:0;} html, body,              .container{margin:0;!important padding:0;!important}              .container { width:100% !important;}\n",
       "\n",
       "div.text_cell_render { /* Customize text cells */\n",
       "    font-size:1.1em;\n",
       "    line-height:1.1em;\n",
       "}\n",
       "\n",
       "</style>\n"
      ],
      "text/plain": [
       "<IPython.core.display.HTML object>"
      ]
     },
     "metadata": {},
     "output_type": "display_data"
    },
    {
     "data": {
      "text/html": [
       "\n",
       "<b style=\"color:red\">Note:</b> Somce cells are <font color=\"gray\">\"grayed out\"</font> with <i style=\"color:blue\">\"Debug\"</i> written next to them.\n",
       "<p>This was done to improve efficiency and to control what is shown in the final notebook. \n",
       "<b>Uncomment these cells</b> when working on hte notebook.</p>\n"
      ],
      "text/plain": [
       "<IPython.core.display.HTML object>"
      ]
     },
     "metadata": {},
     "output_type": "display_data"
    },
    {
     "data": {
      "text/html": [
       "\n",
       "<style>\n",
       "\n",
       "div.text_cell_render h1 { /* Main titles bigger, centered */\n",
       "text-align:center;\n",
       "}\n",
       "\n",
       "\n",
       "\n",
       "div.text_cell_render { /* Customize text cells */\n",
       "padding-left:3em;\n",
       "padding-right:3em;\n",
       "color: rgb(127, 127, 127);\n",
       "}\n",
       "</style>\n"
      ],
      "text/plain": [
       "<IPython.core.display.HTML object>"
      ]
     },
     "metadata": {},
     "output_type": "display_data"
    }
   ],
   "source": [
    "\"\"\" DEBUG \"\"\"\n",
    "%cd /root/Documents    \n",
    "%run \"Source Code/Setup Notebook.ipynb\" #<-- Debug\n",
    "%run \"Source Code/Setup Source.ipynb\"   #<-- Debug\n",
    "# %cd sets the path to that of Cytoscape.ipynb\n"
   ]
  },
  {
   "cell_type": "code",
   "execution_count": 554,
   "metadata": {},
   "outputs": [
    {
     "data": {
      "text/html": [
       "<script>var py = Jupyter.notebook.kernel</script>"
      ],
      "text/plain": [
       "<IPython.core.display.HTML object>"
      ]
     },
     "metadata": {},
     "output_type": "display_data"
    }
   ],
   "source": [
    "JS(\"var py = Jupyter.notebook.kernel\")"
   ]
  },
  {
   "cell_type": "markdown",
   "metadata": {},
   "source": [
    "The **<font color=\"magenta\">create</font>** object holds all the code for this notebook"
   ]
  },
  {
   "cell_type": "code",
   "execution_count": null,
   "metadata": {},
   "outputs": [],
   "source": []
  },
  {
   "cell_type": "markdown",
   "metadata": {},
   "source": [
    "## Helpers\n",
    "\n",
    "These are <font color=\"blue\">functions</font> and <font color=\"magenta\">classes</font> that help the visualizer do it's thing."
   ]
  },
  {
   "cell_type": "code",
   "execution_count": null,
   "metadata": {},
   "outputs": [],
   "source": []
  },
  {
   "cell_type": "markdown",
   "metadata": {},
   "source": [
    "# Create <font color=\"magenta\">Visualizer</font>\n",
    "\n",
    "Here we create the initial <font color=\"magenta\">Visualizer</font> class. This class is used to creat and manage the networks visualization. This section only consists of the initialization <font color=\"magenta\">Visualizer</font> and some of it's basic functions. Most of <font color=\"magenta\">Visualizer's</font> functionality is actually implemented inside of the **Add Widgets** section"
   ]
  },
  {
   "cell_type": "markdown",
   "metadata": {
    "heading_collapsed": true
   },
   "source": [
    "## <font color=\"magenta\">Visualizer</font> Class\n",
    "\n",
    "The <font color=\"magenta\">Visualizer</font> Class is what is used to create and manage the networks visualization"
   ]
  },
  {
   "cell_type": "code",
   "execution_count": 2,
   "metadata": {
    "hidden": true
   },
   "outputs": [],
   "source": [
    "class Graph():\n",
    "    def __init__(self):\n",
    "        #self.w = type(\"widgets\",(),{})() #<-- this is where all the widgets go\n",
    "        pass"
   ]
  },
  {
   "cell_type": "markdown",
   "metadata": {
    "heading_collapsed": true
   },
   "source": [
    "##  <font color=\"blue\">Functions</font>"
   ]
  },
  {
   "cell_type": "markdown",
   "metadata": {
    "heading_collapsed": true,
    "hidden": true
   },
   "source": [
    "###  <font color=\"blue\">canvasHtml</font>\n",
    "\n",
    "<font color=\"blue\">canvasHtml</font> creates the html that the network will be displayed in"
   ]
  },
  {
   "cell_type": "markdown",
   "metadata": {
    "hidden": true
   },
   "source": [
    " <font color=\"red\">made width it 50 just for debugging</font>"
   ]
  },
  {
   "cell_type": "code",
   "execution_count": 3,
   "metadata": {
    "cell_style": "center",
    "hidden": true
   },
   "outputs": [],
   "source": [
    "def canvasHtml(self): \n",
    "    display(HTML(\"\"\"\n",
    "    <style> .cy { width: 50vw; height: 30vw}</style> \n",
    "    <div id=\"cy\" class=\"cy\"></div>\n",
    "    \"\"\"))\n",
    "Graph.canvasHtml = canvasHtml"
   ]
  },
  {
   "cell_type": "code",
   "execution_count": null,
   "metadata": {
    "hidden": true
   },
   "outputs": [],
   "source": []
  },
  {
   "cell_type": "markdown",
   "metadata": {},
   "source": [
    "# <font color=\"orange\">Javascript</font> Helpers"
   ]
  },
  {
   "cell_type": "code",
   "execution_count": 4,
   "metadata": {},
   "outputs": [],
   "source": [
    "class JS_Helper():\n",
    "    pass\n",
    "Graph.js = JS_Helper()"
   ]
  },
  {
   "cell_type": "code",
   "execution_count": null,
   "metadata": {},
   "outputs": [],
   "source": []
  },
  {
   "cell_type": "markdown",
   "metadata": {
    "heading_collapsed": true
   },
   "source": [
    "## <font color=\"orange\">start</font>\n",
    "\n",
    "<font color=\"orange\">start</font> makes it possible to edit the canvas that displays the network and loads in the <font color=\"orange\">javascript</font> helpers"
   ]
  },
  {
   "cell_type": "code",
   "execution_count": 5,
   "metadata": {
    "hidden": true
   },
   "outputs": [],
   "source": [
    "def start(self):\n",
    "    JS(\"\"\"\n",
    "    // This block creates the javascript object 'cy' which hold everything related to the graph\n",
    "    var cy;\n",
    "    require(['cytoscape'], function(cytoscape){       \n",
    "        cy = cytoscape({ container: document.getElementById('cy'), layout: { name: 'cose' },\n",
    "                         style: [ { selector: 'node', style: { 'overlay-color': 'gray', 'overlay-padding': '2px', 'background-color': 'gray'  } },\n",
    "                                  { selector: 'edge', style: { 'overlay-color': 'gray', 'overlay-padding': '8px', 'line-color': 'gray'  } } ]\n",
    "        });\n",
    "        \n",
    "        // Here we initialize some settings for 'cy' \n",
    "        cy.io = {}       // <-- where we store all the parameters/variables we create        \n",
    "        cy.maxZoom(14)   // <-- Determine how much window zooms in and out\n",
    "        cy.minZoom(.4)\n",
    "        \n",
    "        cy.on(\"select\", 'node, edge' , function(){     //<-- highlight node when selected\n",
    "            this.style( 'overlay-opacity', .4 );\n",
    "        });\n",
    "        cy.on(\"unselect\", 'node, edge' , function(){   //<-- unhighlight when not selected\n",
    "            this.style( 'overlay-opacity', 0 );\n",
    "        });\n",
    "    });\n",
    "    \n",
    "\n",
    "    \"\"\")\n",
    "JS_Helper.start = start"
   ]
  },
  {
   "cell_type": "markdown",
   "metadata": {
    "heading_collapsed": true
   },
   "source": [
    "## <font color=\"orange\">addNode</font>\n",
    "\n",
    "This functions adds new nodes to the network when the clicks and empty part of the graph."
   ]
  },
  {
   "cell_type": "code",
   "execution_count": 6,
   "metadata": {
    "hidden": true
   },
   "outputs": [],
   "source": [
    "def addNode(self):\n",
    "    JS(\"\"\"\n",
    "    cy.io.addNode = function(event){\n",
    "      if( event.target === cy ){                                                          // <-- If we tapped on the background\n",
    "          checkit = cy.add([ {  group: \"nodes\", position: event.position  } ]);          //<-- add node    \n",
    "      }; \n",
    "    };\n",
    "    cy.on('tap', cy.io.addNode );\n",
    "    \"\"\")\n",
    "JS_Helper.addNode = addNode"
   ]
  },
  {
   "cell_type": "code",
   "execution_count": null,
   "metadata": {
    "hidden": true
   },
   "outputs": [],
   "source": []
  },
  {
   "cell_type": "markdown",
   "metadata": {
    "heading_collapsed": true
   },
   "source": [
    "## <font color=\"orange\">addEdge</font>\n",
    "\n",
    "We add a new edge when the use double clicks one nodes and then double clicks another node. <font color=\"orange\">addEdge</font> check for the double clicking and adds a new edge if necessary."
   ]
  },
  {
   "cell_type": "code",
   "execution_count": 7,
   "metadata": {
    "hidden": true
   },
   "outputs": [],
   "source": [
    "def addEdge(self):\n",
    "    JS(\"\"\"\n",
    "    cy.io.click_hist = [\"1\", \"2\", \"3\", \"4\"];\n",
    "    \n",
    "    cy.io.addEdge = function(event){                                    // <-- on \"tapping\" canvas\n",
    "        cy.io.click_hist.shift();                                         //<-- Remove oldest click\n",
    "\n",
    "        if( event.target !== cy && event.target.isNode() ){               // <-- If we tapped a Node\n",
    "          cy.io.click_hist.push( event.target.id() );                   // <-- Add node id to click history\n",
    "\n",
    "          if( cy.io.click_hist[0]==cy.io.click_hist[1] && cy.io.click_hist[2]==cy.io.click_hist[3] ){      //<-- If 2 double clicks\n",
    "              cy.add([ {  data: { source: cy.io.click_hist[0], target: cy.io.click_hist[2] }  } ]);         //<-- add edge\n",
    "          };\n",
    "\n",
    "        }else{                                                 //<-- if we didn't click a node\n",
    "          cy.io.click_hist.push( String(Math.random()) );   //<-- Add random string to click history (repeats unlikely)\n",
    "        }; \n",
    "    };\n",
    "    cy.on(\"click\" , cy.io.addEdge );\n",
    "    \"\"\")\n",
    "JS_Helper.addEdge = addEdge"
   ]
  },
  {
   "cell_type": "markdown",
   "metadata": {
    "heading_collapsed": true
   },
   "source": [
    "## <font color=\"orange\">onSelect</font> \n",
    "\n",
    "<font color=\"orange\">onSelect</font>  does something"
   ]
  },
  {
   "cell_type": "code",
   "execution_count": 8,
   "metadata": {
    "hidden": true
   },
   "outputs": [],
   "source": [
    "def onSelect(self):\n",
    "    JS(\"\"\"\n",
    "    \"\"\")\n",
    "JS_Helper.onSelect = onSelect"
   ]
  },
  {
   "cell_type": "code",
   "execution_count": null,
   "metadata": {
    "hidden": true
   },
   "outputs": [],
   "source": []
  },
  {
   "cell_type": "markdown",
   "metadata": {},
   "source": [
    "## <font color=\"orange\">editSelector</font>\n",
    "\n",
    "<font color=\"orange\">editSelector</font> decides what widgets are displayed inside of the editor box *(\"My Edit Box\")*. What's displayed depends on if there are 1/many of node/edges/both."
   ]
  },
  {
   "cell_type": "code",
   "execution_count": 534,
   "metadata": {},
   "outputs": [],
   "source": [
    "def editSelector(self):\n",
    "    JS(\"\"\"\n",
    "        var check = 0;\n",
    "        var check_var;\n",
    "        cy.io.select_type = \"nothing\"\n",
    "\n",
    "\n",
    "        cy.io.test = function(event){\n",
    "            cy.io.selection = cy.$(':selected')                 //<-- Get selected elements\n",
    "            cy.io.last_type = cy.io.select_type\n",
    "\n",
    "            if( cy.io.selection.length == 0  ){                 //<-- Do nothing if nothing's selected\n",
    "                return\n",
    "            }\n",
    "            if( cy.io.selection.length == 1 ){                  //<-- If selection lenght is 1\n",
    "                //py.execute(\"Graph.w.Edit.id.value = '\"++\"'\")  //<- put selectors ID in box\n",
    "\n",
    "                if( cy.io.selection.isNode() && cy.io.last_type != \"1 node\" ){                      //<-- If it's a node\n",
    "                    cy.io.select_type = \"1 node\"\n",
    "                    py.execute(\"Graph.editor_box.widg = Graph.box.show('1 node')\")\n",
    "                    IPython.notebook.execute_cells([edit_num])  //<-- edit_num was setup by the Graph.editor_box \n",
    "                }\n",
    "                if( cy.io.selection.isEdge() &&  cy.io.last_type != \"1 edge\" ){                     //<-- If it's an edge\n",
    "                    cy.io.select_type = \"1 edge\"\n",
    "                    py.execute(\"Graph.editor_box.widg = Graph.box.show('1 edge')\")\n",
    "                    IPython.notebook.execute_cells([edit_num])  //<-- edit_num was setup by the Graph.editor_box\n",
    "                }\n",
    "\n",
    "            } else {                                           //<-- If Many elements\n",
    "                console.log(\"many items\")\n",
    "            }\n",
    "\n",
    "        };\n",
    "\n",
    "        cy.on('select unselect', 'node, edge', cy.io.test );\n",
    "    \"\"\")\n",
    "JS_Helper.editSelector = editSelector"
   ]
  },
  {
   "cell_type": "code",
   "execution_count": null,
   "metadata": {},
   "outputs": [],
   "source": []
  },
  {
   "cell_type": "markdown",
   "metadata": {
    "heading_collapsed": true
   },
   "source": [
    "#  Add <font color=\"green\">Widgets</font>\n"
   ]
  },
  {
   "cell_type": "code",
   "execution_count": 11,
   "metadata": {
    "hidden": true
   },
   "outputs": [],
   "source": [
    "Graph.w = type(\"widget_list\",(),{})()\n",
    "Graph.wf = type(\"widget_functions\",(),{})()"
   ]
  },
  {
   "cell_type": "markdown",
   "metadata": {
    "heading_collapsed": true,
    "hidden": true
   },
   "source": [
    "## <font color=\"green\">Control Panel</font> "
   ]
  },
  {
   "cell_type": "markdown",
   "metadata": {
    "hidden": true
   },
   "source": [
    "**<font color=\"green\">widget : </font>**"
   ]
  },
  {
   "cell_type": "code",
   "execution_count": 12,
   "metadata": {
    "cell_style": "split",
    "hidden": true
   },
   "outputs": [],
   "source": [
    "Graph.w.ControlPanel= widgets.ToggleButtons(\n",
    "    options=[ 'Edit','Search','Graph Style'])\n",
    "#Graph.w.ControlPanel"
   ]
  },
  {
   "cell_type": "markdown",
   "metadata": {
    "hidden": true
   },
   "source": [
    "**<font color=\"blue\">Function : </font>**  <font color=\"blue\">ControlChanged</font> changes the editorBox display when the Control Panel changes."
   ]
  },
  {
   "cell_type": "code",
   "execution_count": 13,
   "metadata": {
    "hidden": true
   },
   "outputs": [],
   "source": [
    "def ControlChanged(b):\n",
    "    #widg = Graph.w.ControlPanel.value.replace(\" \", \"\")\n",
    "    #Graph.editor_box.widg = getattr(Graph.w, widg).show\n",
    "    #Graph.editor_box.execute()\n",
    "    #clear_output()\n",
    "    #display(Graph.w.ControlPanel)\n",
    "    pass\n",
    "\n",
    "    \n",
    "Graph.w.ControlPanel.observe( ControlChanged )"
   ]
  },
  {
   "cell_type": "markdown",
   "metadata": {
    "hidden": true
   },
   "source": [
    "How to change button style"
   ]
  },
  {
   "cell_type": "code",
   "execution_count": null,
   "metadata": {
    "hidden": true
   },
   "outputs": [],
   "source": [
    "# Graph.w.ControlPanel.value = \"Search\""
   ]
  },
  {
   "cell_type": "markdown",
   "metadata": {},
   "source": [
    "# <font color=\"green\">Edit Box Widgets</font> "
   ]
  },
  {
   "cell_type": "code",
   "execution_count": 14,
   "metadata": {},
   "outputs": [],
   "source": [
    "Graph.w.Edit = type(\"widget\",(),{})()"
   ]
  },
  {
   "cell_type": "markdown",
   "metadata": {
    "heading_collapsed": true
   },
   "source": [
    "## Delete "
   ]
  },
  {
   "cell_type": "code",
   "execution_count": 432,
   "metadata": {
    "hidden": true
   },
   "outputs": [],
   "source": [
    "Graph.w.Edit.delete = ipw.Button(description='Delete',button_style='danger')\n",
    "#Graph.w.Edit.delete"
   ]
  },
  {
   "cell_type": "code",
   "execution_count": 420,
   "metadata": {
    "hidden": true
   },
   "outputs": [],
   "source": [
    "def delete(b):\n",
    "    JS(\"cy.io.last_deleted = cy.$(':selected').remove();\")   #<-- delete elements\n",
    "    Graph.w.Edit.undo.disabled = False\n",
    "Graph.wf.delete = delete\n",
    "Graph.w.Edit.delete.on_click( Graph.wf.delete )"
   ]
  },
  {
   "cell_type": "markdown",
   "metadata": {
    "heading_collapsed": true
   },
   "source": [
    "## Undo Delete "
   ]
  },
  {
   "cell_type": "code",
   "execution_count": 423,
   "metadata": {
    "hidden": true
   },
   "outputs": [],
   "source": [
    "Graph.w.Edit.undo = ipw.Button(description='Undo',button_style='primary', disabled= True )\n",
    "#Graph.w.Edit.undo"
   ]
  },
  {
   "cell_type": "code",
   "execution_count": 422,
   "metadata": {
    "hidden": true
   },
   "outputs": [],
   "source": [
    "def undo(b):\n",
    "    JS(\" cy.add( cy.io.last_deleted );\")   #<-- Add last deleted element\n",
    "    b.disabled = True\n",
    "Graph.wf.undo = undo\n",
    "Graph.w.Edit.undo.on_click( Graph.wf.undo )"
   ]
  },
  {
   "cell_type": "markdown",
   "metadata": {
    "heading_collapsed": true
   },
   "source": [
    "## Color"
   ]
  },
  {
   "cell_type": "code",
   "execution_count": 485,
   "metadata": {
    "hidden": true
   },
   "outputs": [],
   "source": [
    "Graph.w.Edit.color = ipw.ColorPicker( )\n",
    "#Graph.w.Edit.color"
   ]
  },
  {
   "cell_type": "code",
   "execution_count": 486,
   "metadata": {
    "hidden": true
   },
   "outputs": [],
   "source": [
    "import time"
   ]
  },
  {
   "cell_type": "code",
   "execution_count": 487,
   "metadata": {
    "hidden": true
   },
   "outputs": [],
   "source": [
    "Graph.w.Edit.color.time = 0\n",
    "def color(b):\n",
    "    if time.time() - Graph.w.Edit.color.time > .05:  #<-- make function run only ever 1/10 a second\n",
    "        Graph.w.Edit.color.time = time.time()\n",
    "        JS(\"\"\"\n",
    "        for( i=0; i < cy.io.selection.length; i++ ){\n",
    "            var ele = cy.io.selection[i]\n",
    "            if( ele.isNode() ){\n",
    "                ele.style( \"background-color\", '\"\"\"+Graph.w.Edit.color.value+\"\"\"' )\n",
    "            } else{\n",
    "                ele.style( \"line-color\", '\"\"\"+Graph.w.Edit.color.value+\"\"\"' )\n",
    "            }\n",
    "        }\n",
    "        \"\"\")          \n",
    "Graph.wf.color = color\n",
    "Graph.w.Edit.color.observe( Graph.wf.color )"
   ]
  },
  {
   "cell_type": "markdown",
   "metadata": {
    "heading_collapsed": true
   },
   "source": [
    "## Background Color"
   ]
  },
  {
   "cell_type": "code",
   "execution_count": 488,
   "metadata": {
    "hidden": true
   },
   "outputs": [],
   "source": [
    "Graph.w.Edit.background = ipw.Button( button_style='danger', icon='image', layout= ipw.Layout(width='auto') )\n",
    "#Graph.w.Edit.background"
   ]
  },
  {
   "cell_type": "code",
   "execution_count": 489,
   "metadata": {
    "hidden": true
   },
   "outputs": [],
   "source": [
    "def background(b):\n",
    "    JS(f\"document.getElementById('cy').style.backgroundColor = '{Graph.w.Edit.color.value}'\")  \n",
    "Graph.wf.background = background\n",
    "Graph.w.Edit.background.on_click( Graph.wf.background )"
   ]
  },
  {
   "cell_type": "markdown",
   "metadata": {
    "heading_collapsed": true
   },
   "source": [
    "## Size"
   ]
  },
  {
   "cell_type": "code",
   "execution_count": 457,
   "metadata": {
    "hidden": true
   },
   "outputs": [],
   "source": [
    "Graph.w.Edit.size = ipw.IntSlider(value=30, min=1, max=200, continuous_update=True )\n",
    "#Graph.w.Edit.size "
   ]
  },
  {
   "cell_type": "code",
   "execution_count": 442,
   "metadata": {
    "hidden": true
   },
   "outputs": [],
   "source": [
    "Graph.w.Edit.size.time = 0\n",
    "def size(b):\n",
    "    if time.time() - Graph.w.Edit.size.time > .05:  #<-- make function run only ever 1/10 a second\n",
    "        Graph.w.Edit.size.time = time.time()\n",
    "        JS(\"\"\"\n",
    "        for( i=0; i < cy.io.selection.length; i++ ){\n",
    "            var ele = cy.io.selection[i]\n",
    "            if( ele.isNode() ){\n",
    "                ele.style( \"width\", \"\"\"+str(Graph.w.Edit.size.value)+\"\"\" )\n",
    "                ele.style( \"height\", \"\"\"+str(Graph.w.Edit.size.value)+\"\"\" )\n",
    "            } else{\n",
    "                ele.style( \"width\", \"\"\"+str(Graph.w.Edit.size.value/6)+\"\"\" )\n",
    "            }\n",
    "        }\n",
    "        \"\"\")           \n",
    "Graph.wf.size = size\n",
    "Graph.w.Edit.size.observe( Graph.wf.size )"
   ]
  },
  {
   "cell_type": "markdown",
   "metadata": {
    "heading_collapsed": true
   },
   "source": [
    "## ID Text"
   ]
  },
  {
   "cell_type": "code",
   "execution_count": 330,
   "metadata": {
    "hidden": true
   },
   "outputs": [
    {
     "data": {
      "application/vnd.jupyter.widget-view+json": {
       "model_id": "fc83f6a854e645dcb5c9e08eb75fa57f",
       "version_major": 2,
       "version_minor": 0
      },
      "text/plain": [
       "Text(value='', description='ID :')"
      ]
     },
     "metadata": {},
     "output_type": "display_data"
    }
   ],
   "source": [
    "Graph.w.Edit.id = widgets.Text( description='ID :', continous_update = False  )#, continous_update = False )\n",
    "Graph.w.Edit.id"
   ]
  },
  {
   "cell_type": "code",
   "execution_count": 322,
   "metadata": {
    "hidden": true
   },
   "outputs": [],
   "source": [
    "def setId(b):\n",
    "    JS(\"\"\"\n",
    "    for( i=0; i < cy.io.selection.length; i++ ){\n",
    "        var ele = cy.io.selection[i]\n",
    "        if( ele.isNode() ){\n",
    "            ele.style( \"width\", \"\"\"+str(Graph.w.Edit.size.value)+\"\"\" )\n",
    "            ele.style( \"height\", \"\"\"+str(Graph.w.Edit.size.value)+\"\"\" )\n",
    "        } else{\n",
    "            ele.style( \"width\", \"\"\"+str(Graph.w.Edit.size.value/6)+\"\"\" )\n",
    "        }\n",
    "    }\n",
    "    \"\"\")           \n",
    "Graph.wf.setId = setId\n",
    "Graph.w.Edit.id.observe( Graph.wf.setId )"
   ]
  },
  {
   "cell_type": "markdown",
   "metadata": {
    "heading_collapsed": true
   },
   "source": [
    "## Label Text"
   ]
  },
  {
   "cell_type": "code",
   "execution_count": 323,
   "metadata": {
    "hidden": true
   },
   "outputs": [
    {
     "data": {
      "application/vnd.jupyter.widget-view+json": {
       "model_id": "fea5548511d64446aaf39635c59d14f6",
       "version_major": 2,
       "version_minor": 0
      },
      "text/plain": [
       "Text(value='', description='Label :')"
      ]
     },
     "metadata": {},
     "output_type": "display_data"
    }
   ],
   "source": [
    "Graph.w.Edit.label = widgets.Text( description='Label :', continous_update = False  )\n",
    "Graph.w.Edit.label"
   ]
  },
  {
   "cell_type": "markdown",
   "metadata": {
    "heading_collapsed": true
   },
   "source": [
    "## Search"
   ]
  },
  {
   "cell_type": "code",
   "execution_count": 305,
   "metadata": {
    "hidden": true
   },
   "outputs": [],
   "source": [
    "Graph.w.Edit.search = widgets.Text( description='Search :', continuous_update=False )\n",
    "#Graph.w.Edit.search"
   ]
  },
  {
   "cell_type": "code",
   "execution_count": 314,
   "metadata": {
    "hidden": true
   },
   "outputs": [],
   "source": [
    "def search(b):\n",
    "    JS(f\"\"\"\n",
    "    cy.$(':selected').unselect()\n",
    "    cy.$('{Graph.w.Edit.search.value}').select()\n",
    "    \"\"\")   #<-- delete elements\n",
    "Graph.wf.search = search\n",
    "Graph.w.Edit.search.observe( Graph.wf.search )"
   ]
  },
  {
   "cell_type": "markdown",
   "metadata": {},
   "source": [
    "## Node Shape"
   ]
  },
  {
   "cell_type": "code",
   "execution_count": null,
   "metadata": {},
   "outputs": [],
   "source": [
    "Graph.w.Edit.shape = widgets.Dropdown( description='Shape :', continuous_update=False )\n",
    "#Graph.w.Edit.search"
   ]
  },
  {
   "cell_type": "code",
   "execution_count": null,
   "metadata": {},
   "outputs": [],
   "source": [
    "widgets.Dropdown(\n",
    "    options=['circle', '2', '3'],\n",
    "    value='2',\n",
    "    description='Number:',\n",
    "    disabled=False,\n",
    ")"
   ]
  },
  {
   "cell_type": "code",
   "execution_count": null,
   "metadata": {},
   "outputs": [],
   "source": []
  },
  {
   "cell_type": "markdown",
   "metadata": {},
   "source": [
    "### Search Select"
   ]
  },
  {
   "cell_type": "code",
   "execution_count": 269,
   "metadata": {
    "scrolled": true
   },
   "outputs": [],
   "source": [
    "Graph.w.Edit.searchSelect = ipw.ToggleButton( icon='eye', layout= ipw.Layout(width='auto')  )\n",
    "#Graph.w.Edit.searchSelect"
   ]
  },
  {
   "cell_type": "code",
   "execution_count": 270,
   "metadata": {},
   "outputs": [],
   "source": [
    "def searchSelect(b):\n",
    "    \n",
    "    if Graph.w.Edit.searchSelect.value:   #<-- when activated\n",
    "        Graph.w.Edit.searchSelect.icon = 'eye-slash'\n",
    "        JS(\"\"\"\n",
    "        cy.io.to_hide = cy.elements().difference( cy.io.selection )\n",
    "        cy.io.to_hide.style(\"visibility\", \"hidden\")\n",
    "        \"\"\")\n",
    "    \n",
    "    else: #<-- when not clicked\n",
    "        Graph.w.Edit.searchSelect.icon = 'eye'\n",
    "        JS(\"\"\"cy.io.to_hide.style(\"visibility\", \"visible\")\"\"\")\n",
    "        \n",
    "Graph.wf.searchSelect = searchSelect\n",
    "Graph.w.Edit.searchSelect.observe( Graph.wf.searchSelect )\n",
    "\n"
   ]
  },
  {
   "cell_type": "markdown",
   "metadata": {},
   "source": [
    "# Display Boxes"
   ]
  },
  {
   "cell_type": "code",
   "execution_count": 339,
   "metadata": {},
   "outputs": [],
   "source": [
    "Graph.box = type(\"box\",(),{})()"
   ]
  },
  {
   "cell_type": "markdown",
   "metadata": {},
   "source": [
    "**Padding : ** \\[ top/ right/ bottom/ left \\]"
   ]
  },
  {
   "cell_type": "code",
   "execution_count": null,
   "metadata": {},
   "outputs": [],
   "source": []
  },
  {
   "cell_type": "markdown",
   "metadata": {},
   "source": [
    "## Style Box"
   ]
  },
  {
   "cell_type": "code",
   "execution_count": 518,
   "metadata": {},
   "outputs": [],
   "source": [
    "Graph.box.color = ipw.HBox([ ipw.Label('Color :'), Graph.w.Edit.color, \n",
    "                            ipw.Label('    '), Graph.w.Edit.background ])"
   ]
  },
  {
   "cell_type": "code",
   "execution_count": 519,
   "metadata": {},
   "outputs": [],
   "source": [
    "Graph.box.size = ipw.HBox([ipw.Label('Size :'), Graph.w.Edit.size ])"
   ]
  },
  {
   "cell_type": "code",
   "execution_count": 520,
   "metadata": {},
   "outputs": [],
   "source": [
    "Graph.box.style = ipw.VBox([  Graph.box.size,\n",
    "                              Graph.box.color])"
   ]
  },
  {
   "cell_type": "code",
   "execution_count": 525,
   "metadata": {
    "cell_style": "split",
    "scrolled": true
   },
   "outputs": [],
   "source": [
    "#Graph.box.style"
   ]
  },
  {
   "cell_type": "code",
   "execution_count": null,
   "metadata": {},
   "outputs": [],
   "source": []
  },
  {
   "cell_type": "code",
   "execution_count": null,
   "metadata": {},
   "outputs": [],
   "source": []
  },
  {
   "cell_type": "markdown",
   "metadata": {},
   "source": [
    "## Label Box"
   ]
  },
  {
   "cell_type": "code",
   "execution_count": 526,
   "metadata": {},
   "outputs": [],
   "source": [
    "Graph.box.label = ipw.HTML(\"<h4>Not implemented yet</h4>\")"
   ]
  },
  {
   "cell_type": "markdown",
   "metadata": {},
   "source": [
    "## Variables Box"
   ]
  },
  {
   "cell_type": "code",
   "execution_count": 527,
   "metadata": {},
   "outputs": [],
   "source": [
    "Graph.box.vars = ipw.HTML(\"<h4>Not implemented yet</h4>\")"
   ]
  },
  {
   "cell_type": "markdown",
   "metadata": {},
   "source": [
    "## Combine Style, Label, Variables"
   ]
  },
  {
   "cell_type": "code",
   "execution_count": 528,
   "metadata": {
    "cell_style": "center",
    "scrolled": true
   },
   "outputs": [],
   "source": [
    "Graph.box.combo = widgets.Accordion(children=[ Graph.box.style ,Graph.box.label, Graph.box.vars])\n",
    "Graph.box.combo.set_title(0, 'Style')\n",
    "Graph.box.combo.set_title(1, 'Label')\n",
    "Graph.box.combo.set_title(2, 'Variables')\n",
    "#Graph.box.combo"
   ]
  },
  {
   "cell_type": "code",
   "execution_count": null,
   "metadata": {},
   "outputs": [],
   "source": []
  },
  {
   "cell_type": "code",
   "execution_count": null,
   "metadata": {},
   "outputs": [],
   "source": []
  },
  {
   "cell_type": "markdown",
   "metadata": {},
   "source": [
    "## End Box"
   ]
  },
  {
   "cell_type": "code",
   "execution_count": 529,
   "metadata": {
    "cell_style": "center"
   },
   "outputs": [],
   "source": [
    "Graph.box.search = ipw.HBox([ Graph.w.Edit.search, Graph.w.Edit.searchSelect ])\n",
    "Graph.box.search.layout.padding = '10px 0px 0px 0px'\n",
    "#Graph.box.search"
   ]
  },
  {
   "cell_type": "code",
   "execution_count": 530,
   "metadata": {
    "cell_style": "center"
   },
   "outputs": [],
   "source": [
    "Graph.box.delete = ipw.HBox([ Graph.w.Edit.delete, Graph.w.Edit.undo ] )\n",
    "Graph.box.delete.layout.justify_content = \"center\"\n",
    "Graph.box.delete.layout.padding = '10px 0px 0px 0px'\n",
    "#Graph.box.delete"
   ]
  },
  {
   "cell_type": "code",
   "execution_count": 531,
   "metadata": {
    "cell_style": "split"
   },
   "outputs": [],
   "source": [
    "Graph.box.end = ipw.VBox([Graph.box.search, \n",
    "                          Graph.box.delete ])\n",
    "#Graph.box.end"
   ]
  },
  {
   "cell_type": "markdown",
   "metadata": {},
   "source": [
    "## Box of Everything"
   ]
  },
  {
   "cell_type": "code",
   "execution_count": 545,
   "metadata": {
    "cell_style": "split",
    "scrolled": true
   },
   "outputs": [],
   "source": [
    "Graph.box.all = ipw.VBox([ Graph.box.combo,\n",
    "                           Graph.box.end])\n",
    "#Graph.box.all"
   ]
  },
  {
   "cell_type": "code",
   "execution_count": null,
   "metadata": {},
   "outputs": [],
   "source": []
  },
  {
   "cell_type": "code",
   "execution_count": null,
   "metadata": {},
   "outputs": [],
   "source": []
  },
  {
   "cell_type": "markdown",
   "metadata": {},
   "source": [
    "## Show Box Based on Selection"
   ]
  },
  {
   "cell_type": "code",
   "execution_count": 544,
   "metadata": {},
   "outputs": [],
   "source": [
    "#Graph.box.size.layout.visibility = \"visible\""
   ]
  },
  {
   "cell_type": "code",
   "execution_count": 548,
   "metadata": {},
   "outputs": [],
   "source": [
    "def show(text):\n",
    "    return Graph.box.all\n",
    "Graph.box.show = show"
   ]
  },
  {
   "cell_type": "code",
   "execution_count": null,
   "metadata": {},
   "outputs": [],
   "source": []
  },
  {
   "cell_type": "code",
   "execution_count": null,
   "metadata": {},
   "outputs": [],
   "source": []
  },
  {
   "cell_type": "code",
   "execution_count": null,
   "metadata": {},
   "outputs": [],
   "source": []
  },
  {
   "cell_type": "code",
   "execution_count": null,
   "metadata": {},
   "outputs": [],
   "source": []
  },
  {
   "cell_type": "markdown",
   "metadata": {},
   "source": [
    "# Create Graph"
   ]
  },
  {
   "cell_type": "markdown",
   "metadata": {
    "heading_collapsed": true
   },
   "source": [
    "## Helper: <font color=\"magenta\">JupyterCell</font>\n",
    "\n",
    "<p></p>\n",
    " <font color=\"magenta\">JupyterCell</font> is a useful class that allows you to execute a specified *jupyter cell* from the command <font color=\"magenta\">JupyterCell</font><font color=\"blue\">.execute()</font>. This is used to change which <font color=\"green\">widget</font> is displayed inside of the visualizer's **editor cell**."
   ]
  },
  {
   "cell_type": "markdown",
   "metadata": {
    "hidden": true
   },
   "source": [
    "The editor box is the thing next to the visualizer where a user can change the graph. Notice that the contents of this box changes depending on what the user clicks on the control panel. The Control Panel/ Editor Box functionality is actually a little tricky to create in jupyter and require some special things to be built.\n"
   ]
  },
  {
   "cell_type": "code",
   "execution_count": 38,
   "metadata": {
    "hidden": true
   },
   "outputs": [],
   "source": [
    "class JupyterCell():\n",
    " \n",
    "    def __init__(self, cell_text, js_var, text_before=\"# \", ):\n",
    "        self.cell_text= cell_text\n",
    "        self.text_before= text_before\n",
    "        self.js_var = js_var\n",
    "        self.search()\n",
    "    \n",
    "    def search(self):\n",
    "        JS(\"\"\"\n",
    "        var cell_text= \"\";\n",
    "        \"\"\"+self.js_var+\"\"\"= 0;  \n",
    "        while( ! cell_text.includes('\"\"\"+self.text_before+self.cell_text+\"\"\"')  ){\n",
    "            cell_text = Jupyter.notebook.get_cell(\"\"\"+self.js_var+\"\"\").get_text();  //.element[\"0\"].innerText #<-- Old Way\n",
    "            \"\"\"+self.js_var+\"\"\"++\n",
    "        }\n",
    "        \"\"\"+self.js_var+\"\"\"--\n",
    "        \"\"\")\n",
    "    \n",
    "    def execute(self):  #<-- This gets the Cell by using the cell text. The cell text must be unique to that cell\n",
    "        self.search()\n",
    "        JS(\"\"\"\n",
    "        IPython.notebook.execute_cells([\"\"\"+self.js_var+\"\"\"])\n",
    "        \"\"\")\n"
   ]
  },
  {
   "cell_type": "markdown",
   "metadata": {
    "heading_collapsed": true
   },
   "source": [
    "## Helper: <font color=\"magenta\">Output</font><font color=\"orange\">.JS</font>\n",
    "\n",
    "**<font color=\"magenta\">OutputJS</font>** is a very useful <font color=\"magenta\">python class</font>/<font color=\"orange\">javascript function</font> that allows variable to go from: <font color=\"orange\">javascript</font> $\\rightarrow$ <font color=\"blue\">python</font>."
   ]
  },
  {
   "cell_type": "markdown",
   "metadata": {
    "hidden": true
   },
   "source": [
    "**Python Code**\n",
    "```python\n",
    "JS(\"OutputJS( 'howdy ho!' )\")\n",
    "OutputJS.var\n",
    "```\n",
    "** Output**\n",
    "```\n",
    "'howdy ho!'\n",
    "```\n"
   ]
  },
  {
   "cell_type": "code",
   "execution_count": 214,
   "metadata": {
    "code_folding": [],
    "hidden": true
   },
   "outputs": [
    {
     "data": {
      "text/html": [
       "<script>function sleep(ms){ return new Promise( resolve => setTimeout(resolve, ms)); };  </script>"
      ],
      "text/plain": [
       "<IPython.core.display.HTML object>"
      ]
     },
     "metadata": {},
     "output_type": "display_data"
    },
    {
     "data": {
      "text/html": [
       "<script>\n",
       "    async function OutputJS(text){ \n",
       "        Jupyter.notebook.kernel.execute( 'Output.var = \"'+String(text)+'\"' );  //<-- write text to python variable: Output.var \n",
       "        count = 1\n",
       "        while( Jupyter.notebook.kernel_busy && count < 25  ){                  //<-- wait for variable to be written, then continue\n",
       "            console.log( Jupyter.notebook.kernel_busy  )\n",
       "            count += 1\n",
       "            await sleep(100);\n",
       "        }\n",
       "        console.log(\"one more sleep\")\n",
       "        console.log( Jupyter.notebook.kernel_busy )\n",
       "        await sleep(1000);\n",
       "    };  \n",
       "    </script>"
      ],
      "text/plain": [
       "<IPython.core.display.HTML object>"
      ]
     },
     "metadata": {},
     "output_type": "display_data"
    }
   ],
   "source": [
    "class Output():\n",
    "    var = \"\"\n",
    "    JS(\"\"\"function sleep(ms){ return new Promise( resolve => setTimeout(resolve, ms)); };  \"\"\")\n",
    "    JS(\"\"\"\n",
    "    async function OutputJS(text){ \n",
    "        Jupyter.notebook.kernel.execute( 'Output.var = \"'+String(text)+'\"' );  //<-- write text to python variable: Output.var \n",
    "        count = 1\n",
    "        while( Jupyter.notebook.kernel_busy && count < 25  ){                  //<-- wait for variable to be written, then continue\n",
    "            console.log( Jupyter.notebook.kernel_busy  )\n",
    "            count += 1\n",
    "            await sleep(100);\n",
    "        }\n",
    "        console.log(\"one more sleep\")\n",
    "        console.log( Jupyter.notebook.kernel_busy )\n",
    "        await sleep(1000);\n",
    "    };  \n",
    "    \"\"\")\n",
    "    \n",
    "    def JS(text):\n",
    "        JS(\"\"\"OutputJS(\"\"\"+text+\"\"\")\"\"\")\n",
    "        time.sleep(.1)\n",
    "        return Output.var\n",
    "        \n"
   ]
  },
  {
   "cell_type": "code",
   "execution_count": 215,
   "metadata": {
    "hidden": true
   },
   "outputs": [
    {
     "data": {
      "text/html": [
       "<script>OutputJS(x)</script>"
      ],
      "text/plain": [
       "<IPython.core.display.HTML object>"
      ]
     },
     "metadata": {},
     "output_type": "display_data"
    },
    {
     "data": {
      "text/plain": [
       "''"
      ]
     },
     "execution_count": 215,
     "metadata": {},
     "output_type": "execute_result"
    }
   ],
   "source": [
    "JS(\"\"\"OutputJS(x)\"\"\")\n",
    "time.sleep(1)\n",
    "Output.var"
   ]
  },
  {
   "cell_type": "code",
   "execution_count": 216,
   "metadata": {
    "hidden": true
   },
   "outputs": [
    {
     "data": {
      "text/plain": [
       "'35'"
      ]
     },
     "execution_count": 216,
     "metadata": {},
     "output_type": "execute_result"
    }
   ],
   "source": [
    "Output.var"
   ]
  },
  {
   "cell_type": "code",
   "execution_count": 195,
   "metadata": {
    "hidden": true
   },
   "outputs": [],
   "source": [
    "time.sleep(3)\n"
   ]
  },
  {
   "cell_type": "markdown",
   "metadata": {},
   "source": [
    "##  create graph and editor"
   ]
  },
  {
   "cell_type": "markdown",
   "metadata": {},
   "source": [
    "Must re-execute this when debugging code"
   ]
  },
  {
   "cell_type": "code",
   "execution_count": 566,
   "metadata": {},
   "outputs": [],
   "source": [
    "Graph.w.Edit.boxAll = ipw.VBox([ ipw.HBox([ Graph.w.Edit.color, Graph.w.Edit.background ]),\n",
    "                                 Graph.w.Edit.size,\n",
    "                                 ipw.HBox([ Graph.w.Edit.search, Graph.w.Edit.searchSelect ]),\n",
    "                                 ipw.HBox([ Graph.w.Edit.delete, Graph.w.Edit.undo ]),\n",
    "                               ])\n"
   ]
  },
  {
   "cell_type": "code",
   "execution_count": null,
   "metadata": {},
   "outputs": [],
   "source": []
  },
  {
   "cell_type": "code",
   "execution_count": 567,
   "metadata": {},
   "outputs": [
    {
     "data": {
      "text/html": [
       "<script>\n",
       "        var cell_text= \"\";\n",
       "        canvas_num= 0;  \n",
       "        while( ! cell_text.includes('# My Canvas Box')  ){\n",
       "            cell_text = Jupyter.notebook.get_cell(canvas_num).get_text();  //.element[\"0\"].innerText #<-- Old Way\n",
       "            canvas_num++\n",
       "        }\n",
       "        canvas_num--\n",
       "        </script>"
      ],
      "text/plain": [
       "<IPython.core.display.HTML object>"
      ]
     },
     "metadata": {},
     "output_type": "display_data"
    },
    {
     "data": {
      "text/html": [
       "<script>\n",
       "        var cell_text= \"\";\n",
       "        canvas_num= 0;  \n",
       "        while( ! cell_text.includes('# My Canvas Box')  ){\n",
       "            cell_text = Jupyter.notebook.get_cell(canvas_num).get_text();  //.element[\"0\"].innerText #<-- Old Way\n",
       "            canvas_num++\n",
       "        }\n",
       "        canvas_num--\n",
       "        </script>"
      ],
      "text/plain": [
       "<IPython.core.display.HTML object>"
      ]
     },
     "metadata": {},
     "output_type": "display_data"
    },
    {
     "data": {
      "text/html": [
       "<script>\n",
       "        IPython.notebook.execute_cells([canvas_num])\n",
       "        </script>"
      ],
      "text/plain": [
       "<IPython.core.display.HTML object>"
      ]
     },
     "metadata": {},
     "output_type": "display_data"
    }
   ],
   "source": [
    "cy = Graph()\n",
    "\n",
    "\n",
    "Graph.canvas_box = JupyterCell(\"My Canvas Box\", \"canvas_num\")\n",
    "Graph.canvas_box.execute()\n"
   ]
  },
  {
   "cell_type": "code",
   "execution_count": 569,
   "metadata": {},
   "outputs": [
    {
     "data": {
      "text/html": [
       "<script>\n",
       "        var cell_text= \"\";\n",
       "        edit_num= 0;  \n",
       "        while( ! cell_text.includes('# My Edit Box')  ){\n",
       "            cell_text = Jupyter.notebook.get_cell(edit_num).get_text();  //.element[\"0\"].innerText #<-- Old Way\n",
       "            edit_num++\n",
       "        }\n",
       "        edit_num--\n",
       "        </script>"
      ],
      "text/plain": [
       "<IPython.core.display.HTML object>"
      ]
     },
     "metadata": {},
     "output_type": "display_data"
    },
    {
     "data": {
      "text/html": [
       "<script>\n",
       "        var cell_text= \"\";\n",
       "        edit_num= 0;  \n",
       "        while( ! cell_text.includes('# My Edit Box')  ){\n",
       "            cell_text = Jupyter.notebook.get_cell(edit_num).get_text();  //.element[\"0\"].innerText #<-- Old Way\n",
       "            edit_num++\n",
       "        }\n",
       "        edit_num--\n",
       "        </script>"
      ],
      "text/plain": [
       "<IPython.core.display.HTML object>"
      ]
     },
     "metadata": {},
     "output_type": "display_data"
    },
    {
     "data": {
      "text/html": [
       "<script>\n",
       "        IPython.notebook.execute_cells([edit_num])\n",
       "        </script>"
      ],
      "text/plain": [
       "<IPython.core.display.HTML object>"
      ]
     },
     "metadata": {},
     "output_type": "display_data"
    }
   ],
   "source": [
    "Graph.editor_box = JupyterCell(\"My Edit Box\", \"edit_num\")\n",
    "#Graph.editor_box.widg = ipw.HTML(\"<h5> </h5>\") #<-- widget initially empty\n",
    "Graph.editor_box.execute()\n"
   ]
  },
  {
   "cell_type": "code",
   "execution_count": 571,
   "metadata": {},
   "outputs": [
    {
     "data": {
      "text/html": [
       "<script>\n",
       "    cy.io.addNode = function(event){\n",
       "      if( event.target === cy ){                                                          // <-- If we tapped on the background\n",
       "          checkit = cy.add([ {  group: \"nodes\", position: event.position  } ]);          //<-- add node    \n",
       "      }; \n",
       "    };\n",
       "    cy.on('tap', cy.io.addNode );\n",
       "    </script>"
      ],
      "text/plain": [
       "<IPython.core.display.HTML object>"
      ]
     },
     "metadata": {},
     "output_type": "display_data"
    },
    {
     "data": {
      "text/html": [
       "<script>\n",
       "    cy.io.click_hist = [\"1\", \"2\", \"3\", \"4\"];\n",
       "    \n",
       "    cy.io.addEdge = function(event){                                    // <-- on \"tapping\" canvas\n",
       "        cy.io.click_hist.shift();                                         //<-- Remove oldest click\n",
       "\n",
       "        if( event.target !== cy && event.target.isNode() ){               // <-- If we tapped a Node\n",
       "          cy.io.click_hist.push( event.target.id() );                   // <-- Add node id to click history\n",
       "\n",
       "          if( cy.io.click_hist[0]==cy.io.click_hist[1] && cy.io.click_hist[2]==cy.io.click_hist[3] ){      //<-- If 2 double clicks\n",
       "              cy.add([ {  data: { source: cy.io.click_hist[0], target: cy.io.click_hist[2] }  } ]);         //<-- add edge\n",
       "          };\n",
       "\n",
       "        }else{                                                 //<-- if we didn't click a node\n",
       "          cy.io.click_hist.push( String(Math.random()) );   //<-- Add random string to click history (repeats unlikely)\n",
       "        }; \n",
       "    };\n",
       "    cy.on(\"click\" , cy.io.addEdge );\n",
       "    </script>"
      ],
      "text/plain": [
       "<IPython.core.display.HTML object>"
      ]
     },
     "metadata": {},
     "output_type": "display_data"
    },
    {
     "data": {
      "text/html": [
       "<script>\n",
       "        var check = 0;\n",
       "        var check_var;\n",
       "        cy.io.select_type = \"nothing\"\n",
       "\n",
       "\n",
       "        cy.io.test = function(event){\n",
       "            cy.io.selection = cy.$(':selected')                 //<-- Get selected elements\n",
       "            cy.io.last_type = cy.io.select_type\n",
       "\n",
       "            if( cy.io.selection.length == 0  ){                 //<-- Do nothing if nothing's selected\n",
       "                return\n",
       "            }\n",
       "            if( cy.io.selection.length == 1 ){                  //<-- If selection lenght is 1\n",
       "                //py.execute(\"Graph.w.Edit.id.value = '\"++\"'\")  //<- put selectors ID in box\n",
       "\n",
       "                if( cy.io.selection.isNode() && cy.io.last_type != \"1 node\" ){                      //<-- If it's a node\n",
       "                    cy.io.select_type = \"1 node\"\n",
       "                    py.execute(\"Graph.editor_box.widg = Graph.w.Edit.box('1 node')\")\n",
       "                    IPython.notebook.execute_cells([edit_num])  //<-- edit_num was setup by the Graph.editor_box \n",
       "                }\n",
       "                if( cy.io.selection.isEdge() &&  cy.io.last_type != \"1 edge\" ){                     //<-- If it's an edge\n",
       "                    cy.io.select_type = \"1 edge\"\n",
       "                    py.execute(\"Graph.editor_box.widg = Graph.w.Edit.box('1 edge')\")\n",
       "                    IPython.notebook.execute_cells([edit_num])  //<-- edit_num was setup by the Graph.editor_box\n",
       "                }\n",
       "\n",
       "            } else {                                           //<-- If Many elements\n",
       "                console.log(\"many items\")\n",
       "            }\n",
       "\n",
       "        };\n",
       "\n",
       "        cy.on('select unselect', 'node, edge', cy.io.test );\n",
       "    </script>"
      ],
      "text/plain": [
       "<IPython.core.display.HTML object>"
      ]
     },
     "metadata": {},
     "output_type": "display_data"
    }
   ],
   "source": [
    "cy.js.addNode()\n",
    "cy.js.addEdge()\n",
    "cy.js.editSelector()"
   ]
  },
  {
   "cell_type": "code",
   "execution_count": null,
   "metadata": {},
   "outputs": [],
   "source": [
    "JS(\"\"\"\n",
    "//cy.removeListener('tap', handler);\n",
    "//cy.removeListener( \"click\" ) \n",
    "//cy.removeListener( \"tap\" )\n",
    "//cy.removeListener( \"select\" )\n",
    "//cy.removeListener( \"unselect\" )\n",
    "\"\"\")"
   ]
  },
  {
   "cell_type": "code",
   "execution_count": 331,
   "metadata": {},
   "outputs": [
    {
     "ename": "IndentationError",
     "evalue": "expected an indented block (<ipython-input-331-0ca47ed7f79b>, line 3)",
     "output_type": "error",
     "traceback": [
      "\u001b[0;36m  File \u001b[0;32m\"<ipython-input-331-0ca47ed7f79b>\"\u001b[0;36m, line \u001b[0;32m3\u001b[0m\n\u001b[0;31m    checkit = cy.io.selection\u001b[0m\n\u001b[0m          ^\u001b[0m\n\u001b[0;31mIndentationError\u001b[0m\u001b[0;31m:\u001b[0m expected an indented block\n"
     ]
    }
   ],
   "source": [
    "def selectColor(self):\n",
    "\n",
    "checkit = cy.io.selection\n",
    "checkit.style(\"overlay-color\",\"gray\")\n",
    "checkit.style(\"overlay-opacity\",\".3\")\n",
    "checkit.style(\"overlay-padding\",\"8px\")"
   ]
  },
  {
   "cell_type": "code",
   "execution_count": 47,
   "metadata": {
    "scrolled": true
   },
   "outputs": [
    {
     "data": {
      "text/html": [
       "<script>document.getElementById('cy').style.backgroundColor = '#dffffe'</script>"
      ],
      "text/plain": [
       "<IPython.core.display.HTML object>"
      ]
     },
     "metadata": {},
     "output_type": "display_data"
    }
   ],
   "source": [
    "JS(f\"document.getElementById('cy').style.backgroundColor = '{Graph.w.Edit.color.value}'\")  "
   ]
  },
  {
   "cell_type": "code",
   "execution_count": 563,
   "metadata": {},
   "outputs": [],
   "source": [
    "Graph.editor_box.widg = Graph.box.show('1 node')"
   ]
  },
  {
   "cell_type": "code",
   "execution_count": null,
   "metadata": {},
   "outputs": [],
   "source": [
    "\"\"\"JS(\n",
    "Jupyter.notebook.kernel.execute(\"Graph.editor_box.widg = Graph.w.Edit.boxAll\")\n",
    "IPython.notebook.execute_cells([edit_num])  //<-- edit_num was setup by the Graph.editor_box\n",
    ")\"\"\""
   ]
  },
  {
   "cell_type": "markdown",
   "metadata": {},
   "source": [
    "# Visualize (Mock Setup)"
   ]
  },
  {
   "cell_type": "code",
   "execution_count": 570,
   "metadata": {
    "cell_style": "split",
    "scrolled": true
   },
   "outputs": [
    {
     "ename": "AttributeError",
     "evalue": "'JupyterCell' object has no attribute 'widg'",
     "output_type": "error",
     "traceback": [
      "\u001b[0;31m---------------------------------------------------------------------------\u001b[0m",
      "\u001b[0;31mAttributeError\u001b[0m                            Traceback (most recent call last)",
      "\u001b[0;32m<ipython-input-570-910f79319edb>\u001b[0m in \u001b[0;36m<module>\u001b[0;34m()\u001b[0m\n\u001b[1;32m      1\u001b[0m \u001b[0;31m# My Edit Box\u001b[0m\u001b[0;34m\u001b[0m\u001b[0;34m\u001b[0m\u001b[0m\n\u001b[0;32m----> 2\u001b[0;31m \u001b[0mdisplay\u001b[0m\u001b[0;34m(\u001b[0m \u001b[0mGraph\u001b[0m\u001b[0;34m.\u001b[0m\u001b[0meditor_box\u001b[0m\u001b[0;34m.\u001b[0m\u001b[0mwidg\u001b[0m  \u001b[0;34m)\u001b[0m\u001b[0;34m\u001b[0m\u001b[0m\n\u001b[0m",
      "\u001b[0;31mAttributeError\u001b[0m: 'JupyterCell' object has no attribute 'widg'"
     ]
    }
   ],
   "source": [
    "# My Edit Box\n",
    "display( Graph.editor_box.widg  )\n",
    "\n"
   ]
  },
  {
   "cell_type": "code",
   "execution_count": 568,
   "metadata": {
    "cell_style": "split",
    "scrolled": false
   },
   "outputs": [
    {
     "data": {
      "text/html": [
       "\n",
       "    <style> .cy { width: 50vw; height: 30vw}</style> \n",
       "    <div id=\"cy\" class=\"cy\"></div>\n",
       "    "
      ],
      "text/plain": [
       "<IPython.core.display.HTML object>"
      ]
     },
     "metadata": {},
     "output_type": "display_data"
    },
    {
     "data": {
      "text/html": [
       "<script>\n",
       "    // This block creates the javascript object 'cy' which hold everything related to the graph\n",
       "    var cy;\n",
       "    require(['cytoscape'], function(cytoscape){       \n",
       "        cy = cytoscape({ container: document.getElementById('cy'), layout: { name: 'cose' },\n",
       "                         style: [ { selector: 'node', style: { 'overlay-color': 'gray', 'overlay-padding': '2px', 'background-color': 'gray'  } },\n",
       "                                  { selector: 'edge', style: { 'overlay-color': 'gray', 'overlay-padding': '8px', 'line-color': 'gray'  } } ]\n",
       "        });\n",
       "        \n",
       "        // Here we initialize some settings for 'cy' \n",
       "        cy.io = {}       // <-- where we store all the parameters/variables we create        \n",
       "        cy.maxZoom(14)   // <-- Determine how much window zooms in and out\n",
       "        cy.minZoom(.4)\n",
       "        \n",
       "        cy.on(\"select\", 'node, edge' , function(){     //<-- highlight node when selected\n",
       "            this.style( 'overlay-opacity', .4 );\n",
       "        });\n",
       "        cy.on(\"unselect\", 'node, edge' , function(){   //<-- unhighlight when not selected\n",
       "            this.style( 'overlay-opacity', 0 );\n",
       "        });\n",
       "    });\n",
       "    \n",
       "\n",
       "    </script>"
      ],
      "text/plain": [
       "<IPython.core.display.HTML object>"
      ]
     },
     "metadata": {},
     "output_type": "display_data"
    }
   ],
   "source": [
    "# My Canvas Box\n",
    "cy.canvasHtml()\n",
    "cy.js.start()"
   ]
  },
  {
   "cell_type": "code",
   "execution_count": null,
   "metadata": {},
   "outputs": [],
   "source": [
    "checkit = cy.elements()\n",
    "var not_selected = cy.elements().difference( cy.io.selection )\n",
    "\n"
   ]
  },
  {
   "cell_type": "code",
   "execution_count": 426,
   "metadata": {},
   "outputs": [
    {
     "data": {
      "application/vnd.jupyter.widget-view+json": {
       "model_id": "b1a4f89dfd5f4a679f0928e00c440d50",
       "version_major": 2,
       "version_minor": 0
      },
      "text/plain": [
       "Button(button_style='danger', icon='image', layout=Layout(width='auto'), style=ButtonStyle())"
      ]
     },
     "metadata": {},
     "output_type": "display_data"
    }
   ],
   "source": [
    "ipw.Button(\n",
    "    button_style='danger', # 'success', 'info', 'warning', 'danger' or ''\n",
    "    icon='image',\n",
    "    layout= ipw.Layout(width='auto')\n",
    ")"
   ]
  },
  {
   "cell_type": "code",
   "execution_count": null,
   "metadata": {},
   "outputs": [],
   "source": []
  },
  {
   "cell_type": "code",
   "execution_count": 400,
   "metadata": {},
   "outputs": [
    {
     "data": {
      "text/html": [
       "<script>cy.$('edge').select()</script>"
      ],
      "text/plain": [
       "<IPython.core.display.HTML object>"
      ]
     },
     "metadata": {},
     "output_type": "display_data"
    }
   ],
   "source": [
    "JS(f\"cy.$('{Graph.w.Edit.search.value}').select()\")  "
   ]
  },
  {
   "cell_type": "code",
   "execution_count": 46,
   "metadata": {},
   "outputs": [
    {
     "data": {
      "text/plain": [
       "\"cy.$('').select()\""
      ]
     },
     "execution_count": 46,
     "metadata": {},
     "output_type": "execute_result"
    }
   ],
   "source": [
    "f\"cy.$('{Graph.w.Edit.search.value}').select()\"\n"
   ]
  },
  {
   "cell_type": "code",
   "execution_count": 248,
   "metadata": {},
   "outputs": [
    {
     "data": {
      "text/html": [
       "<script>\n",
       "    cy.removeListener('select');\n",
       "</script>"
      ],
      "text/plain": [
       "<IPython.core.display.HTML object>"
      ]
     },
     "metadata": {},
     "output_type": "display_data"
    }
   ],
   "source": [
    "JS(\"\"\"\n",
    "    cy.removeListener('select');\n",
    "\"\"\")"
   ]
  },
  {
   "cell_type": "code",
   "execution_count": null,
   "metadata": {},
   "outputs": [],
   "source": []
  },
  {
   "cell_type": "code",
   "execution_count": 238,
   "metadata": {},
   "outputs": [
    {
     "data": {
      "text/html": [
       "<script>\n",
       "checkit = cy.io.selection\n",
       "checkit.style(\"overlay-color\",\"gray\")\n",
       "checkit.style(\"overlay-opacity\",\".3\")\n",
       "checkit.style(\"overlay-padding\",\"7px\")\n",
       "</script>"
      ],
      "text/plain": [
       "<IPython.core.display.HTML object>"
      ]
     },
     "metadata": {},
     "output_type": "display_data"
    }
   ],
   "source": [
    "JS(\"\"\"\n",
    "checkit = cy.io.selection\n",
    "checkit.style(\"overlay-color\",\"gray\")\n",
    "checkit.style(\"overlay-opacity\",\".3\")\n",
    "checkit.style(\"overlay-padding\",\"8px\")\n",
    "\"\"\")"
   ]
  },
  {
   "cell_type": "markdown",
   "metadata": {},
   "source": [
    "** NOw working on node/edge size**"
   ]
  },
  {
   "cell_type": "code",
   "execution_count": 50,
   "metadata": {},
   "outputs": [],
   "source": []
  },
  {
   "cell_type": "code",
   "execution_count": 71,
   "metadata": {},
   "outputs": [
    {
     "data": {
      "text/html": [
       "<script>\n",
       "for( i=0; i < cy.io.selection.length; i++ ){\n",
       "    var ele = cy.io.selection[i]\n",
       "    if( ele.isNode() ){\n",
       "        ele.style( \"width\", 300 )\n",
       "        ele.style( \"height\", 300 )\n",
       "    } else{\n",
       "        ele.style( \"width\", 50.0 )\n",
       "    }\n",
       "}\n",
       "</script>"
      ],
      "text/plain": [
       "<IPython.core.display.HTML object>"
      ]
     },
     "metadata": {},
     "output_type": "display_data"
    }
   ],
   "source": [
    "  "
   ]
  },
  {
   "cell_type": "code",
   "execution_count": 53,
   "metadata": {},
   "outputs": [
    {
     "data": {
      "text/html": [
       "<script>\n",
       "console.log( cy.io.selection[0].width() )\n",
       "</script>"
      ],
      "text/plain": [
       "<IPython.core.display.HTML object>"
      ]
     },
     "metadata": {},
     "output_type": "display_data"
    }
   ],
   "source": [
    "JS(\"\"\"\n",
    "console.log( cy.io.selection[0].width() )\n",
    "\"\"\")   "
   ]
  },
  {
   "cell_type": "code",
   "execution_count": null,
   "metadata": {},
   "outputs": [],
   "source": []
  },
  {
   "cell_type": "code",
   "execution_count": null,
   "metadata": {},
   "outputs": [],
   "source": []
  },
  {
   "cell_type": "code",
   "execution_count": 168,
   "metadata": {},
   "outputs": [
    {
     "data": {
      "text/html": [
       "<script>\n",
       "    var check = 0;\n",
       "    var check_var;\n",
       "    cy.io.select_type = \"nothing\"\n",
       "    \n",
       "\n",
       "    cy.io.test = function(event){\n",
       "        cy.io.selection = cy.$(':selected')                 //<-- Get selected elements\n",
       "        cy.io.last_type = cy.io.select_type\n",
       "         \n",
       "        if( cy.io.selection.length == 0  ){                 //<-- Do nothing if nothing's selected\n",
       "            return\n",
       "        }\n",
       "        if( cy.io.selection.length == 1 ){                  //<-- If selection lenght is 1\n",
       "        \n",
       "            if( cy.io.selection.isNode() && cy.io.last_type != \"1 node\" ){                      //<-- If it's a node\n",
       "                cy.io.select_type = \"1 node\"\n",
       "                Jupyter.notebook.kernel.execute(\"Graph.editor_box.widg = Graph.w.Edit.boxAll\")\n",
       "                IPython.notebook.execute_cells([edit_num])  //<-- edit_num was setup by the Graph.editor_box \n",
       "            }\n",
       "            if( cy.io.selection.isEdge() &&  cy.io.last_type != \"1 edge\" ){                     //<-- If it's an edge\n",
       "                cy.io.select_type = \"1 edge\"\n",
       "                Jupyter.notebook.kernel.execute(\"Graph.editor_box.widg = Graph.w.Edit.boxAll\")\n",
       "                IPython.notebook.execute_cells([edit_num])  //<-- edit_num was setup by the Graph.editor_box\n",
       "            }\n",
       "            \n",
       "        } else {                                           //<-- If Many elements\n",
       "            console.log(\"many items\")\n",
       "        }\n",
       "        \n",
       "    };\n",
       "\n",
       "    cy.on('select unselect', 'node, edge', cy.io.test );\n",
       "</script>"
      ],
      "text/plain": [
       "<IPython.core.display.HTML object>"
      ]
     },
     "metadata": {},
     "output_type": "display_data"
    }
   ],
   "source": [
    "\n"
   ]
  },
  {
   "cell_type": "code",
   "execution_count": 167,
   "metadata": {},
   "outputs": [
    {
     "data": {
      "text/html": [
       "<script>\n",
       "    cy.removeListener('select unselect', cy.io.test);\n",
       "</script>"
      ],
      "text/plain": [
       "<IPython.core.display.HTML object>"
      ]
     },
     "metadata": {},
     "output_type": "display_data"
    }
   ],
   "source": []
  },
  {
   "cell_type": "code",
   "execution_count": null,
   "metadata": {},
   "outputs": [],
   "source": [
    "cy.$(':selected')\n",
    "\n",
    "checkit[1].isNode()\n",
    "checkit[0].isEdge()\n",
    "\n"
   ]
  },
  {
   "cell_type": "markdown",
   "metadata": {
    "cell_style": "center"
   },
   "source": [
    "Old test function"
   ]
  },
  {
   "cell_type": "code",
   "execution_count": null,
   "metadata": {},
   "outputs": [],
   "source": [
    "JS(\"\"\"\n",
    "    var check = 0;\n",
    "    var check_var;\n",
    "\n",
    "    cy.io.test = function(event){\n",
    "        cy.io.selection = cy.$(':selected')\n",
    "        \n",
    "        check += 1\n",
    "        console.log( String(check) +\": selection changed\")\n",
    "        check_var = \n",
    "        cehck_var2 = event\n",
    "    };\n",
    "\n",
    "    cy.on('select unselect', 'node, edge', cy.io.test );\n",
    "\"\"\")\n"
   ]
  },
  {
   "cell_type": "code",
   "execution_count": null,
   "metadata": {},
   "outputs": [],
   "source": [
    "#import inspect\n",
    "#lines = inspect.getsource(cy.js.addEdge)\n",
    "#print(lines)"
   ]
  },
  {
   "cell_type": "markdown",
   "metadata": {},
   "source": [
    "# Scratch Paper"
   ]
  },
  {
   "cell_type": "code",
   "execution_count": null,
   "metadata": {},
   "outputs": [],
   "source": []
  },
  {
   "cell_type": "code",
   "execution_count": null,
   "metadata": {},
   "outputs": [],
   "source": []
  },
  {
   "cell_type": "code",
   "execution_count": null,
   "metadata": {},
   "outputs": [],
   "source": []
  },
  {
   "cell_type": "code",
   "execution_count": null,
   "metadata": {},
   "outputs": [],
   "source": [
    "\"\"\"\n",
    "JS(\n",
    "\n",
    "cyto.layout({ name: 'circle'}).run();\n",
    "\n",
    ")\n",
    "\"\"\""
   ]
  },
  {
   "cell_type": "code",
   "execution_count": null,
   "metadata": {},
   "outputs": [],
   "source": [
    "\"\"\"cy.layout({ name: 'circle'}).run();\"\"\""
   ]
  }
 ],
 "metadata": {
  "hide_input": false,
  "kernelspec": {
   "display_name": "Python 3",
   "language": "python",
   "name": "python3"
  },
  "language_info": {
   "codemirror_mode": {
    "name": "ipython",
    "version": 3
   },
   "file_extension": ".py",
   "mimetype": "text/x-python",
   "name": "python",
   "nbconvert_exporter": "python",
   "pygments_lexer": "ipython3",
   "version": "3.6.5"
  },
  "toc": {
   "base_numbering": 1,
   "nav_menu": {},
   "number_sections": true,
   "sideBar": true,
   "skip_h1_title": false,
   "title_cell": "Table of Contents",
   "title_sidebar": "Contents",
   "toc_cell": false,
   "toc_position": {},
   "toc_section_display": true,
   "toc_window_display": false
  },
  "varInspector": {
   "cols": {
    "lenName": 16,
    "lenType": 16,
    "lenVar": 40
   },
   "kernels_config": {
    "python": {
     "delete_cmd_postfix": "",
     "delete_cmd_prefix": "del ",
     "library": "var_list.py",
     "varRefreshCmd": "print(var_dic_list())"
    },
    "r": {
     "delete_cmd_postfix": ") ",
     "delete_cmd_prefix": "rm(",
     "library": "var_list.r",
     "varRefreshCmd": "cat(var_dic_list()) "
    }
   },
   "types_to_exclude": [
    "module",
    "function",
    "builtin_function_or_method",
    "instance",
    "_Feature"
   ],
   "window_display": false
  }
 },
 "nbformat": 4,
 "nbformat_minor": 2
}
