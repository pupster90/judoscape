{
 "cells": [
  {
   "cell_type": "markdown",
   "metadata": {},
   "source": [
    "<p></p><font size=8 face=\"courier\" color=\"magenta\">Visualize</font>"
   ]
  },
  {
   "cell_type": "markdown",
   "metadata": {},
   "source": [
    "This notebook creates the widget inside of the \"Visualize\" section of the [Cytoscape app](../Cytoscape.ipynb)."
   ]
  },
  {
   "cell_type": "markdown",
   "metadata": {},
   "source": [
    "# Setup Notebook"
   ]
  },
  {
   "cell_type": "markdown",
   "metadata": {},
   "source": [
    "## Load Stuff"
   ]
  },
  {
   "cell_type": "markdown",
   "metadata": {},
   "source": [
    "`%cd` sets the path to that of Cytoscape.ipynb"
   ]
  },
  {
   "cell_type": "code",
   "execution_count": 562,
   "metadata": {
    "scrolled": true
   },
   "outputs": [
    {
     "name": "stdout",
     "output_type": "stream",
     "text": [
      "/root/Documents\n"
     ]
    },
    {
     "data": {
      "text/html": [
       "<script>var py = Jupyter.notebook.kernel</script>"
      ],
      "text/plain": [
       "<IPython.core.display.HTML object>"
      ]
     },
     "metadata": {},
     "output_type": "display_data"
    },
    {
     "data": {
      "text/html": [
       "<style>\n",
       "*{margin:0; padding:0;} html, body,              .container{margin:0;!important padding:0;!important}              .container { width:100% !important;}\n",
       "</style>"
      ],
      "text/plain": [
       "<IPython.core.display.HTML object>"
      ]
     },
     "metadata": {},
     "output_type": "display_data"
    },
    {
     "data": {
      "text/html": [
       "<style>\n",
       "div.text_cell.rendered { /* Customize text cells */\n",
       "    font-size:1.1em;\n",
       "    line-height:1.4em;\n",
       "}\n",
       "</style>"
      ],
      "text/plain": [
       "<IPython.core.display.HTML object>"
      ]
     },
     "metadata": {},
     "output_type": "display_data"
    },
    {
     "data": {
      "text/html": [
       "<style>\n",
       "#notebook-container {\n",
       "    box-shadow: 0px 0px 0px 0px rgba(87, 87, 87, 0.2);\n",
       "}\n",
       "div#notebook {\n",
       "    background-color: White;\n",
       "}\n",
       ".end_space {\n",
       "    background-color: White;\n",
       "}\n",
       "</style>"
      ],
      "text/plain": [
       "<IPython.core.display.HTML object>"
      ]
     },
     "metadata": {},
     "output_type": "display_data"
    },
    {
     "data": {
      "text/html": [
       "<style>\n",
       ".input_prompt {\n",
       "    margin:0;\n",
       "    padding:0;\n",
       "    min-width: 0ex;\n",
       "    font-size:.7em;\n",
       "}\n",
       ".prompt {\n",
       "    min-width: 2vw;\n",
       "}\n",
       "div.input_prompt bdi {\n",
       "    display: none;\n",
       "}\n",
       "div.input_prompt i {\n",
       "    font-size: 2em;\n",
       "    opacity: 0.7;\n",
       "}\n",
       "</style>"
      ],
      "text/plain": [
       "<IPython.core.display.HTML object>"
      ]
     },
     "metadata": {},
     "output_type": "display_data"
    },
    {
     "data": {
      "application/javascript": [
       "\n",
       "// Movement between Cells\n",
       "Jupyter.keyboard_manager.command_shortcuts.add_shortcut('-', 'jupyter-notebook:select-previous-cell');\n",
       "Jupyter.keyboard_manager.command_shortcuts.add_shortcut('=', 'jupyter-notebook:select-next-cell');\n",
       "Jupyter.keyboard_manager.command_shortcuts.add_shortcut('shift--', 'jupyter-notebook:extend-selection-above');\n",
       "Jupyter.keyboard_manager.command_shortcuts.add_shortcut('shift-=', 'jupyter-notebook:extend-selection-below');\n",
       "Jupyter.keyboard_manager.command_shortcuts.add_shortcut('alt--', 'jupyter-notebook:move-selection-up');\n",
       "Jupyter.keyboard_manager.command_shortcuts.add_shortcut('alt-=', 'jupyter-notebook:move-selection-down');\n",
       "\n",
       "// Controls Collapssing\n",
       "Jupyter.keyboard_manager.command_shortcuts.add_shortcut(']', 'collapsible_headings:uncollapse_heading');\n",
       "Jupyter.keyboard_manager.command_shortcuts.add_shortcut('[', 'collapsible_headings:collapse_heading');\n",
       "Jupyter.keyboard_manager.command_shortcuts.add_shortcut('shift-]', 'collapsible_headings:uncollapse_all_headings');\n",
       "Jupyter.keyboard_manager.command_shortcuts.add_shortcut('shift-[', 'collapsible_headings:collapse_all_headings');\n",
       "\n",
       " // SKETCHY ONE // Entre command mode\n",
       "Jupyter.keyboard_manager.edit_shortcuts.add_shortcut('shift-6', 'jupyter-notebook:enter-command-mode');\n"
      ],
      "text/plain": [
       "<IPython.core.display.Javascript object>"
      ]
     },
     "metadata": {},
     "output_type": "display_data"
    },
    {
     "data": {
      "text/html": [
       "<style>\n",
       "body {\n",
       "    -webkit-overflow-scrolling: touch;\n",
       "}\n",
       "</style>"
      ],
      "text/plain": [
       "<IPython.core.display.HTML object>"
      ]
     },
     "metadata": {},
     "output_type": "display_data"
    },
    {
     "data": {
      "text/html": [
       "\n",
       "<b style=\"color:red\">Note:</b> Somce cells are <font color=\"gray\">\"grayed out\"</font> with <i style=\"color:blue\">\"Debug\"</i> written next to them.\n",
       "<p>This was done to improve efficiency and to control what is shown in the final notebook. \n",
       "<b>Uncomment these cells</b> when working on hte notebook.</p>\n"
      ],
      "text/plain": [
       "<IPython.core.display.HTML object>"
      ]
     },
     "metadata": {},
     "output_type": "display_data"
    },
    {
     "data": {
      "text/html": [
       "\n",
       "<style>\n",
       "\n",
       "div.text_cell_render h1 { /* Main titles bigger, centered */\n",
       "text-align:center;\n",
       "}\n",
       "\n",
       "\n",
       "\n",
       "div.text_cell_render { /* Customize text cells */\n",
       "padding-left:3em;\n",
       "padding-right:3em;\n",
       "color: rgb(127, 127, 127);\n",
       "}\n",
       "</style>\n"
      ],
      "text/plain": [
       "<IPython.core.display.HTML object>"
      ]
     },
     "metadata": {},
     "output_type": "display_data"
    }
   ],
   "source": [
    "\"\"\" DEBUG \n",
    "%cd /root/Documents    \n",
    "%run \"Source Code/Setup Notebook.ipynb\" #<-- Debug\n",
    "%run \"Source Code/Setup Source.ipynb\"   #<-- Debu\n",
    " \"\"\""
   ]
  },
  {
   "cell_type": "markdown",
   "metadata": {
    "heading_collapsed": true
   },
   "source": [
    "## Create <font color=\"blue\">Python</font> <font color=\"magenta\">Graph</font> object\n",
    "\n",
    "Here we create the initial <font color=\"magenta\">Graph</font> class. This class is used to creat and manage the networks visualization. This section only consists of the initialization <font color=\"magenta\">Graph</font> and some of it's basic functions. Most of <font color=\"magenta\">Graph</font> functionality is actually implemented inside of the **Add Widgets** section"
   ]
  },
  {
   "cell_type": "markdown",
   "metadata": {
    "hidden": true
   },
   "source": [
    "The <font color=\"magenta\">Graph</font> Class is what is used to create and manage the networks visualization"
   ]
  },
  {
   "cell_type": "code",
   "execution_count": 563,
   "metadata": {
    "hidden": true
   },
   "outputs": [],
   "source": [
    "class Graph():\n",
    "        pass"
   ]
  },
  {
   "cell_type": "markdown",
   "metadata": {
    "heading_collapsed": true
   },
   "source": [
    "## Create <font color=\"olive\">HTML</font> Object *\"CY\"* <small>(During Development)</small>\n",
    "\n",
    "This function uses the <font color=\"magenta\">JupyterCell</font> class to find *\"My Canvas Box\"* and then creates the **cy** html object"
   ]
  },
  {
   "cell_type": "code",
   "execution_count": 564,
   "metadata": {
    "hidden": true
   },
   "outputs": [
    {
     "data": {
      "text/plain": [
       "' Debug \\nGraph.canvas_box = JupyterCell(\"My Canvas Box\", \"canvas_num\")\\nGraph.canvas_box.execute()\\n'"
      ]
     },
     "execution_count": 564,
     "metadata": {},
     "output_type": "execute_result"
    }
   ],
   "source": [
    "\"\"\" Debug \n",
    "Graph.canvas_box = JupyterCell(\"My Canvas Box\", \"canvas_num\")\n",
    "Graph.canvas_box.execute()\n",
    "\"\"\""
   ]
  },
  {
   "cell_type": "markdown",
   "metadata": {
    "heading_collapsed": true
   },
   "source": [
    "# <font color=\"orange\">Javascript Functions</font>"
   ]
  },
  {
   "cell_type": "markdown",
   "metadata": {
    "heading_collapsed": true,
    "hidden": true
   },
   "source": [
    "## <font color=\"orange\">Start Javascript</font>"
   ]
  },
  {
   "cell_type": "markdown",
   "metadata": {
    "hidden": true
   },
   "source": [
    "`Graph.js` holds all of the js code. All of the js code (that not written inside a function with `def`) must be ran at once or else errors will occure.\n",
    "\n",
    "We building a `Graph.js.text` which hold all the javascript as text, which is run by `Graph.js.load()`. However, during development and debugging, it's easier to run the js code a a few cells at a time."
   ]
  },
  {
   "cell_type": "code",
   "execution_count": 565,
   "metadata": {
    "hidden": true
   },
   "outputs": [],
   "source": [
    "Graph.js = type(\"javascript\",(),{})()"
   ]
  },
  {
   "cell_type": "markdown",
   "metadata": {
    "hidden": true
   },
   "source": [
    "Initialize the javascript object cy, which handles all the manipulations of the html canvas (also called 'cy')"
   ]
  },
  {
   "cell_type": "code",
   "execution_count": 566,
   "metadata": {
    "hidden": true
   },
   "outputs": [],
   "source": [
    "Graph.js.text = \"\"\"\n",
    "var cy;\n",
    "require(['cytoscape'], function(cytoscape){ \n",
    "    cy = cytoscape({ container: document.getElementById('cy') });\n",
    "\"\"\"    \n",
    "Graph.js.end = \"});\""
   ]
  },
  {
   "cell_type": "markdown",
   "metadata": {
    "hidden": true
   },
   "source": [
    "<font color=\"orange\">Graph.js.load</font>"
   ]
  },
  {
   "cell_type": "code",
   "execution_count": 567,
   "metadata": {
    "hidden": true
   },
   "outputs": [],
   "source": [
    "def loadJS():\n",
    "    JS( Graph.js.text + Graph.js.end )\n",
    "Graph.js.load = loadJS\n",
    "#Graph.js.load() ### DEBUG ###"
   ]
  },
  {
   "cell_type": "markdown",
   "metadata": {
    "hidden": true
   },
   "source": [
    "initial settings for 'cy' "
   ]
  },
  {
   "cell_type": "code",
   "execution_count": 568,
   "metadata": {
    "hidden": true
   },
   "outputs": [],
   "source": [
    "### For Changing highlight features:\n",
    "#def selectColor(self):\n",
    "\n",
    "#checkit = cy.$(':selected')\n",
    "#checkit.style(\"overlay-color\",\"gray\")\n",
    "#checkit.style(\"overlay-opacity\",\".3\")\n",
    "#checkit.style(\"overlay-padding\",\"8px\")"
   ]
  },
  {
   "cell_type": "code",
   "execution_count": 569,
   "metadata": {
    "hidden": true
   },
   "outputs": [],
   "source": [
    "js = \"\"\"\n",
    "cy.io = {}       // <-- where we store all the parameters/variables we create        \n",
    "cy.maxZoom(14)   // <-- Determine how much window zooms in and out\n",
    "cy.minZoom(.4)\n",
    "\n",
    "cy.on(\"select\", 'node, edge' , function(){     //<-- highlight node when selected\n",
    "    this.style( 'overlay-opacity', .4 );\n",
    "});\n",
    "cy.on(\"unselect\", 'node, edge' , function(){   //<-- unhighlight when not selected\n",
    "    this.style( 'overlay-opacity', 0 );\n",
    "});\n",
    "\n",
    "// Create default style for nodes and edges\n",
    "cy.io.style = {}\n",
    "cy.io.style.node = { 'overlay-color': 'gray', 'overlay-padding': '2px', 'background-color': 'gray', 'text-background-color':'white',\n",
    "                        'text-border-width':'2px', 'text-background-padding':'4px', 'z-index-compare':'manual' }\n",
    "cy.io.style.edge = { 'overlay-color': 'gray', 'overlay-padding': '8px', 'line-color': 'gray', 'curve-style': 'bezier', 'text-background-color':'white',\n",
    "                        'text-border-width':'2px', 'text-background-padding':'4px', 'z-index-compare':'manual' }\n",
    "\n",
    "// When selecting/unselecting elements, Save selection search (for computational efficiency)                      \n",
    "cy.on('select unselect', 'node, edge', function(event){ cy.io.selection= cy.$(':selected')  }); \n",
    "\"\"\"\n",
    "Graph.js.text = Graph.js.text + js\n",
    "#JS( js ) ### DEBUG ###"
   ]
  },
  {
   "cell_type": "markdown",
   "metadata": {
    "heading_collapsed": true,
    "hidden": true
   },
   "source": [
    "## <font color=\"orange\">Set Styles</font>\n",
    "\n",
    "<font color=\"orange\">cy.io.style.set</font> sets the style of the node/edge when it's added to the graph. If the parameter, <font color=\"blue\">self</font> is true (default false) then function works the other way: \n",
    ">  <font color=\"orange\">cy.io.style</font> $\\leftarrow$ element.style() "
   ]
  },
  {
   "cell_type": "code",
   "execution_count": 570,
   "metadata": {
    "hidden": true
   },
   "outputs": [],
   "source": [
    "js=\"\"\"\n",
    "cy.io.style.set = function(ele, self=false){\n",
    "    var style = (ele.isNode() ) ? cy.io.style.node : cy.io.style.edge ;\n",
    "    \n",
    "    if( self == false ){ //<-- set properties of element\n",
    "        for (var property in style ) {\n",
    "            if(  !/[A-Z]/.test(property) && !property.includes(\"pie\") && ele.style(property) != \"NaNpx\"  ){   //  remove cytoscape.js errors\n",
    "                ele.style( property, style[property] )\n",
    "           }\n",
    "        }    \n",
    "    }else{               //<-- set properties of style *using* element\n",
    "        for( var property in ele.style() ){ \n",
    "            if(  !/[A-Z]/.test(property) && !property.includes(\"pie\") && ele.style(property) != \"NaNpx\"  ){   //  remove cytoscape.js errors\n",
    "                style[ property ] = ele.style( property ) \n",
    "           }\n",
    "        }\n",
    "    }\n",
    "};\n",
    "\"\"\"\n",
    "Graph.js.text = Graph.js.text + js\n",
    "#JS( js ) ### DEBUG ###"
   ]
  },
  {
   "cell_type": "markdown",
   "metadata": {
    "heading_collapsed": true,
    "hidden": true
   },
   "source": [
    "## <font color=\"orange\">addNode</font>\n",
    "\n",
    "<font color=\"orange\">cy.io.addNode</font>  adds new nodes to the network when the clicks and empty part of the graph."
   ]
  },
  {
   "cell_type": "code",
   "execution_count": 571,
   "metadata": {
    "hidden": true
   },
   "outputs": [],
   "source": [
    "js=\"\"\"\n",
    "cy.io.addNode = function(event){\n",
    "  if( event.target === cy ){                                                          // <-- If we tapped on the background\n",
    "      var ele = cy.add([ {  group: \"nodes\", position: event.position  } ]);          //<-- add node    \n",
    "      cy.io.style.set( ele )\n",
    "  }; \n",
    "};\n",
    "cy.on('tap', cy.io.addNode );\n",
    "\"\"\"\n",
    "Graph.js.text = Graph.js.text + js\n",
    "#JS( js ) ### DEBUG ###"
   ]
  },
  {
   "cell_type": "markdown",
   "metadata": {
    "heading_collapsed": true,
    "hidden": true
   },
   "source": [
    "## <font color=\"orange\">addEdge</font>\n",
    "\n",
    "<font color=\"orange\">cy.io.addEdge</font> adds a new edge when the use double clicks one nodes and then double clicks another node. <font color=\"orange\">addEdge</font> check for the double clicking and adds a new edge if necessary."
   ]
  },
  {
   "cell_type": "code",
   "execution_count": 572,
   "metadata": {
    "hidden": true
   },
   "outputs": [],
   "source": [
    "js=\"\"\"\n",
    "cy.io.click_hist = [\"1\", \"2\", \"3\", \"4\"];\n",
    "cy.io.click_time = [8, 6, 4, 2];\n",
    "\n",
    "cy.io.addEdge = function(event){                                    // <-- on \"tapping\" canvas\n",
    "    cy.io.click_hist.shift();     //<-- Remove oldest click\n",
    "    \n",
    "    //Update Click times\n",
    "    var d = new Date()\n",
    "    cy.io.click_time.shift()\n",
    "    cy.io.click_time.push( d.getTime()/1000 )\n",
    "    \n",
    "    if( event.target !== cy && event.target.isNode() ){               // <-- If we tapped a Node\n",
    "      cy.io.click_hist.push( event.target.id() );                   // <-- Add node id to click history\n",
    "\n",
    "      if( cy.io.click_hist[0]==cy.io.click_hist[1] && cy.io.click_hist[2]==cy.io.click_hist[3] && \\\n",
    "          cy.io.click_time[1] - cy.io.click_time[0] < 1 && cy.io.click_time[3] - cy.io.click_time[2] < 1  ){ //<-- If 2 double clicks\n",
    "          \n",
    "          var ele= cy.add([ {  data: { source: cy.io.click_hist[0], target: cy.io.click_hist[2] }  } ]);    //<-- add edge\n",
    "          cy.io.style.set( ele )                                                                            //<-- add style of new edge\n",
    "      };\n",
    "\n",
    "    }else{                                                 //<-- if we didn't click a node\n",
    "      cy.io.click_hist.push( String(Math.random()) );   //<-- Add random string to click history (repeats unlikely)\n",
    "    }; \n",
    "};\n",
    "cy.on( 'tap' , cy.io.addEdge );\n",
    "\"\"\"\n",
    "Graph.js.text = Graph.js.text + js\n",
    "#JS(\"cy.removeListener( 'tap', cy.io.addEdge) \") ### DEBUG ##\n",
    "#JS( js ) ### DEBUG ###"
   ]
  },
  {
   "cell_type": "markdown",
   "metadata": {
    "heading_collapsed": true,
    "hidden": true
   },
   "source": [
    "## <font color=\"orange\">Change Style for Element</font>\n",
    "\n",
    "<font color=\"orange\">cy.io.style.change</font> is used to edit the style elements."
   ]
  },
  {
   "cell_type": "markdown",
   "metadata": {
    "hidden": true
   },
   "source": [
    "This process is a little involved because the style variables <font color=\"orange\">cy.io.style.node</font> and <font color=\"orange\">cy.io.style.edge</font> must also be set to the style of the current element, and then changed."
   ]
  },
  {
   "cell_type": "code",
   "execution_count": 573,
   "metadata": {
    "hidden": true
   },
   "outputs": [],
   "source": [
    "js=\"\"\"\n",
    "cy.io.style.change = function(ele, property, value ){\n",
    "    cy.io.style.set( ele, self=true )                                     // Make style same as node type\n",
    "    var style = (ele.isNode() ) ? cy.io.style.node : cy.io.style.edge ;   // get style type\n",
    "    \n",
    "    typeof(property)\n",
    "    if( typeof(property)==\"string\" ){                                     // handle changing a single style property\n",
    "        style[ property ] = value                                             // change style value\n",
    "        ele.style( property, value )                                          // change element's value\n",
    "    }else{                                                                // Multiple properties\n",
    "        for(var i=0; i<property.length; i++){\n",
    "            style[ property[i] ] = value[i]\n",
    "            ele.style( property[i], value[i] )  \n",
    "        }\n",
    "    }\n",
    "};\n",
    "\"\"\"\n",
    "Graph.js.text = Graph.js.text + js\n",
    "#JS( js ) ### DEBUG ###"
   ]
  },
  {
   "cell_type": "markdown",
   "metadata": {
    "heading_collapsed": true,
    "hidden": true
   },
   "source": [
    "## <font color=\"orange\">Get Default Node/Edge Style</font>\n",
    "\n",
    "the variables <font color=\"orange\">cy.io.default.node/edge</font> hold the default stylesheets create when the networks starts."
   ]
  },
  {
   "cell_type": "markdown",
   "metadata": {
    "hidden": true
   },
   "source": [
    "After setting up everything else (above) we create some dummy data, set <font color=\"orange\">cy.io.style</font> to their style, and then set <font color=\"orange\">cy.io.default</font> to that."
   ]
  },
  {
   "cell_type": "code",
   "execution_count": 574,
   "metadata": {
    "hidden": true
   },
   "outputs": [],
   "source": [
    "js=\"\"\"\n",
    "var eles = cy.add([  {data: { id: 'a' }},  {data: { id: 'b' }},  {data: { id: 'ab', source: 'a', target: 'b'}}  ])\n",
    "cy.io.style.set( eles[0] ) \n",
    "cy.io.style.set( eles[2] )\n",
    "cy.io.style.set(eles[0], self=true )\n",
    "cy.io.style.set(eles[2], self=true )\n",
    "cy.io.default = {}\n",
    "cy.io.default.node = jQuery.extend(true, {}, cy.io.style.node );\n",
    "cy.io.default.edge = jQuery.extend(true, {}, cy.io.style.edge );\n",
    "cy.remove(eles)\n",
    "\"\"\"\n",
    "Graph.js.text = Graph.js.text + js\n",
    "#JS( js ) ### DEBUG ###"
   ]
  },
  {
   "cell_type": "markdown",
   "metadata": {},
   "source": [
    "# <font color=\"green\">Editor Widgets</font> \n",
    "\n",
    "The purpose of the <font color=\"green\">widgets</font>  section is to create all the basic \"tools\" that are used to manipulate the cytoscape canvas. We create the tools and the functions that allow them to do their job. Later, in the **\"Display Boxes\"** section, we combine to the tools together to build a pretty layout"
   ]
  },
  {
   "cell_type": "code",
   "execution_count": 575,
   "metadata": {},
   "outputs": [],
   "source": [
    "Graph.w = type(\"widget_list\",(),{})()\n",
    "Graph.w.time = 0 #<-- used to measure time between update events (see size for example)\n",
    "Graph.w.vars = {}#<-- used to hold variable classes that a user creates"
   ]
  },
  {
   "cell_type": "markdown",
   "metadata": {
    "heading_collapsed": true
   },
   "source": [
    "## <font color=\"DarkKhaki\">Node</font> and <font color=\"purple\">Edge</font> <font color=\"green\">Widgets</font> "
   ]
  },
  {
   "cell_type": "markdown",
   "metadata": {
    "heading_collapsed": true,
    "hidden": true
   },
   "source": [
    "### <font color=\"green\">Color </font> "
   ]
  },
  {
   "cell_type": "code",
   "execution_count": 576,
   "metadata": {
    "hidden": true
   },
   "outputs": [],
   "source": [
    "Graph.w.color = ipw.ColorPicker(  )\n",
    "#Graph.w.color"
   ]
  },
  {
   "cell_type": "code",
   "execution_count": 577,
   "metadata": {
    "code_folding": [],
    "hidden": true
   },
   "outputs": [],
   "source": [
    "def color(b):\n",
    "    values = \"['\"+Graph.w.color.value+\"','\"+Graph.w.color.value+\"']\"\n",
    "    display(Javascript(\"\"\"\n",
    "    for(var i=0; i < cy.io.selection.length; i++ ){\n",
    "        var ele = cy.io.selection[i]\n",
    "        cy.io.style.change( ele, [\"background-color\",\"line-color\"], \"\"\"+values+\"\"\"  )\n",
    "    }\n",
    "    \"\"\"))          \n",
    "Graph.w.color.observe( color )"
   ]
  },
  {
   "cell_type": "markdown",
   "metadata": {
    "heading_collapsed": true,
    "hidden": true
   },
   "source": [
    "### <font color=\"green\">Size</font> "
   ]
  },
  {
   "cell_type": "code",
   "execution_count": 578,
   "metadata": {
    "hidden": true
   },
   "outputs": [],
   "source": [
    "Graph.w.size = ipw.IntSlider(value=30, min=1, max=200, continuous_update=True )\n",
    "#Graph.w.size "
   ]
  },
  {
   "cell_type": "code",
   "execution_count": 579,
   "metadata": {
    "code_folding": [],
    "hidden": true
   },
   "outputs": [],
   "source": [
    "def size(b):\n",
    "    values = \"['\"+str(Graph.w.size.value)+\"','\"+str(Graph.w.size.value)+\"']\" #<-- values for changing node's style\n",
    "    display(Javascript(\"\"\"\n",
    "    for( var i=0; i < cy.io.selection.length; i++ ){\n",
    "        var ele = cy.io.selection[i]\n",
    "        if( ele.isNode() ){\n",
    "            cy.io.style.change( ele, [\"width\",\"height\"], \"\"\"+values+\"\"\"   )   \n",
    "        }else{\n",
    "            cy.io.style.change( ele, \"width\", '\"\"\"+str(Graph.w.size.value/6)+\"\"\"'   )   \n",
    "        }\n",
    "    }\n",
    "    \"\"\"))           \n",
    "Graph.w.size.observe( size )"
   ]
  },
  {
   "cell_type": "markdown",
   "metadata": {
    "heading_collapsed": true,
    "hidden": true
   },
   "source": [
    "### <font color=\"green\">Opacity</font>  "
   ]
  },
  {
   "cell_type": "code",
   "execution_count": 580,
   "metadata": {
    "hidden": true
   },
   "outputs": [],
   "source": [
    "Graph.w.opacity = ipw.FloatSlider(value=.5, min=0, max=1, step=.05, continuous_update=True )\n",
    "#Graph.w.opacity "
   ]
  },
  {
   "cell_type": "code",
   "execution_count": 581,
   "metadata": {
    "code_folding": [],
    "hidden": true
   },
   "outputs": [],
   "source": [
    "def opacity(b):\n",
    "    display(Javascript(\"\"\"\n",
    "    for(var i=0; i < cy.io.selection.length; i++ ){\n",
    "        var ele = cy.io.selection[ i ]\n",
    "        cy.io.style.change( ele, \"opacity\", '\"\"\"+str(Graph.w.opacity.value)+\"\"\"'  )\n",
    "    }\n",
    "    \"\"\"))           \n",
    "Graph.w.opacity.observe( opacity )"
   ]
  },
  {
   "cell_type": "markdown",
   "metadata": {
    "heading_collapsed": true,
    "hidden": true
   },
   "source": [
    "### <font color=\"green\">Z-Index Labels Behind/In-Front</font> <font color=\"red\">Glitchy</font>"
   ]
  },
  {
   "cell_type": "code",
   "execution_count": 582,
   "metadata": {
    "hidden": true
   },
   "outputs": [],
   "source": [
    "Graph.w.z_index = ipw.IntSlider(value=0, min=0, max=5, continuous_update=True )\n",
    "#Graph.w.z_index"
   ]
  },
  {
   "cell_type": "code",
   "execution_count": 583,
   "metadata": {
    "hidden": true
   },
   "outputs": [],
   "source": [
    "def z_index(b):\n",
    "    display(Javascript(\"\"\"\n",
    "    for(var i=0; i < cy.io.selection.length; i++ ){\n",
    "        var ele = cy.io.selection[ i ]\n",
    "        cy.io.style.change( ele, \"z-index\", '\"\"\"+str(Graph.w.z_index.value)+\"\"\"'  )\n",
    "    }\n",
    "    \"\"\"))               \n",
    "Graph.w.z_index.observe( z_index )"
   ]
  },
  {
   "cell_type": "markdown",
   "metadata": {
    "heading_collapsed": true
   },
   "source": [
    "## <font color=\"green\">General Widgets</font> "
   ]
  },
  {
   "cell_type": "markdown",
   "metadata": {
    "heading_collapsed": true,
    "hidden": true
   },
   "source": [
    "### <font color=\"green\">Undo Delete </font> "
   ]
  },
  {
   "cell_type": "code",
   "execution_count": 584,
   "metadata": {
    "hidden": true
   },
   "outputs": [],
   "source": [
    "Graph.w.undo = ipw.Button(description='Undo',button_style='primary', disabled= True )\n",
    "#Graph.w.undo"
   ]
  },
  {
   "cell_type": "code",
   "execution_count": 585,
   "metadata": {
    "hidden": true
   },
   "outputs": [],
   "source": [
    "def undo(b):\n",
    "    display(Javascript(\"cy.add( cy.io.last_deleted );\"))   #<-- Add last deleted element\n",
    "    b.disabled = True\n",
    "Graph.w.undo.on_click( undo )"
   ]
  },
  {
   "cell_type": "markdown",
   "metadata": {
    "heading_collapsed": true,
    "hidden": true
   },
   "source": [
    "### <font color=\"green\">Delete</font> "
   ]
  },
  {
   "cell_type": "code",
   "execution_count": 586,
   "metadata": {
    "hidden": true
   },
   "outputs": [],
   "source": [
    "Graph.w.delete = ipw.Button(description='Delete',button_style='danger')\n",
    "#Graph.w.delete"
   ]
  },
  {
   "cell_type": "code",
   "execution_count": 587,
   "metadata": {
    "hidden": true
   },
   "outputs": [],
   "source": [
    "def delete(b):\n",
    "    display(Javascript(\"cy.io.last_deleted = cy.io.selection.remove();\"))   #<-- delete elements\n",
    "    Graph.w.undo.disabled = False\n",
    "Graph.w.delete.on_click( delete )"
   ]
  },
  {
   "cell_type": "markdown",
   "metadata": {
    "heading_collapsed": true,
    "hidden": true
   },
   "source": [
    "### <font color=\"green\">Background Color </font> "
   ]
  },
  {
   "cell_type": "code",
   "execution_count": 588,
   "metadata": {
    "hidden": true
   },
   "outputs": [],
   "source": [
    "Graph.w.background = ipw.Button( button_style='danger', icon='image', layout= ipw.Layout(width='auto') )\n",
    "#Graph.w.background"
   ]
  },
  {
   "cell_type": "code",
   "execution_count": 589,
   "metadata": {
    "hidden": true
   },
   "outputs": [],
   "source": [
    "def background(b):\n",
    "    display(Javascript(f\"document.getElementById('cy').style.backgroundColor = '{Graph.w.color.value}'\"))  \n",
    "Graph.w.background.on_click( background )"
   ]
  },
  {
   "cell_type": "markdown",
   "metadata": {
    "heading_collapsed": true,
    "hidden": true
   },
   "source": [
    "### <font color=\"green\">Search</font> "
   ]
  },
  {
   "cell_type": "code",
   "execution_count": 590,
   "metadata": {
    "hidden": true
   },
   "outputs": [],
   "source": [
    "Graph.w.search = widgets.Text( description='Search :', continuous_update=False )\n",
    "#Graph.w.search"
   ]
  },
  {
   "cell_type": "code",
   "execution_count": 591,
   "metadata": {
    "hidden": true
   },
   "outputs": [],
   "source": [
    "def search(b):\n",
    "    display(Javascript(f\"\"\"\n",
    "    cy.io.selection.unselect()\n",
    "    cy.$('{Graph.w.search.value}').select()\n",
    "    \"\"\"))   \n",
    "Graph.w.search.observe( search )"
   ]
  },
  {
   "cell_type": "markdown",
   "metadata": {
    "heading_collapsed": true,
    "hidden": true
   },
   "source": [
    "### <font color=\"green\">Search Select</font>"
   ]
  },
  {
   "cell_type": "code",
   "execution_count": 592,
   "metadata": {
    "hidden": true,
    "scrolled": true
   },
   "outputs": [],
   "source": [
    "Graph.w.searchSelect = ipw.ToggleButton( icon='eye', layout= ipw.Layout(width='auto')  )\n",
    "#Graph.w.searchSelect"
   ]
  },
  {
   "cell_type": "code",
   "execution_count": 593,
   "metadata": {
    "hidden": true
   },
   "outputs": [],
   "source": [
    "def searchSelect(b):\n",
    "    if Graph.w.searchSelect.value:   #<-- when activated\n",
    "        Graph.w.searchSelect.icon = 'eye-slash'\n",
    "        display(Javascript(\"\"\"\n",
    "        cy.io.to_hide = cy.elements().difference( cy.io.selection )\n",
    "        cy.io.to_hide.style(\"visibility\", \"hidden\")\n",
    "        \"\"\"))\n",
    "    else: #<-- when not clicked\n",
    "        Graph.w.searchSelect.icon = 'eye'\n",
    "        display(Javascript(\"\"\"cy.io.to_hide.style(\"visibility\", \"visible\")\"\"\"))\n",
    "Graph.w.searchSelect.observe( searchSelect )"
   ]
  },
  {
   "cell_type": "markdown",
   "metadata": {
    "heading_collapsed": true
   },
   "source": [
    "##  <font color=\"salmon\">Label</font> <font color=\"green\">Widgets</font> "
   ]
  },
  {
   "cell_type": "markdown",
   "metadata": {
    "heading_collapsed": true,
    "hidden": true
   },
   "source": [
    "### <font color=\"salmon\">Label Text</font>"
   ]
  },
  {
   "cell_type": "code",
   "execution_count": 594,
   "metadata": {
    "hidden": true
   },
   "outputs": [],
   "source": [
    "Graph.w.label = widgets.Text( continuous_update=True )\n",
    "#Graph.w.label"
   ]
  },
  {
   "cell_type": "code",
   "execution_count": 595,
   "metadata": {
    "hidden": true
   },
   "outputs": [],
   "source": [
    "def label(b):\n",
    "    display(Javascript(\"\"\"\n",
    "    for(var i=0; i < cy.io.selection.length; i++ ){\n",
    "        var ele = cy.io.selection[i]\n",
    "        cy.io.style.change( ele, \"label\", '\"\"\"+Graph.w.label.value+\"\"\"'  )\n",
    "    }\n",
    "    \"\"\"))           \n",
    "Graph.w.label.observe( label )"
   ]
  },
  {
   "cell_type": "markdown",
   "metadata": {
    "heading_collapsed": true,
    "hidden": true
   },
   "source": [
    "### <font color=\"salmon\">Label Color</font>"
   ]
  },
  {
   "cell_type": "code",
   "execution_count": 596,
   "metadata": {
    "hidden": true
   },
   "outputs": [],
   "source": [
    "Graph.w.label_color = ipw.ColorPicker( )\n",
    "#Graph.w.label_color"
   ]
  },
  {
   "cell_type": "code",
   "execution_count": 597,
   "metadata": {
    "hidden": true
   },
   "outputs": [],
   "source": [
    "def labelColor(b):\n",
    "    js_var = \"['\"+Graph.w.label_color.value+\"','\"+Graph.w.label_color.value+\"']\"\n",
    "    display(Javascript(\"\"\"\n",
    "    for(var i=0; i < cy.io.selection.length; i++ ){\n",
    "        var ele = cy.io.selection[i]\n",
    "        cy.io.style.change( ele, ['color','text-border-color'], \"\"\"+js_var+\"\"\" )\n",
    "    }\n",
    "    \"\"\"))          \n",
    "Graph.w.label_color.observe( labelColor )"
   ]
  },
  {
   "cell_type": "markdown",
   "metadata": {
    "heading_collapsed": true,
    "hidden": true
   },
   "source": [
    "### <font color=\"salmon\">Label Size</font>"
   ]
  },
  {
   "cell_type": "code",
   "execution_count": 598,
   "metadata": {
    "hidden": true,
    "scrolled": true
   },
   "outputs": [],
   "source": [
    "Graph.w.label_size = ipw.IntSlider(value=16, min=6, max=60)\n",
    "#Graph.w.label_size"
   ]
  },
  {
   "cell_type": "code",
   "execution_count": 599,
   "metadata": {
    "hidden": true
   },
   "outputs": [],
   "source": [
    "def labelSize(b):\n",
    "    display(Javascript(\"\"\"\n",
    "    for( var i=0; i < cy.io.selection.length; i++ ){\n",
    "        var ele = cy.io.selection[i]\n",
    "        cy.io.style.change( ele, 'font-size', '\"\"\"+str(Graph.w.label_size.value)+\"\"\"px' )\n",
    "    }\n",
    "    \"\"\"))          \n",
    "Graph.w.label_size.observe( labelSize )"
   ]
  },
  {
   "cell_type": "markdown",
   "metadata": {
    "heading_collapsed": true,
    "hidden": true
   },
   "source": [
    "### <font color=\"salmon\">Box</font>  "
   ]
  },
  {
   "cell_type": "code",
   "execution_count": 600,
   "metadata": {
    "hidden": true,
    "scrolled": false
   },
   "outputs": [],
   "source": [
    "Graph.w.label_box = ipw.ToggleButton( button_style='primary', description=\"Box\", layout= ipw.Layout(width='auto') )\n",
    "#Graph.w.label_box"
   ]
  },
  {
   "cell_type": "code",
   "execution_count": 601,
   "metadata": {
    "hidden": true
   },
   "outputs": [],
   "source": [
    "def labelBox(b):\n",
    "    js_var = \"['1','1']\" if Graph.w.label_box.value else \"['0','0']\"\n",
    "    display(Javascript(\"\"\"\n",
    "    for( var i=0; i < cy.io.selection.length; i++ ){\n",
    "        var ele = cy.io.selection[i]\n",
    "        cy.io.style.change( ele, ['text-background-opacity','text-border-opacity'], \"\"\"+js_var+\"\"\" )\n",
    "    }\n",
    "    \"\"\"))\n",
    "Graph.w.label_box.observe( labelBox )"
   ]
  },
  {
   "cell_type": "markdown",
   "metadata": {
    "heading_collapsed": true,
    "hidden": true
   },
   "source": [
    "### <font color=\"DarkKhaki\">Node</font> <font color=\"salmon\">Label Position</font>  "
   ]
  },
  {
   "cell_type": "code",
   "execution_count": 602,
   "metadata": {
    "hidden": true,
    "scrolled": false
   },
   "outputs": [],
   "source": [
    "Graph.w.label_pos = ipw.Dropdown( options=['center','top','bottom','left','right'] )\n",
    "#Graph.w.label_pos"
   ]
  },
  {
   "cell_type": "code",
   "execution_count": 603,
   "metadata": {
    "hidden": true
   },
   "outputs": [],
   "source": [
    "def labelPos(b):\n",
    "    display(Javascript(\"\"\"\n",
    "    for( i=0; i < cy.io.selection.length; i++ ){\n",
    "        var ele = cy.io.selection[i]\n",
    "        var label_pos = '\"\"\"+Graph.w.label_pos.value+\"\"\"'\n",
    "        if( ele.isNode() ){\n",
    "            if( label_pos == 'center'  ){\n",
    "                cy.io.style.change( ele, ['text-halign','text-valign'], ['center','center'] )\n",
    "            }else if( label_pos=='top' || label_pos=='bottom'){\n",
    "                cy.io.style.change( ele, ['text-halign','text-valign'], ['center', label_pos] )                    \n",
    "            }else{\n",
    "                cy.io.style.change( ele, ['text-halign','text-valign'], [ label_pos, 'center'] )                \n",
    "            }\n",
    "        } \n",
    "    }\n",
    "    \"\"\"))           \n",
    "Graph.w.label_pos.observe( labelPos )"
   ]
  },
  {
   "cell_type": "markdown",
   "metadata": {
    "heading_collapsed": true
   },
   "source": [
    "## <font color=\"DarkKhaki\">Node Shape</font> "
   ]
  },
  {
   "cell_type": "code",
   "execution_count": 604,
   "metadata": {
    "hidden": true
   },
   "outputs": [],
   "source": [
    "Graph.w.shape = ipw.Dropdown( options=['ellipse','triangle','rectangle','rhomboid','diamond','pentagon','hexagon',\n",
    "                                       'concavehexagon','heptagon','octagon','star','tag','vee'], continuous_update=True )\n",
    "#Graph.w.shape"
   ]
  },
  {
   "cell_type": "code",
   "execution_count": 605,
   "metadata": {
    "hidden": true
   },
   "outputs": [],
   "source": [
    "def shape(b):\n",
    "    display(Javascript(\"\"\"\n",
    "    for( var i=0; i < cy.io.selection.length; i++ ){\n",
    "        var ele = cy.io.selection[i]\n",
    "        if( ele.isNode() ){\n",
    "            ele.style( \"shape\", '\"\"\"+Graph.w.shape.value+\"\"\"' )\n",
    "        } \n",
    "    }\n",
    "    \"\"\"))           \n",
    "Graph.w.shape.observe( shape )"
   ]
  },
  {
   "cell_type": "markdown",
   "metadata": {
    "heading_collapsed": true
   },
   "source": [
    "## <font color=\"purple\">Edge</font> <font color=\"green\">Widgets</font> "
   ]
  },
  {
   "cell_type": "markdown",
   "metadata": {
    "heading_collapsed": true,
    "hidden": true
   },
   "source": [
    "### <font color=\"purple\">Edge Arrow Start</font> "
   ]
  },
  {
   "cell_type": "code",
   "execution_count": 606,
   "metadata": {
    "hidden": true
   },
   "outputs": [],
   "source": [
    "Graph.w.edgeStart = ipw.Dropdown( options=['none','triangle','tee','diamond','square','circle','vee','triangle-tee'] )\n",
    "#Graph.w.start"
   ]
  },
  {
   "cell_type": "code",
   "execution_count": 607,
   "metadata": {
    "hidden": true
   },
   "outputs": [],
   "source": [
    "def edgeStart(b):\n",
    "    display(Javascript(\"\"\"\n",
    "    for( i=0; i < cy.io.selection.length; i++ ){\n",
    "        var ele = cy.io.selection[i]\n",
    "        if( ele.isEdge() ){\n",
    "            ele.style( \"source-arrow-color\", ele.style(\"line-color\")  )\n",
    "            ele.style( \"source-arrow-shape\", '\"\"\"+Graph.w.start.value+\"\"\"' )\n",
    "        } \n",
    "    }\n",
    "    \"\"\"))           \n",
    "Graph.w.edgeStart.observe( edgeStart )"
   ]
  },
  {
   "cell_type": "markdown",
   "metadata": {
    "heading_collapsed": true,
    "hidden": true
   },
   "source": [
    "### <font color=\"purple\">Edge Arrow End</font> "
   ]
  },
  {
   "cell_type": "code",
   "execution_count": 608,
   "metadata": {
    "hidden": true
   },
   "outputs": [],
   "source": [
    "Graph.w.edgeEnd = ipw.Dropdown( options=['none','triangle','tee','diamond','square','circle','vee','triangle-tee'] )\n",
    "#Graph.w.end"
   ]
  },
  {
   "cell_type": "code",
   "execution_count": 609,
   "metadata": {
    "hidden": true
   },
   "outputs": [],
   "source": [
    "def edgeEnd(b):\n",
    "    display(Javascript(\"\"\"\n",
    "    for( i=0; i < cy.io.selection.length; i++ ){\n",
    "        var ele = cy.io.selection[i]\n",
    "        if( ele.isEdge() ){\n",
    "            ele.style( \"target-arrow-color\", ele.style(\"line-color\")  )\n",
    "            ele.style( \"target-arrow-shape\", '\"\"\"+Graph.w.end.value+\"\"\"' )\n",
    "        } \n",
    "    }\n",
    "    \"\"\"))           \n",
    "Graph.w.edgeEnd.observe( edgeEnd )"
   ]
  },
  {
   "cell_type": "markdown",
   "metadata": {
    "heading_collapsed": true,
    "hidden": true
   },
   "source": [
    "### <font color=\"purple\">Edge Line Style</font> "
   ]
  },
  {
   "cell_type": "code",
   "execution_count": 610,
   "metadata": {
    "hidden": true
   },
   "outputs": [],
   "source": [
    "Graph.w.lineStyle = ipw.Dropdown( options=['solid','dotted','dashed'] )\n",
    "#Graph.w.lineStyle"
   ]
  },
  {
   "cell_type": "code",
   "execution_count": 611,
   "metadata": {
    "hidden": true
   },
   "outputs": [],
   "source": [
    "def lineStyle(b):\n",
    "    display(Javascript(\"\"\"\n",
    "    for( i=0; i < cy.io.selection.length; i++ ){\n",
    "        var ele = cy.io.selection[i]\n",
    "        if( ele.isEdge() ){\n",
    "            ele.style( \"lineStyle\", '\"\"\"+Graph.w.lineStyle.value+\"\"\"' )\n",
    "        } \n",
    "    }\n",
    "    \"\"\"))           \n",
    "Graph.w.lineStyle.observe( lineStyle )"
   ]
  },
  {
   "cell_type": "markdown",
   "metadata": {},
   "source": [
    "## <font color=\"hotpink\">Variables</font>  <font color=\"green\">Widgets</font> "
   ]
  },
  {
   "cell_type": "markdown",
   "metadata": {},
   "source": [
    "**<font color=\"red\">IDEA :</font>** To \"hide\" widgets just change width's and heights, after changing visibility"
   ]
  },
  {
   "cell_type": "code",
   "execution_count": 612,
   "metadata": {},
   "outputs": [],
   "source": [
    "Graph.w.vars = {}"
   ]
  },
  {
   "cell_type": "code",
   "execution_count": 613,
   "metadata": {
    "scrolled": true
   },
   "outputs": [
    {
     "data": {
      "text/plain": [
       "{}"
      ]
     },
     "execution_count": 613,
     "metadata": {},
     "output_type": "execute_result"
    }
   ],
   "source": [
    "Graph.w.vars "
   ]
  },
  {
   "cell_type": "markdown",
   "metadata": {
    "heading_collapsed": true
   },
   "source": [
    "### <font color=\"hotpink\">Change ID</font>  <font color=\"red\">Not Implemented</font>"
   ]
  },
  {
   "cell_type": "code",
   "execution_count": 614,
   "metadata": {
    "hidden": true
   },
   "outputs": [],
   "source": [
    "Graph.w.id = widgets.Text( description='ID :', continous_update = True  )#, continous_update = False )\n",
    "#Graph.w.id"
   ]
  },
  {
   "cell_type": "code",
   "execution_count": 615,
   "metadata": {
    "hidden": true
   },
   "outputs": [],
   "source": [
    "def setId(b):\n",
    "    pass\n",
    "Graph.w.id.observe( setId )"
   ]
  },
  {
   "cell_type": "markdown",
   "metadata": {
    "heading_collapsed": true
   },
   "source": [
    "### <font color=\"hotpink\">Create New  Variable</font>  "
   ]
  },
  {
   "cell_type": "code",
   "execution_count": 616,
   "metadata": {
    "cell_style": "center",
    "hidden": true
   },
   "outputs": [],
   "source": [
    "Graph.w.var_create_type= ipw.Select( options=['Number', 'Text'], value='Number', layout=ipw.Layout(width='10%',height='40px',min_width='50px') )\n",
    "Graph.w.var_create_text= ipw.Text(placeholder='Variable Name:')\n",
    "Graph.w.var_create_btn = ipw.Button( button_style='primary', description=\"Create\", layout= ipw.Layout(width='auto') )\n",
    "\n",
    "Graph.w.var_create = ipw.HBox([ Graph.w.var_create_type, Graph.w.var_create_text, Graph.w.var_create_btn ])\n",
    "Graph.w.var_create.layout.align_items = 'center'\n",
    "#Graph.w.var_create"
   ]
  },
  {
   "cell_type": "code",
   "execution_count": 617,
   "metadata": {
    "hidden": true
   },
   "outputs": [],
   "source": [
    "def createVar(b):\n",
    "    if Graph.w.var_create_text.value not in Graph.w.vars.keys() and  Graph.w.var_create_text.value!='' :\n",
    "        Graph.w.vars[ Graph.w.var_create_text.value ] = Graph.w.var_create_type.value\n",
    "    Graph.w.var_add_name.reset()\n",
    "Graph.w.var_create_btn.on_click( createVar )"
   ]
  },
  {
   "cell_type": "markdown",
   "metadata": {
    "heading_collapsed": true
   },
   "source": [
    "### <font color=\"hotpink\">Show Variables</font> "
   ]
  },
  {
   "cell_type": "code",
   "execution_count": 618,
   "metadata": {
    "hidden": true
   },
   "outputs": [],
   "source": [
    "Graph.w.varBox = ipw.VBox([])\n",
    "#Graph.w.varBox"
   ]
  },
  {
   "cell_type": "code",
   "execution_count": 619,
   "metadata": {
    "hidden": true
   },
   "outputs": [],
   "source": [
    "# print(Graph.w.vars)\n",
    "#Graph.w.varBox.vars = [] #<-- where we store list of varBox's labels"
   ]
  },
  {
   "cell_type": "markdown",
   "metadata": {
    "hidden": true
   },
   "source": [
    "We Create a way to add variables to the HBox"
   ]
  },
  {
   "cell_type": "code",
   "execution_count": 620,
   "metadata": {
    "code_folding": [],
    "hidden": true
   },
   "outputs": [],
   "source": [
    "def add( label, value=None ):   \n",
    "    \n",
    "    if label not in Graph.w.vars : #<-- don't add stuff that's not part of the dataset\n",
    "        return\n",
    "    \n",
    "    # We create the row (HBox) that is added to the box of variables\n",
    "    var_label = ipw.HTML(\"<font size=3 style='justify-content: center;'>\"+label+\" : </font>\") \n",
    "    var_value = ipw.Text(continuous_update=True) if Graph.w.vars[label]=='Text' else ipw.FloatText(continuous_update=True)\n",
    "    if value != None :\n",
    "        var_value.value = value \n",
    "    var_btn   = ipw.Button( button_style='danger', description=\"Remove\", layout= ipw.Layout(width='auto') )\n",
    "    var = ipw.HBox([ var_label, var_value, var_btn ])\n",
    "            \n",
    "    # now we setup remove button\n",
    "    var_btn.label = label\n",
    "    def remove(b):\n",
    "        # Remove variable object from  varBox\n",
    "        child_idx = [ x.children[1].label for x in list(Graph.w.varBox.children) ].index(b.label)  #<- index of child\n",
    "        childs = list(Graph.w.varBox.children)\n",
    "        childs.pop( child_idx )\n",
    "        Graph.w.varBox.children = tuple(childs)\n",
    "        Graph.w.var_add_name.reset()  #<-- reset options\n",
    "        # remove data object from selected elments\n",
    "        display(Javascript(\"\"\"\n",
    "        for( var i=0; i < cy.io.selection.length; i++ ){\n",
    "            var ele = cy.io.selection[i]\n",
    "            ele.removeData('\"\"\"+b.label+\"\"\"')\n",
    "        }\n",
    "        \"\"\"))  \n",
    "    var_btn.on_click( remove )\n",
    "    \n",
    "    # add a Variable Updating Function\n",
    "    var_value.label = label\n",
    "    def update(change):\n",
    "        val =  \"'\"+change['new']+\"'\" if type(change['new'])== type('') else str(change['new'])\n",
    "        display(Javascript(\"\"\"\n",
    "        for( var i=0; i < cy.io.selection.length; i++ ){\n",
    "            var ele = cy.io.selection[i]\n",
    "            ele.data('\"\"\"+change['owner'].label+\"\"\"', \"\"\"+val+\"\"\" )\n",
    "        }\n",
    "        \"\"\"))\n",
    "    var_value.observe( update, names='value')        \n",
    "        \n",
    "    # Add the row to the varBox\n",
    "    Graph.w.varBox.children = Graph.w.varBox.children + (var,)\n",
    "        \n",
    "Graph.w.varBox.add = add  "
   ]
  },
  {
   "cell_type": "markdown",
   "metadata": {},
   "source": [
    "### <font color=\"orange\">Retreive Variables</font> "
   ]
  },
  {
   "cell_type": "code",
   "execution_count": 621,
   "metadata": {},
   "outputs": [],
   "source": [
    "#JS(\"cy.removeListener('select unselect', 'node, edge', cy.io.getVars )\")  ### DEBUG  ###\n",
    "js=\"\"\"\n",
    "cy.io.getVars = function(event){\n",
    "    var selection = cy.$(':selected')\n",
    "    py.execute(\"Graph.w.varBox.children = ()\")\n",
    "    \n",
    "    if( selection.length == 0 ){ py.execute('Graph.w.var_add_name.reset(True)'); return;} \n",
    "    \n",
    "    if( selection.length == 1 ){        \n",
    "        var data = selection[0].data()\n",
    "        var data_vars = Object.keys(data).slice(1,)\n",
    "        cy.io.vars = []\n",
    "        for( i in data){            \n",
    "            if( data[i] != undefined && i!='id' ){\n",
    "                cy.io.vars.push(i)\n",
    "                var val_js = ( typeof(data[i])==\"number\" ) ? String(data[i]) : '\"'+data[i]+'\"'\n",
    "                py.execute('Graph.w.varBox.add(\"'+i+'\",'+val_js+')')\n",
    "            }\n",
    "        }\n",
    "    }else{\n",
    "    \n",
    "        cy.io.vars = []\n",
    "        for( var i=0; i < selection.length; i++ ){\n",
    "            var ele = selection[i]\n",
    "            var data = ele.data()\n",
    "            for( key in data ){\n",
    "                if( key!='id' && !cy.io.vars.includes(key) && data[key]!=undefined ){\n",
    "                    cy.io.vars.push( key )\n",
    "                }\n",
    "            }\n",
    "        }\n",
    "        for( show in cy.io.vars ){\n",
    "            py.execute('Graph.w.varBox.add(\"'+cy.io.vars[show]+'\")')\n",
    "        }\n",
    "    }\n",
    "    py.execute('Graph.w.var_add_name.reset()')\n",
    "};\n",
    "cy.on('select unselect', 'node, edge', cy.io.getVars )\n",
    "\"\"\"\n",
    "Graph.js.text = Graph.js.text + js\n",
    "#JS( js ) ### DEBUG ###"
   ]
  },
  {
   "cell_type": "markdown",
   "metadata": {
    "heading_collapsed": true
   },
   "source": [
    "### <font color=\"hotpink\">Add Variable</font> "
   ]
  },
  {
   "cell_type": "code",
   "execution_count": 622,
   "metadata": {
    "hidden": true
   },
   "outputs": [],
   "source": [
    "Graph.w.var_add_name = ipw.Dropdown( options=list(Graph.w.vars.keys()), value=None) #,layout= ipw.Layout(width='10%') )\n",
    "#Graph.w.var_add_name"
   ]
  },
  {
   "cell_type": "code",
   "execution_count": 623,
   "metadata": {
    "hidden": true
   },
   "outputs": [],
   "source": [
    "def wReset(disable=False):   #<-- disable is used to disable the add button when nothing's selected\n",
    "    boxVars = [ x.children[1].label for x in list(Graph.w.varBox.children) ]  #<-- gets list of vriables that are currently shown\n",
    "    Graph.w.var_add_name.options =  list(set(Graph.w.vars.keys()) - set(boxVars))   #<-- removes list of shown variables from those that are addible    \n",
    "    Graph.w.var_add_btn.disabled = True if( len(Graph.w.var_add_name.options)==0 or disable) else False\n",
    "Graph.w.var_add_name.reset = wReset"
   ]
  },
  {
   "cell_type": "code",
   "execution_count": 624,
   "metadata": {
    "hidden": true
   },
   "outputs": [],
   "source": [
    "Graph.w.var_add_btn = ipw.Button(description=\"Add\", button_style='success', layout= ipw.Layout(width='auto') )\n",
    "#Graph.w.var_add_btn"
   ]
  },
  {
   "cell_type": "code",
   "execution_count": 625,
   "metadata": {
    "hidden": true
   },
   "outputs": [],
   "source": [
    "def addVar( b ):\n",
    "    val = Graph.w.var_add_name.value\n",
    "    Graph.w.varBox.add( val )\n",
    "    val_js = \"''\" if Graph.w.vars[val]=='Text' else \"0\"\n",
    "    Graph.w.var_add_name.reset()\n",
    "    display(Javascript(\"\"\"\n",
    "    for(var i=0; i < cy.io.selection.length; i++ ){\n",
    "        var ele = cy.io.selection[i]\n",
    "        ele.data( '\"\"\"+val+\"\"\"', \"\"\"+val_js+\"\"\" )\n",
    "    }\n",
    "    \"\"\"))\n",
    "Graph.w.var_add_btn.on_click( addVar )"
   ]
  },
  {
   "cell_type": "markdown",
   "metadata": {
    "hidden": true
   },
   "source": [
    "We add an obsercer to **varBox** which updates the options of the \"add\" dropdown depending on what variables are still not used"
   ]
  },
  {
   "cell_type": "markdown",
   "metadata": {
    "heading_collapsed": true
   },
   "source": [
    "# <font color=\"orchid\">Editor Box</font>\n",
    "\n",
    "Here we take the prviously created <font color=\"green\">widgets</font> and we group them rogether into a pretty box."
   ]
  },
  {
   "cell_type": "code",
   "execution_count": 626,
   "metadata": {
    "hidden": true
   },
   "outputs": [],
   "source": [
    "Graph.box = type(\"box\",(),{})()"
   ]
  },
  {
   "cell_type": "markdown",
   "metadata": {
    "hidden": true
   },
   "source": [
    "**Padding : ** \\[ top/ right/ bottom/ left \\]"
   ]
  },
  {
   "cell_type": "markdown",
   "metadata": {
    "heading_collapsed": true,
    "hidden": true
   },
   "source": [
    "## <font color=\"green\">General</font> Box <small>(Outside of Sliders)</small>"
   ]
  },
  {
   "cell_type": "code",
   "execution_count": 627,
   "metadata": {
    "cell_style": "center",
    "hidden": true
   },
   "outputs": [],
   "source": [
    "Graph.box.search = ipw.HBox([ Graph.w.search, Graph.w.searchSelect, ipw.HTML(\"<p>&nbsp&nbsp&nbsp&nbsp&nbsp</p>\") ])\n",
    "Graph.box.search.layout.justify_content = \"center\"\n",
    "Graph.box.search.layout.padding = '0px 20px 5px 0px'\n",
    "#Graph.box.search"
   ]
  },
  {
   "cell_type": "code",
   "execution_count": 628,
   "metadata": {
    "cell_style": "center",
    "hidden": true
   },
   "outputs": [],
   "source": [
    "Graph.box.delete = ipw.HBox([ Graph.w.delete, Graph.w.undo ] )\n",
    "Graph.box.delete.layout.justify_content = \"center\"\n",
    "#Graph.box.delete"
   ]
  },
  {
   "cell_type": "code",
   "execution_count": 629,
   "metadata": {
    "cell_style": "split",
    "hidden": true
   },
   "outputs": [],
   "source": [
    "Graph.box.general = ipw.VBox([Graph.box.search, \n",
    "                              Graph.box.delete ])\n",
    "Graph.box.delete.layout.padding = '0px 0px 10px 0px'\n",
    "#Graph.box.general"
   ]
  },
  {
   "cell_type": "markdown",
   "metadata": {
    "heading_collapsed": true,
    "hidden": true
   },
   "source": [
    "##  <font color=\"DarkKhaki\">Node</font> <font color=\"purple\">Edge</font> Box"
   ]
  },
  {
   "cell_type": "markdown",
   "metadata": {
    "hidden": true
   },
   "source": [
    "We add some style/layout properties to the widgets we will use in the style box"
   ]
  },
  {
   "cell_type": "code",
   "execution_count": 630,
   "metadata": {
    "hidden": true
   },
   "outputs": [],
   "source": [
    "Graph.box.color = ipw.HBox([ ipw.Label('Color :'), Graph.w.color, \n",
    "                            ipw.Label('    '), Graph.w.background ])"
   ]
  },
  {
   "cell_type": "code",
   "execution_count": 631,
   "metadata": {
    "hidden": true
   },
   "outputs": [],
   "source": [
    "Graph.box.size = ipw.HBox([ipw.Label('Size :'), Graph.w.size ])\n",
    "Graph.box.size.layout.padding = '10px 0px 0px 0px'"
   ]
  },
  {
   "cell_type": "code",
   "execution_count": 632,
   "metadata": {
    "hidden": true
   },
   "outputs": [],
   "source": [
    "Graph.box.lineStyle = ipw.HBox([ipw.Label('Line Style :'), Graph.w.lineStyle ])\n",
    "Graph.box.lineStyle.layout.padding = '10px 0px 0px 0px'"
   ]
  },
  {
   "cell_type": "code",
   "execution_count": 633,
   "metadata": {
    "hidden": true
   },
   "outputs": [],
   "source": [
    "Graph.box.opacity = ipw.HBox([ipw.Label('See-Through :'), Graph.w.opacity ])\n",
    "Graph.box.opacity.layout.padding = '10px 0px 0px 0px'"
   ]
  },
  {
   "cell_type": "code",
   "execution_count": 634,
   "metadata": {
    "hidden": true
   },
   "outputs": [],
   "source": [
    "Graph.box.z_index = ipw.HBox([ipw.Label('Behind/In-Front :'), Graph.w.z_index ])\n",
    "Graph.box.z_index.layout.padding = '10px 0px 0px 0px'"
   ]
  },
  {
   "cell_type": "markdown",
   "metadata": {
    "hidden": true
   },
   "source": [
    "Node Properties"
   ]
  },
  {
   "cell_type": "code",
   "execution_count": 635,
   "metadata": {
    "hidden": true
   },
   "outputs": [],
   "source": [
    "Graph.box.shape = ipw.HBox([ipw.Label('Shape :'), Graph.w.shape ])\n",
    "Graph.box.shape.layout.padding = '0px 0px 10px 0px'"
   ]
  },
  {
   "cell_type": "markdown",
   "metadata": {
    "hidden": true
   },
   "source": [
    "Edge properites"
   ]
  },
  {
   "cell_type": "code",
   "execution_count": 636,
   "metadata": {
    "hidden": true
   },
   "outputs": [],
   "source": [
    "Graph.box.edge_start = ipw.HBox([ipw.Label('Start', layout=ipw.Layout(min_width='30px') ), Graph.w.edgeStart])"
   ]
  },
  {
   "cell_type": "code",
   "execution_count": 637,
   "metadata": {
    "hidden": true
   },
   "outputs": [],
   "source": [
    "Graph.box.edge_end = ipw.HBox([ ipw.Label('End',   layout=ipw.Layout(min_width='30px', margin='0px 0px 0px 5px') ), Graph.w.edgeEnd ])\n",
    "Graph.box.edge_end.layout.padding = '10px 0px 0px 0px'"
   ]
  },
  {
   "cell_type": "code",
   "execution_count": 638,
   "metadata": {
    "hidden": true
   },
   "outputs": [],
   "source": [
    "Graph.box.edge_style = ipw.HBox([ipw.Label('Style', layout=ipw.Layout(min_width='30px') ), Graph.w.lineStyle ])\n",
    "Graph.box.edge_style.layout.padding = '10px 0px 0px 0px'"
   ]
  },
  {
   "cell_type": "markdown",
   "metadata": {
    "hidden": true
   },
   "source": [
    "Now we create the style box"
   ]
  },
  {
   "cell_type": "code",
   "execution_count": 639,
   "metadata": {
    "cell_style": "split",
    "hidden": true,
    "scrolled": false
   },
   "outputs": [],
   "source": [
    "Graph.box.style = ipw.VBox([Graph.box.color,\n",
    "                            Graph.box.size,\n",
    "                            Graph.box.opacity,\n",
    "                            Graph.box.z_index,\n",
    "                            ipw.HTML(\"<h4 style='color:DarkKhaki'>Node :</h4>\"),\n",
    "                            Graph.box.shape,\n",
    "                            ipw.HTML(\"<h4 style='color:purple'>Edge :</h4>\"),\n",
    "                            Graph.box.edge_start,\n",
    "                            Graph.box.edge_end,\n",
    "                            Graph.box.edge_style,\n",
    "                           ])\n",
    "#Graph.box.style"
   ]
  },
  {
   "cell_type": "markdown",
   "metadata": {
    "hidden": true
   },
   "source": [
    "## <font color=\"salmon\">Label Box</font>"
   ]
  },
  {
   "cell_type": "markdown",
   "metadata": {
    "hidden": true
   },
   "source": [
    "We add some style/layout properties to the widgets we will use in the label box"
   ]
  },
  {
   "cell_type": "code",
   "execution_count": 640,
   "metadata": {
    "hidden": true
   },
   "outputs": [],
   "source": [
    "Graph.box.label_text = ipw.HBox([ipw.Label('Text :'), Graph.w.label ])"
   ]
  },
  {
   "cell_type": "code",
   "execution_count": 641,
   "metadata": {
    "cell_style": "center",
    "hidden": true
   },
   "outputs": [],
   "source": [
    "Graph.box.label_color = ipw.HBox([ipw.Label('Color :'), Graph.w.label_color])\n",
    "#Graph.box.label_color.layout.justify_content = \"space-between\"\n",
    "#Graph.box.label_color"
   ]
  },
  {
   "cell_type": "code",
   "execution_count": 642,
   "metadata": {
    "hidden": true
   },
   "outputs": [],
   "source": [
    "Graph.box.label_size = ipw.HBox([ipw.Label('Size :'), Graph.w.label_size  ])\n",
    "Graph.box.label_size.layout.padding = '10px 0px 0px 0px'"
   ]
  },
  {
   "cell_type": "code",
   "execution_count": 643,
   "metadata": {
    "hidden": true
   },
   "outputs": [],
   "source": [
    "Graph.box.label_pos = ipw.HBox([ipw.Label('Position :'), Graph.w.label_pos])\n",
    "Graph.box.label_pos.layout.padding = '10px 0px 0px 0px'"
   ]
  },
  {
   "cell_type": "code",
   "execution_count": 644,
   "metadata": {
    "hidden": true
   },
   "outputs": [],
   "source": [
    "Graph.box.label_box = ipw.HBox([Graph.w.label_box  ])\n",
    "Graph.box.label_box.layout.padding = '10px 0px 0px 0px'\n",
    "Graph.box.label_box.layout.justify_content = 'center'\n",
    "#Graph.box.label_box"
   ]
  },
  {
   "cell_type": "markdown",
   "metadata": {
    "hidden": true
   },
   "source": [
    "Create the label box"
   ]
  },
  {
   "cell_type": "code",
   "execution_count": 645,
   "metadata": {
    "cell_style": "split",
    "hidden": true,
    "scrolled": true
   },
   "outputs": [],
   "source": [
    "Graph.box.label = ipw.VBox([Graph.box.label_text,\n",
    "                            ipw.HTML(\"<hr style='padding: 2px; margin: 2px'>\"),\n",
    "                            Graph.box.label_color,\n",
    "                            Graph.box.label_size,\n",
    "                            Graph.box.label_box\n",
    "                           ])\n",
    "#Graph.box.label"
   ]
  },
  {
   "cell_type": "markdown",
   "metadata": {
    "heading_collapsed": true,
    "hidden": true
   },
   "source": [
    "## <font color=\"hotPink\">Variables Box</font>"
   ]
  },
  {
   "cell_type": "code",
   "execution_count": 646,
   "metadata": {
    "hidden": true
   },
   "outputs": [],
   "source": [
    "Graph.box.var_add = ipw.HBox([ Graph.w.var_add_name, Graph.w.var_add_btn])\n",
    "Graph.box.var_add.layout.justify_content = 'center'"
   ]
  },
  {
   "cell_type": "code",
   "execution_count": 647,
   "metadata": {
    "cell_style": "split",
    "hidden": true,
    "scrolled": false
   },
   "outputs": [],
   "source": [
    "Graph.box.vars = ipw.VBox([Graph.w.var_create,\n",
    "                           ipw.HTML(\"<hr style='padding: 2px; margin: 2px'>\"),\n",
    "                           Graph.w.varBox,\n",
    "                           ipw.HTML(\"<hr style='padding: 2px; margin: 2px'>\"),\n",
    "                           Graph.box.var_add\n",
    "                           ])\n",
    "#Graph.box.vars"
   ]
  },
  {
   "cell_type": "markdown",
   "metadata": {
    "heading_collapsed": true,
    "hidden": true
   },
   "source": [
    "## Combine Everything"
   ]
  },
  {
   "cell_type": "code",
   "execution_count": 648,
   "metadata": {
    "cell_style": "split",
    "hidden": true,
    "scrolled": false
   },
   "outputs": [],
   "source": [
    "Graph.box.combo = widgets.Accordion(children=[ Graph.box.style ,Graph.box.label, Graph.box.vars])\n",
    "Graph.box.combo.set_title(0, 'Style')\n",
    "Graph.box.combo.set_title(1, 'Label')\n",
    "Graph.box.combo.set_title(2, 'Variables')\n",
    "\n",
    "Graph.box.final = ipw.VBox([  Graph.box.general, Graph.box.combo ])\n",
    "#Graph.box.final"
   ]
  },
  {
   "cell_type": "markdown",
   "metadata": {
    "heading_collapsed": true,
    "hidden": true
   },
   "source": [
    "## <font color=\"orange\">editSelector</font>\n",
    "\n",
    "<font color=\"orange\">editSelector</font> decides what widgets are displayed inside of the editor box *(\"My Edit Box\")*. What's displayed depends on if there are 1/many of node/edges/both."
   ]
  },
  {
   "cell_type": "code",
   "execution_count": 649,
   "metadata": {
    "hidden": true
   },
   "outputs": [
    {
     "data": {
      "text/plain": [
       "'JS(\\n    var check = 0;\\n    var check_var;\\n    cy.io.select_type = \"nothing\"\\n\\n\\n    cy.io.test = function(event){\\n        cy.$(\\':selected\\') = cy.$(\\':selected\\')                 //<-- Get selected elements\\n        cy.io.last_type = cy.io.select_type\\n\\n        if( cy.$(\\':selected\\').length == 0  ){                 //<-- Do nothing if nothing\\'s selected\\n            return\\n        }\\n        if( cy.$(\\':selected\\').length == 1 ){                  //<-- If selection lenght is 1\\n            //DEBUG py.execute(\"Graph.w.id.value = \\'\"++\"\\'\")  //<- put selectors ID in box\\n\\n            if( cy.$(\\':selected\\').isNode() && cy.io.last_type != \"1 node\" ){                      //<-- If it\\'s a node\\n                cy.io.select_type = \"1 node\"\\n                //DEBUG py.execute(\"Graph.editor_box.widg = Graph.box.show(\\'1 node\\')\")\\n                IPython.notebook.execute_cells([edit_num])  //<-- edit_num was setup by the Graph.editor_box \\n            }\\n            if( cy.$(\\':selected\\').isEdge() &&  cy.io.last_type != \"1 edge\" ){                     //<-- If it\\'s an edge\\n                cy.io.select_type = \"1 edge\"\\n                //DEBUG py.execute(\"Graph.editor_box.widg = Graph.box.show(\\'1 edge\\')\")\\n                IPython.notebook.execute_cells([edit_num])  //<-- edit_num was setup by the Graph.editor_box\\n            }\\n\\n        } else {                                           //<-- If Many elements\\n            console.log(\"many items\")\\n        }\\n\\n    };\\n\\n    cy.on(\\'select unselect\\', \\'node, edge\\', cy.io.test );\\n)\\n'"
      ]
     },
     "execution_count": 649,
     "metadata": {},
     "output_type": "execute_result"
    }
   ],
   "source": [
    "\"\"\"JS(\n",
    "    var check = 0;\n",
    "    var check_var;\n",
    "    cy.io.select_type = \"nothing\"\n",
    "\n",
    "\n",
    "    cy.io.test = function(event){\n",
    "        cy.$(':selected') = cy.$(':selected')                 //<-- Get selected elements\n",
    "        cy.io.last_type = cy.io.select_type\n",
    "\n",
    "        if( cy.$(':selected').length == 0  ){                 //<-- Do nothing if nothing's selected\n",
    "            return\n",
    "        }\n",
    "        if( cy.$(':selected').length == 1 ){                  //<-- If selection lenght is 1\n",
    "            //DEBUG py.execute(\"Graph.w.id.value = '\"++\"'\")  //<- put selectors ID in box\n",
    "\n",
    "            if( cy.$(':selected').isNode() && cy.io.last_type != \"1 node\" ){                      //<-- If it's a node\n",
    "                cy.io.select_type = \"1 node\"\n",
    "                //DEBUG py.execute(\"Graph.editor_box.widg = Graph.box.show('1 node')\")\n",
    "                IPython.notebook.execute_cells([edit_num])  //<-- edit_num was setup by the Graph.editor_box \n",
    "            }\n",
    "            if( cy.$(':selected').isEdge() &&  cy.io.last_type != \"1 edge\" ){                     //<-- If it's an edge\n",
    "                cy.io.select_type = \"1 edge\"\n",
    "                //DEBUG py.execute(\"Graph.editor_box.widg = Graph.box.show('1 edge')\")\n",
    "                IPython.notebook.execute_cells([edit_num])  //<-- edit_num was setup by the Graph.editor_box\n",
    "            }\n",
    "\n",
    "        } else {                                           //<-- If Many elements\n",
    "            console.log(\"many items\")\n",
    "        }\n",
    "\n",
    "    };\n",
    "\n",
    "    cy.on('select unselect', 'node, edge', cy.io.test );\n",
    ")\n",
    "\"\"\""
   ]
  },
  {
   "cell_type": "code",
   "execution_count": null,
   "metadata": {
    "hidden": true
   },
   "outputs": [],
   "source": []
  },
  {
   "cell_type": "markdown",
   "metadata": {},
   "source": [
    "# <font color=\"DeepSkyBlue\">Table</font>"
   ]
  },
  {
   "cell_type": "code",
   "execution_count": 652,
   "metadata": {},
   "outputs": [
    {
     "data": {
      "text/html": [
       "<table id=\"table\" class=\"table table-striped table-bordered\">\n",
       "    <thead>\n",
       "        <tr id=\"table_head\"></tr>\n",
       "    </thead>\n",
       "    <tbody id=\"table_body\">\n",
       "    </tbody>    \n",
       "</table>"
      ],
      "text/plain": [
       "<IPython.core.display.HTML object>"
      ]
     },
     "metadata": {},
     "output_type": "display_data"
    }
   ],
   "source": [
    "%%HTML\n",
    "<table id=\"table\" class=\"table table-striped table-bordered\">\n",
    "    <thead>\n",
    "        <tr id=\"table_head\"></tr>\n",
    "    </thead>\n",
    "    <tbody id=\"table_body\">\n",
    "    </tbody>    \n",
    "</table>"
   ]
  },
  {
   "cell_type": "code",
   "execution_count": 653,
   "metadata": {},
   "outputs": [],
   "source": [
    "class Table():\n",
    "    pass"
   ]
  },
  {
   "cell_type": "code",
   "execution_count": 654,
   "metadata": {},
   "outputs": [],
   "source": [
    "Table.js = type('table_js',(),{})"
   ]
  },
  {
   "cell_type": "code",
   "execution_count": 656,
   "metadata": {},
   "outputs": [
    {
     "data": {
      "text/html": [
       "<script>\n",
       "    var table_head = document.getElementById(\"table_head\")\n",
       "    table_head.innerHTML = ''\n",
       "    for( var i in cy.io.vars ){\n",
       "        table_head.innerHTML += '<th>'+cy.io.vars[i]+'</th>'\n",
       "    }\n",
       "</script>"
      ],
      "text/plain": [
       "<IPython.core.display.HTML object>"
      ]
     },
     "metadata": {},
     "output_type": "display_data"
    }
   ],
   "source": [
    "Table.js.head =  \"\"\"\n",
    "    var table_head = document.getElementById(\"table_head\")\n",
    "    table_head.innerHTML = ''\n",
    "    for( var i in cy.io.vars ){\n",
    "        table_head.innerHTML += '<th>'+cy.io.vars[i]+'</th>'\n",
    "    }\n",
    "\"\"\"\n",
    "JS( Table.js.head )"
   ]
  },
  {
   "cell_type": "code",
   "execution_count": 560,
   "metadata": {},
   "outputs": [
    {
     "data": {
      "text/html": [
       "<script>\n",
       "    var table_body = document.getElementById(\"table_body\")\n",
       "    for( var i=0; i<cy.io.selection.length; i++ ){\n",
       "        var ele = cy.io.selection[i]\n",
       "        var data = ele.data()\n",
       "        \n",
       "        table_body.innerHTML = '<tr>'\n",
       "        for( var j in cy.io.vars ){\n",
       "            //if( data[cy.io.vars[j] ]==undefined ){\n",
       "            //    table_body.innerHTML += '<td></td>'\n",
       "            //}else{\n",
       "                table_body.innerHTML += data[cy.io.vars[j] ] //'<td>'+data[cy.io.vars[j] ]+'</td>'\n",
       "            //}\n",
       "        }\n",
       "        table_body.innerHTML += '</tr>'\n",
       "    }\n",
       "</script>"
      ],
      "text/plain": [
       "<IPython.core.display.HTML object>"
      ]
     },
     "metadata": {},
     "output_type": "display_data"
    }
   ],
   "source": [
    "Table.js.body =  \"\"\"\n",
    "    var table_body = document.getElementById(\"table_body\")\n",
    "    for( var i=0; i<cy.io.selection.length; i++ ){\n",
    "        var ele = cy.io.selection[i]\n",
    "        var data = ele.data()\n",
    "        \n",
    "        table_body.innerHTML = '<tr>'\n",
    "        for( var j in cy.io.vars ){\n",
    "            //if( data[cy.io.vars[j] ]==undefined ){\n",
    "            //    table_body.innerHTML += '<td></td>'\n",
    "            //}else{\n",
    "                table_body.innerHTML += data[cy.io.vars[j] ] //'<td>'+data[cy.io.vars[j] ]+'</td>'\n",
    "            //}\n",
    "        }\n",
    "        table_body.innerHTML += '</tr>'\n",
    "    }\n",
    "\"\"\"\n",
    "JS( Table.js.body )"
   ]
  },
  {
   "cell_type": "code",
   "execution_count": 459,
   "metadata": {},
   "outputs": [
    {
     "data": {
      "text/html": [
       "      <tr>\n",
       "        <td>John</td>\n",
       "        <td>Doe</td>\n",
       "        <td>john@example.com</td>\n",
       "      </tr>"
      ],
      "text/plain": [
       "<IPython.core.display.HTML object>"
      ]
     },
     "metadata": {},
     "output_type": "display_data"
    }
   ],
   "source": []
  },
  {
   "cell_type": "code",
   "execution_count": null,
   "metadata": {},
   "outputs": [],
   "source": [
    "table_body.innerHTML = \"<tr><td>John</td><td>Doe</td><td>john@example.com</td></tr>\""
   ]
  },
  {
   "cell_type": "code",
   "execution_count": null,
   "metadata": {},
   "outputs": [],
   "source": []
  },
  {
   "cell_type": "code",
   "execution_count": null,
   "metadata": {},
   "outputs": [],
   "source": [
    "js_table_start = \"\"\"\n",
    "var para = document.createElement(\"p\");\n",
    "var node = document.createTextNode(\"<h2>This is new.</h2>\");\n",
    "para.appendChild(node);\n",
    "\"\"\""
   ]
  },
  {
   "cell_type": "code",
   "execution_count": null,
   "metadata": {},
   "outputs": [],
   "source": [
    "cy.io.vars"
   ]
  },
  {
   "cell_type": "code",
   "execution_count": null,
   "metadata": {},
   "outputs": [],
   "source": []
  },
  {
   "cell_type": "markdown",
   "metadata": {},
   "source": [
    "# Visualize (Mock Setup)"
   ]
  },
  {
   "cell_type": "code",
   "execution_count": 650,
   "metadata": {
    "cell_style": "split",
    "scrolled": false
   },
   "outputs": [
    {
     "data": {
      "application/vnd.jupyter.widget-view+json": {
       "model_id": "f0a7631c27194fb8a02a5f3c143c9ebc",
       "version_major": 2,
       "version_minor": 0
      },
      "text/plain": [
       "VBox(children=(VBox(children=(HBox(children=(Text(value='', continuous_update=False, description='Search :'), …"
      ]
     },
     "metadata": {},
     "output_type": "display_data"
    },
    {
     "data": {
      "application/javascript": [
       "\n",
       "    for(var i=0; i < cy.io.selection.length; i++ ){\n",
       "        var ele = cy.io.selection[i]\n",
       "        ele.data( 'num1', 0 )\n",
       "    }\n",
       "    "
      ],
      "text/plain": [
       "<IPython.core.display.Javascript object>"
      ]
     },
     "metadata": {},
     "output_type": "display_data"
    },
    {
     "data": {
      "application/javascript": [
       "\n",
       "    for(var i=0; i < cy.io.selection.length; i++ ){\n",
       "        var ele = cy.io.selection[i]\n",
       "        ele.data( 'text1', '' )\n",
       "    }\n",
       "    "
      ],
      "text/plain": [
       "<IPython.core.display.Javascript object>"
      ]
     },
     "metadata": {},
     "output_type": "display_data"
    },
    {
     "data": {
      "application/javascript": [
       "\n",
       "        for( var i=0; i < cy.io.selection.length; i++ ){\n",
       "            var ele = cy.io.selection[i]\n",
       "            ele.data('num1', 1.0 )\n",
       "        }\n",
       "        "
      ],
      "text/plain": [
       "<IPython.core.display.Javascript object>"
      ]
     },
     "metadata": {},
     "output_type": "display_data"
    },
    {
     "data": {
      "application/javascript": [
       "\n",
       "        for( var i=0; i < cy.io.selection.length; i++ ){\n",
       "            var ele = cy.io.selection[i]\n",
       "            ele.data('num1', 12.4 )\n",
       "        }\n",
       "        "
      ],
      "text/plain": [
       "<IPython.core.display.Javascript object>"
      ]
     },
     "metadata": {},
     "output_type": "display_data"
    },
    {
     "data": {
      "application/javascript": [
       "\n",
       "        for( var i=0; i < cy.io.selection.length; i++ ){\n",
       "            var ele = cy.io.selection[i]\n",
       "            ele.data('text1', 'a' )\n",
       "        }\n",
       "        "
      ],
      "text/plain": [
       "<IPython.core.display.Javascript object>"
      ]
     },
     "metadata": {},
     "output_type": "display_data"
    },
    {
     "data": {
      "application/javascript": [
       "\n",
       "        for( var i=0; i < cy.io.selection.length; i++ ){\n",
       "            var ele = cy.io.selection[i]\n",
       "            ele.data('text1', 'asdfasdf' )\n",
       "        }\n",
       "        "
      ],
      "text/plain": [
       "<IPython.core.display.Javascript object>"
      ]
     },
     "metadata": {},
     "output_type": "display_data"
    }
   ],
   "source": [
    "# My Edit Box\n",
    "display( Graph.box.final )"
   ]
  },
  {
   "cell_type": "code",
   "execution_count": 651,
   "metadata": {
    "cell_style": "split",
    "scrolled": false
   },
   "outputs": [
    {
     "data": {
      "text/html": [
       "<style> .cy{ width: 50vw; height: 40vw}</style><div id=\"cy\" class=\"cy\"></div>"
      ],
      "text/plain": [
       "<IPython.core.display.HTML object>"
      ]
     },
     "metadata": {},
     "output_type": "display_data"
    },
    {
     "data": {
      "text/html": [
       "<script>\n",
       "var cy;\n",
       "require(['cytoscape'], function(cytoscape){ \n",
       "    cy = cytoscape({ container: document.getElementById('cy') });\n",
       "\n",
       "cy.io = {}       // <-- where we store all the parameters/variables we create        \n",
       "cy.maxZoom(14)   // <-- Determine how much window zooms in and out\n",
       "cy.minZoom(.4)\n",
       "\n",
       "cy.on(\"select\", 'node, edge' , function(){     //<-- highlight node when selected\n",
       "    this.style( 'overlay-opacity', .4 );\n",
       "});\n",
       "cy.on(\"unselect\", 'node, edge' , function(){   //<-- unhighlight when not selected\n",
       "    this.style( 'overlay-opacity', 0 );\n",
       "});\n",
       "\n",
       "// Create default style for nodes and edges\n",
       "cy.io.style = {}\n",
       "cy.io.style.node = { 'overlay-color': 'gray', 'overlay-padding': '2px', 'background-color': 'gray', 'text-background-color':'white',\n",
       "                        'text-border-width':'2px', 'text-background-padding':'4px', 'z-index-compare':'manual' }\n",
       "cy.io.style.edge = { 'overlay-color': 'gray', 'overlay-padding': '8px', 'line-color': 'gray', 'curve-style': 'bezier', 'text-background-color':'white',\n",
       "                        'text-border-width':'2px', 'text-background-padding':'4px', 'z-index-compare':'manual' }\n",
       "\n",
       "// When selecting/unselecting elements, Save selection search (for computational efficiency)                      \n",
       "cy.on('select unselect', 'node, edge', function(event){ cy.io.selection= cy.$(':selected')  }); \n",
       "\n",
       "cy.io.style.set = function(ele, self=false){\n",
       "    var style = (ele.isNode() ) ? cy.io.style.node : cy.io.style.edge ;\n",
       "    \n",
       "    if( self == false ){ //<-- set properties of element\n",
       "        for (var property in style ) {\n",
       "            if(  !/[A-Z]/.test(property) && !property.includes(\"pie\") && ele.style(property) != \"NaNpx\"  ){   //  remove cytoscape.js errors\n",
       "                ele.style( property, style[property] )\n",
       "           }\n",
       "        }    \n",
       "    }else{               //<-- set properties of style *using* element\n",
       "        for( var property in ele.style() ){ \n",
       "            if(  !/[A-Z]/.test(property) && !property.includes(\"pie\") && ele.style(property) != \"NaNpx\"  ){   //  remove cytoscape.js errors\n",
       "                style[ property ] = ele.style( property ) \n",
       "           }\n",
       "        }\n",
       "    }\n",
       "};\n",
       "\n",
       "cy.io.addNode = function(event){\n",
       "  if( event.target === cy ){                                                          // <-- If we tapped on the background\n",
       "      var ele = cy.add([ {  group: \"nodes\", position: event.position  } ]);          //<-- add node    \n",
       "      cy.io.style.set( ele )\n",
       "  }; \n",
       "};\n",
       "cy.on('tap', cy.io.addNode );\n",
       "\n",
       "cy.io.click_hist = [\"1\", \"2\", \"3\", \"4\"];\n",
       "cy.io.click_time = [8, 6, 4, 2];\n",
       "\n",
       "cy.io.addEdge = function(event){                                    // <-- on \"tapping\" canvas\n",
       "    cy.io.click_hist.shift();     //<-- Remove oldest click\n",
       "    \n",
       "    //Update Click times\n",
       "    var d = new Date()\n",
       "    cy.io.click_time.shift()\n",
       "    cy.io.click_time.push( d.getTime()/1000 )\n",
       "    \n",
       "    if( event.target !== cy && event.target.isNode() ){               // <-- If we tapped a Node\n",
       "      cy.io.click_hist.push( event.target.id() );                   // <-- Add node id to click history\n",
       "\n",
       "      if( cy.io.click_hist[0]==cy.io.click_hist[1] && cy.io.click_hist[2]==cy.io.click_hist[3] &&           cy.io.click_time[1] - cy.io.click_time[0] < 1 && cy.io.click_time[3] - cy.io.click_time[2] < 1  ){ //<-- If 2 double clicks\n",
       "          \n",
       "          var ele= cy.add([ {  data: { source: cy.io.click_hist[0], target: cy.io.click_hist[2] }  } ]);    //<-- add edge\n",
       "          cy.io.style.set( ele )                                                                            //<-- add style of new edge\n",
       "      };\n",
       "\n",
       "    }else{                                                 //<-- if we didn't click a node\n",
       "      cy.io.click_hist.push( String(Math.random()) );   //<-- Add random string to click history (repeats unlikely)\n",
       "    }; \n",
       "};\n",
       "cy.on( 'tap' , cy.io.addEdge );\n",
       "\n",
       "cy.io.style.change = function(ele, property, value ){\n",
       "    cy.io.style.set( ele, self=true )                                     // Make style same as node type\n",
       "    var style = (ele.isNode() ) ? cy.io.style.node : cy.io.style.edge ;   // get style type\n",
       "    \n",
       "    typeof(property)\n",
       "    if( typeof(property)==\"string\" ){                                     // handle changing a single style property\n",
       "        style[ property ] = value                                             // change style value\n",
       "        ele.style( property, value )                                          // change element's value\n",
       "    }else{                                                                // Multiple properties\n",
       "        for(var i=0; i<property.length; i++){\n",
       "            style[ property[i] ] = value[i]\n",
       "            ele.style( property[i], value[i] )  \n",
       "        }\n",
       "    }\n",
       "};\n",
       "\n",
       "var eles = cy.add([  {data: { id: 'a' }},  {data: { id: 'b' }},  {data: { id: 'ab', source: 'a', target: 'b'}}  ])\n",
       "cy.io.style.set( eles[0] ) \n",
       "cy.io.style.set( eles[2] )\n",
       "cy.io.style.set(eles[0], self=true )\n",
       "cy.io.style.set(eles[2], self=true )\n",
       "cy.io.default = {}\n",
       "cy.io.default.node = jQuery.extend(true, {}, cy.io.style.node );\n",
       "cy.io.default.edge = jQuery.extend(true, {}, cy.io.style.edge );\n",
       "cy.remove(eles)\n",
       "\n",
       "cy.io.getVars = function(event){\n",
       "    var selection = cy.$(':selected')\n",
       "    py.execute(\"Graph.w.varBox.children = ()\")\n",
       "    \n",
       "    if( selection.length == 0 ){ py.execute('Graph.w.var_add_name.reset(True)'); return;} \n",
       "    \n",
       "    if( selection.length == 1 ){        \n",
       "        var data = selection[0].data()\n",
       "        var data_vars = Object.keys(data).slice(1,)\n",
       "        cy.io.vars = []\n",
       "        for( i in data){            \n",
       "            if( data[i] != undefined && i!='id' ){\n",
       "                cy.io.vars.push(i)\n",
       "                var val_js = ( typeof(data[i])==\"number\" ) ? String(data[i]) : '\"'+data[i]+'\"'\n",
       "                py.execute('Graph.w.varBox.add(\"'+i+'\",'+val_js+')')\n",
       "            }\n",
       "        }\n",
       "    }else{\n",
       "    \n",
       "        cy.io.vars = []\n",
       "        for( var i=0; i < selection.length; i++ ){\n",
       "            var ele = selection[i]\n",
       "            var data = ele.data()\n",
       "            for( key in data ){\n",
       "                if( key!='id' && !cy.io.vars.includes(key) && data[key]!=undefined ){\n",
       "                    cy.io.vars.push( key )\n",
       "                }\n",
       "            }\n",
       "        }\n",
       "        for( show in cy.io.vars ){\n",
       "            py.execute('Graph.w.varBox.add(\"'+cy.io.vars[show]+'\")')\n",
       "        }\n",
       "    }\n",
       "    py.execute('Graph.w.var_add_name.reset()')\n",
       "};\n",
       "cy.on('select unselect', 'node, edge', cy.io.getVars )\n",
       "});</script>"
      ],
      "text/plain": [
       "<IPython.core.display.HTML object>"
      ]
     },
     "metadata": {},
     "output_type": "display_data"
    }
   ],
   "source": [
    "# My Canvas Box\n",
    "display(HTML(\"\"\"<style> .cy{ width: 50vw; height: 40vw}</style><div id=\"cy\" class=\"cy\"></div>\"\"\"))\n",
    "Graph.js.load() ### Production ###"
   ]
  },
  {
   "cell_type": "code",
   "execution_count": null,
   "metadata": {},
   "outputs": [],
   "source": []
  },
  {
   "cell_type": "code",
   "execution_count": null,
   "metadata": {},
   "outputs": [],
   "source": []
  },
  {
   "cell_type": "code",
   "execution_count": null,
   "metadata": {},
   "outputs": [],
   "source": []
  },
  {
   "cell_type": "code",
   "execution_count": null,
   "metadata": {},
   "outputs": [],
   "source": []
  }
 ],
 "metadata": {
  "hide_input": false,
  "kernelspec": {
   "display_name": "Python 3",
   "language": "python",
   "name": "python3"
  },
  "language_info": {
   "codemirror_mode": {
    "name": "ipython",
    "version": 3
   },
   "file_extension": ".py",
   "mimetype": "text/x-python",
   "name": "python",
   "nbconvert_exporter": "python",
   "pygments_lexer": "ipython3",
   "version": "3.6.5"
  },
  "toc": {
   "base_numbering": 1,
   "nav_menu": {},
   "number_sections": true,
   "sideBar": true,
   "skip_h1_title": false,
   "title_cell": "Table of Contents",
   "title_sidebar": "Contents",
   "toc_cell": false,
   "toc_position": {},
   "toc_section_display": true,
   "toc_window_display": false
  },
  "varInspector": {
   "cols": {
    "lenName": 16,
    "lenType": 16,
    "lenVar": 40
   },
   "kernels_config": {
    "python": {
     "delete_cmd_postfix": "",
     "delete_cmd_prefix": "del ",
     "library": "var_list.py",
     "varRefreshCmd": "print(var_dic_list())"
    },
    "r": {
     "delete_cmd_postfix": ") ",
     "delete_cmd_prefix": "rm(",
     "library": "var_list.r",
     "varRefreshCmd": "cat(var_dic_list()) "
    }
   },
   "types_to_exclude": [
    "module",
    "function",
    "builtin_function_or_method",
    "instance",
    "_Feature"
   ],
   "window_display": false
  }
 },
 "nbformat": 4,
 "nbformat_minor": 2
}
