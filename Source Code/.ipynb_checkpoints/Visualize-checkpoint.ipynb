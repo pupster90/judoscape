{
 "cells": [
  {
   "cell_type": "markdown",
   "metadata": {},
   "source": [
    "<p></p><font size=8 face=\"courier\" color=\"magenta\">Visualize</font>"
   ]
  },
  {
   "cell_type": "markdown",
   "metadata": {},
   "source": [
    "This notebook creates the widget inside of the \"Visualize\" section of the [Cytoscape app](../Cytoscape.ipynb)."
   ]
  },
  {
   "cell_type": "markdown",
   "metadata": {},
   "source": [
    "# Setup Notebook"
   ]
  },
  {
   "cell_type": "code",
   "execution_count": 3,
   "metadata": {
    "scrolled": true
   },
   "outputs": [
    {
     "name": "stdout",
     "output_type": "stream",
     "text": [
      "/root/Documents\n"
     ]
    },
    {
     "data": {
      "text/html": [
       "\n",
       "<style>\n",
       "*{margin:0; padding:0;} html, body,              .container{margin:0;!important padding:0;!important}              .container { width:100% !important;}\n",
       "\n",
       "div.text_cell_render { /* Customize text cells */\n",
       "    font-size:1.1em;\n",
       "    line-height:1.1em;\n",
       "}\n",
       "\n",
       "</style>\n"
      ],
      "text/plain": [
       "<IPython.core.display.HTML object>"
      ]
     },
     "metadata": {},
     "output_type": "display_data"
    },
    {
     "data": {
      "text/html": [
       "\n",
       "<b style=\"color:red\">Note:</b> Somce cells are <font color=\"gray\">\"grayed out\"</font> with <i style=\"color:blue\">\"Debug\"</i> written next to them.\n",
       "<p>This was done to improve efficiency and to control what is shown in the final notebook. \n",
       "<b>Uncomment these cells</b> when working on hte notebook.</p>\n"
      ],
      "text/plain": [
       "<IPython.core.display.HTML object>"
      ]
     },
     "metadata": {},
     "output_type": "display_data"
    },
    {
     "data": {
      "text/html": [
       "\n",
       "<style>\n",
       "\n",
       "div.text_cell_render h1 { /* Main titles bigger, centered */\n",
       "text-align:center;\n",
       "}\n",
       "\n",
       "\n",
       "\n",
       "div.text_cell_render { /* Customize text cells */\n",
       "padding-left:3em;\n",
       "padding-right:3em;\n",
       "color: rgb(127, 127, 127);\n",
       "}\n",
       "</style>\n"
      ],
      "text/plain": [
       "<IPython.core.display.HTML object>"
      ]
     },
     "metadata": {},
     "output_type": "display_data"
    }
   ],
   "source": [
    "\"\"\" DEBUG \"\"\"\n",
    "%cd /root/Documents    \n",
    "%run \"Source Code/Setup Notebook.ipynb\" #<-- Debug\n",
    "%run \"Source Code/Setup Source.ipynb\"   #<-- Debug\n",
    "# %cd sets the path to that of Cytoscape.ipynb\n"
   ]
  },
  {
   "cell_type": "markdown",
   "metadata": {},
   "source": [
    "The **<font color=\"magenta\">create</font>** object holds all the code for this notebook"
   ]
  },
  {
   "cell_type": "code",
   "execution_count": null,
   "metadata": {},
   "outputs": [],
   "source": []
  },
  {
   "cell_type": "markdown",
   "metadata": {},
   "source": [
    "## Helpers\n",
    "\n",
    "These are <font color=\"blue\">functions</font> and <font color=\"magenta\">classes</font> that help the visualizer do it's thing."
   ]
  },
  {
   "cell_type": "code",
   "execution_count": null,
   "metadata": {},
   "outputs": [],
   "source": []
  },
  {
   "cell_type": "code",
   "execution_count": null,
   "metadata": {},
   "outputs": [],
   "source": []
  },
  {
   "cell_type": "markdown",
   "metadata": {
    "heading_collapsed": true
   },
   "source": [
    "# Create <font color=\"magenta\">Visualizer</font>\n",
    "\n",
    "Here we create the initial <font color=\"magenta\">Visualizer</font> class. This class is used to creat and manage the networks visualization. This section only consists of the initialization <font color=\"magenta\">Visualizer</font> and some of it's basic functions. Most of <font color=\"magenta\">Visualizer's</font> functionality is actually implemented inside of the **Add Widgets** section"
   ]
  },
  {
   "cell_type": "markdown",
   "metadata": {
    "hidden": true
   },
   "source": [
    "## <font color=\"magenta\">Visualizer</font> Class\n",
    "\n",
    "The <font color=\"magenta\">Visualizer</font> Class is what is used to create and manage the networks visualization"
   ]
  },
  {
   "cell_type": "code",
   "execution_count": 4,
   "metadata": {
    "hidden": true
   },
   "outputs": [],
   "source": [
    "class Graph():\n",
    "    def __init__(self):\n",
    "        #self.w = type(\"widgets\",(),{})() #<-- this is where all the widgets go\n",
    "        pass"
   ]
  },
  {
   "cell_type": "markdown",
   "metadata": {
    "heading_collapsed": true,
    "hidden": true
   },
   "source": [
    "##  <font color=\"blue\">Functions</font>"
   ]
  },
  {
   "cell_type": "markdown",
   "metadata": {
    "heading_collapsed": true,
    "hidden": true
   },
   "source": [
    "###  <font color=\"blue\">canvasHtml</font>\n",
    "\n",
    "<font color=\"blue\">canvasHtml</font> creates the html that the network will be displayed in"
   ]
  },
  {
   "cell_type": "markdown",
   "metadata": {
    "hidden": true
   },
   "source": [
    " <font color=\"red\">made width it 50 just for debugging</font>"
   ]
  },
  {
   "cell_type": "code",
   "execution_count": 5,
   "metadata": {
    "cell_style": "center",
    "hidden": true
   },
   "outputs": [],
   "source": [
    "def canvasHtml(self): \n",
    "    display(HTML(\"\"\"\n",
    "    <style> .cy { width: 50vw; height: 30vw}</style> \n",
    "    <div id=\"cy\" class=\"cy\"></div>\n",
    "    \"\"\"))\n",
    "Graph.canvasHtml = canvasHtml"
   ]
  },
  {
   "cell_type": "code",
   "execution_count": null,
   "metadata": {
    "hidden": true
   },
   "outputs": [],
   "source": []
  },
  {
   "cell_type": "markdown",
   "metadata": {},
   "source": [
    "# <font color=\"orange\">Javascript</font> Helpers"
   ]
  },
  {
   "cell_type": "code",
   "execution_count": 6,
   "metadata": {},
   "outputs": [],
   "source": [
    "class JS_Helper():\n",
    "    pass\n",
    "Graph.js = JS_Helper()"
   ]
  },
  {
   "cell_type": "code",
   "execution_count": null,
   "metadata": {},
   "outputs": [],
   "source": []
  },
  {
   "cell_type": "code",
   "execution_count": null,
   "metadata": {},
   "outputs": [],
   "source": []
  },
  {
   "cell_type": "code",
   "execution_count": null,
   "metadata": {},
   "outputs": [],
   "source": []
  },
  {
   "cell_type": "markdown",
   "metadata": {
    "heading_collapsed": true
   },
   "source": [
    "## <font color=\"orange\">addNode</font>\n",
    "\n",
    "This functions adds new nodes to the network when the clicks and empty part of the graph."
   ]
  },
  {
   "cell_type": "code",
   "execution_count": 7,
   "metadata": {
    "hidden": true
   },
   "outputs": [],
   "source": [
    "def addNode(self):\n",
    "    JS(\"\"\"\n",
    "    cy.io.addNode = function(event){\n",
    "      if( event.target === cy ){                                                          // <-- If we tapped on the background\n",
    "          checkit = cy.add([ {  group: \"nodes\", position: event.position  } ]);          //<-- add node    \n",
    "      }; \n",
    "    };\n",
    "    cy.on('tap', cy.io.addNode );\n",
    "    \"\"\")\n",
    "JS_Helper.addNode = addNode"
   ]
  },
  {
   "cell_type": "code",
   "execution_count": null,
   "metadata": {
    "hidden": true
   },
   "outputs": [],
   "source": []
  },
  {
   "cell_type": "markdown",
   "metadata": {
    "heading_collapsed": true
   },
   "source": [
    "## <font color=\"orange\">addEdge</font>\n",
    "\n",
    "We add a new edge when the use double clicks one nodes and then double clicks another node. <font color=\"orange\">addEdge</font> check for the double clicking and adds a new edge if necessary."
   ]
  },
  {
   "cell_type": "code",
   "execution_count": 8,
   "metadata": {
    "hidden": true
   },
   "outputs": [],
   "source": [
    "def addEdge(self):\n",
    "    JS(\"\"\"\n",
    "    cy.io.click_hist = [\"1\", \"2\", \"3\", \"4\"];\n",
    "    \n",
    "    cy.io.addEdge = function(event){                                    // <-- on \"tapping\" canvas\n",
    "        cy.io.click_hist.shift();                                         //<-- Remove oldest click\n",
    "\n",
    "        if( event.target !== cy && event.target.isNode() ){               // <-- If we tapped a Node\n",
    "          cy.io.click_hist.push( event.target.id() );                   // <-- Add node id to click history\n",
    "\n",
    "          if( cy.io.click_hist[0]==cy.io.click_hist[1] && cy.io.click_hist[2]==cy.io.click_hist[3] ){      //<-- If 2 double clicks\n",
    "              cy.add([ {  data: { source: cy.io.click_hist[0], target: cy.io.click_hist[2] }  } ]);         //<-- add edge\n",
    "          };\n",
    "\n",
    "        }else{                                                 //<-- if we didn't click a node\n",
    "          cy.io.click_hist.push( String(Math.random()) );   //<-- Add random string to click history (repeats unlikely)\n",
    "        }; \n",
    "    };\n",
    "    cy.on(\"click\" , cy.io.addEdge );\n",
    "    \"\"\")\n",
    "JS_Helper.addEdge = addEdge"
   ]
  },
  {
   "cell_type": "markdown",
   "metadata": {
    "heading_collapsed": true
   },
   "source": [
    "## <font color=\"orange\">start</font>\n",
    "\n",
    "<font color=\"orange\">start</font> makes it possible to edit the canvas that displays the network and loads in the <font color=\"orange\">javascript</font> helpers"
   ]
  },
  {
   "cell_type": "code",
   "execution_count": 9,
   "metadata": {
    "hidden": true
   },
   "outputs": [],
   "source": [
    "def start(self):\n",
    "    JS(\"\"\"\n",
    "    var cy;\n",
    "    require(['cytoscape'], function(cytoscape){\n",
    "\n",
    "        cy = cytoscape({ container: document.getElementById('cy'), \n",
    "                        layout: { name: 'cose' }\n",
    "            });\n",
    "        cy.io = {};   //<--  Where we store all our javascript variables\n",
    "    });\n",
    "    \"\"\")\n",
    "JS_Helper.start = start"
   ]
  },
  {
   "cell_type": "markdown",
   "metadata": {},
   "source": [
    "#  Add <font color=\"green\">Widgets</font>\n"
   ]
  },
  {
   "cell_type": "code",
   "execution_count": 10,
   "metadata": {},
   "outputs": [],
   "source": [
    "Graph.w = type(\"widget_list\",(),{})()\n",
    "Graph.wf = type(\"widget_functions\",(),{})()"
   ]
  },
  {
   "cell_type": "code",
   "execution_count": null,
   "metadata": {},
   "outputs": [],
   "source": [
    "\n"
   ]
  },
  {
   "cell_type": "markdown",
   "metadata": {
    "heading_collapsed": true
   },
   "source": [
    "## <font color=\"green\">Control Panel</font> "
   ]
  },
  {
   "cell_type": "markdown",
   "metadata": {
    "hidden": true
   },
   "source": [
    "**<font color=\"green\">widget : </font>**"
   ]
  },
  {
   "cell_type": "code",
   "execution_count": 27,
   "metadata": {
    "cell_style": "split",
    "hidden": true
   },
   "outputs": [],
   "source": [
    "Graph.w.ControlPanel= widgets.ToggleButtons(\n",
    "    options=[ 'Edit','Search','Graph Style'])\n",
    "#Graph.w.ControlPanel"
   ]
  },
  {
   "cell_type": "markdown",
   "metadata": {
    "hidden": true
   },
   "source": [
    "**<font color=\"blue\">Function : </font>**  <font color=\"blue\">ControlChanged</font> changes the editorBox display when the Control Panel changes."
   ]
  },
  {
   "cell_type": "code",
   "execution_count": 28,
   "metadata": {
    "hidden": true
   },
   "outputs": [],
   "source": [
    "def ControlChanged(b):\n",
    "    #widg = Graph.w.ControlPanel.value.replace(\" \", \"\")\n",
    "    #Graph.editor_box.widg = getattr(Graph.w, widg).show\n",
    "    #Graph.editor_box.execute()\n",
    "    #clear_output()\n",
    "    #display(Graph.w.ControlPanel)\n",
    "    pass\n",
    "\n",
    "    \n",
    "Graph.w.ControlPanel.observe( ControlChanged )"
   ]
  },
  {
   "cell_type": "markdown",
   "metadata": {
    "hidden": true
   },
   "source": [
    "How to change button style"
   ]
  },
  {
   "cell_type": "code",
   "execution_count": null,
   "metadata": {
    "hidden": true
   },
   "outputs": [],
   "source": [
    "# Graph.w.ControlPanel.value = \"Search\""
   ]
  },
  {
   "cell_type": "markdown",
   "metadata": {},
   "source": [
    "## <font color=\"green\">Edit</font>  "
   ]
  },
  {
   "cell_type": "code",
   "execution_count": 11,
   "metadata": {},
   "outputs": [],
   "source": [
    "Graph.w.Edit = type(\"widget\",(),{})()"
   ]
  },
  {
   "cell_type": "markdown",
   "metadata": {},
   "source": [
    "### Widgets"
   ]
  },
  {
   "cell_type": "markdown",
   "metadata": {
    "heading_collapsed": true
   },
   "source": [
    "#### Delete Button"
   ]
  },
  {
   "cell_type": "markdown",
   "metadata": {
    "hidden": true
   },
   "source": [
    "**<font color=\"green\">widget : </font>**"
   ]
  },
  {
   "cell_type": "code",
   "execution_count": 12,
   "metadata": {
    "hidden": true
   },
   "outputs": [],
   "source": [
    "Graph.w.Edit.delete = ipw.Button(description='Delete',button_style='danger')\n",
    "#Graph.w.Edit.delete"
   ]
  },
  {
   "cell_type": "markdown",
   "metadata": {
    "hidden": true
   },
   "source": [
    "**<font color=\"blue\">Function : </font>** "
   ]
  },
  {
   "cell_type": "code",
   "execution_count": 13,
   "metadata": {
    "hidden": true
   },
   "outputs": [],
   "source": [
    "def delete(b):\n",
    "    JS(\"cy.io.last_deleted = cy.$(':selected').remove();\")   #<-- delete elements\n",
    "    Graph.w.Edit.undo.disabled = False\n",
    "Graph.wf.delete = delete\n",
    "Graph.w.Edit.delete.on_click( Graph.wf.delete )"
   ]
  },
  {
   "cell_type": "markdown",
   "metadata": {
    "heading_collapsed": true
   },
   "source": [
    "#### Undo Delete "
   ]
  },
  {
   "cell_type": "markdown",
   "metadata": {
    "hidden": true
   },
   "source": [
    "**<font color=\"green\">widget : </font>**"
   ]
  },
  {
   "cell_type": "code",
   "execution_count": 14,
   "metadata": {
    "hidden": true
   },
   "outputs": [],
   "source": [
    "Graph.w.Edit.undo = ipw.Button(description='Undo',button_style='primary', disabled= True )\n",
    "#Graph.w.Edit.undo"
   ]
  },
  {
   "cell_type": "markdown",
   "metadata": {
    "hidden": true
   },
   "source": [
    "**<font color=\"blue\">Function : </font>** "
   ]
  },
  {
   "cell_type": "code",
   "execution_count": 15,
   "metadata": {
    "hidden": true
   },
   "outputs": [],
   "source": [
    "def undo(b):\n",
    "    JS(\" cy.add( cy.io.last_deleted );\")   #<-- Add last deleted element\n",
    "    b.disabled = True\n",
    "Graph.wf.undo = undo\n",
    "Graph.w.Edit.undo.on_click( Graph.wf.undo )"
   ]
  },
  {
   "cell_type": "markdown",
   "metadata": {},
   "source": [
    "#### Color"
   ]
  },
  {
   "cell_type": "markdown",
   "metadata": {},
   "source": [
    "**<font color=\"green\">widget : </font>**"
   ]
  },
  {
   "cell_type": "code",
   "execution_count": 16,
   "metadata": {},
   "outputs": [],
   "source": [
    "Graph.w.Edit.color = ipw.ColorPicker( description='Color :' )\n",
    "#Graph.w.Edit.color"
   ]
  },
  {
   "cell_type": "markdown",
   "metadata": {},
   "source": [
    "**<font color=\"blue\">Function : </font>** "
   ]
  },
  {
   "cell_type": "code",
   "execution_count": 17,
   "metadata": {},
   "outputs": [],
   "source": [
    "import time\n",
    "Graph.w.Edit.color.time = 0"
   ]
  },
  {
   "cell_type": "code",
   "execution_count": 18,
   "metadata": {},
   "outputs": [],
   "source": [
    "Graph.w.Edit.color.time = 0\n",
    "def color(b):\n",
    "    if time.time() - Graph.w.Edit.color.time > .1:  #<-- make function run only ever 1/10 a second\n",
    "        Graph.w.Edit.color.time = time.time()\n",
    "        JS(\"\"\"\n",
    "        for( i=0; i < cy.io.selection.length; i++ ){\n",
    "            var ele = cy.io.selection[i]\n",
    "            if( ele.isNode() ){\n",
    "                ele.style( \"background-color\", '\"\"\"+Graph.w.Edit.color.value+\"\"\"' )\n",
    "            } else{\n",
    "                ele.style( \"line-color\", '\"\"\"+Graph.w.Edit.color.value+\"\"\"' )\n",
    "            }\n",
    "        }\n",
    "        \"\"\")          \n",
    "Graph.wf.color = color\n",
    "Graph.w.Edit.color.observe( Graph.wf.color )"
   ]
  },
  {
   "cell_type": "markdown",
   "metadata": {},
   "source": [
    "#### Size"
   ]
  },
  {
   "cell_type": "markdown",
   "metadata": {},
   "source": [
    "**<font color=\"green\">widget : </font>**"
   ]
  },
  {
   "cell_type": "code",
   "execution_count": 55,
   "metadata": {},
   "outputs": [
    {
     "data": {
      "application/vnd.jupyter.widget-view+json": {
       "model_id": "6843c6d2a03c4e30b79b11c581d5c39b",
       "version_major": 2,
       "version_minor": 0
      },
      "text/plain": [
       "IntSlider(value=30, description='Size : ', max=200, min=1)"
      ]
     },
     "metadata": {},
     "output_type": "display_data"
    }
   ],
   "source": [
    "Graph.w.Edit.size = ipw.IntSlider(value=30, min=1, max=200, description='Size : ', continuous_update=True )\n",
    "Graph.w.Edit.size "
   ]
  },
  {
   "cell_type": "markdown",
   "metadata": {},
   "source": [
    "**<font color=\"blue\">Function : </font>** "
   ]
  },
  {
   "cell_type": "code",
   "execution_count": 56,
   "metadata": {},
   "outputs": [],
   "source": [
    "Graph.w.Edit.size.time = 0\n",
    "def size(b):\n",
    "    if time.time() - Graph.w.Edit.size.time > .1:  #<-- make function run only ever 1/10 a second\n",
    "        Graph.w.Edit.size.time = time.time()\n",
    "        JS(\"\"\"\n",
    "        for( i=0; i < cy.io.selection.length; i++ ){\n",
    "            var ele = cy.io.selection[i]\n",
    "            if( ele.isNode() ){\n",
    "                ele.style( \"width\", \"\"\"+str(Graph.w.Edit.size.value)+\"\"\" )\n",
    "                ele.style( \"height\", \"\"\"+str(Graph.w.Edit.size.value)+\"\"\" )\n",
    "            } else{\n",
    "                ele.style( \"width\", \"\"\"+str(Graph.w.Edit.size.value/6)+\"\"\" )\n",
    "            }\n",
    "        }\n",
    "        \"\"\")           \n",
    "Graph.wf.size = size\n",
    "Graph.w.Edit.size.observe( Graph.wf.size )"
   ]
  },
  {
   "cell_type": "markdown",
   "metadata": {},
   "source": [
    "### Display Boxes"
   ]
  },
  {
   "cell_type": "code",
   "execution_count": 57,
   "metadata": {},
   "outputs": [],
   "source": [
    "Graph.w.Edit.boxAll = ipw.VBox([ Graph.w.Edit.color,\n",
    "                                 Graph.w.Edit.size,\n",
    "                                 ipw.HBox([ Graph.w.Edit.delete, Graph.w.Edit.undo ])\n",
    "                               ])"
   ]
  },
  {
   "cell_type": "code",
   "execution_count": 59,
   "metadata": {},
   "outputs": [],
   "source": [
    "#Graph.w.Edit.boxAll"
   ]
  },
  {
   "cell_type": "code",
   "execution_count": null,
   "metadata": {},
   "outputs": [],
   "source": []
  },
  {
   "cell_type": "markdown",
   "metadata": {},
   "source": [
    "** What I previously wrote: **\n",
    "\n",
    "\n",
    "The editor box is the thing next to the visualizer where a user can change the graph. Notice that the contents of this box changes depending on what the user clicks on the control panel. The Control Panel/ Editor Box functionality is actually a little tricky to create in jupyter and require some special things to be built.\n"
   ]
  },
  {
   "cell_type": "markdown",
   "metadata": {},
   "source": [
    "## Helper: <font color=\"magenta\">JupyterCell</font>\n",
    "\n",
    "<p></p>\n",
    " <font color=\"magenta\">JupyterCell</font> is a useful class that allows you to execute a specified *jupyter cell* from the command <font color=\"magenta\">JupyterCell</font><font color=\"blue\">.execute()</font>. This is used to change which <font color=\"green\">widget</font> is displayed inside of the visualizer's **editor cell**."
   ]
  },
  {
   "cell_type": "code",
   "execution_count": 20,
   "metadata": {},
   "outputs": [],
   "source": [
    "class JupyterCell():\n",
    " \n",
    "    def __init__(self, cell_text, text_before=\"# \", js_var=\"cy.io.edit_num\"):\n",
    "        self.cell_text= cell_text\n",
    "        self.text_before= text_before\n",
    "        self.js_var = js_var\n",
    "        self.search()\n",
    "    \n",
    "    def search(self):\n",
    "        JS(\"\"\"\n",
    "        var cell_text= \"\";\n",
    "        \"\"\"+self.js_var+\"\"\"= 0;  \n",
    "        while( ! cell_text.includes('\"\"\"+self.text_before+self.cell_text+\"\"\"')  ){\n",
    "            cell_text = Jupyter.notebook.get_cell(\"\"\"+self.js_var+\"\"\").get_text();  //.element[\"0\"].innerText #<-- Old Way\n",
    "            \"\"\"+self.js_var+\"\"\"++\n",
    "        }\n",
    "        \"\"\"+self.js_var+\"\"\"--\n",
    "        \"\"\")\n",
    "    \n",
    "    def execute(self):  #<-- This gets the Cell by using the cell text. The cell text must be unique to that cell\n",
    "        self.search()\n",
    "        JS(\"\"\"\n",
    "        IPython.notebook.execute_cells([\"\"\"+self.js_var+\"\"\"])\n",
    "        \"\"\")\n"
   ]
  },
  {
   "cell_type": "markdown",
   "metadata": {},
   "source": [
    "## Create Editor  Box"
   ]
  },
  {
   "cell_type": "code",
   "execution_count": 72,
   "metadata": {},
   "outputs": [
    {
     "data": {
      "text/html": [
       "<script>\n",
       "        var cell_text= \"\";\n",
       "        cy.io.edit_num= 0;  \n",
       "        while( ! cell_text.includes('# My Edit Box')  ){\n",
       "            cell_text = Jupyter.notebook.get_cell(cy.io.edit_num).get_text();  //.element[\"0\"].innerText #<-- Old Way\n",
       "            cy.io.edit_num++\n",
       "        }\n",
       "        cy.io.edit_num--\n",
       "        </script>"
      ],
      "text/plain": [
       "<IPython.core.display.HTML object>"
      ]
     },
     "metadata": {},
     "output_type": "display_data"
    },
    {
     "data": {
      "text/html": [
       "<script>\n",
       "        var cell_text= \"\";\n",
       "        cy.io.edit_num= 0;  \n",
       "        while( ! cell_text.includes('# My Edit Box')  ){\n",
       "            cell_text = Jupyter.notebook.get_cell(cy.io.edit_num).get_text();  //.element[\"0\"].innerText #<-- Old Way\n",
       "            cy.io.edit_num++\n",
       "        }\n",
       "        cy.io.edit_num--\n",
       "        </script>"
      ],
      "text/plain": [
       "<IPython.core.display.HTML object>"
      ]
     },
     "metadata": {},
     "output_type": "display_data"
    },
    {
     "data": {
      "text/html": [
       "<script>\n",
       "        IPython.notebook.execute_cells([cy.io.edit_num])\n",
       "        </script>"
      ],
      "text/plain": [
       "<IPython.core.display.HTML object>"
      ]
     },
     "metadata": {},
     "output_type": "display_data"
    }
   ],
   "source": [
    "cy = Graph()\n",
    "Graph.editor_box = JupyterCell(\"My Edit Box\")\n",
    "Graph.editor_box.widg = ipw.HTML(\"<h5> </h5>\") #<-- widget initially empty\n",
    "Graph.editor_box.search()\n",
    "Graph.editor_box.execute()\n"
   ]
  },
  {
   "cell_type": "code",
   "execution_count": 80,
   "metadata": {},
   "outputs": [
    {
     "data": {
      "text/html": [
       "<script>\n",
       "        var cell_text= \"\";\n",
       "        cy.io.edit_num= 0;  \n",
       "        while( ! cell_text.includes('# My Edit Box')  ){\n",
       "            cell_text = Jupyter.notebook.get_cell(cy.io.edit_num).get_text();  //.element[\"0\"].innerText #<-- Old Way\n",
       "            cy.io.edit_num++\n",
       "        }\n",
       "        cy.io.edit_num--\n",
       "        </script>"
      ],
      "text/plain": [
       "<IPython.core.display.HTML object>"
      ]
     },
     "metadata": {},
     "output_type": "display_data"
    }
   ],
   "source": []
  },
  {
   "cell_type": "code",
   "execution_count": null,
   "metadata": {},
   "outputs": [],
   "source": []
  },
  {
   "cell_type": "code",
   "execution_count": null,
   "metadata": {},
   "outputs": [],
   "source": []
  },
  {
   "cell_type": "code",
   "execution_count": null,
   "metadata": {},
   "outputs": [],
   "source": [
    "Graph.w.Edit.boxAll"
   ]
  },
  {
   "cell_type": "code",
   "execution_count": null,
   "metadata": {},
   "outputs": [],
   "source": [
    "Graph.w.Edit.color.value"
   ]
  },
  {
   "cell_type": "code",
   "execution_count": null,
   "metadata": {},
   "outputs": [],
   "source": [
    "JS(\"\"\"\n",
    "Jupyter.notebook.kernel.execute(\"Graph.editor_box.widg = Graph.w.Edit.boxAll\")\n",
    "IPython.notebook.execute_cells([cy.io.edit_num])  //<-- cy.io.edit_num was setup by the Graph.editor_box\n",
    "\"\"\")"
   ]
  },
  {
   "cell_type": "markdown",
   "metadata": {},
   "source": [
    "# Visualize (Mock Setup)"
   ]
  },
  {
   "cell_type": "code",
   "execution_count": 85,
   "metadata": {
    "cell_style": "split",
    "scrolled": false
   },
   "outputs": [
    {
     "data": {
      "application/vnd.jupyter.widget-view+json": {
       "model_id": "4d6c582e115b4228bcef85a82fa3eb7c",
       "version_major": 2,
       "version_minor": 0
      },
      "text/plain": [
       "ToggleButtons(options=('Edit', 'Search', 'Graph Style'), value='Edit')"
      ]
     },
     "metadata": {},
     "output_type": "display_data"
    },
    {
     "data": {
      "text/html": [
       "<hr>"
      ],
      "text/plain": [
       "<IPython.core.display.HTML object>"
      ]
     },
     "metadata": {},
     "output_type": "display_data"
    },
    {
     "data": {
      "application/vnd.jupyter.widget-view+json": {
       "model_id": "f577a641c67a44988e637868366702da",
       "version_major": 2,
       "version_minor": 0
      },
      "text/plain": [
       "VBox(children=(ColorPicker(value='#ff0007', description='Color :'), IntSlider(value=200, description='Size : '…"
      ]
     },
     "metadata": {},
     "output_type": "display_data"
    },
    {
     "data": {
      "text/html": [
       "<script>cy.io.last_deleted = cy.$(':selected').remove();</script>"
      ],
      "text/plain": [
       "<IPython.core.display.HTML object>"
      ]
     },
     "metadata": {},
     "output_type": "display_data"
    }
   ],
   "source": [
    "# My Edit Box\n",
    "display( Graph.w.ControlPanel )\n",
    "display(HTML(\"<hr>\"))\n",
    "display( Graph.editor_box.widg  )\n",
    "\n"
   ]
  },
  {
   "cell_type": "code",
   "execution_count": 75,
   "metadata": {
    "cell_style": "split",
    "scrolled": false
   },
   "outputs": [
    {
     "data": {
      "text/html": [
       "\n",
       "    <style> .cy { width: 50vw; height: 30vw}</style> \n",
       "    <div id=\"cy\" class=\"cy\"></div>\n",
       "    "
      ],
      "text/plain": [
       "<IPython.core.display.HTML object>"
      ]
     },
     "metadata": {},
     "output_type": "display_data"
    },
    {
     "data": {
      "text/html": [
       "<script>\n",
       "    var cy;\n",
       "    require(['cytoscape'], function(cytoscape){\n",
       "\n",
       "        cy = cytoscape({ container: document.getElementById('cy'), \n",
       "                        layout: { name: 'cose' }\n",
       "            });\n",
       "        cy.io = {};   //<--  Where we store all our javascript variables\n",
       "    });\n",
       "    </script>"
      ],
      "text/plain": [
       "<IPython.core.display.HTML object>"
      ]
     },
     "metadata": {},
     "output_type": "display_data"
    }
   ],
   "source": [
    "cy.canvasHtml()\n",
    "cy.js.start()\n"
   ]
  },
  {
   "cell_type": "code",
   "execution_count": 76,
   "metadata": {},
   "outputs": [
    {
     "data": {
      "text/html": [
       "<script>\n",
       "    cy.io.addNode = function(event){\n",
       "      if( event.target === cy ){                                                          // <-- If we tapped on the background\n",
       "          checkit = cy.add([ {  group: \"nodes\", position: event.position  } ]);          //<-- add node    \n",
       "      }; \n",
       "    };\n",
       "    cy.on('tap', cy.io.addNode );\n",
       "    </script>"
      ],
      "text/plain": [
       "<IPython.core.display.HTML object>"
      ]
     },
     "metadata": {},
     "output_type": "display_data"
    },
    {
     "data": {
      "text/html": [
       "<script>\n",
       "    cy.io.click_hist = [\"1\", \"2\", \"3\", \"4\"];\n",
       "    \n",
       "    cy.io.addEdge = function(event){                                    // <-- on \"tapping\" canvas\n",
       "        cy.io.click_hist.shift();                                         //<-- Remove oldest click\n",
       "\n",
       "        if( event.target !== cy && event.target.isNode() ){               // <-- If we tapped a Node\n",
       "          cy.io.click_hist.push( event.target.id() );                   // <-- Add node id to click history\n",
       "\n",
       "          if( cy.io.click_hist[0]==cy.io.click_hist[1] && cy.io.click_hist[2]==cy.io.click_hist[3] ){      //<-- If 2 double clicks\n",
       "              cy.add([ {  data: { source: cy.io.click_hist[0], target: cy.io.click_hist[2] }  } ]);         //<-- add edge\n",
       "          };\n",
       "\n",
       "        }else{                                                 //<-- if we didn't click a node\n",
       "          cy.io.click_hist.push( String(Math.random()) );   //<-- Add random string to click history (repeats unlikely)\n",
       "        }; \n",
       "    };\n",
       "    cy.on(\"click\" , cy.io.addEdge );\n",
       "    </script>"
      ],
      "text/plain": [
       "<IPython.core.display.HTML object>"
      ]
     },
     "metadata": {},
     "output_type": "display_data"
    }
   ],
   "source": [
    "cy.js.addNode()\n",
    "cy.js.addEdge()"
   ]
  },
  {
   "cell_type": "markdown",
   "metadata": {},
   "source": [
    "** NOw working on node/edge size**"
   ]
  },
  {
   "cell_type": "code",
   "execution_count": 50,
   "metadata": {},
   "outputs": [],
   "source": [
    "x=300"
   ]
  },
  {
   "cell_type": "code",
   "execution_count": 71,
   "metadata": {},
   "outputs": [
    {
     "data": {
      "text/html": [
       "<script>\n",
       "for( i=0; i < cy.io.selection.length; i++ ){\n",
       "    var ele = cy.io.selection[i]\n",
       "    if( ele.isNode() ){\n",
       "        ele.style( \"width\", 300 )\n",
       "        ele.style( \"height\", 300 )\n",
       "    } else{\n",
       "        ele.style( \"width\", 50.0 )\n",
       "    }\n",
       "}\n",
       "</script>"
      ],
      "text/plain": [
       "<IPython.core.display.HTML object>"
      ]
     },
     "metadata": {},
     "output_type": "display_data"
    }
   ],
   "source": [
    "JS(\"\"\"\n",
    "for( i=0; i < cy.io.selection.length; i++ ){\n",
    "    var ele = cy.io.selection[i]\n",
    "    if( ele.isNode() ){\n",
    "        ele.style( \"width\", \"\"\"+str(x)+\"\"\" )\n",
    "        ele.style( \"height\", \"\"\"+str(x)+\"\"\" )\n",
    "    } else{\n",
    "        ele.style( \"width\", \"\"\"+str(x/6)+\"\"\" )\n",
    "    }\n",
    "}\n",
    "\"\"\")   "
   ]
  },
  {
   "cell_type": "code",
   "execution_count": 53,
   "metadata": {},
   "outputs": [
    {
     "data": {
      "text/html": [
       "<script>\n",
       "console.log( cy.io.selection[0].width() )\n",
       "</script>"
      ],
      "text/plain": [
       "<IPython.core.display.HTML object>"
      ]
     },
     "metadata": {},
     "output_type": "display_data"
    }
   ],
   "source": [
    "JS(\"\"\"\n",
    "console.log( cy.io.selection[0].width() )\n",
    "\"\"\")   "
   ]
  },
  {
   "cell_type": "code",
   "execution_count": null,
   "metadata": {},
   "outputs": [],
   "source": []
  },
  {
   "cell_type": "code",
   "execution_count": null,
   "metadata": {},
   "outputs": [],
   "source": []
  },
  {
   "cell_type": "code",
   "execution_count": 82,
   "metadata": {},
   "outputs": [
    {
     "data": {
      "text/html": [
       "<script>\n",
       "    var check = 0;\n",
       "    var check_var;\n",
       "    cy.io.select_type = \"nothing\"\n",
       "    \n",
       "\n",
       "    cy.io.test = function(event){\n",
       "        cy.io.selection = cy.$(':selected')                 //<-- Get selected elements\n",
       "        cy.io.last_type = cy.io.select_type\n",
       "         \n",
       "        if( cy.io.selection.length == 0  ){                 //<-- Do nothing if nothing's selected\n",
       "            return\n",
       "        }\n",
       "        if( cy.io.selection.length == 1 ){                  //<-- If selection lenght is 1\n",
       "        \n",
       "            if( cy.io.selection.isNode() && cy.io.last_type != \"1 node\" ){                      //<-- If it's a node\n",
       "                cy.io.select_type = \"1 node\"\n",
       "                Jupyter.notebook.kernel.execute(\"Graph.editor_box.widg = Graph.w.Edit.boxAll\")\n",
       "                IPython.notebook.execute_cells([cy.io.edit_num])  //<-- cy.io.edit_num was setup by the Graph.editor_box \n",
       "            }\n",
       "            if( cy.io.selection.isEdge() &&  cy.io.last_type != \"1 edge\" ){                     //<-- If it's an edge\n",
       "                cy.io.select_type = \"1 edge\"\n",
       "                Jupyter.notebook.kernel.execute(\"Graph.editor_box.widg = Graph.w.Edit.boxAll\")\n",
       "                IPython.notebook.execute_cells([cy.io.edit_num])  //<-- cy.io.edit_num was setup by the Graph.editor_box\n",
       "            }\n",
       "            \n",
       "        } else {                                           //<-- If Many elements\n",
       "            console.log(\"many items\")\n",
       "        }\n",
       "        \n",
       "    };\n",
       "\n",
       "    cy.on('select unselect', 'node, edge', cy.io.test );\n",
       "</script>"
      ],
      "text/plain": [
       "<IPython.core.display.HTML object>"
      ]
     },
     "metadata": {},
     "output_type": "display_data"
    }
   ],
   "source": [
    "JS(\"\"\"\n",
    "    var check = 0;\n",
    "    var check_var;\n",
    "    cy.io.select_type = \"nothing\"\n",
    "    \n",
    "\n",
    "    cy.io.test = function(event){\n",
    "        cy.io.selection = cy.$(':selected')                 //<-- Get selected elements\n",
    "        cy.io.last_type = cy.io.select_type\n",
    "         \n",
    "        if( cy.io.selection.length == 0  ){                 //<-- Do nothing if nothing's selected\n",
    "            return\n",
    "        }\n",
    "        if( cy.io.selection.length == 1 ){                  //<-- If selection lenght is 1\n",
    "        \n",
    "            if( cy.io.selection.isNode() && cy.io.last_type != \"1 node\" ){                      //<-- If it's a node\n",
    "                cy.io.select_type = \"1 node\"\n",
    "                Jupyter.notebook.kernel.execute(\"Graph.editor_box.widg = Graph.w.Edit.boxAll\")\n",
    "                IPython.notebook.execute_cells([cy.io.edit_num])  //<-- cy.io.edit_num was setup by the Graph.editor_box \n",
    "            }\n",
    "            if( cy.io.selection.isEdge() &&  cy.io.last_type != \"1 edge\" ){                     //<-- If it's an edge\n",
    "                cy.io.select_type = \"1 edge\"\n",
    "                Jupyter.notebook.kernel.execute(\"Graph.editor_box.widg = Graph.w.Edit.boxAll\")\n",
    "                IPython.notebook.execute_cells([cy.io.edit_num])  //<-- cy.io.edit_num was setup by the Graph.editor_box\n",
    "            }\n",
    "            \n",
    "        } else {                                           //<-- If Many elements\n",
    "            console.log(\"many items\")\n",
    "        }\n",
    "        \n",
    "    };\n",
    "\n",
    "    cy.on('select unselect', 'node, edge', cy.io.test );\n",
    "\"\"\")\n"
   ]
  },
  {
   "cell_type": "code",
   "execution_count": 81,
   "metadata": {},
   "outputs": [
    {
     "data": {
      "text/html": [
       "<script>\n",
       "    cy.removeListener('select unselect', cy.io.test);\n",
       "</script>"
      ],
      "text/plain": [
       "<IPython.core.display.HTML object>"
      ]
     },
     "metadata": {},
     "output_type": "display_data"
    }
   ],
   "source": [
    "JS(\"\"\"\n",
    "    cy.removeListener('select unselect', cy.io.test);\n",
    "\"\"\")"
   ]
  },
  {
   "cell_type": "code",
   "execution_count": null,
   "metadata": {},
   "outputs": [],
   "source": [
    "cy.$(':selected')\n",
    "\n",
    "checkit[1].isNode()\n",
    "checkit[0].isEdge()\n",
    "\n"
   ]
  },
  {
   "cell_type": "markdown",
   "metadata": {
    "cell_style": "center"
   },
   "source": [
    "Old test function"
   ]
  },
  {
   "cell_type": "code",
   "execution_count": null,
   "metadata": {},
   "outputs": [],
   "source": [
    "JS(\"\"\"\n",
    "    var check = 0;\n",
    "    var check_var;\n",
    "\n",
    "    cy.io.test = function(event){\n",
    "        cy.io.selection = cy.$(':selected')\n",
    "        \n",
    "        check += 1\n",
    "        console.log( String(check) +\": selection changed\")\n",
    "        check_var = \n",
    "        cehck_var2 = event\n",
    "    };\n",
    "\n",
    "    cy.on('select unselect', 'node, edge', cy.io.test );\n",
    "\"\"\")\n"
   ]
  },
  {
   "cell_type": "code",
   "execution_count": null,
   "metadata": {},
   "outputs": [],
   "source": [
    "#import inspect\n",
    "#lines = inspect.getsource(cy.js.addEdge)\n",
    "#print(lines)"
   ]
  },
  {
   "cell_type": "markdown",
   "metadata": {},
   "source": [
    "# Scratch Paper"
   ]
  },
  {
   "cell_type": "code",
   "execution_count": null,
   "metadata": {},
   "outputs": [],
   "source": [
    "JS(\"\"\"\n",
    "//cy.removeListener('tap', handler);\n",
    "//cy.removeListener( \"click\" ) \n",
    "//cy.removeListener( \"tap\" )\n",
    "//cy.removeListener( \"select\" )\n",
    "//cy.removeListener( \"unselect\" )\n",
    "\"\"\")"
   ]
  },
  {
   "cell_type": "code",
   "execution_count": null,
   "metadata": {},
   "outputs": [],
   "source": []
  },
  {
   "cell_type": "code",
   "execution_count": null,
   "metadata": {},
   "outputs": [],
   "source": []
  },
  {
   "cell_type": "code",
   "execution_count": null,
   "metadata": {},
   "outputs": [],
   "source": []
  },
  {
   "cell_type": "code",
   "execution_count": null,
   "metadata": {},
   "outputs": [],
   "source": []
  },
  {
   "cell_type": "markdown",
   "metadata": {},
   "source": [
    "## Older stuff"
   ]
  },
  {
   "cell_type": "code",
   "execution_count": null,
   "metadata": {},
   "outputs": [],
   "source": [
    "\"\"\"\n",
    "JS(\n",
    "cyto.add([\n",
    "  { group: \"nodes\", data: { id: \"n0\" } , position: { x: 100, y: 200 } },\n",
    "  { group: \"nodes\", data: { id: \"n1\" }, position: { x: 200, y: 100 } },\n",
    "  { group: \"edges\", data: { id: \"e0\", source: \"n0\", target: \"n1\" } }\n",
    "]);\n",
    ")\"\"\"\n"
   ]
  },
  {
   "cell_type": "code",
   "execution_count": null,
   "metadata": {},
   "outputs": [],
   "source": [
    "\"\"\"\n",
    "JS(\n",
    "\n",
    "cyto.layout({ name: 'circle'}).run();\n",
    "\n",
    ")\n",
    "\"\"\""
   ]
  },
  {
   "cell_type": "code",
   "execution_count": null,
   "metadata": {},
   "outputs": [],
   "source": [
    "\"\"\"cy.layout({ name: 'circle'}).run();\"\"\""
   ]
  }
 ],
 "metadata": {
  "hide_input": false,
  "kernelspec": {
   "display_name": "Python 3",
   "language": "python",
   "name": "python3"
  },
  "language_info": {
   "codemirror_mode": {
    "name": "ipython",
    "version": 3
   },
   "file_extension": ".py",
   "mimetype": "text/x-python",
   "name": "python",
   "nbconvert_exporter": "python",
   "pygments_lexer": "ipython3",
   "version": "3.6.5"
  },
  "toc": {
   "base_numbering": 1,
   "nav_menu": {},
   "number_sections": true,
   "sideBar": true,
   "skip_h1_title": false,
   "title_cell": "Table of Contents",
   "title_sidebar": "Contents",
   "toc_cell": false,
   "toc_position": {},
   "toc_section_display": true,
   "toc_window_display": false
  },
  "varInspector": {
   "cols": {
    "lenName": 16,
    "lenType": 16,
    "lenVar": 40
   },
   "kernels_config": {
    "python": {
     "delete_cmd_postfix": "",
     "delete_cmd_prefix": "del ",
     "library": "var_list.py",
     "varRefreshCmd": "print(var_dic_list())"
    },
    "r": {
     "delete_cmd_postfix": ") ",
     "delete_cmd_prefix": "rm(",
     "library": "var_list.r",
     "varRefreshCmd": "cat(var_dic_list()) "
    }
   },
   "types_to_exclude": [
    "module",
    "function",
    "builtin_function_or_method",
    "instance",
    "_Feature"
   ],
   "window_display": false
  }
 },
 "nbformat": 4,
 "nbformat_minor": 2
}
