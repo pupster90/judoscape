{
 "cells": [
  {
   "cell_type": "markdown",
   "metadata": {},
   "source": [
    "<p></p><font size=8 face=\"courier\" color=\"magenta\">Visualize</font>"
   ]
  },
  {
   "cell_type": "markdown",
   "metadata": {},
   "source": [
    "This notebook creates the widget inside of the \"Visualize\" section of the [Cytoscape app](../Cytoscape.ipynb)."
   ]
  },
  {
   "cell_type": "markdown",
   "metadata": {},
   "source": [
    "# Setup Notebook"
   ]
  },
  {
   "cell_type": "markdown",
   "metadata": {},
   "source": [
    "## Load Stuff"
   ]
  },
  {
   "cell_type": "code",
   "execution_count": 1,
   "metadata": {
    "scrolled": true
   },
   "outputs": [
    {
     "name": "stdout",
     "output_type": "stream",
     "text": [
      "/root/Documents\n"
     ]
    },
    {
     "data": {
      "text/html": [
       "<script>var py = Jupyter.notebook.kernel</script>"
      ],
      "text/plain": [
       "<IPython.core.display.HTML object>"
      ]
     },
     "metadata": {},
     "output_type": "display_data"
    },
    {
     "data": {
      "text/html": [
       "\n",
       "<style>\n",
       "*{margin:0; padding:0;} html, body,              .container{margin:0;!important padding:0;!important}              .container { width:100% !important;}\n",
       "\n",
       "div.text_cell_render { /* Customize text cells */\n",
       "    font-size:1.1em;\n",
       "    line-height:1.1em;\n",
       "}\n",
       "\n",
       "</style>\n"
      ],
      "text/plain": [
       "<IPython.core.display.HTML object>"
      ]
     },
     "metadata": {},
     "output_type": "display_data"
    },
    {
     "data": {
      "text/html": [
       "\n",
       "<b style=\"color:red\">Note:</b> Somce cells are <font color=\"gray\">\"grayed out\"</font> with <i style=\"color:blue\">\"Debug\"</i> written next to them.\n",
       "<p>This was done to improve efficiency and to control what is shown in the final notebook. \n",
       "<b>Uncomment these cells</b> when working on hte notebook.</p>\n"
      ],
      "text/plain": [
       "<IPython.core.display.HTML object>"
      ]
     },
     "metadata": {},
     "output_type": "display_data"
    },
    {
     "data": {
      "text/html": [
       "\n",
       "<style>\n",
       "\n",
       "div.text_cell_render h1 { /* Main titles bigger, centered */\n",
       "text-align:center;\n",
       "}\n",
       "\n",
       "\n",
       "\n",
       "div.text_cell_render { /* Customize text cells */\n",
       "padding-left:3em;\n",
       "padding-right:3em;\n",
       "color: rgb(127, 127, 127);\n",
       "}\n",
       "</style>\n"
      ],
      "text/plain": [
       "<IPython.core.display.HTML object>"
      ]
     },
     "metadata": {},
     "output_type": "display_data"
    }
   ],
   "source": [
    "\"\"\" DEBUG \"\"\"\n",
    "%cd /root/Documents    \n",
    "%run \"Source Code/Setup Notebook.ipynb\" #<-- Debug\n",
    "%run \"Source Code/Setup Source.ipynb\"   #<-- Debug\n",
    "# %cd sets the path to that of Cytoscape.ipynb\n"
   ]
  },
  {
   "cell_type": "markdown",
   "metadata": {},
   "source": [
    "## Helper: <font color=\"magenta\">JupyterCell</font>\n",
    "\n",
    "<p></p>\n",
    " <font color=\"magenta\">JupyterCell</font> is a useful class that allows you to execute a specified *jupyter cell* from the command <font color=\"magenta\">JupyterCell</font><font color=\"blue\">.execute()</font>. This is used to change which <font color=\"green\">widget</font> is displayed inside of the visualizer's **editor cell**."
   ]
  },
  {
   "cell_type": "markdown",
   "metadata": {},
   "source": [
    "The editor box is the thing next to the visualizer where a user can change the graph. Notice that the contents of this box changes depending on what the user clicks on the control panel. The Control Panel/ Editor Box functionality is actually a little tricky to create in jupyter and require some special things to be built.\n"
   ]
  },
  {
   "cell_type": "code",
   "execution_count": 2,
   "metadata": {},
   "outputs": [],
   "source": [
    "class JupyterCell():\n",
    " \n",
    "    def __init__(self, cell_text, js_var, text_before=\"# \", ):\n",
    "        self.cell_text= cell_text\n",
    "        self.text_before= text_before\n",
    "        self.js_var = js_var\n",
    "        self.search()\n",
    "    \n",
    "    def search(self):\n",
    "        JS(\"\"\"\n",
    "        var cell_text= \"\";\n",
    "        \"\"\"+self.js_var+\"\"\"= 0;  \n",
    "        while( ! cell_text.includes('\"\"\"+self.text_before+self.cell_text+\"\"\"')  ){\n",
    "            cell_text = Jupyter.notebook.get_cell(\"\"\"+self.js_var+\"\"\").get_text();  //.element[\"0\"].innerText #<-- Old Way\n",
    "            \"\"\"+self.js_var+\"\"\"++\n",
    "        }\n",
    "        \"\"\"+self.js_var+\"\"\"--\n",
    "        \"\"\")\n",
    "    \n",
    "    def execute(self):  #<-- This gets the Cell by using the cell text. The cell text must be unique to that cell\n",
    "        self.search()\n",
    "        JS(\"\"\"\n",
    "        IPython.notebook.execute_cells([\"\"\"+self.js_var+\"\"\"])\n",
    "        \"\"\")\n"
   ]
  },
  {
   "cell_type": "markdown",
   "metadata": {},
   "source": [
    "## Create <font color=\"magenta\">Graph</font> \n",
    "\n",
    "Here we create the initial <font color=\"magenta\">Graph</font> class. This class is used to creat and manage the networks visualization. This section only consists of the initialization <font color=\"magenta\">Graph</font> and some of it's basic functions. Most of <font color=\"magenta\">Graph</font> functionality is actually implemented inside of the **Add Widgets** section"
   ]
  },
  {
   "cell_type": "markdown",
   "metadata": {},
   "source": [
    "The <font color=\"magenta\">Graph</font> Class is what is used to create and manage the networks visualization"
   ]
  },
  {
   "cell_type": "code",
   "execution_count": 3,
   "metadata": {},
   "outputs": [],
   "source": [
    "class Graph():\n",
    "    def __init__(self):\n",
    "        #self.w = type(\"widgets\",(),{})() #<-- this is where all the widgets go\n",
    "        pass"
   ]
  },
  {
   "cell_type": "markdown",
   "metadata": {},
   "source": [
    "# <font color=\"orange\">Javascript Functions</font>"
   ]
  },
  {
   "cell_type": "code",
   "execution_count": 4,
   "metadata": {},
   "outputs": [],
   "source": [
    "class JS_Helper():\n",
    "    pass\n",
    "Graph.js = JS_Helper()"
   ]
  },
  {
   "cell_type": "markdown",
   "metadata": {},
   "source": [
    "## <font color=\"orange\">start</font>\n",
    "\n",
    "<font color=\"orange\">start</font> creates the editable the canvas that displays the network and loads in the <font color=\"orange\">javascript</font> helpers"
   ]
  },
  {
   "cell_type": "markdown",
   "metadata": {},
   "source": [
    " <font color=\"red\">made width it 50 just for debugging</font>"
   ]
  },
  {
   "cell_type": "code",
   "execution_count": 5,
   "metadata": {},
   "outputs": [],
   "source": [
    "def start(self):\n",
    "    # We create the HTML object cy, which holds the cytoscape canvas\n",
    "    display(HTML(\"\"\"\n",
    "    <style> .cy { width: 50vw; height: 30vw}</style>   //DEBUG: made width 50vw\n",
    "    <div id=\"cy\" class=\"cy\"></div>\n",
    "    \"\"\"))\n",
    "    \n",
    "    # Create the JavaScript object cy, which holds all the javascript stuff related to the HTML cy\n",
    "    JS(\"\"\"\n",
    "    var cy;\n",
    "    require(['cytoscape'], function(cytoscape){       \n",
    "        cy = cytoscape({ container: document.getElementById('cy'), layout: { name: 'cose' },\n",
    "             style: [ { selector: 'node', style: { 'overlay-color': 'gray', 'overlay-padding': '2px', 'background-color': 'gray'  } },\n",
    "                      { selector: 'edge', style: { 'overlay-color': 'gray', 'overlay-padding': '8px',\n",
    "                          'line-color': 'gray', 'curve-style': 'bezier'  } } ]\n",
    "        });\n",
    "        \n",
    "        // Here we initialize some settings for 'cy' \n",
    "        cy.io = {}       // <-- where we store all the parameters/variables we create        \n",
    "        cy.maxZoom(14)   // <-- Determine how much window zooms in and out\n",
    "        cy.minZoom(.4)\n",
    "        \n",
    "        cy.on(\"select\", 'node, edge' , function(){     //<-- highlight node when selected\n",
    "            this.style( 'overlay-opacity', .4 );\n",
    "        });\n",
    "        cy.on(\"unselect\", 'node, edge' , function(){   //<-- unhighlight when not selected\n",
    "            this.style( 'overlay-opacity', 0 );\n",
    "        });\n",
    "    });\n",
    "    \"\"\")\n",
    "JS_Helper.start = start"
   ]
  },
  {
   "cell_type": "markdown",
   "metadata": {
    "heading_collapsed": true
   },
   "source": [
    "## <font color=\"orange\">addNode</font>\n",
    "\n",
    "This functions adds new nodes to the network when the clicks and empty part of the graph."
   ]
  },
  {
   "cell_type": "code",
   "execution_count": 6,
   "metadata": {
    "hidden": true
   },
   "outputs": [],
   "source": [
    "def addNode(self):\n",
    "    JS(\"\"\"\n",
    "    cy.io.addNode = function(event){\n",
    "      if( event.target === cy ){                                                          // <-- If we tapped on the background\n",
    "          checkit = cy.add([ {  group: \"nodes\", position: event.position  } ]);          //<-- add node    \n",
    "      }; \n",
    "    };\n",
    "    cy.on('tap', cy.io.addNode );\n",
    "    \"\"\")\n",
    "JS_Helper.addNode = addNode"
   ]
  },
  {
   "cell_type": "markdown",
   "metadata": {
    "heading_collapsed": true
   },
   "source": [
    "## <font color=\"orange\">addEdge</font>\n",
    "\n",
    "We add a new edge when the use double clicks one nodes and then double clicks another node. <font color=\"orange\">addEdge</font> check for the double clicking and adds a new edge if necessary."
   ]
  },
  {
   "cell_type": "code",
   "execution_count": 7,
   "metadata": {
    "hidden": true
   },
   "outputs": [],
   "source": [
    "def addEdge(self):\n",
    "    JS(\"\"\"\n",
    "    cy.io.click_hist = [\"1\", \"2\", \"3\", \"4\"];\n",
    "    \n",
    "    cy.io.addEdge = function(event){                                    // <-- on \"tapping\" canvas\n",
    "        cy.io.click_hist.shift();                                         //<-- Remove oldest click\n",
    "\n",
    "        if( event.target !== cy && event.target.isNode() ){               // <-- If we tapped a Node\n",
    "          cy.io.click_hist.push( event.target.id() );                   // <-- Add node id to click history\n",
    "\n",
    "          if( cy.io.click_hist[0]==cy.io.click_hist[1] && cy.io.click_hist[2]==cy.io.click_hist[3] ){      //<-- If 2 double clicks\n",
    "              cy.add([ {  data: { source: cy.io.click_hist[0], target: cy.io.click_hist[2] }  } ]);         //<-- add edge\n",
    "          };\n",
    "\n",
    "        }else{                                                 //<-- if we didn't click a node\n",
    "          cy.io.click_hist.push( String(Math.random()) );   //<-- Add random string to click history (repeats unlikely)\n",
    "        }; \n",
    "    };\n",
    "    cy.on(\"click\" , cy.io.addEdge );\n",
    "    \"\"\")\n",
    "JS_Helper.addEdge = addEdge"
   ]
  },
  {
   "cell_type": "markdown",
   "metadata": {},
   "source": [
    "## <font color=\"orange\">editSelector</font>\n",
    "\n",
    "<font color=\"orange\">editSelector</font> decides what widgets are displayed inside of the editor box *(\"My Edit Box\")*. What's displayed depends on if there are 1/many of node/edges/both."
   ]
  },
  {
   "cell_type": "code",
   "execution_count": 8,
   "metadata": {},
   "outputs": [],
   "source": [
    "def editSelector(self):\n",
    "    JS(\"\"\"\n",
    "        var check = 0;\n",
    "        var check_var;\n",
    "        cy.io.select_type = \"nothing\"\n",
    "\n",
    "\n",
    "        cy.io.test = function(event){\n",
    "            cy.io.selection = cy.$(':selected')                 //<-- Get selected elements\n",
    "            cy.io.last_type = cy.io.select_type\n",
    "\n",
    "            if( cy.io.selection.length == 0  ){                 //<-- Do nothing if nothing's selected\n",
    "                return\n",
    "            }\n",
    "            if( cy.io.selection.length == 1 ){                  //<-- If selection lenght is 1\n",
    "                //DEBUG py.execute(\"Graph.w.id.value = '\"++\"'\")  //<- put selectors ID in box\n",
    "\n",
    "                if( cy.io.selection.isNode() && cy.io.last_type != \"1 node\" ){                      //<-- If it's a node\n",
    "                    cy.io.select_type = \"1 node\"\n",
    "                    //DEBUG py.execute(\"Graph.editor_box.widg = Graph.box.show('1 node')\")\n",
    "                    IPython.notebook.execute_cells([edit_num])  //<-- edit_num was setup by the Graph.editor_box \n",
    "                }\n",
    "                if( cy.io.selection.isEdge() &&  cy.io.last_type != \"1 edge\" ){                     //<-- If it's an edge\n",
    "                    cy.io.select_type = \"1 edge\"\n",
    "                    //DEBUG py.execute(\"Graph.editor_box.widg = Graph.box.show('1 edge')\")\n",
    "                    IPython.notebook.execute_cells([edit_num])  //<-- edit_num was setup by the Graph.editor_box\n",
    "                }\n",
    "\n",
    "            } else {                                           //<-- If Many elements\n",
    "                console.log(\"many items\")\n",
    "            }\n",
    "\n",
    "        };\n",
    "\n",
    "        cy.on('select unselect', 'node, edge', cy.io.test );\n",
    "    \"\"\")\n",
    "JS_Helper.editSelector = editSelector"
   ]
  },
  {
   "cell_type": "markdown",
   "metadata": {},
   "source": [
    "##  <font color=\"teal\">Style</font> <font color=\"orange\">Functions</font>\n",
    "The following code sets up the <font color=\"orange\">javascript</font> functions/variables that handle the style nodes and edges"
   ]
  },
  {
   "cell_type": "markdown",
   "metadata": {},
   "source": [
    "Create object that holds style stuff. Add to it the default style of nodes and edges"
   ]
  },
  {
   "cell_type": "code",
   "execution_count": null,
   "metadata": {},
   "outputs": [],
   "source": [
    "JS(\"\"\"\n",
    "\n",
    "\n",
    "\"\"\")"
   ]
  },
  {
   "cell_type": "code",
   "execution_count": null,
   "metadata": {},
   "outputs": [],
   "source": []
  },
  {
   "cell_type": "code",
   "execution_count": null,
   "metadata": {},
   "outputs": [],
   "source": []
  },
  {
   "cell_type": "code",
   "execution_count": 141,
   "metadata": {},
   "outputs": [],
   "source": [
    "### <font color=\"teal\">Style</font> "
   ]
  },
  {
   "cell_type": "code",
   "execution_count": null,
   "metadata": {},
   "outputs": [],
   "source": [
    "for (var property in saved_style ) {\n",
    "    if( saved_style[property] != \"NaNpx\" && !property.includes(\"pie\") ){  // this removes error messages caused by weird stuff in cytoscape.js\n",
    "        cy.io.selection[0].style( property, saved_style[property] )\n",
    "    }\n",
    "}"
   ]
  },
  {
   "cell_type": "code",
   "execution_count": null,
   "metadata": {},
   "outputs": [],
   "source": []
  },
  {
   "cell_type": "code",
   "execution_count": null,
   "metadata": {},
   "outputs": [],
   "source": []
  },
  {
   "cell_type": "markdown",
   "metadata": {},
   "source": [
    "# <font color=\"green\">Widgets</font> \n",
    "\n",
    "The purpose of the <font color=\"green\">widgets</font>  section is to create all the basic \"tools\" that are used to manipulate the cytoscape canvas. We create the tools and the functions that allow them to do their job. Later, in the **\"Display Boxes\"** section, we combine to the tools together to build a pretty layout"
   ]
  },
  {
   "cell_type": "code",
   "execution_count": 9,
   "metadata": {},
   "outputs": [],
   "source": [
    "Graph.w = type(\"widget_list\",(),{})()\n",
    "Graph.wf = type(\"widget_functions\",(),{})()\n",
    "Graph.w.time = 0 #<-- variables used to measure time between update events (see size for example)"
   ]
  },
  {
   "cell_type": "markdown",
   "metadata": {
    "heading_collapsed": true
   },
   "source": [
    "## <font color=\"green\">Delete</font> "
   ]
  },
  {
   "cell_type": "code",
   "execution_count": 10,
   "metadata": {
    "hidden": true
   },
   "outputs": [],
   "source": [
    "Graph.w.delete = ipw.Button(description='Delete',button_style='danger')\n",
    "#Graph.w.delete"
   ]
  },
  {
   "cell_type": "code",
   "execution_count": 11,
   "metadata": {
    "hidden": true
   },
   "outputs": [],
   "source": [
    "def delete(b):\n",
    "    JS(\"cy.io.last_deleted = cy.$(':selected').remove();\")   #<-- delete elements\n",
    "    Graph.w.undo.disabled = False\n",
    "Graph.wf.delete = delete\n",
    "Graph.w.delete.on_click( Graph.wf.delete )"
   ]
  },
  {
   "cell_type": "markdown",
   "metadata": {
    "heading_collapsed": true
   },
   "source": [
    "## <font color=\"green\">Undo Delete </font> "
   ]
  },
  {
   "cell_type": "code",
   "execution_count": 12,
   "metadata": {
    "hidden": true
   },
   "outputs": [],
   "source": [
    "Graph.w.undo = ipw.Button(description='Undo',button_style='primary', disabled= True )\n",
    "#Graph.w.undo"
   ]
  },
  {
   "cell_type": "code",
   "execution_count": 13,
   "metadata": {
    "hidden": true
   },
   "outputs": [],
   "source": [
    "def undo(b):\n",
    "    JS(\" cy.add( cy.io.last_deleted );\")   #<-- Add last deleted element\n",
    "    b.disabled = True\n",
    "Graph.wf.undo = undo\n",
    "Graph.w.undo.on_click( Graph.wf.undo )"
   ]
  },
  {
   "cell_type": "markdown",
   "metadata": {
    "heading_collapsed": true
   },
   "source": [
    "## <font color=\"green\">Color </font> "
   ]
  },
  {
   "cell_type": "code",
   "execution_count": 28,
   "metadata": {
    "hidden": true
   },
   "outputs": [],
   "source": [
    "Graph.w.color = ipw.ColorPicker(  )\n",
    "#Graph.w.color"
   ]
  },
  {
   "cell_type": "code",
   "execution_count": 29,
   "metadata": {
    "hidden": true
   },
   "outputs": [],
   "source": [
    "Graph.w.color.time = 0\n",
    "def color(b):\n",
    "    if time.time() - Graph.w.color.time > .05:  #<-- make function run only ever 1/10 a second\n",
    "        Graph.w.color.time = time.time()\n",
    "        JS(\"\"\"\n",
    "        for( i=0; i < cy.io.selection.length; i++ ){\n",
    "            var ele = cy.io.selection[i]\n",
    "            if( ele.isNode() ){\n",
    "                ele.style( \"background-color\", '\"\"\"+Graph.w.color.value+\"\"\"' )\n",
    "            } else{\n",
    "                ele.style( \"line-color\", '\"\"\"+Graph.w.color.value+\"\"\"' )\n",
    "            }\n",
    "        }\n",
    "        \"\"\")          \n",
    "Graph.wf.color = color\n",
    "Graph.w.color.observe( Graph.wf.color )"
   ]
  },
  {
   "cell_type": "markdown",
   "metadata": {
    "heading_collapsed": true
   },
   "source": [
    "## <font color=\"green\">Background Color </font> "
   ]
  },
  {
   "cell_type": "code",
   "execution_count": 30,
   "metadata": {
    "hidden": true
   },
   "outputs": [],
   "source": [
    "Graph.w.background = ipw.Button( button_style='danger', icon='image', layout= ipw.Layout(width='auto') )\n",
    "#Graph.w.background"
   ]
  },
  {
   "cell_type": "code",
   "execution_count": 31,
   "metadata": {
    "hidden": true
   },
   "outputs": [],
   "source": [
    "def background(b):\n",
    "    JS(f\"document.getElementById('cy').style.backgroundColor = '{Graph.w.color.value}'\")  \n",
    "Graph.wf.background = background\n",
    "Graph.w.background.on_click( Graph.wf.background )"
   ]
  },
  {
   "cell_type": "markdown",
   "metadata": {},
   "source": [
    "## <font color=\"green\">Size</font> "
   ]
  },
  {
   "cell_type": "code",
   "execution_count": 32,
   "metadata": {},
   "outputs": [],
   "source": [
    "Graph.w.size = ipw.IntSlider(value=30, min=1, max=200, continuous_update=True )\n",
    "#Graph.w.size "
   ]
  },
  {
   "cell_type": "code",
   "execution_count": 33,
   "metadata": {},
   "outputs": [],
   "source": [
    "def size(b):\n",
    "    if time.time() - Graph.w.time > .05:  #<-- make function run only ever 1/10 a second\n",
    "        Graph.w.time = time.time()\n",
    "        JS(\"\"\"\n",
    "        for( i=0; i < cy.io.selection.length; i++ ){\n",
    "            var ele = cy.io.selection[i]\n",
    "            if( ele.isNode() ){\n",
    "                ele.style( \"width\", \"\"\"+str(Graph.w.size.value)+\"\"\" )\n",
    "                ele.style( \"height\", \"\"\"+str(Graph.w.size.value)+\"\"\" )\n",
    "            } else{\n",
    "                ele.style( \"width\", \"\"\"+str(Graph.w.size.value/6)+\"\"\" )\n",
    "            }\n",
    "        }\n",
    "        \"\"\")           \n",
    "Graph.wf.size = size\n",
    "Graph.w.size.observe( Graph.wf.size )"
   ]
  },
  {
   "cell_type": "markdown",
   "metadata": {
    "heading_collapsed": true
   },
   "source": [
    "## <font color=\"green\">Opacity</font>  "
   ]
  },
  {
   "cell_type": "code",
   "execution_count": 34,
   "metadata": {
    "hidden": true
   },
   "outputs": [],
   "source": [
    "Graph.w.opacity = ipw.FloatSlider(value=.5, min=0, max=1, step=.05, continuous_update=True )\n",
    "#Graph.w.opacity \n"
   ]
  },
  {
   "cell_type": "code",
   "execution_count": 35,
   "metadata": {
    "hidden": true
   },
   "outputs": [],
   "source": [
    "def opacity(b):\n",
    "    if time.time() - Graph.w.time > .05:  #<-- make function run only ever 1/10 a second\n",
    "        Graph.w.time = time.time()\n",
    "        JS(\"\"\"\n",
    "        for( i=0; i < cy.io.selection.length; i++ ){\n",
    "            cy.io.selection[ i ].style( \"opacity\", \"\"\"+str(Graph.w.opacity.value)+\"\"\" )\n",
    "        }\n",
    "        \"\"\")           \n",
    "Graph.wf.opacity = opacity\n",
    "Graph.w.opacity.observe( Graph.wf.opacity )"
   ]
  },
  {
   "cell_type": "markdown",
   "metadata": {
    "heading_collapsed": true
   },
   "source": [
    "## <font color=\"green\">ID Text</font> "
   ]
  },
  {
   "cell_type": "code",
   "execution_count": 36,
   "metadata": {
    "hidden": true
   },
   "outputs": [],
   "source": [
    "Graph.w.id = widgets.Text( description='ID :', continous_update = False  )#, continous_update = False )\n",
    "#Graph.w.id"
   ]
  },
  {
   "cell_type": "code",
   "execution_count": 37,
   "metadata": {
    "hidden": true
   },
   "outputs": [],
   "source": [
    "def setId(b):\n",
    "    JS(\"\"\"\n",
    "    for( i=0; i < cy.io.selection.length; i++ ){\n",
    "        var ele = cy.io.selection[i]\n",
    "        if( ele.isNode() ){\n",
    "            ele.style( \"width\", \"\"\"+str(Graph.w.size.value)+\"\"\" )\n",
    "            ele.style( \"height\", \"\"\"+str(Graph.w.size.value)+\"\"\" )\n",
    "        } else{\n",
    "            ele.style( \"width\", \"\"\"+str(Graph.w.size.value/6)+\"\"\" )\n",
    "        }\n",
    "    }\n",
    "    \"\"\")           \n",
    "Graph.wf.setId = setId\n",
    "Graph.w.id.observe( Graph.wf.setId )"
   ]
  },
  {
   "cell_type": "markdown",
   "metadata": {
    "heading_collapsed": true
   },
   "source": [
    "## <font color=\"green\">Search</font> "
   ]
  },
  {
   "cell_type": "code",
   "execution_count": 38,
   "metadata": {
    "hidden": true
   },
   "outputs": [],
   "source": [
    "Graph.w.search = widgets.Text( description='Search :', continuous_update=False )\n",
    "#Graph.w.search"
   ]
  },
  {
   "cell_type": "code",
   "execution_count": 39,
   "metadata": {
    "hidden": true
   },
   "outputs": [],
   "source": [
    "def search(b):\n",
    "    JS(f\"\"\"\n",
    "    cy.$(':selected').unselect()\n",
    "    cy.$('{Graph.w.search.value}').select()\n",
    "    \"\"\")   #<-- delete elements\n",
    "Graph.wf.search = search\n",
    "Graph.w.search.observe( Graph.wf.search )"
   ]
  },
  {
   "cell_type": "markdown",
   "metadata": {
    "heading_collapsed": true
   },
   "source": [
    "## <font color=\"green\">Search Select</font>"
   ]
  },
  {
   "cell_type": "code",
   "execution_count": 40,
   "metadata": {
    "hidden": true,
    "scrolled": true
   },
   "outputs": [],
   "source": [
    "Graph.w.searchSelect = ipw.ToggleButton( icon='eye', layout= ipw.Layout(width='auto')  )\n",
    "#Graph.w.searchSelect"
   ]
  },
  {
   "cell_type": "code",
   "execution_count": 41,
   "metadata": {
    "hidden": true
   },
   "outputs": [],
   "source": [
    "def searchSelect(b):\n",
    "    \n",
    "    if Graph.w.searchSelect.value:   #<-- when activated\n",
    "        Graph.w.searchSelect.icon = 'eye-slash'\n",
    "        JS(\"\"\"\n",
    "        cy.io.to_hide = cy.elements().difference( cy.io.selection )\n",
    "        cy.io.to_hide.style(\"visibility\", \"hidden\")\n",
    "        \"\"\")\n",
    "    \n",
    "    else: #<-- when not clicked\n",
    "        Graph.w.searchSelect.icon = 'eye'\n",
    "        JS(\"\"\"cy.io.to_hide.style(\"visibility\", \"visible\")\"\"\")\n",
    "        \n",
    "Graph.wf.searchSelect = searchSelect\n",
    "Graph.w.searchSelect.observe( Graph.wf.searchSelect )\n",
    "\n"
   ]
  },
  {
   "cell_type": "markdown",
   "metadata": {
    "heading_collapsed": true
   },
   "source": [
    "## <font color=\"green\">Z-Index Labels Behind/In-Front</font> "
   ]
  },
  {
   "cell_type": "code",
   "execution_count": 42,
   "metadata": {
    "hidden": true
   },
   "outputs": [],
   "source": [
    "Graph.w.z_index = ipw.IntSlider(value=0, min=0, max=5, continuous_update=True )\n",
    "#Graph.w.z_index"
   ]
  },
  {
   "cell_type": "code",
   "execution_count": 43,
   "metadata": {
    "hidden": true
   },
   "outputs": [],
   "source": [
    "def z_index(b):\n",
    "    if time.time() - Graph.w.time > .05:  #<-- make function run only ever 1/10 a second\n",
    "        Graph.w.time = time.time()\n",
    "        JS(\"\"\"\n",
    "        for( i=0; i < cy.io.selection.length; i++ ){\n",
    "            var ele = cy.io.selection[i]\n",
    "            ele.style(\"z-index\", '\"\"\"+str(Graph.w.z_index.value)+\"\"\"' )\n",
    "        }\n",
    "        \"\"\")               \n",
    "Graph.wf.z_index = z_index\n",
    "Graph.w.z_index.observe( Graph.wf.z_index )"
   ]
  },
  {
   "cell_type": "markdown",
   "metadata": {
    "heading_collapsed": true
   },
   "source": [
    "##  <font color=\"salmon\">Label</font> <font color=\"green\">Widgets</font> "
   ]
  },
  {
   "cell_type": "markdown",
   "metadata": {
    "heading_collapsed": true,
    "hidden": true
   },
   "source": [
    "### <font color=\"salmon\">Label Text</font>"
   ]
  },
  {
   "cell_type": "code",
   "execution_count": 44,
   "metadata": {
    "hidden": true
   },
   "outputs": [],
   "source": [
    "Graph.w.label = widgets.Text( continuous_update=False )\n",
    "#Graph.w.label"
   ]
  },
  {
   "cell_type": "code",
   "execution_count": 45,
   "metadata": {
    "hidden": true
   },
   "outputs": [],
   "source": [
    "def label(b):\n",
    "    if time.time() - Graph.w.time > .05:  #<-- make function run only ever 1/10 a second\n",
    "        Graph.w.time = time.time()\n",
    "        JS(\"\"\"\n",
    "        for( i=0; i < cy.io.selection.length; i++ ){\n",
    "            var ele = cy.io.selection[i]\n",
    "            ele.style(\"label\", '\"\"\"+Graph.w.label.value+\"\"\"' )\n",
    "        }\n",
    "        \"\"\")           \n",
    "Graph.wf.label = label\n",
    "Graph.w.label.observe( Graph.wf.label )"
   ]
  },
  {
   "cell_type": "markdown",
   "metadata": {
    "heading_collapsed": true,
    "hidden": true
   },
   "source": [
    "### <font color=\"salmon\">Label Color</font>"
   ]
  },
  {
   "cell_type": "code",
   "execution_count": 46,
   "metadata": {
    "hidden": true
   },
   "outputs": [],
   "source": [
    "Graph.w.label_color = ipw.ColorPicker( )\n",
    "#Graph.w.label_color"
   ]
  },
  {
   "cell_type": "code",
   "execution_count": 47,
   "metadata": {
    "hidden": true
   },
   "outputs": [],
   "source": [
    "def label_color(b):\n",
    "    JS(\"\"\"\n",
    "    for( i=0; i < cy.io.selection.length; i++ ){\n",
    "        var ele = cy.io.selection[i]\n",
    "        ele.style( \"color\", '\"\"\"+Graph.w.label_color.value+\"\"\"' )\n",
    "    }\n",
    "    \"\"\")          \n",
    "Graph.wf.label_color = label_color\n",
    "Graph.w.label_color.observe( Graph.wf.label_color )"
   ]
  },
  {
   "cell_type": "markdown",
   "metadata": {
    "heading_collapsed": true,
    "hidden": true
   },
   "source": [
    "### <font color=\"salmon\">Label Size</font>"
   ]
  },
  {
   "cell_type": "code",
   "execution_count": 48,
   "metadata": {
    "hidden": true
   },
   "outputs": [],
   "source": [
    "Graph.w.label_size = ipw.IntSlider(value=16, min=6, max=66)\n",
    "#Graph.w.label_size"
   ]
  },
  {
   "cell_type": "code",
   "execution_count": 49,
   "metadata": {
    "hidden": true
   },
   "outputs": [],
   "source": [
    "def label_size(b):\n",
    "    JS(\"\"\"\n",
    "    for( i=0; i < cy.io.selection.length; i++ ){\n",
    "        var ele = cy.io.selection[i]\n",
    "        ele.style( \"font-size\", '\"\"\"+str(Graph.w.label_size.value)+\"\"\"px' )\n",
    "    }\n",
    "    \"\"\")          \n",
    "Graph.wf.label_size = label_size\n",
    "Graph.w.label_size.observe( Graph.wf.label_size )"
   ]
  },
  {
   "cell_type": "markdown",
   "metadata": {
    "heading_collapsed": true,
    "hidden": true
   },
   "source": [
    "### <font color=\"salmon\">Node Label Position</font>  "
   ]
  },
  {
   "cell_type": "code",
   "execution_count": 50,
   "metadata": {
    "hidden": true
   },
   "outputs": [],
   "source": [
    "Graph.w.label_pos = ipw.Dropdown( options=['center','top','bottom','left','right'] )\n",
    "#Graph.w.shape"
   ]
  },
  {
   "cell_type": "code",
   "execution_count": 51,
   "metadata": {
    "hidden": true
   },
   "outputs": [],
   "source": [
    "def label_pos(b):\n",
    "        JS(\"\"\"\n",
    "        for( i=0; i < cy.io.selection.length; i++ ){\n",
    "            var ele = cy.io.selection[i]\n",
    "            var label_pos = '\"\"\"+Graph.w.label_pos.value+\"\"\"'\n",
    "            if( ele.isNode() ){\n",
    "                if( label_pos == 'center'  ){\n",
    "                    ele.style( \"text-halign\", 'center' )\n",
    "                    ele.style( \"text-valign\", 'center' )  \n",
    "                    \n",
    "                }else if( label_pos=='top' || label_pos=='bottom'){\n",
    "                    ele.style( \"text-halign\", 'center' )\n",
    "                    ele.style( \"text-valign\", label_pos )      \n",
    "                    \n",
    "                }else{\n",
    "                    ele.style( \"text-halign\",  label_pos )\n",
    "                    ele.style( \"text-valign\", 'center' )                  \n",
    "                }\n",
    "\n",
    "            } \n",
    "        }\n",
    "        \"\"\")           \n",
    "Graph.wf.label_pos = label_pos\n",
    "Graph.w.label_pos.observe( Graph.wf.label_pos )"
   ]
  },
  {
   "cell_type": "code",
   "execution_count": null,
   "metadata": {
    "hidden": true
   },
   "outputs": [],
   "source": []
  },
  {
   "cell_type": "markdown",
   "metadata": {
    "heading_collapsed": true
   },
   "source": [
    "## <font color=\"DarkKhaki\">Node</font> <font color=\"green\">Widgets</font> "
   ]
  },
  {
   "cell_type": "markdown",
   "metadata": {
    "heading_collapsed": true,
    "hidden": true
   },
   "source": [
    "### <font color=\"DarkKhaki\">Node Shape</font> "
   ]
  },
  {
   "cell_type": "code",
   "execution_count": 52,
   "metadata": {
    "hidden": true
   },
   "outputs": [],
   "source": [
    "Graph.w.shape = ipw.Dropdown( options=['ellipse','triangle','rectangle','rhomboid','diamond','pentagon','hexagon',\n",
    "                                       'concavehexagon','heptagon','octagon','star','tag','vee'], continuous_update=True )\n",
    "#Graph.w.shape"
   ]
  },
  {
   "cell_type": "code",
   "execution_count": 53,
   "metadata": {
    "hidden": true
   },
   "outputs": [],
   "source": [
    "def shape(b):\n",
    "        JS(\"\"\"\n",
    "        for( i=0; i < cy.io.selection.length; i++ ){\n",
    "            var ele = cy.io.selection[i]\n",
    "            if( ele.isNode() ){\n",
    "                ele.style( \"shape\", '\"\"\"+Graph.w.shape.value+\"\"\"' )\n",
    "            } \n",
    "        }\n",
    "        \"\"\")           \n",
    "Graph.wf.shape = shape\n",
    "Graph.w.shape.observe( Graph.wf.shape )"
   ]
  },
  {
   "cell_type": "markdown",
   "metadata": {
    "heading_collapsed": true
   },
   "source": [
    "## <font color=\"purple\">Edge</font> <font color=\"green\">Widgets</font> "
   ]
  },
  {
   "cell_type": "markdown",
   "metadata": {
    "heading_collapsed": true,
    "hidden": true
   },
   "source": [
    "### <font color=\"purple\">Edge Arrow Start</font> "
   ]
  },
  {
   "cell_type": "code",
   "execution_count": 54,
   "metadata": {
    "hidden": true
   },
   "outputs": [],
   "source": [
    "Graph.w.start = ipw.Dropdown( options=['none','triangle','tee','diamond','square','circle','vee','triangle-tee'] )\n",
    "#Graph.w.start"
   ]
  },
  {
   "cell_type": "code",
   "execution_count": 55,
   "metadata": {
    "hidden": true
   },
   "outputs": [],
   "source": [
    "def start(b):\n",
    "        JS(\"\"\"\n",
    "        for( i=0; i < cy.io.selection.length; i++ ){\n",
    "            var ele = cy.io.selection[i]\n",
    "            if( ele.isEdge() ){\n",
    "                ele.style( \"source-arrow-color\", ele.style(\"line-color\")  )\n",
    "                ele.style( \"source-arrow-shape\", '\"\"\"+Graph.w.start.value+\"\"\"' )\n",
    "            } \n",
    "        }\n",
    "        \"\"\")           \n",
    "Graph.wf.start = start\n",
    "Graph.w.start.observe( Graph.wf.start )"
   ]
  },
  {
   "cell_type": "markdown",
   "metadata": {
    "heading_collapsed": true,
    "hidden": true
   },
   "source": [
    "### <font color=\"purple\">Edge Arrow End</font> "
   ]
  },
  {
   "cell_type": "code",
   "execution_count": 56,
   "metadata": {
    "hidden": true
   },
   "outputs": [],
   "source": [
    "Graph.w.end = ipw.Dropdown( options=['none','triangle','tee','diamond','square','circle','vee','triangle-tee'] )\n",
    "#Graph.w.end"
   ]
  },
  {
   "cell_type": "code",
   "execution_count": 57,
   "metadata": {
    "hidden": true
   },
   "outputs": [],
   "source": [
    "def end(b):\n",
    "        JS(\"\"\"\n",
    "        for( i=0; i < cy.io.selection.length; i++ ){\n",
    "            var ele = cy.io.selection[i]\n",
    "            if( ele.isEdge() ){\n",
    "                ele.style( \"target-arrow-color\", ele.style(\"line-color\")  )\n",
    "                ele.style( \"target-arrow-shape\", '\"\"\"+Graph.w.end.value+\"\"\"' )\n",
    "            } \n",
    "        }\n",
    "        \"\"\")           \n",
    "Graph.wf.end = end\n",
    "Graph.w.end.observe( Graph.wf.end )"
   ]
  },
  {
   "cell_type": "markdown",
   "metadata": {
    "heading_collapsed": true,
    "hidden": true
   },
   "source": [
    "### <font color=\"purple\">Edge Line Style</font> "
   ]
  },
  {
   "cell_type": "code",
   "execution_count": 58,
   "metadata": {
    "hidden": true
   },
   "outputs": [],
   "source": [
    "Graph.w.lineStyle = ipw.Dropdown( options=['solid','dotted','dashed'] )\n",
    "#Graph.w.lineStyle"
   ]
  },
  {
   "cell_type": "code",
   "execution_count": 60,
   "metadata": {
    "hidden": true
   },
   "outputs": [],
   "source": [
    "def lineStyle(b):\n",
    "        JS(\"\"\"\n",
    "        for( i=0; i < cy.io.selection.length; i++ ){\n",
    "            var ele = cy.io.selection[i]\n",
    "            if( ele.isEdge() ){\n",
    "                ele.style( \"lineStyle\", '\"\"\"+Graph.w.lineStyle.value+\"\"\"' )\n",
    "            } \n",
    "        }\n",
    "        \"\"\")           \n",
    "Graph.wf.lineStyle = lineStyle\n",
    "Graph.w.lineStyle.observe( Graph.wf.lineStyle )"
   ]
  },
  {
   "cell_type": "code",
   "execution_count": null,
   "metadata": {
    "hidden": true
   },
   "outputs": [],
   "source": []
  },
  {
   "cell_type": "code",
   "execution_count": null,
   "metadata": {
    "hidden": true
   },
   "outputs": [],
   "source": []
  },
  {
   "cell_type": "code",
   "execution_count": null,
   "metadata": {
    "hidden": true
   },
   "outputs": [],
   "source": []
  },
  {
   "cell_type": "code",
   "execution_count": null,
   "metadata": {
    "hidden": true
   },
   "outputs": [],
   "source": []
  },
  {
   "cell_type": "markdown",
   "metadata": {},
   "source": [
    "# <font color=\"orchid\">Display Boxes</font>\n",
    "\n",
    "Here we take the prviously created <font color=\"green\">widgets</font> and we group them rogether into a pretty box."
   ]
  },
  {
   "cell_type": "code",
   "execution_count": 89,
   "metadata": {},
   "outputs": [],
   "source": [
    "Graph.box = type(\"box\",(),{})()"
   ]
  },
  {
   "cell_type": "markdown",
   "metadata": {},
   "source": [
    "**Padding : ** \\[ top/ right/ bottom/ left \\]"
   ]
  },
  {
   "cell_type": "code",
   "execution_count": null,
   "metadata": {},
   "outputs": [],
   "source": []
  },
  {
   "cell_type": "markdown",
   "metadata": {
    "heading_collapsed": true
   },
   "source": [
    "## Style Box"
   ]
  },
  {
   "cell_type": "markdown",
   "metadata": {
    "hidden": true
   },
   "source": [
    "We add some style/layout properties to the widgets we will use in the style box"
   ]
  },
  {
   "cell_type": "code",
   "execution_count": 90,
   "metadata": {
    "hidden": true
   },
   "outputs": [],
   "source": [
    "Graph.box.color = ipw.HBox([ ipw.Label('Color :'), Graph.w.color, \n",
    "                            ipw.Label('    '), Graph.w.background ])"
   ]
  },
  {
   "cell_type": "code",
   "execution_count": 91,
   "metadata": {
    "hidden": true
   },
   "outputs": [],
   "source": [
    "Graph.box.size = ipw.HBox([ipw.Label('Size :'), Graph.w.size ])"
   ]
  },
  {
   "cell_type": "code",
   "execution_count": 92,
   "metadata": {
    "hidden": true
   },
   "outputs": [],
   "source": [
    "Graph.box.shape = ipw.HBox([ipw.Label('Shape :'), Graph.w.shape ])\n",
    "Graph.box.shape.layout.padding = '10px 0px 0px 0px'"
   ]
  },
  {
   "cell_type": "code",
   "execution_count": 93,
   "metadata": {
    "hidden": true
   },
   "outputs": [],
   "source": [
    "Graph.box.lineStyle = ipw.HBox([ipw.Label('Line Style :'), Graph.w.lineStyle ])\n",
    "Graph.box.lineStyle.layout.padding = '10px 0px 0px 0px'"
   ]
  },
  {
   "cell_type": "code",
   "execution_count": 94,
   "metadata": {
    "hidden": true
   },
   "outputs": [],
   "source": [
    "Graph.box.opacity = ipw.HBox([ipw.Label('See-Through :'), Graph.w.opacity ])\n",
    "Graph.box.opacity.layout.padding = '10px 0px 0px 0px'"
   ]
  },
  {
   "cell_type": "code",
   "execution_count": 95,
   "metadata": {
    "hidden": true
   },
   "outputs": [],
   "source": [
    "Graph.box.edge_start = ipw.HBox([ipw.Label('Edge Start :'), Graph.w.start ])\n",
    "Graph.box.edge_start.layout.padding = '10px 0px 0px 0px'"
   ]
  },
  {
   "cell_type": "code",
   "execution_count": 96,
   "metadata": {
    "hidden": true
   },
   "outputs": [],
   "source": [
    "Graph.box.edge_end = ipw.HBox([ipw.Label('Edge End :'), Graph.w.end ])\n",
    "Graph.box.edge_end.layout.padding = '10px 0px 0px 0px'"
   ]
  },
  {
   "cell_type": "code",
   "execution_count": 97,
   "metadata": {
    "hidden": true
   },
   "outputs": [],
   "source": [
    "Graph.box.z_index = ipw.HBox([ipw.Label('Behind/In-Front :'), Graph.w.z_index ])\n",
    "Graph.box.z_index.layout.padding = '10px 0px 0px 0px'"
   ]
  },
  {
   "cell_type": "markdown",
   "metadata": {
    "hidden": true
   },
   "source": [
    "Now we create the style box"
   ]
  },
  {
   "cell_type": "code",
   "execution_count": 98,
   "metadata": {
    "hidden": true
   },
   "outputs": [],
   "source": [
    "Graph.box.style = ipw.VBox([Graph.box.size,\n",
    "                            Graph.box.color,\n",
    "                            Graph.box.opacity,\n",
    "                            Graph.box.shape,\n",
    "                            Graph.box.lineStyle,\n",
    "                            Graph.box.edge_start,\n",
    "                            Graph.box.edge_end,\n",
    "                            Graph.box.z_index,\n",
    "                           ])\n",
    "#Graph.box.style"
   ]
  },
  {
   "cell_type": "code",
   "execution_count": null,
   "metadata": {
    "cell_style": "split",
    "hidden": true,
    "scrolled": true
   },
   "outputs": [],
   "source": []
  },
  {
   "cell_type": "code",
   "execution_count": null,
   "metadata": {
    "hidden": true
   },
   "outputs": [],
   "source": []
  },
  {
   "cell_type": "code",
   "execution_count": null,
   "metadata": {
    "hidden": true
   },
   "outputs": [],
   "source": []
  },
  {
   "cell_type": "markdown",
   "metadata": {
    "heading_collapsed": true
   },
   "source": [
    "## Label Box"
   ]
  },
  {
   "cell_type": "markdown",
   "metadata": {
    "hidden": true
   },
   "source": [
    "We add some style/layout properties to the widgets we will use in the label box"
   ]
  },
  {
   "cell_type": "code",
   "execution_count": 99,
   "metadata": {
    "hidden": true
   },
   "outputs": [],
   "source": [
    "Graph.box.label_text = ipw.HBox([ipw.Label('Text :'), Graph.w.label ])"
   ]
  },
  {
   "cell_type": "code",
   "execution_count": 100,
   "metadata": {
    "hidden": true
   },
   "outputs": [],
   "source": [
    "Graph.box.label_color = ipw.HBox([ipw.Label('Color :'), Graph.w.label_color ])"
   ]
  },
  {
   "cell_type": "code",
   "execution_count": 101,
   "metadata": {
    "hidden": true
   },
   "outputs": [],
   "source": [
    "Graph.box.label_size = ipw.HBox([ipw.Label('Size :'), Graph.w.label_size ])\n",
    "Graph.box.shape.layout.padding = '10px 0px 0px 0px'"
   ]
  },
  {
   "cell_type": "code",
   "execution_count": 104,
   "metadata": {
    "hidden": true
   },
   "outputs": [],
   "source": [
    "Graph.box.label_pos = ipw.HBox([ipw.Label('Position :'), Graph.w.label_pos ])\n",
    "Graph.box.label_pos.layout.padding = '10px 0px 0px 0px'"
   ]
  },
  {
   "cell_type": "markdown",
   "metadata": {
    "hidden": true
   },
   "source": [
    "Create the label box"
   ]
  },
  {
   "cell_type": "code",
   "execution_count": 105,
   "metadata": {
    "cell_style": "split",
    "hidden": true
   },
   "outputs": [],
   "source": [
    "Graph.box.label = ipw.VBox([Graph.box.label_text,\n",
    "                            ipw.HTML(\"<hr style='padding: 2px; margin: 2px'>\"),\n",
    "                            Graph.box.label_color,\n",
    "                            Graph.box.label_size,\n",
    "                            Graph.box.label_pos,\n",
    "                           ])\n",
    "#Graph.box.label"
   ]
  },
  {
   "cell_type": "markdown",
   "metadata": {},
   "source": [
    "## Variables Box"
   ]
  },
  {
   "cell_type": "code",
   "execution_count": 106,
   "metadata": {},
   "outputs": [],
   "source": [
    "Graph.box.vars = ipw.HTML(\"<h4>Not implemented yet</h4>\")"
   ]
  },
  {
   "cell_type": "markdown",
   "metadata": {},
   "source": [
    "## Combine Style, Label, Variables"
   ]
  },
  {
   "cell_type": "code",
   "execution_count": 107,
   "metadata": {
    "cell_style": "center",
    "scrolled": true
   },
   "outputs": [],
   "source": [
    "Graph.box.combo = widgets.Accordion(children=[ Graph.box.style ,Graph.box.label, Graph.box.vars])\n",
    "Graph.box.combo.set_title(0, 'Style')\n",
    "Graph.box.combo.set_title(1, 'Label')\n",
    "Graph.box.combo.set_title(2, 'Variables')\n",
    "#Graph.box.combo"
   ]
  },
  {
   "cell_type": "code",
   "execution_count": null,
   "metadata": {},
   "outputs": [],
   "source": []
  },
  {
   "cell_type": "code",
   "execution_count": null,
   "metadata": {},
   "outputs": [],
   "source": []
  },
  {
   "cell_type": "markdown",
   "metadata": {},
   "source": [
    "## End Box"
   ]
  },
  {
   "cell_type": "code",
   "execution_count": 108,
   "metadata": {
    "cell_style": "center"
   },
   "outputs": [],
   "source": [
    "Graph.box.search = ipw.HBox([ Graph.w.search, Graph.w.searchSelect, ipw.HTML(\"<p>&nbsp&nbsp&nbsp&nbsp&nbsp</p>\") ])\n",
    "Graph.box.search.layout.justify_content = \"center\"\n",
    "Graph.box.search.layout.padding = '10px 0px 0px 0px'\n",
    "#Graph.box.search"
   ]
  },
  {
   "cell_type": "code",
   "execution_count": 109,
   "metadata": {
    "cell_style": "center"
   },
   "outputs": [],
   "source": [
    "Graph.box.delete = ipw.HBox([ Graph.w.delete, Graph.w.undo ] )\n",
    "Graph.box.delete.layout.justify_content = \"center\"\n",
    "Graph.box.delete.layout.padding = '10px 0px 0px 0px'\n",
    "#Graph.box.delete"
   ]
  },
  {
   "cell_type": "code",
   "execution_count": 110,
   "metadata": {
    "cell_style": "split"
   },
   "outputs": [],
   "source": [
    "Graph.box.end = ipw.VBox([Graph.box.search, \n",
    "                          Graph.box.delete ])\n",
    "#Graph.box.end"
   ]
  },
  {
   "cell_type": "markdown",
   "metadata": {},
   "source": [
    "## Box of Everything"
   ]
  },
  {
   "cell_type": "code",
   "execution_count": 116,
   "metadata": {
    "cell_style": "split",
    "scrolled": false
   },
   "outputs": [],
   "source": [
    "Graph.box.all = ipw.VBox([ Graph.box.combo,\n",
    "                           Graph.box.end])\n",
    "#Graph.box.all"
   ]
  },
  {
   "cell_type": "code",
   "execution_count": null,
   "metadata": {},
   "outputs": [],
   "source": []
  },
  {
   "cell_type": "code",
   "execution_count": null,
   "metadata": {},
   "outputs": [],
   "source": []
  },
  {
   "cell_type": "code",
   "execution_count": null,
   "metadata": {},
   "outputs": [],
   "source": []
  },
  {
   "cell_type": "markdown",
   "metadata": {},
   "source": [
    "# Create Graph"
   ]
  },
  {
   "cell_type": "markdown",
   "metadata": {},
   "source": [
    "##  create graph and editor"
   ]
  },
  {
   "cell_type": "markdown",
   "metadata": {},
   "source": [
    "Must re-execute this when debugging code"
   ]
  },
  {
   "cell_type": "code",
   "execution_count": 117,
   "metadata": {},
   "outputs": [
    {
     "data": {
      "text/html": [
       "<script>\n",
       "        var cell_text= \"\";\n",
       "        canvas_num= 0;  \n",
       "        while( ! cell_text.includes('# My Canvas Box')  ){\n",
       "            cell_text = Jupyter.notebook.get_cell(canvas_num).get_text();  //.element[\"0\"].innerText #<-- Old Way\n",
       "            canvas_num++\n",
       "        }\n",
       "        canvas_num--\n",
       "        </script>"
      ],
      "text/plain": [
       "<IPython.core.display.HTML object>"
      ]
     },
     "metadata": {},
     "output_type": "display_data"
    },
    {
     "data": {
      "text/html": [
       "<script>\n",
       "        var cell_text= \"\";\n",
       "        canvas_num= 0;  \n",
       "        while( ! cell_text.includes('# My Canvas Box')  ){\n",
       "            cell_text = Jupyter.notebook.get_cell(canvas_num).get_text();  //.element[\"0\"].innerText #<-- Old Way\n",
       "            canvas_num++\n",
       "        }\n",
       "        canvas_num--\n",
       "        </script>"
      ],
      "text/plain": [
       "<IPython.core.display.HTML object>"
      ]
     },
     "metadata": {},
     "output_type": "display_data"
    },
    {
     "data": {
      "text/html": [
       "<script>\n",
       "        IPython.notebook.execute_cells([canvas_num])\n",
       "        </script>"
      ],
      "text/plain": [
       "<IPython.core.display.HTML object>"
      ]
     },
     "metadata": {},
     "output_type": "display_data"
    }
   ],
   "source": [
    "cy = Graph()\n",
    "\n",
    "Graph.canvas_box = JupyterCell(\"My Canvas Box\", \"canvas_num\")\n",
    "Graph.canvas_box.execute()\n"
   ]
  },
  {
   "cell_type": "code",
   "execution_count": 119,
   "metadata": {},
   "outputs": [
    {
     "data": {
      "text/html": [
       "<script>\n",
       "        var cell_text= \"\";\n",
       "        edit_num= 0;  \n",
       "        while( ! cell_text.includes('# My Edit Box')  ){\n",
       "            cell_text = Jupyter.notebook.get_cell(edit_num).get_text();  //.element[\"0\"].innerText #<-- Old Way\n",
       "            edit_num++\n",
       "        }\n",
       "        edit_num--\n",
       "        </script>"
      ],
      "text/plain": [
       "<IPython.core.display.HTML object>"
      ]
     },
     "metadata": {},
     "output_type": "display_data"
    },
    {
     "data": {
      "text/html": [
       "<script>\n",
       "        var cell_text= \"\";\n",
       "        edit_num= 0;  \n",
       "        while( ! cell_text.includes('# My Edit Box')  ){\n",
       "            cell_text = Jupyter.notebook.get_cell(edit_num).get_text();  //.element[\"0\"].innerText #<-- Old Way\n",
       "            edit_num++\n",
       "        }\n",
       "        edit_num--\n",
       "        </script>"
      ],
      "text/plain": [
       "<IPython.core.display.HTML object>"
      ]
     },
     "metadata": {},
     "output_type": "display_data"
    },
    {
     "data": {
      "text/html": [
       "<script>\n",
       "        IPython.notebook.execute_cells([edit_num])\n",
       "        </script>"
      ],
      "text/plain": [
       "<IPython.core.display.HTML object>"
      ]
     },
     "metadata": {},
     "output_type": "display_data"
    }
   ],
   "source": [
    "Graph.editor_box = JupyterCell(\"My Edit Box\", \"edit_num\")\n",
    "#Graph.editor_box.widg = ipw.HTML(\"<h5> </h5>\") #<-- widget initially empty\n",
    "Graph.editor_box.execute()\n"
   ]
  },
  {
   "cell_type": "code",
   "execution_count": 121,
   "metadata": {},
   "outputs": [
    {
     "data": {
      "text/html": [
       "<script>\n",
       "    cy.io.addNode = function(event){\n",
       "      if( event.target === cy ){                                                          // <-- If we tapped on the background\n",
       "          checkit = cy.add([ {  group: \"nodes\", position: event.position  } ]);          //<-- add node    \n",
       "      }; \n",
       "    };\n",
       "    cy.on('tap', cy.io.addNode );\n",
       "    </script>"
      ],
      "text/plain": [
       "<IPython.core.display.HTML object>"
      ]
     },
     "metadata": {},
     "output_type": "display_data"
    },
    {
     "data": {
      "text/html": [
       "<script>\n",
       "    cy.io.click_hist = [\"1\", \"2\", \"3\", \"4\"];\n",
       "    \n",
       "    cy.io.addEdge = function(event){                                    // <-- on \"tapping\" canvas\n",
       "        cy.io.click_hist.shift();                                         //<-- Remove oldest click\n",
       "\n",
       "        if( event.target !== cy && event.target.isNode() ){               // <-- If we tapped a Node\n",
       "          cy.io.click_hist.push( event.target.id() );                   // <-- Add node id to click history\n",
       "\n",
       "          if( cy.io.click_hist[0]==cy.io.click_hist[1] && cy.io.click_hist[2]==cy.io.click_hist[3] ){      //<-- If 2 double clicks\n",
       "              cy.add([ {  data: { source: cy.io.click_hist[0], target: cy.io.click_hist[2] }  } ]);         //<-- add edge\n",
       "          };\n",
       "\n",
       "        }else{                                                 //<-- if we didn't click a node\n",
       "          cy.io.click_hist.push( String(Math.random()) );   //<-- Add random string to click history (repeats unlikely)\n",
       "        }; \n",
       "    };\n",
       "    cy.on(\"click\" , cy.io.addEdge );\n",
       "    </script>"
      ],
      "text/plain": [
       "<IPython.core.display.HTML object>"
      ]
     },
     "metadata": {},
     "output_type": "display_data"
    },
    {
     "data": {
      "text/html": [
       "<script>\n",
       "        var check = 0;\n",
       "        var check_var;\n",
       "        cy.io.select_type = \"nothing\"\n",
       "\n",
       "\n",
       "        cy.io.test = function(event){\n",
       "            cy.io.selection = cy.$(':selected')                 //<-- Get selected elements\n",
       "            cy.io.last_type = cy.io.select_type\n",
       "\n",
       "            if( cy.io.selection.length == 0  ){                 //<-- Do nothing if nothing's selected\n",
       "                return\n",
       "            }\n",
       "            if( cy.io.selection.length == 1 ){                  //<-- If selection lenght is 1\n",
       "                //DEBUG py.execute(\"Graph.w.id.value = '\"++\"'\")  //<- put selectors ID in box\n",
       "\n",
       "                if( cy.io.selection.isNode() && cy.io.last_type != \"1 node\" ){                      //<-- If it's a node\n",
       "                    cy.io.select_type = \"1 node\"\n",
       "                    //DEBUG py.execute(\"Graph.editor_box.widg = Graph.box.show('1 node')\")\n",
       "                    IPython.notebook.execute_cells([edit_num])  //<-- edit_num was setup by the Graph.editor_box \n",
       "                }\n",
       "                if( cy.io.selection.isEdge() &&  cy.io.last_type != \"1 edge\" ){                     //<-- If it's an edge\n",
       "                    cy.io.select_type = \"1 edge\"\n",
       "                    //DEBUG py.execute(\"Graph.editor_box.widg = Graph.box.show('1 edge')\")\n",
       "                    IPython.notebook.execute_cells([edit_num])  //<-- edit_num was setup by the Graph.editor_box\n",
       "                }\n",
       "\n",
       "            } else {                                           //<-- If Many elements\n",
       "                console.log(\"many items\")\n",
       "            }\n",
       "\n",
       "        };\n",
       "\n",
       "        cy.on('select unselect', 'node, edge', cy.io.test );\n",
       "    </script>"
      ],
      "text/plain": [
       "<IPython.core.display.HTML object>"
      ]
     },
     "metadata": {},
     "output_type": "display_data"
    }
   ],
   "source": [
    "cy.js.addNode()\n",
    "cy.js.addEdge()\n",
    "cy.js.editSelector()"
   ]
  },
  {
   "cell_type": "code",
   "execution_count": null,
   "metadata": {},
   "outputs": [],
   "source": [
    "JS(\"\"\"\n",
    "//cy.removeListener('tap', handler);\n",
    "//cy.removeListener( \"click\" ) \n",
    "//cy.removeListener( \"tap\" )\n",
    "//cy.removeListener( \"select\" )\n",
    "//cy.removeListener( \"unselect\" )\n",
    "\"\"\")"
   ]
  },
  {
   "cell_type": "code",
   "execution_count": null,
   "metadata": {},
   "outputs": [],
   "source": [
    "#def selectColor(self):\n",
    "\n",
    "#checkit = cy.io.selection\n",
    "#checkit.style(\"overlay-color\",\"gray\")\n",
    "#checkit.style(\"overlay-opacity\",\".3\")\n",
    "#checkit.style(\"overlay-padding\",\"8px\")"
   ]
  },
  {
   "cell_type": "code",
   "execution_count": null,
   "metadata": {
    "scrolled": true
   },
   "outputs": [],
   "source": [
    "JS(f\"document.getElementById('cy').style.backgroundColor = '{Graph.w.color.value}'\")  "
   ]
  },
  {
   "cell_type": "code",
   "execution_count": null,
   "metadata": {},
   "outputs": [],
   "source": [
    "Graph.editor_box.widg = Graph.box.show('1 node')"
   ]
  },
  {
   "cell_type": "code",
   "execution_count": null,
   "metadata": {},
   "outputs": [],
   "source": []
  },
  {
   "cell_type": "markdown",
   "metadata": {},
   "source": [
    "# Visualize (Mock Setup)"
   ]
  },
  {
   "cell_type": "code",
   "execution_count": 128,
   "metadata": {
    "cell_style": "split",
    "scrolled": false
   },
   "outputs": [
    {
     "data": {
      "application/vnd.jupyter.widget-view+json": {
       "model_id": "484c7c110efe43bfb3d9c10e6dcc2d04",
       "version_major": 2,
       "version_minor": 0
      },
      "text/plain": [
       "VBox(children=(Accordion(children=(VBox(children=(HBox(children=(Label(value='Size :'), IntSlider(value=200, m…"
      ]
     },
     "metadata": {},
     "output_type": "display_data"
    },
    {
     "data": {
      "text/html": [
       "<script>cy.io.last_deleted = cy.$(':selected').remove();</script>"
      ],
      "text/plain": [
       "<IPython.core.display.HTML object>"
      ]
     },
     "metadata": {},
     "output_type": "display_data"
    }
   ],
   "source": [
    "# My Edit Box\n",
    "display( Graph.box.all )\n",
    "\n"
   ]
  },
  {
   "cell_type": "code",
   "execution_count": 118,
   "metadata": {
    "cell_style": "split",
    "scrolled": false
   },
   "outputs": [
    {
     "data": {
      "text/html": [
       "\n",
       "    <style> .cy { width: 50vw; height: 30vw}</style>   //DEBUG: made width 50vw\n",
       "    <div id=\"cy\" class=\"cy\"></div>\n",
       "    "
      ],
      "text/plain": [
       "<IPython.core.display.HTML object>"
      ]
     },
     "metadata": {},
     "output_type": "display_data"
    },
    {
     "data": {
      "text/html": [
       "<script>\n",
       "    var cy;\n",
       "    require(['cytoscape'], function(cytoscape){       \n",
       "        cy = cytoscape({ container: document.getElementById('cy'), layout: { name: 'cose' },\n",
       "             style: [ { selector: 'node', style: { 'overlay-color': 'gray', 'overlay-padding': '2px', 'background-color': 'gray'  } },\n",
       "                      { selector: 'edge', style: { 'overlay-color': 'gray', 'overlay-padding': '8px',\n",
       "                          'line-color': 'gray', 'curve-style': 'bezier'  } } ]\n",
       "        });\n",
       "        \n",
       "        // Here we initialize some settings for 'cy' \n",
       "        cy.io = {}       // <-- where we store all the parameters/variables we create        \n",
       "        cy.maxZoom(14)   // <-- Determine how much window zooms in and out\n",
       "        cy.minZoom(.4)\n",
       "        \n",
       "        cy.on(\"select\", 'node, edge' , function(){     //<-- highlight node when selected\n",
       "            this.style( 'overlay-opacity', .4 );\n",
       "        });\n",
       "        cy.on(\"unselect\", 'node, edge' , function(){   //<-- unhighlight when not selected\n",
       "            this.style( 'overlay-opacity', 0 );\n",
       "        });\n",
       "    });\n",
       "    </script>"
      ],
      "text/plain": [
       "<IPython.core.display.HTML object>"
      ]
     },
     "metadata": {},
     "output_type": "display_data"
    }
   ],
   "source": [
    "# My Canvas Box\n",
    "cy.js.start()"
   ]
  },
  {
   "cell_type": "code",
   "execution_count": null,
   "metadata": {},
   "outputs": [],
   "source": [
    "i=0"
   ]
  },
  {
   "cell_type": "code",
   "execution_count": null,
   "metadata": {},
   "outputs": [],
   "source": [
    "JS(\"\"\"\n",
    "    var ele = cy.io.selection[i]\n",
    "    ele.style(\"z-index\", '\"\"\"+str(Graph.w.z_index.value)+\"\"\"' )\n",
    "\"\"\")"
   ]
  },
  {
   "cell_type": "code",
   "execution_count": null,
   "metadata": {},
   "outputs": [],
   "source": [
    "JS(\"\"\"\n",
    "    var check = 0;\n",
    "    var check_var;\n",
    "\n",
    "    cy.io.test = function(event){\n",
    "        cy.io.selection = cy.$(':selected')\n",
    "        \n",
    "        check += 1\n",
    "        console.log( String(check) +\": selection changed\")\n",
    "        check_var = \n",
    "        cehck_var2 = event\n",
    "    };\n",
    "\n",
    "    cy.on('select unselect', 'node, edge', cy.io.test );\n",
    "\"\"\")\n"
   ]
  },
  {
   "cell_type": "code",
   "execution_count": null,
   "metadata": {},
   "outputs": [],
   "source": [
    "#import inspect\n",
    "#lines = inspect.getsource(cy.js.addEdge)\n",
    "#print(lines)"
   ]
  },
  {
   "cell_type": "code",
   "execution_count": null,
   "metadata": {},
   "outputs": [],
   "source": [
    "\"\"\"\n",
    "JS(\n",
    "\n",
    "cyto.layout({ name: 'circle'}).run();\n",
    "\n",
    ")\n",
    "\"\"\""
   ]
  },
  {
   "cell_type": "markdown",
   "metadata": {},
   "source": [
    "# Scratch Paper"
   ]
  },
  {
   "cell_type": "code",
   "execution_count": 140,
   "metadata": {},
   "outputs": [
    {
     "data": {
      "application/javascript": [
       "for (var property in saved_style ) {\n",
       "    if( saved_style[property] != \"NaNpx\" && !property.includes(\"pie\") ){\n",
       "        cy.io.selection[0].style( property, saved_style[property] )\n",
       "    }\n",
       "}"
      ],
      "text/plain": [
       "<IPython.core.display.Javascript object>"
      ]
     },
     "metadata": {},
     "output_type": "display_data"
    }
   ],
   "source": [
    "%%js\n",
    "for (var property in saved_style ) {\n",
    "    if( saved_style[property] != \"NaNpx\" && !property.includes(\"pie\") ){  // this removes error messages caused by weird stuff in cytoscape.js\n",
    "        cy.io.selection[0].style( property, saved_style[property] )\n",
    "    }\n",
    "}"
   ]
  },
  {
   "cell_type": "code",
   "execution_count": 132,
   "metadata": {},
   "outputs": [
    {
     "data": {
      "application/javascript": [
       "Object.keys(saved_style3).forEach(function(key,index) {\n",
       "    console.log(key,index)\n",
       "    // key: the name of the object key\n",
       "    // index: the ordinal position of the key within the object \n",
       "});"
      ],
      "text/plain": [
       "<IPython.core.display.Javascript object>"
      ]
     },
     "metadata": {},
     "output_type": "display_data"
    }
   ],
   "source": [
    "%%js\n",
    "Object.keys(saved_style3).forEach(function(key,index) {\n",
    "    console.log(key,index)\n",
    "    // key: the name of the object key\n",
    "    // index: the ordinal position of the key within the object \n",
    "});"
   ]
  },
  {
   "cell_type": "code",
   "execution_count": null,
   "metadata": {},
   "outputs": [],
   "source": []
  },
  {
   "cell_type": "code",
   "execution_count": null,
   "metadata": {},
   "outputs": [],
   "source": []
  },
  {
   "cell_type": "code",
   "execution_count": null,
   "metadata": {},
   "outputs": [],
   "source": []
  },
  {
   "cell_type": "code",
   "execution_count": null,
   "metadata": {},
   "outputs": [],
   "source": []
  }
 ],
 "metadata": {
  "hide_input": false,
  "kernelspec": {
   "display_name": "Python 3",
   "language": "python",
   "name": "python3"
  },
  "language_info": {
   "codemirror_mode": {
    "name": "ipython",
    "version": 3
   },
   "file_extension": ".py",
   "mimetype": "text/x-python",
   "name": "python",
   "nbconvert_exporter": "python",
   "pygments_lexer": "ipython3",
   "version": "3.6.5"
  },
  "toc": {
   "base_numbering": 1,
   "nav_menu": {},
   "number_sections": true,
   "sideBar": true,
   "skip_h1_title": false,
   "title_cell": "Table of Contents",
   "title_sidebar": "Contents",
   "toc_cell": false,
   "toc_position": {},
   "toc_section_display": true,
   "toc_window_display": false
  },
  "varInspector": {
   "cols": {
    "lenName": 16,
    "lenType": 16,
    "lenVar": 40
   },
   "kernels_config": {
    "python": {
     "delete_cmd_postfix": "",
     "delete_cmd_prefix": "del ",
     "library": "var_list.py",
     "varRefreshCmd": "print(var_dic_list())"
    },
    "r": {
     "delete_cmd_postfix": ") ",
     "delete_cmd_prefix": "rm(",
     "library": "var_list.r",
     "varRefreshCmd": "cat(var_dic_list()) "
    }
   },
   "types_to_exclude": [
    "module",
    "function",
    "builtin_function_or_method",
    "instance",
    "_Feature"
   ],
   "window_display": false
  }
 },
 "nbformat": 4,
 "nbformat_minor": 2
}
