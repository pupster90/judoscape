{
 "cells": [
  {
   "cell_type": "code",
   "execution_count": 34,
   "metadata": {
    "scrolled": true
   },
   "outputs": [
    {
     "data": {
      "text/html": [
       "<script>var py = Jupyter.notebook.kernel</script>"
      ],
      "text/plain": [
       "<IPython.core.display.HTML object>"
      ]
     },
     "metadata": {},
     "output_type": "display_data"
    },
    {
     "data": {
      "text/html": [
       "<style>\n",
       "*{margin:0; padding:0;} html, body,              .container{margin:0;!important padding:0;!important}              .container { width:100% !important;}\n",
       "</style>"
      ],
      "text/plain": [
       "<IPython.core.display.HTML object>"
      ]
     },
     "metadata": {},
     "output_type": "display_data"
    },
    {
     "data": {
      "text/html": [
       "<style>\n",
       "div.text_cell.rendered { /* Customize text cells */\n",
       "    font-size:1.1em;\n",
       "    line-height:1.4em;\n",
       "}\n",
       "</style>"
      ],
      "text/plain": [
       "<IPython.core.display.HTML object>"
      ]
     },
     "metadata": {},
     "output_type": "display_data"
    },
    {
     "data": {
      "text/html": [
       "<style>\n",
       "#notebook-container {\n",
       "    box-shadow: 0px 0px 0px 0px rgba(87, 87, 87, 0.2);\n",
       "}\n",
       "div#notebook {\n",
       "    background-color: White;\n",
       "}\n",
       ".end_space {\n",
       "    background-color: White;\n",
       "}\n",
       "</style>"
      ],
      "text/plain": [
       "<IPython.core.display.HTML object>"
      ]
     },
     "metadata": {},
     "output_type": "display_data"
    },
    {
     "data": {
      "text/html": [
       "<style>\n",
       ".input_prompt {\n",
       "    margin:0;\n",
       "    padding:0;\n",
       "    min-width: 0ex;\n",
       "    font-size:.7em;\n",
       "}\n",
       ".prompt {\n",
       "    min-width: 2vw;\n",
       "}\n",
       "div.input_prompt bdi {\n",
       "    display: none;\n",
       "}\n",
       "div.input_prompt i {\n",
       "    font-size: 2em;\n",
       "    opacity: 0.7;\n",
       "}\n",
       "\n",
       "div.output_subarea { /* Makes html output width larger */\n",
       "    max-width: 100%\n",
       "}\n",
       "</style>"
      ],
      "text/plain": [
       "<IPython.core.display.HTML object>"
      ]
     },
     "metadata": {},
     "output_type": "display_data"
    },
    {
     "data": {
      "application/javascript": [
       "\n",
       "// Movement between Cells\n",
       "Jupyter.keyboard_manager.command_shortcuts.add_shortcut('-', 'jupyter-notebook:select-previous-cell');\n",
       "Jupyter.keyboard_manager.command_shortcuts.add_shortcut('=', 'jupyter-notebook:select-next-cell');\n",
       "Jupyter.keyboard_manager.command_shortcuts.add_shortcut('shift--', 'jupyter-notebook:extend-selection-above');\n",
       "Jupyter.keyboard_manager.command_shortcuts.add_shortcut('shift-=', 'jupyter-notebook:extend-selection-below');\n",
       "Jupyter.keyboard_manager.command_shortcuts.add_shortcut('alt--', 'jupyter-notebook:move-selection-up');\n",
       "Jupyter.keyboard_manager.command_shortcuts.add_shortcut('alt-=', 'jupyter-notebook:move-selection-down');\n",
       "\n",
       "// Controls Collapssing\n",
       "Jupyter.keyboard_manager.command_shortcuts.add_shortcut(']', 'collapsible_headings:uncollapse_heading');\n",
       "Jupyter.keyboard_manager.command_shortcuts.add_shortcut('[', 'collapsible_headings:collapse_heading');\n",
       "Jupyter.keyboard_manager.command_shortcuts.add_shortcut('shift-]', 'collapsible_headings:uncollapse_all_headings');\n",
       "Jupyter.keyboard_manager.command_shortcuts.add_shortcut('shift-[', 'collapsible_headings:collapse_all_headings');\n",
       "\n",
       " // SKETCHY ONE // Entre command mode\n",
       "Jupyter.keyboard_manager.edit_shortcuts.add_shortcut('shift-`', 'jupyter-notebook:enter-command-mode');\n"
      ],
      "text/plain": [
       "<IPython.core.display.Javascript object>"
      ]
     },
     "metadata": {},
     "output_type": "display_data"
    },
    {
     "data": {
      "text/html": [
       "<style>\n",
       "body {\n",
       "    -webkit-overflow-scrolling: touch;\n",
       "}\n",
       "</style>"
      ],
      "text/plain": [
       "<IPython.core.display.HTML object>"
      ]
     },
     "metadata": {},
     "output_type": "display_data"
    }
   ],
   "source": [
    "%cd -q /root/Documents/Apps\n",
    "%run \"Setup_Notebook/default.ipynb\"\n",
    "%cd -q -"
   ]
  },
  {
   "cell_type": "markdown",
   "metadata": {},
   "source": [
    "<img class=\"img-responsive\" width=\"30%\" src=\"http://www.cytoscape.org/images/cytoscape3_logo.png\" alt=\"logo\">"
   ]
  },
  {
   "cell_type": "markdown",
   "metadata": {
    "collapsed": true
   },
   "source": [
    "# Welcome to Cytoscape!"
   ]
  },
  {
   "cell_type": "markdown",
   "metadata": {},
   "source": [
    "* <font color=\"orange\">**Cytoscape**</font> is a [jupyter](http://jupyter.org/index.html) based framework to view graphical networks, ** *no coding knowledge required* **.\n",
    "* The entire platform is cloud based so you don't need to download anything, just login and start.\n",
    "* Furthermore, sharing scientific results is a breeze. When you're done with this notebook, give it to your colleagues and they can instantly replicate it on <font color=\"orange\">Cytoscape</font>."
   ]
  },
  {
   "cell_type": "markdown",
   "metadata": {},
   "source": [
    "<font color=\"red\">**Before you continue**</font> please watch the [tutorial video below](www.google.com) to get a better idea of what <font color=\"orange\">Cytoscape</font> is."
   ]
  },
  {
   "cell_type": "markdown",
   "metadata": {},
   "source": [
    "## Video Tutorial"
   ]
  },
  {
   "cell_type": "code",
   "execution_count": 35,
   "metadata": {
    "scrolled": false
   },
   "outputs": [
    {
     "data": {
      "text/html": [
       "\n",
       "    <div class=\"row\"><div class=\"col-xs-12 col-md-offset-4 col-md-4\">\n",
       "    <div class=\"embed-responsive embed-responsive-4by3\" style='border-style: solid;border-width: 1px;'>\n",
       "      <iframe class=\"embed-responsive-item\" \n",
       "      src='https://www.youtube.com/embed/p34OR7IVZiE'></iframe></div>\n",
       "    </div></div>\n",
       "    "
      ],
      "text/plain": [
       "<IPython.core.display.HTML object>"
      ]
     },
     "metadata": {},
     "output_type": "display_data"
    }
   ],
   "source": [
    "embedFile('https://www.youtube.com/embed/p34OR7IVZiE', 'small')\n"
   ]
  },
  {
   "cell_type": "markdown",
   "metadata": {
    "collapsed": true
   },
   "source": [
    "# Cytoscape App"
   ]
  },
  {
   "cell_type": "code",
   "execution_count": 36,
   "metadata": {},
   "outputs": [
    {
     "data": {
      "text/html": [
       "<style>\n",
       "#table_body tr td {\n",
       "    padding: 2px;\n",
       "}\n",
       "#table_body tr td input{\n",
       "    height: 100%;\n",
       "    width: 100%;\n",
       "    border: 0px;\n",
       "    text-align: center;\n",
       "}\n",
       "</style>"
      ],
      "text/plain": [
       "<IPython.core.display.HTML object>"
      ]
     },
     "metadata": {},
     "output_type": "display_data"
    },
    {
     "data": {
      "text/html": [
       "<script>cy.io.saveHtml = Jupyter.notebook.kernel.comm_manager.new_comm('save_html')</script>"
      ],
      "text/plain": [
       "<IPython.core.display.HTML object>"
      ]
     },
     "metadata": {},
     "output_type": "display_data"
    },
    {
     "data": {
      "application/javascript": [
       "\n",
       "        var code = Jupyter.notebook.insert_cell_below('code');\n",
       "        code.set_text(atob(\"ZGlzcGxheSggR3JhcGguaHRtbC5jeSAp\"));\n",
       "        code.metadata.cell_style = 'split';\n",
       "        code.element.attr('style', 'float:left; width:50%;' );\n",
       "        var cell_index = Jupyter.notebook.find_cell_index(code)        \n",
       "        Jupyter.notebook.execute_cells([cell_index])\n",
       "    "
      ],
      "text/plain": [
       "<IPython.core.display.Javascript object>"
      ]
     },
     "metadata": {},
     "output_type": "display_data"
    },
    {
     "data": {
      "application/javascript": [
       "\n",
       "        var code = Jupyter.notebook.insert_cell_below('code');\n",
       "        code.set_text(atob(\"ZGlzcGxheSggR3JhcGguYm94LmVkaXRvciApIA==\"));\n",
       "        code.metadata.cell_style = 'split';\n",
       "        code.element.attr('style', 'float:left; width:50%;' );\n",
       "        var cell_index = Jupyter.notebook.find_cell_index(code)        \n",
       "        Jupyter.notebook.execute_cells([cell_index])\n",
       "    "
      ],
      "text/plain": [
       "<IPython.core.display.Javascript object>"
      ]
     },
     "metadata": {},
     "output_type": "display_data"
    },
    {
     "data": {
      "application/javascript": [
       "\n",
       "        var code = Jupyter.notebook.insert_cell_below('code');\n",
       "        code.set_text(atob(\"ZGlzcGxheSggR3JhcGguaHRtbC50YWJsZSApIA==\"));\n",
       "        code.metadata.cell_style = 'split';\n",
       "        code.element.attr('style', 'float:left; width:50%;' );\n",
       "        var cell_index = Jupyter.notebook.find_cell_index(code)        \n",
       "        Jupyter.notebook.execute_cells([cell_index])\n",
       "    "
      ],
      "text/plain": [
       "<IPython.core.display.Javascript object>"
      ]
     },
     "metadata": {},
     "output_type": "display_data"
    },
    {
     "data": {
      "application/javascript": [
       "\n",
       "        var code = Jupyter.notebook.insert_cell_below('code');\n",
       "        code.set_text(atob(\"ZGlzcGxheSggR3JhcGguYm94LmxvYWRTYXZlKSA=\"));\n",
       "        code.metadata.cell_style = 'split';\n",
       "        code.element.attr('style', 'float:left; width:50%;' );\n",
       "        var cell_index = Jupyter.notebook.find_cell_index(code)        \n",
       "        Jupyter.notebook.execute_cells([cell_index])\n",
       "    "
      ],
      "text/plain": [
       "<IPython.core.display.Javascript object>"
      ]
     },
     "metadata": {},
     "output_type": "display_data"
    },
    {
     "data": {
      "application/javascript": [
       "\n",
       "        var code = Jupyter.notebook.insert_cell_below('code');\n",
       "        code.set_text(atob(\"R3JhcGguanMubG9hZCgp\"));\n",
       "        code.metadata.cell_style = 'split';\n",
       "        code.element.attr('style', 'float:left; width:50%;' );\n",
       "        var cell_index = Jupyter.notebook.find_cell_index(code)        \n",
       "        Jupyter.notebook.execute_cells([cell_index])\n",
       "    "
      ],
      "text/plain": [
       "<IPython.core.display.Javascript object>"
      ]
     },
     "metadata": {},
     "output_type": "display_data"
    }
   ],
   "source": [
    "%run \"Embed.ipynb\""
   ]
  },
  {
   "cell_type": "code",
   "execution_count": null,
   "metadata": {},
   "outputs": [],
   "source": []
  },
  {
   "cell_type": "code",
   "execution_count": 38,
   "metadata": {
    "cell_style": "split"
   },
   "outputs": [
    {
     "data": {
      "application/vnd.jupyter.widget-view+json": {
       "model_id": "4b9bb859da374332ac1525234def69e2",
       "version_major": 2,
       "version_minor": 0
      },
      "text/plain": [
       "VBox(children=(VBox(children=(HBox(children=(Text(value='', continuous_update=False, description='Search :'), …"
      ]
     },
     "metadata": {},
     "output_type": "display_data"
    }
   ],
   "source": [
    "display( Graph.box.editor ) "
   ]
  },
  {
   "cell_type": "code",
   "execution_count": 37,
   "metadata": {
    "cell_style": "split",
    "scrolled": true
   },
   "outputs": [
    {
     "data": {
      "text/html": [
       "\n",
       "<style>.cy{ \n",
       "    width: 100%; \n",
       "    height: 40vw;\n",
       "    border-style: solid;\n",
       "    border-width: 1px;\n",
       "}</style>\n",
       "<div id='cy' class='cy'></div>\n"
      ],
      "text/plain": [
       "<IPython.core.display.HTML object>"
      ]
     },
     "metadata": {},
     "output_type": "display_data"
    }
   ],
   "source": [
    "display( Graph.html.cy )"
   ]
  },
  {
   "cell_type": "code",
   "execution_count": 39,
   "metadata": {
    "cell_style": "split"
   },
   "outputs": [
    {
     "data": {
      "text/html": [
       "\n",
       "<table id=\"table\" class=\"table table-striped table-bordered\">\n",
       "    <thead><tr id=\"table_head\"></tr></thead>\n",
       "    <tbody id=\"table_body\"></tbody>    \n",
       "</table>\n"
      ],
      "text/plain": [
       "<IPython.core.display.HTML object>"
      ]
     },
     "metadata": {},
     "output_type": "display_data"
    }
   ],
   "source": [
    "display( Graph.html.table ) "
   ]
  },
  {
   "cell_type": "code",
   "execution_count": 40,
   "metadata": {
    "cell_style": "split"
   },
   "outputs": [
    {
     "data": {
      "application/vnd.jupyter.widget-view+json": {
       "model_id": "7651bb31d5754dfca61870ef8e3fefe2",
       "version_major": 2,
       "version_minor": 0
      },
      "text/plain": [
       "Accordion(children=(HBox(children=(ToggleButtons(button_style='success', options=('Python', 'File', 'NDEX'), v…"
      ]
     },
     "metadata": {},
     "output_type": "display_data"
    }
   ],
   "source": [
    "display( Graph.box.loadSave) "
   ]
  },
  {
   "cell_type": "code",
   "execution_count": 41,
   "metadata": {
    "cell_style": "split"
   },
   "outputs": [
    {
     "data": {
      "text/html": [
       "<script>\n",
       "var cy;\n",
       "require(['cytoscape'], function(cytoscape){ \n",
       "    cy = cytoscape({ container: document.getElementById('cy') });\n",
       "\n",
       "cy.io = {}       // <-- where we store all the parameters/variables we create        \n",
       "cy.maxZoom(14)   // <-- Determine how much window zooms in and out\n",
       "cy.minZoom(.4)\n",
       "\n",
       "// Create default style for nodes and edges\n",
       "cy.io.style = {}\n",
       "cy.io.style.node = { 'overlay-color': 'gray', 'overlay-padding': '2px', 'background-color': 'gray', 'text-background-color':'white',\n",
       "                        'text-border-width':'2px', 'text-background-padding':'4px', 'z-index-compare':'manual' }\n",
       "cy.io.style.edge = { 'overlay-color': 'gray', 'overlay-padding': '8px', 'line-color': 'gray', 'curve-style': 'bezier', 'text-background-color':'white',\n",
       "                        'text-border-width':'2px', 'text-background-padding':'4px', 'z-index-compare':'manual' }\n",
       "\n",
       "cy.on(\"select\", 'node, edge' , function(){     //<-- highlight node when selected\n",
       "    this.style( 'overlay-opacity', .4 );\n",
       "});\n",
       "cy.on(\"unselect\", 'node, edge' , function(){   //<-- unhighlight when not selected\n",
       "    this.style( 'overlay-opacity', 0 );\n",
       "});\n",
       "\n",
       "cy.io.style.set = function(ele, self=false){\n",
       "    var style = (ele.isNode() ) ? cy.io.style.node : cy.io.style.edge ;\n",
       "    \n",
       "    for( var property in ele.style() ){ \n",
       "        if(  !/[A-Z]/.test(property) && !property.includes(\"pie\") && ele.style(property) != \"NaNpx\" && !property.includes(\"overlay\") &&\n",
       "                                        style[property] != ele.style(property)  ){   //<--  remove cytoscape.js errors and repitition\n",
       "           if( self == false ){                  //<-- set properties of element\n",
       "                ele.style( property, style[property] )\n",
       "            }else{                               //<-- set properties of style *using* element\n",
       "                style[ property ] = ele.style( property ) \n",
       "            }    \n",
       "       }\n",
       "    }\n",
       "};\n",
       "\n",
       "cy.io.addNode = function(event){\n",
       "  if( event.target === cy ){                                                          // <-- If we tapped on the background\n",
       "      var ele = cy.add([ {  group: \"nodes\", position: event.position  } ]);          //<-- add node    \n",
       "      cy.io.style.set( ele )\n",
       "  }; \n",
       "};\n",
       "cy.on('tap', cy.io.addNode );\n",
       "\n",
       "cy.io.click_hist = [\"1\", \"2\", \"3\", \"4\"];\n",
       "cy.io.click_time = [8, 6, 4, 2];\n",
       "\n",
       "cy.io.addEdge = function(event){                                    // <-- on \"tapping\" canvas\n",
       "    cy.io.click_hist.shift();     //<-- Remove oldest click\n",
       "    \n",
       "    //Update Click times\n",
       "    var d = new Date()\n",
       "    cy.io.click_time.shift()\n",
       "    cy.io.click_time.push( d.getTime()/1000 )\n",
       "    \n",
       "    if( event.target !== cy && event.target.isNode() ){               // <-- If we tapped a Node\n",
       "      cy.io.click_hist.push( event.target.id() );                   // <-- Add node id to click history\n",
       "\n",
       "      if( cy.io.click_hist[0]==cy.io.click_hist[1] && cy.io.click_hist[2]==cy.io.click_hist[3] &&           cy.io.click_time[1] - cy.io.click_time[0] < 1 && cy.io.click_time[3] - cy.io.click_time[2] < 1  ){ //<-- If 2 double clicks\n",
       "          \n",
       "          var ele= cy.add([ {  data: { source: cy.io.click_hist[0], target: cy.io.click_hist[2] }  } ]);    //<-- add edge\n",
       "          cy.io.style.set( ele )                                                                            //<-- add style of new edge\n",
       "      };\n",
       "\n",
       "    }else{                                                 //<-- if we didn't click a node\n",
       "      cy.io.click_hist.push( String(Math.random()) );   //<-- Add random string to click history (repeats unlikely)\n",
       "    }; \n",
       "};\n",
       "cy.on( 'tap' , cy.io.addEdge );\n",
       "\n",
       "cy.io.style.change = function(ele, property, value ){\n",
       "    cy.io.style.set( ele, self=true )                                     // Make style same as node type\n",
       "    var style = (ele.isNode() ) ? cy.io.style.node : cy.io.style.edge ;   // get style type\n",
       "    \n",
       "    typeof(property)\n",
       "    if( typeof(property)==\"string\" ){                                     // handle changing a single style property\n",
       "        style[ property ] = value                                             // change style value\n",
       "        ele.style( property, value )                                          // change element's value\n",
       "    }else{                                                                // Multiple properties\n",
       "        for(var i=0; i<property.length; i++){\n",
       "            style[ property[i] ] = value[i]\n",
       "            ele.style( property[i], value[i] )  \n",
       "        }\n",
       "    }\n",
       "};\n",
       "\n",
       "var eles = cy.add([  {data: { id: 'a' }},  {data: { id: 'b' }},  {data: { id: 'ab', source: 'a', target: 'b'}}  ])\n",
       "cy.io.style.set( eles[0] ) \n",
       "cy.io.style.set( eles[2] )\n",
       "cy.io.style.set(eles[0], self=true )\n",
       "cy.io.style.set(eles[2], self=true )\n",
       "cy.io.default = {}\n",
       "cy.io.default.node = jQuery.extend(true, {}, cy.io.style.node );\n",
       "cy.io.default.edge = jQuery.extend(true, {}, cy.io.style.edge );\n",
       "cy.remove(eles)\n",
       "cy.io.saveHtml = Jupyter.notebook.kernel.comm_manager.new_comm('save_html')\n",
       "cy.on('select unselect', 'node, edge', function(event){ \n",
       "cy.io.selection= cy.$(':selected')  \n",
       "var selection = cy.io.selection\n",
       "py.execute(\"Graph.w.varBox.children = ()\")\n",
       "\n",
       "if( selection.length == 0 ){ py.execute('Graph.w.var_add_name.reset(True)'); return;} \n",
       "\n",
       "cy.io.vars = []\n",
       "cy.io.varTypes = []\n",
       "\n",
       "if( selection.length == 1 ){        \n",
       "    var data = selection[0].data()\n",
       "    var data_vars = Object.keys(data).slice(1,)\n",
       "    for( i in data){            \n",
       "        if( data[i] != undefined && i!='id' ){\n",
       "            cy.io.vars.push(i)\n",
       "            var val_js = ( typeof(data[i])==\"number\" ) ? String(data[i]) : '\"'+data[i]+'\"'\n",
       "            py.execute('Graph.w.varBox.add(\"'+i+'\",'+val_js+')')\n",
       "\n",
       "            var varType =  ( typeof(data[i])==\"number\" ) ? \"number\" : \"text\"\n",
       "            cy.io.varTypes.push( varType )\n",
       "        }\n",
       "    }\n",
       "}else{\n",
       "\n",
       "    for( var i=0; i < selection.length; i++ ){\n",
       "        var ele = selection[i]\n",
       "        var data = ele.data()\n",
       "        for( key in data ){\n",
       "            if( key!='id' && !cy.io.vars.includes(key) && data[key]!=undefined ){\n",
       "                cy.io.vars.push( key )\n",
       "\n",
       "                var varType =  ( typeof(data[key])==\"number\" ) ? \"number\" : \"text\"\n",
       "                cy.io.varTypes.push( varType )\n",
       "            }\n",
       "        }\n",
       "    }\n",
       "    for( show in cy.io.vars ){\n",
       "        py.execute('Graph.w.varBox.add(\"'+cy.io.vars[show]+'\")')\n",
       "    }\n",
       "}\n",
       "py.execute('Graph.w.var_add_name.reset()')\n",
       "\n",
       "var table_head = document.getElementById(\"table_head\")\n",
       "table_head.innerHTML = ''\n",
       "for( var i in cy.io.vars ){\n",
       "    table_head.innerHTML += '<th style=\"text-align: center\"><h3>'+cy.io.vars[i]+'</h3></th>'\n",
       "}\n",
       "\n",
       "    var table_body = document.getElementById(\"table_body\")\n",
       "    table_body.innerHTML = \"\"\n",
       "    \n",
       "    for( var i=0; i<cy.io.selection.length; i++ ){\n",
       "        var ele = cy.io.selection[i]\n",
       "        var data = ele.data()\n",
       "        var row = document.createElement(\"tr\");\n",
       "        \n",
       "        for( var j in cy.io.vars ){\n",
       "            var cell = document.createElement(\"td\");\n",
       "            val = ( cy.io.varTypes[j]==\"number\" ) ? \"Number(this.value)\" : \"this.value\"\n",
       "            addFunc = '\"' + \"cy.$id('\" +data['id']+ \"').data('\" +cy.io.vars[j]+ \"', \" +val+ \" )\" +'\"' \n",
       "            \n",
       "            if( data[cy.io.vars[j] ]!=undefined ){\n",
       "                cell.innerHTML = '<input type=\"'+cy.io.varTypes[j]+'\" class=\"form-control\" value=\"'+data[cy.io.vars[j]]+'\" onkeyup='+addFunc+'  >' \n",
       "            }else{\n",
       "                cell.innerHTML = '<input type=\"'+cy.io.varTypes[j]+'\" class=\"form-control\" onkeyup='+addFunc+'  >' \n",
       "            }\n",
       "            row.appendChild(cell)\n",
       "        }\n",
       "        table_body.appendChild(row)\n",
       "    }\n",
       "\n",
       "});});</script>"
      ],
      "text/plain": [
       "<IPython.core.display.HTML object>"
      ]
     },
     "metadata": {},
     "output_type": "display_data"
    }
   ],
   "source": [
    "Graph.js.load()"
   ]
  }
 ],
 "metadata": {
  "hide_input": true,
  "kernelspec": {
   "display_name": "Python 3",
   "language": "python",
   "name": "python3"
  },
  "language_info": {
   "codemirror_mode": {
    "name": "ipython",
    "version": 3
   },
   "file_extension": ".py",
   "mimetype": "text/x-python",
   "name": "python",
   "nbconvert_exporter": "python",
   "pygments_lexer": "ipython3",
   "version": "3.6.5"
  },
  "toc": {
   "base_numbering": 1,
   "nav_menu": {},
   "number_sections": true,
   "sideBar": true,
   "skip_h1_title": false,
   "title_cell": "Table of Contents",
   "title_sidebar": "Contents",
   "toc_cell": false,
   "toc_position": {},
   "toc_section_display": true,
   "toc_window_display": false
  },
  "varInspector": {
   "cols": {
    "lenName": 16,
    "lenType": 16,
    "lenVar": 40
   },
   "kernels_config": {
    "python": {
     "delete_cmd_postfix": "",
     "delete_cmd_prefix": "del ",
     "library": "var_list.py",
     "varRefreshCmd": "print(var_dic_list())"
    },
    "r": {
     "delete_cmd_postfix": ") ",
     "delete_cmd_prefix": "rm(",
     "library": "var_list.r",
     "varRefreshCmd": "cat(var_dic_list()) "
    }
   },
   "types_to_exclude": [
    "module",
    "function",
    "builtin_function_or_method",
    "instance",
    "_Feature"
   ],
   "window_display": false
  }
 },
 "nbformat": 4,
 "nbformat_minor": 2
}
