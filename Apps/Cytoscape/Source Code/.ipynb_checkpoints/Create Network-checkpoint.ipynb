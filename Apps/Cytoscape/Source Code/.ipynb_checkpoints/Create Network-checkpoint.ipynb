{
 "cells": [
  {
   "cell_type": "markdown",
   "metadata": {},
   "source": [
    "<font size=8 face=\"courier\" color=\"magenta\">Create Network</font>"
   ]
  },
  {
   "cell_type": "markdown",
   "metadata": {},
   "source": [
    "This notebook creates the widget inside of the \"Create Network\" section of the [Cytoscape app](../Cytoscape.ipynb)."
   ]
  },
  {
   "cell_type": "markdown",
   "metadata": {},
   "source": [
    "# Setup Notebook"
   ]
  },
  {
   "cell_type": "code",
   "execution_count": 2,
   "metadata": {},
   "outputs": [
    {
     "name": "stdout",
     "output_type": "stream",
     "text": [
      "/root/Documents\n"
     ]
    },
    {
     "data": {
      "text/html": [
       "\n",
       "<style>\n",
       "*{margin:0; padding:0;} html, body,              .container{margin:0;!important padding:0;!important}              .container { width:100% !important;}\n",
       "\n",
       "div.text_cell_render { /* Customize text cells */\n",
       "    font-size:1.1em;\n",
       "    line-height:1.1em;\n",
       "}\n",
       "\n",
       "</style>\n"
      ],
      "text/plain": [
       "<IPython.core.display.HTML object>"
      ]
     },
     "metadata": {},
     "output_type": "display_data"
    },
    {
     "data": {
      "text/html": [
       "\n",
       "<b style=\"color:red\">Note:</b> Somce cells are <font color=\"gray\">\"grayed out\"</font> with <i style=\"color:blue\">\"Debug\"</i> written next to them.\n",
       "<p>This was done to improve efficiency and to control what is shown in the final notebook. \n",
       "<b>Uncomment these cells</b> when working on hte notebook.</p>\n"
      ],
      "text/plain": [
       "<IPython.core.display.HTML object>"
      ]
     },
     "metadata": {},
     "output_type": "display_data"
    },
    {
     "data": {
      "text/html": [
       "\n",
       "<style>\n",
       "\n",
       "div.text_cell_render h1 { /* Main titles bigger, centered */\n",
       "text-align:center;\n",
       "}\n",
       "\n",
       "\n",
       "\n",
       "div.text_cell_render { /* Customize text cells */\n",
       "padding-left:3em;\n",
       "padding-right:3em;\n",
       "color: rgb(127, 127, 127);\n",
       "}\n",
       "</style>\n"
      ],
      "text/plain": [
       "<IPython.core.display.HTML object>"
      ]
     },
     "metadata": {},
     "output_type": "display_data"
    }
   ],
   "source": [
    "\"\"\" DEBUG \n",
    "%cd /root/Documents    \n",
    "%run \"Source Code/Setup Notebook.ipynb\" #<-- Debug\n",
    "%run \"Source Code/Setup Source.ipynb\"   #<-- Debug\n",
    "# %cd sets the path to that of Cytoscape.ipynb\n",
    "\"\"\""
   ]
  },
  {
   "cell_type": "markdown",
   "metadata": {},
   "source": [
    "## Not Implemented (But should be)"
   ]
  },
  {
   "cell_type": "markdown",
   "metadata": {},
   "source": [
    "The **<font color=\"magenta\">create</font>** object holds all the code for this notebook"
   ]
  },
  {
   "cell_type": "code",
   "execution_count": 1,
   "metadata": {},
   "outputs": [],
   "source": [
    "create = type(\"create\",(),{})()"
   ]
  },
  {
   "cell_type": "markdown",
   "metadata": {},
   "source": [
    "# Create Widget Tabs\n",
    "The \"main box\" of this widget is a series of **tabs** that each initialize the dataset in a different way. Each section below describes how one of those **tabs** was created."
   ]
  },
  {
   "cell_type": "markdown",
   "metadata": {},
   "source": [
    "## New \n",
    "Widget for creating new graph, NOT from data."
   ]
  },
  {
   "cell_type": "markdown",
   "metadata": {},
   "source": [
    "### Widget"
   ]
  },
  {
   "cell_type": "code",
   "execution_count": 3,
   "metadata": {},
   "outputs": [
    {
     "data": {
      "application/vnd.jupyter.widget-view+json": {
       "model_id": "37541e5b30704199b9de135bd4350cfa",
       "version_major": 2,
       "version_minor": 0
      },
      "text/plain": [
       "HTML(value='\\n<h4>Click <font color=\"blue\">Create</font> to start a new graph <font color=\"red\">from scratch.<…"
      ]
     },
     "metadata": {},
     "output_type": "display_data"
    }
   ],
   "source": [
    "wImport_new = ipw.HTML(\"\"\"\n",
    "<h4>Click <font color=\"blue\">Create</font> to start a new graph <font color=\"red\">from scratch.</font></h4>\n",
    "<h4><small>Use the features below to then create your graph.</small></h4>\n",
    "\"\"\")\n",
    "wImport_new"
   ]
  },
  {
   "cell_type": "markdown",
   "metadata": {},
   "source": [
    "### Functionality"
   ]
  },
  {
   "cell_type": "markdown",
   "metadata": {},
   "source": [
    "## my_data Folder"
   ]
  },
  {
   "cell_type": "markdown",
   "metadata": {},
   "source": [
    "### Widget"
   ]
  },
  {
   "cell_type": "markdown",
   "metadata": {},
   "source": [
    "Currently this only works looks for \".sif\" files"
   ]
  },
  {
   "cell_type": "code",
   "execution_count": 4,
   "metadata": {},
   "outputs": [
    {
     "data": {
      "application/vnd.jupyter.widget-view+json": {
       "model_id": "3af2671db10846a2aa9cda720b3fa154",
       "version_major": 2,
       "version_minor": 0
      },
      "text/plain": [
       "VBox(children=(HTML(value=\"<h5>Select a dataset from the folder <a href='./my_data'>my_data</a> :</h5>\"), Drop…"
      ]
     },
     "metadata": {},
     "output_type": "display_data"
    }
   ],
   "source": [
    "wImport_local_text = ipw.HTML(\"<h5>Select a dataset from the folder <a href='./my_data'>my_data</a> :</h5>\")\n",
    "files = os.listdir(\"./my_data\")\n",
    "files = [ x for x in files if \".sif\" in x]\n",
    "wImport_local_select = ipw.Dropdown(options=files, description='Files :')\n",
    "wImport_local = ipw.VBox([wImport_local_text, wImport_local_select])\n",
    "wImport_local "
   ]
  },
  {
   "cell_type": "markdown",
   "metadata": {},
   "source": [
    "### Functionality"
   ]
  },
  {
   "cell_type": "code",
   "execution_count": 5,
   "metadata": {},
   "outputs": [],
   "source": [
    "def importLocal():\n",
    "    filename = wImport_local_select.value\n",
    "    display(HTML(\"<hr><font size=4><b style='color: magenta'>Using Dataset : </b> \"+filename+\"</font>\"))\n",
    "    df = pd.read_csv(\"./my_data/\"+filename, delim_whitespace=True, header=None) #<-- reading in data\n",
    "    df= pd.DataFrame( df[ (df[0]!='?')&(df[1]!='?')&(df[2]!='?') ])     #<-- remove missing data values\n",
    "    nodes = np.unique( df[0].values.tolist() + df[2].values.tolist() )  #<-- get nodes"
   ]
  },
  {
   "cell_type": "code",
   "execution_count": null,
   "metadata": {},
   "outputs": [],
   "source": []
  },
  {
   "cell_type": "code",
   "execution_count": null,
   "metadata": {},
   "outputs": [],
   "source": []
  },
  {
   "cell_type": "markdown",
   "metadata": {},
   "source": [
    "## NDEx"
   ]
  },
  {
   "cell_type": "markdown",
   "metadata": {},
   "source": [
    "### Widget"
   ]
  },
  {
   "cell_type": "code",
   "execution_count": 9,
   "metadata": {},
   "outputs": [
    {
     "data": {
      "application/vnd.jupyter.widget-view+json": {
       "model_id": "4a2f09425b044242bf4b748e080e1b02",
       "version_major": 2,
       "version_minor": 0
      },
      "text/plain": [
       "VBox(children=(HTML(value='<h5>Paste the NDEx URL of the dataset to download :</h5>'), HBox(children=(VBox(chi…"
      ]
     },
     "metadata": {},
     "output_type": "display_data"
    }
   ],
   "source": [
    "# We create the Second widget for Downloading from a website\n",
    "wImport_ndex_text = ipw.HTML(\"<h5>Paste the NDEx URL of the dataset to download :</h5>\")\n",
    "wImport_ndex_username = ipw.Text(description='Username :')\n",
    "wImport_ndex_password = ipw.Password(description='Password :')\n",
    "wImport_ndex_login = ipw.VBox([ wImport_ndex_username, wImport_ndex_password  ])\n",
    "wImport_ndex_url = ipw.Text(description='URL :')\n",
    "wImport_ndex = ipw.VBox([wImport_ndex_text, ipw.HBox([wImport_ndex_login, wImport_ndex_url]) ])\n",
    "wImport_ndex"
   ]
  },
  {
   "cell_type": "markdown",
   "metadata": {},
   "source": [
    "### Functionality"
   ]
  },
  {
   "cell_type": "code",
   "execution_count": 10,
   "metadata": {},
   "outputs": [],
   "source": [
    "def importNdex():\n",
    "    global cx\n",
    "    url = wImport_ndex_url.value.split(\"network/\")[1]\n",
    "    cx = ndex2.create_nice_cx_from_server(server='public.ndexbio.org', username= wImport_ndex_username.value,\n",
    "                                          password= wImport_ndex_password.value, uuid= url)\n",
    "    display(HTML(\"<hr><font size=4><b style='color: magenta'>Downloaded :</b> <a href='\"+wImport_ndex_url.value+\"'>This Network</a>  \"\"</font>\"))"
   ]
  },
  {
   "cell_type": "code",
   "execution_count": null,
   "metadata": {},
   "outputs": [],
   "source": []
  },
  {
   "cell_type": "code",
   "execution_count": null,
   "metadata": {},
   "outputs": [],
   "source": []
  },
  {
   "cell_type": "code",
   "execution_count": null,
   "metadata": {},
   "outputs": [],
   "source": []
  },
  {
   "cell_type": "markdown",
   "metadata": {},
   "source": [
    "# Create Widget"
   ]
  },
  {
   "cell_type": "markdown",
   "metadata": {},
   "source": [
    "### Widget"
   ]
  },
  {
   "cell_type": "code",
   "execution_count": 11,
   "metadata": {},
   "outputs": [
    {
     "data": {
      "application/vnd.jupyter.widget-view+json": {
       "model_id": "c7cb6136e6504aa38a0d01eddc12ab69",
       "version_major": 2,
       "version_minor": 0
      },
      "text/plain": [
       "Tab(children=(HTML(value='\\n<h4>Click <font color=\"blue\">Create</font> to start a new graph <font color=\"red\">…"
      ]
     },
     "metadata": {},
     "output_type": "display_data"
    },
    {
     "data": {
      "text/html": [
       "<div class=\"row\"><div class=\"col-6\">"
      ],
      "text/plain": [
       "<IPython.core.display.HTML object>"
      ]
     },
     "metadata": {},
     "output_type": "display_data"
    },
    {
     "data": {
      "application/vnd.jupyter.widget-view+json": {
       "model_id": "67faf6597e6a4df8a014618c34ab15e7",
       "version_major": 2,
       "version_minor": 0
      },
      "text/plain": [
       "Button(button_style='info', description='Create', style=ButtonStyle(), tooltip='Use the above box to import da…"
      ]
     },
     "metadata": {},
     "output_type": "display_data"
    },
    {
     "data": {
      "text/html": [
       "</div></div>"
      ],
      "text/plain": [
       "<IPython.core.display.HTML object>"
      ]
     },
     "metadata": {},
     "output_type": "display_data"
    }
   ],
   "source": [
    "# We put both widgets into a tab widget and display it\n",
    "wImport = ipw.Tab()\n",
    "wImport.children = [wImport_new, wImport_local, wImport_ndex]\n",
    "wImport.set_title(0, \"New\")\n",
    "wImport.set_title(1, \"my_data Folder\")\n",
    "wImport.set_title(2, \"NDEx\")\n",
    "display(wImport)\n",
    "\n",
    "wImport_btn= ipw.Button(description='Create',button_style='info', tooltip=\"Use the above box to import data\" )\n",
    "display(HTML('<div class=\"row\"><div class=\"col-6\">'))\n",
    "display(wImport_btn)\n",
    "display(HTML(\"</div></div>\"))"
   ]
  },
  {
   "cell_type": "markdown",
   "metadata": {},
   "source": [
    "### Functionality"
   ]
  },
  {
   "cell_type": "code",
   "execution_count": 12,
   "metadata": {},
   "outputs": [],
   "source": [
    "def importClicked(b):\n",
    "    clear_output();\n",
    "    display(wImport);display(wImport_btn); #<-- stuff from before\n",
    "    \n",
    "    if wImport.selected_index == 0:  #<--  Create New\n",
    "        \n",
    "        \n",
    "        display(\"do something\")\n",
    "\n",
    "\n",
    "    elif( wImport.selected_index == 1 ): #<--  Local folder\n",
    "        pass\n",
    "        \n",
    "    elif( wImport.selected_index == 2 ): #<--  NDEX\n",
    "        pass\n",
    "    \n",
    "\n",
    "wImport_btn.on_click( importClicked )"
   ]
  },
  {
   "cell_type": "code",
   "execution_count": null,
   "metadata": {},
   "outputs": [],
   "source": []
  },
  {
   "cell_type": "code",
   "execution_count": null,
   "metadata": {},
   "outputs": [],
   "source": []
  },
  {
   "cell_type": "code",
   "execution_count": null,
   "metadata": {},
   "outputs": [],
   "source": []
  },
  {
   "cell_type": "code",
   "execution_count": null,
   "metadata": {},
   "outputs": [],
   "source": []
  }
 ],
 "metadata": {
  "hide_input": false,
  "kernelspec": {
   "display_name": "Python 3",
   "language": "python",
   "name": "python3"
  },
  "language_info": {
   "codemirror_mode": {
    "name": "ipython",
    "version": 3
   },
   "file_extension": ".py",
   "mimetype": "text/x-python",
   "name": "python",
   "nbconvert_exporter": "python",
   "pygments_lexer": "ipython3",
   "version": "3.6.5"
  },
  "toc": {
   "base_numbering": 1,
   "nav_menu": {},
   "number_sections": true,
   "sideBar": true,
   "skip_h1_title": false,
   "title_cell": "Table of Contents",
   "title_sidebar": "Contents",
   "toc_cell": false,
   "toc_position": {},
   "toc_section_display": true,
   "toc_window_display": false
  },
  "varInspector": {
   "cols": {
    "lenName": 16,
    "lenType": 16,
    "lenVar": 40
   },
   "kernels_config": {
    "python": {
     "delete_cmd_postfix": "",
     "delete_cmd_prefix": "del ",
     "library": "var_list.py",
     "varRefreshCmd": "print(var_dic_list())"
    },
    "r": {
     "delete_cmd_postfix": ") ",
     "delete_cmd_prefix": "rm(",
     "library": "var_list.r",
     "varRefreshCmd": "cat(var_dic_list()) "
    }
   },
   "types_to_exclude": [
    "module",
    "function",
    "builtin_function_or_method",
    "instance",
    "_Feature"
   ],
   "window_display": false
  }
 },
 "nbformat": 4,
 "nbformat_minor": 2
}
