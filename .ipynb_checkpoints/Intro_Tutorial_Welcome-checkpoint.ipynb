{
 "cells": [
  {
   "cell_type": "markdown",
   "metadata": {},
   "source": [
    "<img class=\"img-responsive\" width=\"50%\" src=\"./source_code/logo.jpeg\" alt=\"logo\">"
   ]
  },
  {
   "cell_type": "code",
   "execution_count": 418,
   "metadata": {
    "collapsed": true
   },
   "outputs": [],
   "source": [
    "import sys\n",
    "import os\n",
    "import json\n",
    "import pandas as pd\n",
    "import numpy as np"
   ]
  },
  {
   "cell_type": "code",
   "execution_count": 419,
   "metadata": {
    "collapsed": true
   },
   "outputs": [],
   "source": [
    "import ipywidgets as widgets\n",
    "from ipywidgets import interact, interactive, fixed, interact_manual\n",
    "import ipywidgets as ipw\n",
    "from IPython.core.display import HTML, display\n"
   ]
  },
  {
   "cell_type": "code",
   "execution_count": 420,
   "metadata": {
    "collapsed": true
   },
   "outputs": [],
   "source": [
    "from IPython.display import clear_output"
   ]
  },
  {
   "cell_type": "markdown",
   "metadata": {},
   "source": [
    "# Safety Code"
   ]
  },
  {
   "cell_type": "markdown",
   "metadata": {
    "heading_collapsed": true
   },
   "source": [
    "## Dislay Mods (Save till End)"
   ]
  },
  {
   "cell_type": "markdown",
   "metadata": {
    "hidden": true
   },
   "source": [
    "display(HTML(\"\"\"\n",
    "<head>\n",
    "  <title>Bootstrap Example</title>\n",
    "  <meta charset=\"utf-8\">\n",
    "  <meta name=\"viewport\" content=\"width=device-width, initial-scale=1\">\n",
    "  <link rel=\"stylesheet\" href=\"https://maxcdn.bootstrapcdn.com/bootstrap/3.3.7/css/bootstrap.min.css\">\n",
    "  <script src=\"https://ajax.googleapis.com/ajax/libs/jquery/3.3.1/jquery.min.js\"></script>\n",
    "  <script src=\"https://maxcdn.bootstrapcdn.com/bootstrap/3.3.7/js/bootstrap.min.js\"></script>\n",
    "</head>\n",
    "\"\"\"))"
   ]
  },
  {
   "cell_type": "markdown",
   "metadata": {
    "hidden": true
   },
   "source": [
    "from IPython.core.display import display, HTML\n",
    "display(HTML(\"<style> *{margin:0; padding:0;} html, body, \\\n",
    "             .container{margin:10;!important padding:0;!important} \\\n",
    "             .container { width:95% !important;}</style>\"))\n",
    "             "
   ]
  },
  {
   "cell_type": "code",
   "execution_count": 326,
   "metadata": {
    "hidden": true
   },
   "outputs": [
    {
     "data": {
      "text/plain": [
       "'\\n<div class=\"jumbotron\" style=\"background-color: white;\">\\n    <h1>Build a Dataset</h1>\\n</div>\\n'"
      ]
     },
     "execution_count": 326,
     "metadata": {},
     "output_type": "execute_result"
    }
   ],
   "source": [
    "\"\"\"\n",
    "<div class=\"jumbotron\" style=\"background-color: white;\">\n",
    "    <h1>Build a Dataset</h1>\n",
    "</div>\n",
    "\"\"\""
   ]
  },
  {
   "cell_type": "markdown",
   "metadata": {},
   "source": [
    "## JS Code"
   ]
  },
  {
   "cell_type": "code",
   "execution_count": 257,
   "metadata": {
    "collapsed": true
   },
   "outputs": [],
   "source": [
    "# This is a complete JS template\n",
    "js = \"\"\"\n",
    "<script>\n",
    "    var cy = cytoscape({\n",
    "        container: document.getElementById('cy'),\n",
    "        elements: [\n",
    "            { data: { id: 'a' } },\n",
    "            { data: { id: 'b' } },\n",
    "            {\n",
    "                data: {\n",
    "                    id: 'ab',\n",
    "                    source: 'a',\n",
    "                    target: 'b'\n",
    "                }\n",
    "            }]\n",
    "    });\n",
    "</script>\n",
    "\"\"\""
   ]
  },
  {
   "cell_type": "code",
   "execution_count": 268,
   "metadata": {
    "collapsed": true
   },
   "outputs": [],
   "source": [
    "js_head = \"\"\"<script> var cy = cytoscape({ container: document.getElementById('cy'), \\n\"\"\""
   ]
  },
  {
   "cell_type": "code",
   "execution_count": 269,
   "metadata": {
    "collapsed": true
   },
   "outputs": [],
   "source": [
    "js_elements= \"\"\"\n",
    "elements: [\n",
    "            { data: { id: 'a' } },\n",
    "            { data: { id: 'b' } },\n",
    "            {\n",
    "                data: {\n",
    "                    id: 'ab',\n",
    "                    source: 'a',\n",
    "                    target: 'b'\n",
    "                }\n",
    "            }]\n",
    "\"\"\""
   ]
  },
  {
   "cell_type": "code",
   "execution_count": 233,
   "metadata": {},
   "outputs": [
    {
     "name": "stdout",
     "output_type": "stream",
     "text": [
      "<script> var cy= cytoscape({ conatiner: document.getElementById('cy'), \n",
      "elements: [ \n",
      "{ data: { id: 'a' } }, \n",
      "{ data: { id: 'b' } }, \n",
      "{data: { id:'ab', source:'a', target:'b' } }\n",
      " ] \n",
      "\n",
      " }); </script>\n"
     ]
    }
   ],
   "source": [
    "print(js)"
   ]
  },
  {
   "cell_type": "code",
   "execution_count": null,
   "metadata": {
    "collapsed": true
   },
   "outputs": [],
   "source": [
    "js_layout = \"layout: { name: 'cose' }, \\n\"\n",
    "@interact( Layout = ['cose','circle','grid','random','breadthfirst'] )\n",
    "def getLayout( Layout ):\n",
    "    global js_layout\n",
    "    js_layout = \"layout: { name: '\"+Layout+\"' }, \\n\""
   ]
  },
  {
   "cell_type": "markdown",
   "metadata": {
    "collapsed": true,
    "heading_collapsed": true
   },
   "source": [
    "# Welcome to Judoscape!"
   ]
  },
  {
   "cell_type": "markdown",
   "metadata": {
    "hidden": true
   },
   "source": [
    "<font color=\"magenta\">**Judoscape**</font> is a [jupyter](http://jupyter.org/index.html) based framework for for easily running cytoscape with ** *no coding knowledge required* **. The entire platform is cloud based, you don't need to download anything, just login to start! Furthermore, sharing scientific results is a breeze. When you're done with this notebook, give it to your colleagues and they can instantly replicate it on <font color=\"magenta\">Judoscape</font>."
   ]
  },
  {
   "cell_type": "markdown",
   "metadata": {
    "hidden": true
   },
   "source": [
    "<font color=\"red\">**Before you continue**</font> please watch the tutorial video below to get a better idea of what the <font color=\"magenta\">Judoscape</font> software is and how it works."
   ]
  },
  {
   "cell_type": "code",
   "execution_count": 477,
   "metadata": {
    "hidden": true,
    "scrolled": false
   },
   "outputs": [
    {
     "data": {
      "text/html": [
       "\n",
       "<div class=\"embed-responsive embed-responsive-16by9\">\n",
       "  <iframe class=\"embed-responsive-item\" \n",
       "  src='https://www.youtube.com/embed/tgbNymZ7vqY'></iframe>\n",
       "</div>\n"
      ],
      "text/plain": [
       "<IPython.core.display.HTML object>"
      ]
     },
     "execution_count": 477,
     "metadata": {},
     "output_type": "execute_result"
    }
   ],
   "source": [
    "HTML(\"\"\"\n",
    "<div class=\"embed-responsive embed-responsive-16by9\">\n",
    "  <iframe class=\"embed-responsive-item\" \n",
    "  src='https://www.youtube.com/embed/tgbNymZ7vqY'></iframe>\n",
    "</div>\n",
    "\"\"\")"
   ]
  },
  {
   "cell_type": "markdown",
   "metadata": {
    "collapsed": true
   },
   "source": [
    "# Build a Dataset"
   ]
  },
  {
   "cell_type": "markdown",
   "metadata": {},
   "source": [
    "In this section will will choose a dataset to work on. There are **2** ways to create a datast:\n",
    "\n",
    "1. Choose a dataset on this machine from [my_data](./my_data)\n",
    "2. Choose a dataset from the internet\n",
    "\n",
    "<font color=\"magenta\">**From my_data : **</font>The folder, [my_data](./my_data), contains datasets that you can load into this notebook. You can also upload a dataset from your computer to the [my_data](./my_data) folder. To view new files added to [my_data](./my_data) update the program by running all the cells again.\n",
    "\n",
    "\n",
    "<font color=\"magenta\">** The Internet : **</font> I dataset can be downloaded from the internet as well. Type the <font color=\"green\">URL</font> of the dataset to download it into this notebook."
   ]
  },
  {
   "cell_type": "code",
   "execution_count": 436,
   "metadata": {
    "collapsed": true
   },
   "outputs": [],
   "source": [
    "# We create the First widget for selecting Data\n",
    "widg1_text = ipw.HTML(\"<h5>Select a dataset from the folder <a href='./my_data'>my_data</a> :</h5>\")\n",
    "files = os.listdir(\"./my_data\")\n",
    "files = [ x for x in files if \".sif\" in x]\n",
    "widg1_select = ipw.Dropdown(options=files, description='Files :')\n",
    "widg1 = ipw.VBox([widg1_text, widg1_select])"
   ]
  },
  {
   "cell_type": "code",
   "execution_count": 437,
   "metadata": {
    "collapsed": true
   },
   "outputs": [],
   "source": [
    "# We create the Second widget for Downloading from a website\n",
    "widg2_text = ipw.HTML(\"<h4 style='color: red'>Note: This functionality is not complete yet</h4> \\\n",
    "                        <h5>Type the URL of the dataset to download :</h5>\")\n",
    "widg2_select = ipw.Text(options=files, description='Data URL :')\n",
    "widg2 = ipw.VBox([widg2_text, widg2_select])"
   ]
  },
  {
   "cell_type": "code",
   "execution_count": 453,
   "metadata": {},
   "outputs": [
    {
     "data": {
      "application/vnd.jupyter.widget-view+json": {
       "model_id": "126a890801d0413fbe274cce4ad2f392",
       "version_major": 2,
       "version_minor": 0
      },
      "text/plain": [
       "A Jupyter Widget"
      ]
     },
     "metadata": {},
     "output_type": "display_data"
    }
   ],
   "source": [
    "# We put both widgets into a tab widget and display it\n",
    "tab = ipw.Tab()\n",
    "tab.children = [widg1, widg2]\n",
    "tab.set_title(0, \"my_data Folder\")\n",
    "tab.set_title(1, \"The Internet\")\n",
    "tab"
   ]
  },
  {
   "cell_type": "code",
   "execution_count": 473,
   "metadata": {},
   "outputs": [
    {
     "data": {
      "application/vnd.jupyter.widget-view+json": {
       "model_id": "b3fe159aef6a475cbc4de9309cae530e",
       "version_major": 2,
       "version_minor": 0
      },
      "text/plain": [
       "A Jupyter Widget"
      ]
     },
     "metadata": {},
     "output_type": "display_data"
    },
    {
     "data": {
      "text/html": [
       "<hr><font size=4><b>Using Dataset : </b> galFiltered.sif</font>"
      ],
      "text/plain": [
       "<IPython.core.display.HTML object>"
      ]
     },
     "metadata": {},
     "output_type": "display_data"
    }
   ],
   "source": [
    "# We now get the data's filename according to the user's selection from the tab widget\n",
    "data_btn= ipw.Button(description='Get Data',button_style='info', tooltip=\"Use the above box to import data\" )\n",
    "display(data_btn)\n",
    "\n",
    "df, nodes = None, None  \n",
    "def on_get_data_clicked(b):\n",
    "    global df; global nodes;  #<-- this is where we put the dataset's dataframe and the node names\n",
    "    clear_output();display(data_btn)  #<-- in case the button was clicked before, we reset output\n",
    "    \n",
    "    if tab.selected_index == 1:  #<--  What to do if data comes from internet\n",
    "        display(HTML(\"<h4 style='color: red'>This functionality is not complete. Use my_data folder</h4>\"))\n",
    "        return\n",
    "    elif( tab.selected_index == 0 ): #<--  What to do if data comes from local folder\n",
    "        filename = widg1_select.value\n",
    "        display(HTML(\"<hr><font size=4><b>Using Dataset : </b> \"+filename+\"</font>\"))\n",
    "        df = pd.read_csv(\"./my_data/\"+filename, delim_whitespace=True, header=None) #<-- reading in data\n",
    "        df= pd.DataFrame( df[ (df[0]!='?')&(df[1]!='?')&(df[2]!='?') ])  #<-- remove missing data values\n",
    "        nodes = np.unique( df[0].values.tolist() + df[2].values.tolist() )  #<-- get nodes\n",
    "    \n",
    "data_btn.on_click(on_get_data_clicked)"
   ]
  },
  {
   "cell_type": "markdown",
   "metadata": {
    "collapsed": true
   },
   "source": [
    "# Visualize the Data"
   ]
  },
  {
   "cell_type": "markdown",
   "metadata": {},
   "source": [
    "## Data Summary"
   ]
  },
  {
   "cell_type": "markdown",
   "metadata": {},
   "source": [
    "Now that you have selected a dataset, let look at some basic features to get a better understanding of what is happening in with your data. **Click the button** below to get to see how many <font color=\"blue\">nodes</font> and  <font color=\"blue\">edges</font> your data contains, and to view the first few datapoints."
   ]
  },
  {
   "cell_type": "code",
   "execution_count": 476,
   "metadata": {},
   "outputs": [
    {
     "data": {
      "application/vnd.jupyter.widget-view+json": {
       "model_id": "4b610c506d6a40509ba1c43d496957f4",
       "version_major": 2,
       "version_minor": 0
      },
      "text/plain": [
       "A Jupyter Widget"
      ]
     },
     "metadata": {},
     "output_type": "display_data"
    },
    {
     "data": {
      "text/html": [
       "<hr><p><b>Number of Nodes : </b>330</p>                       <p><b>Number of Edges : </b>359</p>"
      ],
      "text/plain": [
       "<IPython.core.display.HTML object>"
      ]
     },
     "metadata": {},
     "output_type": "display_data"
    },
    {
     "data": {
      "text/html": [
       "<div>\n",
       "<style>\n",
       "    .dataframe thead tr:only-child th {\n",
       "        text-align: right;\n",
       "    }\n",
       "\n",
       "    .dataframe thead th {\n",
       "        text-align: left;\n",
       "    }\n",
       "\n",
       "    .dataframe tbody tr th {\n",
       "        vertical-align: top;\n",
       "    }\n",
       "</style>\n",
       "<table border=\"1\" class=\"dataframe\">\n",
       "  <thead>\n",
       "    <tr style=\"text-align: right;\">\n",
       "      <th></th>\n",
       "      <th>0</th>\n",
       "      <th>1</th>\n",
       "      <th>2</th>\n",
       "    </tr>\n",
       "  </thead>\n",
       "  <tbody>\n",
       "    <tr>\n",
       "      <th>0</th>\n",
       "      <td>YKR026C</td>\n",
       "      <td>pp</td>\n",
       "      <td>YGL122C</td>\n",
       "    </tr>\n",
       "    <tr>\n",
       "      <th>1</th>\n",
       "      <td>YGR218W</td>\n",
       "      <td>pp</td>\n",
       "      <td>YGL097W</td>\n",
       "    </tr>\n",
       "    <tr>\n",
       "      <th>2</th>\n",
       "      <td>YGL097W</td>\n",
       "      <td>pp</td>\n",
       "      <td>YOR204W</td>\n",
       "    </tr>\n",
       "    <tr>\n",
       "      <th>3</th>\n",
       "      <td>YLR249W</td>\n",
       "      <td>pp</td>\n",
       "      <td>YPR080W</td>\n",
       "    </tr>\n",
       "    <tr>\n",
       "      <th>4</th>\n",
       "      <td>YLR249W</td>\n",
       "      <td>pp</td>\n",
       "      <td>YBR118W</td>\n",
       "    </tr>\n",
       "    <tr>\n",
       "      <th>5</th>\n",
       "      <td>YLR293C</td>\n",
       "      <td>pp</td>\n",
       "      <td>YGL097W</td>\n",
       "    </tr>\n",
       "    <tr>\n",
       "      <th>6</th>\n",
       "      <td>YMR146C</td>\n",
       "      <td>pp</td>\n",
       "      <td>YDR429C</td>\n",
       "    </tr>\n",
       "  </tbody>\n",
       "</table>\n",
       "</div>"
      ],
      "text/plain": [
       "         0   1        2\n",
       "0  YKR026C  pp  YGL122C\n",
       "1  YGR218W  pp  YGL097W\n",
       "2  YGL097W  pp  YOR204W\n",
       "3  YLR249W  pp  YPR080W\n",
       "4  YLR249W  pp  YBR118W\n",
       "5  YLR293C  pp  YGL097W\n",
       "6  YMR146C  pp  YDR429C"
      ]
     },
     "metadata": {},
     "output_type": "display_data"
    }
   ],
   "source": [
    "# We now get the data's filename according to the user's selection from the tab widget\n",
    "summary_btn= ipw.Button(description='View Summary',button_style='info', tooltip=\"Click for Data Summary\" )\n",
    "display(summary_btn)\n",
    "\n",
    "def on_summary_clicked(b):\n",
    "    clear_output(); display(summary_btn)  #<-- in case the button was clicked before, we reset output\n",
    "    if type(df) == type(None):   #<-- this occures if user didn't click the \"Get Data\" button \n",
    "        display(HTML(\"<h3 style='color: red'>You must First Build a Dataset</h3>\"))\n",
    "    else :\n",
    "        display(HTML(\"<hr><p><b>Number of Nodes : </b>\"+str(len(nodes))+\"</p> \\\n",
    "                      <p><b>Number of Edges : </b>\"+str(len(df))+\"</p>\"))\n",
    "        display(df[0:7])\n",
    "summary_btn.on_click(on_summary_clicked)"
   ]
  },
  {
   "cell_type": "markdown",
   "metadata": {
    "collapsed": true
   },
   "source": [
    "## Create Graph"
   ]
  },
  {
   "cell_type": "markdown",
   "metadata": {},
   "source": [
    "If you like, you can use the tools below to change what you graph will look like:"
   ]
  },
  {
   "cell_type": "code",
   "execution_count": 565,
   "metadata": {},
   "outputs": [
    {
     "data": {
      "application/vnd.jupyter.widget-view+json": {
       "model_id": "92393927eee14bfd968e9af827a25cb4",
       "version_major": 2,
       "version_minor": 0
      },
      "text/plain": [
       "A Jupyter Widget"
      ]
     },
     "metadata": {},
     "output_type": "display_data"
    }
   ],
   "source": [
    "# We create the widgets for graph settings\n",
    "widg_layout = ipw.Dropdown(options=['cose','circle','grid','random','breadthfirst'], description='Layout : ')\n",
    "widg_color = ipw.ColorPicker(  description='Color : ', value='gray' )\n",
    "display( ipw.HBox([widg_layout ,widg_color]) )"
   ]
  },
  {
   "cell_type": "code",
   "execution_count": 566,
   "metadata": {},
   "outputs": [],
   "source": [
    "# Helper Functions: getLayout and getStyle\n",
    "# getLayout: used to create the layout when we create the graph\n",
    "def getLayout(layout):\n",
    "    return \"layout: { name: '\"+layout+\"' }, \\n\"\n",
    "# getStyle: uses widg_color to create the style (specifically the color) of the graph\n",
    "def getStyle( color ):\n",
    "    return \"style: [ { selector: 'node', style: { 'height': 20, 'width': 20, 'background-color': '\"+color+\"' } },\\n \\\n",
    "{ selector: 'edge', style: { 'width': 5, 'opacity': 0.5, 'line-color': '\"+color+\"'} } ], \\n \""
   ]
  },
  {
   "cell_type": "code",
   "execution_count": null,
   "metadata": {
    "collapsed": true
   },
   "outputs": [],
   "source": [
    "\"\"\"\n",
    "style: [\n",
    "    {\n",
    "        selector: 'node',\n",
    "        style: {\n",
    "            shape: 'hexagon',\n",
    "            'background-color': 'red'\n",
    "        }\n",
    "    }]   \n",
    "\"\"\""
   ]
  },
  {
   "cell_type": "code",
   "execution_count": null,
   "metadata": {
    "collapsed": true
   },
   "outputs": [],
   "source": [
    "\"\"\"\n",
    "style: [\n",
    "{\n",
    "  selector: 'node',\n",
    "  style: {\n",
    "    'height': 20,\n",
    "    'width': 20,\n",
    "    'background-color': '#e8e406'\n",
    "  }\n",
    "},\n",
    "\n",
    "{\n",
    "  selector: 'edge',\n",
    "  style: {\n",
    "    'curve-style': 'haystack',\n",
    "    'haystack-radius': 0,\n",
    "    'width': 5,\n",
    "    'opacity': 0.5,\n",
    "    'line-color': '#f2f08c'\n",
    "  }\n",
    "}\n",
    "],\n",
    "\"\"\""
   ]
  },
  {
   "cell_type": "markdown",
   "metadata": {},
   "source": [
    "When you are satistified with your graph settings, click the button below to **create your graph**."
   ]
  },
  {
   "cell_type": "code",
   "execution_count": 517,
   "metadata": {},
   "outputs": [],
   "source": [
    "# We save our graph into an html file and call the html file to create the graph\n",
    "# This is the basic template for the html, we then add the javascript code of the graph to it\n",
    "html = \"\"\"<html>\n",
    "    <head><script src=\"http://blog.js.cytoscape.org/public/demos/getting-started/cytoscape.js\"></script></head>\n",
    "    <style> #cy { width: 100%; height: 100%; position: absolute; top: 0px; left: 0px;} </style>\n",
    "    <body><div id=\"cy\"></div></body>\n",
    "</html>\\n\\n\"\"\""
   ]
  },
  {
   "cell_type": "code",
   "execution_count": 518,
   "metadata": {
    "collapsed": true
   },
   "outputs": [],
   "source": [
    "js_head = \"<script> var cy = cytoscape({ container: document.getElementById('cy'), \\n\" #<-- starting code\n",
    "js_tail=\"\\n }); </script>\" #<-- ending code"
   ]
  },
  {
   "cell_type": "code",
   "execution_count": 519,
   "metadata": {
    "collapsed": true
   },
   "outputs": [],
   "source": [
    "### Helper Function: getElements(df)\n",
    "# This create the nodes/edges in the correct format for cytoscape.js\n",
    "def getElements(df):\n",
    "    # Add nodes to the js file\n",
    "    js_elements = \"elements: [ \\n\"\n",
    "    for i in names:\n",
    "        js_elements += \"{ data: { id: '\"+i+\"'} }, \\n\"\n",
    "        \n",
    "    # Add edges to the js file\n",
    "    for i in range(len(df)):\n",
    "        word = df.iloc[i].values\n",
    "        js_elements += \"{data: { id:'\"+str(i)+\"', source:'\"+ word[0]+\"', target:'\"+word[2]+\"' } }, \\n\"    \n",
    "    js_elements += \"]\\n\"\n",
    "    \n",
    "    return js_elements"
   ]
  },
  {
   "cell_type": "code",
   "execution_count": 567,
   "metadata": {},
   "outputs": [
    {
     "data": {
      "application/vnd.jupyter.widget-view+json": {
       "model_id": "d498d4135edf4d3ba164df332a77e495",
       "version_major": 2,
       "version_minor": 0
      },
      "text/plain": [
       "A Jupyter Widget"
      ]
     },
     "metadata": {},
     "output_type": "display_data"
    },
    {
     "data": {
      "text/html": [
       "<hr>\n",
       "        <div class=\"embed-responsive embed-responsive-4by3\">\n",
       "          <iframe class=\"embed-responsive-item\" \n",
       "          src='./source_code/graph.html'></iframe>\n",
       "        </div>\n",
       "        "
      ],
      "text/plain": [
       "<IPython.core.display.HTML object>"
      ]
     },
     "metadata": {},
     "output_type": "display_data"
    }
   ],
   "source": [
    "# We now get the data's filename according to the user's selection from the tab widget\n",
    "graph_btn= ipw.Button(description='Create Graph!',button_style='info', tooltip=\"Click to Create Graph!\" )\n",
    "display(graph_btn)\n",
    "\n",
    "def on_graph_clicked(b):\n",
    "    global js_elements\n",
    "    clear_output(); display(graph_btn)  #<-- in case the button was clicked before, we reset output\n",
    "    if type(df) == type(None):   #<-- this occures if user didn't click the \"Get Data\" button \n",
    "        display(HTML(\"<h3 style='color: red'>You must First Build a Dataset</h3>\"))\n",
    "    # This creates the graph!\n",
    "    else : \n",
    "        # Get js templates with corresponding helper functions\n",
    "        js_layout = getLayout( widg_layout.value )\n",
    "        js_style  = getStyle( widg_color.value )\n",
    "        js_elements = getElements(df)\n",
    "           \n",
    "        js = js_head+ js_layout+ js_style+ js_elements+ js_tail #<-- create final js file of graph\n",
    "        with open(\"./source_code/graph.html\",\"w\") as file: #<-- Add html and js to the HTML file\n",
    "            file.write( html+js )\n",
    "        display(HTML(\"\"\"<hr>\n",
    "        <div class=\"embed-responsive embed-responsive-4by3\">\n",
    "          <iframe class=\"embed-responsive-item\" \n",
    "          src='./source_code/graph.html'></iframe>\n",
    "        </div>\n",
    "        \"\"\")) #<-- display the newly created html file\n",
    "\n",
    "graph_btn.on_click(on_graph_clicked)"
   ]
  },
  {
   "cell_type": "code",
   "execution_count": null,
   "metadata": {
    "collapsed": true
   },
   "outputs": [],
   "source": []
  },
  {
   "cell_type": "code",
   "execution_count": 292,
   "metadata": {
    "collapsed": true
   },
   "outputs": [],
   "source": []
  },
  {
   "cell_type": "code",
   "execution_count": 122,
   "metadata": {
    "collapsed": true
   },
   "outputs": [],
   "source": [
    "js_style = \"\"\" style: [\n",
    "        { selector: 'node', style: { 'height': 20, 'width': 20,'background-color': '#e8e406'} } ,\n",
    "        {\n",
    "          selector: 'edge',\n",
    "          style: {'curve-style': 'haystack', 'haystack-radius': 0, 'width': 5,'opacity': 0.5, 'line-color': '#f2f08c'}\n",
    "        }] ,  \n",
    "\"\"\""
   ]
  },
  {
   "cell_type": "code",
   "execution_count": 253,
   "metadata": {
    "collapsed": true
   },
   "outputs": [],
   "source": []
  },
  {
   "cell_type": "code",
   "execution_count": 304,
   "metadata": {
    "collapsed": true
   },
   "outputs": [],
   "source": [
    "#js= js_head + js_layout + js_style + js_elements + js_tail\n"
   ]
  },
  {
   "cell_type": "code",
   "execution_count": 305,
   "metadata": {},
   "outputs": [
    {
     "name": "stdout",
     "output_type": "stream",
     "text": [
      "<script> var cy = cytoscape({ container: document.getElementById('cy'), \n",
      "elements: [ \n",
      "{ data: { id: 'a' } }, \n",
      "{ data: { id: 'b' } }, \n",
      "{ data: { id:'ab', source:'a', target:'b' } },\n",
      " ] \n",
      "\n",
      " }); </script>\n"
     ]
    }
   ],
   "source": [
    "print( js )"
   ]
  },
  {
   "cell_type": "code",
   "execution_count": 222,
   "metadata": {
    "collapsed": true
   },
   "outputs": [],
   "source": []
  },
  {
   "cell_type": "code",
   "execution_count": 200,
   "metadata": {
    "collapsed": true
   },
   "outputs": [],
   "source": []
  },
  {
   "cell_type": "code",
   "execution_count": null,
   "metadata": {
    "collapsed": true
   },
   "outputs": [],
   "source": []
  }
 ],
 "metadata": {
  "hide_input": false,
  "kernelspec": {
   "display_name": "Python 3",
   "language": "python",
   "name": "python3"
  },
  "language_info": {
   "codemirror_mode": {
    "name": "ipython",
    "version": 3
   },
   "file_extension": ".py",
   "mimetype": "text/x-python",
   "name": "python",
   "nbconvert_exporter": "python",
   "pygments_lexer": "ipython3",
   "version": "3.6.3"
  },
  "toc": {
   "nav_menu": {},
   "number_sections": true,
   "sideBar": true,
   "skip_h1_title": false,
   "title_cell": "Table of Contents",
   "title_sidebar": "Contents",
   "toc_cell": false,
   "toc_position": {},
   "toc_section_display": true,
   "toc_window_display": false
  }
 },
 "nbformat": 4,
 "nbformat_minor": 2
}
