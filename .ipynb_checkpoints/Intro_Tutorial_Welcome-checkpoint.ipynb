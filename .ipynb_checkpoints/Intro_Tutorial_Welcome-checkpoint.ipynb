{
 "cells": [
  {
   "cell_type": "code",
   "execution_count": 1,
   "metadata": {
    "collapsed": true
   },
   "outputs": [],
   "source": [
    "import sys\n",
    "import os\n",
    "import json\n",
    "import pandas as pd\n",
    "import numpy as np"
   ]
  },
  {
   "cell_type": "code",
   "execution_count": 2,
   "metadata": {
    "collapsed": true
   },
   "outputs": [],
   "source": [
    "import ndex2"
   ]
  },
  {
   "cell_type": "code",
   "execution_count": 3,
   "metadata": {
    "collapsed": true
   },
   "outputs": [],
   "source": [
    "import ipywidgets as widgets\n",
    "from ipywidgets import interact, interactive, fixed, interact_manual\n",
    "import ipywidgets as ipw\n",
    "from IPython.core.display import HTML, display\n",
    "from IPython.display import clear_output"
   ]
  },
  {
   "cell_type": "code",
   "execution_count": 4,
   "metadata": {},
   "outputs": [
    {
     "data": {
      "text/html": [
       "<style> *{margin:0; padding:0;} html, body,              .container{margin:0;!important padding:0;!important}              .container { width:100% !important;}</style>"
      ],
      "text/plain": [
       "<IPython.core.display.HTML object>"
      ]
     },
     "metadata": {},
     "output_type": "display_data"
    }
   ],
   "source": [
    "# Warning: This code changes the layout of the ENTIRE notebook (specifically, removes the margins)\n",
    "# to reverse this feature you must rerun this cell with different numbers\n",
    "display(HTML(\"<style> *{margin:0; padding:0;} html, body, \\\n",
    "             .container{margin:0;!important padding:0;!important} \\\n",
    "             .container { width:100% !important;}</style>\"))"
   ]
  },
  {
   "cell_type": "markdown",
   "metadata": {},
   "source": [
    "<img class=\"img-responsive\" width=\"35%\" src=\"http://www.cytoscape.org/images/cytoscape3_logo.png\" alt=\"logo\">"
   ]
  },
  {
   "cell_type": "markdown",
   "metadata": {
    "collapsed": true
   },
   "source": [
    "# Welcome to Cytoscape!"
   ]
  },
  {
   "cell_type": "markdown",
   "metadata": {},
   "source": [
    "<font color=\"magenta\">**Judoscape**</font> is a [jupyter](http://jupyter.org/index.html) based framework for for easily running cytoscape with ** *no coding knowledge required* **. The entire platform is cloud based so you don't need to download anything, just login and start. Furthermore, sharing scientific results is a breeze. When you're done with this notebook, give it to your colleagues and they can instantly replicate it on <font color=\"magenta\">Judoscape</font>."
   ]
  },
  {
   "cell_type": "markdown",
   "metadata": {},
   "source": [
    "<font color=\"red\">**Before you continue**</font> please watch the tutorial video below to get a better idea of what the <font color=\"magenta\">Judoscape</font> software is and how it works."
   ]
  },
  {
   "cell_type": "markdown",
   "metadata": {},
   "source": [
    "## Video Proposal (July 19, 2018)"
   ]
  },
  {
   "cell_type": "code",
   "execution_count": null,
   "metadata": {
    "collapsed": true
   },
   "outputs": [],
   "source": [
    "HTML(\"\"\"\n",
    "<div class=\"row\"><div class=\"col-xs-12 col-md-offset-3 col-md-6\">\n",
    "<div class=\"embed-responsive embed-responsive-16by9\">\n",
    "  <iframe class=\"embed-responsive-item\" \n",
    "  src='https://www.youtube.com/embed/p34OR7IVZiE'></iframe></div>\n",
    "</div></div>\n",
    "\"\"\")"
   ]
  },
  {
   "cell_type": "markdown",
   "metadata": {},
   "source": [
    "## <font color=\"red\">Old</font> Video Proposal (Feb 20, 2018)"
   ]
  },
  {
   "cell_type": "code",
   "execution_count": 5,
   "metadata": {
    "scrolled": true
   },
   "outputs": [
    {
     "data": {
      "text/html": [
       "\n",
       "<div class=\"row\"><div class=\"col-xs-12 col-md-offset-3 col-md-6\">\n",
       "<div class=\"embed-responsive embed-responsive-16by9\">\n",
       "  <iframe class=\"embed-responsive-item\" \n",
       "  src='https://www.youtube.com/embed/cKzaGvPu7-8'></iframe></div>\n",
       "</div></div>\n"
      ],
      "text/plain": [
       "<IPython.core.display.HTML object>"
      ]
     },
     "execution_count": 5,
     "metadata": {},
     "output_type": "execute_result"
    }
   ],
   "source": [
    "HTML(\"\"\"\n",
    "<div class=\"row\"><div class=\"col-xs-12 col-md-offset-3 col-md-6\">\n",
    "<div class=\"embed-responsive embed-responsive-16by9\">\n",
    "  <iframe class=\"embed-responsive-item\" \n",
    "  src='https://www.youtube.com/embed/cKzaGvPu7-8'></iframe></div>\n",
    "</div></div>\n",
    "\"\"\")"
   ]
  },
  {
   "cell_type": "markdown",
   "metadata": {
    "collapsed": true
   },
   "source": [
    "# Build a Dataset"
   ]
  },
  {
   "cell_type": "markdown",
   "metadata": {},
   "source": [
    "In this section will will choose a dataset to work on. There are **2** ways to create a datast:\n",
    "\n",
    "1. Choose a dataset on this machine from [my_data](./my_data)\n",
    "2. Choose a dataset from NDEx\n",
    "\n",
    "<font color=\"magenta\">**From my_data : **</font>The folder, [my_data](./my_data), contains datasets that you can load into this notebook. You can also upload a dataset from your computer to the [my_data](./my_data) folder. To view new files added to [my_data](./my_data) update the program by running all the cells again.\n",
    "\n",
    "\n",
    "<font color=\"magenta\">** NDEx : **</font> A dataset can be downloaded from the NDEx as well. Type your <font color=\"green\">username</font>, <font color=\"green\">password</font>, and the <font color=\"green\">URL</font> of the NDEx network to download it into this notebook."
   ]
  },
  {
   "cell_type": "code",
   "execution_count": 6,
   "metadata": {
    "collapsed": true
   },
   "outputs": [],
   "source": [
    "# We create the First widget for selecting Data\n",
    "widg1_text = ipw.HTML(\"<h5>Select a dataset from the folder <a href='./my_data'>my_data</a> :</h5>\")\n",
    "files = os.listdir(\"./my_data\")\n",
    "files = [ x for x in files if \".sif\" in x]\n",
    "widg1_select = ipw.Dropdown(options=files, description='Files :')\n",
    "widg1 = ipw.VBox([widg1_text, widg1_select])"
   ]
  },
  {
   "cell_type": "code",
   "execution_count": 7,
   "metadata": {
    "collapsed": true
   },
   "outputs": [],
   "source": [
    "# We create the Second widget for Downloading from a website\n",
    "widg2_text = ipw.HTML(\"<h5>Paste the NDEx URL of the dataset to download :</h5>\")\n",
    "widg2_username = ipw.Text(description='Username')\n",
    "widg2_password = ipw.Text(description='Password')\n",
    "widg2_ndex = ipw.HBox([ widg2_username, widg2_password  ])\n",
    "widg2_url = ipw.Text(description='URL :')\n",
    "widg2 = ipw.VBox([widg2_text, widg2_ndex, widg2_url])"
   ]
  },
  {
   "cell_type": "code",
   "execution_count": 8,
   "metadata": {},
   "outputs": [
    {
     "data": {
      "application/vnd.jupyter.widget-view+json": {
       "model_id": "3c5656dce58a40a6b934d59cdedc1922",
       "version_major": 2,
       "version_minor": 0
      },
      "text/plain": [
       "A Jupyter Widget"
      ]
     },
     "metadata": {},
     "output_type": "display_data"
    }
   ],
   "source": [
    "# We put both widgets into a tab widget and display it\n",
    "tab = ipw.Tab()\n",
    "tab.children = [widg1, widg2]\n",
    "tab.set_title(0, \"my_data Folder\")\n",
    "tab.set_title(1, \"NDEx\")\n",
    "tab"
   ]
  },
  {
   "cell_type": "code",
   "execution_count": 9,
   "metadata": {},
   "outputs": [
    {
     "data": {
      "application/vnd.jupyter.widget-view+json": {
       "model_id": "9748460502764e21b7eac15baa421f90",
       "version_major": 2,
       "version_minor": 0
      },
      "text/plain": [
       "A Jupyter Widget"
      ]
     },
     "metadata": {},
     "output_type": "display_data"
    },
    {
     "data": {
      "text/html": [
       "<hr><font size=4><b style='color: magenta'>Downloaded :</b> <a href='http://www.ndexbio.org/#/network/f1dd6cc3-0007-11e6-b550-06603eb7f303'>This Network</a>  </font>"
      ],
      "text/plain": [
       "<IPython.core.display.HTML object>"
      ]
     },
     "metadata": {},
     "output_type": "display_data"
    }
   ],
   "source": [
    "# We now get the data's filename according to the user's selection from the tab widget\n",
    "data_btn= ipw.Button(description='Get Data',button_style='info', tooltip=\"Use the above box to import data\" )\n",
    "display(data_btn)\n",
    "\n",
    "df, nodes = None, None  \n",
    "def on_get_data_clicked(b):\n",
    "    global df; global nodes; global cx; global data_local  #<-- this is where we put the dataset's dataframe and the node names\n",
    "    clear_output();display(data_btn)  #<-- in case the button was clicked before, we reset output\n",
    "    \n",
    "    if tab.selected_index == 1:  #<--  What to do if data comes from internet\n",
    "        data_local = False\n",
    "        #display(HTML(\"<h4 style='color: red'>This functionality is not complete. Use my_data folder</h4>\"))\n",
    "        url = widg2_url.value.split(\"network/\")[1]\n",
    "        cx = ndex2.create_nice_cx_from_server(server='public.ndexbio.org', username= widg2_username.value, password= widg2_password.value, uuid= url)\n",
    "        display(HTML(\"<hr><font size=4><b style='color: magenta'>Downloaded :</b> <a href='\"+widg2_url.value+\"'>This Network</a>  \"\"</font>\"))\n",
    "    elif( tab.selected_index == 0 ): #<--  What to do if data comes from local folder\n",
    "        data_local = True\n",
    "        filename = widg1_select.value\n",
    "        display(HTML(\"<hr><font size=4><b style='color: magenta'>Using Dataset : </b> \"+filename+\"</font>\"))\n",
    "        df = pd.read_csv(\"./my_data/\"+filename, delim_whitespace=True, header=None) #<-- reading in data\n",
    "        df= pd.DataFrame( df[ (df[0]!='?')&(df[1]!='?')&(df[2]!='?') ])  #<-- remove missing data values\n",
    "        nodes = np.unique( df[0].values.tolist() + df[2].values.tolist() )  #<-- get nodes\n",
    "    \n",
    "data_btn.on_click(on_get_data_clicked)"
   ]
  },
  {
   "cell_type": "markdown",
   "metadata": {
    "collapsed": true,
    "heading_collapsed": true
   },
   "source": [
    "# Visualize the Data"
   ]
  },
  {
   "cell_type": "markdown",
   "metadata": {
    "heading_collapsed": true,
    "hidden": true
   },
   "source": [
    "## Data Summary"
   ]
  },
  {
   "cell_type": "markdown",
   "metadata": {
    "hidden": true
   },
   "source": [
    "Now that you have chosen a dataset, lets look at some basic data features to get a better understanding of what is happening. **Click the button** below to see how many <font color=\"blue\">nodes</font> and  <font color=\"blue\">edges</font> your data contains, and to view the first few datapoints."
   ]
  },
  {
   "cell_type": "code",
   "execution_count": 10,
   "metadata": {
    "hidden": true,
    "scrolled": false
   },
   "outputs": [
    {
     "data": {
      "application/vnd.jupyter.widget-view+json": {
       "model_id": "1a93cb5046044bf3959ffcc6b6f258af",
       "version_major": 2,
       "version_minor": 0
      },
      "text/plain": [
       "A Jupyter Widget"
      ]
     },
     "metadata": {},
     "output_type": "display_data"
    }
   ],
   "source": [
    "# We now get the data's filename according to the user's selection from the tab widget\n",
    "summary_btn= ipw.Button(description='View Summary',button_style='info', tooltip=\"Click for Data Summary\" )\n",
    "display(summary_btn)\n",
    "\n",
    "def on_summary_clicked(b):\n",
    "    clear_output(); display(summary_btn)  #<-- in case the button was clicked before, we reset output\n",
    "    if type(df) == type(None):   #<-- this occures if user didn't click the \"Get Data\" button \n",
    "        display(HTML(\"<h3 style='color: red'>You must First Build a Dataset</h3>\"))\n",
    "    else :\n",
    "        display(HTML(\"<hr><p><b>Number of Nodes : </b>\"+str(len(nodes))+\"</p> \\\n",
    "                      <p><b>Number of Edges : </b>\"+str(len(df))+\"</p>\"))\n",
    "        display(df[0:7])\n",
    "summary_btn.on_click(on_summary_clicked)"
   ]
  },
  {
   "cell_type": "markdown",
   "metadata": {
    "collapsed": true,
    "hidden": true
   },
   "source": [
    "## Create Graph"
   ]
  },
  {
   "cell_type": "markdown",
   "metadata": {
    "hidden": true
   },
   "source": [
    "We will now visualize our dataset using a graph. You can use the tools below to change the <font color=\"blue\">layout</font> of where nodes are placed as well as to change the graph's <font color=\"blue\">color</font>. The  <font color=\"blue\">layout</font> tool is especially useful for examining different characteristics in your data. After you decide the graph's settings, click the button below to **create your graph**."
   ]
  },
  {
   "cell_type": "code",
   "execution_count": 11,
   "metadata": {
    "collapsed": true,
    "hidden": true
   },
   "outputs": [],
   "source": [
    "# We save our graph into an html file and call the html file to create the graph\n",
    "# This is the basic template for the html, we then add the javascript code of the graph to it\n",
    "html = \"\"\"<html>\n",
    "    <head><script src=\"http://blog.js.cytoscape.org/public/demos/getting-started/cytoscape.js\"></script></head>\n",
    "    <style> #cy { width: 100%; height: 100%; position: absolute; top: 0px; left: 0px;} </style>\n",
    "    <body><div id=\"cy\"></div></body>\n",
    "</html>\\n\\n\"\"\""
   ]
  },
  {
   "cell_type": "code",
   "execution_count": 12,
   "metadata": {
    "collapsed": true,
    "hidden": true
   },
   "outputs": [],
   "source": [
    "# Helper Functions: getLayout and getStyle\n",
    "\n",
    "def getLayout(layout): #<-- creates the layout when we create the graph\n",
    "    return \"layout: { name: '\"+layout+\"' }, \\n\"\n",
    "\n",
    "def getStyle( color ): #<-- uses widg_color to create the style (specifically the color) of the graph\n",
    "    return \"style: [ { selector: 'node', style: { 'height': 20, 'width': 20, 'background-color': '\"+color+\"' } },\\n \\\n",
    "{ selector: 'edge', style: { 'width': 5, 'opacity': 0.5, 'line-color': '\"+color+\"'} } ], \\n \""
   ]
  },
  {
   "cell_type": "code",
   "execution_count": 13,
   "metadata": {
    "hidden": true,
    "scrolled": true
   },
   "outputs": [
    {
     "data": {
      "application/vnd.jupyter.widget-view+json": {
       "model_id": "cac74bd3b3cb4ad881cadd94fdc64698",
       "version_major": 2,
       "version_minor": 0
      },
      "text/plain": [
       "A Jupyter Widget"
      ]
     },
     "metadata": {},
     "output_type": "display_data"
    }
   ],
   "source": [
    "# We create the widgets for graph settings\n",
    "widg_layout = ipw.Dropdown(options=['cose','circle','grid','random','breadthfirst'], description='Layout : ')\n",
    "widg_color = ipw.ColorPicker(  description='Color : ', value='gray' )\n",
    "display( ipw.HBox([widg_layout ,widg_color]) )"
   ]
  },
  {
   "cell_type": "code",
   "execution_count": 14,
   "metadata": {
    "collapsed": true,
    "hidden": true
   },
   "outputs": [],
   "source": [
    "js_head = \"<script> var cy = cytoscape({ container: document.getElementById('cy'), \\n\" #<-- starting code\n",
    "js_tail=\"\\n }); </script>\" #<-- ending code"
   ]
  },
  {
   "cell_type": "code",
   "execution_count": 15,
   "metadata": {
    "collapsed": true,
    "hidden": true
   },
   "outputs": [],
   "source": [
    "### Helper Function: getElements(df)\n",
    "# This create the nodes/edges in the correct format for cytoscape.js\n",
    "def getElements(df):\n",
    "    if data_local:\n",
    "        # Add nodes to the js file\n",
    "        js_elements = \"elements: [ \\n\"\n",
    "        for i in nodes:\n",
    "            js_elements += \"{ data: { id: '\"+i+\"'} }, \\n\"\n",
    "\n",
    "        # Add edges to the js file\n",
    "        for i in range(len(df)):\n",
    "            word = df.iloc[i].values\n",
    "            js_elements += \"{data: { id:'\"+str(i)+\"', source:'\"+ str(word[0])+\"', target:'\"+str(word[2])+\"' } }, \\n\"    \n",
    "        js_elements += \"]\\n\"\n",
    "    \n",
    "    else:\n",
    "        # Add nodes to the js file\n",
    "        js_elements = \"elements: [ \\n\"\n",
    "        for key,node in cx.get_nodes() :\n",
    "            js_elements += \"{ data: { id: '\"+str(key)+\"'} }, \\n\"\n",
    "\n",
    "        # Add edges to the js file\n",
    "        for key,edge in cx.get_edges() :\n",
    "            js_elements += \"{data: { id:'\"+str(key)+\"', source:'\"+ str(edge.get_source())+\"', target:'\"+str(edge.get_target())+\"' } }, \\n\"    \n",
    "        js_elements += \"]\\n\"\n",
    "    \n",
    "    return js_elements"
   ]
  },
  {
   "cell_type": "code",
   "execution_count": 16,
   "metadata": {
    "hidden": true,
    "scrolled": false
   },
   "outputs": [
    {
     "data": {
      "application/vnd.jupyter.widget-view+json": {
       "model_id": "8e413be1d462412b931e7114bb8b9c89",
       "version_major": 2,
       "version_minor": 0
      },
      "text/plain": [
       "A Jupyter Widget"
      ]
     },
     "metadata": {},
     "output_type": "display_data"
    }
   ],
   "source": [
    "# We now get the data's filename according to the user's selection from the tab widget\n",
    "graph_btn= ipw.Button(description='Create Graph!',button_style='info', tooltip=\"Click to Create Graph!\" )\n",
    "display(graph_btn)\n",
    "\n",
    "def on_graph_clicked(b):\n",
    "    clear_output(); display(graph_btn)  #<-- in case the button was clicked before, we reset output\n",
    "    \n",
    "    df = False\n",
    "    if type(df) == type(None):   #<-- this occures if user didn't click the \"Get Data\" button \n",
    "        display(HTML(\"<h3 style='color: red'>You must First Build a Dataset</h3>\"))\n",
    "    # This creates the graph!\n",
    "    else : \n",
    "        # Get js templates with corresponding helper functions\n",
    "        js_layout = getLayout( widg_layout.value )\n",
    "        js_style  = getStyle( widg_color.value )\n",
    "        js_elements = getElements(df)\n",
    "           \n",
    "        js = js_head+ js_layout+ js_style+ js_elements+ js_tail #<-- create final js file of graph\n",
    "        with open(\"./source_code/graph.html\",\"w\") as file: #<-- Add html and js to the HTML file\n",
    "            file.write( html+js )\n",
    "        display(HTML(\"\"\"<hr>\n",
    "        <div class=\"embed-responsive embed-responsive-4by3\">\n",
    "          <iframe class=\"embed-responsive-item\" \n",
    "          src='./source_code/graph.html'></iframe>\n",
    "        </div><hr>\n",
    "        \"\"\")) #<-- display the newly created html file\n",
    "\n",
    "graph_btn.on_click(on_graph_clicked)"
   ]
  },
  {
   "cell_type": "markdown",
   "metadata": {
    "heading_collapsed": true
   },
   "source": [
    "# Upload to Ndex"
   ]
  },
  {
   "cell_type": "code",
   "execution_count": 17,
   "metadata": {
    "hidden": true
   },
   "outputs": [
    {
     "data": {
      "application/vnd.jupyter.widget-view+json": {
       "model_id": "c10b218451f64aa3b61bc76844bd3398",
       "version_major": 2,
       "version_minor": 0
      },
      "text/plain": [
       "A Jupyter Widget"
      ]
     },
     "metadata": {},
     "output_type": "display_data"
    }
   ],
   "source": [
    "wUpload_username = ipw.Text(description='Username')\n",
    "wUpload_password = ipw.Text(description='Password')\n",
    "wUpload_name = ipw.Text(description='Model Name')\n",
    "wUpload_ndex = ipw.HBox([ wUpload_username, wUpload_password  ])\n",
    "wUpload = ipw.VBox( [wUpload_ndex, wUpload_name] )\n",
    "wUpload"
   ]
  },
  {
   "cell_type": "code",
   "execution_count": 18,
   "metadata": {
    "hidden": true
   },
   "outputs": [
    {
     "data": {
      "application/vnd.jupyter.widget-view+json": {
       "model_id": "2472a05e8bb04c6f9ec4a4cb6bb931dd",
       "version_major": 2,
       "version_minor": 0
      },
      "text/plain": [
       "A Jupyter Widget"
      ]
     },
     "metadata": {},
     "output_type": "display_data"
    }
   ],
   "source": [
    "upload_btn= ipw.Button(description='Upload',button_style='info', tooltip=\"Fill in the info, then click to upload\" )\n",
    "def upload_model(b):\n",
    "    account = wUpload_username.value\n",
    "    password = wUpload_password.value\n",
    "    name = wUpload_name.value\n",
    "    url=\"http://www.ndexbio.org\"\n",
    "    \n",
    "    cx.set_name( name )\n",
    "    #cx.add_network_attribute(name='description', values= description  ) \n",
    "    \n",
    "    try:\n",
    "        my_ndex= ndex2.client.Ndex2( url, account, password)\n",
    "        my_ndex.update_status()\n",
    "        #print(\"Success.  Please continue.\")\n",
    "    except Exception as inst:\n",
    "        print(\"Could not access account %s with password %s\" % (account, password))\n",
    "        print(inst.args)\n",
    "    \n",
    "    upload_id   = cx.upload_to( url, account, password).split(\"network/\")[1] #<-- \"cx\"  is a global variable\n",
    "    upload_text = \"http://www.ndexbio.org/#/network/\"+upload_id \n",
    "    \n",
    "    display(HTML(\"<hr><font size=4><b style='color: magenta'>Uploaded Network at : </b> <a href='\"+widg2_url.value+\"'>This Location</a>  \"\"</font>\"))\n",
    "    \n",
    "upload_btn.on_click( upload_model )\n",
    "upload_btn"
   ]
  },
  {
   "cell_type": "code",
   "execution_count": 19,
   "metadata": {
    "hidden": true
   },
   "outputs": [
    {
     "data": {
      "text/html": [
       "<p>&nbsp</p><p>&nbsp</p><p>&nbsp</p><p>&nbsp</p><p>&nbsp</p>"
      ],
      "text/plain": [
       "<IPython.core.display.HTML object>"
      ]
     },
     "metadata": {},
     "output_type": "display_data"
    }
   ],
   "source": [
    "# This just adds a little space to the bottom of the notebook\n",
    "display(HTML(\"<p>&nbsp</p><p>&nbsp</p><p>&nbsp</p><p>&nbsp</p><p>&nbsp</p>\"))"
   ]
  }
 ],
 "metadata": {
  "hide_input": false,
  "kernelspec": {
   "display_name": "Python 3",
   "language": "python",
   "name": "python3"
  },
  "language_info": {
   "codemirror_mode": {
    "name": "ipython",
    "version": 3
   },
   "file_extension": ".py",
   "mimetype": "text/x-python",
   "name": "python",
   "nbconvert_exporter": "python",
   "pygments_lexer": "ipython3",
   "version": "3.6.3"
  },
  "toc": {
   "nav_menu": {},
   "number_sections": true,
   "sideBar": true,
   "skip_h1_title": false,
   "title_cell": "Table of Contents",
   "title_sidebar": "Contents",
   "toc_cell": false,
   "toc_position": {},
   "toc_section_display": true,
   "toc_window_display": false
  }
 },
 "nbformat": 4,
 "nbformat_minor": 2
}
