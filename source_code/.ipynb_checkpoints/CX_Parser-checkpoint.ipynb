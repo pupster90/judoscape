{
 "cells": [
  {
   "cell_type": "markdown",
   "metadata": {},
   "source": [
    "<font size=8 face=\"courier\">CxParser</font>"
   ]
  },
  {
   "cell_type": "markdown",
   "metadata": {},
   "source": [
    "* This class is used to create a Cytoscape ready file from  a CX file.\n",
    "* This principle conern is managing the files \"Style\" Parameter"
   ]
  },
  {
   "cell_type": "markdown",
   "metadata": {},
   "source": [
    "# <font color=\"magenta\">Class: CxParser</font> "
   ]
  },
  {
   "cell_type": "code",
   "execution_count": 7,
   "metadata": {
    "collapsed": true
   },
   "outputs": [],
   "source": [
    "CxParser = type(\"CxParser\",(),{})()"
   ]
  },
  {
   "cell_type": "markdown",
   "metadata": {},
   "source": [
    "# Default  Style"
   ]
  },
  {
   "cell_type": "markdown",
   "metadata": {},
   "source": [
    " ** Code Note: **   \n",
    "     * NB:\n",
    "     * setting \"curve-style\" to \"bezier\" for the \"edge\" selector in Cytoscape.js 3.2.9 shows\n",
    "     * all multiple edges between two nodes separately;\n",
    "     * in other words, if you do not specify 'curve-style': 'bezier', then multiple edges\n",
    "     * between any two nodes will be shown on top of one another creating a deceptive visibility\n",
    "     * of only one edge ...\n"
   ]
  },
  {
   "cell_type": "code",
   "execution_count": 3,
   "metadata": {},
   "outputs": [],
   "source": [
    "DEF_VISUAL_STYLE = \"\"\"\n",
    "    {\n",
    "        selector: 'node',\n",
    "        style: {\n",
    "            'background-color': '#f6eecb' ,\n",
    "            'background-opacity': 0.8,\n",
    "            'width': '40px',\n",
    "            'height': '40px',\n",
    "            'label': 'data(name)',\n",
    "            'font-family': 'Roboto, sans-serif'\n",
    "        }\n",
    "    },\n",
    "    {\n",
    "        selector: 'edge',\n",
    "        style: {\n",
    "            'line-color':  '#75736c',\n",
    "            'width': '2px',\n",
    "            'font-family': 'Roboto, sans-serif',\n",
    "            'text-opacity': 0.8,\n",
    "            'curve-style': 'bezier'\n",
    "        }\n",
    "    },\n",
    "    {\n",
    "        selector: 'node:selected',\n",
    "        style: {\n",
    "            'color': '#fb1605',\n",
    "            'background-color': 'yellow'\n",
    "        }\n",
    "    },\n",
    "    {\n",
    "        selector: 'edge:selected',\n",
    "        style: {\n",
    "            'label': 'data(interaction)',\n",
    "            'color' : '#fb1605',\n",
    "            'line-color': 'yellow',\n",
    "            'width': 6\n",
    "        }\n",
    "    }\n",
    "\"\"\""
   ]
  },
  {
   "cell_type": "code",
   "execution_count": 9,
   "metadata": {
    "collapsed": true
   },
   "outputs": [],
   "source": [
    "CxParser.DEF_VISUAL_STYLE = DEF_VISUAL_STYLE"
   ]
  },
  {
   "cell_type": "markdown",
   "metadata": {},
   "source": [
    "# End"
   ]
  },
  {
   "cell_type": "code",
   "execution_count": 11,
   "metadata": {},
   "outputs": [
    {
     "name": "stdout",
     "output_type": "stream",
     "text": [
      "loaded object: CxParser\n"
     ]
    }
   ],
   "source": [
    "print(\"loaded object: CxParser\")"
   ]
  },
  {
   "cell_type": "code",
   "execution_count": null,
   "metadata": {
    "collapsed": true
   },
   "outputs": [],
   "source": []
  }
 ],
 "metadata": {
  "hide_input": false,
  "kernelspec": {
   "display_name": "Python 3",
   "language": "python",
   "name": "python3"
  },
  "language_info": {
   "codemirror_mode": {
    "name": "ipython",
    "version": 3
   },
   "file_extension": ".py",
   "mimetype": "text/x-python",
   "name": "python",
   "nbconvert_exporter": "python",
   "pygments_lexer": "ipython3",
   "version": "3.6.3"
  },
  "toc": {
   "nav_menu": {},
   "number_sections": true,
   "sideBar": true,
   "skip_h1_title": false,
   "title_cell": "Table of Contents",
   "title_sidebar": "Contents",
   "toc_cell": false,
   "toc_position": {},
   "toc_section_display": true,
   "toc_window_display": false
  }
 },
 "nbformat": 4,
 "nbformat_minor": 2
}
