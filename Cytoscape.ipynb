{
 "cells": [
  {
   "cell_type": "code",
   "execution_count": 1,
   "metadata": {},
   "outputs": [
    {
     "data": {
      "text/html": [
       "<script>var py = Jupyter.notebook.kernel</script>"
      ],
      "text/plain": [
       "<IPython.core.display.HTML object>"
      ]
     },
     "metadata": {},
     "output_type": "display_data"
    },
    {
     "data": {
      "text/html": [
       "\n",
       "<style>\n",
       "*{margin:0; padding:0;} html, body,              .container{margin:0;!important padding:0;!important}              .container { width:100% !important;}\n",
       "\n",
       "div.text_cell_render { /* Customize text cells */\n",
       "    font-size:1.1em;\n",
       "    line-height:1.1em;\n",
       "}\n",
       "\n",
       "</style>\n"
      ],
      "text/plain": [
       "<IPython.core.display.HTML object>"
      ]
     },
     "metadata": {},
     "output_type": "display_data"
    }
   ],
   "source": [
    "%run \"Source Code/Setup Notebook.ipynb\""
   ]
  },
  {
   "cell_type": "markdown",
   "metadata": {},
   "source": [
    "<img class=\"img-responsive\" width=\"35%\" src=\"http://www.cytoscape.org/images/cytoscape3_logo.png\" alt=\"logo\">"
   ]
  },
  {
   "cell_type": "markdown",
   "metadata": {
    "collapsed": true
   },
   "source": [
    "# Welcome to Cytoscape!"
   ]
  },
  {
   "cell_type": "markdown",
   "metadata": {},
   "source": [
    "* <font color=\"orange\">**Cytoscape**</font> is a [jupyter](http://jupyter.org/index.html) based framework to view graphical networks, ** *no coding knowledge required* **.\n",
    "* The entire platform is cloud based so you don't need to download anything, just login and start.\n",
    "* Furthermore, sharing scientific results is a breeze. When you're done with this notebook, give it to your colleagues and they can instantly replicate it on <font color=\"orange\">Cytoscape</font>."
   ]
  },
  {
   "cell_type": "markdown",
   "metadata": {},
   "source": [
    "<font color=\"red\">**Before you continue**</font> please watch the tutorial video below to get a better idea of what the <font color=\"orange\">Cytoscape</font> software is and how it works."
   ]
  },
  {
   "cell_type": "markdown",
   "metadata": {},
   "source": [
    "## Video Proposal <small>**(July 19, 2018)**</small>"
   ]
  },
  {
   "cell_type": "code",
   "execution_count": 7,
   "metadata": {},
   "outputs": [
    {
     "data": {
      "text/html": [
       "\n",
       "<div class=\"row\"><div class=\"col-xs-12 col-md-offset-3 col-md-6\">\n",
       "<div class=\"embed-responsive embed-responsive-16by9\">\n",
       "  <iframe class=\"embed-responsive-item\" \n",
       "  src='https://www.youtube.com/embed/p34OR7IVZiE'></iframe></div>\n",
       "</div></div>\n"
      ],
      "text/plain": [
       "<IPython.core.display.HTML object>"
      ]
     },
     "execution_count": 7,
     "metadata": {},
     "output_type": "execute_result"
    }
   ],
   "source": [
    "HTML(\"\"\"\n",
    "<div class=\"row\"><div class=\"col-xs-12 col-md-offset-3 col-md-6\">\n",
    "<div class=\"embed-responsive embed-responsive-16by9\">\n",
    "  <iframe class=\"embed-responsive-item\" \n",
    "  src='https://www.youtube.com/embed/p34OR7IVZiE'></iframe></div>\n",
    "</div></div>\n",
    "\"\"\")"
   ]
  },
  {
   "cell_type": "markdown",
   "metadata": {},
   "source": [
    "## <font color=\"red\">Old</font> Video Proposal <small>**(Feb 20, 2018)**</small>"
   ]
  },
  {
   "cell_type": "code",
   "execution_count": 8,
   "metadata": {
    "scrolled": true
   },
   "outputs": [
    {
     "data": {
      "text/html": [
       "\n",
       "<div class=\"row\"><div class=\"col-xs-12 col-md-offset-3 col-md-6\">\n",
       "<div class=\"embed-responsive embed-responsive-16by9\">\n",
       "  <iframe class=\"embed-responsive-item\" \n",
       "  src='https://www.youtube.com/embed/cKzaGvPu7-8'></iframe></div>\n",
       "</div></div>\n"
      ],
      "text/plain": [
       "<IPython.core.display.HTML object>"
      ]
     },
     "execution_count": 8,
     "metadata": {},
     "output_type": "execute_result"
    }
   ],
   "source": [
    "HTML(\"\"\"\n",
    "<div class=\"row\"><div class=\"col-xs-12 col-md-offset-3 col-md-6\">\n",
    "<div class=\"embed-responsive embed-responsive-16by9\">\n",
    "  <iframe class=\"embed-responsive-item\" \n",
    "  src='https://www.youtube.com/embed/cKzaGvPu7-8'></iframe></div>\n",
    "</div></div>\n",
    "\"\"\")"
   ]
  },
  {
   "cell_type": "markdown",
   "metadata": {
    "collapsed": true
   },
   "source": [
    "# Create A  Network"
   ]
  },
  {
   "cell_type": "markdown",
   "metadata": {},
   "source": [
    "In this section will will choose a dataset to work on. There are **2** ways to create a datast:\n",
    "\n",
    "1. Choose a dataset on this machine from [my_data](./my_data)\n",
    "2. Choose a dataset from **NDEx**\n",
    "\n",
    "<font color=\"magenta\">**From my_data : **</font>The folder, [my_data](./my_data), contains datasets that you can load into this notebook. You can also upload a dataset from your computer to the [my_data](./my_data) folder. To view new files added to [my_data](./my_data) update the program by running all the cells again.\n",
    "\n",
    "\n",
    "<font color=\"magenta\">** NDEx : **</font> A dataset can be downloaded from the NDEx as well. Type your <font color=\"green\">username</font>, <font color=\"green\">password</font>, and the <font color=\"green\">URL</font> of the NDEx network to download it."
   ]
  },
  {
   "cell_type": "code",
   "execution_count": 9,
   "metadata": {},
   "outputs": [
    {
     "data": {
      "application/vnd.jupyter.widget-view+json": {
       "model_id": "a22460801ac44b1aa5564b6e622840bd",
       "version_major": 2,
       "version_minor": 0
      },
      "text/plain": [
       "Tab(children=(HTML(value='\\n<h4>Click <font color=\"blue\">Create</font> to start a new graph <font color=\"red\">…"
      ]
     },
     "metadata": {},
     "output_type": "display_data"
    },
    {
     "data": {
      "text/html": [
       "<div class=\"row\"><div class=\"col-6\">"
      ],
      "text/plain": [
       "<IPython.core.display.HTML object>"
      ]
     },
     "metadata": {},
     "output_type": "display_data"
    },
    {
     "data": {
      "application/vnd.jupyter.widget-view+json": {
       "model_id": "73936ff875ed4cedb7067bf7b778e324",
       "version_major": 2,
       "version_minor": 0
      },
      "text/plain": [
       "Button(button_style='info', description='Create', style=ButtonStyle(), tooltip='Use the above box to import da…"
      ]
     },
     "metadata": {},
     "output_type": "display_data"
    },
    {
     "data": {
      "text/html": [
       "</div></div>"
      ],
      "text/plain": [
       "<IPython.core.display.HTML object>"
      ]
     },
     "metadata": {},
     "output_type": "display_data"
    }
   ],
   "source": [
    "%run \"Source Code/Create Network.ipynb\""
   ]
  },
  {
   "cell_type": "markdown",
   "metadata": {
    "collapsed": true
   },
   "source": [
    "# Visualize "
   ]
  },
  {
   "cell_type": "code",
   "execution_count": null,
   "metadata": {},
   "outputs": [],
   "source": []
  },
  {
   "cell_type": "code",
   "execution_count": null,
   "metadata": {},
   "outputs": [],
   "source": []
  },
  {
   "cell_type": "code",
   "execution_count": 19,
   "metadata": {},
   "outputs": [],
   "source": []
  },
  {
   "cell_type": "code",
   "execution_count": null,
   "metadata": {},
   "outputs": [],
   "source": []
  },
  {
   "cell_type": "markdown",
   "metadata": {},
   "source": [
    "#  <font color=\"lightBlue\">Old Visualize</font>"
   ]
  },
  {
   "cell_type": "markdown",
   "metadata": {},
   "source": [
    "## Data Summary"
   ]
  },
  {
   "cell_type": "markdown",
   "metadata": {},
   "source": [
    "Now that you have chosen a dataset, lets look at some basic data features to get a better understanding of what is happening. **Click the button** below to see how many <font color=\"blue\">nodes</font> and  <font color=\"blue\">edges</font> your data contains, and to view the first few datapoints."
   ]
  },
  {
   "cell_type": "code",
   "execution_count": 11,
   "metadata": {
    "scrolled": false
   },
   "outputs": [
    {
     "data": {
      "application/vnd.jupyter.widget-view+json": {
       "model_id": "52653e5c3e9d40e5b7af3cda4d902a28",
       "version_major": 2,
       "version_minor": 0
      },
      "text/plain": [
       "A Jupyter Widget"
      ]
     },
     "metadata": {},
     "output_type": "display_data"
    }
   ],
   "source": [
    "# We now get the data's filename according to the user's selection from the tab widget\n",
    "summary_btn= ipw.Button(description='View Summary',button_style='info', tooltip=\"Click for Data Summary\" )\n",
    "display(summary_btn)\n",
    "\n",
    "def on_summary_clicked(b):\n",
    "    clear_output(); display(summary_btn)  #<-- in case the button was clicked before, we reset output\n",
    "    if type(df) == type(None):   #<-- this occures if user didn't click the \"Get Data\" button \n",
    "        display(HTML(\"<h3 style='color: red'>You must First Build a Dataset</h3>\"))\n",
    "    else :\n",
    "        display(HTML(\"<hr><p><b>Number of Nodes : </b>\"+str(len(nodes))+\"</p> \\\n",
    "                      <p><b>Number of Edges : </b>\"+str(len(df))+\"</p>\"))\n",
    "        display(df[0:7])\n",
    "summary_btn.on_click(on_summary_clicked)"
   ]
  },
  {
   "cell_type": "markdown",
   "metadata": {
    "collapsed": true
   },
   "source": [
    "## Create Graph"
   ]
  },
  {
   "cell_type": "markdown",
   "metadata": {},
   "source": [
    "We will now visualize our dataset using a graph. You can use the tools below to change the <font color=\"blue\">layout</font> of where nodes are placed as well as to change the graph's <font color=\"blue\">color</font>. The  <font color=\"blue\">layout</font> tool is especially useful for examining different characteristics in your data. After you decide the graph's settings, click the button below to **create your graph**."
   ]
  },
  {
   "cell_type": "code",
   "execution_count": 12,
   "metadata": {
    "collapsed": true
   },
   "outputs": [],
   "source": [
    "# We save our graph into an html file and call the html file to create the graph\n",
    "# This is the basic template for the html, we then add the javascript code of the graph to it\n",
    "html = \"\"\"<html>\n",
    "    <head><script src=\"http://blog.js.cytoscape.org/public/demos/getting-started/cytoscape.js\"></script></head>\n",
    "    <style> #cy { width: 100%; height: 100%; position: absolute; top: 0px; left: 0px;} </style>\n",
    "    <body><div id=\"cy\"></div></body>\n",
    "</html>\\n\\n\"\"\""
   ]
  },
  {
   "cell_type": "code",
   "execution_count": 13,
   "metadata": {
    "collapsed": true
   },
   "outputs": [],
   "source": [
    "# Helper Functions: getLayout and getStyle\n",
    "\n",
    "def getLayout(layout): #<-- creates the layout when we create the graph\n",
    "    return \"layout: { name: '\"+layout+\"' }, \\n\"\n",
    "\n",
    "def getStyle( color ): #<-- uses widg_color to create the style (specifically the color) of the graph\n",
    "    return \"style: [ { selector: 'node', style: { 'height': 20, 'width': 20, 'background-color': '\"+color+\"' } },\\n \\\n",
    "{ selector: 'edge', style: { 'width': 5, 'opacity': 0.5, 'line-color': '\"+color+\"'} } ], \\n \""
   ]
  },
  {
   "cell_type": "code",
   "execution_count": 14,
   "metadata": {
    "scrolled": true
   },
   "outputs": [
    {
     "data": {
      "application/vnd.jupyter.widget-view+json": {
       "model_id": "8f5f2ee248b545c9867e8ae6f584e7ca",
       "version_major": 2,
       "version_minor": 0
      },
      "text/plain": [
       "A Jupyter Widget"
      ]
     },
     "metadata": {},
     "output_type": "display_data"
    }
   ],
   "source": [
    "# We create the widgets for graph settings\n",
    "widg_layout = ipw.Dropdown(options=['cose','circle','grid','random','breadthfirst'], description='Layout : ')\n",
    "widg_color = ipw.ColorPicker(  description='Color : ', value='gray' )\n",
    "display( ipw.HBox([widg_layout ,widg_color]) )"
   ]
  },
  {
   "cell_type": "code",
   "execution_count": 15,
   "metadata": {
    "collapsed": true
   },
   "outputs": [],
   "source": [
    "js_head = \"<script> var cy = cytoscape({ container: document.getElementById('cy'), \\n\" #<-- starting code\n",
    "js_tail=\"\\n }); </script>\" #<-- ending code"
   ]
  },
  {
   "cell_type": "code",
   "execution_count": 16,
   "metadata": {
    "collapsed": true
   },
   "outputs": [],
   "source": [
    "### Helper Function: getElements(df)\n",
    "# This create the nodes/edges in the correct format for cytoscape.js\n",
    "def getElements(df):\n",
    "    if data_local:\n",
    "        # Add nodes to the js file\n",
    "        js_elements = \"elements: [ \\n\"\n",
    "        for i in nodes:\n",
    "            js_elements += \"{ data: { id: '\"+i+\"'} }, \\n\"\n",
    "\n",
    "        # Add edges to the js file\n",
    "        for i in range(len(df)):\n",
    "            word = df.iloc[i].values\n",
    "            js_elements += \"{data: { id:'\"+str(i)+\"', source:'\"+ str(word[0])+\"', target:'\"+str(word[2])+\"' } }, \\n\"    \n",
    "        js_elements += \"]\\n\"\n",
    "    \n",
    "    else:\n",
    "        # Add nodes to the js file\n",
    "        js_elements = \"elements: [ \\n\"\n",
    "        for key,node in cx.get_nodes() :\n",
    "            js_elements += \"{ data: { id: '\"+str(key)+\"'} }, \\n\"\n",
    "\n",
    "        # Add edges to the js file\n",
    "        for key,edge in cx.get_edges() :\n",
    "            js_elements += \"{data: { id:'\"+str(key)+\"', source:'\"+ str(edge.get_source())+\"', target:'\"+str(edge.get_target())+\"' } }, \\n\"    \n",
    "        js_elements += \"]\\n\"\n",
    "    \n",
    "    return js_elements"
   ]
  },
  {
   "cell_type": "code",
   "execution_count": 17,
   "metadata": {
    "cell_style": "center",
    "scrolled": true
   },
   "outputs": [
    {
     "data": {
      "application/vnd.jupyter.widget-view+json": {
       "model_id": "7f87cd20c1b949b4806e8b331d76fb09",
       "version_major": 2,
       "version_minor": 0
      },
      "text/plain": [
       "A Jupyter Widget"
      ]
     },
     "metadata": {},
     "output_type": "display_data"
    },
    {
     "data": {
      "text/html": [
       "<hr>\n",
       "        <div class=\"embed-responsive embed-responsive-4by3\">\n",
       "          <iframe class=\"embed-responsive-item\" \n",
       "          src='./source_code/graph.html'></iframe>\n",
       "        </div><hr>\n",
       "        "
      ],
      "text/plain": [
       "<IPython.core.display.HTML object>"
      ]
     },
     "metadata": {},
     "output_type": "display_data"
    }
   ],
   "source": [
    "# We now get the data's filename according to the user's selection from the tab widget\n",
    "graph_btn= ipw.Button(description='Create Graph!',button_style='info', tooltip=\"Click to Create Graph!\" )\n",
    "display(graph_btn)\n",
    "\n",
    "def on_graph_clicked(b):\n",
    "    clear_output(); display(graph_btn)  #<-- in case the button was clicked before, we reset output\n",
    "    \n",
    "    df = False\n",
    "    if type(df) == type(None):   #<-- this occures if user didn't click the \"Get Data\" button \n",
    "        display(HTML(\"<h3 style='color: red'>You must First Build a Dataset</h3>\"))\n",
    "    # This creates the graph!\n",
    "    else : \n",
    "        # Get js templates with corresponding helper functions\n",
    "        js_layout = getLayout( widg_layout.value )\n",
    "        js_style  = getStyle( widg_color.value )\n",
    "        js_elements = getElements(df)\n",
    "           \n",
    "        js = js_head+ js_layout+ js_style+ js_elements+ js_tail #<-- create final js file of graph\n",
    "        with open(\"./source_code/graph.html\",\"w\") as file: #<-- Add html and js to the HTML file\n",
    "            file.write( html+js )\n",
    "        display(HTML(\"\"\"<hr>\n",
    "        <div class=\"embed-responsive embed-responsive-4by3\">\n",
    "          <iframe class=\"embed-responsive-item\" \n",
    "          src='./source_code/graph.html'></iframe>\n",
    "        </div><hr>\n",
    "        \"\"\")) #<-- display the newly created html file\n",
    "\n",
    "graph_btn.on_click(on_graph_clicked)"
   ]
  },
  {
   "cell_type": "markdown",
   "metadata": {},
   "source": [
    "# Save / Export"
   ]
  },
  {
   "cell_type": "code",
   "execution_count": 3,
   "metadata": {},
   "outputs": [
    {
     "data": {
      "application/vnd.jupyter.widget-view+json": {
       "model_id": "f157308fa94b448d90c8dc14e92b2f74",
       "version_major": 2,
       "version_minor": 0
      },
      "text/plain": [
       "VBox(children=(HBox(children=(Text(value='', description='Username'), Password(description='Password :'))), Te…"
      ]
     },
     "metadata": {},
     "output_type": "display_data"
    }
   ],
   "source": [
    "wUpload_username = ipw.Text(description='Username')\n",
    "wUpload_password = ipw.Password(description='Password :')\n",
    "wUpload_name = ipw.Text(description='Model Name')\n",
    "wUpload_ndex = ipw.HBox([ wUpload_username, wUpload_password  ])\n",
    "wUpload = ipw.VBox( [wUpload_ndex, wUpload_name] )\n",
    "wUpload"
   ]
  },
  {
   "cell_type": "code",
   "execution_count": 19,
   "metadata": {},
   "outputs": [
    {
     "data": {
      "application/vnd.jupyter.widget-view+json": {
       "model_id": "45e4da31ed414622a83a5ddd8fe8b2c1",
       "version_major": 2,
       "version_minor": 0
      },
      "text/plain": [
       "A Jupyter Widget"
      ]
     },
     "metadata": {},
     "output_type": "display_data"
    }
   ],
   "source": [
    "upload_btn= ipw.Button(description='Upload',button_style='info', tooltip=\"Fill in the info, then click to upload\" )\n",
    "def upload_model(b):\n",
    "    account = wUpload_username.value\n",
    "    password = wUpload_password.value\n",
    "    name = wUpload_name.value\n",
    "    url=\"http://www.ndexbio.org\"\n",
    "    \n",
    "    cx.set_name( name )\n",
    "    #cx.add_network_attribute(name='description', values= description  ) \n",
    "    \n",
    "    try:\n",
    "        my_ndex= ndex2.client.Ndex2( url, account, password)\n",
    "        my_ndex.update_status()\n",
    "        #print(\"Success.  Please continue.\")\n",
    "    except Exception as inst:\n",
    "        print(\"Could not access account %s with password %s\" % (account, password))\n",
    "        print(inst.args)\n",
    "    \n",
    "    upload_id   = cx.upload_to( url, account, password).split(\"network/\")[1] #<-- \"cx\"  is a global variable\n",
    "    upload_text = \"http://www.ndexbio.org/#/network/\"+upload_id \n",
    "    \n",
    "    display(HTML(\"<hr><font size=4><b style='color: magenta'>Uploaded Network at : </b> <a href='\"+widg2_url.value+\"'>This Location</a>  \"\"</font>\"))\n",
    "    \n",
    "upload_btn.on_click( upload_model )\n",
    "upload_btn"
   ]
  },
  {
   "cell_type": "code",
   "execution_count": 17,
   "metadata": {},
   "outputs": [
    {
     "data": {
      "text/html": [
       "<p>&nbsp</p><p>&nbsp</p><p>&nbsp</p><p>&nbsp</p><p>&nbsp</p>"
      ],
      "text/plain": [
       "<IPython.core.display.HTML object>"
      ]
     },
     "metadata": {},
     "output_type": "display_data"
    }
   ],
   "source": [
    "# This just adds a little space to the bottom of the notebook\n",
    "display(HTML(\"<p>&nbsp</p><p>&nbsp</p><p>&nbsp</p><p>&nbsp</p><p>&nbsp</p>\"))"
   ]
  },
  {
   "cell_type": "code",
   "execution_count": null,
   "metadata": {},
   "outputs": [],
   "source": []
  }
 ],
 "metadata": {
  "hide_input": false,
  "kernelspec": {
   "display_name": "Python 3",
   "language": "python",
   "name": "python3"
  },
  "language_info": {
   "codemirror_mode": {
    "name": "ipython",
    "version": 3
   },
   "file_extension": ".py",
   "mimetype": "text/x-python",
   "name": "python",
   "nbconvert_exporter": "python",
   "pygments_lexer": "ipython3",
   "version": "3.6.5"
  },
  "toc": {
   "base_numbering": 1,
   "nav_menu": {},
   "number_sections": true,
   "sideBar": true,
   "skip_h1_title": false,
   "title_cell": "Table of Contents",
   "title_sidebar": "Contents",
   "toc_cell": false,
   "toc_position": {},
   "toc_section_display": true,
   "toc_window_display": false
  },
  "varInspector": {
   "cols": {
    "lenName": 16,
    "lenType": 16,
    "lenVar": 40
   },
   "kernels_config": {
    "python": {
     "delete_cmd_postfix": "",
     "delete_cmd_prefix": "del ",
     "library": "var_list.py",
     "varRefreshCmd": "print(var_dic_list())"
    },
    "r": {
     "delete_cmd_postfix": ") ",
     "delete_cmd_prefix": "rm(",
     "library": "var_list.r",
     "varRefreshCmd": "cat(var_dic_list()) "
    }
   },
   "types_to_exclude": [
    "module",
    "function",
    "builtin_function_or_method",
    "instance",
    "_Feature"
   ],
   "window_display": false
  }
 },
 "nbformat": 4,
 "nbformat_minor": 2
}
